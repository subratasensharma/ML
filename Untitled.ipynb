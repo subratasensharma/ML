{
 "cells": [
  {
   "cell_type": "code",
   "execution_count": 1,
   "metadata": {},
   "outputs": [],
   "source": [
    "import os\n",
    "import sys\n",
    "import scipy.io\n",
    "import scipy.misc\n",
    "import matplotlib.pyplot as plt\n",
    "from matplotlib.pyplot import imshow\n",
    "from PIL import Image\n",
    "#from nst_utils import *\n",
    "import numpy as np\n",
    "import tensorflow as tf\n",
    "\n",
    "%matplotlib inline"
   ]
  },
  {
   "cell_type": "code",
   "execution_count": 24,
   "metadata": {},
   "outputs": [],
   "source": [
    "def gram_matrix(A):\n",
    "    \"\"\"\n",
    "    Argument:\n",
    "    A -- matrix of shape (n_C, n_H*n_W)\n",
    "    \n",
    "    Returns:\n",
    "    GA -- Gram matrix of A, of shape (n_C, n_C)\n",
    "    \"\"\"\n",
    "    \n",
    "    ### START CODE HERE ### (≈1 line)\n",
    "    B = tf.transpose(A)\n",
    "    C = tf.transpose(A)\n",
    "    #GA = tf.matmul(A, B) # '*' is elementwise mul in numpy\n",
    "    ### END CODE HERE ###\n",
    "    \n",
    "    return GA, B, C"
   ]
  },
  {
   "cell_type": "code",
   "execution_count": 27,
   "metadata": {},
   "outputs": [
    {
     "name": "stdout",
     "output_type": "stream",
     "text": [
      "A = [[[ 5.869359    0.35131246  7.4429107 ]\n",
      "  [ 2.532115   -1.5506787   3.0952284 ]]]\n",
      "============================\n",
      "B = [[[-8.255117  ]\n",
      "  [ 2.3930764 ]]\n",
      "\n",
      " [[ 4.433319  ]\n",
      "  [ 0.66658956]]\n",
      "\n",
      " [[ 4.640399  ]\n",
      "  [-3.6729012 ]]]\n",
      "============================\n",
      "C = [[[ 3.8788388]\n",
      "  [-1.0944896]]\n",
      "\n",
      " [[ 2.8397546]\n",
      "  [ 2.0957155]]\n",
      "\n",
      " [[ 2.3612084]\n",
      "  [-0.9859493]]]\n",
      "============================\n",
      "A = [[[ 6.17011    1.0414442  4.635127 ]\n",
      "  [-2.4783282 -1.11432   -2.2589767]]]\n"
     ]
    }
   ],
   "source": [
    "tf.reset_default_graph()\n",
    "\n",
    "with tf.Session() as test:\n",
    "    #tf.set_random_seed(0)\n",
    "    A = tf.random_normal([1, 2, 3], mean=1, stddev=4)\n",
    "    # A = tf.random_normal([1, 2*1], mean=1, stddev=4)\n",
    "    #A = tf.random_uniform([3, 2*1])\n",
    "    #A = tf.constant([[1, 2, 3], [4, 5, 6]])\n",
    "    GA, B,C = gram_matrix(A)\n",
    "    print(\"A = \" + str(A.eval()))\n",
    "    print(\"============================\")\n",
    "    print(\"B = \" + str(B.eval()))\n",
    "    print(\"============================\")\n",
    "    print(\"C = \" + str(C.eval()))\n",
    "    print(\"============================\")\n",
    "    print(\"A = \" + str(A.eval()))\n"
   ]
  },
  {
   "cell_type": "code",
   "execution_count": 17,
   "metadata": {},
   "outputs": [
    {
     "name": "stdout",
     "output_type": "stream",
     "text": [
      "A = [[1 2]\n",
      " [3 4]\n",
      " [5 6]]\n",
      "============================\n",
      "B = [[1 3 5]\n",
      " [2 4 6]]\n",
      "============================\n",
      "GA = [[ 5 11 17]\n",
      " [11 25 39]\n",
      " [17 39 61]]\n"
     ]
    }
   ],
   "source": [
    "tf.reset_default_graph()\n",
    "\n",
    "with tf.Session() as test:\n",
    "    tf.set_random_seed(1)\n",
    "    # A = tf.random_normal([3, 2*1], mean=1, stddev=4)\n",
    "    #A = tf.random_normal([1, 2*1], mean=1, stddev=4)\n",
    "    A = tf.constant([[1, 2], [3, 4], [5, 6]])\n",
    "    GA, B, C = gram_matrix(A)\n",
    "    \n",
    "    print(\"A = \" + str(A.eval()))\n",
    "    print(\"============================\")\n",
    "    print(\"B = \" + str(B.eval()))\n",
    "    print(\"============================\")\n",
    "    print(\"GA = \" + str(GA.eval()))"
   ]
  },
  {
   "cell_type": "code",
   "execution_count": 13,
   "metadata": {},
   "outputs": [],
   "source": [
    "from gensim.models import ldamodel\n",
    "\n",
    "from gensim import corpora\n",
    "\n"
   ]
  },
  {
   "cell_type": "code",
   "execution_count": 15,
   "metadata": {},
   "outputs": [
    {
     "name": "stdout",
     "output_type": "stream",
     "text": [
      "[['Sugar', 'is', 'bad', 'to', 'consume.', 'My', 'sister', 'likes', 'to', 'have', 'sugar,', 'but', 'not', 'my', 'father.'], ['My', 'father', 'spends', 'a', 'lot', 'of', 'time', 'driving', 'my', 'sister', 'around', 'to', 'dance', 'practice.'], ['Doctors', 'suggest', 'that', 'driving', 'may', 'cause', 'increased', 'stress', 'and', 'blood', 'pressure.']]\n"
     ]
    }
   ],
   "source": [
    "doc1 = \"Sugar is bad to consume. My sister likes to have sugar, but not my father.\" \n",
    "doc2 = \"My father spends a lot of time driving my sister around to dance practice.\"\n",
    "doc3 = \"Doctors suggest that driving may cause increased stress and blood pressure.\"\n",
    "doc_complete = [doc1, doc2, doc3]\n",
    "doc_clean = [doc.split() for doc in doc_complete]\n",
    "print(doc_clean)"
   ]
  },
  {
   "cell_type": "code",
   "execution_count": 17,
   "metadata": {},
   "outputs": [
    {
     "name": "stdout",
     "output_type": "stream",
     "text": [
      "[(0, '0.053*\"driving\" + 0.053*\"my\" + 0.053*\"My\" + 0.053*\"sister\" + 0.053*\"father\" + 0.053*\"around\" + 0.053*\"a\" + 0.053*\"time\" + 0.053*\"spends\" + 0.053*\"lot\"'), (1, '0.060*\"driving\" + 0.060*\"cause\" + 0.060*\"Doctors\" + 0.060*\"and\" + 0.060*\"blood\" + 0.060*\"may\" + 0.060*\"increased\" + 0.060*\"suggest\" + 0.060*\"stress\" + 0.060*\"that\"'), (2, '0.089*\"to\" + 0.051*\"My\" + 0.051*\"sister\" + 0.051*\"my\" + 0.051*\"is\" + 0.051*\"sugar,\" + 0.051*\"not\" + 0.051*\"Sugar\" + 0.051*\"likes\" + 0.051*\"bad\"')]\n"
     ]
    }
   ],
   "source": [
    "# Creating the term dictionary of our corpus, where every unique term is assigned an index.  \n",
    "dictionary = corpora.Dictionary(doc_clean)\n",
    "\n",
    "# Converting list of documents (corpus) into Document Term Matrix using dictionary prepared above. \n",
    "doc_term_matrix = [dictionary.doc2bow(doc) for doc in doc_clean]\n",
    "\n",
    "# Creating the object for LDA model using gensim library\n",
    "Lda = ldamodel.LdaModel\n",
    "\n",
    "# Running and Training LDA model on the document term matrix\n",
    "ldamodel = Lda(doc_term_matrix, num_topics=3, id2word = dictionary, passes=50)\n",
    "\n",
    "# Results \n",
    "print(ldamodel.print_topics())"
   ]
  },
  {
   "cell_type": "code",
   "execution_count": 18,
   "metadata": {},
   "outputs": [
    {
     "name": "stdout",
     "output_type": "stream",
     "text": [
      "Dictionary(34 unique tokens: ['my', 'sister', 'likes', 'stress', 'Doctors']...)\n"
     ]
    }
   ],
   "source": [
    "print(dictionary)"
   ]
  },
  {
   "cell_type": "code",
   "execution_count": 19,
   "metadata": {},
   "outputs": [
    {
     "name": "stdout",
     "output_type": "stream",
     "text": [
      "[[(0, 1), (1, 1), (2, 1), (3, 1), (4, 1), (5, 1), (6, 1), (7, 1), (8, 1), (9, 1), (10, 1), (11, 1), (12, 1), (13, 2)], [(0, 1), (9, 1), (11, 1), (13, 1), (14, 1), (15, 1), (16, 1), (17, 1), (18, 1), (19, 1), (20, 1), (21, 1), (22, 1), (23, 1)], [(17, 1), (24, 1), (25, 1), (26, 1), (27, 1), (28, 1), (29, 1), (30, 1), (31, 1), (32, 1), (33, 1)]]\n"
     ]
    }
   ],
   "source": [
    "print(doc_term_matrix)"
   ]
  },
  {
   "cell_type": "code",
   "execution_count": null,
   "metadata": {},
   "outputs": [],
   "source": []
  }
 ],
 "metadata": {
  "kernelspec": {
   "display_name": "Python 3",
   "language": "python",
   "name": "python3"
  },
  "language_info": {
   "codemirror_mode": {
    "name": "ipython",
    "version": 3
   },
   "file_extension": ".py",
   "mimetype": "text/x-python",
   "name": "python",
   "nbconvert_exporter": "python",
   "pygments_lexer": "ipython3",
   "version": "3.5.2+"
  }
 },
 "nbformat": 4,
 "nbformat_minor": 2
}
