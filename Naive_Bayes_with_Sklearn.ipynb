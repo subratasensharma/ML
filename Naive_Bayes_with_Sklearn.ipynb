{
 "cells": [
  {
   "cell_type": "markdown",
   "metadata": {},
   "source": [
    "## Word Counts with \"CountVectorizer\""
   ]
  },
  {
   "cell_type": "code",
   "execution_count": 1,
   "metadata": {},
   "outputs": [],
   "source": [
    "import numpy as np\n",
    "import sklearn"
   ]
  },
  {
   "cell_type": "code",
   "execution_count": 3,
   "metadata": {},
   "outputs": [
    {
     "name": "stdout",
     "output_type": "stream",
     "text": [
      "{'fox': 2, 'lazy': 4, 'dog': 1, 'quick': 6, 'over': 5, 'the': 7, 'brown': 0, 'jumped': 3}\n",
      "(1, 8)\n",
      "<class 'scipy.sparse.csr.csr_matrix'>\n",
      "[[1 1 1 1 1 1 1 2]]\n"
     ]
    }
   ],
   "source": [
    "from sklearn.feature_extraction.text import CountVectorizer\n",
    "# list of text documents\n",
    "text1 = [\"The quick brown fox jumped over the lazy dog.\"]\n",
    "# create the transform\n",
    "my_vectorizer = CountVectorizer()\n",
    "# tokenize and build vocab\n",
    "my_vectorizer.fit(text1)\n",
    "# summarize\n",
    "print(my_vectorizer.vocabulary_)\n",
    "\n",
    "# encode document\n",
    "my_vector = my_vectorizer.transform(text1)\n",
    "# summarize encoded vector\n",
    "print(my_vector.shape)\n",
    "print(type(my_vector))\n",
    "print(my_vector.toarray())"
   ]
  },
  {
   "cell_type": "code",
   "execution_count": 3,
   "metadata": {},
   "outputs": [],
   "source": [
    "## We can see that all words were made lowercase by default and that the punctuation was ignored. \\\n",
    "## These and other aspects of tokenizing can be configured and I encourage you to review all of the \\\n",
    "## options in the 'API documentation'.\n",
    "\n",
    "## Importantly, the same vectorizer can be used on documents that contain words not included in the vocabulary.\\\n",
    "## These words are ignored and no count is given in the resulting vector.Examole :"
   ]
  },
  {
   "cell_type": "code",
   "execution_count": 4,
   "metadata": {},
   "outputs": [
    {
     "name": "stdout",
     "output_type": "stream",
     "text": [
      "[[0 0 0 0 0 0 0 1]]\n"
     ]
    }
   ],
   "source": [
    "# encode another document\n",
    "\n",
    "text2 = [\"the puppy\"]\n",
    "my_vector2 = my_vectorizer.transform(text2)\n",
    "print(my_vector2.toarray())"
   ]
  },
  {
   "cell_type": "markdown",
   "metadata": {},
   "source": [
    "## Word Frequencies with \"TfidfVectorizer\""
   ]
  },
  {
   "cell_type": "code",
   "execution_count": 5,
   "metadata": {},
   "outputs": [],
   "source": [
    "## TF-IDF are word frequency scores that try to highlight words that are more interesting, \\\n",
    "## e.g. frequent in a document but not across documents.\n",
    "\n",
    "## The TfidfVectorizer will tokenize documents, learn the vocabulary and inverse document \\\n",
    "## frequency weightings, and allow you to encode new documents. Alternately, if you already \\\n",
    "## have a learned CountVectorizer, you can use it with a TfidfTransformer to just calculate |\n",
    "## the inverse document frequencies and start encoding documents."
   ]
  },
  {
   "cell_type": "code",
   "execution_count": 11,
   "metadata": {},
   "outputs": [
    {
     "name": "stdout",
     "output_type": "stream",
     "text": [
      "(3,)\n",
      "The quick brown fox jumped over the lazy dog.\n",
      "<class 'str'>\n",
      "{'the': 8, 'puppy': 6, 'lazy': 4, 'quick': 7, 'brown': 0, 'jumped': 3, 'over': 5, 'dog': 1, 'fox': 2}\n",
      "[1.69314718 1.69314718 1.28768207 1.69314718 1.69314718 1.69314718\n",
      " 1.69314718 1.69314718 1.        ]\n",
      "(1, 9)\n",
      "[[0.35413578 0.35413578 0.26932939 0.35413578 0.35413578 0.35413578\n",
      "  0.         0.35413578 0.41831659]]\n",
      "(3, 9)\n",
      "[[0.35413578 0.35413578 0.26932939 0.35413578 0.35413578 0.35413578\n",
      "  0.         0.35413578 0.41831659]\n",
      " [0.         0.         0.         0.         0.         0.\n",
      "  0.861037   0.         0.50854232]\n",
      " [0.         0.         0.78980693 0.         0.         0.\n",
      "  0.         0.         0.61335554]]\n"
     ]
    }
   ],
   "source": [
    "from sklearn.feature_extraction.text import TfidfVectorizer\n",
    "\n",
    "# list of text documents\n",
    "text3 = [\"The quick brown fox jumped over the lazy dog.\",\n",
    "\t\t\"The puppy.\",\n",
    "\t\t\"The fox\"]\n",
    "\n",
    "text_array = np.array(text3)\n",
    "print(text_array.shape)\n",
    "print(text3[0])\n",
    "print(type(text3[0]))\n",
    "\n",
    "# create the transform\n",
    "my_vectorizer_2 = TfidfVectorizer()  ## Note the change in vactorizer - from above 'Counter' to here 'Tfidf'\n",
    "# tokenize and build vocab\n",
    "my_vectorizer_2.fit(text3)\n",
    "# summarize\n",
    "print(my_vectorizer_2.vocabulary_)\n",
    "print(my_vectorizer_2.idf_)\n",
    "\n",
    "# encode document - one row\n",
    "my_vector_2 = my_vectorizer_2.transform([text3[0]])\n",
    "# summarize encoded vector\n",
    "print(my_vector_2.shape)\n",
    "print(my_vector_2.toarray())\n",
    "\n",
    "# encode document - all rows\n",
    "my_vector_3 = my_vectorizer_2.transform([text3][0])\n",
    "print(my_vector_3.shape)\n",
    "print(my_vector_3.toarray())"
   ]
  },
  {
   "cell_type": "markdown",
   "metadata": {},
   "source": [
    "## Hashing with HashingVectorizer"
   ]
  },
  {
   "cell_type": "code",
   "execution_count": 12,
   "metadata": {},
   "outputs": [],
   "source": [
    "## Counts and frequencies can be very useful, but one limitation of these methods is that the vocabulary \\\n",
    "## can become very large.\n",
    "\n",
    "## This, in turn, will require large vectors for encoding documents and impose large requirements on memory \\\n",
    "## and slow down algorithms.\n",
    "\n",
    "## A clever work around is to use a one way hash of words to convert them to integers. The clever part is that \\\n",
    "## no vocabulary is required and you can choose an arbitrary-long fixed length vector. A downside is that the \\\n",
    "## hash is a one-way function so there is no way to convert the encoding back to a word (which may not matter \\\n",
    "## for many supervised learning tasks).\n",
    "\n",
    "## The HashingVectorizer class implements this approach that can be used to consistently hash words, then \\\n",
    "## tokenize and encode documents as needed."
   ]
  },
  {
   "cell_type": "code",
   "execution_count": 17,
   "metadata": {},
   "outputs": [
    {
     "name": "stdout",
     "output_type": "stream",
     "text": [
      "(1, 20)\n",
      "[[ 0.          0.          0.          0.          0.          0.33333333\n",
      "   0.         -0.33333333  0.33333333  0.          0.          0.33333333\n",
      "   0.          0.          0.         -0.33333333  0.          0.\n",
      "  -0.66666667  0.        ]]\n"
     ]
    }
   ],
   "source": [
    "## An arbitrary fixed-length vector size of 20 was chosen. This corresponds to the range of the hash function, \\\n",
    "## where small values (like 20) may result in hash collisions.\n",
    "\n",
    "## Note that this vectorizer does not require a call to fit on the training data documents. Instead, after \\\n",
    "## instantiation, it can be used directly to start encoding documents.\n",
    "\n",
    "from sklearn.feature_extraction.text import HashingVectorizer\n",
    "# list of text documents\n",
    "text = [\"The quick brown fox jumped over the lazy dog.\"]\n",
    "# create the transform\n",
    "vectorizer = HashingVectorizer(n_features=20)\n",
    "# encode document\n",
    "vector = vectorizer.transform(text)\n",
    "# summarize encoded vector\n",
    "print(vector.shape)\n",
    "print(vector.toarray())\n"
   ]
  },
  {
   "cell_type": "code",
   "execution_count": 2,
   "metadata": {},
   "outputs": [],
   "source": [
    "A = np.array([[1, 2, 3, 4], [5, 6, 7, 8]])"
   ]
  },
  {
   "cell_type": "code",
   "execution_count": 3,
   "metadata": {},
   "outputs": [
    {
     "data": {
      "text/plain": [
       "array([[1, 2, 3, 4],\n",
       "       [5, 6, 7, 8]])"
      ]
     },
     "execution_count": 3,
     "metadata": {},
     "output_type": "execute_result"
    }
   ],
   "source": [
    "A"
   ]
  },
  {
   "cell_type": "code",
   "execution_count": 4,
   "metadata": {},
   "outputs": [
    {
     "data": {
      "text/plain": [
       "array([ 6,  8, 10, 12])"
      ]
     },
     "execution_count": 4,
     "metadata": {},
     "output_type": "execute_result"
    }
   ],
   "source": [
    "b = A.sum(axis = 0)\n",
    "b"
   ]
  },
  {
   "cell_type": "code",
   "execution_count": 5,
   "metadata": {},
   "outputs": [
    {
     "data": {
      "text/plain": [
       "(2, 4)"
      ]
     },
     "execution_count": 5,
     "metadata": {},
     "output_type": "execute_result"
    }
   ],
   "source": [
    "A.shape\n"
   ]
  },
  {
   "cell_type": "code",
   "execution_count": 6,
   "metadata": {},
   "outputs": [
    {
     "data": {
      "text/plain": [
       "(4,)"
      ]
     },
     "execution_count": 6,
     "metadata": {},
     "output_type": "execute_result"
    }
   ],
   "source": [
    "b.shape"
   ]
  },
  {
   "cell_type": "code",
   "execution_count": 8,
   "metadata": {},
   "outputs": [
    {
     "data": {
      "text/plain": [
       "numpy.ndarray"
      ]
     },
     "execution_count": 8,
     "metadata": {},
     "output_type": "execute_result"
    }
   ],
   "source": [
    "type(A)"
   ]
  },
  {
   "cell_type": "code",
   "execution_count": 9,
   "metadata": {},
   "outputs": [
    {
     "data": {
      "text/plain": [
       "numpy.ndarray"
      ]
     },
     "execution_count": 9,
     "metadata": {},
     "output_type": "execute_result"
    }
   ],
   "source": [
    "type(b)"
   ]
  },
  {
   "cell_type": "code",
   "execution_count": 10,
   "metadata": {},
   "outputs": [],
   "source": [
    "c = A/b"
   ]
  },
  {
   "cell_type": "code",
   "execution_count": 11,
   "metadata": {},
   "outputs": [
    {
     "data": {
      "text/plain": [
       "array([[0.16666667, 0.25      , 0.3       , 0.33333333],\n",
       "       [0.83333333, 0.75      , 0.7       , 0.66666667]])"
      ]
     },
     "execution_count": 11,
     "metadata": {},
     "output_type": "execute_result"
    }
   ],
   "source": [
    "c"
   ]
  },
  {
   "cell_type": "code",
   "execution_count": 12,
   "metadata": {},
   "outputs": [],
   "source": [
    "d = A*b"
   ]
  },
  {
   "cell_type": "code",
   "execution_count": 13,
   "metadata": {},
   "outputs": [
    {
     "data": {
      "text/plain": [
       "array([[ 6, 16, 30, 48],\n",
       "       [30, 48, 70, 96]])"
      ]
     },
     "execution_count": 13,
     "metadata": {},
     "output_type": "execute_result"
    }
   ],
   "source": [
    "d"
   ]
  },
  {
   "cell_type": "code",
   "execution_count": null,
   "metadata": {},
   "outputs": [],
   "source": []
  }
 ],
 "metadata": {
  "kernelspec": {
   "display_name": "Python 3",
   "language": "python",
   "name": "python3"
  },
  "language_info": {
   "codemirror_mode": {
    "name": "ipython",
    "version": 3
   },
   "file_extension": ".py",
   "mimetype": "text/x-python",
   "name": "python",
   "nbconvert_exporter": "python",
   "pygments_lexer": "ipython3",
   "version": "3.5.2+"
  }
 },
 "nbformat": 4,
 "nbformat_minor": 2
}
