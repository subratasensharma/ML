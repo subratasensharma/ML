{
 "cells": [
  {
   "cell_type": "code",
   "execution_count": null,
   "metadata": {},
   "outputs": [],
   "source": [
    "# https://books.google.co.in/books?id=DOamDwAAQBAJ&pg=PA383&lpg=PA383&dq=if(objectness.all()+%3C%3D+obj_thresh):+continue&source=bl&ots=3qBpdJEDCW&sig=ACfU3U32d4f-AJfc8NdmKKo8DwAgJzeHuQ&hl=en&sa=X&ved=2ahUKEwiNxZCF6czpAhU1iOYKHWwxDKYQ6AEwAXoECAoQAQ#v=onepage&q&f=false"
   ]
  }
 ],
 "metadata": {
  "kernelspec": {
   "display_name": "Python 3",
   "language": "python",
   "name": "python3"
  },
  "language_info": {
   "codemirror_mode": {
    "name": "ipython",
    "version": 3
   },
   "file_extension": ".py",
   "mimetype": "text/x-python",
   "name": "python",
   "nbconvert_exporter": "python",
   "pygments_lexer": "ipython3",
   "version": "3.5.2+"
  }
 },
 "nbformat": 4,
 "nbformat_minor": 2
}
