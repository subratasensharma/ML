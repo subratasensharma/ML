{
 "cells": [
  {
   "cell_type": "code",
   "execution_count": null,
   "id": "d22810e1",
   "metadata": {},
   "outputs": [],
   "source": [
    "## pgeocode to rohan for processing"
   ]
  },
  {
   "cell_type": "code",
   "execution_count": 1,
   "id": "d0735140",
   "metadata": {},
   "outputs": [],
   "source": [
    "import pandas as pd\n",
    "import numpy as np\n",
    "import re\n",
    "import pgeocode"
   ]
  },
  {
   "cell_type": "code",
   "execution_count": 2,
   "id": "c1449b53",
   "metadata": {},
   "outputs": [],
   "source": [
    "master_co_data = pd.read_excel('master_co_data.xlsx', header=0)\n",
    "\n",
    "working_master = master_co_data.copy()"
   ]
  },
  {
   "cell_type": "code",
   "execution_count": 3,
   "id": "db19baa1",
   "metadata": {},
   "outputs": [],
   "source": [
    "# Processing to create valid 'pin' file and no 'pin' file\n",
    "\n",
    "yes_pin_master = working_master[working_master['PIN'].notna()].reset_index(drop=True) # master with some value in PIN\n",
    "nan_pin_master = working_master[working_master['PIN'].isna()].reset_index(drop=True)  # master with NaN value in PIN\n",
    "\n",
    "yes_pin_master['PIN'] = yes_pin_master['PIN'].astype(str)                      # converting pin to string\n",
    "\n",
    "yes_pin_master['PIN'] = yes_pin_master['PIN'].apply(lambda x: re.sub('[^0-9]', '', x))  # 'pins' with only digits\n",
    "yes_pin_6ch = yes_pin_master.loc[yes_pin_master['PIN'].str.len() == 6]         # pin should be of 6 digits\n",
    "yes_pin_not_6ch = yes_pin_master.loc[yes_pin_master['PIN'].str.len() != 6]\n",
    "\n",
    "invalid_pin = yes_pin_6ch[yes_pin_6ch['PIN'].str.startswith(('0'))]            # pins cannot start with '0'\n",
    "valid_pin = yes_pin_6ch[yes_pin_6ch['PIN'].str.startswith(('1', '2', '3', '4', '5', '6', '7', '8', '9'))]\n",
    "\n",
    "frames_1 = [invalid_pin, yes_pin_not_6ch]                                      # merging invalid_pin dataframes\n",
    "merged_invalid_pin = pd.concat(frames_1).reset_index(drop=True)\n",
    "merged_invalid_pin['PIN'] = ''                                                 # convering 'pin' column to blank and then to NaN\n",
    "merged_invalid_pin['PIN'] = merged_invalid_pin['PIN'].replace('', np.nan, regex=True)\n",
    "\n",
    "frames_2 = [nan_pin_master, merged_invalid_pin]                      # merging invalid_pin having pin = Nan with earlier nan_pin\n",
    "merged_nan_pin = pd.concat(frames_2).reset_index(drop=True)\n"
   ]
  },
  {
   "cell_type": "code",
   "execution_count": 4,
   "id": "20ff3eb4",
   "metadata": {},
   "outputs": [],
   "source": [
    "# pincode extraction from 'no pin' file\n",
    "\n",
    "merged_nan_pin['ADD'] = merged_nan_pin['ADD'].astype(str).str.lower()       # making all in lower case\n",
    "merged_nan_pin['PIN'] = merged_nan_pin['PIN'].astype(str)           # making type of column 'PIN' from 'float' to 'str'\n",
    "\n",
    "merged_nan_pin['PIN'] = merged_nan_pin['ADD'].str.extract(r\"\\b([1-9]{1}[0-9]{2}\\s{0,1}[0-9]{3})\\b\")  # take out pincode from\n",
    "                                                      # the address. Here blank pins automatically gets converted to Nan(float)\n",
    "merged_nan_pin['PIN'] = merged_nan_pin['PIN'].str.replace(' ', '')         # removing gap between digits of pincode\n",
    "                                                                           # i.e. from 396 191 to 396191\n",
    "\n",
    "next_nan_pin = merged_nan_pin[merged_nan_pin['PIN'].isna()].reset_index(drop=True)\n",
    "next_yes_pin = merged_nan_pin[~merged_nan_pin['PIN'].isna()].reset_index(drop=True)\n",
    "\n",
    "# Here checking for 6 digits and checking for starting with '0' not reqyured since above regex takes care of this\n",
    "\n",
    "frames_3 = [valid_pin, next_yes_pin]\n",
    "final_valid_pin = pd.concat(frames_3).reset_index(drop=True)\n",
    "\n",
    "final_invalid_pin = next_nan_pin\n"
   ]
  },
  {
   "cell_type": "code",
   "execution_count": null,
   "id": "9eac40fa",
   "metadata": {},
   "outputs": [],
   "source": [
    "# Going for geocode :\n",
    "\n",
    "valid_pin_df = final_valid_pin.copy()\n",
    "valid_pin_df = valid_pin_df.fillna(0)    # filling all NaN with  zero for subsequent 'if' statement\n",
    "\n",
    "valid_pin_with_city_state = valid_pin_df[(valid_pin_df[['CITY','STATE']] != 0).all(axis=1)].reset_index(drop=True)\n",
    "valid_pin_wout_city_state = valid_pin_df[~(valid_pin_df[['CITY','STATE']] != 0).all(axis=1)].reset_index(drop=True)\n",
    "\n",
    "#========================================================================================================================\n",
    "\n",
    "geocode_df = valid_pin_wout_city_state.copy()\n",
    "#geocode_df = zz[3000:3005].reset_index(drop=True)\n",
    "\n",
    "for i in range(len(geocode_df)):\n",
    "\n",
    "    nomi = pgeocode.Nominatim('in')\n",
    "    pin_code = geocode_df['PIN'][i]\n",
    "    output_data = nomi.query_postal_code(pin_code)\n",
    "\n",
    "    output_data.replace(np.nan, 0, inplace=True)\n",
    "    if output_data[1] != 0:\n",
    "#        city = output_data[2] + ',' + output_data[7] + ',' + output_data[5]\n",
    "        city = output_data[5]\n",
    "        state = output_data[3]\n",
    "        if geocode_df['CITY'][i] == 0:\n",
    "            geocode_df['CITY'][i] = city\n",
    "        if geocode_df['STATE'][i] == 0:\n",
    "            geocode_df['STATE'][i] = state\n",
    "    \n",
    "#    print('=======================',i)\n",
    "#==========================================================================================================================\n",
    "\n",
    "# If pin is wrong i.e. does not exist, this will not give any result and hence, 'city' or 'state' will remain '0' as \n",
    "# original. To take care of this, following two lines\n",
    "\n",
    "geocode_with_city_state = geocode_df[(geocode_df[['CITY', 'STATE']] != 0).all(axis=1)]\n",
    "geocode_wout_city_state = nan_pin_with_pin[~(nan_pin_with_pin[['CITY', 'STATE']] != 0).all(axis=1)]\n",
    "\n",
    "geocode_wout_city_state = ''                                              # convering 'pin' column to blank and then to NaN\n",
    "geocode_wout_city_state['PIN'] = geocode_wout_city_state['PIN'].replace('', np.nan, regex=True)\n",
    "\n",
    "\n",
    "frames_4 = [valid_pin_with_city_state, geocode_with_city_state]\n",
    "df_with_city_pin_state = pd.concat(frames_4).reset_index(drop=True)  ## OUTPUT-1 : master file\n",
    "\n",
    "frames_5 = [final_invalid_pin, geocode_wout_city_state]\n",
    "df_with_invalid_pin = pd.concat(frames_5).reset_index(drop=True)     ## OUTPUT-2 : to compare with city_master\n"
   ]
  }
 ],
 "metadata": {
  "kernelspec": {
   "display_name": "Python 3",
   "language": "python",
   "name": "python3"
  },
  "language_info": {
   "codemirror_mode": {
    "name": "ipython",
    "version": 3
   },
   "file_extension": ".py",
   "mimetype": "text/x-python",
   "name": "python",
   "nbconvert_exporter": "python",
   "pygments_lexer": "ipython3",
   "version": "3.9.5"
  }
 },
 "nbformat": 4,
 "nbformat_minor": 5
}
