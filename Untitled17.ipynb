{
 "cells": [
  {
   "cell_type": "code",
   "execution_count": null,
   "metadata": {},
   "outputs": [],
   "source": []
  },
  {
   "cell_type": "code",
   "execution_count": 1,
   "metadata": {},
   "outputs": [
    {
     "name": "stdout",
     "output_type": "stream",
     "text": [
      "/home/scar3crow/Dropbox/WorkStation-Subrata/python/models/research/object_detection\n"
     ]
    }
   ],
   "source": [
    "cd models/research/object_detection"
   ]
  },
  {
   "cell_type": "code",
   "execution_count": 3,
   "metadata": {},
   "outputs": [],
   "source": [
    "import numpy as np\n",
    "import pandas as pd\n",
    "import cv2\n",
    "import os\n",
    "import tqdm\n",
    "from scipy.io import loadmat\n",
    "\n",
    "from sklearn.preprocessing import OneHotEncoder\n",
    "from sklearn.preprocessing import LabelEncoder\n",
    "\n",
    "from PIL import Image\n",
    "import pytesseract\n",
    "\n",
    "import matplotlib.pyplot as plt\n",
    "\n",
    "import tensorflow as tf\n",
    "from tensorflow import keras\n",
    "from keras import backend as K\n",
    "\n",
    "from utils import *\n",
    "\n",
    "from sklearn.model_selection import train_test_split\n",
    "from keras.callbacks import ModelCheckpoint\n",
    "from keras.optimizers import Adam\n",
    "from keras.layers import *\n",
    "\n",
    "from keras.applications import MobileNetV2\n",
    "from keras.applications import InceptionResNetV2\n",
    "\n",
    "from keras.models import Model\n",
    "from keras.models import model_from_json\n"
   ]
  },
  {
   "cell_type": "code",
   "execution_count": 4,
   "metadata": {},
   "outputs": [
    {
     "name": "stdout",
     "output_type": "stream",
     "text": [
      "Number of images =  210\n"
     ]
    },
    {
     "data": {
      "text/plain": [
       "'/home/scar3crow/Downloads/train_invoice/16-inv_date8.jpg'"
      ]
     },
     "execution_count": 4,
     "metadata": {},
     "output_type": "execute_result"
    }
   ],
   "source": [
    "image_directory = '/home/scar3crow/Downloads/train_invoice'  ## 'invoices' is a zip file of jpg images in ...../Downloads \n",
    "                                                        \n",
    "inv_crop_image = ['/home/scar3crow/Downloads/train_invoice/{}'.format(i) for i in os.listdir(image_directory)] # making the list\n",
    "inv_crop_image.sort() # Sorting the list\n",
    "\n",
    "print('Number of images = ', len(inv_crop_image))\n",
    "inv_crop_image[50]"
   ]
  },
  {
   "cell_type": "code",
   "execution_count": 6,
   "metadata": {},
   "outputs": [
    {
     "data": {
      "text/html": [
       "<div>\n",
       "<style scoped>\n",
       "    .dataframe tbody tr th:only-of-type {\n",
       "        vertical-align: middle;\n",
       "    }\n",
       "\n",
       "    .dataframe tbody tr th {\n",
       "        vertical-align: top;\n",
       "    }\n",
       "\n",
       "    .dataframe thead th {\n",
       "        text-align: right;\n",
       "    }\n",
       "</style>\n",
       "<table border=\"1\" class=\"dataframe\">\n",
       "  <thead>\n",
       "    <tr style=\"text-align: right;\">\n",
       "      <th></th>\n",
       "      <th>image_serial</th>\n",
       "      <th>rows</th>\n",
       "      <th>columns</th>\n",
       "    </tr>\n",
       "  </thead>\n",
       "  <tbody>\n",
       "    <tr>\n",
       "      <th>0</th>\n",
       "      <td>/home/scar3crow/Downloads/train_invoice/1-buye...</td>\n",
       "      <td>86</td>\n",
       "      <td>248</td>\n",
       "    </tr>\n",
       "    <tr>\n",
       "      <th>1</th>\n",
       "      <td>/home/scar3crow/Downloads/train_invoice/1-inv_...</td>\n",
       "      <td>14</td>\n",
       "      <td>126</td>\n",
       "    </tr>\n",
       "    <tr>\n",
       "      <th>2</th>\n",
       "      <td>/home/scar3crow/Downloads/train_invoice/1-invo...</td>\n",
       "      <td>16</td>\n",
       "      <td>134</td>\n",
       "    </tr>\n",
       "    <tr>\n",
       "      <th>3</th>\n",
       "      <td>/home/scar3crow/Downloads/train_invoice/1-item...</td>\n",
       "      <td>59</td>\n",
       "      <td>481</td>\n",
       "    </tr>\n",
       "    <tr>\n",
       "      <th>4</th>\n",
       "      <td>/home/scar3crow/Downloads/train_invoice/1-po1.jpg</td>\n",
       "      <td>18</td>\n",
       "      <td>136</td>\n",
       "    </tr>\n",
       "    <tr>\n",
       "      <th>5</th>\n",
       "      <td>/home/scar3crow/Downloads/train_invoice/1-tota...</td>\n",
       "      <td>146</td>\n",
       "      <td>166</td>\n",
       "    </tr>\n",
       "    <tr>\n",
       "      <th>6</th>\n",
       "      <td>/home/scar3crow/Downloads/train_invoice/1-vend...</td>\n",
       "      <td>60</td>\n",
       "      <td>342</td>\n",
       "    </tr>\n",
       "  </tbody>\n",
       "</table>\n",
       "</div>"
      ],
      "text/plain": [
       "                                        image_serial  rows  columns\n",
       "0  /home/scar3crow/Downloads/train_invoice/1-buye...    86      248\n",
       "1  /home/scar3crow/Downloads/train_invoice/1-inv_...    14      126\n",
       "2  /home/scar3crow/Downloads/train_invoice/1-invo...    16      134\n",
       "3  /home/scar3crow/Downloads/train_invoice/1-item...    59      481\n",
       "4  /home/scar3crow/Downloads/train_invoice/1-po1.jpg    18      136\n",
       "5  /home/scar3crow/Downloads/train_invoice/1-tota...   146      166\n",
       "6  /home/scar3crow/Downloads/train_invoice/1-vend...    60      342"
      ]
     },
     "execution_count": 6,
     "metadata": {},
     "output_type": "execute_result"
    }
   ],
   "source": [
    "# Check sizes of exiting images :\n",
    "\n",
    "# Create a Dataframe with image id and height(row) and width(column):\n",
    "\n",
    "rows = []\n",
    "columns = []\n",
    "image_sl = []\n",
    "df = pd.DataFrame()\n",
    "\n",
    "for i in range(len(inv_crop_image)):\n",
    "    image = cv2.imread(inv_crop_image[i]) ## Loading image\n",
    "    height, width, _ = image.shape\n",
    "    rows.append(height)\n",
    "    columns.append(width)\n",
    "    image_sl.append(inv_crop_image[i])\n",
    "    \n",
    "row_values = pd.Series(rows)\n",
    "col_values = pd.Series(columns)\n",
    "image_num = pd.Series(image_sl)\n",
    "\n",
    "\n",
    "df.insert(loc=0, column='image_serial', value=image_num)\n",
    "df.insert(loc=1, column='rows', value=row_values)\n",
    "df.insert(loc=2, column='columns', value=col_values)\n",
    "\n",
    "df.head(7)\n"
   ]
  },
  {
   "cell_type": "code",
   "execution_count": null,
   "metadata": {},
   "outputs": [],
   "source": []
  }
 ],
 "metadata": {
  "kernelspec": {
   "display_name": "Python 3",
   "language": "python",
   "name": "python3"
  },
  "language_info": {
   "codemirror_mode": {
    "name": "ipython",
    "version": 3
   },
   "file_extension": ".py",
   "mimetype": "text/x-python",
   "name": "python",
   "nbconvert_exporter": "python",
   "pygments_lexer": "ipython3",
   "version": "3.5.2+"
  }
 },
 "nbformat": 4,
 "nbformat_minor": 2
}
