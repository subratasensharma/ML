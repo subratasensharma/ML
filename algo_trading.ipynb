{
 "cells": [
  {
   "cell_type": "code",
   "execution_count": null,
   "id": "cde9f459",
   "metadata": {},
   "outputs": [],
   "source": [
    "# algo trading\n",
    "# https://www.youtube.com/watch?v=YLq0yuB6-Ns\n",
    "# https://analyticsindiamag.com/hands-on-guide-to-using-yfinance-api-in-python/\n",
    "# https://blog.quantinsti.com/stock-market-data-analysis-python/\n",
    "# to use 'yahoofinancials' not 'yfinance', see https://towardsdatascience.com/a-comprehensive-guide-to-downloading-stock-prices-in-python-2cd93ff821d4"
   ]
  },
  {
   "cell_type": "code",
   "execution_count": 1,
   "id": "3f4a7e2e",
   "metadata": {},
   "outputs": [],
   "source": [
    "import pandas as pd\n",
    "import numpy as np\n",
    "import yfinance as yf\n",
    "import datetime\n",
    "from nsetools import Nse\n",
    "nse = Nse()\n",
    "import nsepy as npy"
   ]
  },
  {
   "cell_type": "code",
   "execution_count": 2,
   "id": "f9678cdc",
   "metadata": {},
   "outputs": [],
   "source": [
    "data = pd.read_csv('C:/Users/rohan/OneDrive/Desktop/fresh_start_june_21/EQUITY_L.csv')"
   ]
  },
  {
   "cell_type": "code",
   "execution_count": 3,
   "id": "72de2a0d",
   "metadata": {},
   "outputs": [
    {
     "data": {
      "text/html": [
       "<div>\n",
       "<style scoped>\n",
       "    .dataframe tbody tr th:only-of-type {\n",
       "        vertical-align: middle;\n",
       "    }\n",
       "\n",
       "    .dataframe tbody tr th {\n",
       "        vertical-align: top;\n",
       "    }\n",
       "\n",
       "    .dataframe thead th {\n",
       "        text-align: right;\n",
       "    }\n",
       "</style>\n",
       "<table border=\"1\" class=\"dataframe\">\n",
       "  <thead>\n",
       "    <tr style=\"text-align: right;\">\n",
       "      <th></th>\n",
       "      <th>SYMBOL</th>\n",
       "      <th>NAME OF COMPANY</th>\n",
       "      <th>SERIES</th>\n",
       "      <th>DATE OF LISTING</th>\n",
       "      <th>PAID UP VALUE</th>\n",
       "      <th>MARKET LOT</th>\n",
       "      <th>ISIN NUMBER</th>\n",
       "      <th>FACE VALUE</th>\n",
       "    </tr>\n",
       "  </thead>\n",
       "  <tbody>\n",
       "    <tr>\n",
       "      <th>0</th>\n",
       "      <td>20MICRONS</td>\n",
       "      <td>20 Microns Limited</td>\n",
       "      <td>EQ</td>\n",
       "      <td>06-OCT-2008</td>\n",
       "      <td>5</td>\n",
       "      <td>1</td>\n",
       "      <td>INE144J01027</td>\n",
       "      <td>5</td>\n",
       "    </tr>\n",
       "    <tr>\n",
       "      <th>1</th>\n",
       "      <td>21STCENMGM</td>\n",
       "      <td>21st Century Management Services Limited</td>\n",
       "      <td>EQ</td>\n",
       "      <td>03-MAY-1995</td>\n",
       "      <td>10</td>\n",
       "      <td>1</td>\n",
       "      <td>INE253B01015</td>\n",
       "      <td>10</td>\n",
       "    </tr>\n",
       "    <tr>\n",
       "      <th>2</th>\n",
       "      <td>3IINFOTECH</td>\n",
       "      <td>3i Infotech Limited</td>\n",
       "      <td>BE</td>\n",
       "      <td>22-APR-2005</td>\n",
       "      <td>10</td>\n",
       "      <td>1</td>\n",
       "      <td>INE748C01020</td>\n",
       "      <td>10</td>\n",
       "    </tr>\n",
       "    <tr>\n",
       "      <th>3</th>\n",
       "      <td>3MINDIA</td>\n",
       "      <td>3M India Limited</td>\n",
       "      <td>EQ</td>\n",
       "      <td>13-AUG-2004</td>\n",
       "      <td>10</td>\n",
       "      <td>1</td>\n",
       "      <td>INE470A01017</td>\n",
       "      <td>10</td>\n",
       "    </tr>\n",
       "    <tr>\n",
       "      <th>4</th>\n",
       "      <td>3PLAND</td>\n",
       "      <td>3P Land Holdings Limited</td>\n",
       "      <td>EQ</td>\n",
       "      <td>19-JUL-1995</td>\n",
       "      <td>2</td>\n",
       "      <td>1</td>\n",
       "      <td>INE105C01023</td>\n",
       "      <td>2</td>\n",
       "    </tr>\n",
       "  </tbody>\n",
       "</table>\n",
       "</div>"
      ],
      "text/plain": [
       "       SYMBOL                           NAME OF COMPANY  SERIES  \\\n",
       "0   20MICRONS                        20 Microns Limited      EQ   \n",
       "1  21STCENMGM  21st Century Management Services Limited      EQ   \n",
       "2  3IINFOTECH                       3i Infotech Limited      BE   \n",
       "3     3MINDIA                          3M India Limited      EQ   \n",
       "4      3PLAND                  3P Land Holdings Limited      EQ   \n",
       "\n",
       "   DATE OF LISTING   PAID UP VALUE   MARKET LOT   ISIN NUMBER   FACE VALUE  \n",
       "0      06-OCT-2008               5            1  INE144J01027            5  \n",
       "1      03-MAY-1995              10            1  INE253B01015           10  \n",
       "2      22-APR-2005              10            1  INE748C01020           10  \n",
       "3      13-AUG-2004              10            1  INE470A01017           10  \n",
       "4      19-JUL-1995               2            1  INE105C01023            2  "
      ]
     },
     "execution_count": 3,
     "metadata": {},
     "output_type": "execute_result"
    }
   ],
   "source": [
    "data.head()"
   ]
  },
  {
   "cell_type": "code",
   "execution_count": 4,
   "id": "51321ceb",
   "metadata": {},
   "outputs": [],
   "source": [
    "y_data = pd.read_excel('C:/Users/rohan/OneDrive/Desktop/fresh_start_june_21/y_ticker_nse.xlsx')"
   ]
  },
  {
   "cell_type": "code",
   "execution_count": 5,
   "id": "26ac94b1",
   "metadata": {},
   "outputs": [
    {
     "data": {
      "text/html": [
       "<div>\n",
       "<style scoped>\n",
       "    .dataframe tbody tr th:only-of-type {\n",
       "        vertical-align: middle;\n",
       "    }\n",
       "\n",
       "    .dataframe tbody tr th {\n",
       "        vertical-align: top;\n",
       "    }\n",
       "\n",
       "    .dataframe thead th {\n",
       "        text-align: right;\n",
       "    }\n",
       "</style>\n",
       "<table border=\"1\" class=\"dataframe\">\n",
       "  <thead>\n",
       "    <tr style=\"text-align: right;\">\n",
       "      <th></th>\n",
       "      <th>Ticker</th>\n",
       "      <th>Name</th>\n",
       "      <th>Category Name</th>\n",
       "    </tr>\n",
       "  </thead>\n",
       "  <tbody>\n",
       "    <tr>\n",
       "      <th>0</th>\n",
       "      <td>20MICRONS.NS</td>\n",
       "      <td>20 Microns Limited</td>\n",
       "      <td>Industrial Metals &amp; Minerals</td>\n",
       "    </tr>\n",
       "    <tr>\n",
       "      <th>1</th>\n",
       "      <td>3IINFOTECH.NS</td>\n",
       "      <td>3i Infotech Limited</td>\n",
       "      <td>Information Technology Services</td>\n",
       "    </tr>\n",
       "    <tr>\n",
       "      <th>2</th>\n",
       "      <td>3IINFOTECH-BE.NS</td>\n",
       "      <td>3I INFOTECH LTD.</td>\n",
       "      <td>NaN</td>\n",
       "    </tr>\n",
       "    <tr>\n",
       "      <th>3</th>\n",
       "      <td>3IINFOTECH-EQ.NS</td>\n",
       "      <td>3I INFOTECH LTD INR10</td>\n",
       "      <td>NaN</td>\n",
       "    </tr>\n",
       "    <tr>\n",
       "      <th>4</th>\n",
       "      <td>3MINDIA.NS</td>\n",
       "      <td>3M India Limited</td>\n",
       "      <td>Conglomerates</td>\n",
       "    </tr>\n",
       "  </tbody>\n",
       "</table>\n",
       "</div>"
      ],
      "text/plain": [
       "             Ticker                   Name                    Category Name\n",
       "0      20MICRONS.NS     20 Microns Limited     Industrial Metals & Minerals\n",
       "1     3IINFOTECH.NS    3i Infotech Limited  Information Technology Services\n",
       "2  3IINFOTECH-BE.NS       3I INFOTECH LTD.                              NaN\n",
       "3  3IINFOTECH-EQ.NS  3I INFOTECH LTD INR10                              NaN\n",
       "4        3MINDIA.NS       3M India Limited                    Conglomerates"
      ]
     },
     "execution_count": 5,
     "metadata": {},
     "output_type": "execute_result"
    }
   ],
   "source": [
    "y_data.head()"
   ]
  },
  {
   "cell_type": "code",
   "execution_count": 17,
   "id": "92b57f2c",
   "metadata": {},
   "outputs": [],
   "source": [
    "# sp_data = yf.download('3Mindia', start='2021-07-01', end = datetime.datetime.today(), interval = '1d' )\n",
    "\n",
    "ticker = 'SBIN.NS'\n",
    "sp_data = yf.download(ticker, start=datetime.datetime.today()-datetime.timedelta(90), end = datetime.datetime.today(), interval = '1d', progress = False)\n"
   ]
  },
  {
   "cell_type": "code",
   "execution_count": 18,
   "id": "400e2437",
   "metadata": {},
   "outputs": [
    {
     "data": {
      "text/html": [
       "<div>\n",
       "<style scoped>\n",
       "    .dataframe tbody tr th:only-of-type {\n",
       "        vertical-align: middle;\n",
       "    }\n",
       "\n",
       "    .dataframe tbody tr th {\n",
       "        vertical-align: top;\n",
       "    }\n",
       "\n",
       "    .dataframe thead th {\n",
       "        text-align: right;\n",
       "    }\n",
       "</style>\n",
       "<table border=\"1\" class=\"dataframe\">\n",
       "  <thead>\n",
       "    <tr style=\"text-align: right;\">\n",
       "      <th></th>\n",
       "      <th>Open</th>\n",
       "      <th>High</th>\n",
       "      <th>Low</th>\n",
       "      <th>Close</th>\n",
       "      <th>Adj Close</th>\n",
       "      <th>Volume</th>\n",
       "    </tr>\n",
       "    <tr>\n",
       "      <th>Date</th>\n",
       "      <th></th>\n",
       "      <th></th>\n",
       "      <th></th>\n",
       "      <th></th>\n",
       "      <th></th>\n",
       "      <th></th>\n",
       "    </tr>\n",
       "  </thead>\n",
       "  <tbody>\n",
       "    <tr>\n",
       "      <th>2021-04-08</th>\n",
       "      <td>361.000000</td>\n",
       "      <td>363.299988</td>\n",
       "      <td>354.299988</td>\n",
       "      <td>355.600006</td>\n",
       "      <td>352.346954</td>\n",
       "      <td>33370259</td>\n",
       "    </tr>\n",
       "    <tr>\n",
       "      <th>2021-04-09</th>\n",
       "      <td>354.399994</td>\n",
       "      <td>364.500000</td>\n",
       "      <td>351.200012</td>\n",
       "      <td>353.000000</td>\n",
       "      <td>349.770721</td>\n",
       "      <td>46473100</td>\n",
       "    </tr>\n",
       "    <tr>\n",
       "      <th>2021-04-12</th>\n",
       "      <td>344.000000</td>\n",
       "      <td>344.000000</td>\n",
       "      <td>322.549988</td>\n",
       "      <td>328.850006</td>\n",
       "      <td>325.841675</td>\n",
       "      <td>75501713</td>\n",
       "    </tr>\n",
       "    <tr>\n",
       "      <th>2021-04-13</th>\n",
       "      <td>332.000000</td>\n",
       "      <td>342.250000</td>\n",
       "      <td>330.500000</td>\n",
       "      <td>341.000000</td>\n",
       "      <td>337.880524</td>\n",
       "      <td>49773360</td>\n",
       "    </tr>\n",
       "    <tr>\n",
       "      <th>2021-04-15</th>\n",
       "      <td>342.100006</td>\n",
       "      <td>347.549988</td>\n",
       "      <td>336.100006</td>\n",
       "      <td>342.700012</td>\n",
       "      <td>339.564972</td>\n",
       "      <td>52992349</td>\n",
       "    </tr>\n",
       "  </tbody>\n",
       "</table>\n",
       "</div>"
      ],
      "text/plain": [
       "                  Open        High         Low       Close   Adj Close  \\\n",
       "Date                                                                     \n",
       "2021-04-08  361.000000  363.299988  354.299988  355.600006  352.346954   \n",
       "2021-04-09  354.399994  364.500000  351.200012  353.000000  349.770721   \n",
       "2021-04-12  344.000000  344.000000  322.549988  328.850006  325.841675   \n",
       "2021-04-13  332.000000  342.250000  330.500000  341.000000  337.880524   \n",
       "2021-04-15  342.100006  347.549988  336.100006  342.700012  339.564972   \n",
       "\n",
       "              Volume  \n",
       "Date                  \n",
       "2021-04-08  33370259  \n",
       "2021-04-09  46473100  \n",
       "2021-04-12  75501713  \n",
       "2021-04-13  49773360  \n",
       "2021-04-15  52992349  "
      ]
     },
     "execution_count": 18,
     "metadata": {},
     "output_type": "execute_result"
    }
   ],
   "source": [
    "sp_data.head()"
   ]
  },
  {
   "cell_type": "code",
   "execution_count": 20,
   "id": "7012476c",
   "metadata": {},
   "outputs": [
    {
     "data": {
      "image/png": "[encoded data removed]",
      "text/plain": [
       "<Figure size 720x504 with 1 Axes>"
      ]
     },
     "metadata": {
      "needs_background": "light"
     },
     "output_type": "display_data"
    }
   ],
   "source": [
    "import matplotlib.pyplot as plt\n",
    "%matplotlib inline\n",
    "sp_data['Adj Close'].plot(figsize=(10, 7))\n",
    "# Define the label for the title of the figure\n",
    "plt.title(\"Adjusted Close Price of %s\" % ticker, fontsize=16)\n",
    "# Define the labels for x-axis and y-axis\n",
    "plt.ylabel('Price', fontsize=14)\n",
    "plt.xlabel('Dates', fontsize=14)\n",
    "# Plot the grid lines\n",
    "plt.grid(which=\"major\", color='k', linestyle='-.', linewidth=0.5)\n",
    "# Show the plot\n",
    "plt.show()"
   ]
  },
  {
   "cell_type": "code",
   "execution_count": 53,
   "id": "fbffad22",
   "metadata": {},
   "outputs": [
    {
     "data": {
      "text/html": [
       "<div>\n",
       "<style scoped>\n",
       "    .dataframe tbody tr th:only-of-type {\n",
       "        vertical-align: middle;\n",
       "    }\n",
       "\n",
       "    .dataframe tbody tr th {\n",
       "        vertical-align: top;\n",
       "    }\n",
       "\n",
       "    .dataframe thead th {\n",
       "        text-align: right;\n",
       "    }\n",
       "</style>\n",
       "<table border=\"1\" class=\"dataframe\">\n",
       "  <thead>\n",
       "    <tr style=\"text-align: right;\">\n",
       "      <th></th>\n",
       "      <th>MARICO.NS</th>\n",
       "      <th>MAANALU.NS</th>\n",
       "    </tr>\n",
       "    <tr>\n",
       "      <th>Date</th>\n",
       "      <th></th>\n",
       "      <th></th>\n",
       "    </tr>\n",
       "  </thead>\n",
       "  <tbody>\n",
       "    <tr>\n",
       "      <th>2021-04-08</th>\n",
       "      <td>414.649994</td>\n",
       "      <td>156.500000</td>\n",
       "    </tr>\n",
       "    <tr>\n",
       "      <th>2021-04-09</th>\n",
       "      <td>420.600006</td>\n",
       "      <td>162.750000</td>\n",
       "    </tr>\n",
       "    <tr>\n",
       "      <th>2021-04-12</th>\n",
       "      <td>407.399994</td>\n",
       "      <td>146.449997</td>\n",
       "    </tr>\n",
       "    <tr>\n",
       "      <th>2021-04-13</th>\n",
       "      <td>421.299988</td>\n",
       "      <td>147.699997</td>\n",
       "    </tr>\n",
       "    <tr>\n",
       "      <th>2021-04-15</th>\n",
       "      <td>423.299988</td>\n",
       "      <td>159.350006</td>\n",
       "    </tr>\n",
       "  </tbody>\n",
       "</table>\n",
       "</div>"
      ],
      "text/plain": [
       "             MARICO.NS  MAANALU.NS\n",
       "Date                              \n",
       "2021-04-08  414.649994  156.500000\n",
       "2021-04-09  420.600006  162.750000\n",
       "2021-04-12  407.399994  146.449997\n",
       "2021-04-13  421.299988  147.699997\n",
       "2021-04-15  423.299988  159.350006"
      ]
     },
     "execution_count": 53,
     "metadata": {},
     "output_type": "execute_result"
    }
   ],
   "source": [
    "tickers_list = ['MARICO.NS', 'MAANALU.NS']\n",
    "specific_data = pd.DataFrame(columns=tickers_list)\n",
    "\n",
    "for ticker in tickers_list:\n",
    "    \n",
    "     specific_data[ticker] = yf.download(ticker, start=datetime.datetime.today()-datetime.timedelta(90), end = datetime.datetime.today(), interval = '1d', progress = False)['Adj Close']\n",
    "\n",
    "# Print first 5 rows of the data\n",
    "specific_data.head()"
   ]
  },
  {
   "cell_type": "code",
   "execution_count": 54,
   "id": "12c94a2d",
   "metadata": {},
   "outputs": [
    {
     "data": {
      "image/png": "[encoded data removed]",
      "text/plain": [
       "<Figure size 720x504 with 1 Axes>"
      ]
     },
     "metadata": {
      "needs_background": "light"
     },
     "output_type": "display_data"
    }
   ],
   "source": [
    "# Plot all the close prices\n",
    "specific_data.plot(figsize=(10, 7))\n",
    "# Show the legend\n",
    "plt.legend()\n",
    "# Define the label for the title of the figure\n",
    "plt.title(\"Adjusted Close Price\", fontsize=16)\n",
    "# Define the labels for x-axis and y-axis\n",
    "plt.ylabel('Price', fontsize=14)\n",
    "plt.xlabel('Date', fontsize=14)\n",
    "# Plot the grid lines\n",
    "plt.grid(which=\"major\", color='k', linestyle='-.', linewidth=0.5)\n",
    "plt.show()"
   ]
  },
  {
   "cell_type": "code",
   "execution_count": 37,
   "id": "4627985c",
   "metadata": {},
   "outputs": [
    {
     "name": "stdout",
     "output_type": "stream",
     "text": [
      "Price to Book Ratio is: 1.40\n",
      "Price to Earnings Ratio is: 17.24\n"
     ]
    }
   ],
   "source": [
    "# get price to book\n",
    "sbi = yf.Ticker(\"SBIN.NS\")\n",
    "pb = sbi.info['priceToBook']\n",
    "pe = sbi.info['regularMarketPrice']/sbi.info['trailingEps']\n",
    "print('Price to Book Ratio is: %.2f' % pb)\n",
    "print('Price to Earnings Ratio is: %.2f' % pe)"
   ]
  },
  {
   "cell_type": "code",
   "execution_count": 35,
   "id": "c74315a7",
   "metadata": {},
   "outputs": [
    {
     "name": "stdout",
     "output_type": "stream",
     "text": [
      "['52WeekChange', 'SandP52WeekChange', 'address1', 'address2', 'algorithm', 'annualHoldingsTurnover', 'annualReportExpenseRatio', 'ask', 'askSize', 'averageDailyVolume10Day', 'averageVolume', 'averageVolume10days', 'beta', 'beta3Year', 'bid', 'bidSize', 'bookValue', 'category', 'circulatingSupply', 'city', 'companyOfficers', 'country', 'currency', 'currentPrice', 'currentRatio', 'dateShortInterest', 'dayHigh', 'dayLow', 'debtToEquity', 'dividendRate', 'dividendYield', 'earningsGrowth', 'earningsQuarterlyGrowth', 'ebitda', 'ebitdaMargins', 'enterpriseToEbitda', 'enterpriseToRevenue', 'enterpriseValue', 'exDividendDate', 'exchange', 'exchangeTimezoneName', 'exchangeTimezoneShortName', 'expireDate', 'fax', 'fiftyDayAverage', 'fiftyTwoWeekHigh', 'fiftyTwoWeekLow', 'financialCurrency', 'fiveYearAverageReturn', 'fiveYearAvgDividendYield', 'floatShares', 'forwardEps', 'forwardPE', 'freeCashflow', 'fromCurrency', 'fullTimeEmployees', 'fundFamily', 'fundInceptionDate', 'gmtOffSetMilliseconds', 'grossMargins', 'grossProfits', 'heldPercentInsiders', 'heldPercentInstitutions', 'impliedSharesOutstanding', 'industry', 'isEsgPopulated', 'lastCapGain', 'lastDividendDate', 'lastDividendValue', 'lastFiscalYearEnd', 'lastMarket', 'lastSplitDate', 'lastSplitFactor', 'legalType', 'logo_url', 'longBusinessSummary', 'longName', 'market', 'marketCap', 'maxAge', 'maxSupply', 'messageBoardId', 'morningStarOverallRating', 'morningStarRiskRating', 'mostRecentQuarter', 'navPrice', 'netIncomeToCommon', 'nextFiscalYearEnd', 'numberOfAnalystOpinions', 'open', 'openInterest', 'operatingCashflow', 'operatingMargins', 'payoutRatio', 'pegRatio', 'phone', 'previousClose', 'priceHint', 'priceToBook', 'priceToSalesTrailing12Months', 'profitMargins', 'quickRatio', 'quoteType', 'recommendationKey', 'recommendationMean', 'regularMarketDayHigh', 'regularMarketDayLow', 'regularMarketOpen', 'regularMarketPreviousClose', 'regularMarketPrice', 'regularMarketVolume', 'returnOnAssets', 'returnOnEquity', 'revenueGrowth', 'revenuePerShare', 'revenueQuarterlyGrowth', 'sector', 'sharesOutstanding', 'sharesPercentSharesOut', 'sharesShort', 'sharesShortPreviousMonthDate', 'sharesShortPriorMonth', 'shortName', 'shortPercentOfFloat', 'shortRatio', 'startDate', 'strikePrice', 'symbol', 'targetHighPrice', 'targetLowPrice', 'targetMeanPrice', 'targetMedianPrice', 'threeYearAverageReturn', 'toCurrency', 'totalAssets', 'totalCash', 'totalCashPerShare', 'totalDebt', 'totalRevenue', 'tradeable', 'trailingAnnualDividendRate', 'trailingAnnualDividendYield', 'trailingEps', 'trailingPE', 'twoHundredDayAverage', 'volume', 'volume24Hr', 'volumeAllCurrencies', 'website', 'yield', 'ytdReturn', 'zip']\n"
     ]
    }
   ],
   "source": [
    "\n",
    "new_dict = sbi.info\n",
    "my_list = list(new_dict.keys())\n",
    "my_list.sort()\n",
    "\n",
    "print(my_list)"
   ]
  },
  {
   "cell_type": "code",
   "execution_count": 38,
   "id": "40347450",
   "metadata": {},
   "outputs": [
    {
     "data": {
      "text/html": [
       "<div>\n",
       "<style scoped>\n",
       "    .dataframe tbody tr th:only-of-type {\n",
       "        vertical-align: middle;\n",
       "    }\n",
       "\n",
       "    .dataframe tbody tr th {\n",
       "        vertical-align: top;\n",
       "    }\n",
       "\n",
       "    .dataframe thead th {\n",
       "        text-align: right;\n",
       "    }\n",
       "</style>\n",
       "<table border=\"1\" class=\"dataframe\">\n",
       "  <thead>\n",
       "    <tr style=\"text-align: right;\">\n",
       "      <th></th>\n",
       "      <th>2021-03-31</th>\n",
       "      <th>2020-03-31</th>\n",
       "      <th>2019-03-31</th>\n",
       "      <th>2018-03-31</th>\n",
       "    </tr>\n",
       "  </thead>\n",
       "  <tbody>\n",
       "    <tr>\n",
       "      <th>Research Development</th>\n",
       "      <td>None</td>\n",
       "      <td>None</td>\n",
       "      <td>None</td>\n",
       "      <td>None</td>\n",
       "    </tr>\n",
       "    <tr>\n",
       "      <th>Effect Of Accounting Charges</th>\n",
       "      <td>None</td>\n",
       "      <td>None</td>\n",
       "      <td>None</td>\n",
       "      <td>None</td>\n",
       "    </tr>\n",
       "    <tr>\n",
       "      <th>Income Before Tax</th>\n",
       "      <td>238878149000.0</td>\n",
       "      <td>211399689000.0</td>\n",
       "      <td>33505535000.0</td>\n",
       "      <td>-118067540000.0</td>\n",
       "    </tr>\n",
       "    <tr>\n",
       "      <th>Minority Interest</th>\n",
       "      <td>96259166000.0</td>\n",
       "      <td>79438220000.0</td>\n",
       "      <td>60369913000.0</td>\n",
       "      <td>46152451000.0</td>\n",
       "    </tr>\n",
       "    <tr>\n",
       "      <th>Net Income</th>\n",
       "      <td>224054576000.0</td>\n",
       "      <td>197678022000.0</td>\n",
       "      <td>22996391000.0</td>\n",
       "      <td>-45562900000.0</td>\n",
       "    </tr>\n",
       "    <tr>\n",
       "      <th>Selling General Administrative</th>\n",
       "      <td>732218984000.0</td>\n",
       "      <td>673098139000.0</td>\n",
       "      <td>611819825000.0</td>\n",
       "      <td>517318804000.0</td>\n",
       "    </tr>\n",
       "    <tr>\n",
       "      <th>Gross Profit</th>\n",
       "      <td>1733420447000.0</td>\n",
       "      <td>1441768315000.0</td>\n",
       "      <td>1174029021000.0</td>\n",
       "      <td>839091015790.0</td>\n",
       "    </tr>\n",
       "    <tr>\n",
       "      <th>Ebit</th>\n",
       "      <td>0.0</td>\n",
       "      <td>0.0</td>\n",
       "      <td>0.0</td>\n",
       "      <td>0.0</td>\n",
       "    </tr>\n",
       "    <tr>\n",
       "      <th>Operating Income</th>\n",
       "      <td>229124494000.0</td>\n",
       "      <td>123952685000.0</td>\n",
       "      <td>26025941000.0</td>\n",
       "      <td>-122454174210.0</td>\n",
       "    </tr>\n",
       "    <tr>\n",
       "      <th>Other Operating Expenses</th>\n",
       "      <td>772076969000.0</td>\n",
       "      <td>644717491000.0</td>\n",
       "      <td>536183255000.0</td>\n",
       "      <td>444226386000.0</td>\n",
       "    </tr>\n",
       "    <tr>\n",
       "      <th>Interest Expense</th>\n",
       "      <td>None</td>\n",
       "      <td>None</td>\n",
       "      <td>None</td>\n",
       "      <td>None</td>\n",
       "    </tr>\n",
       "    <tr>\n",
       "      <th>Extraordinary Items</th>\n",
       "      <td>None</td>\n",
       "      <td>None</td>\n",
       "      <td>None</td>\n",
       "      <td>None</td>\n",
       "    </tr>\n",
       "    <tr>\n",
       "      <th>Non Recurring</th>\n",
       "      <td>None</td>\n",
       "      <td>None</td>\n",
       "      <td>None</td>\n",
       "      <td>None</td>\n",
       "    </tr>\n",
       "    <tr>\n",
       "      <th>Other Items</th>\n",
       "      <td>None</td>\n",
       "      <td>None</td>\n",
       "      <td>None</td>\n",
       "      <td>None</td>\n",
       "    </tr>\n",
       "    <tr>\n",
       "      <th>Income Tax Expense</th>\n",
       "      <td>0.0</td>\n",
       "      <td>0.0</td>\n",
       "      <td>0.0</td>\n",
       "      <td>-80575000000.0</td>\n",
       "    </tr>\n",
       "    <tr>\n",
       "      <th>Total Revenue</th>\n",
       "      <td>1733420447000.0</td>\n",
       "      <td>1441768315000.0</td>\n",
       "      <td>1174029021000.0</td>\n",
       "      <td>839091015790.0</td>\n",
       "    </tr>\n",
       "    <tr>\n",
       "      <th>Total Operating Expenses</th>\n",
       "      <td>1504295953000.0</td>\n",
       "      <td>1317815630000.0</td>\n",
       "      <td>1148003080000.0</td>\n",
       "      <td>961545190000.0</td>\n",
       "    </tr>\n",
       "    <tr>\n",
       "      <th>Cost Of Revenue</th>\n",
       "      <td>0.0</td>\n",
       "      <td>0.0</td>\n",
       "      <td>0.0</td>\n",
       "      <td>0.0</td>\n",
       "    </tr>\n",
       "    <tr>\n",
       "      <th>Total Other Income Expense Net</th>\n",
       "      <td>9753655000.0</td>\n",
       "      <td>87447004000.0</td>\n",
       "      <td>7479594000.0</td>\n",
       "      <td>4386634210.0</td>\n",
       "    </tr>\n",
       "    <tr>\n",
       "      <th>Discontinued Operations</th>\n",
       "      <td>None</td>\n",
       "      <td>None</td>\n",
       "      <td>None</td>\n",
       "      <td>None</td>\n",
       "    </tr>\n",
       "    <tr>\n",
       "      <th>Net Income From Continuing Ops</th>\n",
       "      <td>238878149000.0</td>\n",
       "      <td>211399689000.0</td>\n",
       "      <td>33505535000.0</td>\n",
       "      <td>-37492540000.0</td>\n",
       "    </tr>\n",
       "    <tr>\n",
       "      <th>Net Income Applicable To Common Shares</th>\n",
       "      <td>224054576000.0</td>\n",
       "      <td>197678022000.0</td>\n",
       "      <td>22996391000.0</td>\n",
       "      <td>-45562900000.0</td>\n",
       "    </tr>\n",
       "  </tbody>\n",
       "</table>\n",
       "</div>"
      ],
      "text/plain": [
       "                                             2021-03-31       2020-03-31  \\\n",
       "Research Development                               None             None   \n",
       "Effect Of Accounting Charges                       None             None   \n",
       "Income Before Tax                        238878149000.0   211399689000.0   \n",
       "Minority Interest                         96259166000.0    79438220000.0   \n",
       "Net Income                               224054576000.0   197678022000.0   \n",
       "Selling General Administrative           732218984000.0   673098139000.0   \n",
       "Gross Profit                            1733420447000.0  1441768315000.0   \n",
       "Ebit                                                0.0              0.0   \n",
       "Operating Income                         229124494000.0   123952685000.0   \n",
       "Other Operating Expenses                 772076969000.0   644717491000.0   \n",
       "Interest Expense                                   None             None   \n",
       "Extraordinary Items                                None             None   \n",
       "Non Recurring                                      None             None   \n",
       "Other Items                                        None             None   \n",
       "Income Tax Expense                                  0.0              0.0   \n",
       "Total Revenue                           1733420447000.0  1441768315000.0   \n",
       "Total Operating Expenses                1504295953000.0  1317815630000.0   \n",
       "Cost Of Revenue                                     0.0              0.0   \n",
       "Total Other Income Expense Net             9753655000.0    87447004000.0   \n",
       "Discontinued Operations                            None             None   \n",
       "Net Income From Continuing Ops           238878149000.0   211399689000.0   \n",
       "Net Income Applicable To Common Shares   224054576000.0   197678022000.0   \n",
       "\n",
       "                                             2019-03-31      2018-03-31  \n",
       "Research Development                               None            None  \n",
       "Effect Of Accounting Charges                       None            None  \n",
       "Income Before Tax                         33505535000.0 -118067540000.0  \n",
       "Minority Interest                         60369913000.0   46152451000.0  \n",
       "Net Income                                22996391000.0  -45562900000.0  \n",
       "Selling General Administrative           611819825000.0  517318804000.0  \n",
       "Gross Profit                            1174029021000.0  839091015790.0  \n",
       "Ebit                                                0.0             0.0  \n",
       "Operating Income                          26025941000.0 -122454174210.0  \n",
       "Other Operating Expenses                 536183255000.0  444226386000.0  \n",
       "Interest Expense                                   None            None  \n",
       "Extraordinary Items                                None            None  \n",
       "Non Recurring                                      None            None  \n",
       "Other Items                                        None            None  \n",
       "Income Tax Expense                                  0.0  -80575000000.0  \n",
       "Total Revenue                           1174029021000.0  839091015790.0  \n",
       "Total Operating Expenses                1148003080000.0  961545190000.0  \n",
       "Cost Of Revenue                                     0.0             0.0  \n",
       "Total Other Income Expense Net             7479594000.0    4386634210.0  \n",
       "Discontinued Operations                            None            None  \n",
       "Net Income From Continuing Ops            33505535000.0  -37492540000.0  \n",
       "Net Income Applicable To Common Shares    22996391000.0  -45562900000.0  "
      ]
     },
     "execution_count": 38,
     "metadata": {},
     "output_type": "execute_result"
    }
   ],
   "source": [
    "sbi.financials"
   ]
  },
  {
   "cell_type": "code",
   "execution_count": null,
   "id": "13d469b0",
   "metadata": {},
   "outputs": [],
   "source": [
    "# show income statement\n",
    "sbi.financials\n",
    "# show balance heet\n",
    "sbi.balance_sheet\n",
    "# show cashflow\n",
    "sbi.cashflow\n",
    "# show other info\n",
    "sbi.info"
   ]
  },
  {
   "cell_type": "code",
   "execution_count": 3,
   "id": "565eca85",
   "metadata": {},
   "outputs": [],
   "source": [
    "aa = yf.Ticker('NTPC.NS').actions"
   ]
  },
  {
   "cell_type": "code",
   "execution_count": 5,
   "id": "822c4c6a",
   "metadata": {},
   "outputs": [
    {
     "data": {
      "text/html": [
       "<div>\n",
       "<style scoped>\n",
       "    .dataframe tbody tr th:only-of-type {\n",
       "        vertical-align: middle;\n",
       "    }\n",
       "\n",
       "    .dataframe tbody tr th {\n",
       "        vertical-align: top;\n",
       "    }\n",
       "\n",
       "    .dataframe thead th {\n",
       "        text-align: right;\n",
       "    }\n",
       "</style>\n",
       "<table border=\"1\" class=\"dataframe\">\n",
       "  <thead>\n",
       "    <tr style=\"text-align: right;\">\n",
       "      <th></th>\n",
       "      <th>Dividends</th>\n",
       "      <th>Stock Splits</th>\n",
       "    </tr>\n",
       "    <tr>\n",
       "      <th>Date</th>\n",
       "      <th></th>\n",
       "      <th></th>\n",
       "    </tr>\n",
       "  </thead>\n",
       "  <tbody>\n",
       "    <tr>\n",
       "      <th>2005-02-25</th>\n",
       "      <td>1.000000</td>\n",
       "      <td>0.0</td>\n",
       "    </tr>\n",
       "    <tr>\n",
       "      <th>2005-09-08</th>\n",
       "      <td>1.000000</td>\n",
       "      <td>0.0</td>\n",
       "    </tr>\n",
       "    <tr>\n",
       "      <th>2006-02-13</th>\n",
       "      <td>1.666667</td>\n",
       "      <td>0.0</td>\n",
       "    </tr>\n",
       "    <tr>\n",
       "      <th>2006-08-30</th>\n",
       "      <td>0.666667</td>\n",
       "      <td>0.0</td>\n",
       "    </tr>\n",
       "    <tr>\n",
       "      <th>2007-02-02</th>\n",
       "      <td>2.000000</td>\n",
       "      <td>0.0</td>\n",
       "    </tr>\n",
       "  </tbody>\n",
       "</table>\n",
       "</div>"
      ],
      "text/plain": [
       "            Dividends  Stock Splits\n",
       "Date                               \n",
       "2005-02-25   1.000000           0.0\n",
       "2005-09-08   1.000000           0.0\n",
       "2006-02-13   1.666667           0.0\n",
       "2006-08-30   0.666667           0.0\n",
       "2007-02-02   2.000000           0.0"
      ]
     },
     "execution_count": 5,
     "metadata": {},
     "output_type": "execute_result"
    }
   ],
   "source": [
    "aa.head()"
   ]
  },
  {
   "cell_type": "code",
   "execution_count": 4,
   "id": "38d10db3",
   "metadata": {},
   "outputs": [
    {
     "data": {
      "text/plain": [
       "'INE840M01016'"
      ]
     },
     "execution_count": 4,
     "metadata": {},
     "output_type": "execute_result"
    }
   ],
   "source": [
    "yf.Ticker('ZUARI.NS').isin"
   ]
  },
  {
   "cell_type": "code",
   "execution_count": 8,
   "id": "cfd36265",
   "metadata": {},
   "outputs": [
    {
     "data": {
      "text/plain": [
       "'INE733E01010'"
      ]
     },
     "execution_count": 8,
     "metadata": {},
     "output_type": "execute_result"
    }
   ],
   "source": [
    "yf.Ticker('NTPC.NS').isin"
   ]
  },
  {
   "cell_type": "code",
   "execution_count": 9,
   "id": "cbd19189",
   "metadata": {},
   "outputs": [
    {
     "data": {
      "text/html": [
       "<div>\n",
       "<style scoped>\n",
       "    .dataframe tbody tr th:only-of-type {\n",
       "        vertical-align: middle;\n",
       "    }\n",
       "\n",
       "    .dataframe tbody tr th {\n",
       "        vertical-align: top;\n",
       "    }\n",
       "\n",
       "    .dataframe thead th {\n",
       "        text-align: right;\n",
       "    }\n",
       "</style>\n",
       "<table border=\"1\" class=\"dataframe\">\n",
       "  <thead>\n",
       "    <tr style=\"text-align: right;\">\n",
       "      <th></th>\n",
       "      <th>0</th>\n",
       "      <th>1</th>\n",
       "    </tr>\n",
       "  </thead>\n",
       "  <tbody>\n",
       "    <tr>\n",
       "      <th>Earnings Date</th>\n",
       "      <td>2021-08-12 00:00:00</td>\n",
       "      <td>2021-08-16 00:00:00</td>\n",
       "    </tr>\n",
       "    <tr>\n",
       "      <th>Earnings Average</th>\n",
       "      <td>None</td>\n",
       "      <td>None</td>\n",
       "    </tr>\n",
       "    <tr>\n",
       "      <th>Earnings Low</th>\n",
       "      <td>None</td>\n",
       "      <td>None</td>\n",
       "    </tr>\n",
       "    <tr>\n",
       "      <th>Earnings High</th>\n",
       "      <td>None</td>\n",
       "      <td>None</td>\n",
       "    </tr>\n",
       "    <tr>\n",
       "      <th>Revenue Average</th>\n",
       "      <td>224516000000</td>\n",
       "      <td>224516000000</td>\n",
       "    </tr>\n",
       "    <tr>\n",
       "      <th>Revenue Low</th>\n",
       "      <td>224516000000</td>\n",
       "      <td>224516000000</td>\n",
       "    </tr>\n",
       "    <tr>\n",
       "      <th>Revenue High</th>\n",
       "      <td>224516000000</td>\n",
       "      <td>224516000000</td>\n",
       "    </tr>\n",
       "  </tbody>\n",
       "</table>\n",
       "</div>"
      ],
      "text/plain": [
       "                                    0                    1\n",
       "Earnings Date     2021-08-12 00:00:00  2021-08-16 00:00:00\n",
       "Earnings Average                 None                 None\n",
       "Earnings Low                     None                 None\n",
       "Earnings High                    None                 None\n",
       "Revenue Average          224516000000         224516000000\n",
       "Revenue Low              224516000000         224516000000\n",
       "Revenue High             224516000000         224516000000"
      ]
     },
     "execution_count": 9,
     "metadata": {},
     "output_type": "execute_result"
    }
   ],
   "source": [
    "yf.Ticker('NTPC.NS').calendar"
   ]
  },
  {
   "cell_type": "code",
   "execution_count": 28,
   "id": "bc0ebd78",
   "metadata": {},
   "outputs": [
    {
     "data": {
      "text/plain": [
       "{'pricebandupper': 1736.8,\n",
       " 'symbol': 'INFY',\n",
       " 'applicableMargin': 15.31,\n",
       " 'bcEndDate': None,\n",
       " 'totalSellQuantity': None,\n",
       " 'adhocMargin': None,\n",
       " 'companyName': 'Infosys Limited',\n",
       " 'marketType': 'N',\n",
       " 'exDate': '31-MAY-21',\n",
       " 'bcStartDate': None,\n",
       " 'css_status_desc': 'Listed',\n",
       " 'dayHigh': 1586.75,\n",
       " 'basePrice': 1578.95,\n",
       " 'securityVar': 11.81,\n",
       " 'pricebandlower': 1421.1,\n",
       " 'sellQuantity5': None,\n",
       " 'sellQuantity4': None,\n",
       " 'sellQuantity3': None,\n",
       " 'cm_adj_high_dt': '30-JUN-21',\n",
       " 'sellQuantity2': None,\n",
       " 'dayLow': 1557.1,\n",
       " 'sellQuantity1': None,\n",
       " 'quantityTraded': 4089574.0,\n",
       " 'pChange': '-1.14',\n",
       " 'totalTradedValue': 64414.88,\n",
       " 'deliveryToTradedQuantity': 55.57,\n",
       " 'totalBuyQuantity': 25.0,\n",
       " 'averagePrice': 1575.1,\n",
       " 'indexVar': None,\n",
       " 'cm_ffm': 579155.41,\n",
       " 'purpose': 'ANNUAL GENERAL MEETING/DIVIDEND - RS 15 PER SHARE',\n",
       " 'buyPrice2': None,\n",
       " 'secDate': '06-Jul-2021 00:00:00',\n",
       " 'buyPrice1': 1562.2,\n",
       " 'high52': 1591.0,\n",
       " 'previousClose': 1578.95,\n",
       " 'ndEndDate': None,\n",
       " 'low52': 761.5,\n",
       " 'buyPrice4': None,\n",
       " 'buyPrice3': None,\n",
       " 'recordDate': '01-JUN-21',\n",
       " 'deliveryQuantity': 2272435.0,\n",
       " 'buyPrice5': None,\n",
       " 'priceBand': 'No Band',\n",
       " 'extremeLossMargin': 3.5,\n",
       " 'cm_adj_low_dt': '06-JUL-20',\n",
       " 'varMargin': 11.81,\n",
       " 'sellPrice1': None,\n",
       " 'sellPrice2': None,\n",
       " 'totalTradedVolume': 4089574.0,\n",
       " 'sellPrice3': None,\n",
       " 'sellPrice4': None,\n",
       " 'sellPrice5': None,\n",
       " 'change': '-17.95',\n",
       " 'surv_indicator': None,\n",
       " 'ndStartDate': None,\n",
       " 'buyQuantity4': None,\n",
       " 'isExDateFlag': False,\n",
       " 'buyQuantity3': None,\n",
       " 'buyQuantity2': None,\n",
       " 'buyQuantity1': 25.0,\n",
       " 'series': 'EQ',\n",
       " 'faceValue': 5.0,\n",
       " 'buyQuantity5': None,\n",
       " 'closePrice': 1562.2,\n",
       " 'open': 1573.7,\n",
       " 'isinCode': 'INE009A01021',\n",
       " 'lastPrice': 1561.0}"
      ]
     },
     "execution_count": 28,
     "metadata": {},
     "output_type": "execute_result"
    }
   ],
   "source": [
    "q = nse.get_quote('infy')\n",
    "q"
   ]
  },
  {
   "cell_type": "code",
   "execution_count": 6,
   "id": "41f9c100",
   "metadata": {},
   "outputs": [
    {
     "data": {
      "text/plain": [
       "<AxesSubplot:title={'center':\"Marico's stock price\"}, xlabel='Date'>"
      ]
     },
     "execution_count": 6,
     "metadata": {},
     "output_type": "execute_result"
    },
    {
     "data": {
      "image/png": "[encoded data removed]",
      "text/plain": [
       "<Figure size 432x288 with 1 Axes>"
      ]
     },
     "metadata": {
      "needs_background": "light"
     },
     "output_type": "display_data"
    }
   ],
   "source": [
    "# valid periods: 1d,5d,1mo,3mo,6mo,1y,2y,5y,10y,ytd,max\n",
    "\n",
    "ticker_1 = yf.Ticker(\"MARICO.NS\")\n",
    "#ticker_2 = yf.Ticker(\"MAANALU.NS\")\n",
    "\n",
    "#ticker_1_df = ticker_1.history(period=\"max\")\n",
    "#ticker_2_df = ticker_2.history(period=\"max\")\n",
    "ticker_1_df = ticker_1.history(period=\"5y\")\n",
    "\n",
    "ticker_1_df['Close'].plot(title=\"Marico's stock price\")\n",
    "#ticker_2_df['Close'].plot(title=\"Maanalu's stock price\")"
   ]
  },
  {
   "cell_type": "code",
   "execution_count": 16,
   "id": "e0c68410",
   "metadata": {},
   "outputs": [
    {
     "data": {
      "text/plain": [
       "<AxesSubplot:xlabel='Date'>"
      ]
     },
     "execution_count": 16,
     "metadata": {},
     "output_type": "execute_result"
    },
    {
     "data": {
      "image/png": "[encoded data removed]",
      "text/plain": [
       "<Figure size 432x288 with 1 Axes>"
      ]
     },
     "metadata": {
      "needs_background": "light"
     },
     "output_type": "display_data"
    }
   ],
   "source": [
    "sbi_data = npy.get_history(symbol=\"SBIN\", start=datetime.date(2016,7,7), end=datetime.date(2021,7,8))\n",
    "sbi_data[['Close']].plot()"
   ]
  },
  {
   "cell_type": "code",
   "execution_count": 17,
   "id": "2da4af9c",
   "metadata": {},
   "outputs": [
    {
     "data": {
      "text/html": [
       "<div>\n",
       "<style scoped>\n",
       "    .dataframe tbody tr th:only-of-type {\n",
       "        vertical-align: middle;\n",
       "    }\n",
       "\n",
       "    .dataframe tbody tr th {\n",
       "        vertical-align: top;\n",
       "    }\n",
       "\n",
       "    .dataframe thead th {\n",
       "        text-align: right;\n",
       "    }\n",
       "</style>\n",
       "<table border=\"1\" class=\"dataframe\">\n",
       "  <thead>\n",
       "    <tr style=\"text-align: right;\">\n",
       "      <th></th>\n",
       "      <th>Symbol</th>\n",
       "      <th>Series</th>\n",
       "      <th>Prev Close</th>\n",
       "      <th>Open</th>\n",
       "      <th>High</th>\n",
       "      <th>Low</th>\n",
       "      <th>Last</th>\n",
       "      <th>Close</th>\n",
       "      <th>VWAP</th>\n",
       "      <th>Volume</th>\n",
       "      <th>Turnover</th>\n",
       "      <th>Trades</th>\n",
       "      <th>Deliverable Volume</th>\n",
       "      <th>%Deliverble</th>\n",
       "    </tr>\n",
       "    <tr>\n",
       "      <th>Date</th>\n",
       "      <th></th>\n",
       "      <th></th>\n",
       "      <th></th>\n",
       "      <th></th>\n",
       "      <th></th>\n",
       "      <th></th>\n",
       "      <th></th>\n",
       "      <th></th>\n",
       "      <th></th>\n",
       "      <th></th>\n",
       "      <th></th>\n",
       "      <th></th>\n",
       "      <th></th>\n",
       "      <th></th>\n",
       "    </tr>\n",
       "  </thead>\n",
       "  <tbody>\n",
       "    <tr>\n",
       "      <th>2016-07-07</th>\n",
       "      <td>SBIN</td>\n",
       "      <td>EQ</td>\n",
       "      <td>223.50</td>\n",
       "      <td>223.90</td>\n",
       "      <td>224.60</td>\n",
       "      <td>219.35</td>\n",
       "      <td>220.15</td>\n",
       "      <td>220.05</td>\n",
       "      <td>222.32</td>\n",
       "      <td>12917872</td>\n",
       "      <td>2.871840e+14</td>\n",
       "      <td>68075</td>\n",
       "      <td>4030925</td>\n",
       "      <td>0.3120</td>\n",
       "    </tr>\n",
       "    <tr>\n",
       "      <th>2016-07-08</th>\n",
       "      <td>SBIN</td>\n",
       "      <td>EQ</td>\n",
       "      <td>220.05</td>\n",
       "      <td>220.15</td>\n",
       "      <td>220.85</td>\n",
       "      <td>216.50</td>\n",
       "      <td>218.20</td>\n",
       "      <td>218.30</td>\n",
       "      <td>218.11</td>\n",
       "      <td>16017389</td>\n",
       "      <td>3.493621e+14</td>\n",
       "      <td>96813</td>\n",
       "      <td>5367678</td>\n",
       "      <td>0.3351</td>\n",
       "    </tr>\n",
       "    <tr>\n",
       "      <th>2016-07-11</th>\n",
       "      <td>SBIN</td>\n",
       "      <td>EQ</td>\n",
       "      <td>218.30</td>\n",
       "      <td>223.60</td>\n",
       "      <td>225.45</td>\n",
       "      <td>222.00</td>\n",
       "      <td>224.50</td>\n",
       "      <td>224.70</td>\n",
       "      <td>223.59</td>\n",
       "      <td>15831791</td>\n",
       "      <td>3.539856e+14</td>\n",
       "      <td>82208</td>\n",
       "      <td>5654844</td>\n",
       "      <td>0.3572</td>\n",
       "    </tr>\n",
       "    <tr>\n",
       "      <th>2016-07-12</th>\n",
       "      <td>SBIN</td>\n",
       "      <td>EQ</td>\n",
       "      <td>224.70</td>\n",
       "      <td>225.00</td>\n",
       "      <td>227.20</td>\n",
       "      <td>224.15</td>\n",
       "      <td>226.75</td>\n",
       "      <td>226.70</td>\n",
       "      <td>226.10</td>\n",
       "      <td>19374179</td>\n",
       "      <td>4.380495e+14</td>\n",
       "      <td>96849</td>\n",
       "      <td>7895882</td>\n",
       "      <td>0.4075</td>\n",
       "    </tr>\n",
       "    <tr>\n",
       "      <th>2016-07-13</th>\n",
       "      <td>SBIN</td>\n",
       "      <td>EQ</td>\n",
       "      <td>226.70</td>\n",
       "      <td>227.00</td>\n",
       "      <td>228.50</td>\n",
       "      <td>223.95</td>\n",
       "      <td>226.75</td>\n",
       "      <td>227.70</td>\n",
       "      <td>226.83</td>\n",
       "      <td>18377333</td>\n",
       "      <td>4.168619e+14</td>\n",
       "      <td>102415</td>\n",
       "      <td>5491345</td>\n",
       "      <td>0.2988</td>\n",
       "    </tr>\n",
       "  </tbody>\n",
       "</table>\n",
       "</div>"
      ],
      "text/plain": [
       "           Symbol Series  Prev Close    Open    High     Low    Last   Close  \\\n",
       "Date                                                                           \n",
       "2016-07-07   SBIN     EQ      223.50  223.90  224.60  219.35  220.15  220.05   \n",
       "2016-07-08   SBIN     EQ      220.05  220.15  220.85  216.50  218.20  218.30   \n",
       "2016-07-11   SBIN     EQ      218.30  223.60  225.45  222.00  224.50  224.70   \n",
       "2016-07-12   SBIN     EQ      224.70  225.00  227.20  224.15  226.75  226.70   \n",
       "2016-07-13   SBIN     EQ      226.70  227.00  228.50  223.95  226.75  227.70   \n",
       "\n",
       "              VWAP    Volume      Turnover  Trades  Deliverable Volume  \\\n",
       "Date                                                                     \n",
       "2016-07-07  222.32  12917872  2.871840e+14   68075             4030925   \n",
       "2016-07-08  218.11  16017389  3.493621e+14   96813             5367678   \n",
       "2016-07-11  223.59  15831791  3.539856e+14   82208             5654844   \n",
       "2016-07-12  226.10  19374179  4.380495e+14   96849             7895882   \n",
       "2016-07-13  226.83  18377333  4.168619e+14  102415             5491345   \n",
       "\n",
       "            %Deliverble  \n",
       "Date                     \n",
       "2016-07-07       0.3120  \n",
       "2016-07-08       0.3351  \n",
       "2016-07-11       0.3572  \n",
       "2016-07-12       0.4075  \n",
       "2016-07-13       0.2988  "
      ]
     },
     "execution_count": 17,
     "metadata": {},
     "output_type": "execute_result"
    }
   ],
   "source": [
    "sbi_data.head()"
   ]
  },
  {
   "cell_type": "code",
   "execution_count": 18,
   "id": "102e13b9",
   "metadata": {},
   "outputs": [],
   "source": [
    "## following 3 cells are to dump the data in this computer and then read again so that we do not have to do npy.get_history\n",
    "## again. \n",
    "\n",
    "import pickle\n",
    "\n",
    "with open('sbi_5y_data', 'wb') as f:\n",
    "    pickle.dump(sbi_data, f)"
   ]
  },
  {
   "cell_type": "code",
   "execution_count": 19,
   "id": "668478d7",
   "metadata": {},
   "outputs": [],
   "source": [
    "def get_hist_data():\n",
    "    with open('sbi_5y_data', 'rb') as f:\n",
    "        return pickle.load(f)    "
   ]
  },
  {
   "cell_type": "code",
   "execution_count": 23,
   "id": "e0c553fb",
   "metadata": {},
   "outputs": [
    {
     "data": {
      "text/html": [
       "<div>\n",
       "<style scoped>\n",
       "    .dataframe tbody tr th:only-of-type {\n",
       "        vertical-align: middle;\n",
       "    }\n",
       "\n",
       "    .dataframe tbody tr th {\n",
       "        vertical-align: top;\n",
       "    }\n",
       "\n",
       "    .dataframe thead th {\n",
       "        text-align: right;\n",
       "    }\n",
       "</style>\n",
       "<table border=\"1\" class=\"dataframe\">\n",
       "  <thead>\n",
       "    <tr style=\"text-align: right;\">\n",
       "      <th></th>\n",
       "      <th>Symbol</th>\n",
       "      <th>Series</th>\n",
       "      <th>Prev Close</th>\n",
       "      <th>Open</th>\n",
       "      <th>High</th>\n",
       "      <th>Low</th>\n",
       "      <th>Last</th>\n",
       "      <th>Close</th>\n",
       "      <th>VWAP</th>\n",
       "      <th>Volume</th>\n",
       "      <th>Turnover</th>\n",
       "      <th>Trades</th>\n",
       "      <th>Deliverable Volume</th>\n",
       "      <th>%Deliverble</th>\n",
       "    </tr>\n",
       "    <tr>\n",
       "      <th>Date</th>\n",
       "      <th></th>\n",
       "      <th></th>\n",
       "      <th></th>\n",
       "      <th></th>\n",
       "      <th></th>\n",
       "      <th></th>\n",
       "      <th></th>\n",
       "      <th></th>\n",
       "      <th></th>\n",
       "      <th></th>\n",
       "      <th></th>\n",
       "      <th></th>\n",
       "      <th></th>\n",
       "      <th></th>\n",
       "    </tr>\n",
       "  </thead>\n",
       "  <tbody>\n",
       "    <tr>\n",
       "      <th>2021-07-02</th>\n",
       "      <td>SBIN</td>\n",
       "      <td>EQ</td>\n",
       "      <td>420.40</td>\n",
       "      <td>420.30</td>\n",
       "      <td>425.4</td>\n",
       "      <td>419.00</td>\n",
       "      <td>424.8</td>\n",
       "      <td>424.40</td>\n",
       "      <td>422.72</td>\n",
       "      <td>16423811</td>\n",
       "      <td>6.942676e+14</td>\n",
       "      <td>150826</td>\n",
       "      <td>4269757</td>\n",
       "      <td>0.2600</td>\n",
       "    </tr>\n",
       "    <tr>\n",
       "      <th>2021-07-05</th>\n",
       "      <td>SBIN</td>\n",
       "      <td>EQ</td>\n",
       "      <td>424.40</td>\n",
       "      <td>426.50</td>\n",
       "      <td>434.5</td>\n",
       "      <td>424.25</td>\n",
       "      <td>433.7</td>\n",
       "      <td>432.65</td>\n",
       "      <td>428.55</td>\n",
       "      <td>16483761</td>\n",
       "      <td>7.064127e+14</td>\n",
       "      <td>153743</td>\n",
       "      <td>5660728</td>\n",
       "      <td>0.3434</td>\n",
       "    </tr>\n",
       "    <tr>\n",
       "      <th>2021-07-06</th>\n",
       "      <td>SBIN</td>\n",
       "      <td>EQ</td>\n",
       "      <td>432.65</td>\n",
       "      <td>431.70</td>\n",
       "      <td>436.5</td>\n",
       "      <td>428.20</td>\n",
       "      <td>429.3</td>\n",
       "      <td>429.75</td>\n",
       "      <td>433.45</td>\n",
       "      <td>20195278</td>\n",
       "      <td>8.753558e+14</td>\n",
       "      <td>209939</td>\n",
       "      <td>5413566</td>\n",
       "      <td>0.2681</td>\n",
       "    </tr>\n",
       "    <tr>\n",
       "      <th>2021-07-07</th>\n",
       "      <td>SBIN</td>\n",
       "      <td>EQ</td>\n",
       "      <td>429.75</td>\n",
       "      <td>429.35</td>\n",
       "      <td>434.0</td>\n",
       "      <td>427.55</td>\n",
       "      <td>433.0</td>\n",
       "      <td>432.85</td>\n",
       "      <td>431.00</td>\n",
       "      <td>14473774</td>\n",
       "      <td>6.238136e+14</td>\n",
       "      <td>130765</td>\n",
       "      <td>3715611</td>\n",
       "      <td>0.2567</td>\n",
       "    </tr>\n",
       "    <tr>\n",
       "      <th>2021-07-08</th>\n",
       "      <td>SBIN</td>\n",
       "      <td>EQ</td>\n",
       "      <td>432.85</td>\n",
       "      <td>432.80</td>\n",
       "      <td>435.4</td>\n",
       "      <td>422.10</td>\n",
       "      <td>424.5</td>\n",
       "      <td>424.45</td>\n",
       "      <td>429.03</td>\n",
       "      <td>21433043</td>\n",
       "      <td>9.195494e+14</td>\n",
       "      <td>215558</td>\n",
       "      <td>5669467</td>\n",
       "      <td>0.2645</td>\n",
       "    </tr>\n",
       "  </tbody>\n",
       "</table>\n",
       "</div>"
      ],
      "text/plain": [
       "           Symbol Series  Prev Close    Open   High     Low   Last   Close  \\\n",
       "Date                                                                         \n",
       "2021-07-02   SBIN     EQ      420.40  420.30  425.4  419.00  424.8  424.40   \n",
       "2021-07-05   SBIN     EQ      424.40  426.50  434.5  424.25  433.7  432.65   \n",
       "2021-07-06   SBIN     EQ      432.65  431.70  436.5  428.20  429.3  429.75   \n",
       "2021-07-07   SBIN     EQ      429.75  429.35  434.0  427.55  433.0  432.85   \n",
       "2021-07-08   SBIN     EQ      432.85  432.80  435.4  422.10  424.5  424.45   \n",
       "\n",
       "              VWAP    Volume      Turnover  Trades  Deliverable Volume  \\\n",
       "Date                                                                     \n",
       "2021-07-02  422.72  16423811  6.942676e+14  150826             4269757   \n",
       "2021-07-05  428.55  16483761  7.064127e+14  153743             5660728   \n",
       "2021-07-06  433.45  20195278  8.753558e+14  209939             5413566   \n",
       "2021-07-07  431.00  14473774  6.238136e+14  130765             3715611   \n",
       "2021-07-08  429.03  21433043  9.195494e+14  215558             5669467   \n",
       "\n",
       "            %Deliverble  \n",
       "Date                     \n",
       "2021-07-02       0.2600  \n",
       "2021-07-05       0.3434  \n",
       "2021-07-06       0.2681  \n",
       "2021-07-07       0.2567  \n",
       "2021-07-08       0.2645  "
      ]
     },
     "execution_count": 23,
     "metadata": {},
     "output_type": "execute_result"
    }
   ],
   "source": [
    "sbi_historical_data = get_hist_data()\n",
    "sbi_historical_data.tail()"
   ]
  },
  {
   "cell_type": "code",
   "execution_count": 15,
   "id": "622b7fb1",
   "metadata": {},
   "outputs": [
    {
     "data": {
      "text/plain": [
       "1360"
      ]
     },
     "execution_count": 15,
     "metadata": {},
     "output_type": "execute_result"
    }
   ],
   "source": [
    "len(sbi_historical_data)"
   ]
  },
  {
   "cell_type": "code",
   "execution_count": 26,
   "id": "5353e3d5",
   "metadata": {},
   "outputs": [],
   "source": [
    "ticker = 'SBIN.NS'\n",
    "sbi_y_data = yf.download(ticker, start=datetime.datetime.today()-datetime.timedelta(5*365+2), end = datetime.datetime.today(), interval = '1d', progress = False)\n"
   ]
  },
  {
   "cell_type": "code",
   "execution_count": 29,
   "id": "1f76a443",
   "metadata": {},
   "outputs": [
    {
     "data": {
      "text/html": [
       "<div>\n",
       "<style scoped>\n",
       "    .dataframe tbody tr th:only-of-type {\n",
       "        vertical-align: middle;\n",
       "    }\n",
       "\n",
       "    .dataframe tbody tr th {\n",
       "        vertical-align: top;\n",
       "    }\n",
       "\n",
       "    .dataframe thead th {\n",
       "        text-align: right;\n",
       "    }\n",
       "</style>\n",
       "<table border=\"1\" class=\"dataframe\">\n",
       "  <thead>\n",
       "    <tr style=\"text-align: right;\">\n",
       "      <th></th>\n",
       "      <th>Open</th>\n",
       "      <th>High</th>\n",
       "      <th>Low</th>\n",
       "      <th>Close</th>\n",
       "      <th>Adj Close</th>\n",
       "      <th>Volume</th>\n",
       "    </tr>\n",
       "    <tr>\n",
       "      <th>Date</th>\n",
       "      <th></th>\n",
       "      <th></th>\n",
       "      <th></th>\n",
       "      <th></th>\n",
       "      <th></th>\n",
       "      <th></th>\n",
       "    </tr>\n",
       "  </thead>\n",
       "  <tbody>\n",
       "    <tr>\n",
       "      <th>2021-07-02</th>\n",
       "      <td>420.299988</td>\n",
       "      <td>425.399994</td>\n",
       "      <td>419.000000</td>\n",
       "      <td>424.399994</td>\n",
       "      <td>424.399994</td>\n",
       "      <td>16423811</td>\n",
       "    </tr>\n",
       "    <tr>\n",
       "      <th>2021-07-05</th>\n",
       "      <td>426.500000</td>\n",
       "      <td>434.500000</td>\n",
       "      <td>424.250000</td>\n",
       "      <td>432.649994</td>\n",
       "      <td>432.649994</td>\n",
       "      <td>16483761</td>\n",
       "    </tr>\n",
       "    <tr>\n",
       "      <th>2021-07-06</th>\n",
       "      <td>431.700012</td>\n",
       "      <td>436.500000</td>\n",
       "      <td>428.200012</td>\n",
       "      <td>429.750000</td>\n",
       "      <td>429.750000</td>\n",
       "      <td>20195278</td>\n",
       "    </tr>\n",
       "    <tr>\n",
       "      <th>2021-07-07</th>\n",
       "      <td>429.350006</td>\n",
       "      <td>434.000000</td>\n",
       "      <td>427.549988</td>\n",
       "      <td>432.850006</td>\n",
       "      <td>432.850006</td>\n",
       "      <td>14473774</td>\n",
       "    </tr>\n",
       "    <tr>\n",
       "      <th>2021-07-08</th>\n",
       "      <td>432.799988</td>\n",
       "      <td>435.399994</td>\n",
       "      <td>422.100006</td>\n",
       "      <td>424.450012</td>\n",
       "      <td>424.450012</td>\n",
       "      <td>21423955</td>\n",
       "    </tr>\n",
       "  </tbody>\n",
       "</table>\n",
       "</div>"
      ],
      "text/plain": [
       "                  Open        High         Low       Close   Adj Close  \\\n",
       "Date                                                                     \n",
       "2021-07-02  420.299988  425.399994  419.000000  424.399994  424.399994   \n",
       "2021-07-05  426.500000  434.500000  424.250000  432.649994  432.649994   \n",
       "2021-07-06  431.700012  436.500000  428.200012  429.750000  429.750000   \n",
       "2021-07-07  429.350006  434.000000  427.549988  432.850006  432.850006   \n",
       "2021-07-08  432.799988  435.399994  422.100006  424.450012  424.450012   \n",
       "\n",
       "              Volume  \n",
       "Date                  \n",
       "2021-07-02  16423811  \n",
       "2021-07-05  16483761  \n",
       "2021-07-06  20195278  \n",
       "2021-07-07  14473774  \n",
       "2021-07-08  21423955  "
      ]
     },
     "execution_count": 29,
     "metadata": {},
     "output_type": "execute_result"
    }
   ],
   "source": [
    "sbi_y_data.tail()"
   ]
  },
  {
   "cell_type": "code",
   "execution_count": 30,
   "id": "d89be75f",
   "metadata": {},
   "outputs": [
    {
     "name": "stdout",
     "output_type": "stream",
     "text": [
      "1240\n",
      "1234\n",
      "1240\n"
     ]
    }
   ],
   "source": [
    "print(len(sbi_historical_data))\n",
    "print(len(sbi_y_data))\n",
    "print(len(sbi_data))"
   ]
  },
  {
   "cell_type": "code",
   "execution_count": 59,
   "id": "475e8520",
   "metadata": {},
   "outputs": [],
   "source": [
    "## Calculating CAGR : compounded anual growth rate\n",
    "## in the following, we have considered 'Adj Close' column to calculate CAGR\n",
    "## cagr = ((current_price - start_price)**(1/t)) - 1\n",
    "## t = no. of years between start and end price, periods = no. of trading days in a year\n",
    "\n",
    "def get_CAGR(df,periods, price_col_name = 'Adj Close'):\n",
    "    t = len(df) / periods                               \n",
    "    cagr = (df[price_col_name][-1] / df[price_col_name][0]) ** (1/t) - 1\n",
    "    return cagr"
   ]
  },
  {
   "cell_type": "code",
   "execution_count": 8,
   "id": "8cc0d068",
   "metadata": {},
   "outputs": [],
   "source": [
    "ticker = 'SBIN.NS'\n",
    "sbi_test_data = yf.download(ticker, start=datetime.datetime.today()-datetime.timedelta(365), end = datetime.datetime.today(), interval = '1d', progress = False)\n"
   ]
  },
  {
   "cell_type": "code",
   "execution_count": 52,
   "id": "975508a6",
   "metadata": {},
   "outputs": [
    {
     "data": {
      "text/plain": [
       "251"
      ]
     },
     "execution_count": 52,
     "metadata": {},
     "output_type": "execute_result"
    }
   ],
   "source": [
    "len(sbi_test_data)"
   ]
  },
  {
   "cell_type": "code",
   "execution_count": 38,
   "id": "ae6906dd",
   "metadata": {},
   "outputs": [
    {
     "name": "stdout",
     "output_type": "stream",
     "text": [
      "1.2322499185278208\n",
      "1.0\n"
     ]
    }
   ],
   "source": [
    "x,y = get_CAGR(sbi_test_data, 251)\n",
    "print(x)\n",
    "print(y)"
   ]
  },
  {
   "cell_type": "code",
   "execution_count": 45,
   "id": "ee0a0d6f",
   "metadata": {},
   "outputs": [],
   "source": [
    "def get_CAGR_inv(investment, current_value, periods):  ## periods in days\n",
    "    t = periods / 365.25                              \n",
    "    cagr = (current_value / investment) ** (1/t) - 1\n",
    "    return cagr"
   ]
  },
  {
   "cell_type": "code",
   "execution_count": 49,
   "id": "df4c5bdf",
   "metadata": {},
   "outputs": [
    {
     "data": {
      "text/plain": [
       "0.10416439845720604"
      ]
     },
     "execution_count": 49,
     "metadata": {},
     "output_type": "execute_result"
    }
   ],
   "source": [
    "get_CAGR_inv(100000, 200000, 365*7)"
   ]
  },
  {
   "cell_type": "code",
   "execution_count": 51,
   "id": "f10b8f10",
   "metadata": {},
   "outputs": [],
   "source": [
    "## volatility : how much volatility per year i.e. how volatile your portfolio is\n",
    "## volatility = std deviation(returns) X squareroot(#periods)\n",
    "## periods = periods per year i.e. 52 weeks, 12 months, no. of trading days etc. depending on data\n",
    "\n",
    "def get_volatility(df_original, periods, price_col_name = 'Adj Close'):\n",
    "    df = df_original.copy()\n",
    "    df['periodic_return'] = df[price_col_name].pct_change()\n",
    "    return df['periodic_return'].std() * (periods**0.5)"
   ]
  },
  {
   "cell_type": "code",
   "execution_count": 53,
   "id": "99a96e5c",
   "metadata": {},
   "outputs": [
    {
     "data": {
      "text/plain": [
       "0.37870543264373435"
      ]
     },
     "execution_count": 53,
     "metadata": {},
     "output_type": "execute_result"
    }
   ],
   "source": [
    "get_volatility(sbi_test_data, 251)"
   ]
  },
  {
   "cell_type": "code",
   "execution_count": 65,
   "id": "84854496",
   "metadata": {},
   "outputs": [],
   "source": [
    "## Sharpe ratio i.e. risk adjusted return - the higher the better\n",
    "## ratio = (CAGR - RFR) / volatility, where RFR = Risk free rate(returns of assets with 0% risk)\n",
    "## RFR is generally US 10 year treasury rate which is around 1.63% now\n",
    "## we may consider this as our savings bank rate i.e.4%\n",
    "\n",
    "def get_sharpe_ratio(df_original, periods, risk_free_rate, price_col_name = 'Adj Close'):\n",
    "    return (get_CAGR(df_original,periods, price_col_name = price_col_name) - risk_free_rate)/get_volatility(df_original, periods, price_col_name = price_col_name)\n"
   ]
  },
  {
   "cell_type": "code",
   "execution_count": 60,
   "id": "fde59ba1",
   "metadata": {},
   "outputs": [
    {
     "data": {
      "text/plain": [
       "3.2108066420893437"
      ]
     },
     "execution_count": 60,
     "metadata": {},
     "output_type": "execute_result"
    }
   ],
   "source": [
    "get_sharpe_ratio(sbi_test_data, 251, 0.0163)  # with US 10 year treasury interest rate"
   ]
  },
  {
   "cell_type": "code",
   "execution_count": 61,
   "id": "3fe94a90",
   "metadata": {},
   "outputs": [
    {
     "data": {
      "text/plain": [
       "3.1482250207100284"
      ]
     },
     "execution_count": 61,
     "metadata": {},
     "output_type": "execute_result"
    }
   ],
   "source": [
    "get_sharpe_ratio(sbi_test_data, 251, 0.04)  # with our savings bank interest rate"
   ]
  },
  {
   "cell_type": "code",
   "execution_count": 62,
   "id": "aa8cbb1f",
   "metadata": {},
   "outputs": [],
   "source": [
    "# negative annualised volatility i.e. how much negative volatility per year \n",
    "# This is almost same as volatility but we take the standard deviation of returns only when the value of portfolio drops or \n",
    "# returns of negative days\n",
    "# negative volatility = std deviation(returns when value drops) X squareroot(#periods)\n",
    "# negative volatility is less than total volatility since total volatility takes care of positive volatolity also\n",
    "\n",
    "def get_negative_volatility(df_original, periods, price_col_name = 'Adj Close'):\n",
    "    df = df_original.copy()\n",
    "    df['periodic_return'] = df[price_col_name].pct_change()\n",
    "    return df[df['periodic_return']<0]['periodic_return'].std() * (periods**0.5)"
   ]
  },
  {
   "cell_type": "code",
   "execution_count": 63,
   "id": "c8e17120",
   "metadata": {},
   "outputs": [
    {
     "data": {
      "text/plain": [
       "0.22000468311975838"
      ]
     },
     "execution_count": 63,
     "metadata": {},
     "output_type": "execute_result"
    }
   ],
   "source": [
    "get_negative_volatility(sbi_test_data, 251)"
   ]
  },
  {
   "cell_type": "code",
   "execution_count": 66,
   "id": "20849b0c",
   "metadata": {},
   "outputs": [],
   "source": [
    "# Sortino ratio\n",
    "# ratio = (CAGR - RFR) / negative_volatility, where RFR = Risk free rate(returns of assets with 0% risk)\n",
    "\n",
    "def get_sortino_ratio(df_original, periods, risk_free_rate, price_col_name = 'Adj Close'):\n",
    "    return (get_CAGR(df_original,periods, price_col_name = price_col_name) - risk_free_rate)/get_negative_volatility(df_original, periods, price_col_name = price_col_name)\n"
   ]
  },
  {
   "cell_type": "code",
   "execution_count": 67,
   "id": "708a8f8a",
   "metadata": {},
   "outputs": [
    {
     "data": {
      "text/plain": [
       "5.526927433021619"
      ]
     },
     "execution_count": 67,
     "metadata": {},
     "output_type": "execute_result"
    }
   ],
   "source": [
    "get_sortino_ratio(sbi_test_data, 251, 0.0163)"
   ]
  },
  {
   "cell_type": "code",
   "execution_count": 68,
   "id": "f47da68c",
   "metadata": {},
   "outputs": [],
   "source": [
    "# Maximum drawdown that measures the most the stock falls from its peak i.e. downside risk\n",
    "# ratio = (peak high - trough low) / peak high\n",
    "\n",
    "def get_max_drawdown(df_original, price_col_name = 'Adj Close'):\n",
    "    df = df_original.copy()\n",
    "    df['periodic_return'] = df[price_col_name].pct_change()\n",
    "    df['cum_return'] = (1 + df['periodic_return']).cumprod()\n",
    "    df['cum_roll_max'] = df['cum_return'].cummax()\n",
    "    df['drawdown'] = df['cum_roll_max'] - df['cum_return']\n",
    "    df['drawdown_pct'] = df['drawdown'] / df['cum_roll_max']\n",
    "    return df['drawdown_pct'].max()"
   ]
  },
  {
   "cell_type": "code",
   "execution_count": 69,
   "id": "911d7f34",
   "metadata": {},
   "outputs": [
    {
     "data": {
      "text/plain": [
       "0.21569935852189487"
      ]
     },
     "execution_count": 69,
     "metadata": {},
     "output_type": "execute_result"
    }
   ],
   "source": [
    "get_max_drawdown(sbi_test_data)"
   ]
  },
  {
   "cell_type": "code",
   "execution_count": 78,
   "id": "92c933b5",
   "metadata": {},
   "outputs": [],
   "source": [
    "## summary\n",
    "\n",
    "def print_strategy_summary(name, periods, df_original, risk_free_rate, price_col_name = 'Adj Close'):\n",
    "    print(name)\n",
    "    print('CAGR : ', format(get_CAGR(df_original,periods, price_col_name = price_col_name)))\n",
    "    print('Volatility : ', format(get_volatility(df_original, periods, price_col_name = price_col_name)))\n",
    "    print('Sharpe Ratio : ', format(get_sharpe_ratio(df_original, periods, risk_free_rate, price_col_name = price_col_name)))\n",
    "    print('Negative Volatility : ', format(get_negative_volatility(df_original, periods, price_col_name = price_col_name)))\n",
    "    print('Sortino Ratio : ', format(get_sortino_ratio(df_original, periods, risk_free_rate, price_col_name = price_col_name)))\n",
    "    print('Max Drawdown : ', format(get_max_drawdown(df_original, price_col_name = price_col_name)))"
   ]
  },
  {
   "cell_type": "code",
   "execution_count": 79,
   "id": "14310a76",
   "metadata": {},
   "outputs": [
    {
     "name": "stdout",
     "output_type": "stream",
     "text": [
      "SBIN\n",
      "CAGR :  1.2322499185278208\n",
      "Volatility :  0.37870543264373435\n",
      "Sharpe Ratio :  3.2108066420893437\n",
      "Negative Volatility :  0.22000468311975838\n",
      "Sortino Ratio :  5.526927433021619\n",
      "Max Drawdown :  0.21569935852189487\n"
     ]
    }
   ],
   "source": [
    "print_strategy_summary('SBIN', 251, sbi_test_data, .0163)"
   ]
  },
  {
   "cell_type": "code",
   "execution_count": 25,
   "id": "0445b6b8",
   "metadata": {},
   "outputs": [],
   "source": [
    "# Moving Average, ewm = exponential weighted moving average, span = how many periods, in no. of 'interval', is it averaging\n",
    "# over. Since we had loaded data with 'interval' = 1d, span should be in no. of days. min_periods = after how many intervals\n",
    "# averaging should start. It is better to keep span = min_periods for this.\n",
    "sbi = sbi_test_data.copy()\n",
    "sbi['mov_av'] = sbi['Adj Close'].ewm(3, min_periods = 3).mean()"
   ]
  },
  {
   "cell_type": "code",
   "execution_count": 28,
   "id": "c245f45b",
   "metadata": {},
   "outputs": [
    {
     "data": {
      "text/html": [
       "<div>\n",
       "<style scoped>\n",
       "    .dataframe tbody tr th:only-of-type {\n",
       "        vertical-align: middle;\n",
       "    }\n",
       "\n",
       "    .dataframe tbody tr th {\n",
       "        vertical-align: top;\n",
       "    }\n",
       "\n",
       "    .dataframe thead th {\n",
       "        text-align: right;\n",
       "    }\n",
       "</style>\n",
       "<table border=\"1\" class=\"dataframe\">\n",
       "  <thead>\n",
       "    <tr style=\"text-align: right;\">\n",
       "      <th></th>\n",
       "      <th>Open</th>\n",
       "      <th>High</th>\n",
       "      <th>Low</th>\n",
       "      <th>Close</th>\n",
       "      <th>Adj Close</th>\n",
       "      <th>Volume</th>\n",
       "      <th>mov_av</th>\n",
       "    </tr>\n",
       "    <tr>\n",
       "      <th>Date</th>\n",
       "      <th></th>\n",
       "      <th></th>\n",
       "      <th></th>\n",
       "      <th></th>\n",
       "      <th></th>\n",
       "      <th></th>\n",
       "      <th></th>\n",
       "    </tr>\n",
       "  </thead>\n",
       "  <tbody>\n",
       "    <tr>\n",
       "      <th>2020-07-09</th>\n",
       "      <td>192.800003</td>\n",
       "      <td>201.000000</td>\n",
       "      <td>192.550003</td>\n",
       "      <td>199.100006</td>\n",
       "      <td>197.278625</td>\n",
       "      <td>89539723</td>\n",
       "      <td>NaN</td>\n",
       "    </tr>\n",
       "    <tr>\n",
       "      <th>2020-07-10</th>\n",
       "      <td>198.000000</td>\n",
       "      <td>202.500000</td>\n",
       "      <td>194.800003</td>\n",
       "      <td>195.600006</td>\n",
       "      <td>193.810638</td>\n",
       "      <td>111406477</td>\n",
       "      <td>NaN</td>\n",
       "    </tr>\n",
       "    <tr>\n",
       "      <th>2020-07-13</th>\n",
       "      <td>198.800003</td>\n",
       "      <td>199.800003</td>\n",
       "      <td>191.600006</td>\n",
       "      <td>192.699997</td>\n",
       "      <td>190.937164</td>\n",
       "      <td>61949761</td>\n",
       "      <td>193.411619</td>\n",
       "    </tr>\n",
       "    <tr>\n",
       "      <th>2020-07-14</th>\n",
       "      <td>192.300003</td>\n",
       "      <td>192.300003</td>\n",
       "      <td>184.600006</td>\n",
       "      <td>186.050003</td>\n",
       "      <td>184.348007</td>\n",
       "      <td>62239932</td>\n",
       "      <td>190.096927</td>\n",
       "    </tr>\n",
       "    <tr>\n",
       "      <th>2020-07-15</th>\n",
       "      <td>187.949997</td>\n",
       "      <td>189.949997</td>\n",
       "      <td>183.000000</td>\n",
       "      <td>183.800003</td>\n",
       "      <td>182.118591</td>\n",
       "      <td>58527305</td>\n",
       "      <td>187.481749</td>\n",
       "    </tr>\n",
       "  </tbody>\n",
       "</table>\n",
       "</div>"
      ],
      "text/plain": [
       "                  Open        High         Low       Close   Adj Close  \\\n",
       "Date                                                                     \n",
       "2020-07-09  192.800003  201.000000  192.550003  199.100006  197.278625   \n",
       "2020-07-10  198.000000  202.500000  194.800003  195.600006  193.810638   \n",
       "2020-07-13  198.800003  199.800003  191.600006  192.699997  190.937164   \n",
       "2020-07-14  192.300003  192.300003  184.600006  186.050003  184.348007   \n",
       "2020-07-15  187.949997  189.949997  183.000000  183.800003  182.118591   \n",
       "\n",
       "               Volume      mov_av  \n",
       "Date                               \n",
       "2020-07-09   89539723         NaN  \n",
       "2020-07-10  111406477         NaN  \n",
       "2020-07-13   61949761  193.411619  \n",
       "2020-07-14   62239932  190.096927  \n",
       "2020-07-15   58527305  187.481749  "
      ]
     },
     "execution_count": 28,
     "metadata": {},
     "output_type": "execute_result"
    }
   ],
   "source": [
    "sbi.head()\n"
   ]
  },
  {
   "cell_type": "code",
   "execution_count": 34,
   "id": "e7b413f6",
   "metadata": {},
   "outputs": [
    {
     "data": {
      "text/html": [
       "<div>\n",
       "<style scoped>\n",
       "    .dataframe tbody tr th:only-of-type {\n",
       "        vertical-align: middle;\n",
       "    }\n",
       "\n",
       "    .dataframe tbody tr th {\n",
       "        vertical-align: top;\n",
       "    }\n",
       "\n",
       "    .dataframe thead th {\n",
       "        text-align: right;\n",
       "    }\n",
       "</style>\n",
       "<table border=\"1\" class=\"dataframe\">\n",
       "  <thead>\n",
       "    <tr style=\"text-align: right;\">\n",
       "      <th></th>\n",
       "      <th>Open</th>\n",
       "      <th>High</th>\n",
       "      <th>Low</th>\n",
       "      <th>Close</th>\n",
       "      <th>Adj Close</th>\n",
       "      <th>Volume</th>\n",
       "      <th>50_dma</th>\n",
       "      <th>50_dma_%</th>\n",
       "      <th>100_dma</th>\n",
       "      <th>200_dma</th>\n",
       "    </tr>\n",
       "    <tr>\n",
       "      <th>Date</th>\n",
       "      <th></th>\n",
       "      <th></th>\n",
       "      <th></th>\n",
       "      <th></th>\n",
       "      <th></th>\n",
       "      <th></th>\n",
       "      <th></th>\n",
       "      <th></th>\n",
       "      <th></th>\n",
       "      <th></th>\n",
       "    </tr>\n",
       "  </thead>\n",
       "  <tbody>\n",
       "    <tr>\n",
       "      <th>2021-06-28</th>\n",
       "      <td>430.700012</td>\n",
       "      <td>433.149994</td>\n",
       "      <td>424.549988</td>\n",
       "      <td>426.750000</td>\n",
       "      <td>426.750000</td>\n",
       "      <td>29370660</td>\n",
       "      <td>390.864669</td>\n",
       "      <td>0.915910</td>\n",
       "      <td>381.710022</td>\n",
       "      <td>307.829790</td>\n",
       "    </tr>\n",
       "    <tr>\n",
       "      <th>2021-06-29</th>\n",
       "      <td>427.500000</td>\n",
       "      <td>428.950012</td>\n",
       "      <td>420.549988</td>\n",
       "      <td>421.500000</td>\n",
       "      <td>421.500000</td>\n",
       "      <td>22275961</td>\n",
       "      <td>392.558858</td>\n",
       "      <td>0.931338</td>\n",
       "      <td>382.846445</td>\n",
       "      <td>308.907299</td>\n",
       "    </tr>\n",
       "    <tr>\n",
       "      <th>2021-06-30</th>\n",
       "      <td>423.000000</td>\n",
       "      <td>424.899994</td>\n",
       "      <td>418.299988</td>\n",
       "      <td>419.200012</td>\n",
       "      <td>419.200012</td>\n",
       "      <td>18337773</td>\n",
       "      <td>394.380446</td>\n",
       "      <td>0.940793</td>\n",
       "      <td>383.737917</td>\n",
       "      <td>309.992383</td>\n",
       "    </tr>\n",
       "    <tr>\n",
       "      <th>2021-07-01</th>\n",
       "      <td>420.299988</td>\n",
       "      <td>423.700012</td>\n",
       "      <td>417.149994</td>\n",
       "      <td>420.399994</td>\n",
       "      <td>420.399994</td>\n",
       "      <td>16161469</td>\n",
       "      <td>396.258732</td>\n",
       "      <td>0.942575</td>\n",
       "      <td>384.613150</td>\n",
       "      <td>311.129045</td>\n",
       "    </tr>\n",
       "    <tr>\n",
       "      <th>2021-07-02</th>\n",
       "      <td>420.299988</td>\n",
       "      <td>425.399994</td>\n",
       "      <td>419.000000</td>\n",
       "      <td>424.399994</td>\n",
       "      <td>424.399994</td>\n",
       "      <td>16423811</td>\n",
       "      <td>398.075325</td>\n",
       "      <td>0.937972</td>\n",
       "      <td>385.338635</td>\n",
       "      <td>312.269359</td>\n",
       "    </tr>\n",
       "    <tr>\n",
       "      <th>2021-07-05</th>\n",
       "      <td>426.500000</td>\n",
       "      <td>434.500000</td>\n",
       "      <td>424.250000</td>\n",
       "      <td>432.649994</td>\n",
       "      <td>432.649994</td>\n",
       "      <td>16483761</td>\n",
       "      <td>400.060882</td>\n",
       "      <td>0.924676</td>\n",
       "      <td>385.770096</td>\n",
       "      <td>313.428380</td>\n",
       "    </tr>\n",
       "    <tr>\n",
       "      <th>2021-07-06</th>\n",
       "      <td>431.700012</td>\n",
       "      <td>436.500000</td>\n",
       "      <td>428.200012</td>\n",
       "      <td>429.750000</td>\n",
       "      <td>429.750000</td>\n",
       "      <td>20195278</td>\n",
       "      <td>401.832876</td>\n",
       "      <td>0.935039</td>\n",
       "      <td>386.133418</td>\n",
       "      <td>314.593709</td>\n",
       "    </tr>\n",
       "    <tr>\n",
       "      <th>2021-07-07</th>\n",
       "      <td>429.350006</td>\n",
       "      <td>434.000000</td>\n",
       "      <td>427.549988</td>\n",
       "      <td>432.850006</td>\n",
       "      <td>432.850006</td>\n",
       "      <td>14473774</td>\n",
       "      <td>403.493471</td>\n",
       "      <td>0.932179</td>\n",
       "      <td>386.550035</td>\n",
       "      <td>315.766364</td>\n",
       "    </tr>\n",
       "    <tr>\n",
       "      <th>2021-07-08</th>\n",
       "      <td>432.799988</td>\n",
       "      <td>435.399994</td>\n",
       "      <td>422.100006</td>\n",
       "      <td>424.450012</td>\n",
       "      <td>424.450012</td>\n",
       "      <td>21433043</td>\n",
       "      <td>404.780959</td>\n",
       "      <td>0.953660</td>\n",
       "      <td>386.907918</td>\n",
       "      <td>316.906680</td>\n",
       "    </tr>\n",
       "    <tr>\n",
       "      <th>2021-07-09</th>\n",
       "      <td>425.000000</td>\n",
       "      <td>427.500000</td>\n",
       "      <td>421.049988</td>\n",
       "      <td>423.750000</td>\n",
       "      <td>423.750000</td>\n",
       "      <td>16837571</td>\n",
       "      <td>406.133716</td>\n",
       "      <td>0.958428</td>\n",
       "      <td>387.279610</td>\n",
       "      <td>318.057120</td>\n",
       "    </tr>\n",
       "  </tbody>\n",
       "</table>\n",
       "</div>"
      ],
      "text/plain": [
       "                  Open        High         Low       Close   Adj Close  \\\n",
       "Date                                                                     \n",
       "2021-06-28  430.700012  433.149994  424.549988  426.750000  426.750000   \n",
       "2021-06-29  427.500000  428.950012  420.549988  421.500000  421.500000   \n",
       "2021-06-30  423.000000  424.899994  418.299988  419.200012  419.200012   \n",
       "2021-07-01  420.299988  423.700012  417.149994  420.399994  420.399994   \n",
       "2021-07-02  420.299988  425.399994  419.000000  424.399994  424.399994   \n",
       "2021-07-05  426.500000  434.500000  424.250000  432.649994  432.649994   \n",
       "2021-07-06  431.700012  436.500000  428.200012  429.750000  429.750000   \n",
       "2021-07-07  429.350006  434.000000  427.549988  432.850006  432.850006   \n",
       "2021-07-08  432.799988  435.399994  422.100006  424.450012  424.450012   \n",
       "2021-07-09  425.000000  427.500000  421.049988  423.750000  423.750000   \n",
       "\n",
       "              Volume      50_dma  50_dma_%     100_dma     200_dma  \n",
       "Date                                                                \n",
       "2021-06-28  29370660  390.864669  0.915910  381.710022  307.829790  \n",
       "2021-06-29  22275961  392.558858  0.931338  382.846445  308.907299  \n",
       "2021-06-30  18337773  394.380446  0.940793  383.737917  309.992383  \n",
       "2021-07-01  16161469  396.258732  0.942575  384.613150  311.129045  \n",
       "2021-07-02  16423811  398.075325  0.937972  385.338635  312.269359  \n",
       "2021-07-05  16483761  400.060882  0.924676  385.770096  313.428380  \n",
       "2021-07-06  20195278  401.832876  0.935039  386.133418  314.593709  \n",
       "2021-07-07  14473774  403.493471  0.932179  386.550035  315.766364  \n",
       "2021-07-08  21433043  404.780959  0.953660  386.907918  316.906680  \n",
       "2021-07-09  16837571  406.133716  0.958428  387.279610  318.057120  "
      ]
     },
     "execution_count": 34,
     "metadata": {},
     "output_type": "execute_result"
    }
   ],
   "source": [
    "# 50,100,200 DMA :\n",
    "sbi = sbi_test_data.copy()\n",
    "#sbi['mov_sum'] = sbi['Adj Close'].rolling(3, min_periods = 3).sum()\n",
    "sbi['50_dma'] = sbi['Adj Close'].rolling(50, min_periods = 50).mean()\n",
    "# 50 dma as % of adj close\n",
    "sbi['50_dma_%'] = sbi['50_dma'] / sbi['Adj Close']\n",
    "sbi['100_dma'] = sbi['Adj Close'].rolling(100, min_periods = 100).mean()\n",
    "sbi['200_dma'] = sbi['Adj Close'].rolling(200, min_periods = 200).mean()\n",
    "sbi.tail(10)"
   ]
  },
  {
   "cell_type": "code",
   "execution_count": null,
   "id": "06a01d25",
   "metadata": {},
   "outputs": [],
   "source": []
  }
 ],
 "metadata": {
  "kernelspec": {
   "display_name": "Python 3",
   "language": "python",
   "name": "python3"
  },
  "language_info": {
   "codemirror_mode": {
    "name": "ipython",
    "version": 3
   },
   "file_extension": ".py",
   "mimetype": "text/x-python",
   "name": "python",
   "nbconvert_exporter": "python",
   "pygments_lexer": "ipython3",
   "version": "3.9.5"
  }
 },
 "nbformat": 4,
 "nbformat_minor": 5
}
