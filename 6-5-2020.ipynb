{
 "cells": [
  {
   "cell_type": "code",
   "execution_count": 1,
   "metadata": {},
   "outputs": [],
   "source": [
    "# https://towardsdatascience.com/faster-r-cnn-object-detection-implemented-by-keras-for-custom-data-from-googles-open-images-125f62b9141a\n",
    "# https://www.analyticsvidhya.com/blog/2018/11/implementation-faster-r-cnn-python-object-detection/\n",
    "# https://github.com/RockyXu66/Faster_RCNN_for_Open_Images_Dataset_Keras/blob/master/Object_Detection_DataPreprocessing.ipynb\n",
    "# https://github.com/you359/Keras-FasterRCNN/commit/6e1c77c81e43d6ea0e953cc736ad9417988a85cb?short_path=d1465ab#diff-d1465ab068be423ae61307431d8bfd65\n"
   ]
  },
  {
   "cell_type": "code",
   "execution_count": 1,
   "metadata": {},
   "outputs": [],
   "source": [
    "import os\n",
    "import xml.etree.ElementTree as ET\n",
    "import pandas as pd"
   ]
  },
  {
   "cell_type": "code",
   "execution_count": 2,
   "metadata": {},
   "outputs": [],
   "source": [
    "import glob\n",
    "\n",
    "files = glob.glob('/home/scar3crow/Downloads/BCCD_Dataset-master/BCCD/Annotations/*.xml')"
   ]
  },
  {
   "cell_type": "code",
   "execution_count": 3,
   "metadata": {},
   "outputs": [],
   "source": [
    "# function to extract bounding boxes from an annotation file\n",
    "\n",
    "def extract_boxes(filename):\n",
    "    \n",
    "    blood_frame = pd.DataFrame()\n",
    "    \n",
    "    # load and parse the file\n",
    "    tree = ET.parse(filename)\n",
    "    \n",
    "    # get the root of the document\n",
    "    root = tree.getroot()\n",
    "    \n",
    "    # extract each bounding box\n",
    "    boxes = list()\n",
    "    i_name = root[1].text    # since image name is in position [1] of .xml file - see .xml file\n",
    "    width = int(root.find('.//size/width').text)\n",
    "    height = int(root.find('.//size/height').text)\n",
    "    \n",
    "    \n",
    "    for box in root.findall('.//object'):\n",
    "        \n",
    "        c_name = box.find('name').text\n",
    "        \n",
    "        xmin = int(box.find('.//bndbox/xmin').text)\n",
    "        ymin = int(box.find('.//bndbox/ymin').text)\n",
    "        xmax = int(box.find('.//bndbox/xmax').text)\n",
    "        ymax = int(box.find('.//bndbox/ymax').text)\n",
    "        coors = [i_name, c_name, xmin, xmax, ymin, ymax, width, height]\n",
    "        boxes.append(coors)\n",
    "    blood_frame = pd.DataFrame(boxes)\n",
    "    \n",
    "    return blood_frame"
   ]
  },
  {
   "cell_type": "code",
   "execution_count": 4,
   "metadata": {},
   "outputs": [
    {
     "data": {
      "text/html": [
       "<div>\n",
       "<style scoped>\n",
       "    .dataframe tbody tr th:only-of-type {\n",
       "        vertical-align: middle;\n",
       "    }\n",
       "\n",
       "    .dataframe tbody tr th {\n",
       "        vertical-align: top;\n",
       "    }\n",
       "\n",
       "    .dataframe thead th {\n",
       "        text-align: right;\n",
       "    }\n",
       "</style>\n",
       "<table border=\"1\" class=\"dataframe\">\n",
       "  <thead>\n",
       "    <tr style=\"text-align: right;\">\n",
       "      <th></th>\n",
       "      <th>0</th>\n",
       "      <th>1</th>\n",
       "      <th>2</th>\n",
       "      <th>3</th>\n",
       "      <th>4</th>\n",
       "      <th>5</th>\n",
       "      <th>6</th>\n",
       "      <th>7</th>\n",
       "    </tr>\n",
       "  </thead>\n",
       "  <tbody>\n",
       "    <tr>\n",
       "      <th>0</th>\n",
       "      <td>BloodImage_00057.jpg</td>\n",
       "      <td>RBC</td>\n",
       "      <td>488</td>\n",
       "      <td>596</td>\n",
       "      <td>252</td>\n",
       "      <td>357</td>\n",
       "      <td>640</td>\n",
       "      <td>480</td>\n",
       "    </tr>\n",
       "    <tr>\n",
       "      <th>1</th>\n",
       "      <td>BloodImage_00057.jpg</td>\n",
       "      <td>RBC</td>\n",
       "      <td>393</td>\n",
       "      <td>487</td>\n",
       "      <td>127</td>\n",
       "      <td>214</td>\n",
       "      <td>640</td>\n",
       "      <td>480</td>\n",
       "    </tr>\n",
       "    <tr>\n",
       "      <th>2</th>\n",
       "      <td>BloodImage_00057.jpg</td>\n",
       "      <td>RBC</td>\n",
       "      <td>460</td>\n",
       "      <td>565</td>\n",
       "      <td>64</td>\n",
       "      <td>172</td>\n",
       "      <td>640</td>\n",
       "      <td>480</td>\n",
       "    </tr>\n",
       "  </tbody>\n",
       "</table>\n",
       "</div>"
      ],
      "text/plain": [
       "                      0    1    2    3    4    5    6    7\n",
       "0  BloodImage_00057.jpg  RBC  488  596  252  357  640  480\n",
       "1  BloodImage_00057.jpg  RBC  393  487  127  214  640  480\n",
       "2  BloodImage_00057.jpg  RBC  460  565   64  172  640  480"
      ]
     },
     "execution_count": 4,
     "metadata": {},
     "output_type": "execute_result"
    }
   ],
   "source": [
    "# extract details form annotation file\n",
    "train = extract_boxes(files[1])\n",
    "# summarize extracted details\n",
    "train.head(3)"
   ]
  },
  {
   "cell_type": "code",
   "execution_count": 5,
   "metadata": {},
   "outputs": [],
   "source": [
    "col_names = ['image_names', 'cell_type', 'xmin', 'xmax', 'ymin', 'ymax', 'width', 'height']\n",
    "\n",
    "b_frame = pd.DataFrame()\n",
    "\n",
    "for i in range(len(files)):\n",
    "#    b_frame.append(extract_boxes(files[i]))\n",
    "    b_frame = pd.concat([b_frame, extract_boxes(files[i])])\n",
    "    \n",
    "b_frame.columns = col_names\n",
    "\n",
    "b_frame = b_frame.reset_index(drop = True)"
   ]
  },
  {
   "cell_type": "code",
   "execution_count": 6,
   "metadata": {},
   "outputs": [
    {
     "data": {
      "text/html": [
       "<div>\n",
       "<style scoped>\n",
       "    .dataframe tbody tr th:only-of-type {\n",
       "        vertical-align: middle;\n",
       "    }\n",
       "\n",
       "    .dataframe tbody tr th {\n",
       "        vertical-align: top;\n",
       "    }\n",
       "\n",
       "    .dataframe thead th {\n",
       "        text-align: right;\n",
       "    }\n",
       "</style>\n",
       "<table border=\"1\" class=\"dataframe\">\n",
       "  <thead>\n",
       "    <tr style=\"text-align: right;\">\n",
       "      <th></th>\n",
       "      <th>image_names</th>\n",
       "      <th>cell_type</th>\n",
       "      <th>xmin</th>\n",
       "      <th>xmax</th>\n",
       "      <th>ymin</th>\n",
       "      <th>ymax</th>\n",
       "      <th>width</th>\n",
       "      <th>height</th>\n",
       "    </tr>\n",
       "  </thead>\n",
       "  <tbody>\n",
       "    <tr>\n",
       "      <th>4885</th>\n",
       "      <td>BloodImage_00248.jpg</td>\n",
       "      <td>WBC</td>\n",
       "      <td>149</td>\n",
       "      <td>354</td>\n",
       "      <td>233</td>\n",
       "      <td>423</td>\n",
       "      <td>640</td>\n",
       "      <td>480</td>\n",
       "    </tr>\n",
       "    <tr>\n",
       "      <th>4886</th>\n",
       "      <td>BloodImage_00147.jpg</td>\n",
       "      <td>Platelets</td>\n",
       "      <td>200</td>\n",
       "      <td>238</td>\n",
       "      <td>249</td>\n",
       "      <td>294</td>\n",
       "      <td>640</td>\n",
       "      <td>480</td>\n",
       "    </tr>\n",
       "    <tr>\n",
       "      <th>4887</th>\n",
       "      <td>BloodImage_00147.jpg</td>\n",
       "      <td>WBC</td>\n",
       "      <td>339</td>\n",
       "      <td>514</td>\n",
       "      <td>42</td>\n",
       "      <td>207</td>\n",
       "      <td>640</td>\n",
       "      <td>480</td>\n",
       "    </tr>\n",
       "  </tbody>\n",
       "</table>\n",
       "</div>"
      ],
      "text/plain": [
       "               image_names  cell_type  xmin  xmax  ymin  ymax  width  height\n",
       "4885  BloodImage_00248.jpg        WBC   149   354   233   423    640     480\n",
       "4886  BloodImage_00147.jpg  Platelets   200   238   249   294    640     480\n",
       "4887  BloodImage_00147.jpg        WBC   339   514    42   207    640     480"
      ]
     },
     "execution_count": 6,
     "metadata": {},
     "output_type": "execute_result"
    }
   ],
   "source": [
    "b_frame.tail(3)"
   ]
  },
  {
   "cell_type": "code",
   "execution_count": 7,
   "metadata": {},
   "outputs": [
    {
     "name": "stdout",
     "output_type": "stream",
     "text": [
      "364\n",
      "RBC          4155\n",
      "WBC           372\n",
      "Platelets     361\n",
      "Name: cell_type, dtype: int64\n"
     ]
    }
   ],
   "source": [
    "print(b_frame['image_names'].nunique())  # print total no, of unique images\n",
    "\n",
    "print(b_frame['cell_type'].value_counts()) # print no. of different classes\n"
   ]
  },
  {
   "cell_type": "code",
   "execution_count": 8,
   "metadata": {},
   "outputs": [],
   "source": [
    "train = pd.DataFrame()\n",
    "train = b_frame.copy()"
   ]
  },
  {
   "cell_type": "code",
   "execution_count": 9,
   "metadata": {},
   "outputs": [
    {
     "data": {
      "text/html": [
       "<div>\n",
       "<style scoped>\n",
       "    .dataframe tbody tr th:only-of-type {\n",
       "        vertical-align: middle;\n",
       "    }\n",
       "\n",
       "    .dataframe tbody tr th {\n",
       "        vertical-align: top;\n",
       "    }\n",
       "\n",
       "    .dataframe thead th {\n",
       "        text-align: right;\n",
       "    }\n",
       "</style>\n",
       "<table border=\"1\" class=\"dataframe\">\n",
       "  <thead>\n",
       "    <tr style=\"text-align: right;\">\n",
       "      <th></th>\n",
       "      <th>image_names</th>\n",
       "      <th>cell_type</th>\n",
       "      <th>xmin</th>\n",
       "      <th>xmax</th>\n",
       "      <th>ymin</th>\n",
       "      <th>ymax</th>\n",
       "      <th>width</th>\n",
       "      <th>height</th>\n",
       "    </tr>\n",
       "  </thead>\n",
       "  <tbody>\n",
       "    <tr>\n",
       "      <th>4885</th>\n",
       "      <td>BloodImage_00248.jpg</td>\n",
       "      <td>WBC</td>\n",
       "      <td>149</td>\n",
       "      <td>354</td>\n",
       "      <td>233</td>\n",
       "      <td>423</td>\n",
       "      <td>640</td>\n",
       "      <td>480</td>\n",
       "    </tr>\n",
       "    <tr>\n",
       "      <th>4886</th>\n",
       "      <td>BloodImage_00147.jpg</td>\n",
       "      <td>Platelets</td>\n",
       "      <td>200</td>\n",
       "      <td>238</td>\n",
       "      <td>249</td>\n",
       "      <td>294</td>\n",
       "      <td>640</td>\n",
       "      <td>480</td>\n",
       "    </tr>\n",
       "    <tr>\n",
       "      <th>4887</th>\n",
       "      <td>BloodImage_00147.jpg</td>\n",
       "      <td>WBC</td>\n",
       "      <td>339</td>\n",
       "      <td>514</td>\n",
       "      <td>42</td>\n",
       "      <td>207</td>\n",
       "      <td>640</td>\n",
       "      <td>480</td>\n",
       "    </tr>\n",
       "  </tbody>\n",
       "</table>\n",
       "</div>"
      ],
      "text/plain": [
       "               image_names  cell_type  xmin  xmax  ymin  ymax  width  height\n",
       "4885  BloodImage_00248.jpg        WBC   149   354   233   423    640     480\n",
       "4886  BloodImage_00147.jpg  Platelets   200   238   249   294    640     480\n",
       "4887  BloodImage_00147.jpg        WBC   339   514    42   207    640     480"
      ]
     },
     "execution_count": 9,
     "metadata": {},
     "output_type": "execute_result"
    }
   ],
   "source": [
    "train.tail(3)"
   ]
  },
  {
   "cell_type": "code",
   "execution_count": 10,
   "metadata": {},
   "outputs": [],
   "source": [
    "data = pd.DataFrame()\n",
    "data['format'] = train['image_names']\n"
   ]
  },
  {
   "cell_type": "code",
   "execution_count": 11,
   "metadata": {},
   "outputs": [
    {
     "data": {
      "text/html": [
       "<div>\n",
       "<style scoped>\n",
       "    .dataframe tbody tr th:only-of-type {\n",
       "        vertical-align: middle;\n",
       "    }\n",
       "\n",
       "    .dataframe tbody tr th {\n",
       "        vertical-align: top;\n",
       "    }\n",
       "\n",
       "    .dataframe thead th {\n",
       "        text-align: right;\n",
       "    }\n",
       "</style>\n",
       "<table border=\"1\" class=\"dataframe\">\n",
       "  <thead>\n",
       "    <tr style=\"text-align: right;\">\n",
       "      <th></th>\n",
       "      <th>format</th>\n",
       "    </tr>\n",
       "  </thead>\n",
       "  <tbody>\n",
       "    <tr>\n",
       "      <th>0</th>\n",
       "      <td>BloodImage_00111.jpg</td>\n",
       "    </tr>\n",
       "    <tr>\n",
       "      <th>1</th>\n",
       "      <td>BloodImage_00111.jpg</td>\n",
       "    </tr>\n",
       "    <tr>\n",
       "      <th>2</th>\n",
       "      <td>BloodImage_00111.jpg</td>\n",
       "    </tr>\n",
       "    <tr>\n",
       "      <th>3</th>\n",
       "      <td>BloodImage_00111.jpg</td>\n",
       "    </tr>\n",
       "    <tr>\n",
       "      <th>4</th>\n",
       "      <td>BloodImage_00111.jpg</td>\n",
       "    </tr>\n",
       "  </tbody>\n",
       "</table>\n",
       "</div>"
      ],
      "text/plain": [
       "                 format\n",
       "0  BloodImage_00111.jpg\n",
       "1  BloodImage_00111.jpg\n",
       "2  BloodImage_00111.jpg\n",
       "3  BloodImage_00111.jpg\n",
       "4  BloodImage_00111.jpg"
      ]
     },
     "execution_count": 11,
     "metadata": {},
     "output_type": "execute_result"
    }
   ],
   "source": [
    "data.head()"
   ]
  },
  {
   "cell_type": "code",
   "execution_count": 12,
   "metadata": {},
   "outputs": [
    {
     "data": {
      "text/plain": [
       "'/home/scar3crow/Dropbox/WorkStation-Subrata/python'"
      ]
     },
     "execution_count": 12,
     "metadata": {},
     "output_type": "execute_result"
    }
   ],
   "source": [
    "pwd"
   ]
  },
  {
   "cell_type": "code",
   "execution_count": null,
   "metadata": {},
   "outputs": [],
   "source": [
    "/home/scar3crow/Downloads/BCCD_Dataset-master/BCCD/JPEGImages/train_images"
   ]
  },
  {
   "cell_type": "code",
   "execution_count": 17,
   "metadata": {},
   "outputs": [],
   "source": [
    "# as the images are in train_images folder, add train_images before the image name\n",
    "for i in range(data.shape[0]):\n",
    "    data['format'][i] = '/home/scar3crow/Downloads/BCCD_Dataset-master/BCCD/JPEGImages/train_images/' + data['format'][i]\n",
    "\n",
    "# add xmin, ymin, xmax, ymax and class as per the format required\n",
    "for i in range(data.shape[0]):\n",
    "    data['format'][i] = data['format'][i] + ',' + str(train['xmin'][i]) + ',' + str(train['ymin'][i]) + ',' + str(train['xmax'][i]) + ',' + str(train['ymax'][i]) + ',' + train['cell_type'][i]\n",
    "\n",
    "data.to_csv('annotate.txt', header=None, index=None, sep=' ')\n"
   ]
  },
  {
   "cell_type": "code",
   "execution_count": 18,
   "metadata": {},
   "outputs": [
    {
     "name": "stdout",
     "output_type": "stream",
     "text": [
      "fatal: destination path 'keras-frcnn' already exists and is not an empty directory.\r\n"
     ]
    }
   ],
   "source": [
    "!git clone https://github.com/kbardool/keras-frcnn.git"
   ]
  },
  {
   "cell_type": "code",
   "execution_count": 19,
   "metadata": {},
   "outputs": [
    {
     "name": "stdout",
     "output_type": "stream",
     "text": [
      "/home/scar3crow/Dropbox/WorkStation-Subrata/python/keras-frcnn\n"
     ]
    }
   ],
   "source": [
    "cd keras-frcnn"
   ]
  },
  {
   "cell_type": "code",
   "execution_count": 22,
   "metadata": {},
   "outputs": [
    {
     "name": "stderr",
     "output_type": "stream",
     "text": [
      "Using TensorFlow backend.\n",
      "Usage: ipykernel_launcher.py [options]\n",
      "\n",
      "ipykernel_launcher.py: error: no such option: -f\n"
     ]
    },
    {
     "ename": "SystemExit",
     "evalue": "2",
     "output_type": "error",
     "traceback": [
      "An exception has occurred, use %tb to see the full traceback.\n",
      "\u001b[0;31mSystemExit\u001b[0m\u001b[0;31m:\u001b[0m 2\n"
     ]
    },
    {
     "name": "stderr",
     "output_type": "stream",
     "text": [
      "/home/scar3crow/Dropbox/WorkStation-Subrata/python/venv1/lib/python3.5/site-packages/IPython/core/interactiveshell.py:2969: UserWarning: To exit: use 'exit', 'quit', or Ctrl-D.\n",
      "  warn(\"To exit: use 'exit', 'quit', or Ctrl-D.\", stacklevel=1)\n"
     ]
    }
   ],
   "source": [
    "import train_frcnn"
   ]
  },
  {
   "cell_type": "code",
   "execution_count": 30,
   "metadata": {},
   "outputs": [
    {
     "ename": "NameError",
     "evalue": "name 'train_frcnn' is not defined",
     "output_type": "error",
     "traceback": [
      "\u001b[0;31m---------------------------------------------------------------------------\u001b[0m",
      "\u001b[0;31mNameError\u001b[0m                                 Traceback (most recent call last)",
      "\u001b[0;32m<ipython-input-30-2d97a886fba7>\u001b[0m in \u001b[0;36m<module>\u001b[0;34m()\u001b[0m\n\u001b[0;32m----> 1\u001b[0;31m \u001b[0mtrain_frcnn\u001b[0m\u001b[0;34m.\u001b[0m\u001b[0mannotate\u001b[0m\u001b[0;34m.\u001b[0m\u001b[0mtxt\u001b[0m\u001b[0;34m\u001b[0m\u001b[0m\n\u001b[0m",
      "\u001b[0;31mNameError\u001b[0m: name 'train_frcnn' is not defined"
     ]
    }
   ],
   "source": [
    "train_frcnn.annotate.txt"
   ]
  },
  {
   "cell_type": "code",
   "execution_count": 24,
   "metadata": {},
   "outputs": [
    {
     "ename": "NameError",
     "evalue": "name 'train_frcnn' is not defined",
     "output_type": "error",
     "traceback": [
      "\u001b[0;31m---------------------------------------------------------------------------\u001b[0m",
      "\u001b[0;31mNameError\u001b[0m                                 Traceback (most recent call last)",
      "\u001b[0;32m<ipython-input-24-de9b3f24c3b3>\u001b[0m in \u001b[0;36m<module>\u001b[0;34m()\u001b[0m\n\u001b[0;32m----> 1\u001b[0;31m \u001b[0mtrain_frcnn\u001b[0m\u001b[0;34m(\u001b[0m\u001b[0mannotate\u001b[0m\u001b[0;34m.\u001b[0m\u001b[0mtxt\u001b[0m\u001b[0;34m)\u001b[0m\u001b[0;34m\u001b[0m\u001b[0m\n\u001b[0m",
      "\u001b[0;31mNameError\u001b[0m: name 'train_frcnn' is not defined"
     ]
    }
   ],
   "source": [
    "train_frcnn(annotate.txt)"
   ]
  },
  {
   "cell_type": "code",
   "execution_count": 25,
   "metadata": {},
   "outputs": [
    {
     "name": "stdout",
     "output_type": "stream",
     "text": [
      "\u001b[0m\u001b[01;31mBCCD_Dataset-master.zip\u001b[0m  measure_map.py  requirements.txt  train_frcnn.py\r\n",
      "\u001b[01;34mkeras_frcnn\u001b[0m/             \u001b[01;34m__pycache__\u001b[0m/    test.csv          Untitled1.ipynb\r\n",
      "LICENSE                  README.md       test_frcnn.py     Untitled.ipynb\r\n"
     ]
    }
   ],
   "source": [
    "ls"
   ]
  },
  {
   "cell_type": "code",
   "execution_count": 26,
   "metadata": {},
   "outputs": [
    {
     "data": {
      "text/plain": [
       "'/home/scar3crow/Dropbox/WorkStation-Subrata/python/keras-frcnn'"
      ]
     },
     "execution_count": 26,
     "metadata": {},
     "output_type": "execute_result"
    }
   ],
   "source": [
    "pwd"
   ]
  },
  {
   "cell_type": "code",
   "execution_count": 27,
   "metadata": {},
   "outputs": [
    {
     "data": {
      "text/plain": [
       "<function dir>"
      ]
     },
     "execution_count": 27,
     "metadata": {},
     "output_type": "execute_result"
    }
   ],
   "source": [
    "dir"
   ]
  },
  {
   "cell_type": "code",
   "execution_count": 12,
   "metadata": {},
   "outputs": [
    {
     "ename": "ImportError",
     "evalue": "No module named 'FRCNN'",
     "output_type": "error",
     "traceback": [
      "\u001b[0;31m---------------------------------------------------------------------------\u001b[0m",
      "\u001b[0;31mImportError\u001b[0m                               Traceback (most recent call last)",
      "\u001b[0;32m<ipython-input-12-0aa86eda4e45>\u001b[0m in \u001b[0;36m<module>\u001b[0;34m()\u001b[0m\n\u001b[0;32m----> 1\u001b[0;31m \u001b[0;32mfrom\u001b[0m \u001b[0mFRCNN\u001b[0m \u001b[0;32mimport\u001b[0m \u001b[0mparseAnnotationFile\u001b[0m\u001b[0;34m\u001b[0m\u001b[0m\n\u001b[0m\u001b[1;32m      2\u001b[0m \u001b[0;31m# train_data, classes_count, class_mapping = parseAnnotationFile(annotation_train_path)\u001b[0m\u001b[0;34m\u001b[0m\u001b[0;34m\u001b[0m\u001b[0m\n",
      "\u001b[0;31mImportError\u001b[0m: No module named 'FRCNN'"
     ]
    }
   ],
   "source": [
    "from FRCNN import parseAnnotationFile\n",
    "# train_data, classes_count, class_mapping = parseAnnotationFile(annotation_train_path)"
   ]
  },
  {
   "cell_type": "code",
   "execution_count": 13,
   "metadata": {},
   "outputs": [
    {
     "name": "stdout",
     "output_type": "stream",
     "text": [
      "Cloning into 'tfKerasFRCNN'...\n",
      "remote: Enumerating objects: 38, done.\u001b[K\n",
      "remote: Counting objects: 100% (38/38), done.\u001b[K\n",
      "remote: Compressing objects: 100% (29/29), done.\u001b[K\n",
      "remote: Total 707 (delta 13), reused 31 (delta 9), pack-reused 669\n",
      "Receiving objects: 100% (707/707), 74.51 MiB | 1.47 MiB/s, done.\n",
      "Resolving deltas: 100% (27/27), done.\n",
      "Checking connectivity... done.\n"
     ]
    }
   ],
   "source": [
    "!git clone https://github.com/eleow/tfKerasFRCNN.git"
   ]
  },
  {
   "cell_type": "code",
   "execution_count": 14,
   "metadata": {},
   "outputs": [
    {
     "ename": "ImportError",
     "evalue": "No module named 'FRCNN'",
     "output_type": "error",
     "traceback": [
      "\u001b[0;31m---------------------------------------------------------------------------\u001b[0m",
      "\u001b[0;31mImportError\u001b[0m                               Traceback (most recent call last)",
      "\u001b[0;32m<ipython-input-14-68fef36f8056>\u001b[0m in \u001b[0;36m<module>\u001b[0;34m()\u001b[0m\n\u001b[0;32m----> 1\u001b[0;31m \u001b[0;32mfrom\u001b[0m \u001b[0mFRCNN\u001b[0m \u001b[0;32mimport\u001b[0m \u001b[0mparseAnnotationFile\u001b[0m\u001b[0;34m\u001b[0m\u001b[0m\n\u001b[0m",
      "\u001b[0;31mImportError\u001b[0m: No module named 'FRCNN'"
     ]
    }
   ],
   "source": [
    "from FRCNN import parseAnnotationFile"
   ]
  },
  {
   "cell_type": "code",
   "execution_count": 15,
   "metadata": {},
   "outputs": [
    {
     "name": "stdout",
     "output_type": "stream",
     "text": [
      "/home/scar3crow/Dropbox/WorkStation-Subrata/python/tfKerasFRCNN\n"
     ]
    }
   ],
   "source": [
    "cd tfKerasFRCNN"
   ]
  },
  {
   "cell_type": "code",
   "execution_count": 17,
   "metadata": {},
   "outputs": [
    {
     "ename": "ImportError",
     "evalue": "No module named 'numba'",
     "output_type": "error",
     "traceback": [
      "\u001b[0;31m---------------------------------------------------------------------------\u001b[0m",
      "\u001b[0;31mImportError\u001b[0m                               Traceback (most recent call last)",
      "\u001b[0;32m<ipython-input-17-68fef36f8056>\u001b[0m in \u001b[0;36m<module>\u001b[0;34m()\u001b[0m\n\u001b[0;32m----> 1\u001b[0;31m \u001b[0;32mfrom\u001b[0m \u001b[0mFRCNN\u001b[0m \u001b[0;32mimport\u001b[0m \u001b[0mparseAnnotationFile\u001b[0m\u001b[0;34m\u001b[0m\u001b[0m\n\u001b[0m",
      "\u001b[0;32m~/Dropbox/WorkStation-Subrata/python/tfKerasFRCNN/FRCNN.py\u001b[0m in \u001b[0;36m<module>\u001b[0;34m()\u001b[0m\n\u001b[1;32m     47\u001b[0m \u001b[0;32mfrom\u001b[0m \u001b[0mcollections\u001b[0m \u001b[0;32mimport\u001b[0m \u001b[0mCounter\u001b[0m\u001b[0;34m\u001b[0m\u001b[0m\n\u001b[1;32m     48\u001b[0m \u001b[0;34m\u001b[0m\u001b[0m\n\u001b[0;32m---> 49\u001b[0;31m \u001b[0;32mfrom\u001b[0m \u001b[0mnumba\u001b[0m \u001b[0;32mimport\u001b[0m \u001b[0mjit\u001b[0m\u001b[0;34m\u001b[0m\u001b[0m\n\u001b[0m\u001b[1;32m     50\u001b[0m \u001b[0;34m\u001b[0m\u001b[0m\n\u001b[1;32m     51\u001b[0m \u001b[0mtf\u001b[0m\u001b[0;34m.\u001b[0m\u001b[0mcompat\u001b[0m\u001b[0;34m.\u001b[0m\u001b[0mv1\u001b[0m\u001b[0;34m.\u001b[0m\u001b[0mlogging\u001b[0m\u001b[0;34m.\u001b[0m\u001b[0mset_verbosity\u001b[0m\u001b[0;34m(\u001b[0m\u001b[0mtf\u001b[0m\u001b[0;34m.\u001b[0m\u001b[0mcompat\u001b[0m\u001b[0;34m.\u001b[0m\u001b[0mv1\u001b[0m\u001b[0;34m.\u001b[0m\u001b[0mlogging\u001b[0m\u001b[0;34m.\u001b[0m\u001b[0mERROR\u001b[0m\u001b[0;34m)\u001b[0m\u001b[0;34m\u001b[0m\u001b[0m\n",
      "\u001b[0;31mImportError\u001b[0m: No module named 'numba'"
     ]
    }
   ],
   "source": [
    "from FRCNN import parseAnnotationFile"
   ]
  },
  {
   "cell_type": "code",
   "execution_count": 18,
   "metadata": {},
   "outputs": [
    {
     "name": "stdout",
     "output_type": "stream",
     "text": [
      "/home/scar3crow\n"
     ]
    }
   ],
   "source": [
    "cd ~"
   ]
  },
  {
   "cell_type": "code",
   "execution_count": 20,
   "metadata": {},
   "outputs": [
    {
     "name": "stdout",
     "output_type": "stream",
     "text": [
      "/home/scar3crow/Dropbox/WorkStation-Subrata/python\n"
     ]
    }
   ],
   "source": [
    "cd Dropbox/WorkStation-Subrata/python"
   ]
  },
  {
   "cell_type": "code",
   "execution_count": 21,
   "metadata": {},
   "outputs": [
    {
     "name": "stdout",
     "output_type": "stream",
     "text": [
      "/home/scar3crow/Dropbox/WorkStation-Subrata/python/keras-frcnn\n"
     ]
    }
   ],
   "source": [
    "cd keras-frcnn"
   ]
  },
  {
   "cell_type": "code",
   "execution_count": 27,
   "metadata": {},
   "outputs": [
    {
     "name": "stdout",
     "output_type": "stream",
     "text": [
      "Using TensorFlow backend.\n",
      "/home/scar3crow/Dropbox/WorkStation-Subrata/python/venv1/lib/python3.5/site-packages/tensorflow/python/framework/dtypes.py:523: FutureWarning: Passing (type, 1) or '1type' as a synonym of type is deprecated; in a future version of numpy, it will be understood as (type, (1,)) / '(1,)type'.\n",
      "  _np_qint8 = np.dtype([(\"qint8\", np.int8, 1)])\n",
      "/home/scar3crow/Dropbox/WorkStation-Subrata/python/venv1/lib/python3.5/site-packages/tensorflow/python/framework/dtypes.py:524: FutureWarning: Passing (type, 1) or '1type' as a synonym of type is deprecated; in a future version of numpy, it will be understood as (type, (1,)) / '(1,)type'.\n",
      "  _np_quint8 = np.dtype([(\"quint8\", np.uint8, 1)])\n",
      "/home/scar3crow/Dropbox/WorkStation-Subrata/python/venv1/lib/python3.5/site-packages/tensorflow/python/framework/dtypes.py:525: FutureWarning: Passing (type, 1) or '1type' as a synonym of type is deprecated; in a future version of numpy, it will be understood as (type, (1,)) / '(1,)type'.\n",
      "  _np_qint16 = np.dtype([(\"qint16\", np.int16, 1)])\n",
      "/home/scar3crow/Dropbox/WorkStation-Subrata/python/venv1/lib/python3.5/site-packages/tensorflow/python/framework/dtypes.py:526: FutureWarning: Passing (type, 1) or '1type' as a synonym of type is deprecated; in a future version of numpy, it will be understood as (type, (1,)) / '(1,)type'.\n",
      "  _np_quint16 = np.dtype([(\"quint16\", np.uint16, 1)])\n",
      "/home/scar3crow/Dropbox/WorkStation-Subrata/python/venv1/lib/python3.5/site-packages/tensorflow/python/framework/dtypes.py:527: FutureWarning: Passing (type, 1) or '1type' as a synonym of type is deprecated; in a future version of numpy, it will be understood as (type, (1,)) / '(1,)type'.\n",
      "  _np_qint32 = np.dtype([(\"qint32\", np.int32, 1)])\n",
      "/home/scar3crow/Dropbox/WorkStation-Subrata/python/venv1/lib/python3.5/site-packages/tensorflow/python/framework/dtypes.py:532: FutureWarning: Passing (type, 1) or '1type' as a synonym of type is deprecated; in a future version of numpy, it will be understood as (type, (1,)) / '(1,)type'.\n",
      "  np_resource = np.dtype([(\"resource\", np.ubyte, 1)])\n",
      "Traceback (most recent call last):\n",
      "  File \"train_frcnn.py\", line 79, in <module>\n",
      "    all_imgs, classes_count, class_mapping = get_data(options.train_path)\n",
      "  File \"/home/scar3crow/Dropbox/WorkStation-Subrata/python/keras-frcnn/keras_frcnn/simple_parser.py\", line 14, in get_data\n",
      "    with open(input_path,'r') as f:\n",
      "FileNotFoundError: [Errno 2] No such file or directory: 'annotate.txt'\n"
     ]
    }
   ],
   "source": [
    "!python3 train_frcnn.py -o simple -p annotate.txt"
   ]
  },
  {
   "cell_type": "code",
   "execution_count": 28,
   "metadata": {},
   "outputs": [
    {
     "name": "stdout",
     "output_type": "stream",
     "text": [
      "\u001b[0m\u001b[01;31mBCCD_Dataset-master.zip\u001b[0m  measure_map.py  requirements.txt  train_frcnn.py\r\n",
      "\u001b[01;34mkeras_frcnn\u001b[0m/             \u001b[01;34m__pycache__\u001b[0m/    test.csv          Untitled1.ipynb\r\n",
      "LICENSE                  README.md       test_frcnn.py     Untitled.ipynb\r\n"
     ]
    }
   ],
   "source": [
    "ls"
   ]
  },
  {
   "cell_type": "code",
   "execution_count": 29,
   "metadata": {},
   "outputs": [],
   "source": [
    "# as the images are in train_images folder, add train_images before the image name\n",
    "for i in range(data.shape[0]):\n",
    "    data['format'][i] = '/home/scar3crow/Downloads/BCCD_Dataset-master/BCCD/JPEGImages/train_images/' + data['format'][i]\n",
    "\n",
    "# add xmin, ymin, xmax, ymax and class as per the format required\n",
    "for i in range(data.shape[0]):\n",
    "    data['format'][i] = data['format'][i] + ',' + str(train['xmin'][i]) + ',' + str(train['ymin'][i]) + ',' + str(train['xmax'][i]) + ',' + str(train['ymax'][i]) + ',' + train['cell_type'][i]\n",
    "\n",
    "data.to_csv('annotate.txt', header=None, index=None, sep=' ')\n"
   ]
  },
  {
   "cell_type": "code",
   "execution_count": 30,
   "metadata": {},
   "outputs": [
    {
     "name": "stdout",
     "output_type": "stream",
     "text": [
      "annotate.txt             measure_map.py    test.csv         Untitled.ipynb\r\n",
      "\u001b[0m\u001b[01;31mBCCD_Dataset-master.zip\u001b[0m  \u001b[01;34m__pycache__\u001b[0m/      test_frcnn.py\r\n",
      "\u001b[01;34mkeras_frcnn\u001b[0m/             README.md         train_frcnn.py\r\n",
      "LICENSE                  requirements.txt  Untitled1.ipynb\r\n"
     ]
    }
   ],
   "source": [
    "ls"
   ]
  },
  {
   "cell_type": "code",
   "execution_count": 31,
   "metadata": {},
   "outputs": [
    {
     "name": "stdout",
     "output_type": "stream",
     "text": [
      "Using TensorFlow backend.\n",
      "/home/scar3crow/Dropbox/WorkStation-Subrata/python/venv1/lib/python3.5/site-packages/tensorflow/python/framework/dtypes.py:523: FutureWarning: Passing (type, 1) or '1type' as a synonym of type is deprecated; in a future version of numpy, it will be understood as (type, (1,)) / '(1,)type'.\n",
      "  _np_qint8 = np.dtype([(\"qint8\", np.int8, 1)])\n",
      "/home/scar3crow/Dropbox/WorkStation-Subrata/python/venv1/lib/python3.5/site-packages/tensorflow/python/framework/dtypes.py:524: FutureWarning: Passing (type, 1) or '1type' as a synonym of type is deprecated; in a future version of numpy, it will be understood as (type, (1,)) / '(1,)type'.\n",
      "  _np_quint8 = np.dtype([(\"quint8\", np.uint8, 1)])\n",
      "/home/scar3crow/Dropbox/WorkStation-Subrata/python/venv1/lib/python3.5/site-packages/tensorflow/python/framework/dtypes.py:525: FutureWarning: Passing (type, 1) or '1type' as a synonym of type is deprecated; in a future version of numpy, it will be understood as (type, (1,)) / '(1,)type'.\n",
      "  _np_qint16 = np.dtype([(\"qint16\", np.int16, 1)])\n",
      "/home/scar3crow/Dropbox/WorkStation-Subrata/python/venv1/lib/python3.5/site-packages/tensorflow/python/framework/dtypes.py:526: FutureWarning: Passing (type, 1) or '1type' as a synonym of type is deprecated; in a future version of numpy, it will be understood as (type, (1,)) / '(1,)type'.\n",
      "  _np_quint16 = np.dtype([(\"quint16\", np.uint16, 1)])\n",
      "/home/scar3crow/Dropbox/WorkStation-Subrata/python/venv1/lib/python3.5/site-packages/tensorflow/python/framework/dtypes.py:527: FutureWarning: Passing (type, 1) or '1type' as a synonym of type is deprecated; in a future version of numpy, it will be understood as (type, (1,)) / '(1,)type'.\n",
      "  _np_qint32 = np.dtype([(\"qint32\", np.int32, 1)])\n",
      "/home/scar3crow/Dropbox/WorkStation-Subrata/python/venv1/lib/python3.5/site-packages/tensorflow/python/framework/dtypes.py:532: FutureWarning: Passing (type, 1) or '1type' as a synonym of type is deprecated; in a future version of numpy, it will be understood as (type, (1,)) / '(1,)type'.\n",
      "  np_resource = np.dtype([(\"resource\", np.ubyte, 1)])\n",
      "Parsing annotation files\n",
      "Traceback (most recent call last):\n",
      "  File \"train_frcnn.py\", line 79, in <module>\n",
      "    all_imgs, classes_count, class_mapping = get_data(options.train_path)\n",
      "  File \"/home/scar3crow/Dropbox/WorkStation-Subrata/python/keras-frcnn/keras_frcnn/simple_parser.py\", line 37, in get_data\n",
      "    (rows,cols) = img.shape[:2]\n",
      "AttributeError: 'NoneType' object has no attribute 'shape'\n"
     ]
    }
   ],
   "source": [
    "!python3 train_frcnn.py -o simple -p annotate.txt"
   ]
  },
  {
   "cell_type": "code",
   "execution_count": 33,
   "metadata": {},
   "outputs": [
    {
     "ename": "NameError",
     "evalue": "name 'read' is not defined",
     "output_type": "error",
     "traceback": [
      "\u001b[0;31m---------------------------------------------------------------------------\u001b[0m",
      "\u001b[0;31mNameError\u001b[0m                                 Traceback (most recent call last)",
      "\u001b[0;32m<ipython-input-33-f1c83cc1ad19>\u001b[0m in \u001b[0;36m<module>\u001b[0;34m()\u001b[0m\n\u001b[0;32m----> 1\u001b[0;31m \u001b[0mread\u001b[0m\u001b[0;34m(\u001b[0m\u001b[0mannonate\u001b[0m\u001b[0;34m.\u001b[0m\u001b[0mtxt\u001b[0m\u001b[0;34m)\u001b[0m\u001b[0;34m\u001b[0m\u001b[0m\n\u001b[0m",
      "\u001b[0;31mNameError\u001b[0m: name 'read' is not defined"
     ]
    }
   ],
   "source": [
    "read(annonate.txt)"
   ]
  },
  {
   "cell_type": "code",
   "execution_count": 34,
   "metadata": {},
   "outputs": [
    {
     "data": {
      "text/plain": [
       "'/home/scar3crow/Dropbox/WorkStation-Subrata/python/keras-frcnn'"
      ]
     },
     "execution_count": 34,
     "metadata": {},
     "output_type": "execute_result"
    }
   ],
   "source": [
    "pwd"
   ]
  },
  {
   "cell_type": "code",
   "execution_count": 35,
   "metadata": {},
   "outputs": [
    {
     "name": "stdout",
     "output_type": "stream",
     "text": [
      "Using TensorFlow backend.\n",
      "/home/scar3crow/Dropbox/WorkStation-Subrata/python/venv1/lib/python3.5/site-packages/tensorflow/python/framework/dtypes.py:523: FutureWarning: Passing (type, 1) or '1type' as a synonym of type is deprecated; in a future version of numpy, it will be understood as (type, (1,)) / '(1,)type'.\n",
      "  _np_qint8 = np.dtype([(\"qint8\", np.int8, 1)])\n",
      "/home/scar3crow/Dropbox/WorkStation-Subrata/python/venv1/lib/python3.5/site-packages/tensorflow/python/framework/dtypes.py:524: FutureWarning: Passing (type, 1) or '1type' as a synonym of type is deprecated; in a future version of numpy, it will be understood as (type, (1,)) / '(1,)type'.\n",
      "  _np_quint8 = np.dtype([(\"quint8\", np.uint8, 1)])\n",
      "/home/scar3crow/Dropbox/WorkStation-Subrata/python/venv1/lib/python3.5/site-packages/tensorflow/python/framework/dtypes.py:525: FutureWarning: Passing (type, 1) or '1type' as a synonym of type is deprecated; in a future version of numpy, it will be understood as (type, (1,)) / '(1,)type'.\n",
      "  _np_qint16 = np.dtype([(\"qint16\", np.int16, 1)])\n",
      "/home/scar3crow/Dropbox/WorkStation-Subrata/python/venv1/lib/python3.5/site-packages/tensorflow/python/framework/dtypes.py:526: FutureWarning: Passing (type, 1) or '1type' as a synonym of type is deprecated; in a future version of numpy, it will be understood as (type, (1,)) / '(1,)type'.\n",
      "  _np_quint16 = np.dtype([(\"quint16\", np.uint16, 1)])\n",
      "/home/scar3crow/Dropbox/WorkStation-Subrata/python/venv1/lib/python3.5/site-packages/tensorflow/python/framework/dtypes.py:527: FutureWarning: Passing (type, 1) or '1type' as a synonym of type is deprecated; in a future version of numpy, it will be understood as (type, (1,)) / '(1,)type'.\n",
      "  _np_qint32 = np.dtype([(\"qint32\", np.int32, 1)])\n",
      "/home/scar3crow/Dropbox/WorkStation-Subrata/python/venv1/lib/python3.5/site-packages/tensorflow/python/framework/dtypes.py:532: FutureWarning: Passing (type, 1) or '1type' as a synonym of type is deprecated; in a future version of numpy, it will be understood as (type, (1,)) / '(1,)type'.\n",
      "  np_resource = np.dtype([(\"resource\", np.ubyte, 1)])\n",
      "Parsing annotation files\n",
      "Traceback (most recent call last):\n",
      "  File \"train_frcnn.py\", line 79, in <module>\n",
      "    all_imgs, classes_count, class_mapping = get_data(options.train_path)\n",
      "  File \"/home/scar3crow/Dropbox/WorkStation-Subrata/python/keras-frcnn/keras_frcnn/simple_parser.py\", line 37, in get_data\n",
      "    (rows,cols) = img.shape[:2]\n",
      "AttributeError: 'NoneType' object has no attribute 'shape'\n"
     ]
    }
   ],
   "source": [
    "!python3 train_frcnn.py -o simple -p annotate.txt"
   ]
  },
  {
   "cell_type": "code",
   "execution_count": 36,
   "metadata": {},
   "outputs": [],
   "source": [
    "# as the images are in train_images folder, add train_images before the image name\n",
    "for i in range(data.shape[0]):\n",
    "    data['format'][i] = '/home/scar3crow/Dropbox/WorkStation-Subrata/python/keras-frcnn/train_images/' + data['format'][i]\n",
    "\n",
    "# add xmin, ymin, xmax, ymax and class as per the format required\n",
    "for i in range(data.shape[0]):\n",
    "    data['format'][i] = data['format'][i] + ',' + str(train['xmin'][i]) + ',' + str(train['ymin'][i]) + ',' + str(train['xmax'][i]) + ',' + str(train['ymax'][i]) + ',' + train['cell_type'][i]\n",
    "\n",
    "data.to_csv('annotate_1.txt', header=None, index=None, sep=' ')\n"
   ]
  },
  {
   "cell_type": "code",
   "execution_count": 37,
   "metadata": {},
   "outputs": [
    {
     "name": "stdout",
     "output_type": "stream",
     "text": [
      "Using TensorFlow backend.\n",
      "/home/scar3crow/Dropbox/WorkStation-Subrata/python/venv1/lib/python3.5/site-packages/tensorflow/python/framework/dtypes.py:523: FutureWarning: Passing (type, 1) or '1type' as a synonym of type is deprecated; in a future version of numpy, it will be understood as (type, (1,)) / '(1,)type'.\n",
      "  _np_qint8 = np.dtype([(\"qint8\", np.int8, 1)])\n",
      "/home/scar3crow/Dropbox/WorkStation-Subrata/python/venv1/lib/python3.5/site-packages/tensorflow/python/framework/dtypes.py:524: FutureWarning: Passing (type, 1) or '1type' as a synonym of type is deprecated; in a future version of numpy, it will be understood as (type, (1,)) / '(1,)type'.\n",
      "  _np_quint8 = np.dtype([(\"quint8\", np.uint8, 1)])\n",
      "/home/scar3crow/Dropbox/WorkStation-Subrata/python/venv1/lib/python3.5/site-packages/tensorflow/python/framework/dtypes.py:525: FutureWarning: Passing (type, 1) or '1type' as a synonym of type is deprecated; in a future version of numpy, it will be understood as (type, (1,)) / '(1,)type'.\n",
      "  _np_qint16 = np.dtype([(\"qint16\", np.int16, 1)])\n",
      "/home/scar3crow/Dropbox/WorkStation-Subrata/python/venv1/lib/python3.5/site-packages/tensorflow/python/framework/dtypes.py:526: FutureWarning: Passing (type, 1) or '1type' as a synonym of type is deprecated; in a future version of numpy, it will be understood as (type, (1,)) / '(1,)type'.\n",
      "  _np_quint16 = np.dtype([(\"quint16\", np.uint16, 1)])\n",
      "/home/scar3crow/Dropbox/WorkStation-Subrata/python/venv1/lib/python3.5/site-packages/tensorflow/python/framework/dtypes.py:527: FutureWarning: Passing (type, 1) or '1type' as a synonym of type is deprecated; in a future version of numpy, it will be understood as (type, (1,)) / '(1,)type'.\n",
      "  _np_qint32 = np.dtype([(\"qint32\", np.int32, 1)])\n",
      "/home/scar3crow/Dropbox/WorkStation-Subrata/python/venv1/lib/python3.5/site-packages/tensorflow/python/framework/dtypes.py:532: FutureWarning: Passing (type, 1) or '1type' as a synonym of type is deprecated; in a future version of numpy, it will be understood as (type, (1,)) / '(1,)type'.\n",
      "  np_resource = np.dtype([(\"resource\", np.ubyte, 1)])\n",
      "Parsing annotation files\n",
      "Traceback (most recent call last):\n",
      "  File \"train_frcnn.py\", line 79, in <module>\n",
      "    all_imgs, classes_count, class_mapping = get_data(options.train_path)\n",
      "  File \"/home/scar3crow/Dropbox/WorkStation-Subrata/python/keras-frcnn/keras_frcnn/simple_parser.py\", line 37, in get_data\n",
      "    (rows,cols) = img.shape[:2]\n",
      "AttributeError: 'NoneType' object has no attribute 'shape'\n"
     ]
    }
   ],
   "source": [
    "!python3 train_frcnn.py -o simple -p annotate.txt"
   ]
  },
  {
   "cell_type": "code",
   "execution_count": 58,
   "metadata": {},
   "outputs": [
    {
     "data": {
      "text/plain": [
       "'BloodImage_00111.jpg'"
      ]
     },
     "execution_count": 58,
     "metadata": {},
     "output_type": "execute_result"
    }
   ],
   "source": [
    "data_2 = pd.DataFrame()\n",
    "data_2['format'] = train['image_names']\n",
    "data_2['format'][0]"
   ]
  },
  {
   "cell_type": "code",
   "execution_count": 59,
   "metadata": {},
   "outputs": [
    {
     "name": "stdout",
     "output_type": "stream",
     "text": [
      "/home/scar3crow/Dropbox/WorkStation-Subrata/python/keras-frcnn/train_images/BloodImage_00111.jpg\n"
     ]
    },
    {
     "data": {
      "text/plain": [
       "'/home/scar3crow/Dropbox/WorkStation-Subrata/python/keras-frcnn/train_images/BloodImage_00111.jpg'"
      ]
     },
     "execution_count": 59,
     "metadata": {},
     "output_type": "execute_result"
    }
   ],
   "source": [
    "data_2['format'][0] ='/home/scar3crow/Dropbox/WorkStation-Subrata/python/keras-frcnn/train_images/' + str(data_2['format'][0])\n",
    "\n",
    "print(data_2['format'][0])\n",
    "\n",
    "data_2['format'][0]\n",
    "\n",
    "\n"
   ]
  },
  {
   "cell_type": "code",
   "execution_count": 39,
   "metadata": {},
   "outputs": [],
   "source": [
    "# as the images are in train_images folder, add train_images before the image name\n",
    "for i in range(data.shape[0]):\n",
    "    data_1['format'][i] =\"'/home/scar3crow/Dropbox/WorkStation-Subrata/python/keras-frcnn/train_images/'\" + data_1['format'][i]\n",
    "\n",
    "# add xmin, ymin, xmax, ymax and class as per the format required\n",
    "for i in range(data_1.shape[0]):\n",
    "    data_1['format'][i] = data_1['format'][i] + ',' + str(train['xmin'][i]) + ',' + str(train['ymin'][i]) + ',' + str(train['xmax'][i]) + ',' + str(train['ymax'][i]) + ',' + train['cell_type'][i]\n",
    "\n",
    "data_1.to_csv('annotate_2.txt', header=None, index=None, sep=' ')\n"
   ]
  },
  {
   "cell_type": "code",
   "execution_count": 77,
   "metadata": {},
   "outputs": [
    {
     "name": "stdout",
     "output_type": "stream",
     "text": [
      "Using TensorFlow backend.\n",
      "/home/scar3crow/Dropbox/WorkStation-Subrata/python/venv1/lib/python3.5/site-packages/tensorflow/python/framework/dtypes.py:523: FutureWarning: Passing (type, 1) or '1type' as a synonym of type is deprecated; in a future version of numpy, it will be understood as (type, (1,)) / '(1,)type'.\n",
      "  _np_qint8 = np.dtype([(\"qint8\", np.int8, 1)])\n",
      "/home/scar3crow/Dropbox/WorkStation-Subrata/python/venv1/lib/python3.5/site-packages/tensorflow/python/framework/dtypes.py:524: FutureWarning: Passing (type, 1) or '1type' as a synonym of type is deprecated; in a future version of numpy, it will be understood as (type, (1,)) / '(1,)type'.\n",
      "  _np_quint8 = np.dtype([(\"quint8\", np.uint8, 1)])\n",
      "/home/scar3crow/Dropbox/WorkStation-Subrata/python/venv1/lib/python3.5/site-packages/tensorflow/python/framework/dtypes.py:525: FutureWarning: Passing (type, 1) or '1type' as a synonym of type is deprecated; in a future version of numpy, it will be understood as (type, (1,)) / '(1,)type'.\n",
      "  _np_qint16 = np.dtype([(\"qint16\", np.int16, 1)])\n",
      "/home/scar3crow/Dropbox/WorkStation-Subrata/python/venv1/lib/python3.5/site-packages/tensorflow/python/framework/dtypes.py:526: FutureWarning: Passing (type, 1) or '1type' as a synonym of type is deprecated; in a future version of numpy, it will be understood as (type, (1,)) / '(1,)type'.\n",
      "  _np_quint16 = np.dtype([(\"quint16\", np.uint16, 1)])\n",
      "/home/scar3crow/Dropbox/WorkStation-Subrata/python/venv1/lib/python3.5/site-packages/tensorflow/python/framework/dtypes.py:527: FutureWarning: Passing (type, 1) or '1type' as a synonym of type is deprecated; in a future version of numpy, it will be understood as (type, (1,)) / '(1,)type'.\n",
      "  _np_qint32 = np.dtype([(\"qint32\", np.int32, 1)])\n",
      "/home/scar3crow/Dropbox/WorkStation-Subrata/python/venv1/lib/python3.5/site-packages/tensorflow/python/framework/dtypes.py:532: FutureWarning: Passing (type, 1) or '1type' as a synonym of type is deprecated; in a future version of numpy, it will be understood as (type, (1,)) / '(1,)type'.\n",
      "  np_resource = np.dtype([(\"resource\", np.ubyte, 1)])\n",
      "Parsing annotation files\n",
      "Traceback (most recent call last):\n",
      "  File \"train_frcnn.py\", line 79, in <module>\n",
      "    all_imgs, classes_count, class_mapping = get_data(options.train_path)\n",
      "  File \"/home/scar3crow/Dropbox/WorkStation-Subrata/python/keras-frcnn/keras_frcnn/simple_parser.py\", line 37, in get_data\n",
      "    (rows,cols) = img.shape[:2]\n",
      "AttributeError: 'NoneType' object has no attribute 'shape'\n"
     ]
    }
   ],
   "source": [
    "!python3 train_frcnn.py -o simple -p annotate_2.txt"
   ]
  },
  {
   "cell_type": "code",
   "execution_count": 114,
   "metadata": {},
   "outputs": [
    {
     "ename": "SyntaxError",
     "evalue": "invalid syntax (<ipython-input-114-db3a18154dfb>, line 1)",
     "output_type": "error",
     "traceback": [
      "\u001b[0;36m  File \u001b[0;32m\"<ipython-input-114-db3a18154dfb>\"\u001b[0;36m, line \u001b[0;32m1\u001b[0m\n\u001b[0;31m    f_name = /home/scar3crow/Dropbox/WorkStation-Subrata/python/keras-frcnn/train_images/BloodImage_00111.jpg\u001b[0m\n\u001b[0m             ^\u001b[0m\n\u001b[0;31mSyntaxError\u001b[0m\u001b[0;31m:\u001b[0m invalid syntax\n"
     ]
    }
   ],
   "source": [
    "f_name = /home/scar3crow/Dropbox/WorkStation-Subrata/python/keras-frcnn/train_images/BloodImage_00111.jpg\n"
   ]
  },
  {
   "cell_type": "code",
   "execution_count": 98,
   "metadata": {},
   "outputs": [],
   "source": [
    "f_name =c\n"
   ]
  },
  {
   "cell_type": "code",
   "execution_count": 110,
   "metadata": {},
   "outputs": [],
   "source": [
    "f_name = '/home/scar3crow/Dropbox/WorkStation-Subrata/python/keras-frcnn/train_images/BloodImage_00111.jpg'"
   ]
  },
  {
   "cell_type": "code",
   "execution_count": 111,
   "metadata": {},
   "outputs": [],
   "source": [
    "import cv2 "
   ]
  },
  {
   "cell_type": "code",
   "execution_count": 112,
   "metadata": {},
   "outputs": [],
   "source": [
    "\n",
    "img_1= cv2.imread(f_name)"
   ]
  },
  {
   "cell_type": "code",
   "execution_count": 113,
   "metadata": {},
   "outputs": [
    {
     "data": {
      "text/plain": [
       "(480, 640, 3)"
      ]
     },
     "execution_count": 113,
     "metadata": {},
     "output_type": "execute_result"
    }
   ],
   "source": [
    "img_1.shape"
   ]
  },
  {
   "cell_type": "code",
   "execution_count": 108,
   "metadata": {},
   "outputs": [],
   "source": [
    "img_2 = cv2.imread('/home/scar3crow/Dropbox/WorkStation-Subrata/python/keras-frcnn/train_images/BloodImage_00111.jpg')\n",
    "\n"
   ]
  },
  {
   "cell_type": "code",
   "execution_count": 109,
   "metadata": {},
   "outputs": [
    {
     "data": {
      "text/plain": [
       "(480, 640, 3)"
      ]
     },
     "execution_count": 109,
     "metadata": {},
     "output_type": "execute_result"
    }
   ],
   "source": [
    "img_2.shape"
   ]
  },
  {
   "cell_type": "code",
   "execution_count": 65,
   "metadata": {},
   "outputs": [
    {
     "ename": "SyntaxError",
     "evalue": "can't assign to function call (<ipython-input-65-560e8167f755>, line 1)",
     "output_type": "error",
     "traceback": [
      "\u001b[0;36m  File \u001b[0;32m\"<ipython-input-65-560e8167f755>\"\u001b[0;36m, line \u001b[0;32m1\u001b[0m\n\u001b[0;31m    line_split = f_name.split(',')(filename,x1,y1,x2,y2,class_name) = line_split\u001b[0m\n\u001b[0m                ^\u001b[0m\n\u001b[0;31mSyntaxError\u001b[0m\u001b[0;31m:\u001b[0m can't assign to function call\n"
     ]
    }
   ],
   "source": [
    "line_split = f_name.split(',')(filename,x1,y1,x2,y2,class_name) = line_split\n",
    "\n"
   ]
  },
  {
   "cell_type": "code",
   "execution_count": null,
   "metadata": {},
   "outputs": [],
   "source": []
  },
  {
   "cell_type": "code",
   "execution_count": 61,
   "metadata": {},
   "outputs": [
    {
     "data": {
      "text/plain": [
       "(480, 640, 3)"
      ]
     },
     "execution_count": 61,
     "metadata": {},
     "output_type": "execute_result"
    }
   ],
   "source": [
    "img_1 = cv2.imread(data_2['format'][0])\n",
    "img_1.shape"
   ]
  },
  {
   "cell_type": "code",
   "execution_count": null,
   "metadata": {},
   "outputs": [],
   "source": [
    "/home/scar3crow/Dropbox/WorkStation-Subrata/python/keras-frcnn/train_images/BloodImage_00111.jpg,458,198,571,296,RBC\n",
    "this is in annotation file"
   ]
  },
  {
   "cell_type": "code",
   "execution_count": 68,
   "metadata": {},
   "outputs": [
    {
     "ename": "NameError",
     "evalue": "name 'annotate_2' is not defined",
     "output_type": "error",
     "traceback": [
      "\u001b[0;31m---------------------------------------------------------------------------\u001b[0m",
      "\u001b[0;31mNameError\u001b[0m                                 Traceback (most recent call last)",
      "\u001b[0;32m<ipython-input-68-8862a7008061>\u001b[0m in \u001b[0;36m<module>\u001b[0;34m()\u001b[0m\n\u001b[0;32m----> 1\u001b[0;31m \u001b[0mopen\u001b[0m\u001b[0;34m(\u001b[0m\u001b[0mannotate_2\u001b[0m\u001b[0;34m,\u001b[0m\u001b[0;34m'r'\u001b[0m\u001b[0;34m)\u001b[0m\u001b[0;34m\u001b[0m\u001b[0m\n\u001b[0m",
      "\u001b[0;31mNameError\u001b[0m: name 'annotate_2' is not defined"
     ]
    }
   ],
   "source": [
    "open(annotate_2,'r')"
   ]
  },
  {
   "cell_type": "code",
   "execution_count": 118,
   "metadata": {},
   "outputs": [],
   "source": [
    "ff_name = '/home/scar3crow/Dropbox/WorkStation-Subrata/python/keras-frcnn/train_images/BloodImage_00111.jpg,458,198,571,296,RBC'\n"
   ]
  },
  {
   "cell_type": "code",
   "execution_count": 119,
   "metadata": {},
   "outputs": [],
   "source": [
    "line_split = ff_name.strip().split(',')"
   ]
  },
  {
   "cell_type": "code",
   "execution_count": 120,
   "metadata": {},
   "outputs": [],
   "source": [
    "(filename,x1,y1,x2,y2,class_name) = line_split"
   ]
  },
  {
   "cell_type": "code",
   "execution_count": 121,
   "metadata": {},
   "outputs": [
    {
     "data": {
      "text/plain": [
       "'458'"
      ]
     },
     "execution_count": 121,
     "metadata": {},
     "output_type": "execute_result"
    }
   ],
   "source": [
    "x1"
   ]
  },
  {
   "cell_type": "code",
   "execution_count": 122,
   "metadata": {},
   "outputs": [
    {
     "data": {
      "text/plain": [
       "'/home/scar3crow/Dropbox/WorkStation-Subrata/python/keras-frcnn/train_images/BloodImage_00111.jpg'"
      ]
     },
     "execution_count": 122,
     "metadata": {},
     "output_type": "execute_result"
    }
   ],
   "source": [
    "filename"
   ]
  },
  {
   "cell_type": "code",
   "execution_count": 123,
   "metadata": {},
   "outputs": [
    {
     "data": {
      "text/plain": [
       "(480, 640, 3)"
      ]
     },
     "execution_count": 123,
     "metadata": {},
     "output_type": "execute_result"
    }
   ],
   "source": [
    "img_3 = cv2.imread(filename)\n",
    "img_3.shape"
   ]
  },
  {
   "cell_type": "code",
   "execution_count": 81,
   "metadata": {},
   "outputs": [],
   "source": [
    "ff = open('annotate_2.txt')"
   ]
  },
  {
   "cell_type": "code",
   "execution_count": 79,
   "metadata": {},
   "outputs": [
    {
     "name": "stdout",
     "output_type": "stream",
     "text": [
      "annotate_2.txt           LICENSE         requirements.txt  \u001b[0m\u001b[01;34mtrain_images\u001b[0m/\r\n",
      "annotate.txt             measure_map.py  test.csv          Untitled1.ipynb\r\n",
      "\u001b[01;31mBCCD_Dataset-master.zip\u001b[0m  \u001b[01;34m__pycache__\u001b[0m/    test_frcnn.py     Untitled.ipynb\r\n",
      "\u001b[01;34mkeras_frcnn\u001b[0m/             README.md       train_frcnn.py\r\n"
     ]
    }
   ],
   "source": [
    "ls"
   ]
  },
  {
   "cell_type": "code",
   "execution_count": 84,
   "metadata": {},
   "outputs": [
    {
     "name": "stdout",
     "output_type": "stream",
     "text": [
      "<_io.TextIOWrapper name='annotate_2.txt' mode='r' encoding='UTF-8'>\n"
     ]
    }
   ],
   "source": [
    "print(ff)"
   ]
  },
  {
   "cell_type": "code",
   "execution_count": 86,
   "metadata": {},
   "outputs": [],
   "source": [
    "fff = open('annotate_2.txt', 'r')"
   ]
  },
  {
   "cell_type": "code",
   "execution_count": 87,
   "metadata": {},
   "outputs": [
    {
     "name": "stdout",
     "output_type": "stream",
     "text": [
      "<_io.TextIOWrapper name='annotate_2.txt' mode='r' encoding='UTF-8'>\n"
     ]
    }
   ],
   "source": [
    "print(fff)"
   ]
  },
  {
   "cell_type": "code",
   "execution_count": 153,
   "metadata": {},
   "outputs": [],
   "source": [
    "import cv2\n",
    "import numpy as np\n",
    "\n",
    "def get_data(input_path):\n",
    "    found_bg = False\n",
    "    all_imgs = {}\n",
    "\n",
    "    classes_count = {}\n",
    "\n",
    "    class_mapping = {}\n",
    "\n",
    "    visualise = True\n",
    "\n",
    "    with open(input_path,'r') as f:\n",
    "\n",
    "        print('Parsing annotation files')\n",
    "\n",
    "        print(f)\n",
    "        for line in f:\n",
    "            line_split = line.strip().split(',')\n",
    "            (n_filename,x1,y1,x2,y2,class_name) = line_split\n",
    "            print(n_filename)\n",
    "            input(\"Press Enter to continue...\")\n",
    "            if class_name not in classes_count:\n",
    "                classes_count[class_name] = 1\n",
    "                print('===============================')\n",
    "            else:\n",
    "                classes_count[class_name] += 1\n",
    "                print('+++++++++++++++++++++++++++++++++++')\n",
    "\n",
    "            if class_name not in class_mapping:\n",
    "                print('!!!!!!!!!!!!!!!!!!!!!!!!!!!!!!!!!!!!!!!!!!!!!!')\n",
    "                if class_name == 'bg' and found_bg == False:\n",
    "                    print('Found class name with special name bg. Will be treated as a background region (this is usually for hard negative mining).')\n",
    "                    found_bg = True\n",
    "                class_mapping[class_name] = len(class_mapping)\n",
    "                print('///////////////////////////////////////////////')\n",
    "            if n_filename not in all_imgs:\n",
    "                all_imgs[n_filename] = {}\n",
    "        \n",
    "                img = cv2.imread(n_filename)\n",
    "                (rows,cols) = img.shape[:2]\n",
    "                print('rows, cols = ', img.shape[:2])\n",
    "                all_imgs[n_filename]['filepath'] = n_filename\n",
    "                all_imgs[n_filename]['width'] = cols\n",
    "                all_imgs[n_filename]['height'] = rows\n",
    "                all_imgs[n_filename]['bboxes'] = []\n",
    "                if np.random.randint(0,6) > 0:\n",
    "                    all_imgs[n_filename]['imageset'] = 'trainval'\n",
    "                else:\n",
    "                    all_imgs[n_filename]['imageset'] = 'test'\n",
    "\n",
    "            all_imgs[n_filename]['bboxes'].append({'class': class_name, 'x1': int(x1), 'x2': int(x2), 'y1': int(y1), 'y2': int(y2)})\n",
    "\n",
    "\n",
    "        all_data = []\n",
    "        for key in all_imgs:\n",
    "            all_data.append(all_imgs[key])\n",
    "\n",
    "        # make sure the bg class is last in the list\n",
    "        if found_bg:\n",
    "            if class_mapping['bg'] != len(class_mapping) - 1:\n",
    "                key_to_switch = [key for key in class_mapping.keys() if class_mapping[key] == len(class_mapping)-1][0]\n",
    "                val_to_switch = class_mapping['bg']\n",
    "                class_mapping['bg'] = len(class_mapping) - 1\n",
    "                class_mapping[key_to_switch] = val_to_switch\n",
    "\n",
    "        return all_data, classes_count, class_mapping\n"
   ]
  },
  {
   "cell_type": "code",
   "execution_count": null,
   "metadata": {},
   "outputs": [],
   "source": [
    "all_imgs, classes_count, class_mapping = get_data(options.train_path)"
   ]
  },
  {
   "cell_type": "code",
   "execution_count": 125,
   "metadata": {},
   "outputs": [
    {
     "name": "stdout",
     "output_type": "stream",
     "text": [
      "annotate_2.txt           LICENSE         requirements.txt  \u001b[0m\u001b[01;34mtrain_images\u001b[0m/\r\n",
      "annotate.txt             measure_map.py  test.csv          Untitled1.ipynb\r\n",
      "\u001b[01;31mBCCD_Dataset-master.zip\u001b[0m  \u001b[01;34m__pycache__\u001b[0m/    test_frcnn.py     Untitled.ipynb\r\n",
      "\u001b[01;34mkeras_frcnn\u001b[0m/             README.md       train_frcnn.py\r\n"
     ]
    }
   ],
   "source": [
    "ls"
   ]
  },
  {
   "cell_type": "code",
   "execution_count": 154,
   "metadata": {},
   "outputs": [
    {
     "name": "stdout",
     "output_type": "stream",
     "text": [
      "Parsing annotation files\n",
      "<_io.TextIOWrapper name='annotate.txt' mode='r' encoding='UTF-8'>\n",
      "/home/scar3crow/Downloads/BCCD_Dataset-master/BCCD/JPEGImages/train_images/BloodImage_00111.jpg\n",
      "Press Enter to continue...\n",
      "===============================\n",
      "!!!!!!!!!!!!!!!!!!!!!!!!!!!!!!!!!!!!!!!!!!!!!!\n",
      "///////////////////////////////////////////////\n",
      "rows, cols =  (480, 640)\n",
      "/home/scar3crow/Downloads/BCCD_Dataset-master/BCCD/JPEGImages/train_images/BloodImage_00111.jpg\n",
      "Press Enter to continue...\n",
      "+++++++++++++++++++++++++++++++++++\n",
      "/home/scar3crow/Downloads/BCCD_Dataset-master/BCCD/JPEGImages/train_images/BloodImage_00111.jpg\n",
      "Press Enter to continue...\n",
      "+++++++++++++++++++++++++++++++++++\n",
      "/home/scar3crow/Downloads/BCCD_Dataset-master/BCCD/JPEGImages/train_images/BloodImage_00111.jpg\n",
      "Press Enter to continue...\n",
      "+++++++++++++++++++++++++++++++++++\n",
      "/home/scar3crow/Downloads/BCCD_Dataset-master/BCCD/JPEGImages/train_images/BloodImage_00111.jpg\n",
      "Press Enter to continue...\n",
      "+++++++++++++++++++++++++++++++++++\n",
      "/home/scar3crow/Downloads/BCCD_Dataset-master/BCCD/JPEGImages/train_images/BloodImage_00111.jpg\n",
      "Press Enter to continue...\n",
      "+++++++++++++++++++++++++++++++++++\n",
      "/home/scar3crow/Downloads/BCCD_Dataset-master/BCCD/JPEGImages/train_images/BloodImage_00111.jpg\n",
      "Press Enter to continue...\n",
      "+++++++++++++++++++++++++++++++++++\n",
      "/home/scar3crow/Downloads/BCCD_Dataset-master/BCCD/JPEGImages/train_images/BloodImage_00111.jpg\n",
      "Press Enter to continue...\n",
      "+++++++++++++++++++++++++++++++++++\n",
      "/home/scar3crow/Downloads/BCCD_Dataset-master/BCCD/JPEGImages/train_images/BloodImage_00111.jpg\n",
      "Press Enter to continue...\n",
      "+++++++++++++++++++++++++++++++++++\n",
      "/home/scar3crow/Downloads/BCCD_Dataset-master/BCCD/JPEGImages/train_images/BloodImage_00111.jpg\n",
      "Press Enter to continue...\n",
      "+++++++++++++++++++++++++++++++++++\n",
      "/home/scar3crow/Downloads/BCCD_Dataset-master/BCCD/JPEGImages/train_images/BloodImage_00111.jpg\n",
      "Press Enter to continue...\n",
      "+++++++++++++++++++++++++++++++++++\n",
      "/home/scar3crow/Downloads/BCCD_Dataset-master/BCCD/JPEGImages/train_images/BloodImage_00111.jpg\n",
      "Press Enter to continue...\n",
      "+++++++++++++++++++++++++++++++++++\n",
      "/home/scar3crow/Downloads/BCCD_Dataset-master/BCCD/JPEGImages/train_images/BloodImage_00111.jpg\n",
      "Press Enter to continue...\n",
      "+++++++++++++++++++++++++++++++++++\n",
      "/home/scar3crow/Downloads/BCCD_Dataset-master/BCCD/JPEGImages/train_images/BloodImage_00111.jpg\n",
      "Press Enter to continue...\n",
      "+++++++++++++++++++++++++++++++++++\n",
      "/home/scar3crow/Downloads/BCCD_Dataset-master/BCCD/JPEGImages/train_images/BloodImage_00111.jpg\n",
      "Press Enter to continue...\n",
      "+++++++++++++++++++++++++++++++++++\n",
      "/home/scar3crow/Downloads/BCCD_Dataset-master/BCCD/JPEGImages/train_images/BloodImage_00111.jpg\n",
      "Press Enter to continue...\n",
      "===============================\n",
      "!!!!!!!!!!!!!!!!!!!!!!!!!!!!!!!!!!!!!!!!!!!!!!\n",
      "///////////////////////////////////////////////\n",
      "/home/scar3crow/Downloads/BCCD_Dataset-master/BCCD/JPEGImages/train_images/BloodImage_00111.jpg\n",
      "Press Enter to continue...\n",
      "===============================\n",
      "!!!!!!!!!!!!!!!!!!!!!!!!!!!!!!!!!!!!!!!!!!!!!!\n",
      "///////////////////////////////////////////////\n",
      "/home/scar3crow/Downloads/BCCD_Dataset-master/BCCD/JPEGImages/train_images/BloodImage_00057.jpg\n",
      "Press Enter to continue...\n",
      "+++++++++++++++++++++++++++++++++++\n",
      "rows, cols =  (480, 640)\n",
      "/home/scar3crow/Downloads/BCCD_Dataset-master/BCCD/JPEGImages/train_images/BloodImage_00057.jpg\n",
      "Press Enter to continue...\n",
      "+++++++++++++++++++++++++++++++++++\n",
      "/home/scar3crow/Downloads/BCCD_Dataset-master/BCCD/JPEGImages/train_images/BloodImage_00057.jpg\n",
      "Press Enter to continue...\n",
      "+++++++++++++++++++++++++++++++++++\n",
      "/home/scar3crow/Downloads/BCCD_Dataset-master/BCCD/JPEGImages/train_images/BloodImage_00057.jpg\n",
      "Press Enter to continue...\n",
      "+++++++++++++++++++++++++++++++++++\n",
      "/home/scar3crow/Downloads/BCCD_Dataset-master/BCCD/JPEGImages/train_images/BloodImage_00057.jpg\n",
      "Press Enter to continue...\n",
      "+++++++++++++++++++++++++++++++++++\n",
      "/home/scar3crow/Downloads/BCCD_Dataset-master/BCCD/JPEGImages/train_images/BloodImage_00057.jpg\n",
      "Press Enter to continue...\n",
      "+++++++++++++++++++++++++++++++++++\n",
      "/home/scar3crow/Downloads/BCCD_Dataset-master/BCCD/JPEGImages/train_images/BloodImage_00057.jpg\n",
      "Press Enter to continue...\n",
      "+++++++++++++++++++++++++++++++++++\n",
      "/home/scar3crow/Downloads/BCCD_Dataset-master/BCCD/JPEGImages/train_images/BloodImage_00057.jpg\n",
      "Press Enter to continue...\n",
      "+++++++++++++++++++++++++++++++++++\n",
      "/home/scar3crow/Downloads/BCCD_Dataset-master/BCCD/JPEGImages/train_images/BloodImage_00057.jpg\n",
      "Press Enter to continue...\n",
      "+++++++++++++++++++++++++++++++++++\n",
      "/home/scar3crow/Downloads/BCCD_Dataset-master/BCCD/JPEGImages/train_images/BloodImage_00057.jpg\n",
      "Press Enter to continue...\n",
      "+++++++++++++++++++++++++++++++++++\n",
      "/home/scar3crow/Downloads/BCCD_Dataset-master/BCCD/JPEGImages/train_images/BloodImage_00057.jpg\n",
      "Press Enter to continue...\n",
      "+++++++++++++++++++++++++++++++++++\n",
      "/home/scar3crow/Downloads/BCCD_Dataset-master/BCCD/JPEGImages/train_images/BloodImage_00371.jpg\n",
      "Press Enter to continue...\n",
      "+++++++++++++++++++++++++++++++++++\n"
     ]
    },
    {
     "ename": "AttributeError",
     "evalue": "'NoneType' object has no attribute 'shape'",
     "output_type": "error",
     "traceback": [
      "\u001b[0;31m---------------------------------------------------------------------------\u001b[0m",
      "\u001b[0;31mAttributeError\u001b[0m                            Traceback (most recent call last)",
      "\u001b[0;32m<ipython-input-154-a5fa835f8640>\u001b[0m in \u001b[0;36m<module>\u001b[0;34m()\u001b[0m\n\u001b[0;32m----> 1\u001b[0;31m \u001b[0mget_data\u001b[0m\u001b[0;34m(\u001b[0m\u001b[0;34m'annotate.txt'\u001b[0m\u001b[0;34m)\u001b[0m\u001b[0;34m\u001b[0m\u001b[0m\n\u001b[0m",
      "\u001b[0;32m<ipython-input-153-d441a00f801a>\u001b[0m in \u001b[0;36mget_data\u001b[0;34m(input_path)\u001b[0m\n\u001b[1;32m     40\u001b[0m \u001b[0;34m\u001b[0m\u001b[0m\n\u001b[1;32m     41\u001b[0m                 \u001b[0mimg\u001b[0m \u001b[0;34m=\u001b[0m \u001b[0mcv2\u001b[0m\u001b[0;34m.\u001b[0m\u001b[0mimread\u001b[0m\u001b[0;34m(\u001b[0m\u001b[0mn_filename\u001b[0m\u001b[0;34m)\u001b[0m\u001b[0;34m\u001b[0m\u001b[0m\n\u001b[0;32m---> 42\u001b[0;31m                 \u001b[0;34m(\u001b[0m\u001b[0mrows\u001b[0m\u001b[0;34m,\u001b[0m\u001b[0mcols\u001b[0m\u001b[0;34m)\u001b[0m \u001b[0;34m=\u001b[0m \u001b[0mimg\u001b[0m\u001b[0;34m.\u001b[0m\u001b[0mshape\u001b[0m\u001b[0;34m[\u001b[0m\u001b[0;34m:\u001b[0m\u001b[0;36m2\u001b[0m\u001b[0;34m]\u001b[0m\u001b[0;34m\u001b[0m\u001b[0m\n\u001b[0m\u001b[1;32m     43\u001b[0m                 \u001b[0mprint\u001b[0m\u001b[0;34m(\u001b[0m\u001b[0;34m'rows, cols = '\u001b[0m\u001b[0;34m,\u001b[0m \u001b[0mimg\u001b[0m\u001b[0;34m.\u001b[0m\u001b[0mshape\u001b[0m\u001b[0;34m[\u001b[0m\u001b[0;34m:\u001b[0m\u001b[0;36m2\u001b[0m\u001b[0;34m]\u001b[0m\u001b[0;34m)\u001b[0m\u001b[0;34m\u001b[0m\u001b[0m\n\u001b[1;32m     44\u001b[0m                 \u001b[0mall_imgs\u001b[0m\u001b[0;34m[\u001b[0m\u001b[0mn_filename\u001b[0m\u001b[0;34m]\u001b[0m\u001b[0;34m[\u001b[0m\u001b[0;34m'filepath'\u001b[0m\u001b[0;34m]\u001b[0m \u001b[0;34m=\u001b[0m \u001b[0mn_filename\u001b[0m\u001b[0;34m\u001b[0m\u001b[0m\n",
      "\u001b[0;31mAttributeError\u001b[0m: 'NoneType' object has no attribute 'shape'"
     ]
    }
   ],
   "source": [
    "get_data('annotate.txt')\n"
   ]
  },
  {
   "cell_type": "code",
   "execution_count": 134,
   "metadata": {},
   "outputs": [
    {
     "ename": "NameError",
     "evalue": "name 'ffilename' is not defined",
     "output_type": "error",
     "traceback": [
      "\u001b[0;31m---------------------------------------------------------------------------\u001b[0m",
      "\u001b[0;31mNameError\u001b[0m                                 Traceback (most recent call last)",
      "\u001b[0;32m<ipython-input-134-a92c8a2e2072>\u001b[0m in \u001b[0;36m<module>\u001b[0;34m()\u001b[0m\n\u001b[0;32m----> 1\u001b[0;31m \u001b[0mffilename\u001b[0m\u001b[0;34m\u001b[0m\u001b[0m\n\u001b[0m",
      "\u001b[0;31mNameError\u001b[0m: name 'ffilename' is not defined"
     ]
    }
   ],
   "source": [
    "ffilename"
   ]
  },
  {
   "cell_type": "code",
   "execution_count": 96,
   "metadata": {},
   "outputs": [
    {
     "ename": "NameError",
     "evalue": "name 'annotate_2' is not defined",
     "output_type": "error",
     "traceback": [
      "\u001b[0;31m---------------------------------------------------------------------------\u001b[0m",
      "\u001b[0;31mNameError\u001b[0m                                 Traceback (most recent call last)",
      "\u001b[0;32m<ipython-input-96-73a80a7beeb7>\u001b[0m in \u001b[0;36m<module>\u001b[0;34m()\u001b[0m\n\u001b[0;32m----> 1\u001b[0;31m \u001b[0mlffff\u001b[0m \u001b[0;34m=\u001b[0m \u001b[0mopen\u001b[0m\u001b[0;34m(\u001b[0m\u001b[0mannotate_2\u001b[0m\u001b[0;34m,\u001b[0m \u001b[0;34m'r'\u001b[0m\u001b[0;34m)\u001b[0m\u001b[0;34m\u001b[0m\u001b[0m\n\u001b[0m\u001b[1;32m      2\u001b[0m \u001b[0ma\u001b[0m\u001b[0;34m,\u001b[0m \u001b[0mb\u001b[0m\u001b[0;34m,\u001b[0m \u001b[0mc\u001b[0m \u001b[0;34m=\u001b[0m \u001b[0mget_data\u001b[0m\u001b[0;34m(\u001b[0m\u001b[0mffff\u001b[0m\u001b[0;34m)\u001b[0m\u001b[0;34m\u001b[0m\u001b[0m\n",
      "\u001b[0;31mNameError\u001b[0m: name 'annotate_2' is not defined"
     ]
    }
   ],
   "source": [
    "lffff = open(annotate_2, 'r')\n",
    "a, b, c = get_data(ffff)"
   ]
  },
  {
   "cell_type": "code",
   "execution_count": 144,
   "metadata": {},
   "outputs": [],
   "source": [
    "def get_data(input_path):\n",
    "    \n",
    "    new_file = list()\n",
    "    found_bg = False\n",
    "    all_imgs = {}\n",
    "\n",
    "    classes_count = {}\n",
    "\n",
    "    class_mapping = {}\n",
    "\n",
    "    visualise = True\n",
    "\n",
    "    with open(input_path,'r') as f:\n",
    "\n",
    "        print('Parsing annotation files')\n",
    "        print(f)\n",
    "\n",
    "        for line in f:\n",
    "            line_split = line.strip().split(',')\n",
    "            (name,x1,y1,x2,y2,class_name) = line_split\n",
    "            new_file.append(name)\n",
    "        return new_file"
   ]
  },
  {
   "cell_type": "code",
   "execution_count": 145,
   "metadata": {},
   "outputs": [
    {
     "name": "stdout",
     "output_type": "stream",
     "text": [
      "Parsing annotation files\n",
      "<_io.TextIOWrapper name='annotate_2.txt' mode='r' encoding='UTF-8'>\n"
     ]
    }
   ],
   "source": [
    "my = get_data('annotate_2.txt')"
   ]
  },
  {
   "cell_type": "code",
   "execution_count": 140,
   "metadata": {},
   "outputs": [
    {
     "name": "stdout",
     "output_type": "stream",
     "text": [
      "None\n"
     ]
    }
   ],
   "source": [
    "print(my)"
   ]
  },
  {
   "cell_type": "code",
   "execution_count": 141,
   "metadata": {},
   "outputs": [
    {
     "name": "stderr",
     "output_type": "stream",
     "text": [
      "Using TensorFlow backend.\n",
      "Usage: ipykernel_launcher.py [options]\n",
      "\n",
      "ipykernel_launcher.py: error: no such option: -f\n"
     ]
    },
    {
     "ename": "SystemExit",
     "evalue": "2",
     "output_type": "error",
     "traceback": [
      "An exception has occurred, use %tb to see the full traceback.\n",
      "\u001b[0;31mSystemExit\u001b[0m\u001b[0;31m:\u001b[0m 2\n"
     ]
    },
    {
     "name": "stderr",
     "output_type": "stream",
     "text": [
      "/home/scar3crow/Dropbox/WorkStation-Subrata/python/venv1/lib/python3.5/site-packages/IPython/core/interactiveshell.py:2969: UserWarning: To exit: use 'exit', 'quit', or Ctrl-D.\n",
      "  warn(\"To exit: use 'exit', 'quit', or Ctrl-D.\", stacklevel=1)\n"
     ]
    }
   ],
   "source": [
    "from __future__ import division\n",
    "import random\n",
    "import pprint\n",
    "import sys\n",
    "import time\n",
    "import numpy as np\n",
    "from optparse import OptionParser\n",
    "import pickle\n",
    "\n",
    "from keras import backend as K\n",
    "from keras.optimizers import Adam, SGD, RMSprop\n",
    "from keras.layers import Input\n",
    "from keras.models import Model\n",
    "from keras_frcnn import config, data_generators\n",
    "from keras_frcnn import losses as losses\n",
    "import keras_frcnn.roi_helpers as roi_helpers\n",
    "from keras.utils import generic_utils\n",
    "\n",
    "sys.setrecursionlimit(40000)\n",
    "\n",
    "parser = OptionParser()\n",
    "\n",
    "parser.add_option(\"-p\", \"--path\", dest=\"train_path\", help=\"Path to training data.\")\n",
    "parser.add_option(\"-o\", \"--parser\", dest=\"parser\", help=\"Parser to use. One of simple or pascal_voc\",\n",
    "                default=\"pascal_voc\")\n",
    "parser.add_option(\"-n\", \"--num_rois\", type=\"int\", dest=\"num_rois\", help=\"Number of RoIs to process at once.\", default=32)\n",
    "parser.add_option(\"--network\", dest=\"network\", help=\"Base network to use. Supports vgg or resnet50.\", default='resnet50')\n",
    "parser.add_option(\"--hf\", dest=\"horizontal_flips\", help=\"Augment with horizontal flips in training. (Default=false).\", action=\"store_true\", default=False)\n",
    "parser.add_option(\"--vf\", dest=\"vertical_flips\", help=\"Augment with vertical flips in training. (Default=false).\", action=\"store_true\", default=False)\n",
    "parser.add_option(\"--rot\", \"--rot_90\", dest=\"rot_90\", help=\"Augment with 90 degree rotations in training. (Default=false).\",\n",
    "                  action=\"store_true\", default=False)\n",
    "parser.add_option(\"--num_epochs\", type=\"int\", dest=\"num_epochs\", help=\"Number of epochs.\", default=2000)\n",
    "parser.add_option(\"--config_filename\", dest=\"config_filename\", help=\n",
    "                \"Location to store all the metadata related to the training (to be used when testing).\",\n",
    "                default=\"config.pickle\")\n",
    "parser.add_option(\"--output_weight_path\", dest=\"output_weight_path\", help=\"Output path for weights.\", default='./model_frcnn.hdf5')\n",
    "parser.add_option(\"--input_weight_path\", dest=\"input_weight_path\", help=\"Input path for weights. If not specified, will try to load default weights provided by keras.\")\n",
    "\n",
    "(options, args) = parser.parse_args()"
   ]
  },
  {
   "cell_type": "code",
   "execution_count": 155,
   "metadata": {},
   "outputs": [],
   "source": [
    "bb = cv2.imread('/home/scar3crow/Downloads/BCCD_Dataset-master/BCCD/JPEGImages/train_images/BloodImage_00371.jpg')"
   ]
  },
  {
   "cell_type": "code",
   "execution_count": 156,
   "metadata": {},
   "outputs": [
    {
     "ename": "AttributeError",
     "evalue": "'NoneType' object has no attribute 'shape'",
     "output_type": "error",
     "traceback": [
      "\u001b[0;31m---------------------------------------------------------------------------\u001b[0m",
      "\u001b[0;31mAttributeError\u001b[0m                            Traceback (most recent call last)",
      "\u001b[0;32m<ipython-input-156-3603bf4af82e>\u001b[0m in \u001b[0;36m<module>\u001b[0;34m()\u001b[0m\n\u001b[0;32m----> 1\u001b[0;31m \u001b[0mbb\u001b[0m\u001b[0;34m.\u001b[0m\u001b[0mshape\u001b[0m\u001b[0;34m\u001b[0m\u001b[0m\n\u001b[0m",
      "\u001b[0;31mAttributeError\u001b[0m: 'NoneType' object has no attribute 'shape'"
     ]
    }
   ],
   "source": [
    "bb.shape"
   ]
  },
  {
   "cell_type": "code",
   "execution_count": null,
   "metadata": {},
   "outputs": [],
   "source": [
    "from os import listdir\n",
    "from matplotlib import image\n",
    "# load all images in a directory\n",
    "loaded_images = list()\n",
    "for filename in listdir('images'):\n",
    "\t# load image\n",
    "\timg_data = image.imread('images/' + filename)\n",
    "\t# store loaded image\n",
    "\tloaded_images.append(img_data)\n",
    "\tprint('> loaded %s %s' % (filename, img_data.shape))\n"
   ]
  },
  {
   "cell_type": "code",
   "execution_count": 157,
   "metadata": {},
   "outputs": [],
   "source": [
    "from os import listdir\n",
    "\n",
    "train_image_list = list()\n",
    "train_image_list = listdir('/home/scar3crow/Dropbox/WorkStation-Subrata/python/keras-frcnn/train_images')"
   ]
  },
  {
   "cell_type": "code",
   "execution_count": 158,
   "metadata": {},
   "outputs": [
    {
     "data": {
      "text/plain": [
       "254"
      ]
     },
     "execution_count": 158,
     "metadata": {},
     "output_type": "execute_result"
    }
   ],
   "source": [
    "len(train_image_list)"
   ]
  },
  {
   "cell_type": "code",
   "execution_count": 159,
   "metadata": {},
   "outputs": [
    {
     "data": {
      "text/html": [
       "<div>\n",
       "<style scoped>\n",
       "    .dataframe tbody tr th:only-of-type {\n",
       "        vertical-align: middle;\n",
       "    }\n",
       "\n",
       "    .dataframe tbody tr th {\n",
       "        vertical-align: top;\n",
       "    }\n",
       "\n",
       "    .dataframe thead th {\n",
       "        text-align: right;\n",
       "    }\n",
       "</style>\n",
       "<table border=\"1\" class=\"dataframe\">\n",
       "  <thead>\n",
       "    <tr style=\"text-align: right;\">\n",
       "      <th></th>\n",
       "      <th>format</th>\n",
       "    </tr>\n",
       "  </thead>\n",
       "  <tbody>\n",
       "    <tr>\n",
       "      <th>0</th>\n",
       "      <td>/home/scar3crow/Dropbox/WorkStation-Subrata/py...</td>\n",
       "    </tr>\n",
       "    <tr>\n",
       "      <th>1</th>\n",
       "      <td>/home/scar3crow/Dropbox/WorkStation-Subrata/py...</td>\n",
       "    </tr>\n",
       "    <tr>\n",
       "      <th>2</th>\n",
       "      <td>/home/scar3crow/Dropbox/WorkStation-Subrata/py...</td>\n",
       "    </tr>\n",
       "    <tr>\n",
       "      <th>3</th>\n",
       "      <td>/home/scar3crow/Dropbox/WorkStation-Subrata/py...</td>\n",
       "    </tr>\n",
       "    <tr>\n",
       "      <th>4</th>\n",
       "      <td>/home/scar3crow/Dropbox/WorkStation-Subrata/py...</td>\n",
       "    </tr>\n",
       "  </tbody>\n",
       "</table>\n",
       "</div>"
      ],
      "text/plain": [
       "                                              format\n",
       "0  /home/scar3crow/Dropbox/WorkStation-Subrata/py...\n",
       "1  /home/scar3crow/Dropbox/WorkStation-Subrata/py...\n",
       "2  /home/scar3crow/Dropbox/WorkStation-Subrata/py...\n",
       "3  /home/scar3crow/Dropbox/WorkStation-Subrata/py...\n",
       "4  /home/scar3crow/Dropbox/WorkStation-Subrata/py..."
      ]
     },
     "execution_count": 159,
     "metadata": {},
     "output_type": "execute_result"
    }
   ],
   "source": [
    "data.head()"
   ]
  },
  {
   "cell_type": "code",
   "execution_count": 160,
   "metadata": {},
   "outputs": [
    {
     "data": {
      "text/plain": [
       "['BloodImage_00250.jpg',\n",
       " 'BloodImage_00284.jpg',\n",
       " 'BloodImage_00037.jpg',\n",
       " 'BloodImage_00249.jpg',\n",
       " 'BloodImage_00179.jpg',\n",
       " 'BloodImage_00196.jpg',\n",
       " 'BloodImage_00045.jpg',\n",
       " 'BloodImage_00011.jpg',\n",
       " 'BloodImage_00001.jpg',\n",
       " 'BloodImage_00209.jpg',\n",
       " 'BloodImage_00028.jpg',\n",
       " 'BloodImage_00002.jpg',\n",
       " 'BloodImage_00033.jpg',\n",
       " 'BloodImage_00104.jpg',\n",
       " 'BloodImage_00125.jpg',\n",
       " 'BloodImage_00214.jpg',\n",
       " 'BloodImage_00161.jpg',\n",
       " 'BloodImage_00208.jpg',\n",
       " 'BloodImage_00269.jpg',\n",
       " 'BloodImage_00020.jpg',\n",
       " 'BloodImage_00271.jpg',\n",
       " 'BloodImage_00197.jpg',\n",
       " 'BloodImage_00224.jpg',\n",
       " 'BloodImage_00137.jpg',\n",
       " 'BloodImage_00268.jpg',\n",
       " 'BloodImage_00164.jpg',\n",
       " 'BloodImage_00174.jpg',\n",
       " 'BloodImage_00075.jpg',\n",
       " 'BloodImage_00066.jpg',\n",
       " 'BloodImage_00026.jpg',\n",
       " 'BloodImage_00218.jpg',\n",
       " 'BloodImage_00180.jpg',\n",
       " 'BloodImage_00148.jpg',\n",
       " 'BloodImage_00013.jpg',\n",
       " 'BloodImage_00177.jpg',\n",
       " 'BloodImage_00017.jpg',\n",
       " 'BloodImage_00069.jpg',\n",
       " 'BloodImage_00233.jpg',\n",
       " 'BloodImage_00012.jpg',\n",
       " 'BloodImage_00210.jpg',\n",
       " 'BloodImage_00220.jpg',\n",
       " 'BloodImage_00089.jpg',\n",
       " 'BloodImage_00158.jpg',\n",
       " 'BloodImage_00273.jpg',\n",
       " 'BloodImage_00225.jpg',\n",
       " 'BloodImage_00136.jpg',\n",
       " 'BloodImage_00112.jpg',\n",
       " 'BloodImage_00254.jpg',\n",
       " 'BloodImage_00044.jpg',\n",
       " 'BloodImage_00266.jpg',\n",
       " 'BloodImage_00018.jpg',\n",
       " 'BloodImage_00182.jpg',\n",
       " 'BloodImage_00166.jpg',\n",
       " 'BloodImage_00287.jpg',\n",
       " 'BloodImage_00267.jpg',\n",
       " 'BloodImage_00006.jpg',\n",
       " 'BloodImage_00231.jpg',\n",
       " 'BloodImage_00110.jpg',\n",
       " 'BloodImage_00087.jpg',\n",
       " 'BloodImage_00050.jpg',\n",
       " 'BloodImage_00144.jpg',\n",
       " 'BloodImage_00090.jpg',\n",
       " 'BloodImage_00086.jpg',\n",
       " 'BloodImage_00046.jpg',\n",
       " 'BloodImage_00211.jpg',\n",
       " 'BloodImage_00139.jpg',\n",
       " 'BloodImage_00113.jpg',\n",
       " 'BloodImage_00245.jpg',\n",
       " 'BloodImage_00234.jpg',\n",
       " 'BloodImage_00108.jpg',\n",
       " 'BloodImage_00223.jpg',\n",
       " 'BloodImage_00067.jpg',\n",
       " 'BloodImage_00195.jpg',\n",
       " 'BloodImage_00159.jpg',\n",
       " 'BloodImage_00277.jpg',\n",
       " 'BloodImage_00260.jpg',\n",
       " 'BloodImage_00206.jpg',\n",
       " 'BloodImage_00095.jpg',\n",
       " 'BloodImage_00154.jpg',\n",
       " 'BloodImage_00042.jpg',\n",
       " 'BloodImage_00253.jpg',\n",
       " 'BloodImage_00283.jpg',\n",
       " 'BloodImage_00198.jpg',\n",
       " 'BloodImage_00065.jpg',\n",
       " 'BloodImage_00170.jpg',\n",
       " 'BloodImage_00088.jpg',\n",
       " 'BloodImage_00126.jpg',\n",
       " 'BloodImage_00078.jpg',\n",
       " 'BloodImage_00257.jpg',\n",
       " 'BloodImage_00242.jpg',\n",
       " 'BloodImage_00015.jpg',\n",
       " 'BloodImage_00285.jpg',\n",
       " 'BloodImage_00071.jpg',\n",
       " 'BloodImage_00082.jpg',\n",
       " 'BloodImage_00201.jpg',\n",
       " 'BloodImage_00247.jpg',\n",
       " 'BloodImage_00073.jpg',\n",
       " 'BloodImage_00022.jpg',\n",
       " 'BloodImage_00145.jpg',\n",
       " 'BloodImage_00036.jpg',\n",
       " 'BloodImage_00216.jpg',\n",
       " 'BloodImage_00215.jpg',\n",
       " 'BloodImage_00016.jpg',\n",
       " 'BloodImage_00140.jpg',\n",
       " 'BloodImage_00222.jpg',\n",
       " 'BloodImage_00199.jpg',\n",
       " 'BloodImage_00149.jpg',\n",
       " 'BloodImage_00270.jpg',\n",
       " 'BloodImage_00132.jpg',\n",
       " 'BloodImage_00142.jpg',\n",
       " 'BloodImage_00156.jpg',\n",
       " 'BloodImage_00109.jpg',\n",
       " 'BloodImage_00014.jpg',\n",
       " 'BloodImage_00171.jpg',\n",
       " 'BloodImage_00193.jpg',\n",
       " 'BloodImage_00135.jpg',\n",
       " 'BloodImage_00106.jpg',\n",
       " 'BloodImage_00072.jpg',\n",
       " 'BloodImage_00282.jpg',\n",
       " 'BloodImage_00259.jpg',\n",
       " 'BloodImage_00276.jpg',\n",
       " 'BloodImage_00133.jpg',\n",
       " 'BloodImage_00256.jpg',\n",
       " 'BloodImage_00052.jpg',\n",
       " 'BloodImage_00217.jpg',\n",
       " 'BloodImage_00147.jpg',\n",
       " 'BloodImage_00204.jpg',\n",
       " 'BloodImage_00262.jpg',\n",
       " 'BloodImage_00053.jpg',\n",
       " 'BloodImage_00212.jpg',\n",
       " 'BloodImage_00281.jpg',\n",
       " 'BloodImage_00152.jpg',\n",
       " 'BloodImage_00077.jpg',\n",
       " 'BloodImage_00190.jpg',\n",
       " 'BloodImage_00040.jpg',\n",
       " 'BloodImage_00010.jpg',\n",
       " 'BloodImage_00143.jpg',\n",
       " 'BloodImage_00091.jpg',\n",
       " 'BloodImage_00184.jpg',\n",
       " 'BloodImage_00157.jpg',\n",
       " 'BloodImage_00175.jpg',\n",
       " 'BloodImage_00100.jpg',\n",
       " 'BloodImage_00101.jpg',\n",
       " 'BloodImage_00279.jpg',\n",
       " 'BloodImage_00004.jpg',\n",
       " 'BloodImage_00031.jpg',\n",
       " 'BloodImage_00064.jpg',\n",
       " 'BloodImage_00246.jpg',\n",
       " 'BloodImage_00265.jpg',\n",
       " 'BloodImage_00200.jpg',\n",
       " 'BloodImage_00062.jpg',\n",
       " 'BloodImage_00034.jpg',\n",
       " 'BloodImage_00035.jpg',\n",
       " 'BloodImage_00240.jpg',\n",
       " 'BloodImage_00187.jpg',\n",
       " 'BloodImage_00063.jpg',\n",
       " 'BloodImage_00054.jpg',\n",
       " 'BloodImage_00227.jpg',\n",
       " 'BloodImage_00272.jpg',\n",
       " 'BloodImage_00049.jpg',\n",
       " 'BloodImage_00074.jpg',\n",
       " 'BloodImage_00059.jpg',\n",
       " 'BloodImage_00235.jpg',\n",
       " 'BloodImage_00081.jpg',\n",
       " 'BloodImage_00150.jpg',\n",
       " 'BloodImage_00163.jpg',\n",
       " 'BloodImage_00255.jpg',\n",
       " 'BloodImage_00239.jpg',\n",
       " 'BloodImage_00202.jpg',\n",
       " 'BloodImage_00079.jpg',\n",
       " 'BloodImage_00237.jpg',\n",
       " 'BloodImage_00058.jpg',\n",
       " 'BloodImage_00048.jpg',\n",
       " 'BloodImage_00127.jpg',\n",
       " 'BloodImage_00165.jpg',\n",
       " 'BloodImage_00189.jpg',\n",
       " 'BloodImage_00229.jpg',\n",
       " 'BloodImage_00162.jpg',\n",
       " 'BloodImage_00203.jpg',\n",
       " 'BloodImage_00056.jpg',\n",
       " 'BloodImage_00019.jpg',\n",
       " 'BloodImage_00176.jpg',\n",
       " 'BloodImage_00023.jpg',\n",
       " 'BloodImage_00114.jpg',\n",
       " 'BloodImage_00099.jpg',\n",
       " 'BloodImage_00030.jpg',\n",
       " 'BloodImage_00130.jpg',\n",
       " 'BloodImage_00083.jpg',\n",
       " 'BloodImage_00038.jpg',\n",
       " 'BloodImage_00251.jpg',\n",
       " 'BloodImage_00244.jpg',\n",
       " 'BloodImage_00219.jpg',\n",
       " 'BloodImage_00263.jpg',\n",
       " 'BloodImage_00098.jpg',\n",
       " 'BloodImage_00107.jpg',\n",
       " 'BloodImage_00243.jpg',\n",
       " 'BloodImage_00192.jpg',\n",
       " 'BloodImage_00207.jpg',\n",
       " 'BloodImage_00178.jpg',\n",
       " 'BloodImage_00007.jpg',\n",
       " 'BloodImage_00258.jpg',\n",
       " 'BloodImage_00134.jpg',\n",
       " 'BloodImage_00221.jpg',\n",
       " 'BloodImage_00252.jpg',\n",
       " 'BloodImage_00241.jpg',\n",
       " 'BloodImage_00000.jpg',\n",
       " 'BloodImage_00141.jpg',\n",
       " 'BloodImage_00160.jpg',\n",
       " 'BloodImage_00008.jpg',\n",
       " 'BloodImage_00124.jpg',\n",
       " 'BloodImage_00183.jpg',\n",
       " 'BloodImage_00172.jpg',\n",
       " 'BloodImage_00009.jpg',\n",
       " 'BloodImage_00032.jpg',\n",
       " 'BloodImage_00076.jpg',\n",
       " 'BloodImage_00123.jpg',\n",
       " 'BloodImage_00097.jpg',\n",
       " 'BloodImage_00169.jpg',\n",
       " 'BloodImage_00092.jpg',\n",
       " 'BloodImage_00167.jpg',\n",
       " 'BloodImage_00003.jpg',\n",
       " 'BloodImage_00117.jpg',\n",
       " 'BloodImage_00093.jpg',\n",
       " 'BloodImage_00039.jpg',\n",
       " 'BloodImage_00232.jpg',\n",
       " 'BloodImage_00043.jpg',\n",
       " 'BloodImage_00228.jpg',\n",
       " 'BloodImage_00168.jpg',\n",
       " 'BloodImage_00057.jpg',\n",
       " 'BloodImage_00005.jpg',\n",
       " 'BloodImage_00261.jpg',\n",
       " 'BloodImage_00115.jpg',\n",
       " 'BloodImage_00047.jpg',\n",
       " 'BloodImage_00021.jpg',\n",
       " 'BloodImage_00274.jpg',\n",
       " 'BloodImage_00120.jpg',\n",
       " 'BloodImage_00041.jpg',\n",
       " 'BloodImage_00230.jpg',\n",
       " 'BloodImage_00068.jpg',\n",
       " 'BloodImage_00236.jpg',\n",
       " 'BloodImage_00275.jpg',\n",
       " 'BloodImage_00070.jpg',\n",
       " 'BloodImage_00226.jpg',\n",
       " 'BloodImage_00055.jpg',\n",
       " 'BloodImage_00264.jpg',\n",
       " 'BloodImage_00111.jpg',\n",
       " 'BloodImage_00029.jpg',\n",
       " 'BloodImage_00094.jpg',\n",
       " 'BloodImage_00278.jpg',\n",
       " 'BloodImage_00103.jpg',\n",
       " 'BloodImage_00191.jpg',\n",
       " 'BloodImage_00205.jpg',\n",
       " 'BloodImage_00024.jpg',\n",
       " 'BloodImage_00248.jpg']"
      ]
     },
     "execution_count": 160,
     "metadata": {},
     "output_type": "execute_result"
    }
   ],
   "source": [
    "train_image_list"
   ]
  },
  {
   "cell_type": "code",
   "execution_count": null,
   "metadata": {},
   "outputs": [],
   "source": []
  }
 ],
 "metadata": {
  "kernelspec": {
   "display_name": "Python 3",
   "language": "python",
   "name": "python3"
  },
  "language_info": {
   "codemirror_mode": {
    "name": "ipython",
    "version": 3
   },
   "file_extension": ".py",
   "mimetype": "text/x-python",
   "name": "python",
   "nbconvert_exporter": "python",
   "pygments_lexer": "ipython3",
   "version": "3.5.2+"
  }
 },
 "nbformat": 4,
 "nbformat_minor": 2
}
