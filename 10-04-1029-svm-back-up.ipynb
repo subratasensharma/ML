{
 "cells": [
  {
   "cell_type": "code",
   "execution_count": 1,
   "metadata": {},
   "outputs": [],
   "source": [
    "## Multi class classification with Linear SVC"
   ]
  },
  {
   "cell_type": "code",
   "execution_count": 1,
   "metadata": {},
   "outputs": [],
   "source": [
    "import pandas as pd\n",
    "import numpy as np\n",
    "import scipy\n",
    "from nltk.corpus import stopwords\n",
    "import re\n",
    "import os"
   ]
  },
  {
   "cell_type": "code",
   "execution_count": 2,
   "metadata": {},
   "outputs": [],
   "source": [
    "## Loading Data - labelled data :\n",
    "\n",
    "data_1 = pd.ExcelFile('R2_RNN_Tranzact_Rohan_1_Regrouped_with_supplier.xlsx')\n",
    "tranzact_data_1 = data_1.parse(0)\n",
    "\n",
    "## Loading Data - un-labelled data:\n",
    "\n",
    "data_2 = pd.ExcelFile('14Mar_Gorky_.xlsx')\n",
    "tranzact_data_new_1 = data_2.parse(0)\n"
   ]
  },
  {
   "cell_type": "code",
   "execution_count": 3,
   "metadata": {},
   "outputs": [
    {
     "name": "stdout",
     "output_type": "stream",
     "text": [
      "Labelled Data(tranzact_data_2_revised) =  11803\n",
      "Unlabelled Data(tranzact_data_new_2_revised) =  11842\n",
      "Bonetti International extracted frm labelled data =  1754\n",
      "Bonetti International extracted frm un-labelled data =  5909\n"
     ]
    }
   ],
   "source": [
    "## Picking up required info from labelled data :\n",
    "\n",
    "col = ['to_company_name', 'supplier_item_id.2', 'product', 'supplier']\n",
    "tranzact_data_2 = tranzact_data_1[col]\n",
    "tranzact_data_2.columns = ['OEM', 'item', 'product', 'supplier']\n",
    "\n",
    "## Picking up required info from un-labelled data:\n",
    "\n",
    "col = ['from_company_name', 'buyer_item_name', 'to_company_name']\n",
    "tranzact_data_new_2 = tranzact_data_new_1[col]\n",
    "tranzact_data_new_2.columns = ['OEM', 'item', 'supplier']\n",
    "\n",
    "# Creating separate dataframe for Cesare Bonetti International Pvt. Ltd. from labelled Dat:\n",
    "\n",
    "tranzact_data_cesare_international_1 = tranzact_data_2.loc[tranzact_data_2['OEM'] \\\n",
    "                                                               == 'CESARE BONETTI INTERNATIONAL PVT. LTD.']\n",
    "tranzact_data_2_revised = tranzact_data_2.drop(tranzact_data_cesare_international_1.index)\n",
    "tranzact_data_cesare_international_1 = tranzact_data_cesare_international_1.reset_index(drop=True)\n",
    "tranzact_data_2_revised = tranzact_data_2_revised.dropna() ## remove rows with cell value none\n",
    "tranzact_data_2_revised = tranzact_data_2_revised.reset_index(drop=True)\n",
    "\n",
    "# Creating separate dataframe for Cesare Bonetti International Pvt. Ltd. from unlabelled data :\n",
    "\n",
    "tranzact_data_cesare_international_2 = tranzact_data_new_2.loc[tranzact_data_new_2['OEM'] \\\n",
    "                                                               == 'CESARE BONETTI INTERNATIONAL PVT. LTD.']\n",
    "tranzact_data_new_2_revised = tranzact_data_new_2.drop(tranzact_data_cesare_international_2.index)\n",
    "tranzact_data_cesare_international_2 = tranzact_data_cesare_international_2.reset_index(drop=True)\n",
    "tranzact_data_new_2_revised = tranzact_data_new_2_revised.dropna() ## remove rows with cell value none\n",
    "tranzact_data_new_2_revised = tranzact_data_new_2_revised.reset_index(drop=True)\n",
    "\n",
    "\n",
    "print('Labelled Data(tranzact_data_2_revised) = ', len(tranzact_data_2_revised))\n",
    "print('Unlabelled Data(tranzact_data_new_2_revised) = ', len(tranzact_data_new_2_revised))\n",
    "print('Bonetti International extracted frm labelled data = ', len(tranzact_data_cesare_international_1))\n",
    "print('Bonetti International extracted frm un-labelled data = ', len(tranzact_data_cesare_international_2))\n"
   ]
  },
  {
   "cell_type": "code",
   "execution_count": 4,
   "metadata": {},
   "outputs": [
    {
     "name": "stdout",
     "output_type": "stream",
     "text": [
      "10546\n",
      "10585\n"
     ]
    },
    {
     "data": {
      "text/html": [
       "<div>\n",
       "<style scoped>\n",
       "    .dataframe tbody tr th:only-of-type {\n",
       "        vertical-align: middle;\n",
       "    }\n",
       "\n",
       "    .dataframe tbody tr th {\n",
       "        vertical-align: top;\n",
       "    }\n",
       "\n",
       "    .dataframe thead th {\n",
       "        text-align: right;\n",
       "    }\n",
       "</style>\n",
       "<table border=\"1\" class=\"dataframe\">\n",
       "  <thead>\n",
       "    <tr style=\"text-align: right;\">\n",
       "      <th></th>\n",
       "      <th>OEM</th>\n",
       "      <th>item</th>\n",
       "      <th>supplier</th>\n",
       "    </tr>\n",
       "  </thead>\n",
       "  <tbody>\n",
       "    <tr>\n",
       "      <th>0</th>\n",
       "      <td>Polfrost Air Con Pvt Ltd.</td>\n",
       "      <td>emerson liquid line filter/drier ek-165s (0476...</td>\n",
       "      <td>h j international</td>\n",
       "    </tr>\n",
       "    <tr>\n",
       "      <th>1</th>\n",
       "      <td>Nandan GSE Pvt Ltd</td>\n",
       "      <td>hydraulic fittings - cramping nipple - 3/8\" x ...</td>\n",
       "      <td>asiatic hydraulics</td>\n",
       "    </tr>\n",
       "    <tr>\n",
       "      <th>2</th>\n",
       "      <td>Nandan GSE Pvt Ltd</td>\n",
       "      <td>hydraulic fitting - hose clip elbow 1/4 x 5/16</td>\n",
       "      <td>asiatic hydraulics</td>\n",
       "    </tr>\n",
       "    <tr>\n",
       "      <th>3</th>\n",
       "      <td>Nandan GSE Pvt Ltd</td>\n",
       "      <td>hydraulic hose pipe - hose pipe 3/4\" x 500mm</td>\n",
       "      <td>asiatic hydraulics</td>\n",
       "    </tr>\n",
       "    <tr>\n",
       "      <th>4</th>\n",
       "      <td>Nandan GSE Pvt Ltd</td>\n",
       "      <td>hydraulic hose pipe - hose pipe 3/4\" x 3 mtr 6...</td>\n",
       "      <td>asiatic hydraulics</td>\n",
       "    </tr>\n",
       "  </tbody>\n",
       "</table>\n",
       "</div>"
      ],
      "text/plain": [
       "                         OEM  \\\n",
       "0  Polfrost Air Con Pvt Ltd.   \n",
       "1         Nandan GSE Pvt Ltd   \n",
       "2         Nandan GSE Pvt Ltd   \n",
       "3         Nandan GSE Pvt Ltd   \n",
       "4         Nandan GSE Pvt Ltd   \n",
       "\n",
       "                                                item            supplier  \n",
       "0  emerson liquid line filter/drier ek-165s (0476...   h j international  \n",
       "1  hydraulic fittings - cramping nipple - 3/8\" x ...  asiatic hydraulics  \n",
       "2     hydraulic fitting - hose clip elbow 1/4 x 5/16  asiatic hydraulics  \n",
       "3       hydraulic hose pipe - hose pipe 3/4\" x 500mm  asiatic hydraulics  \n",
       "4  hydraulic hose pipe - hose pipe 3/4\" x 3 mtr 6...  asiatic hydraulics  "
      ]
     },
     "execution_count": 4,
     "metadata": {},
     "output_type": "execute_result"
    }
   ],
   "source": [
    "# Removing all 'Bonetti' & 'Waaree' supplier from both labelled and un-labelled data :\n",
    "\n",
    "## First make Items in lower case and remove rows with any cell value = none :\n",
    "\n",
    "tranzact_data_2_revised['item'] = tranzact_data_2_revised['item'].map(lambda x: x if type(x)!=str else x.lower()) \n",
    "tranzact_data_2_revised['product'] = tranzact_data_2_revised['product'].map(lambda x: x if type(x)!=str else x.lower())\n",
    "tranzact_data_2_revised['supplier'] = tranzact_data_2_revised['supplier'].map(lambda x: x if type(x)!=str else x.lower())\n",
    "\n",
    "tranzact_data_new_2_revised['item'] = tranzact_data_new_2_revised['item'].map(lambda x: x if type(x)!=str else x.lower()) \n",
    "tranzact_data_new_2_revised['supplier'] = tranzact_data_new_2_revised['supplier'].map(lambda x: x if type(x)!=str else x.lower())\n",
    "tranzact_data_new_2_revised = tranzact_data_new_2_revised.dropna() ## remove rows with cell value none\n",
    "\n",
    "# Removing string 'bonetti' and 'waaree' from supplier :\n",
    "\n",
    "supplier_bonetti_2 = tranzact_data_2_revised[tranzact_data_2_revised['supplier'].str.contains('bonetti')]\n",
    "supplier_waaree_2 = tranzact_data_2_revised[tranzact_data_2_revised['supplier'].str.contains('waaree')]\n",
    "supplier_bonetti_new_2 = tranzact_data_new_2_revised[tranzact_data_new_2_revised['supplier'].str.contains('bonetti')]\n",
    "supplier_waaree_new_2 = tranzact_data_new_2_revised[tranzact_data_new_2_revised['supplier'].str.contains('waaree')]\n",
    "\n",
    "tranzact_data_3 = tranzact_data_2_revised.drop(supplier_bonetti_2.index) # 'bonetti' removed\n",
    "tranzact_data_3 = tranzact_data_3.drop(supplier_waaree_2.index)   # 'waaree' removed\n",
    "tranzact_data_new_3 = tranzact_data_new_2_revised.drop(supplier_bonetti_2.index)\n",
    "tranzact_data_new_3 = tranzact_data_new_3.drop(supplier_waaree_2.index)\n",
    "\n",
    "tranzact_data_3 = tranzact_data_3.reset_index(drop=True)\n",
    "tranzact_data_new_3 = tranzact_data_new_3.reset_index(drop=True)\n",
    "\n",
    "print(len(tranzact_data_3))\n",
    "print(len(tranzact_data_new_3))\n",
    "\n",
    "tranzact_data_new_3.head()\n"
   ]
  },
  {
   "cell_type": "code",
   "execution_count": 5,
   "metadata": {},
   "outputs": [],
   "source": [
    "import warnings\n",
    "warnings.filterwarnings(\"ignore\")"
   ]
  },
  {
   "cell_type": "code",
   "execution_count": 84,
   "metadata": {},
   "outputs": [
    {
     "name": "stdout",
     "output_type": "stream",
     "text": [
      "20919\n"
     ]
    }
   ],
   "source": [
    "# Merging two data frames :\n",
    "\n",
    "tranzact_data_combined = pd.concat([tranzact_data_3, tranzact_data_new_3], axis=0, ignore_index=True)\n",
    "\n",
    "# Removing duplicate (item + supplier) combinations :\n",
    "\n",
    "tranzact_data_combined['find_duplicate'] = tranzact_data_combined['item'].map(str) + \\\n",
    "                                            tranzact_data_combined['supplier'].map(str)\n",
    "\n",
    "tranzact_data_combined.drop_duplicates(subset='find_duplicate', keep = 'first', inplace = True)\n",
    "tranzact_data_combined = tranzact_data_combined.reset_index(drop=True)\n",
    "\n",
    "print(len(tranzact_data_combined))\n"
   ]
  },
  {
   "cell_type": "code",
   "execution_count": 42,
   "metadata": {},
   "outputs": [
    {
     "data": {
      "text/plain": [
       "'c.s circle gr is 2062 e250 a'"
      ]
     },
     "execution_count": 42,
     "metadata": {},
     "output_type": "execute_result"
    }
   ],
   "source": [
    "tranzact_data_combined['item'][20588]"
   ]
  },
  {
   "cell_type": "code",
   "execution_count": 207,
   "metadata": {},
   "outputs": [],
   "source": [
    "tranzact_data_combined.to_excel(r'/home/scar3crow/Downloads/2_test.xlsx')\n"
   ]
  },
  {
   "cell_type": "code",
   "execution_count": 261,
   "metadata": {},
   "outputs": [
    {
     "name": "stdout",
     "output_type": "stream",
     "text": [
      "accumulator - model a-as 5126, (3/4\" connection) - emerson make\n",
      "===========================================\n",
      "rm sofn 218 open cover front (c.i. casting fg 260 - is 210-1993)\n",
      "+++++++++++++++++++++++++++++++++++++++++++\n",
      "rm sd 3148 bottom  (c.i. casting fg 260 - is 210-1993)\n",
      "*******************************************\n",
      "rm ssnld 520 top  (c.s. casting is 1030-1998 gr. 280/520)\n",
      "===========================================\n",
      "3564      hex.bolt; 3/8\"x16 unc,45l;is 1367gr8.8\n",
      "3565    hex.bolt;3/8\"x16unc;50l; is1367-2 gr.8.8\n",
      "3566       hex.bolt; 3/8\"x16 unc;55l;is1367gr8.8\n",
      "3567      hex.bolt;5/8\"x11unc;90l; is1367 gr.8.8\n",
      "3568      hex.bolt; 7/16\"x14 unc;45l;is1367gr8.8\n",
      "3569      hex.bolt;1/2\"x13unc;55l; is1367 gr.8.8\n",
      "3570    hex bolt unc1/4\"x20tpi,18l;1367 gr8.8,zp\n",
      "Name: item, dtype: object\n"
     ]
    }
   ],
   "source": [
    "   \n",
    "print(tranzact_data_combined['item'][1])\n",
    "print('===========================================')\n",
    "print(tranzact_data_combined['item'][203])\n",
    "print('+++++++++++++++++++++++++++++++++++++++++++')\n",
    "print(tranzact_data_combined['item'][208])\n",
    "print('*******************************************')\n",
    "print(tranzact_data_combined['item'][225])\n",
    "print('===========================================')\n",
    "print(tranzact_data_combined['item'][3564:3571])\n"
   ]
  },
  {
   "cell_type": "code",
   "execution_count": 85,
   "metadata": {},
   "outputs": [
    {
     "name": "stdout",
     "output_type": "stream",
     "text": [
      "accumulator - model a-as 5126, (3/4\" connection) - emerson make\n",
      "===========================================\n",
      "rm sofn 218 open cover front (c i  casting fg 260 - is 210-1993)\n",
      "+++++++++++++++++++++++++++++++++++++++++++\n",
      "rm sd 3148 bottom  (c i  casting fg 260 - is 210-1993)\n",
      "*******************************************\n",
      "rm ssnld 520 top  (c s  casting is 1030-1998 gr  280/520)\n",
      "===========================================\n",
      "key 6x6x40; en 8\n",
      "3564      hex bolt; 3/8\"x16 unc,45l;is 1367gr8 8\n",
      "3565    hex bolt;3/8\"x16unc;50l; is1367-2 gr 8 8\n",
      "3566       hex bolt; 3/8\"x16 unc;55l;is1367gr8 8\n",
      "3567      hex bolt;5/8\"x11unc;90l; is1367 gr 8 8\n",
      "3568      hex bolt; 7/16\"x14 unc;45l;is1367gr8 8\n",
      "3569      hex bolt;1/2\"x13unc;55l; is1367 gr 8 8\n",
      "3570    hex bolt unc1/4\"x20tpi,18l;1367 gr8 8,zp\n",
      "Name: item, dtype: object\n",
      "<class 'list'>\n",
      "['hex bolt; 3/8\"x16 unc,45l;is 1367gr8 8']\n"
     ]
    },
    {
     "data": {
      "text/html": [
       "<div>\n",
       "<style scoped>\n",
       "    .dataframe tbody tr th:only-of-type {\n",
       "        vertical-align: middle;\n",
       "    }\n",
       "\n",
       "    .dataframe tbody tr th {\n",
       "        vertical-align: top;\n",
       "    }\n",
       "\n",
       "    .dataframe thead th {\n",
       "        text-align: right;\n",
       "    }\n",
       "</style>\n",
       "<table border=\"1\" class=\"dataframe\">\n",
       "  <thead>\n",
       "    <tr style=\"text-align: right;\">\n",
       "      <th></th>\n",
       "      <th>OEM</th>\n",
       "      <th>item</th>\n",
       "      <th>product</th>\n",
       "      <th>supplier</th>\n",
       "      <th>find_duplicate</th>\n",
       "    </tr>\n",
       "  </thead>\n",
       "  <tbody>\n",
       "    <tr>\n",
       "      <th>20914</th>\n",
       "      <td>R-Tech Products &amp; Packaging Pvt Ltd</td>\n",
       "      <td>polybag 12x17 inch_pp</td>\n",
       "      <td>NaN</td>\n",
       "      <td>glory pack industries</td>\n",
       "      <td>polybag 12x17 inch_ppglory pack industries</td>\n",
       "    </tr>\n",
       "    <tr>\n",
       "      <th>20915</th>\n",
       "      <td>R-Tech Products &amp; Packaging Pvt Ltd</td>\n",
       "      <td>polybag_10x15 inch_pp</td>\n",
       "      <td>NaN</td>\n",
       "      <td>glory pack industries</td>\n",
       "      <td>polybag_10x15 inch_ppglory pack industries</td>\n",
       "    </tr>\n",
       "    <tr>\n",
       "      <th>20916</th>\n",
       "      <td>CESARE BONETTI INDIA PVT. LTD.</td>\n",
       "      <td>handle nut 1\" #600,htb,a194 gr8</td>\n",
       "      <td>NaN</td>\n",
       "      <td>shah brothers</td>\n",
       "      <td>handle nut 1\" #600,htb,a194 gr8shah brothers</td>\n",
       "    </tr>\n",
       "    <tr>\n",
       "      <th>20917</th>\n",
       "      <td>Entech Controls</td>\n",
       "      <td>round bar od50 astm a276 type 431</td>\n",
       "      <td>NaN</td>\n",
       "      <td>alpesh metals</td>\n",
       "      <td>round bar od50 astm a276 type 431alpesh metals</td>\n",
       "    </tr>\n",
       "    <tr>\n",
       "      <th>20918</th>\n",
       "      <td>R-Tech Products &amp; Packaging Pvt Ltd</td>\n",
       "      <td>pp_monobox_st5</td>\n",
       "      <td>NaN</td>\n",
       "      <td>shree arun packaging co. pvt. ltd.</td>\n",
       "      <td>pp_monobox_st5shree arun packaging co. pvt. ltd.</td>\n",
       "    </tr>\n",
       "  </tbody>\n",
       "</table>\n",
       "</div>"
      ],
      "text/plain": [
       "                                       OEM                               item  \\\n",
       "20914  R-Tech Products & Packaging Pvt Ltd              polybag 12x17 inch_pp   \n",
       "20915  R-Tech Products & Packaging Pvt Ltd              polybag_10x15 inch_pp   \n",
       "20916       CESARE BONETTI INDIA PVT. LTD.    handle nut 1\" #600,htb,a194 gr8   \n",
       "20917                      Entech Controls  round bar od50 astm a276 type 431   \n",
       "20918  R-Tech Products & Packaging Pvt Ltd                     pp_monobox_st5   \n",
       "\n",
       "      product                            supplier  \\\n",
       "20914     NaN               glory pack industries   \n",
       "20915     NaN               glory pack industries   \n",
       "20916     NaN                       shah brothers   \n",
       "20917     NaN                       alpesh metals   \n",
       "20918     NaN  shree arun packaging co. pvt. ltd.   \n",
       "\n",
       "                                         find_duplicate  \n",
       "20914        polybag 12x17 inch_ppglory pack industries  \n",
       "20915        polybag_10x15 inch_ppglory pack industries  \n",
       "20916      handle nut 1\" #600,htb,a194 gr8shah brothers  \n",
       "20917    round bar od50 astm a276 type 431alpesh metals  \n",
       "20918  pp_monobox_st5shree arun packaging co. pvt. ltd.  "
      ]
     },
     "execution_count": 85,
     "metadata": {},
     "output_type": "execute_result"
    }
   ],
   "source": [
    "\n",
    "tranzact_data_combined['item'] = tranzact_data_combined['item'].str.replace(r'[.]', ' ')\n",
    "#tranzact_data_combined['item'] = tranzact_data_combined['item'].str.replace(r'\\b\\^gr.$\\rd+\\b', 'gr')\n",
    "\n",
    "print(tranzact_data_combined['item'][1])\n",
    "print('===========================================')\n",
    "print(tranzact_data_combined['item'][203])\n",
    "print('+++++++++++++++++++++++++++++++++++++++++++')\n",
    "print(tranzact_data_combined['item'][208])\n",
    "print('*******************************************')\n",
    "print(tranzact_data_combined['item'][225])\n",
    "print('===========================================')\n",
    "print(tranzact_data_combined['item'][5720])\n",
    "print(tranzact_data_combined['item'][3564:3571])\n",
    "\n",
    "print(type([tranzact_data_combined['item'][3564]]))\n",
    "print([tranzact_data_combined['item'][3564]])\n",
    "tranzact_data_combined.tail()"
   ]
  },
  {
   "cell_type": "code",
   "execution_count": 86,
   "metadata": {},
   "outputs": [
    {
     "name": "stdout",
     "output_type": "stream",
     "text": [
      "[  185   186   187   188   189   190   191   192   193   194   195   196\n",
      "   197   198   199   200   201   202   203   204   205   206   207   208\n",
      "   218   225   226   243   244   260   261   262   263   282   283   284\n",
      "   285   286   310   311   312   313   314   315   318   319   320   321\n",
      "   322   323   324   325   326   327   328   481   482   484   485   510\n",
      "   523   533   544   580   581   590   591  1303  1460  1461  1462  1813\n",
      "  1814  1815  1816  1817  2066  2595  2612  2613  3564  3702  3758  3776\n",
      "  3837  3838  3839  3840  3845  3896  3897  4051  4553  4554  4555  4556\n",
      "  4557  4558  4559  4560  4561  5541  6040  7179  7180  7181  7182  7228\n",
      "  7234  7235  7240  7241  7242  7852  7853  7862  7884  7885  7886  7887\n",
      "  7888  7889  7890  7891  7892  7893  7894  7895  7896  8815  9415 10899\n",
      " 10928 10929 10931 10932 10933 10934 10935 10936 10938 10939 10940 10941\n",
      " 10942 10943 10944 10945 10946 10947 11088 11179 11182 11183 11656 11657\n",
      " 11658 11928 11971 11972 11977 11978 12164 12539 12715 12716 12717 12718\n",
      " 12847 12848 12849 12850 12895 12896 12920 12921 13019 13089 13090 13182\n",
      " 13183 13340 13341 13342 13343 13424 13425 13426 13701 13702 13703 13704\n",
      " 13705 13706 13830 13831 13832 13833 13834 13835 13838 13839 13941 14009\n",
      " 14010 14257 14258 14311 14312 14389 14390 14898 15113 15114 15152 15153\n",
      " 15154 15155 15156 15261 15262 15263 15264 15265 15266 15267 15268 15509\n",
      " 15510 15524 15525 15526 15527 15528 15529 15892 15893 16433 16434 16435\n",
      " 16436 16437 16438 16439 16440 16441 16442 16443 16444 16456 16457 16458\n",
      " 16459 16460 16520 16521 17094 17095 17299 17300 17301 17302 17303 17304\n",
      " 17306 17307 17355 17356 17627 17628 17992 18761 19167 19168 19169 19170\n",
      " 19248 19249 19309 19428 19634 19836 19837 20097 20098 20099 20100 20192\n",
      " 20198 20199 20200 20205 20343 20588 20685]\n"
     ]
    },
    {
     "data": {
      "text/html": [
       "<div>\n",
       "<style scoped>\n",
       "    .dataframe tbody tr th:only-of-type {\n",
       "        vertical-align: middle;\n",
       "    }\n",
       "\n",
       "    .dataframe tbody tr th {\n",
       "        vertical-align: top;\n",
       "    }\n",
       "\n",
       "    .dataframe thead th {\n",
       "        text-align: right;\n",
       "    }\n",
       "</style>\n",
       "<table border=\"1\" class=\"dataframe\">\n",
       "  <thead>\n",
       "    <tr style=\"text-align: right;\">\n",
       "      <th></th>\n",
       "      <th>item</th>\n",
       "    </tr>\n",
       "  </thead>\n",
       "  <tbody>\n",
       "    <tr>\n",
       "      <th>20200</th>\n",
       "      <td>[is 2016]</td>\n",
       "    </tr>\n",
       "    <tr>\n",
       "      <th>20205</th>\n",
       "      <td>[is 13638]</td>\n",
       "    </tr>\n",
       "    <tr>\n",
       "      <th>20343</th>\n",
       "      <td>[is 2062]</td>\n",
       "    </tr>\n",
       "    <tr>\n",
       "      <th>20588</th>\n",
       "      <td>[is 2062]</td>\n",
       "    </tr>\n",
       "    <tr>\n",
       "      <th>20685</th>\n",
       "      <td>[is as]</td>\n",
       "    </tr>\n",
       "  </tbody>\n",
       "</table>\n",
       "</div>"
      ],
      "text/plain": [
       "             item\n",
       "20200   [is 2016]\n",
       "20205  [is 13638]\n",
       "20343   [is 2062]\n",
       "20588   [is 2062]\n",
       "20685     [is as]"
      ]
     },
     "execution_count": 86,
     "metadata": {},
     "output_type": "execute_result"
    }
   ],
   "source": [
    "\n",
    "is_list_1 = pd.DataFrame()\n",
    "is_list_1['item'] = tranzact_data_combined['item'].str.findall(r'\\is\\s+\\w+\\b')\n",
    "is_list_index = tranzact_data_combined[tranzact_data_combined['item'].str.contains(r'\\is\\s+\\w+\\b')].index.values\n",
    "print(is_list_index)\n",
    "is_list = is_list_1[is_list_1.astype(str)['item'] != '[]']\n",
    "is_list.tail()"
   ]
  },
  {
   "cell_type": "code",
   "execution_count": 87,
   "metadata": {},
   "outputs": [
    {
     "data": {
      "text/html": [
       "<div>\n",
       "<style scoped>\n",
       "    .dataframe tbody tr th:only-of-type {\n",
       "        vertical-align: middle;\n",
       "    }\n",
       "\n",
       "    .dataframe tbody tr th {\n",
       "        vertical-align: top;\n",
       "    }\n",
       "\n",
       "    .dataframe thead th {\n",
       "        text-align: right;\n",
       "    }\n",
       "</style>\n",
       "<table border=\"1\" class=\"dataframe\">\n",
       "  <thead>\n",
       "    <tr style=\"text-align: right;\">\n",
       "      <th></th>\n",
       "      <th>item</th>\n",
       "      <th>joined</th>\n",
       "    </tr>\n",
       "  </thead>\n",
       "  <tbody>\n",
       "    <tr>\n",
       "      <th>20200</th>\n",
       "      <td>[is 2016]</td>\n",
       "      <td>is 2016</td>\n",
       "    </tr>\n",
       "    <tr>\n",
       "      <th>20205</th>\n",
       "      <td>[is 13638]</td>\n",
       "      <td>is 13638</td>\n",
       "    </tr>\n",
       "    <tr>\n",
       "      <th>20343</th>\n",
       "      <td>[is 2062]</td>\n",
       "      <td>is 2062</td>\n",
       "    </tr>\n",
       "    <tr>\n",
       "      <th>20588</th>\n",
       "      <td>[is 2062]</td>\n",
       "      <td>is 2062</td>\n",
       "    </tr>\n",
       "    <tr>\n",
       "      <th>20685</th>\n",
       "      <td>[is as]</td>\n",
       "      <td>is as</td>\n",
       "    </tr>\n",
       "  </tbody>\n",
       "</table>\n",
       "</div>"
      ],
      "text/plain": [
       "             item    joined\n",
       "20200   [is 2016]   is 2016\n",
       "20205  [is 13638]  is 13638\n",
       "20343   [is 2062]   is 2062\n",
       "20588   [is 2062]   is 2062\n",
       "20685     [is as]     is as"
      ]
     },
     "execution_count": 87,
     "metadata": {},
     "output_type": "execute_result"
    }
   ],
   "source": [
    "is_list['joined'] = is_list.item.apply(''.join)\n",
    "is_list.tail()"
   ]
  },
  {
   "cell_type": "code",
   "execution_count": 88,
   "metadata": {},
   "outputs": [
    {
     "data": {
      "text/html": [
       "<div>\n",
       "<style scoped>\n",
       "    .dataframe tbody tr th:only-of-type {\n",
       "        vertical-align: middle;\n",
       "    }\n",
       "\n",
       "    .dataframe tbody tr th {\n",
       "        vertical-align: top;\n",
       "    }\n",
       "\n",
       "    .dataframe thead th {\n",
       "        text-align: right;\n",
       "    }\n",
       "</style>\n",
       "<table border=\"1\" class=\"dataframe\">\n",
       "  <thead>\n",
       "    <tr style=\"text-align: right;\">\n",
       "      <th></th>\n",
       "      <th>item</th>\n",
       "      <th>joined</th>\n",
       "    </tr>\n",
       "  </thead>\n",
       "  <tbody>\n",
       "    <tr>\n",
       "      <th>20200</th>\n",
       "      <td>[is 2016]</td>\n",
       "      <td>is2016</td>\n",
       "    </tr>\n",
       "    <tr>\n",
       "      <th>20205</th>\n",
       "      <td>[is 13638]</td>\n",
       "      <td>is13638</td>\n",
       "    </tr>\n",
       "    <tr>\n",
       "      <th>20343</th>\n",
       "      <td>[is 2062]</td>\n",
       "      <td>is2062</td>\n",
       "    </tr>\n",
       "    <tr>\n",
       "      <th>20588</th>\n",
       "      <td>[is 2062]</td>\n",
       "      <td>is2062</td>\n",
       "    </tr>\n",
       "    <tr>\n",
       "      <th>20685</th>\n",
       "      <td>[is as]</td>\n",
       "      <td>isas</td>\n",
       "    </tr>\n",
       "  </tbody>\n",
       "</table>\n",
       "</div>"
      ],
      "text/plain": [
       "             item   joined\n",
       "20200   [is 2016]   is2016\n",
       "20205  [is 13638]  is13638\n",
       "20343   [is 2062]   is2062\n",
       "20588   [is 2062]   is2062\n",
       "20685     [is as]     isas"
      ]
     },
     "execution_count": 88,
     "metadata": {},
     "output_type": "execute_result"
    }
   ],
   "source": [
    "is_list.joined = is_list.joined.str.replace(' ', '')\n",
    "is_list.tail()"
   ]
  },
  {
   "cell_type": "code",
   "execution_count": 269,
   "metadata": {
    "scrolled": true
   },
   "outputs": [
    {
     "data": {
      "text/html": [
       "<div>\n",
       "<style scoped>\n",
       "    .dataframe tbody tr th:only-of-type {\n",
       "        vertical-align: middle;\n",
       "    }\n",
       "\n",
       "    .dataframe tbody tr th {\n",
       "        vertical-align: top;\n",
       "    }\n",
       "\n",
       "    .dataframe thead th {\n",
       "        text-align: right;\n",
       "    }\n",
       "</style>\n",
       "<table border=\"1\" class=\"dataframe\">\n",
       "  <thead>\n",
       "    <tr style=\"text-align: right;\">\n",
       "      <th></th>\n",
       "      <th>item</th>\n",
       "      <th>joined</th>\n",
       "    </tr>\n",
       "  </thead>\n",
       "  <tbody>\n",
       "    <tr>\n",
       "      <th>185</th>\n",
       "      <td>[is 210]</td>\n",
       "      <td>is210</td>\n",
       "    </tr>\n",
       "    <tr>\n",
       "      <th>186</th>\n",
       "      <td>[is 210]</td>\n",
       "      <td>is210</td>\n",
       "    </tr>\n",
       "    <tr>\n",
       "      <th>187</th>\n",
       "      <td>[is 210]</td>\n",
       "      <td>is210</td>\n",
       "    </tr>\n",
       "    <tr>\n",
       "      <th>188</th>\n",
       "      <td>[is 210]</td>\n",
       "      <td>is210</td>\n",
       "    </tr>\n",
       "    <tr>\n",
       "      <th>189</th>\n",
       "      <td>[is 210]</td>\n",
       "      <td>is210</td>\n",
       "    </tr>\n",
       "  </tbody>\n",
       "</table>\n",
       "</div>"
      ],
      "text/plain": [
       "         item joined\n",
       "185  [is 210]  is210\n",
       "186  [is 210]  is210\n",
       "187  [is 210]  is210\n",
       "188  [is 210]  is210\n",
       "189  [is 210]  is210"
      ]
     },
     "execution_count": 269,
     "metadata": {},
     "output_type": "execute_result"
    }
   ],
   "source": [
    "is_list.head()"
   ]
  },
  {
   "cell_type": "code",
   "execution_count": 82,
   "metadata": {},
   "outputs": [
    {
     "name": "stdout",
     "output_type": "stream",
     "text": [
      "['c s circle gr is 2062 e250 a']\n"
     ]
    }
   ],
   "source": [
    "print([tranzact_data_combined['item'][20588]])\n",
    "aaa = [re.sub(r'\\is\\s+\\w+\\b', is_list['joined'][20588], a) for a in [tranzact_data_combined['item'][20588]]]"
   ]
  },
  {
   "cell_type": "code",
   "execution_count": 83,
   "metadata": {},
   "outputs": [
    {
     "data": {
      "text/plain": [
       "['c s circle gr is2062 e250 a']"
      ]
     },
     "execution_count": 83,
     "metadata": {},
     "output_type": "execute_result"
    }
   ],
   "source": [
    "aaa"
   ]
  },
  {
   "cell_type": "code",
   "execution_count": 89,
   "metadata": {},
   "outputs": [],
   "source": [
    "for i in is_list_index:    \n",
    "    [tranzact_data_combined['item'][i]] = [re.sub(r'\\is\\s+\\w+\\b', is_list['joined'][i], a) \\\n",
    "                                           for a in [tranzact_data_combined['item'][i]]]"
   ]
  },
  {
   "cell_type": "code",
   "execution_count": 94,
   "metadata": {},
   "outputs": [
    {
     "name": "stdout",
     "output_type": "stream",
     "text": [
      "hex bolt; 3/8\"x16 unc,45l;is1367gr8 8\n"
     ]
    }
   ],
   "source": [
    "print(tranzact_data_combined['item'][3564])"
   ]
  },
  {
   "cell_type": "code",
   "execution_count": null,
   "metadata": {},
   "outputs": [],
   "source": [
    "text = ['hanks_NNS sir_VBP', 'Oh_UH thanks_NNS to_TO remember_VB']\n",
    "curated_text = [re.sub(r'_\\S*', r'', a) for a in text]\n",
    "print curated_text"
   ]
  },
  {
   "cell_type": "code",
   "execution_count": 23,
   "metadata": {},
   "outputs": [
    {
     "ename": "AttributeError",
     "evalue": "'StringMethods' object has no attribute 'sub'",
     "output_type": "error",
     "traceback": [
      "\u001b[0;31m---------------------------------------------------------------------------\u001b[0m",
      "\u001b[0;31mAttributeError\u001b[0m                            Traceback (most recent call last)",
      "\u001b[0;32m<ipython-input-23-6f2fb391b2e6>\u001b[0m in \u001b[0;36m<module>\u001b[0;34m()\u001b[0m\n\u001b[0;32m----> 1\u001b[0;31m \u001b[0mtranzact_data_combined\u001b[0m\u001b[0;34m[\u001b[0m\u001b[0;34m'item'\u001b[0m\u001b[0;34m]\u001b[0m\u001b[0;34m.\u001b[0m\u001b[0mstr\u001b[0m\u001b[0;34m.\u001b[0m\u001b[0msub\u001b[0m\u001b[0;34m(\u001b[0m\u001b[0;34mr\"\\is\\s+\\w+\\b\"\u001b[0m\u001b[0;34m,\u001b[0m \u001b[0mis_list\u001b[0m\u001b[0;34m[\u001b[0m\u001b[0;34m'joined'\u001b[0m\u001b[0;34m]\u001b[0m\u001b[0;34m[\u001b[0m\u001b[0;36m185\u001b[0m\u001b[0;34m]\u001b[0m\u001b[0;34m)\u001b[0m\u001b[0;34m\u001b[0m\u001b[0m\n\u001b[0m",
      "\u001b[0;31mAttributeError\u001b[0m: 'StringMethods' object has no attribute 'sub'"
     ]
    }
   ],
   "source": [
    "tranzact_data_combined['item'].str.sub(r\"\\is\\s+\\w+\\b\", is_list['joined'][185])"
   ]
  },
  {
   "cell_type": "code",
   "execution_count": 48,
   "metadata": {},
   "outputs": [
    {
     "name": "stdout",
     "output_type": "stream",
     "text": [
      "<class 'str'>\n",
      "rm snh 616 top ( c i  casting grade: fg 260 - is 210, 1993)\n"
     ]
    }
   ],
   "source": [
    "print(type(tranzact_data_combined['item'][185]))\n",
    "print(tranzact_data_combined['item'][185])"
   ]
  },
  {
   "cell_type": "code",
   "execution_count": 55,
   "metadata": {},
   "outputs": [],
   "source": [
    "for i in is_list_index:    \n",
    "    tranzact_data_combined['item'] = tranzact_data_combined['item'].str.\\\n",
    "                                        replace(r'\\is\\s+\\w+\\b', is_list['joined'][i])\n"
   ]
  },
  {
   "cell_type": "code",
   "execution_count": 68,
   "metadata": {},
   "outputs": [],
   "source": [
    "for i in is_list_index:    \n",
    "    tranzact_data_combined['item'][i] = tranzact_data_combined['item'][i].\\\n",
    "                                        replace(r'\\is\\s+\\w+\\b', is_list['joined'][i])\n",
    "#print(tranzact_data_combined[item][185])"
   ]
  },
  {
   "cell_type": "code",
   "execution_count": 69,
   "metadata": {},
   "outputs": [
    {
     "data": {
      "text/plain": [
       "'c s circle gr is 2062 e250 a'"
      ]
     },
     "execution_count": 69,
     "metadata": {},
     "output_type": "execute_result"
    }
   ],
   "source": [
    "tranzact_data_combined['item'][20588]"
   ]
  },
  {
   "cell_type": "code",
   "execution_count": 67,
   "metadata": {},
   "outputs": [
    {
     "ename": "AttributeError",
     "evalue": "'Series' object has no attribute 're'",
     "output_type": "error",
     "traceback": [
      "\u001b[0;31m---------------------------------------------------------------------------\u001b[0m",
      "\u001b[0;31mAttributeError\u001b[0m                            Traceback (most recent call last)",
      "\u001b[0;32m<ipython-input-67-885e9ef22908>\u001b[0m in \u001b[0;36m<module>\u001b[0;34m()\u001b[0m\n\u001b[0;32m----> 1\u001b[0;31m \u001b[0mtranzact_data_combined\u001b[0m\u001b[0;34m[\u001b[0m\u001b[0;34m'item'\u001b[0m\u001b[0;34m]\u001b[0m \u001b[0;34m=\u001b[0m \u001b[0mtranzact_data_combined\u001b[0m\u001b[0;34m[\u001b[0m\u001b[0;34m'item'\u001b[0m\u001b[0;34m]\u001b[0m\u001b[0;34m.\u001b[0m\u001b[0mre\u001b[0m\u001b[0;34m.\u001b[0m\u001b[0msub\u001b[0m\u001b[0;34m(\u001b[0m\u001b[0;34mr'\\is\\s+\\w+\\b'\u001b[0m\u001b[0;34m,\u001b[0m \u001b[0;34mr'\\1'\u001b[0m\u001b[0;34m,\u001b[0m \u001b[0mregex\u001b[0m\u001b[0;34m=\u001b[0m\u001b[0;32mTrue\u001b[0m\u001b[0;34m)\u001b[0m\u001b[0;34m\u001b[0m\u001b[0m\n\u001b[0m",
      "\u001b[0;32m~/Dropbox/WorkStation-Subrata/python/venv1/lib/python3.5/site-packages/pandas/core/generic.py\u001b[0m in \u001b[0;36m__getattr__\u001b[0;34m(self, name)\u001b[0m\n\u001b[1;32m   4374\u001b[0m             \u001b[0;32mif\u001b[0m \u001b[0mself\u001b[0m\u001b[0;34m.\u001b[0m\u001b[0m_info_axis\u001b[0m\u001b[0;34m.\u001b[0m\u001b[0m_can_hold_identifiers_and_holds_name\u001b[0m\u001b[0;34m(\u001b[0m\u001b[0mname\u001b[0m\u001b[0;34m)\u001b[0m\u001b[0;34m:\u001b[0m\u001b[0;34m\u001b[0m\u001b[0m\n\u001b[1;32m   4375\u001b[0m                 \u001b[0;32mreturn\u001b[0m \u001b[0mself\u001b[0m\u001b[0;34m[\u001b[0m\u001b[0mname\u001b[0m\u001b[0;34m]\u001b[0m\u001b[0;34m\u001b[0m\u001b[0m\n\u001b[0;32m-> 4376\u001b[0;31m             \u001b[0;32mreturn\u001b[0m \u001b[0mobject\u001b[0m\u001b[0;34m.\u001b[0m\u001b[0m__getattribute__\u001b[0m\u001b[0;34m(\u001b[0m\u001b[0mself\u001b[0m\u001b[0;34m,\u001b[0m \u001b[0mname\u001b[0m\u001b[0;34m)\u001b[0m\u001b[0;34m\u001b[0m\u001b[0m\n\u001b[0m\u001b[1;32m   4377\u001b[0m \u001b[0;34m\u001b[0m\u001b[0m\n\u001b[1;32m   4378\u001b[0m     \u001b[0;32mdef\u001b[0m \u001b[0m__setattr__\u001b[0m\u001b[0;34m(\u001b[0m\u001b[0mself\u001b[0m\u001b[0;34m,\u001b[0m \u001b[0mname\u001b[0m\u001b[0;34m,\u001b[0m \u001b[0mvalue\u001b[0m\u001b[0;34m)\u001b[0m\u001b[0;34m:\u001b[0m\u001b[0;34m\u001b[0m\u001b[0m\n",
      "\u001b[0;31mAttributeError\u001b[0m: 'Series' object has no attribute 're'"
     ]
    }
   ],
   "source": [
    "tranzact_data_combined['item'] = tranzact_data_combined['item'].re.sub(r'\\is\\s+\\w+\\b', r'\\1', regex=True)\n"
   ]
  },
  {
   "cell_type": "code",
   "execution_count": 60,
   "metadata": {},
   "outputs": [
    {
     "name": "stdout",
     "output_type": "stream",
     "text": [
      "None\n"
     ]
    }
   ],
   "source": [
    "print(tranzact_data_combined['item'][185])\n",
    "#print(tranzact[185])"
   ]
  },
  {
   "cell_type": "code",
   "execution_count": 103,
   "metadata": {},
   "outputs": [
    {
     "name": "stdout",
     "output_type": "stream",
     "text": [
      "<class 'numpy.ndarray'>\n",
      "<class 'list'>\n",
      "[  185   186   187   188   189   190   191   192   193   194   195   196\n",
      "   197   198   199   200   201   202   203   204   205   206   207   208\n",
      "   218   225   226   243   244   260   261   262   263   282   283   284\n",
      "   285   286   310   311   312   313   314   315   318   319   320   321\n",
      "   322   323   324   325   326   327   328   481   482   484   485   510\n",
      "   523   533   544   580   581   590   591  1303  1460  1461  1462  1813\n",
      "  1814  1815  1816  1817  2066  2595  2612  2613  3564  3702  3758  3776\n",
      "  3837  3838  3839  3840  3845  3896  3897  4051  4553  4554  4555  4556\n",
      "  4557  4558  4559  4560  4561  5541  6040  7179  7180  7181  7182  7228\n",
      "  7234  7235  7240  7241  7242  7852  7853  7862  7884  7885  7886  7887\n",
      "  7888  7889  7890  7891  7892  7893  7894  7895  7896  8815  9415 10899\n",
      " 10928 10929 10931 10932 10933 10934 10935 10936 10938 10939 10940 10941\n",
      " 10942 10943 10944 10945 10946 10947 11088 11179 11182 11183 11656 11657\n",
      " 11658 11928 11971 11972 11977 11978 12164 12539 12715 12716 12717 12718\n",
      " 12847 12848 12849 12850 12895 12896 12920 12921 13019 13089 13090 13182\n",
      " 13183 13340 13341 13342 13343 13424 13425 13426 13701 13702 13703 13704\n",
      " 13705 13706 13830 13831 13832 13833 13834 13835 13838 13839 13941 14009\n",
      " 14010 14257 14258 14311 14312 14389 14390 14898 15113 15114 15152 15153\n",
      " 15154 15155 15156 15261 15262 15263 15264 15265 15266 15267 15268 15509\n",
      " 15510 15524 15525 15526 15527 15528 15529 15892 15893 16433 16434 16435\n",
      " 16436 16437 16438 16439 16440 16441 16442 16443 16444 16456 16457 16458\n",
      " 16459 16460 16520 16521 17094 17095 17299 17300 17301 17302 17303 17304\n",
      " 17306 17307 17355 17356 17627 17628 17992 18761 19167 19168 19169 19170\n",
      " 19248 19249 19309 19428 19634 19836 19837 20097 20098 20099 20100 20192\n",
      " 20198 20199 20200 20205 20343 20588 20685]\n",
      "203    [is 210]\n",
      "204    [is 210]\n",
      "205    [is 210]\n",
      "206    [is 210]\n",
      "207    [is 210]\n",
      "Name: item, dtype: object\n",
      "      item\n",
      "0       []\n",
      "1       []\n",
      "2       []\n",
      "3       []\n",
      "4       []\n",
      "5       []\n",
      "6       []\n",
      "7       []\n",
      "8       []\n",
      "9       []\n",
      "10      []\n",
      "11      []\n",
      "12      []\n",
      "13      []\n",
      "14      []\n",
      "15      []\n",
      "16      []\n",
      "17      []\n",
      "18      []\n",
      "19      []\n",
      "20      []\n",
      "21      []\n",
      "22      []\n",
      "23      []\n",
      "24      []\n",
      "25      []\n",
      "26      []\n",
      "27      []\n",
      "28      []\n",
      "29      []\n",
      "...    ...\n",
      "20889   []\n",
      "20890   []\n",
      "20891   []\n",
      "20892   []\n",
      "20893   []\n",
      "20894   []\n",
      "20895   []\n",
      "20896   []\n",
      "20897   []\n",
      "20898   []\n",
      "20899   []\n",
      "20900   []\n",
      "20901   []\n",
      "20902   []\n",
      "20903   []\n",
      "20904   []\n",
      "20905   []\n",
      "20906   []\n",
      "20907   []\n",
      "20908   []\n",
      "20909   []\n",
      "20910   []\n",
      "20911   []\n",
      "20912   []\n",
      "20913   []\n",
      "20914   []\n",
      "20915   []\n",
      "20916   []\n",
      "20917   []\n",
      "20918   []\n",
      "\n",
      "[20919 rows x 1 columns]\n",
      "hex bolt; 3/8\"x16 unc,45l;\\is\\w+ 8\n"
     ]
    }
   ],
   "source": [
    "index_is_2 = tranzact_data_combined[tranzact_data_combined['item'].str.contains(r'\\is\\s+\\w+\\b')].index.values\n",
    "\n",
    "is_list_2 = pd.DataFrame(tranzact_data_combined['item'].str.findall(r'\\is\\s+\\w+\\b'))\n",
    "is_list_2['item'].replace('', np.nan, inplace=True)\n",
    "#is_list = is_list_2.notnull()\n",
    "is_list_2.dropna(subset=['item'], inplace=True)\n",
    "\n",
    "print(type(index_is_2))\n",
    "print(type(index_is_2.tolist()))\n",
    "print(index_is_2)\n",
    "print(is_list_2['item'][203:208])\n",
    "print(is_list_2)\n",
    "#print(''.join(is_list_2['item'][0].str.split()))\n",
    "\n",
    "\n",
    "repl = lambda m: r'\\is\\w+'\n",
    "\n",
    "\n",
    "tranzact_data_combined['item'] = tranzact_data_combined['item'].str.\\\n",
    "                                        replace(r'\\is\\s+\\w+', repl, regex = True)\n",
    "print(tranzact_data_combined['item'][3564])"
   ]
  },
  {
   "cell_type": "code",
   "execution_count": 164,
   "metadata": {},
   "outputs": [
    {
     "ename": "NameError",
     "evalue": "name 'item' is not defined",
     "output_type": "error",
     "traceback": [
      "\u001b[0;31m---------------------------------------------------------------------------\u001b[0m",
      "\u001b[0;31mNameError\u001b[0m                                 Traceback (most recent call last)",
      "\u001b[0;32m<ipython-input-164-06a7f0b2689e>\u001b[0m in \u001b[0;36m<module>\u001b[0;34m()\u001b[0m\n\u001b[1;32m      5\u001b[0m \u001b[0mf\u001b[0m \u001b[0;34m=\u001b[0m \u001b[0;32mlambda\u001b[0m \u001b[0mx\u001b[0m\u001b[0;34m:\u001b[0m \u001b[0;34m' '\u001b[0m\u001b[0;34m.\u001b[0m\u001b[0mjoin\u001b[0m\u001b[0;34m(\u001b[0m\u001b[0;34m[\u001b[0m\u001b[0mitem\u001b[0m \u001b[0;32mfor\u001b[0m \u001b[0mitem\u001b[0m \u001b[0;32min\u001b[0m \u001b[0mx\u001b[0m\u001b[0;34m.\u001b[0m\u001b[0msplit\u001b[0m\u001b[0;34m(\u001b[0m\u001b[0;34m)\u001b[0m\u001b[0;34m]\u001b[0m\u001b[0;34m)\u001b[0m\u001b[0;34m\u001b[0m\u001b[0m\n\u001b[1;32m      6\u001b[0m \u001b[0;31m#df[\"Locations\"] = df[\"Locations\"].apply(f)\u001b[0m\u001b[0;34m\u001b[0m\u001b[0;34m\u001b[0m\u001b[0m\n\u001b[0;32m----> 7\u001b[0;31m \u001b[0mtranzact_data_combined\u001b[0m\u001b[0;34m[\u001b[0m\u001b[0;34m'item'\u001b[0m\u001b[0;34m]\u001b[0m \u001b[0;34m=\u001b[0m \u001b[0mtranzact_data_combined\u001b[0m\u001b[0;34m[\u001b[0m\u001b[0;34m'item'\u001b[0m\u001b[0;34m]\u001b[0m\u001b[0;34m.\u001b[0m\u001b[0mstr\u001b[0m\u001b[0;34m.\u001b[0m                                        \u001b[0mreplace\u001b[0m\u001b[0;34m(\u001b[0m\u001b[0;34mr'\\is\\s+\\w+\\b'\u001b[0m\u001b[0;34m,\u001b[0m \u001b[0mis_list_2\u001b[0m\u001b[0;34m[\u001b[0m\u001b[0mitem\u001b[0m\u001b[0;34m]\u001b[0m\u001b[0;34m.\u001b[0m\u001b[0mstr\u001b[0m\u001b[0;34m.\u001b[0m\u001b[0mapply\u001b[0m\u001b[0;34m(\u001b[0m\u001b[0mf\u001b[0m\u001b[0;34m)\u001b[0m\u001b[0;34m)\u001b[0m\u001b[0;34m\u001b[0m\u001b[0m\n\u001b[0m",
      "\u001b[0;31mNameError\u001b[0m: name 'item' is not defined"
     ]
    }
   ],
   "source": [
    "index_is_2 = tranzact_data_combined[tranzact_data_combined['item'].str.contains(r'\\is\\s+\\w+\\b')].index.values\n",
    "#print(index_is_2)\n",
    "is_list_2 = pd.DataFrame(tranzact_data_combined['item'].str.findall(r'\\is\\s+\\w+\\b'))\n",
    "\n",
    "f = lambda x: ' '.join([item for item in x.split()])\n",
    "#df[\"Locations\"] = df[\"Locations\"].apply(f)\n",
    "tranzact_data_combined['item'] = tranzact_data_combined['item'].str.\\\n",
    "                                        replace(r'\\is\\s+\\w+\\b', is_list_2[item].str.apply(f))\n"
   ]
  },
  {
   "cell_type": "code",
   "execution_count": 159,
   "metadata": {},
   "outputs": [
    {
     "name": "stdout",
     "output_type": "stream",
     "text": [
      "['is', '210']\n",
      "rm snh 616 top ( c i  casting grade: fg 260 - is 210, 1993)\n"
     ]
    }
   ],
   "source": [
    "index_is_2 = tranzact_data_combined[tranzact_data_combined['item'].str.contains(r'\\is\\s+\\w+\\b')].index.values\n",
    "#print(index_is_2)\n",
    "is_list_2 = pd.DataFrame(tranzact_data_combined['item'].str.findall(r'\\is\\s+\\w+\\b'))\n",
    "print(is_list_2['item'][185][0].split())\n",
    "#print('=====================')\n",
    "#print(type(tranzact_data_combined))\n",
    "#print(type(is_list_2))\n",
    "#print(type(is_list_2[185]))\n",
    "#print(is_list_2[185])\n",
    "#print(is_list_2[185][0].split())\n",
    "#print(type(index_is_2))\n",
    "#print(index_is_2[0])\n",
    "\n",
    "for i in index_is_2:\n",
    "#    print(i)\n",
    "#    print(is_list_2[i])\n",
    "#    print(is_list_2[i][0].split())\n",
    "#    aa = ''.join(is_list_2[i][0].split())\n",
    "#    print(aa)\n",
    "#    print(tranzact_data_combined['item'][i])\n",
    "\n",
    "#    tranzact_data_combined['item'][i] = tranzact_data_combined['item'][i].\\\n",
    "#                                        replace(r'\\is\\s+\\w+\\b', ''.join(is_list_2[i][0].split()))\n",
    "#    print(tranzact_data_combined['item'][i])\n",
    "#    input('press enter')\n",
    "    tranzact_data_combined['item'][i] = tranzact_data_combined['item'][i].\\\n",
    "                                        replace(r'\\is\\s+\\w+\\b', ''.join(is_list_2['item'][i][0].split()))\n",
    "print(tranzact_data_combined['item'][185])"
   ]
  },
  {
   "cell_type": "code",
   "execution_count": 79,
   "metadata": {},
   "outputs": [
    {
     "name": "stdout",
     "output_type": "stream",
     "text": [
      "accumulator - model a-as 5126, (3/4\" connection) - emerson make\n",
      "===========================================\n",
      "rm sofn 218 open cover front (ci casting fg 260 - is210-1993)\n",
      "+++++++++++++++++++++++++++++++++++++++++++\n",
      "rm sd 3148 bottom  (ci casting fg 260 - is210-1993)\n",
      "*******************************************\n",
      "rm ssnld 520 top  (cs casting is210-1998 gr280/520)\n",
      "===========================================\n",
      "key 6x6x40; en8\n",
      "3564             hexbolt; 3/8\"x16 unc,45l;is210\n",
      "3565      hexbolt;3/8\"x16unc;50l; is1367-2 gr88\n",
      "3566        hexbolt; 3/8\"x16 unc;55l;is1367gr88\n",
      "3567        hexbolt;5/8\"x11unc;90l; is1367 gr88\n",
      "3568       hexbolt; 7/16\"x14 unc;45l;is1367gr88\n",
      "3569        hexbolt;1/2\"x13unc;55l; is1367 gr88\n",
      "3570    hex bolt unc1/4\"x20tpi,18l;1367 gr88,zp\n",
      "Name: item, dtype: object\n"
     ]
    }
   ],
   "source": [
    "# Join words for en series, is series and gr series :\n",
    "\n",
    "index_en = tranzact_data_combined[tranzact_data_combined['item'].str.contains(r'\\b\\en\\s+\\w+\\b')].index.values\n",
    "index_is_1 = tranzact_data_combined[tranzact_data_combined['item'].str.contains(r'\\b\\is\\s+\\w+\\b')].index.values\n",
    "index_is_2 = tranzact_data_combined[tranzact_data_combined['item'].str.contains(r'\\W\\is\\s+\\w+\\b')].index.values\n",
    "index_gr = tranzact_data_combined[tranzact_data_combined['item'].str.contains(r'\\b\\gr\\s+\\w+\\b')].index.values\n",
    "index_fg = tranzact_data_combined[tranzact_data_combined['item'].str.contains(r'\\b\\fg\\s+\\w+\\b')].index.values\n",
    "\n",
    "en_list = tranzact_data_combined['item'].str.findall(r'\\b\\en\\s+\\w+\\b')\n",
    "is_list_1 = tranzact_data_combined['item'].str.findall(r'\\b\\is\\s+\\w+\\b')\n",
    "is_list_2 = tranzact_data_combined['item'].str.findall(r'\\W\\is\\s+\\w+\\b')\n",
    "gr_list = tranzact_data_combined['item'].str.findall(r'\\b\\gr\\s+\\w+\\b')\n",
    "fg_list = tranzact_data_combined['item'].str.findall(r'\\b\\fg\\s+\\w+\\b')\n",
    "\n",
    "for i in index_en:    \n",
    "    tranzact_data_combined['item'] = tranzact_data_combined['item'].str.\\\n",
    "                                        replace(r'\\b\\en\\s+\\w+\\b', ''.join(en_list[i][0].split()))\n",
    "for i in index_is_1:    \n",
    "    tranzact_data_combined['item'] = tranzact_data_combined['item'].str.\\\n",
    "                                        replace(r'\\b\\is\\s+\\w+\\b', ''.join(is_list_1[i][0].split()))\n",
    "for i in index_is_2:    \n",
    "    tranzact_data_combined['item'] = tranzact_data_combined['item'].str.\\\n",
    "                                        replace(r'\\W\\is\\s+\\w+\\b', ''.join(is_list_2[i][0].split()))\n",
    "for i in index_gr:    \n",
    "    tranzact_data_combined['item'] = tranzact_data_combined['item'].str.\\\n",
    "                                        replace(r'\\b\\gr\\s+\\w+\\b', ''.join(gr_list[i][0].split()))\n",
    "for i in index_fg:    \n",
    "    tranzact_data_combined['item'] = tranzact_data_combined['item'].str.\\\n",
    "                                        replace(r'\\b\\fg\\s+\\w+\\b', ''.join(fg_list[i][0].split()))\n",
    "\n",
    "\n",
    "    \n",
    "print(tranzact_data_combined['item'][1])\n",
    "print('===========================================')\n",
    "print(tranzact_data_combined['item'][203])\n",
    "print('+++++++++++++++++++++++++++++++++++++++++++')\n",
    "print(tranzact_data_combined['item'][208])\n",
    "print('*******************************************')\n",
    "print(tranzact_data_combined['item'][225])\n",
    "print('===========================================')\n",
    "print(tranzact_data_combined['item'][5720])\n",
    "print(tranzact_data_combined['item'][3564:3571])"
   ]
  },
  {
   "cell_type": "code",
   "execution_count": 180,
   "metadata": {},
   "outputs": [
    {
     "ename": "error",
     "evalue": "nothing to repeat at position 2",
     "output_type": "error",
     "traceback": [
      "\u001b[0;31m---------------------------------------------------------------------------\u001b[0m",
      "\u001b[0;31merror\u001b[0m                                     Traceback (most recent call last)",
      "\u001b[0;32m<ipython-input-180-c5c4626b859d>\u001b[0m in \u001b[0;36m<module>\u001b[0;34m()\u001b[0m\n\u001b[0;32m----> 1\u001b[0;31m \u001b[0mtranzact_data_combined\u001b[0m\u001b[0;34m[\u001b[0m\u001b[0;34m'item'\u001b[0m\u001b[0;34m]\u001b[0m \u001b[0;34m=\u001b[0m \u001b[0mtranzact_data_combined\u001b[0m\u001b[0;34m[\u001b[0m\u001b[0;34m'item'\u001b[0m\u001b[0;34m]\u001b[0m\u001b[0;34m.\u001b[0m\u001b[0mstr\u001b[0m\u001b[0;34m.\u001b[0m\u001b[0mreplace\u001b[0m\u001b[0;34m(\u001b[0m\u001b[0;34mr'\\b+\\-\\b+'\u001b[0m\u001b[0;34m,\u001b[0m\u001b[0;34m''\u001b[0m\u001b[0;34m)\u001b[0m\u001b[0;34m\u001b[0m\u001b[0m\n\u001b[0m\u001b[1;32m      2\u001b[0m \u001b[0mprint\u001b[0m\u001b[0;34m(\u001b[0m\u001b[0mtranzact_data_combined\u001b[0m\u001b[0;34m[\u001b[0m\u001b[0;34m'item'\u001b[0m\u001b[0;34m]\u001b[0m\u001b[0;34m[\u001b[0m\u001b[0;36m5720\u001b[0m\u001b[0;34m]\u001b[0m\u001b[0;34m)\u001b[0m\u001b[0;34m\u001b[0m\u001b[0m\n\u001b[1;32m      3\u001b[0m \u001b[0mprint\u001b[0m\u001b[0;34m(\u001b[0m\u001b[0mtranzact_data_combined\u001b[0m\u001b[0;34m[\u001b[0m\u001b[0;34m'item'\u001b[0m\u001b[0;34m]\u001b[0m\u001b[0;34m[\u001b[0m\u001b[0;36m225\u001b[0m\u001b[0;34m]\u001b[0m\u001b[0;34m)\u001b[0m\u001b[0;34m\u001b[0m\u001b[0m\n\u001b[1;32m      4\u001b[0m \u001b[0mprint\u001b[0m\u001b[0;34m(\u001b[0m\u001b[0mtranzact_data_combined\u001b[0m\u001b[0;34m[\u001b[0m\u001b[0;34m'item'\u001b[0m\u001b[0;34m]\u001b[0m\u001b[0;34m[\u001b[0m\u001b[0;36m208\u001b[0m\u001b[0;34m]\u001b[0m\u001b[0;34m)\u001b[0m\u001b[0;34m\u001b[0m\u001b[0m\n\u001b[1;32m      5\u001b[0m \u001b[0;34m\u001b[0m\u001b[0m\n",
      "\u001b[0;32m~/Dropbox/WorkStation-Subrata/python/venv1/lib/python3.5/site-packages/pandas/core/strings.py\u001b[0m in \u001b[0;36mreplace\u001b[0;34m(self, pat, repl, n, case, flags, regex)\u001b[0m\n\u001b[1;32m   2427\u001b[0m     \u001b[0;32mdef\u001b[0m \u001b[0mreplace\u001b[0m\u001b[0;34m(\u001b[0m\u001b[0mself\u001b[0m\u001b[0;34m,\u001b[0m \u001b[0mpat\u001b[0m\u001b[0;34m,\u001b[0m \u001b[0mrepl\u001b[0m\u001b[0;34m,\u001b[0m \u001b[0mn\u001b[0m\u001b[0;34m=\u001b[0m\u001b[0;34m-\u001b[0m\u001b[0;36m1\u001b[0m\u001b[0;34m,\u001b[0m \u001b[0mcase\u001b[0m\u001b[0;34m=\u001b[0m\u001b[0;32mNone\u001b[0m\u001b[0;34m,\u001b[0m \u001b[0mflags\u001b[0m\u001b[0;34m=\u001b[0m\u001b[0;36m0\u001b[0m\u001b[0;34m,\u001b[0m \u001b[0mregex\u001b[0m\u001b[0;34m=\u001b[0m\u001b[0;32mTrue\u001b[0m\u001b[0;34m)\u001b[0m\u001b[0;34m:\u001b[0m\u001b[0;34m\u001b[0m\u001b[0m\n\u001b[1;32m   2428\u001b[0m         result = str_replace(self._data, pat, repl, n=n, case=case,\n\u001b[0;32m-> 2429\u001b[0;31m                              flags=flags, regex=regex)\n\u001b[0m\u001b[1;32m   2430\u001b[0m         \u001b[0;32mreturn\u001b[0m \u001b[0mself\u001b[0m\u001b[0;34m.\u001b[0m\u001b[0m_wrap_result\u001b[0m\u001b[0;34m(\u001b[0m\u001b[0mresult\u001b[0m\u001b[0;34m)\u001b[0m\u001b[0;34m\u001b[0m\u001b[0m\n\u001b[1;32m   2431\u001b[0m \u001b[0;34m\u001b[0m\u001b[0m\n",
      "\u001b[0;32m~/Dropbox/WorkStation-Subrata/python/venv1/lib/python3.5/site-packages/pandas/core/strings.py\u001b[0m in \u001b[0;36mstr_replace\u001b[0;34m(arr, pat, repl, n, case, flags, regex)\u001b[0m\n\u001b[1;32m    654\u001b[0m         \u001b[0;32mif\u001b[0m \u001b[0mis_compiled_re\u001b[0m \u001b[0;32mor\u001b[0m \u001b[0mlen\u001b[0m\u001b[0;34m(\u001b[0m\u001b[0mpat\u001b[0m\u001b[0;34m)\u001b[0m \u001b[0;34m>\u001b[0m \u001b[0;36m1\u001b[0m \u001b[0;32mor\u001b[0m \u001b[0mflags\u001b[0m \u001b[0;32mor\u001b[0m \u001b[0mcallable\u001b[0m\u001b[0;34m(\u001b[0m\u001b[0mrepl\u001b[0m\u001b[0;34m)\u001b[0m\u001b[0;34m:\u001b[0m\u001b[0;34m\u001b[0m\u001b[0m\n\u001b[1;32m    655\u001b[0m             \u001b[0mn\u001b[0m \u001b[0;34m=\u001b[0m \u001b[0mn\u001b[0m \u001b[0;32mif\u001b[0m \u001b[0mn\u001b[0m \u001b[0;34m>=\u001b[0m \u001b[0;36m0\u001b[0m \u001b[0;32melse\u001b[0m \u001b[0;36m0\u001b[0m\u001b[0;34m\u001b[0m\u001b[0m\n\u001b[0;32m--> 656\u001b[0;31m             \u001b[0mcompiled\u001b[0m \u001b[0;34m=\u001b[0m \u001b[0mre\u001b[0m\u001b[0;34m.\u001b[0m\u001b[0mcompile\u001b[0m\u001b[0;34m(\u001b[0m\u001b[0mpat\u001b[0m\u001b[0;34m,\u001b[0m \u001b[0mflags\u001b[0m\u001b[0;34m=\u001b[0m\u001b[0mflags\u001b[0m\u001b[0;34m)\u001b[0m\u001b[0;34m\u001b[0m\u001b[0m\n\u001b[0m\u001b[1;32m    657\u001b[0m             \u001b[0mf\u001b[0m \u001b[0;34m=\u001b[0m \u001b[0;32mlambda\u001b[0m \u001b[0mx\u001b[0m\u001b[0;34m:\u001b[0m \u001b[0mcompiled\u001b[0m\u001b[0;34m.\u001b[0m\u001b[0msub\u001b[0m\u001b[0;34m(\u001b[0m\u001b[0mrepl\u001b[0m\u001b[0;34m=\u001b[0m\u001b[0mrepl\u001b[0m\u001b[0;34m,\u001b[0m \u001b[0mstring\u001b[0m\u001b[0;34m=\u001b[0m\u001b[0mx\u001b[0m\u001b[0;34m,\u001b[0m \u001b[0mcount\u001b[0m\u001b[0;34m=\u001b[0m\u001b[0mn\u001b[0m\u001b[0;34m)\u001b[0m\u001b[0;34m\u001b[0m\u001b[0m\n\u001b[1;32m    658\u001b[0m         \u001b[0;32melse\u001b[0m\u001b[0;34m:\u001b[0m\u001b[0;34m\u001b[0m\u001b[0m\n",
      "\u001b[0;32m~/Dropbox/WorkStation-Subrata/python/venv1/lib/python3.5/re.py\u001b[0m in \u001b[0;36mcompile\u001b[0;34m(pattern, flags)\u001b[0m\n\u001b[1;32m    222\u001b[0m \u001b[0;32mdef\u001b[0m \u001b[0mcompile\u001b[0m\u001b[0;34m(\u001b[0m\u001b[0mpattern\u001b[0m\u001b[0;34m,\u001b[0m \u001b[0mflags\u001b[0m\u001b[0;34m=\u001b[0m\u001b[0;36m0\u001b[0m\u001b[0;34m)\u001b[0m\u001b[0;34m:\u001b[0m\u001b[0;34m\u001b[0m\u001b[0m\n\u001b[1;32m    223\u001b[0m     \u001b[0;34m\"Compile a regular expression pattern, returning a pattern object.\"\u001b[0m\u001b[0;34m\u001b[0m\u001b[0m\n\u001b[0;32m--> 224\u001b[0;31m     \u001b[0;32mreturn\u001b[0m \u001b[0m_compile\u001b[0m\u001b[0;34m(\u001b[0m\u001b[0mpattern\u001b[0m\u001b[0;34m,\u001b[0m \u001b[0mflags\u001b[0m\u001b[0;34m)\u001b[0m\u001b[0;34m\u001b[0m\u001b[0m\n\u001b[0m\u001b[1;32m    225\u001b[0m \u001b[0;34m\u001b[0m\u001b[0m\n\u001b[1;32m    226\u001b[0m \u001b[0;32mdef\u001b[0m \u001b[0mpurge\u001b[0m\u001b[0;34m(\u001b[0m\u001b[0;34m)\u001b[0m\u001b[0;34m:\u001b[0m\u001b[0;34m\u001b[0m\u001b[0m\n",
      "\u001b[0;32m~/Dropbox/WorkStation-Subrata/python/venv1/lib/python3.5/re.py\u001b[0m in \u001b[0;36m_compile\u001b[0;34m(pattern, flags)\u001b[0m\n\u001b[1;32m    291\u001b[0m     \u001b[0;32mif\u001b[0m \u001b[0;32mnot\u001b[0m \u001b[0msre_compile\u001b[0m\u001b[0;34m.\u001b[0m\u001b[0misstring\u001b[0m\u001b[0;34m(\u001b[0m\u001b[0mpattern\u001b[0m\u001b[0;34m)\u001b[0m\u001b[0;34m:\u001b[0m\u001b[0;34m\u001b[0m\u001b[0m\n\u001b[1;32m    292\u001b[0m         \u001b[0;32mraise\u001b[0m \u001b[0mTypeError\u001b[0m\u001b[0;34m(\u001b[0m\u001b[0;34m\"first argument must be string or compiled pattern\"\u001b[0m\u001b[0;34m)\u001b[0m\u001b[0;34m\u001b[0m\u001b[0m\n\u001b[0;32m--> 293\u001b[0;31m     \u001b[0mp\u001b[0m \u001b[0;34m=\u001b[0m \u001b[0msre_compile\u001b[0m\u001b[0;34m.\u001b[0m\u001b[0mcompile\u001b[0m\u001b[0;34m(\u001b[0m\u001b[0mpattern\u001b[0m\u001b[0;34m,\u001b[0m \u001b[0mflags\u001b[0m\u001b[0;34m)\u001b[0m\u001b[0;34m\u001b[0m\u001b[0m\n\u001b[0m\u001b[1;32m    294\u001b[0m     \u001b[0;32mif\u001b[0m \u001b[0;32mnot\u001b[0m \u001b[0;34m(\u001b[0m\u001b[0mflags\u001b[0m \u001b[0;34m&\u001b[0m \u001b[0mDEBUG\u001b[0m\u001b[0;34m)\u001b[0m\u001b[0;34m:\u001b[0m\u001b[0;34m\u001b[0m\u001b[0m\n\u001b[1;32m    295\u001b[0m         \u001b[0;32mif\u001b[0m \u001b[0mlen\u001b[0m\u001b[0;34m(\u001b[0m\u001b[0m_cache\u001b[0m\u001b[0;34m)\u001b[0m \u001b[0;34m>=\u001b[0m \u001b[0m_MAXCACHE\u001b[0m\u001b[0;34m:\u001b[0m\u001b[0;34m\u001b[0m\u001b[0m\n",
      "\u001b[0;32m~/Dropbox/WorkStation-Subrata/python/venv1/lib/python3.5/sre_compile.py\u001b[0m in \u001b[0;36mcompile\u001b[0;34m(p, flags)\u001b[0m\n\u001b[1;32m    534\u001b[0m     \u001b[0;32mif\u001b[0m \u001b[0misstring\u001b[0m\u001b[0;34m(\u001b[0m\u001b[0mp\u001b[0m\u001b[0;34m)\u001b[0m\u001b[0;34m:\u001b[0m\u001b[0;34m\u001b[0m\u001b[0m\n\u001b[1;32m    535\u001b[0m         \u001b[0mpattern\u001b[0m \u001b[0;34m=\u001b[0m \u001b[0mp\u001b[0m\u001b[0;34m\u001b[0m\u001b[0m\n\u001b[0;32m--> 536\u001b[0;31m         \u001b[0mp\u001b[0m \u001b[0;34m=\u001b[0m \u001b[0msre_parse\u001b[0m\u001b[0;34m.\u001b[0m\u001b[0mparse\u001b[0m\u001b[0;34m(\u001b[0m\u001b[0mp\u001b[0m\u001b[0;34m,\u001b[0m \u001b[0mflags\u001b[0m\u001b[0;34m)\u001b[0m\u001b[0;34m\u001b[0m\u001b[0m\n\u001b[0m\u001b[1;32m    537\u001b[0m     \u001b[0;32melse\u001b[0m\u001b[0;34m:\u001b[0m\u001b[0;34m\u001b[0m\u001b[0m\n\u001b[1;32m    538\u001b[0m         \u001b[0mpattern\u001b[0m \u001b[0;34m=\u001b[0m \u001b[0;32mNone\u001b[0m\u001b[0;34m\u001b[0m\u001b[0m\n",
      "\u001b[0;32m~/Dropbox/WorkStation-Subrata/python/venv1/lib/python3.5/sre_parse.py\u001b[0m in \u001b[0;36mparse\u001b[0;34m(str, flags, pattern)\u001b[0m\n\u001b[1;32m    827\u001b[0m     \u001b[0mpattern\u001b[0m\u001b[0;34m.\u001b[0m\u001b[0mstr\u001b[0m \u001b[0;34m=\u001b[0m \u001b[0mstr\u001b[0m\u001b[0;34m\u001b[0m\u001b[0m\n\u001b[1;32m    828\u001b[0m \u001b[0;34m\u001b[0m\u001b[0m\n\u001b[0;32m--> 829\u001b[0;31m     \u001b[0mp\u001b[0m \u001b[0;34m=\u001b[0m \u001b[0m_parse_sub\u001b[0m\u001b[0;34m(\u001b[0m\u001b[0msource\u001b[0m\u001b[0;34m,\u001b[0m \u001b[0mpattern\u001b[0m\u001b[0;34m,\u001b[0m \u001b[0;36m0\u001b[0m\u001b[0;34m)\u001b[0m\u001b[0;34m\u001b[0m\u001b[0m\n\u001b[0m\u001b[1;32m    830\u001b[0m     \u001b[0mp\u001b[0m\u001b[0;34m.\u001b[0m\u001b[0mpattern\u001b[0m\u001b[0;34m.\u001b[0m\u001b[0mflags\u001b[0m \u001b[0;34m=\u001b[0m \u001b[0mfix_flags\u001b[0m\u001b[0;34m(\u001b[0m\u001b[0mstr\u001b[0m\u001b[0;34m,\u001b[0m \u001b[0mp\u001b[0m\u001b[0;34m.\u001b[0m\u001b[0mpattern\u001b[0m\u001b[0;34m.\u001b[0m\u001b[0mflags\u001b[0m\u001b[0;34m)\u001b[0m\u001b[0;34m\u001b[0m\u001b[0m\n\u001b[1;32m    831\u001b[0m \u001b[0;34m\u001b[0m\u001b[0m\n",
      "\u001b[0;32m~/Dropbox/WorkStation-Subrata/python/venv1/lib/python3.5/sre_parse.py\u001b[0m in \u001b[0;36m_parse_sub\u001b[0;34m(source, state, nested)\u001b[0m\n\u001b[1;32m    435\u001b[0m     \u001b[0mstart\u001b[0m \u001b[0;34m=\u001b[0m \u001b[0msource\u001b[0m\u001b[0;34m.\u001b[0m\u001b[0mtell\u001b[0m\u001b[0;34m(\u001b[0m\u001b[0;34m)\u001b[0m\u001b[0;34m\u001b[0m\u001b[0m\n\u001b[1;32m    436\u001b[0m     \u001b[0;32mwhile\u001b[0m \u001b[0;32mTrue\u001b[0m\u001b[0;34m:\u001b[0m\u001b[0;34m\u001b[0m\u001b[0m\n\u001b[0;32m--> 437\u001b[0;31m         \u001b[0mitemsappend\u001b[0m\u001b[0;34m(\u001b[0m\u001b[0m_parse\u001b[0m\u001b[0;34m(\u001b[0m\u001b[0msource\u001b[0m\u001b[0;34m,\u001b[0m \u001b[0mstate\u001b[0m\u001b[0;34m)\u001b[0m\u001b[0;34m)\u001b[0m\u001b[0;34m\u001b[0m\u001b[0m\n\u001b[0m\u001b[1;32m    438\u001b[0m         \u001b[0;32mif\u001b[0m \u001b[0;32mnot\u001b[0m \u001b[0msourcematch\u001b[0m\u001b[0;34m(\u001b[0m\u001b[0;34m\"|\"\u001b[0m\u001b[0;34m)\u001b[0m\u001b[0;34m:\u001b[0m\u001b[0;34m\u001b[0m\u001b[0m\n\u001b[1;32m    439\u001b[0m             \u001b[0;32mbreak\u001b[0m\u001b[0;34m\u001b[0m\u001b[0m\n",
      "\u001b[0;32m~/Dropbox/WorkStation-Subrata/python/venv1/lib/python3.5/sre_parse.py\u001b[0m in \u001b[0;36m_parse\u001b[0;34m(source, state)\u001b[0m\n\u001b[1;32m    636\u001b[0m             \u001b[0;32mif\u001b[0m \u001b[0;32mnot\u001b[0m \u001b[0mitem\u001b[0m \u001b[0;32mor\u001b[0m \u001b[0;34m(\u001b[0m\u001b[0m_len\u001b[0m\u001b[0;34m(\u001b[0m\u001b[0mitem\u001b[0m\u001b[0;34m)\u001b[0m \u001b[0;34m==\u001b[0m \u001b[0;36m1\u001b[0m \u001b[0;32mand\u001b[0m \u001b[0mitem\u001b[0m\u001b[0;34m[\u001b[0m\u001b[0;36m0\u001b[0m\u001b[0;34m]\u001b[0m\u001b[0;34m[\u001b[0m\u001b[0;36m0\u001b[0m\u001b[0;34m]\u001b[0m \u001b[0;32mis\u001b[0m \u001b[0mAT\u001b[0m\u001b[0;34m)\u001b[0m\u001b[0;34m:\u001b[0m\u001b[0;34m\u001b[0m\u001b[0m\n\u001b[1;32m    637\u001b[0m                 raise source.error(\"nothing to repeat\",\n\u001b[0;32m--> 638\u001b[0;31m                                    source.tell() - here + len(this))\n\u001b[0m\u001b[1;32m    639\u001b[0m             \u001b[0;32mif\u001b[0m \u001b[0mitem\u001b[0m\u001b[0;34m[\u001b[0m\u001b[0;36m0\u001b[0m\u001b[0;34m]\u001b[0m\u001b[0;34m[\u001b[0m\u001b[0;36m0\u001b[0m\u001b[0;34m]\u001b[0m \u001b[0;32min\u001b[0m \u001b[0m_REPEATCODES\u001b[0m\u001b[0;34m:\u001b[0m\u001b[0;34m\u001b[0m\u001b[0m\n\u001b[1;32m    640\u001b[0m                 raise source.error(\"multiple repeat\",\n",
      "\u001b[0;31merror\u001b[0m: nothing to repeat at position 2"
     ]
    }
   ],
   "source": [
    "tranzact_data_combined['item'] = tranzact_data_combined['item'].str.replace(r'\\b+\\-\\b+','')  \n",
    "print(tranzact_data_combined['item'][5720])    \n",
    "print(tranzact_data_combined['item'][225])    \n",
    "print(tranzact_data_combined['item'][208])    \n",
    "    \n",
    "    \n",
    "print(tranzact_data_combined['item'][1])    \n",
    "print(tranzact_data_combined['item'][203])\n"
   ]
  },
  {
   "cell_type": "code",
   "execution_count": 25,
   "metadata": {},
   "outputs": [
    {
     "ename": "AttributeError",
     "evalue": "'StringMethods' object has no attribute 'sub'",
     "output_type": "error",
     "traceback": [
      "\u001b[0;31m---------------------------------------------------------------------------\u001b[0m",
      "\u001b[0;31mAttributeError\u001b[0m                            Traceback (most recent call last)",
      "\u001b[0;32m<ipython-input-25-00a916816348>\u001b[0m in \u001b[0;36m<module>\u001b[0;34m()\u001b[0m\n\u001b[1;32m      1\u001b[0m \u001b[0;31m## Join words :\u001b[0m\u001b[0;34m\u001b[0m\u001b[0;34m\u001b[0m\u001b[0m\n\u001b[1;32m      2\u001b[0m \u001b[0;34m\u001b[0m\u001b[0m\n\u001b[0;32m----> 3\u001b[0;31m \u001b[0mtranzact_data_combined\u001b[0m\u001b[0;34m[\u001b[0m\u001b[0;34m'item'\u001b[0m\u001b[0;34m]\u001b[0m \u001b[0;34m=\u001b[0m \u001b[0mtranzact_data_combined\u001b[0m\u001b[0;34m[\u001b[0m\u001b[0;34m'item'\u001b[0m\u001b[0;34m]\u001b[0m\u001b[0;34m.\u001b[0m\u001b[0mstr\u001b[0m\u001b[0;34m.\u001b[0m\u001b[0msub\u001b[0m\u001b[0;34m(\u001b[0m\u001b[0;34mr'\\b\\en\\s+\\d+\\b'\u001b[0m\u001b[0;34m,\u001b[0m \u001b[0;34m'\\b\\en|d+\\b'\u001b[0m\u001b[0;34m)\u001b[0m\u001b[0;34m\u001b[0m\u001b[0m\n\u001b[0m\u001b[1;32m      4\u001b[0m \u001b[0;34m\u001b[0m\u001b[0m\n\u001b[1;32m      5\u001b[0m \u001b[0;31m#tranzact_data_combined['item'] = tranzact_data_combined['item'].str.replace(r'\\b\\-\\b','')  ## Join hyphaned words\u001b[0m\u001b[0;34m\u001b[0m\u001b[0;34m\u001b[0m\u001b[0m\n",
      "\u001b[0;31mAttributeError\u001b[0m: 'StringMethods' object has no attribute 'sub'"
     ]
    }
   ],
   "source": [
    "## Join words :\n",
    "\n",
    "tranzact_data_combined['item'] = tranzact_data_combined['item'].str.sub(r'\\b\\en\\s+\\d+\\b', '\\b\\en|d+\\b')\n",
    "\n",
    "#tranzact_data_combined['item'] = tranzact_data_combined['item'].str.replace(r'\\b\\-\\b','')  ## Join hyphaned words\n",
    "#tranzact_data_combined['item'] = tranzact_data_combined['item'].str.replace(r'\\b\\d+\\b','')  ## remove integers\n",
    "#tranzact_data_combined['item'] = tranzact_data_combined['item'].str.replace(r'\\W',' ')   ## remove puntuations\n",
    "\n",
    "print(tranzact_data_combined['item'][5720:5726])\n"
   ]
  },
  {
   "cell_type": "code",
   "execution_count": 9,
   "metadata": {},
   "outputs": [
    {
     "data": {
      "text/html": [
       "<div>\n",
       "<style scoped>\n",
       "    .dataframe tbody tr th:only-of-type {\n",
       "        vertical-align: middle;\n",
       "    }\n",
       "\n",
       "    .dataframe tbody tr th {\n",
       "        vertical-align: top;\n",
       "    }\n",
       "\n",
       "    .dataframe thead th {\n",
       "        text-align: right;\n",
       "    }\n",
       "</style>\n",
       "<table border=\"1\" class=\"dataframe\">\n",
       "  <thead>\n",
       "    <tr style=\"text-align: right;\">\n",
       "      <th></th>\n",
       "      <th>product</th>\n",
       "      <th>feature</th>\n",
       "      <th>supplier</th>\n",
       "      <th>find_duplicate</th>\n",
       "    </tr>\n",
       "  </thead>\n",
       "  <tbody>\n",
       "    <tr>\n",
       "      <th>9921</th>\n",
       "      <td>cscasting</td>\n",
       "      <td>yoke casting gtv sa216 wcc qap</td>\n",
       "      <td>AMI Alloys</td>\n",
       "      <td>yoke casting gtv sa216 wcc qapAMI Alloys</td>\n",
       "    </tr>\n",
       "    <tr>\n",
       "      <th>9922</th>\n",
       "      <td>cscasting</td>\n",
       "      <td>yoke cast gtv sa216 wcc qap</td>\n",
       "      <td>Tulip Casting Pvt. Ltd.</td>\n",
       "      <td>yoke cast gtv sa216 wcc qapTulip Casting Pvt. ...</td>\n",
       "    </tr>\n",
       "    <tr>\n",
       "      <th>9923</th>\n",
       "      <td>alloysteelcasting</td>\n",
       "      <td>yoke casting gtv sa217 c12a qap</td>\n",
       "      <td>AMI Alloys</td>\n",
       "      <td>yoke casting gtv sa217 c12a qapAMI Alloys</td>\n",
       "    </tr>\n",
       "    <tr>\n",
       "      <th>9924</th>\n",
       "      <td>alloysteelcasting</td>\n",
       "      <td>yoke cast tcv a217wc6</td>\n",
       "      <td>RAJ ENGINEERS</td>\n",
       "      <td>yoke cast tcv a217wc6RAJ ENGINEERS</td>\n",
       "    </tr>\n",
       "    <tr>\n",
       "      <th>9925</th>\n",
       "      <td>cicasting</td>\n",
       "      <td>yoke sleeve gtv a439 d2</td>\n",
       "      <td>Waaree Industries Pvt.Ltd.</td>\n",
       "      <td>yoke sleeve gtv a439 d2Waaree Industries Pvt.Ltd.</td>\n",
       "    </tr>\n",
       "  </tbody>\n",
       "</table>\n",
       "</div>"
      ],
      "text/plain": [
       "                product                          feature  \\\n",
       "9921          cscasting   yoke casting gtv sa216 wcc qap   \n",
       "9922          cscasting      yoke cast gtv sa216 wcc qap   \n",
       "9923  alloysteelcasting  yoke casting gtv sa217 c12a qap   \n",
       "9924  alloysteelcasting            yoke cast tcv a217wc6   \n",
       "9925          cicasting          yoke sleeve gtv a439 d2   \n",
       "\n",
       "                        supplier  \\\n",
       "9921                  AMI Alloys   \n",
       "9922     Tulip Casting Pvt. Ltd.   \n",
       "9923                  AMI Alloys   \n",
       "9924               RAJ ENGINEERS   \n",
       "9925  Waaree Industries Pvt.Ltd.   \n",
       "\n",
       "                                         find_duplicate  \n",
       "9921           yoke casting gtv sa216 wcc qapAMI Alloys  \n",
       "9922  yoke cast gtv sa216 wcc qapTulip Casting Pvt. ...  \n",
       "9923          yoke casting gtv sa217 c12a qapAMI Alloys  \n",
       "9924                 yoke cast tcv a217wc6RAJ ENGINEERS  \n",
       "9925  yoke sleeve gtv a439 d2Waaree Industries Pvt.Ltd.  "
      ]
     },
     "execution_count": 9,
     "metadata": {},
     "output_type": "execute_result"
    }
   ],
   "source": [
    "## cleaning the data\n",
    "\n",
    "pd.options.mode.chained_assignment = None\n",
    "\n",
    "l_ist = ['mm', 'ft']\n",
    "\n",
    "## Join all hyphaned words :\n",
    "\n",
    "tranzact_data_3['item'] = tranzact_data_3['item'].str.replace(r'\\b+\\-\\b+','')  \n",
    "\n",
    "## Removing underscores '_':\n",
    "\n",
    "punctuation = ['_']\n",
    "\n",
    "for i in punctuation:\n",
    "    \n",
    "    tranzact_data_3['item']= tranzact_data_3['item'].str.replace(i,\" \")\n",
    "\n",
    "tranzact_data_3['feature'] = tranzact_data_3['item'].str.replace(r'\\W',' ')   ## remove puntuations\n",
    "\n",
    "tranzact_data_3['feature'] = tranzact_data_3['feature'].str.replace(r'\\b\\d+\\b','')  ## remove integers\n",
    "\n",
    "tranzact_data_3['feature'] = tranzact_data_3['feature'].str.replace(r'\\s+',' ') ## remove gaps between words to singe gap\n",
    "\n",
    "tranzact_data_3['feature'] = tranzact_data_3['feature'].str.replace(r'\\b\\d+\\mm\\b',' ')   ## remove all 'mm' dimensions \n",
    " \n",
    "tranzact_data_3['feature'] = tranzact_data_3['feature'].str.replace(r'\\b\\m\\d+\\b',' ') ## remove 'm8' etc\n",
    "\n",
    "tranzact_data_3['feature'] = tranzact_data_3['feature'].str.replace(r'\\b\\w\\b','') ## remove stand alone single letters\n",
    "\n",
    "\n",
    "tranzact_data_3['feature'] = tranzact_data_3['feature'].str.replace(r'\\s+',' ') ## remove gaps between words to singe gap\n",
    "\n",
    "tranzact_data_3['feature'] = tranzact_data_3['feature'].str.replace(r'\\s+',' ') ## remove gaps between words to singe gap\n",
    "\n",
    "tranzact_data_3['feature'] = tranzact_data_3['feature'].str.replace(r'\\s+',' ') ## remove gaps between words to singe gap\n",
    "\n",
    "tranzact_data_3['feature'] = tranzact_data_3['feature'].str.replace(r'\\s+',' ') ## remove gaps between words to singe gap\n",
    "\n",
    "tranzact_data_3['feature']= tranzact_data_3['feature'].apply(lambda x:' '.join([i for i in x.split()\n",
    "                                                                                if i not in l_ist]).lower())\n",
    "\n",
    "## Removing only single word features :\n",
    "\n",
    "tranzact_data_3 = tranzact_data_3[tranzact_data_3['feature'].str.contains(' ')]\n",
    "tranzact_data_3 = tranzact_data_3.reset_index(drop=True)\n",
    "\n",
    "## Final file for classification :\n",
    "\n",
    "col_1 = ['product', 'feature', 'supplier']\n",
    "tranzact_data = tranzact_data_3[col_1]\n",
    "\n",
    "## Removing duplicate (item + supplier) combinations :\n",
    "\n",
    "tranzact_data['find_duplicate'] = tranzact_data['feature'].map(str) + \\\n",
    "                                            tranzact_data['supplier'].map(str)\n",
    "\n",
    "tranzact_data.drop_duplicates(subset='find_duplicate', keep = 'first', inplace = True)\n",
    "tranzact_data = tranzact_data.reset_index(drop=True)\n",
    "\n",
    "\n",
    "tranzact_data.tail()"
   ]
  },
  {
   "cell_type": "code",
   "execution_count": 10,
   "metadata": {},
   "outputs": [
    {
     "data": {
      "text/html": [
       "<div>\n",
       "<style scoped>\n",
       "    .dataframe tbody tr th:only-of-type {\n",
       "        vertical-align: middle;\n",
       "    }\n",
       "\n",
       "    .dataframe tbody tr th {\n",
       "        vertical-align: top;\n",
       "    }\n",
       "\n",
       "    .dataframe thead th {\n",
       "        text-align: right;\n",
       "    }\n",
       "</style>\n",
       "<table border=\"1\" class=\"dataframe\">\n",
       "  <thead>\n",
       "    <tr style=\"text-align: right;\">\n",
       "      <th></th>\n",
       "      <th>product</th>\n",
       "      <th>feature</th>\n",
       "      <th>supplier</th>\n",
       "      <th>find_duplicate</th>\n",
       "      <th>product_id</th>\n",
       "    </tr>\n",
       "  </thead>\n",
       "  <tbody>\n",
       "    <tr>\n",
       "      <th>0</th>\n",
       "      <td>gas</td>\n",
       "      <td>new cylinder gas</td>\n",
       "      <td>Stallion Enterprises</td>\n",
       "      <td>new cylinder gasStallion Enterprises</td>\n",
       "      <td>0</td>\n",
       "    </tr>\n",
       "    <tr>\n",
       "      <th>1</th>\n",
       "      <td>cooling</td>\n",
       "      <td>accumulator model aas connection emerson make</td>\n",
       "      <td>Neelam Enterprises</td>\n",
       "      <td>accumulator model aas connection emerson makeN...</td>\n",
       "      <td>1</td>\n",
       "    </tr>\n",
       "    <tr>\n",
       "      <th>2</th>\n",
       "      <td>cooling</td>\n",
       "      <td>accumulator flokool psi fksa596</td>\n",
       "      <td>T J CONTROLS</td>\n",
       "      <td>accumulator flokool psi fksa596T J CONTROLS</td>\n",
       "      <td>1</td>\n",
       "    </tr>\n",
       "    <tr>\n",
       "      <th>3</th>\n",
       "      <td>cooling</td>\n",
       "      <td>accumulator connection</td>\n",
       "      <td>H J International</td>\n",
       "      <td>accumulator connectionH J International</td>\n",
       "      <td>1</td>\n",
       "    </tr>\n",
       "    <tr>\n",
       "      <th>4</th>\n",
       "      <td>cooling</td>\n",
       "      <td>accumulator 52167s</td>\n",
       "      <td>ANAND REFRIGERATION</td>\n",
       "      <td>accumulator 52167sANAND REFRIGERATION</td>\n",
       "      <td>1</td>\n",
       "    </tr>\n",
       "  </tbody>\n",
       "</table>\n",
       "</div>"
      ],
      "text/plain": [
       "   product                                        feature  \\\n",
       "0      gas                               new cylinder gas   \n",
       "1  cooling  accumulator model aas connection emerson make   \n",
       "2  cooling                accumulator flokool psi fksa596   \n",
       "3  cooling                         accumulator connection   \n",
       "4  cooling                             accumulator 52167s   \n",
       "\n",
       "               supplier                                     find_duplicate  \\\n",
       "0  Stallion Enterprises               new cylinder gasStallion Enterprises   \n",
       "1    Neelam Enterprises  accumulator model aas connection emerson makeN...   \n",
       "2          T J CONTROLS        accumulator flokool psi fksa596T J CONTROLS   \n",
       "3     H J International            accumulator connectionH J International   \n",
       "4   ANAND REFRIGERATION              accumulator 52167sANAND REFRIGERATION   \n",
       "\n",
       "   product_id  \n",
       "0           0  \n",
       "1           1  \n",
       "2           1  \n",
       "3           1  \n",
       "4           1  "
      ]
     },
     "execution_count": 10,
     "metadata": {},
     "output_type": "execute_result"
    }
   ],
   "source": [
    "# digitising 'product' and creating a dictionary :\n",
    "\n",
    "tranzact_data['product_id'] = tranzact_data['product'].factorize()[0]\n",
    "\n",
    "product_id_df = tranzact_data[['product', 'product_id']].drop_duplicates().sort_values('product_id')\n",
    "product_to_id = dict(product_id_df.values)\n",
    "id_to_product = dict(product_id_df[['product_id', 'product']].values)\n",
    "\n",
    "tranzact_data.head()"
   ]
  },
  {
   "cell_type": "code",
   "execution_count": 11,
   "metadata": {},
   "outputs": [
    {
     "name": "stdout",
     "output_type": "stream",
     "text": [
      "1531\n"
     ]
    },
    {
     "data": {
      "image/png": "[encoded data removed]",
      "text/plain": [
       "<Figure size 3600x720 with 1 Axes>"
      ]
     },
     "metadata": {},
     "output_type": "display_data"
    }
   ],
   "source": [
    "## To show distribution of product category\n",
    "\n",
    "import matplotlib.pyplot as plt\n",
    "%matplotlib inline\n",
    "\n",
    "fig = plt.figure(figsize=(50,10))\n",
    "print(max(tranzact_data.groupby('product').feature.count()))\n",
    "tranzact_data.groupby('product').feature.count().plot.bar(ylim=0)\n",
    "plt.show()\n",
    "\n",
    "## Pl. note the unbalance distribution of product categories. In category Fasteners, there are 1736 items(maxm no.)"
   ]
  },
  {
   "cell_type": "code",
   "execution_count": 12,
   "metadata": {},
   "outputs": [
    {
     "data": {
      "text/plain": [
       "Counter({'acid': 9,\n",
       "         'actuator': 48,\n",
       "         'adhesive': 12,\n",
       "         'alloysteelbar': 59,\n",
       "         'alloysteelcasting': 89,\n",
       "         'alloysteelforging': 55,\n",
       "         'aluminiumcasting': 3,\n",
       "         'bearing': 79,\n",
       "         'belt': 22,\n",
       "         'bushbearing': 62,\n",
       "         'carbonsteelbar': 119,\n",
       "         'cibar': 5,\n",
       "         'cicasting': 142,\n",
       "         'cooling': 113,\n",
       "         'cscasting': 434,\n",
       "         'csforging': 96,\n",
       "         'diaphragm': 27,\n",
       "         'electrical': 1257,\n",
       "         'electronic': 240,\n",
       "         'fasteners': 1531,\n",
       "         'gas': 21,\n",
       "         'gasket': 198,\n",
       "         'gearbox': 24,\n",
       "         'glass': 22,\n",
       "         'hydraulic': 520,\n",
       "         'ic': 78,\n",
       "         'inductor': 19,\n",
       "         'lab-apparatus': 31,\n",
       "         'machinery': 10,\n",
       "         'manifold': 33,\n",
       "         'measuringinstrumentelectrical': 6,\n",
       "         'measuringinstrumentmechanical': 51,\n",
       "         'mechanicalconnector': 28,\n",
       "         'metalsheet': 279,\n",
       "         'misc': 323,\n",
       "         'motor': 34,\n",
       "         'msbar': 19,\n",
       "         'nameplate': 80,\n",
       "         'nonmetalbar': 18,\n",
       "         'nonmetalsheet': 59,\n",
       "         'nonsteelbar': 24,\n",
       "         'oil&lubricant': 41,\n",
       "         'packaging': 217,\n",
       "         'paint': 117,\n",
       "         'perforatedsheet': 44,\n",
       "         'pipe': 479,\n",
       "         'resistor': 109,\n",
       "         'safetyappliance': 46,\n",
       "         'sandwichpanel': 25,\n",
       "         'sealing': 234,\n",
       "         'section': 35,\n",
       "         'solar': 54,\n",
       "         'spring': 114,\n",
       "         'spsbar': 179,\n",
       "         'spswire': 15,\n",
       "         'ssbar': 581,\n",
       "         'sscasting': 118,\n",
       "         'ssforging': 60,\n",
       "         'sswire': 34,\n",
       "         'stationery': 28,\n",
       "         'tool': 558,\n",
       "         'tungstenbar': 6,\n",
       "         'valve': 223,\n",
       "         'welding': 76,\n",
       "         'wire': 85,\n",
       "         'wiremesh': 169})"
      ]
     },
     "execution_count": 12,
     "metadata": {},
     "output_type": "execute_result"
    }
   ],
   "source": [
    "## Gives the product wise item distribution. In some product categories there are only 1 item.\n",
    "from collections import Counter\n",
    "Counter(tranzact_data[\"product\"])"
   ]
  },
  {
   "cell_type": "code",
   "execution_count": 36,
   "metadata": {},
   "outputs": [
    {
     "name": "stdout",
     "output_type": "stream",
     "text": [
      "accumulator model aas connection emerson make\n"
     ]
    }
   ],
   "source": [
    "## Creating X and y variables for training. X = Items or item 'feature'. y = 'product' or product category\n",
    "\n",
    "X = []\n",
    "for i in range(tranzact_data.shape[0]):\n",
    "    X.append(tranzact_data.iloc[i][1])\n",
    "y = np.array(tranzact_data[\"product\"])\n",
    "\n",
    "print(X[1])\n"
   ]
  },
  {
   "cell_type": "code",
   "execution_count": 37,
   "metadata": {},
   "outputs": [
    {
     "name": "stdout",
     "output_type": "stream",
     "text": [
      "sw end rubber cap\n",
      "pipe\n"
     ]
    }
   ],
   "source": [
    "#train test split in 80% / 20% ratio\n",
    "\n",
    "from sklearn.model_selection import train_test_split\n",
    "X_train, X_test, y_train, y_test = train_test_split(X, y, test_size=0.20, random_state=5)\n",
    "\n",
    "print(X_train[1])\n",
    "print(y_train[1])"
   ]
  },
  {
   "cell_type": "code",
   "execution_count": 38,
   "metadata": {},
   "outputs": [],
   "source": [
    "## Creating the pipeline for learning which include vectorizing and training with \n",
    "## Support Vector Classifier with Linear Kernel :\n",
    "\n",
    "from sklearn.pipeline import Pipeline\n",
    "from sklearn.feature_extraction.text import TfidfVectorizer\n",
    "from sklearn.feature_extraction.text import CountVectorizer\n",
    "from sklearn.feature_extraction.text import TfidfTransformer\n",
    "from sklearn.svm import LinearSVC\n",
    "from sklearn.multiclass import OneVsRestClassifier\n",
    "\n",
    "\n",
    "model = Pipeline([('vectorizer', CountVectorizer(ngram_range=(1,2))), \\\n",
    "                  ('tfidf', TfidfTransformer(norm='l2', use_idf=True)), \\\n",
    "                 ('clf', OneVsRestClassifier(LinearSVC(class_weight = 'balanced')))])"
   ]
  },
  {
   "cell_type": "code",
   "execution_count": 39,
   "metadata": {},
   "outputs": [
    {
     "name": "stdout",
     "output_type": "stream",
     "text": [
      "0.9415911379657603\n"
     ]
    }
   ],
   "source": [
    "#fit model with training data\n",
    "\n",
    "model.fit(X_train, y_train)\n",
    "\n",
    "#evaluation on test data\n",
    "\n",
    "pred = model.predict(X_test)\n",
    "\n",
    "from sklearn.metrics import confusion_matrix, accuracy_score\n",
    "\n",
    "model_accuracy = accuracy_score(pred, y_test)\n",
    "\n",
    "print(model_accuracy)\n"
   ]
  },
  {
   "cell_type": "code",
   "execution_count": 187,
   "metadata": {},
   "outputs": [],
   "source": [
    "## Input Item name here in the syntax given below :\n",
    "\n",
    "Input_Item_Name = ['Insulator - GV2']"
   ]
  },
  {
   "cell_type": "code",
   "execution_count": 188,
   "metadata": {},
   "outputs": [
    {
     "name": "stdout",
     "output_type": "stream",
     "text": [
      "Product Category =  ['electrical']\n"
     ]
    }
   ],
   "source": [
    "## Find product category here :\n",
    "Output_Product_Category = model.predict(Input_Item_Name)\n",
    "print('Product Category = ', Output_Product_Category)\n",
    "output_cat_list = Output_Product_Category.tolist()\n"
   ]
  },
  {
   "cell_type": "code",
   "execution_count": 72,
   "metadata": {},
   "outputs": [
    {
     "data": {
      "text/plain": [
       "['svm_model.sav']"
      ]
     },
     "execution_count": 72,
     "metadata": {},
     "output_type": "execute_result"
    }
   ],
   "source": [
    "## Saving the learned model :\n",
    "from sklearn.externals import joblib\n",
    "\n",
    "filename = 'svm_model.sav'\n",
    "joblib.dump(model, filename)\n"
   ]
  },
  {
   "cell_type": "code",
   "execution_count": null,
   "metadata": {},
   "outputs": [],
   "source": [
    "# load the model from disk\n",
    "loaded_model = joblib.load(svm_model)"
   ]
  },
  {
   "cell_type": "code",
   "execution_count": 189,
   "metadata": {},
   "outputs": [
    {
     "name": "stdout",
     "output_type": "stream",
     "text": [
      "1257\n"
     ]
    },
    {
     "data": {
      "text/html": [
       "<div>\n",
       "<style scoped>\n",
       "    .dataframe tbody tr th:only-of-type {\n",
       "        vertical-align: middle;\n",
       "    }\n",
       "\n",
       "    .dataframe tbody tr th {\n",
       "        vertical-align: top;\n",
       "    }\n",
       "\n",
       "    .dataframe thead th {\n",
       "        text-align: right;\n",
       "    }\n",
       "</style>\n",
       "<table border=\"1\" class=\"dataframe\">\n",
       "  <thead>\n",
       "    <tr style=\"text-align: right;\">\n",
       "      <th></th>\n",
       "      <th>product</th>\n",
       "      <th>feature</th>\n",
       "      <th>supplier</th>\n",
       "      <th>find_duplicate</th>\n",
       "      <th>product_id</th>\n",
       "    </tr>\n",
       "  </thead>\n",
       "  <tbody>\n",
       "    <tr>\n",
       "      <th>0</th>\n",
       "      <td>electrical</td>\n",
       "      <td>cable tie inch</td>\n",
       "      <td>GOLDLINK  TECHNOCAST</td>\n",
       "      <td>cable tie inchGOLDLINK  TECHNOCAST</td>\n",
       "      <td>19</td>\n",
       "    </tr>\n",
       "    <tr>\n",
       "      <th>1</th>\n",
       "      <td>electrical</td>\n",
       "      <td>way bar graph red face greay</td>\n",
       "      <td>ALPESH METALS</td>\n",
       "      <td>way bar graph red face greayALPESH METALS</td>\n",
       "      <td>19</td>\n",
       "    </tr>\n",
       "    <tr>\n",
       "      <th>2</th>\n",
       "      <td>electrical</td>\n",
       "      <td>led bar red lb714sr</td>\n",
       "      <td>Max Forge</td>\n",
       "      <td>led bar red lb714srMax Forge</td>\n",
       "      <td>19</td>\n",
       "    </tr>\n",
       "    <tr>\n",
       "      <th>3</th>\n",
       "      <td>electrical</td>\n",
       "      <td>batteries eveready</td>\n",
       "      <td>N M AUTOMATION AND CONTROL PRIVATE LIMITED</td>\n",
       "      <td>batteries evereadyN M AUTOMATION AND CONTROL P...</td>\n",
       "      <td>19</td>\n",
       "    </tr>\n",
       "    <tr>\n",
       "      <th>4</th>\n",
       "      <td>electrical</td>\n",
       "      <td>battery cr2032 3v</td>\n",
       "      <td>SUPERB AUTO BATTERIES</td>\n",
       "      <td>battery cr2032 3vSUPERB AUTO BATTERIES</td>\n",
       "      <td>19</td>\n",
       "    </tr>\n",
       "  </tbody>\n",
       "</table>\n",
       "</div>"
      ],
      "text/plain": [
       "      product                       feature  \\\n",
       "0  electrical                cable tie inch   \n",
       "1  electrical  way bar graph red face greay   \n",
       "2  electrical           led bar red lb714sr   \n",
       "3  electrical            batteries eveready   \n",
       "4  electrical             battery cr2032 3v   \n",
       "\n",
       "                                     supplier  \\\n",
       "0                        GOLDLINK  TECHNOCAST   \n",
       "1                               ALPESH METALS   \n",
       "2                                   Max Forge   \n",
       "3  N M AUTOMATION AND CONTROL PRIVATE LIMITED   \n",
       "4                       SUPERB AUTO BATTERIES   \n",
       "\n",
       "                                      find_duplicate  product_id  \n",
       "0                 cable tie inchGOLDLINK  TECHNOCAST          19  \n",
       "1          way bar graph red face greayALPESH METALS          19  \n",
       "2                       led bar red lb714srMax Forge          19  \n",
       "3  batteries evereadyN M AUTOMATION AND CONTROL P...          19  \n",
       "4             battery cr2032 3vSUPERB AUTO BATTERIES          19  "
      ]
     },
     "execution_count": 189,
     "metadata": {},
     "output_type": "execute_result"
    }
   ],
   "source": [
    "## creating data search file of all items of same category :\n",
    "\n",
    "tranzact_data_search = tranzact_data.loc[tranzact_data['product'] \\\n",
    "                                                               == output_cat_list[0]]\n",
    "\n",
    "\n",
    "tranzact_data_search = tranzact_data_search.reset_index(drop=True)\n",
    "print(len(tranzact_data_search))\n",
    "tranzact_data_search.head()"
   ]
  },
  {
   "cell_type": "code",
   "execution_count": 190,
   "metadata": {},
   "outputs": [
    {
     "name": "stdout",
     "output_type": "stream",
     "text": [
      "(1257, 4956)\n",
      "(4956,)\n"
     ]
    }
   ],
   "source": [
    "\n",
    "from sklearn.feature_extraction.text import TfidfVectorizer\n",
    "\n",
    "my_vectorizer = TfidfVectorizer(sublinear_tf=True, min_df=1, norm='l2', ngram_range=(1, 2), use_idf = True)\n",
    "#digital_features = my_vectorizer.fit(tranzact_data_search['feature'])\n",
    "#my_vector = digital_features.transform(tranzact_data_search['feature']).toarray()\n",
    "\n",
    "\n",
    "## Creating test vector from Text features :\n",
    "\n",
    "merge_text_feature = []\n",
    "merge_text_feature_digit = []\n",
    "merge_digit_vector = []\n",
    "test_digit_vector = []\n",
    "\n",
    "merge_text_feature = tranzact_data_search['feature'].append(pd.Series(Input_Item_Name))\n",
    "\n",
    "merge_text_feature = merge_text_feature.reset_index(drop=True)\n",
    "\n",
    "merge_text_feature_digit = my_vectorizer.fit(merge_text_feature)\n",
    "\n",
    "# encode document\n",
    "merge_digit_vector = merge_text_feature_digit.transform(merge_text_feature).toarray()\n",
    "\n",
    "\n",
    "test_digit_vector = merge_digit_vector[len(merge_digit_vector)-1].reshape((merge_digit_vector.shape)[1],)\n",
    "\n",
    "merge_digit_vector_1 = merge_digit_vector[0:(len(merge_digit_vector)-1)]\n",
    "\n",
    "print(merge_digit_vector_1.shape)\n",
    "print(test_digit_vector.shape)\n",
    "\n"
   ]
  },
  {
   "cell_type": "code",
   "execution_count": 191,
   "metadata": {},
   "outputs": [
    {
     "name": "stdout",
     "output_type": "stream",
     "text": [
      "[1082  881  815  810  816  814  813  420  756  747  419  746  751  253\n",
      "  818  809  745  429  749  421  426  750  744  817  417  407  428  427\n",
      "  401  402  425  403  404  405  406  408  418  415  409  424  410  411\n",
      "  423  412  422  430  413  414  416 1256]\n"
     ]
    }
   ],
   "source": [
    "## Cosine Similarity :\n",
    "\n",
    "def cos_cdist(matrix, vector):\n",
    "    v = vector.reshape(1, -1)\n",
    "    return scipy.spatial.distance.cdist(matrix, v, 'cosine').reshape(-1)\n",
    "\n",
    "## Finding cosine similarity & picking 50 top similar lines :\n",
    "\n",
    "c_d = []\n",
    "\n",
    "c_d = np.round((1 - cos_cdist(merge_digit_vector_1, test_digit_vector)), 3)\n",
    "\n",
    "max_c_s_index = []\n",
    "max_c_s_index = np.argsort(c_d)[-50:][::-1]\n",
    "print(max_c_s_index)"
   ]
  },
  {
   "cell_type": "code",
   "execution_count": 192,
   "metadata": {},
   "outputs": [
    {
     "name": "stdout",
     "output_type": "stream",
     "text": [
      "CESARE BONETTI INDIA PVT. LTD.\n",
      "M/S. S. K. Enterprise\n",
      "V Ramp Automation\n",
      "AR BOTHRA INDUSTRIAL CORPORATION\n",
      "PANTH ENTERPRISES\n"
     ]
    },
    {
     "data": {
      "text/html": [
       "<div>\n",
       "<style scoped>\n",
       "    .dataframe tbody tr th:only-of-type {\n",
       "        vertical-align: middle;\n",
       "    }\n",
       "\n",
       "    .dataframe tbody tr th {\n",
       "        vertical-align: top;\n",
       "    }\n",
       "\n",
       "    .dataframe thead th {\n",
       "        text-align: right;\n",
       "    }\n",
       "</style>\n",
       "<table border=\"1\" class=\"dataframe\">\n",
       "  <thead>\n",
       "    <tr style=\"text-align: right;\">\n",
       "      <th></th>\n",
       "      <th>c_index</th>\n",
       "      <th>feature</th>\n",
       "      <th>supplier</th>\n",
       "    </tr>\n",
       "  </thead>\n",
       "  <tbody>\n",
       "    <tr>\n",
       "      <th>0</th>\n",
       "      <td>0.227</td>\n",
       "      <td>stator gv2</td>\n",
       "      <td>CESARE BONETTI INDIA PVT. LTD.</td>\n",
       "    </tr>\n",
       "    <tr>\n",
       "      <th>1</th>\n",
       "      <td>0.225</td>\n",
       "      <td>magnet gv2</td>\n",
       "      <td>M/S. S. K. Enterprise</td>\n",
       "    </tr>\n",
       "    <tr>\n",
       "      <th>2</th>\n",
       "      <td>0.219</td>\n",
       "      <td>insulator v2 v2</td>\n",
       "      <td>V Ramp Automation</td>\n",
       "    </tr>\n",
       "    <tr>\n",
       "      <th>3</th>\n",
       "      <td>0.203</td>\n",
       "      <td>downrod white gv2</td>\n",
       "      <td>AR BOTHRA INDUSTRIAL CORPORATION</td>\n",
       "    </tr>\n",
       "    <tr>\n",
       "      <th>4</th>\n",
       "      <td>0.194</td>\n",
       "      <td>canopy black gv2</td>\n",
       "      <td>PANTH ENTERPRISES</td>\n",
       "    </tr>\n",
       "    <tr>\n",
       "      <th>5</th>\n",
       "      <td>0.194</td>\n",
       "      <td>downrod ivory gv2</td>\n",
       "      <td>Tulip Casting Pvt. Ltd.</td>\n",
       "    </tr>\n",
       "    <tr>\n",
       "      <th>6</th>\n",
       "      <td>0.174</td>\n",
       "      <td>oc connector gv2</td>\n",
       "      <td>SPECTRA CONNECTRONICS LLP</td>\n",
       "    </tr>\n",
       "    <tr>\n",
       "      <th>7</th>\n",
       "      <td>0.167</td>\n",
       "      <td>c840 round insulator dmc</td>\n",
       "      <td>Vashi Electricals Pvt. Ltd</td>\n",
       "    </tr>\n",
       "    <tr>\n",
       "      <th>8</th>\n",
       "      <td>0.161</td>\n",
       "      <td>blade matte brown gv2</td>\n",
       "      <td>SHREYAS STEEL CORPORATION</td>\n",
       "    </tr>\n",
       "    <tr>\n",
       "      <th>9</th>\n",
       "      <td>0.161</td>\n",
       "      <td>downrod pearl white gv2</td>\n",
       "      <td>RADIO SERVICE ASSOCIATION</td>\n",
       "    </tr>\n",
       "  </tbody>\n",
       "</table>\n",
       "</div>"
      ],
      "text/plain": [
       "   c_index                   feature                          supplier\n",
       "0    0.227                stator gv2    CESARE BONETTI INDIA PVT. LTD.\n",
       "1    0.225                magnet gv2             M/S. S. K. Enterprise\n",
       "2    0.219           insulator v2 v2                 V Ramp Automation\n",
       "3    0.203         downrod white gv2  AR BOTHRA INDUSTRIAL CORPORATION\n",
       "4    0.194          canopy black gv2                 PANTH ENTERPRISES\n",
       "5    0.194         downrod ivory gv2           Tulip Casting Pvt. Ltd.\n",
       "6    0.174          oc connector gv2         SPECTRA CONNECTRONICS LLP\n",
       "7    0.167  c840 round insulator dmc        Vashi Electricals Pvt. Ltd\n",
       "8    0.161     blade matte brown gv2         SHREYAS STEEL CORPORATION\n",
       "9    0.161   downrod pearl white gv2         RADIO SERVICE ASSOCIATION"
      ]
     },
     "execution_count": 192,
     "metadata": {},
     "output_type": "execute_result"
    }
   ],
   "source": [
    "result = []\n",
    "result_frame = []\n",
    "max_c_s_index = []\n",
    "max_c_s_index = np.argsort(c_d)[-50:][::-1]\n",
    "\n",
    "for i in max_c_s_index:\n",
    "    \n",
    "    result.append(np.array([c_d[i], tranzact_data_search['feature'][i], tranzact_data_search['supplier'][i]]))\n",
    "\n",
    "result_frame = pd.DataFrame(result, columns=['c_index', 'feature', 'supplier'])\n",
    "\n",
    "result_frame.c_index = result_frame.c_index.astype('float64')\n",
    "\n",
    "result_frame.drop_duplicates(subset='supplier', keep = 'first', inplace = True)\n",
    "result_frame = result_frame.reset_index(drop=True)\n",
    "\n",
    "kount = 0\n",
    "\n",
    "for i in range(len(result_frame['supplier'])):\n",
    "    if result_frame['c_index'][i] >= 0.10:\n",
    "        print(result_frame['supplier'][i])\n",
    "        kount = kount+1\n",
    "        if kount == 5 :\n",
    "            break\n",
    "result_frame.head(10)"
   ]
  },
  {
   "cell_type": "code",
   "execution_count": 193,
   "metadata": {},
   "outputs": [],
   "source": [
    "merge_text_feature = []\n",
    "merge_digit_vector = []\n",
    "test_digit_vector = []\n",
    "\n",
    "merge_text_feature = tranzact_data_search['feature'].append(pd.Series(Input_Item_Name))\n",
    "\n",
    "merge_text_feature = merge_text_feature.reset_index(drop=True)\n",
    "\n",
    "max_length_merge = max([len(s.split()) for s in merge_text_feature])"
   ]
  },
  {
   "cell_type": "code",
   "execution_count": 194,
   "metadata": {},
   "outputs": [
    {
     "name": "stdout",
     "output_type": "stream",
     "text": [
      "30\n"
     ]
    },
    {
     "data": {
      "text/plain": [
       "0                  cable tie inch\n",
       "1    way bar graph red face greay\n",
       "2             led bar red lb714sr\n",
       "3              batteries eveready\n",
       "4               battery cr2032 3v\n",
       "dtype: object"
      ]
     },
     "execution_count": 194,
     "metadata": {},
     "output_type": "execute_result"
    }
   ],
   "source": [
    "print(max_length_merge)\n",
    "merge_text_feature.head()"
   ]
  },
  {
   "cell_type": "code",
   "execution_count": 195,
   "metadata": {},
   "outputs": [
    {
     "name": "stderr",
     "output_type": "stream",
     "text": [
      "100%|██████████| 1258/1258 [00:00<00:00, 52876.44it/s]\n"
     ]
    }
   ],
   "source": [
    "from gensim.models import Word2Vec\n",
    "\n",
    "from tqdm import tqdm\n",
    "\n",
    "merge_text_feature = []\n",
    "merge_digit_vector = []\n",
    "test_digit_vector = []\n",
    "\n",
    "merge_text_feature = tranzact_data_search['feature'].append(pd.Series(Input_Item_Name))\n",
    "\n",
    "merge_text_feature = merge_text_feature.reset_index(drop=True)\n",
    "\n",
    "temp_corpus = merge_text_feature.map(lambda x: x.split('.'))\n",
    "\n",
    "corpus = []\n",
    "for i in tqdm(range(len(temp_corpus))):\n",
    "    for line in temp_corpus[i]:\n",
    "        words = [x for x in line.split()]\n",
    "        corpus.append(words)"
   ]
  },
  {
   "cell_type": "code",
   "execution_count": 91,
   "metadata": {},
   "outputs": [
    {
     "name": "stdout",
     "output_type": "stream",
     "text": [
      "3\n"
     ]
    }
   ],
   "source": [
    "print(len(corpus[0]))"
   ]
  },
  {
   "cell_type": "code",
   "execution_count": 196,
   "metadata": {},
   "outputs": [
    {
     "name": "stdout",
     "output_type": "stream",
     "text": [
      "1711\n",
      "Word2Vec(vocab=1711, size=100, alpha=0.025)\n"
     ]
    }
   ],
   "source": [
    "## items to word2vec :\n",
    "\n",
    "emb_dim = 100\n",
    "\n",
    "model_1 = Word2Vec(corpus, size = emb_dim, window=2, \\\n",
    "               min_count=1, negative = 15, iter = 15, workers = 10, sg=1)\n",
    "\n",
    "vocab_size = len(model_1.wv.vocab)\n",
    "\n",
    "print(vocab_size)\n",
    "\n",
    "print(model_1)"
   ]
  },
  {
   "cell_type": "code",
   "execution_count": 197,
   "metadata": {},
   "outputs": [
    {
     "name": "stdout",
     "output_type": "stream",
     "text": [
      "{'sod523': 1047, 'graph': 673, 'fanuc': 682, 'mmx4core': 1209, 'tpwcapacitor': 849, 'coolig': 1194, 'marker': 291, 'id6mm': 602, 'bus': 1684, 'b48': 1244, 'p1212': 633, '45w': 1606, '2h': 1259, 'running': 499, 'adapter': 638, 'mic': 956, 'ul': 1580, '5mtr': 635, 'miscellaneous': 1498, 'bss138': 1331, '14s': 896, '12pf': 495, 'battery': 106, 'qevmetalwork': 41, 'systems': 594, '57a': 385, 'double': 723, 'florex': 1077, '1uf': 77, 'schneider': 195, 'al': 1242, '10ma': 743, 'shavison': 1436, 'id8mm': 603, 'cuttoff': 648, '600vac': 1338, 'mfs201': 1414, 'wago': 889, 'vj1206y102jxaac': 786, 'class': 360, 'current': 200, 'tantalum': 361, '1p': 1308, 'leaded': 93, 'electronic': 713, 'c840': 1263, '1kv': 182, 'sugar': 1150, 'three': 436, '25lg': 1393, 'sw': 519, '500w': 1442, 'core': 10, 'tracer': 350, 'cordtpw': 1346, 'zerocrossover5mmal': 1341, '2e': 585, 'copper': 22, 'epcos': 305, 'p2as2e3p': 1528, '10a': 227, 'to247ac': 1328, 'rv6': 1273, 'efd15h': 1106, 'sb': 1051, 'main': 378, 'do214ac2': 542, '120vac': 1537, 'bimetal': 573, '3cx': 1095, 'to247': 1257, '8k2': 1372, 'accessories': 448, 'ai7581': 941, 'rubber': 1431, 'accessories27': 1510, '3ua52': 1157, '8c': 1002, 'mfr25fbf52680r': 1384, 'sot236l': 1022, 'toggle': 446, 'evaluation': 1407, 'flexible': 26, 'tpwdiode': 392, 'ipak': 1668, '15kva': 1521, 'c1': 1489, 'mx': 1605, '25amp': 1113, 'close': 583, '21w': 458, 'gt100401': 1660, 'anupam': 1564, '25a': 412, 'pintype': 606, '80v': 1035, '4a': 577, 'rs': 1099, '220pf': 859, 'accessary': 1569, 'tickness': 880, 'stand': 141, 'k150f10a': 721, 'b32682a6473j': 821, '68ma': 752, 'roval': 1391, '630volts': 831, 'axial': 129, 'modelup': 1485, 'ppi17840': 1056, 'photo': 632, 'shell': 216, 'temprature': 1421, 'cv100': 726, 'pv11': 1229, 'accessoriess7': 1557, '63v': 149, '100k': 440, 'start': 1566, '1sq': 242, '100v': 351, 'rectifier': 533, 'ungrounded': 1625, '15a': 369, 'ip65': 371, 'link': 426, 'door': 274, 'mount': 1020, 'conduit': 428, 'transient': 543, 'temperature': 268, 'proxy': 1495, 'touch': 1401, 'suction': 171, 'explosion': 1585, 'ip20': 1144, '6k2': 629, '1ksmb82a': 1015, 'normally': 1508, 'rtex': 372, '40x1': 886, 'coil': 133, '450v900v': 1646, 'scanlog': 551, 'switchhoneywell': 39, 'acc2100001': 1555, 'taiyo': 365, '12vfanhar': 1132, 'bas16': 976, 'tze': 1602, 'mw': 966, '470e': 1370, 'board': 217, 'process': 1128, 'c0g': 212, '2050lg': 1430, 'cube': 1151, 'nut': 1203, 'yageo': 209, '450vdc': 865, 'matt': 395, '4700pf': 759, 'do214aa': 390, 'controlled': 1469, 'tpwmisc': 1513, 'fr107': 977, 'armstrong': 1235, 'tools': 1403, 'raval': 1390, 'suraj': 1482, 'id10mm': 1286, '3ua50': 1136, 'tape': 48, 'captpw': 944, 'smd1210': 479, 'acc1100051': 659, 'rs1m': 987, '4co': 579, '3smbj5927btp': 1030, 'plant': 1318, 'pair': 559, '125vdc': 1563, 'spiral': 413, 'cord': 524, 'minda': 1567, 'inch': 239, 'tantulumsmd': 783, 'plating': 1222, 'speed': 420, 'esu107m450an9aa': 790, 'resetable': 1215, 'adhesive': 237, 'nonshielded': 399, 'bakers': 1197, 'earth': 325, 'ppi07310': 1076, 'resin': 1353, 'mfg': 44, '50x4': 1101, 'rwhsh105d': 1125, 'stright': 1179, 'downrod': 61, 'tie': 81, 'cu': 1290, 'makesoldron': 1467, 'lb714sr': 676, '30a': 640, 'irfp2907zpbf': 610, '3tf3': 909, '2nf': 297, '5kva': 1665, 'packagethrough': 836, '22a': 520, 'label': 1593, 'allegro': 1426, 'xy': 582, 'electrode': 1177, 'bottom': 423, 'stabilizer': 1522, '7k': 438, '5x2': 905, 'small': 1678, 'mould': 1262, 'relay': 21, '3m': 665, 'fcvsimag': 40, 'pg': 323, 'voltage': 103, 'puf': 1063, 'electrical': 6, '180ma': 746, 'pmeg4005ct': 1013, 'vj1206a101kxacw1bc': 784, 'eeufr1h101': 787, '22m': 823, '15e': 1374, 'd450': 1192, '125vac': 203, '6sqmm': 163, 'read': 1169, 'poe': 1484, 'support': 204, 'sp': 607, 'ivory': 113, 'kabel': 97, 'no': 7, '7a': 442, 'connectwell': 95, '432vdc': 406, 'pto': 445, 'rotork': 464, 'acc1100033': 1534, 'xcap': 488, 'micro': 1520, 'commercial': 1037, '20a': 321, '0800vdc': 1685, 'vj1206a102jxacw1bc': 482, 'through': 30, 'remi': 219, '20x2': 947, 'dl': 1640, 'cc0603jrnpo8bn180': 844, '2uf': 800, 'buzzer': 131, 'switchtpw': 381, 'co': 329, 'cartridge': 1217, 'tvs': 153, 'panasonic': 492, 'f339x121048mda2b0': 789, 'as51': 1233, 'rsfrh': 1160, '2w': 322, 'dia': 180, '3tf35': 916, '10nf': 802, '3pole': 609, 'pg7': 1228, 'cc0805kkx5r8bb106': 804, '52uhgt107801': 1108, 'industrial': 462, 'acq80044kw04': 1681, 'sz7524p': 936, 'rail': 138, 'dc': 78, 'platsic': 869, 'welding': 561, 'ptb35': 1612, '1117c': 1699, 'mcb': 37, 'uwt1h100mcl1gb': 856, 'circuit': 144, 'tolerance': 1670, '2s': 897, 'at15': 1523, 'cv': 731, 'mouldpower': 1254, 'dxpl2cgnmb': 1545, 'yellowgreen': 1171, 'vf': 539, 'ties': 728, 'compliant': 761, 'v2': 43, 'luggs': 1301, 'station': 617, '4h': 1258, 'sheathed': 245, 'communication': 1093, 'mini': 710, 'range': 1131, 'sponge': 1457, 'chamber': 459, 'chiller': 934, '470nf': 739, 'sovasco': 57, 'sub': 929, 'logic': 1329, '5v': 316, 'k60f10a': 722, 'sim': 867, 'multistage': 552, 'tig': 1207, 'sensorga221089057470': 1422, '1500uf': 777, 'vrrm': 983, 'thicknes': 1221, '15v': 962, 'stud': 970, 'volts': 368, '75x3': 1080, 'pole': 56, 'dlink': 560, 'electric': 402, '5e': 874, 'act': 465, 'danfoss': 135, '1a': 165, '47uf': 251, 'sjm19x1': 1068, 'aux': 1347, 'bcm': 1272, 'phoenix': 907, 'matte': 275, 'spst': 1481, 'stopper': 952, 'teeth': 599, 'accs4': 652, 'frls': 154, 'wires2': 738, 'red': 23, 'ohm': 1387, 'automotive': 424, 'fpc': 899, 'injection': 342, 'case': 484, 'schottky': 273, 'camera': 401, 'blue': 69, 'ups': 1444, 'ee28': 1651, 'murphy': 695, 'her107': 953, 'led': 65, 'relimate': 370, 'aluminum': 257, 'meanwell': 202, 'din': 117, 'socket': 443, 'maxi': 1211, 'gland': 85, 'protective': 1163, 'part': 4, 'mica': 1255, '4e500': 1186, 'solder': 119, '8no': 1392, 'littlefuse': 760, 'male': 72, '4x6': 1277, 'back': 1249, '100x': 732, 'stth212s': 540, '450v': 175, '14s2p': 894, 'thermocouple': 453, '16swg': 736, 'female': 110, 'ribbon': 1092, 'heat': 80, 'nxp': 979, 'see': 333, 'button': 130, '25sq': 1096, 'noc1206c101j5gactu': 768, '0022uf': 830, 'head': 1630, 'viva': 883, '63amp': 1323, 'nameplatess': 1547, 'width': 1466, '20k': 1366, 'unshielded': 1084, 'accuracy': 1637, 'mfrlittlefuse': 1212, '12a': 1156, 'each': 1265, 'smt': 150, '7uf': 214, 'lead': 1452, 'water': 294, 'steel': 660, 'plug': 225, 'mfrbel': 1218, '620e': 1354, 'busbar': 90, 'cr2032': 679, 'dual': 383, 'v3': 1067, '34uh': 1661, 'selector': 287, '105c': 181, 'electricals': 1322, '900mtk': 1460, 'neuro102exdisplay': 1055, 'bar': 455, 'cl10b104kb8nnnc': 858, '18v': 991, '16g': 734, 'th': 47, 'sz7510p': 935, 'ac51': 1115, 'je105d': 1122, '3d1884': 1279, 'lelon': 863, '4d': 337, 'pt': 636, 'flat': 1086, 'nes1512': 1439, 'sn': 1610, 'pnp': 1496, '6x3': 1278, 'starting': 851, '630v': 213, 'rod': 1072, 'neltron': 1087, 'stop': 1503, '80vdc': 1577, '5sq': 102, 'material': 184, 'thermo': 1597, 'b20l': 709, 'cc1206zky5v7bb226': 806, 'hf33f': 1120, 'rectifierhs1551658mm': 1230, 'nos': 730, 'tk2q60d': 1667, 'top6amp': 1334, 'accessories1600009': 1554, 'go': 1536, '061f9058': 1502, 'tl431bto92': 1669, 'v15s05cz100a0501': 1530, 'ip55': 1268, 'clips': 1162, 'data': 1397, 'v1000': 222, 'dclb21630409b13lgb': 1480, 'zda': 328, 'hpcl': 926, 'packagesod1232': 973, 'dropout': 670, 'inj': 1261, 'ir100': 1455, 'monitoring': 1142, '40a': 343, 'nocc0805krx7rbbb331': 841, 'accessory': 680, 'a00005455': 1594, 'solid': 1145, 'pedal': 1540, 'yy': 507, 'wire': 2, 'ct100': 949, 'midnight': 558, 'gi': 338, '1piece': 1320, 'ld05yc475kab2a': 850, '560k': 1356, '30mmx40mm': 1456, '6x6': 1552, 'murata': 493, '110vdc': 105, 'compound': 595, 'hall': 1423, 'watercleared': 990, 'infineon': 611, 'gv3': 70, '0e': 439, 'lm1117s3': 1700, 'metres': 1623, 'dp': 1307, 'electromechanics': 857, '10v': 367, 'hose': 596, 'carbon': 502, 'accessoriess11': 1561, 'uf': 299, 'phase': 116, 'ac': 75, '89x86x17': 1250, 'onon': 1474, 'all': 613, '50x50x14': 1240, 'connector': 25, '650m': 1600, 'acs35503e09a82': 1680, 'entry': 374, 'multilayer': 179, 'strip': 510, 'tech': 1065, 'sq': 13, '22e': 1377, 'trey': 327, '24v': 100, '061f9243': 1500, '56ma': 745, 'tc5080': 1241, 'tubingss316': 114, 'texas': 1409, '32a': 608, 'cstsn4u': 1613, 'switchsx1f20010u77a3': 1574, '48x48': 715, 'dip': 92, 'size': 170, 'sony': 687, 'mcb5sl3p5sl43327rc': 1325, 'surface': 1019, 'butt': 295, '7nf': 793, 'tempreature': 220, '630vdc': 775, 'jti': 1066, 'pol': 1314, 'vfd015e21a': 1693, '3rf2': 1133, 'out1': 1143, '470k': 280, 'sml4749ae3': 1045, 'non': 218, 'trim': 1199, '85c': 475, 'accs2': 1549, '4pole': 434, 'gte6': 1416, 'rtc': 681, 'smd1206': 254, 'isl32432eibzt': 1326, '16a': 169, 'sz7568p': 938, 'stmicroelectronics': 992, 'p6ke200a': 1006, '415v': 279, '1set': 1473, 'transparent': 615, 'max': 1576, 'lcd': 430, 'mur': 1025, 'pp': 304, '47nf': 820, 'papst': 587, 'crane': 1351, 'atex': 717, 'mish224l': 1138, 'p6ke24ca': 1004, 'white': 29, 'two': 576, 'superheat': 1413, 'modelisi': 1266, 'ins': 354, 'cupper': 1304, '8pf': 813, '33k': 1367, 'evolution': 1058, 'cover': 470, 'samwha': 210, 'cam': 1558, '90250v': 1147, 'mouldcanopy': 1201, 'lugs': 55, 'kit': 1420, 'sense': 1363, 'gn': 903, 'xy129': 900, 'sh': 772, 'ee65': 1650, '75sqmm': 1090, 'nema': 1587, 'pitch': 28, 'serial': 1396, 'light': 185, 'well': 405, '4e': 229, '100240vac': 1447, '250vdcc': 1543, 'berg': 509, '30v': 1016, 'regulator': 259, 'nocc0805zky5v9bb105': 843, 'shilded': 1085, 'normal': 1494, '1pole': 1319, '100x2': 725, 'cap': 94, 'x1': 741, 'field': 1204, '3102r': 895, 'without': 1202, 'transperant': 1256, '10mh': 873, '1000v': 527, 'mounting': 427, 'platform': 614, '8pole': 1119, 'avx': 302, 'holderspbf2m': 1220, '2lhlr': 616, 'ai343': 1512, 'indoor': 230, 'resitor': 1364, 'tin': 592, 'tpwconnectors': 511, '3tf31': 377, 'aosong': 1400, 'conveyor': 923, 'bit': 348, '10e': 917, '25volts': 762, '310v': 773, '001h': 1137, 'indication': 352, 'if': 538, 'package805': 307, 'fdc2214': 1404, 'bare': 1636, 'silicon': 959, 'a9n61519': 1324, '3ua52001k8': 1118, 'e5': 1299, 'mfr25fbf522kr': 1383, 'jht': 901, '250vac': 298, 'fail': 1188, 'sicop': 1117, '1way': 702, 'multilayerth': 845, 'tectile': 1551, '350ma': 748, 'with': 71, 'guard': 1704, 'code': 66, 'accessoriesr14': 1548, '061f9053': 1524, 'make3d': 172, 'front': 1251, 'backlight': 601, 'reel': 1609, '230vac': 199, 'rev': 1560, 'ss34e3': 960, 'wind': 1412, 'fans': 588, 'rectifiers': 320, 'taiwan': 1000, '50v': 19, 'panel': 86, '470pf': 255, 'mfryageo': 498, 'joint': 1300, 'enclosure7': 1586, 'rc0805jr07120rl': 1380, 'real': 1164, 'nosbr20a200ct': 1033, '18amp': 918, 'visual': 1578, 'accessoriesr12': 1553, '70sq': 1305, 'flex': 562, 'keltron': 300, 'parking': 1433, 'vfd': 454, '9mtr': 1596, 'bzv55c33': 1028, 'y3fsh105d': 1126, 'ee20130uh': 1306, 'mountable': 515, 'od12mm': 480, '2pole': 1309, 'pearl': 191, 'tajc107k010tnj': 809, 'cc0603krx7r9bb104': 797, 'accs1': 654, '10x10': 853, '72yd': 1603, 'varister': 1360, 'final': 597, 'brass': 720, 'avs': 879, '4w': 1388, 'y1': 742, 'effect': 1424, 'je112d': 1123, 'epoxy': 1352, 'opal': 1198, 'diameter': 1161, 'incorporated': 318, 'packagesmd1206': 767, 'no0287040': 1226, '5x9mm': 1658, '24a': 315, 'multi': 197, '500v': 497, 'p432vdc': 1336, 'delta': 1691, 'schinder': 267, '22nf': 758, 'ahu': 924, '6v': 683, 'emc': 1696, 'female12': 890, '3d464': 1285, 'blockth3': 1617, 'self': 236, 'folk': 1303, 'an': 1105, 'uim': 553, 'e6': 1298, 'etp': 1618, '022uf': 827, 'id12mm': 1288, 'base': 174, '10pf': 485, 'greay': 675, '6pin': 868, 'block': 265, 'zero': 930, 'pull': 945, 'ppi11513': 928, 'soldering': 232, 'liquid': 1459, 'tdk': 306, '50volts': 151, 'long': 513, '400v': 476, 'port': 644, 'bath': 1454, 'pg13': 463, '98e': 876, 'deg': 927, 'fanhar': 575, 'sod1232': 998, 'mlcc': 33, 'trimbronze': 1200, 'wiring': 1706, 'tubingss316l': 120, '200mw': 548, 'starsea': 989, 'ip67': 634, '10sq': 223, 'height': 123, 'roof': 1316, 'posina': 1267, 'fork': 605, '10pin': 1656, 'sleeve': 128, 'p6ke100a': 1005, 'tlbl00cpuayf002p0': 1074, 'colorblack': 706, '9at': 961, 'umk316ab7475mlt': 826, '1core': 1168, 'hdp1206': 708, '12x2': 948, '416ma': 407, 'note': 1274, 'composit': 882, 'cts': 567, '5mt': 1419, 'conductive': 584, 'nosmaz2013f': 972, 'spdt': 410, 'motor': 1332, 'contactor': 136, 'iron': 233, 'lock': 324, '900mt4cideal': 1461, 'model': 269, '250v': 250, 'feed': 189, 'radial': 211, 'peko': 1166, 'switch': 12, 'ing': 1317, 'lamp': 714, '25x45mm': 1708, 'ecotron': 393, 'amp': 35, 'lr49': 1238, 'jainson': 1302, 'colorred': 460, '35v': 161, 'packagesmb': 1031, 'curve': 433, 'irf540n': 1675, 'w2e200hk3801': 1195, 'mf': 1174, 'yuden': 366, 'y3fsh112d': 1127, '20v': 532, 'bc508x18': 902, 'oc': 885, 'angle': 888, '25w': 201, 'slive': 1170, 'vhb': 666, 'graphic': 1061, 'elmeco': 1527, 'contact': 264, 'ruttonsha': 530, 'pid': 932, 'do214ab': 528, 'smd': 8, 'tp': 1486, 'desolder': 526, 'constr': 1135, 'slider': 911, 'lre10': 1129, 'itherm': 940, 'ss316': 466, 'carel': 523, 'straight': 196, '36amp': 1246, 'state': 1146, '5sqmm': 87, '27k': 1376, '2kv': 358, 'peak': 1648, 'parker': 643, 'analyzer': 1443, 'suppression': 544, 'accessoriess28': 1531, 'ppi14644': 1054, 'english': 1059, 'mcc': 1038, 'transistor': 238, 'mmx': 1236, 'atof': 1223, 'hole': 36, '1inch': 1247, 'c0805c222k5ractu': 781, 'hcc': 1175, 'filter': 1697, 'diodes': 79, 'cream': 1703, 'bsp': 1632, 'is': 248, 'foot': 1539, 'sleev': 1165, 'throughbeam': 1415, 'autowire': 335, 'point': 1343, '1000pf': 148, '1000uf': 208, 'steelgrip': 290, '22uf': 176, '2ab1p7': 1154, 'hu2w471mcas6wpec': 866, '10k': 437, '18pf': 496, 'drum': 877, 'hicool': 341, 'isolation': 1666, 'elcom': 1491, 'chk': 309, '100x50': 733, '2000pf': 838, 'heatsink': 281, '12v1': 1041, 'rv2': 554, '3tf33': 376, 'cc1206kkx7r9bb475': 798, 'row': 525, 'sod323': 1024, 'tube': 293, 'fast': 993, 'rxm': 1153, 'temp': 331, 'acdc': 1097, 'eco': 1604, 'triac': 1116, 'kg2': 689, 'cylindrical': 862, '3d': 431, '16amp': 641, 'types': 1333, 'b32620a4223j289': 829, 'and': 249, 'oxidized': 1635, '65w': 1468, 'of': 243, 'die': 951, 'bag': 729, 'box': 137, 'common': 1009, 'parts': 925, 'exide': 686, 'nes155': 1438, '5w': 537, 'nosk88ltp': 1039, 'acs7125a': 1418, '25v': 58, 'push': 115, 'low': 253, 'electronics': 109, 'square': 1345, 'ininsulated': 705, 'kemet': 256, '315ma': 751, 'flp': 313, 'e8': 1297, 'new': 379, 'ce': 658, '1ohm': 1357, 'w152cstdc24v8a': 1159, 'crimps': 296, 'mmsz5222bt1g': 954, 'mfrvishay': 765, 'samsung': 481, 'ssr1': 1245, 'p6ke6': 1001, '8a': 391, 'mfr25fbf52330r': 1385, 'down': 1350, 'mtrs': 1601, 'slide': 1492, 'x57': 1237, 'number': 571, 'compression': 724, '600v': 332, 'honeywell': 646, 'tubingss316drawing': 1559, 'sensors': 1406, '250watt': 1098, '10uf': 91, 'ssb': 1629, 'series': 1692, 'emergency': 650, 'golden': 396, 'shrink': 276, 'packagesma2': 971, '4pin': 512, 'nchannel': 612, '8v': 984, '470uf': 356, '500mw': 317, 'b32620a6222j': 832, '60hz': 1448, '330uf': 252, '14v': 1434, 'micrologix': 1342, 'ee25': 1643, 'or': 1178, 'solenoid': 261, '3ph': 570, '33uf': 355, '75sq': 1082, 'adlift': 919, 'eeufm1h331l': 788, '2200pf': 740, 'ee13': 1655, 'x7r': 68, 'combination': 1526, 'mouldinsulator': 598, '1ksmb110a': 1014, 'gtb10': 1505, '830me': 755, '72w': 1107, 'converter': 565, '5hp': 1690, 't2n7002aktoshiba': 1672, 'current10a': 1683, 'pipe': 1631, 'stps20h100cfp': 980, '220k': 1378, 'end': 386, 'htc': 672, 'sot223': 671, 'machined': 1069, 'frc': 518, 'cc0603zry5v9bb104': 805, 'miniature': 143, 'pf': 824, 'xssraa4825': 1148, 'noc0805c102k5ractu': 840, 'cable': 1, '4core4sqmm': 1208, 'ips': 1499, '18a': 747, 'verti': 1657, 'humidity': 380, '220vdc': 655, 'je124d': 1124, 'seal': 1627, '2v': 1046, '33e': 626, '75x2': 1081, 'aluminium': 107, 'acs35503e12a54': 1679, '232rs': 1100, 'mfrdiodes': 535, 'junction': 600, 'breaker': 145, '45x25': 737, 'marked': 1570, 'accessories1100004': 1542, '3d4610': 1287, 'fittingss304': 451, 'mkp': 771, '47k': 621, '70v': 1012, 'mfrmicro': 1036, 'stator': 314, '6a': 167, 'armacell': 1595, 'wcs1700': 1394, 'connector4pin': 884, 'output': 193, 'ss': 421, '4700nf': 477, 'charger': 456, 'input': 286, 'vr': 1011, 'jt': 1062, 'hs15': 1232, 'proof': 452, 'teflon': 1628, 'flexi': 1598, 'neuro102rv2': 921, 'to220': 1676, 'mfr25fbf524k7r4k7': 1382, 'favelle': 340, 'winding': 270, '125v': 653, 'thermal': 1619, '1v': 534, 'ppi17884': 920, 'awg': 1608, 'cdil': 1674, 'distilled': 693, 'gold': 685, 'sovrotex': 235, '3d1342': 1280, 'v1': 522, 'black': 18, 'float': 631, 'cc0603drnpo9bn8r0': 814, 'dpdt': 411, 'tubing': 416, 'soldo': 1573, 'bat54gwj': 1018, '6uf': 860, 'corner': 1620, 'accessoriess6': 1515, 'entries': 657, '4d400': 1187, 'green': 74, 'channel': 231, 'nommsz5222bt1g': 974, 'no593d105x9025a2te3': 766, '2m2': 1386, 'lug': 52, 'rs2524': 639, '330pf': 494, 'orange': 581, 'chemicon': 834, '6pcs': 1472, 'cobra': 1205, 'paste': 1234, '130ma': 749, 'finger': 241, 'coach': 1185, 'c1812c105k5ractm': 791, '4x': 1588, 'pt100': 1411, 'ms': 262, 'ct': 310, 'grip': 661, 'volt': 1042, '1160a': 1568, '1m': 516, 'accs26': 1541, '10volts': 500, 'molex': 263, 'revised': 1275, 'calble': 1633, 'mean': 1446, '22mh': 875, 'hp': 186, 'ssr': 226, 'rr': 96, '225800vdc': 1687, 'frcb': 1078, 'termination': 467, 'c1206c180j5gactu': 819, '200e': 630, 'tray': 207, 'display': 139, '200v': 1032, 'pjezc1e0g0': 933, '100uf': 177, 'brown': 84, '3d4612': 1289, 'w2e250hl0601': 1196, 'enclosureflame': 1546, 'taie': 931, 'controller': 88, 'et': 1634, 'led12watt': 700, 'c0805c224k5ractu': 817, 'pxcn': 1227, 'infrared': 697, 'network': 645, 'stick': 1464, 'ntc': 625, 'housing2': 1252, 'mmsz4684t1g': 965, 'b32922': 770, '460vac': 1664, 'e4': 1296, '3uf': 486, 'l85': 701, 'development': 1402, '3ug46161cr20': 1141, 'unit': 198, 'afrshavo': 38, 'b32620a6472j': 794, 'tvr20621ksu00y': 1371, 'insulated': 205, '3106f14s2p': 514, 'lowcurrent': 1224, 'nominal': 1647, 'recovery': 994, '2co': 578, '100pf': 303, 'tubingss304': 449, 'face': 674, 'tf25w': 664, '3102r14s2s': 898, 'ntcc015p00': 1429, 'kss': 727, 'mmbt2n3906sot23': 1671, 'unison': 1114, 'profile': 1621, 'misc': 468, 'accs19': 1562, 'open': 651, 'mm3z5v1st1g': 545, 'fuel': 1432, 'st': 319, 'class1': 1583, 'auto': 192, 'tactile': 1514, 'teknic': 283, 'shielded': 127, '16fm120': 531, 'accs3': 1517, 'bala': 1060, '680e': 627, 'rder73a104k5b1h03b': 792, '0e1': 1389, 'pg19': 716, '220uf': 357, 'waterproof': 1348, '0w': 1043, '3th3': 910, 'ckt': 1445, 'uwt1h221mnl1gs': 854, '70ma': 744, 'break': 312, '50x50x1': 735, 'cc1210kkx7rdbb102': 807, '5mc001s': 1075, 'sz7520t': 943, 'cc0603jrnpo9bn100': 816, 'air': 266, '100nf': 472, 'topworks': 1544, '18g': 404, 'clad': 1451, 'colour': 353, 'mtr': 349, 'pltd': 719, 'electrolytic': 67, 'flux': 1458, 'enclosure': 394, 'blade': 45, 'flow': 647, 'fan': 20, '40x25': 1622, '28v': 1649, 'diode': 17, 'transformer': 157, '1n4007': 1050, 'novzs101m1etr0606': 864, 'lp': 425, 'prox': 1506, 'nylon': 580, 'accessoriesr6': 656, 'cc0603krx5r6bb475': 799, '3a': 162, 'vdcb27a': 712, '230v': 121, 'mur260': 1053, '3v5v': 1395, 'ball': 1441, 'wurth': 183, 'window': 1183, '120e': 1381, 'ec500h': 1071, '5a': 134, 'tni': 1437, 'limit': 146, 'control': 164, 'pla': 409, 'length': 244, 'accs9': 1516, '22pf': 301, 'cesare': 1591, 'elektronik': 969, 'tol': 50, 'per': 247, 'color': 104, 'cad': 718, '220v': 228, 'smb': 546, 'for': 54, '1e': 1362, 'hs1m': 541, 'bmi': 1435, 'p6ke20ca': 1003, 'ideal': 444, 'soic': 1327, '400a': 1083, '25inch': 1248, 'indicator': 574, 'od': 178, 'ms3102r14s2p': 892, 'cc0603krx7r8bb101': 815, '35vdc': 1026, 'twisted': 1172, '35w': 642, '543d': 1284, 'cat': 1073, 'termical': 1616, 'cog': 785, 'pno': 1511, 'atomfan4': 1645, 'operated': 240, '3pin': 375, '6amp4pole': 1315, 'accs31': 1556, 'ctsep1': 1102, 'holder': 260, '275v': 769, 'nc': 1504, '2k': 284, '15k': 623, 'bzx79c16': 978, 'magnetic': 346, 'sink': 142, 'anatal': 593, '65mh': 1654, 'woer': 414, 'ltr': 694, 'insulator': 156, 'ppi13600': 1271, '510k': 1369, 'ee2005': 1662, 'package': 11, 'submersible': 1079, 'koelengine': 1565, 'polyamide': 1611, '12w': 1470, 'as': 246, 'lmit': 49, 'irm3638': 985, 'housing': 221, 'card': 871, '200ma': 1017, 'room': 1189, 'enhancement': 1330, 'euro': 904, '316l': 637, '440v': 861, '012hsl3': 1121, 'pink': 403, 'tpwresistor': 285, 'ph032206002r': 1589, 'skin': 339, '3u52001g': 1152, 'mfron': 536, '2pin': 311, 'cc0603krx5r7bb225': 801, '3uh': 504, 'lcc': 822, '33pf': 491, 'supply': 345, 'subzero': 187, 'to': 108, '400volts': 828, 'ts601': 1483, 'smd2512': 1365, 'x5r': 490, 'modular': 1518, 'off': 112, 'connectors': 101, 'dmc': 1264, 'shake': 1571, '49ma': 753, 'sqmm': 76, 'way': 89, 'pahse': 1698, 'zener': 51, 'array': 388, 'on': 63, 'b13': 1477, '3corex2': 1210, 'lre14': 1130, 'male12': 891, 'culus': 1582, 'high': 586, '200kohm': 1379, 'mppt': 1686, '32v': 591, 'al5': 1335, 'xy2500': 419, 'vac': 408, 'goodsky': 1139, 'rxze2m114m': 1155, 'id4mm': 604, 's20k320': 1359, 'microsd': 870, 'heavyduty': 688, 'allied': 373, '2p': 1312, '275vac': 473, 'zxnv': 1214, 'wetvs': 967, 'below': 1626, '5k': 1313, 'pin': 9, '2k2': 1373, 'magnet': 432, '4sq': 282, 'id': 1295, '12v': 122, 'capacitive': 1405, '95sqmm': 1206, '90x86x17': 1253, 'chokegt006401': 878, 'ceramic': 82, '3v': 173, 'single': 140, '16v': 124, 'remote': 618, '1va': 384, 'roll': 563, '1000vdc': 1475, 'dualport': 1398, 'accessoriesr7': 1533, 'cc0603jpnpo9bn330': 811, 'tia': 1088, 'philips': 1677, 'sot23': 389, 'lenght': 1231, 'utype': 1294, 'gv2': 83, 'up': 1349, 'div1': 1584, 'plc': 1695, 'sth4dt': 1614, '3tx40102a': 912, 'siemens': 60, 'angled': 1493, 'smc': 995, 'connector2716020': 906, '2kvolts': 757, '2a': 188, '16w': 881, 'cdsot23sm712': 1021, 'rder73a103k2k1h03b': 796, 'rating': 1575, 'snap': 1291, 'sot235l': 968, 'crimp': 382, 'smaz2013f': 957, 'y5v': 474, 'sz7552p': 937, '47v': 707, '4763hzupto50amp': 1339, 'kw': 1688, 'cc0603jrnpo8bn220': 812, 'packageto220ab': 1034, 'clamp': 505, 'resistor': 27, 'smps': 99, 'duplex': 441, 'mb': 521, 'typedark': 1180, '10sqmm': 272, 'acs720klatr15abt': 1428, 'imported': 1638, 'terminal': 32, 'consumables': 692, '1000volts': 837, 'vj0402a120fxqcw1bc': 848, 'manufacturer': 34, 'amps': 1292, 'vehicle': 691, 'insulation': 147, 'gilard': 1529, 'alloys': 1465, 'ele': 1599, 'pvc': 24, 'mmsz5250be308': 997, '3x5': 855, 'cc1210kkx5r7bb476': 808, 'filled': 1176, 'comet': 457, 'gap': 1663, 'inching': 1590, '0415vac': 1682, 'free': 1453, '4seator': 690, 'ah': 684, 'components': 547, 'type': 15, '1ph': 1134, '2way': 703, '4kw': 1689, 'abb': 668, 'round': 429, 'acs712': 1417, '1083d': 1282, 'vertical': 1652, 'heatshrink': 415, 'stth60w02cw': 963, 'e27': 698, 'pot': 589, 'gun': 1463, 'mpp': 776, 'canopy': 98, 'in4744a': 529, 'emi': 1181, 'conductors': 418, 'semiconductor': 152, 'film': 258, 'steeper': 1705, 'shottky': 1008, 'by128': 1270, 'psi': 1488, 'bc32740': 1673, 'sleeving': 277, 'reset': 1525, 'overload': 194, 'torch': 1639, '3p': 1311, 'mfrunited': 833, 'walsin': 756, 'mfrkemet': 362, 'wp': 649, 'vishay': 132, 'power': 31, 'cc0603jrx7r9bb331': 810, 'titanium': 556, 'fittingss316l': 1532, 'rs1524': 1450, 'packagedo214ab': 1040, 'mi': 1624, 'position': 1579, 'polycab': 14, 'harison': 1104, 'cc1206mkx5r6bb226': 825, 'ip': 1276, 'umk212b7224kgt': 780, '1sqmm': 398, '1n4148': 975, '3k': 1368, 'noekxj501ell100mj30s': 835, '1w': 126, 'umk316bbj106klt': 779, '100ma': 1216, '56k': 624, 'shielding': 1182, 'center': 1507, '50hz': 118, 'hilift': 1094, 'kp': 450, 'by': 1269, 'hanging': 508, 'attend': 872, 'mosfet': 347, 'noc0805c202kdractu': 839, 'vdc': 364, 'plate': 271, 'giga': 1490, 'soic16': 1425, 'txmr': 1644, 'sm71202htg': 1007, 'esr': 478, 'cc0603krx7r8bb103': 803, 'psig': 1501, 'flame': 1538, 'group': 1615, 'npt': 206, 'cts6u': 292, 'cathode': 1010, 'duct': 1707, '35a': 1109, 'cc0603krx7r8bb102': 852, 'swg': 469, '3106f': 893, '5sl62327rc': 1321, 'eveready': 678, 'nitrile': 662, 'right': 887, 'chemo': 1173, '24vdc': 159, 'auxiliary': 908, '950uh': 1642, 'piezo': 711, 'accessoriess13': 1535, 'bobbin': 1653, 'rv1': 550, '3ur52': 1158, 'meters': 564, 'salzer': 1478, 'sensor': 64, 'rsi': 1293, 'k3g310az8802': 1190, '0uf': 842, 'anchor': 568, 'am2305': 1399, 'rg': 517, 'tti': 663, 'elcab': 326, 'x2': 489, '68k': 1375, 'fdc2214evm': 1408, '3w': 1029, '3d468': 1281, 'pressure': 158, 'nilkamal': 278, '1nf': 363, 'instruments': 1410, '320v': 1361, 'feet': 111, 'mm5z8v2st1g': 1048, 'bulb': 160, 'sr': 549, 'connect': 566, '4kva': 1641, '80cm': 288, 'kpt': 1572, 't0220': 981, 'aovalluminium': 42, 'fl3ffszdc12v': 1149, 'fuse': 155, 'capacitor': 3, 'changeover': 1140, 'upto': 572, 'centring': 1167, 'ss210': 1049, '3way': 704, 'yellow': 73, '01uf': 795, '5core': 1089, 'ring': 62, 'preset': 1344, 'revamped2': 922, 'mat': 557, '20w': 1471, 'fr': 224, 'earthing': 397, 'nes1524': 1440, 'grey': 166, 'rimp': 946, 'sutiable': 1103, '100e': 619, 'medium': 958, 'cavity': 1260, 'jyoti': 1064, '9m': 289, 'wires': 471, '018f6857': 506, 'mfd': 308, 'roma': 417, 'ebm': 422, '18mlcc': 818, 'ss34': 387, 'casing': 1702, 'rotary': 234, 'resister': 1358, '26me': 754, 'no5vt': 1219, 'mlc': 359, 'n827': 669, 'hs008': 1243, 'no0299040': 1213, '1n5408': 955, '200k': 622, 'laptron': 461, 'ultrasonic': 1239, 'mmsz5250b': 996, 'accessories06': 1509, 'manual': 1550, '52a': 750, '000ap0': 915, 'microsystems': 1427, 'pmdd': 569, 'certified': 1581, '18k': 628, 'evd': 1057, 'fuses': 590, 'rohs': 483, '4p': 1310, '4e250': 1193, 'mmsz5231bs7f': 1052, 'c0805c104j5rac': 778, '150w': 696, 'hydraulic': 1497, 'mfr': 5, 'pad': 982, 'capacitors': 59, 'top': 125, 'rs1512': 1449, 'smb403a': 988, 'metal': 215, 'bridge': 986, '593d105x9025a2te3': 782, '24480vac': 1112, 'ltd': 1479, 'make': 16, 'machine': 1701, 'semiconductors': 1044, 'mfrlittelfuse': 1225, 'molded': 764, 'brush': 503, 'cac51a': 1340, '900mtb': 1462, '72uf': 846, 'packgesmd': 763, 'nexperia': 1027, '000af0': 913, 'sod123': 190, 'crimpscrimp': 1607, 'esd': 1184, '2200uf': 487, 'teknik': 1487, '60w': 699, 'fitting': 53, '4sqmm': 400, 'sz7569p': 939, 'mmsz5231bt1g5': 964, 'batteries': 677, 'resistors': 46, 'p24': 1337, 'discharge': 1191, 'level': 435, 'tpw': 344, '061f7526': 1519, 'pgl': 555, '4core': 1091, 'pump': 950, 'module': 330, 'vitramon': 847, 'uni': 168, 'sample': 334, '20amp': 1476, 'jumper': 336, '310vac': 774, 'r2': 999, '40a270v': 1110, '330e': 620, 'sz7524t': 942, '1k': 1355, '3d466': 1283, 'bonetti': 1592, 'nichicon': 501, '300mw': 1023, 'zua': 1111, '100ap0': 914, 'platinum': 1070, 'omnix': 1659, 'rocker': 447, 'inbuilt': 1694, 'horizontal': 667}\n"
     ]
    }
   ],
   "source": [
    "from keras.preprocessing.text import Tokenizer\n",
    "\n",
    "tokenizer_merge = Tokenizer()\n",
    "tokenizer_merge.fit_on_texts(merge_text_feature)\n",
    "\n",
    "max_length_merge = max([len(s.split()) for s in merge_text_feature])\n",
    "                        \n",
    "tokenizer_merge_index = tokenizer_merge.word_index\n",
    "\n",
    "vocab_size_merge = len(tokenizer_merge_index)\n",
    "print(tokenizer_merge_index)                        "
   ]
  },
  {
   "cell_type": "code",
   "execution_count": 134,
   "metadata": {},
   "outputs": [
    {
     "name": "stdout",
     "output_type": "stream",
     "text": [
      "1708\n",
      "1258\n",
      "inch\n",
      "[ 0.00531422 -0.08740324 -0.08222257 -0.12899801 -0.15475085 -0.163057\n",
      "  0.18513985 -0.36062765 -0.32775584 -0.04065453  0.3184027   0.3695678\n",
      " -0.5101895   0.03564022 -0.08278285  0.37450826 -0.12547307  0.20521249\n",
      " -0.12950574 -0.23542361 -0.04343544  0.18400235  0.02711576  0.15075897\n",
      " -0.03023637  0.42508173  0.351758   -0.11873965 -0.10947298 -0.15610208\n",
      " -0.43448284 -0.17689821 -0.2501244  -0.03748987 -0.06745612  0.10779626\n",
      "  0.21494459  0.06624966  0.25569037 -0.11911091 -0.1880119   0.24927732\n",
      "  0.08494496  0.05017168  0.10188263  0.11363015  0.07888637  0.11526236\n",
      " -0.27141827 -0.18781136  0.13344045 -0.01295647 -0.00898362  0.20055954\n",
      "  0.01691925  0.06470533 -0.23988712  0.13110223 -0.05131466 -0.26941225\n",
      " -0.00082231  0.28596535 -0.07595673 -0.23382907 -0.08251759  0.05898278\n",
      " -0.31087568 -0.2450818   0.31771743  0.01451331 -0.06168523  0.11082708\n",
      "  0.09837241 -0.03204493  0.2410294 ]\n"
     ]
    }
   ],
   "source": [
    "print(vocab_size_merge)\n",
    "print(len(merge_text_feature))\n",
    "print(corpus[0][2])\n",
    "print(model_1.wv.get_vector(corpus[0][0]))"
   ]
  },
  {
   "cell_type": "code",
   "execution_count": 198,
   "metadata": {},
   "outputs": [
    {
     "name": "stdout",
     "output_type": "stream",
     "text": [
      "[1 2 3 4 5 0 0 0]\n",
      "6\n"
     ]
    }
   ],
   "source": [
    "from keras.preprocessing import sequence\n",
    "from keras.preprocessing.sequence import pad_sequences\n",
    "a = [1, 2, 3, 4, 5]\n",
    "b = np.pad(a, (0,3), 'constant', constant_values=0)\n",
    "print(b)\n",
    "print(len(corpus[1]))"
   ]
  },
  {
   "cell_type": "code",
   "execution_count": 199,
   "metadata": {},
   "outputs": [
    {
     "name": "stdout",
     "output_type": "stream",
     "text": [
      "(1258, 100)\n"
     ]
    }
   ],
   "source": [
    "## Prepare matrix for co-sine similarity:\n",
    "\n",
    "size_col = max_length_merge * emb_dim\n",
    "\n",
    "embedding_matrix = np.zeros((len(merge_text_feature), emb_dim))\n",
    "\n",
    "for i in range(len(merge_text_feature)):\n",
    "    \n",
    "    emb_mat = np.zeros((1, emb_dim*len(corpus[i])))\n",
    "    emb_mat_col = emb_dim*len(corpus[i])\n",
    "    \n",
    "    emb_vector = np.zeros((len(corpus[i]), emb_dim))\n",
    "    for j in range(len(corpus[i])):\n",
    "        emb_vector[j] = model_1.wv.get_vector(corpus[i][j])\n",
    "    \n",
    "      \n",
    "#    emb_mat = emb_vector.ravel()\n",
    "    \n",
    "\n",
    "#    embedding_matrix[i] = np.pad(emb_mat, (0, (size_col - emb_mat_col)), 'constant', constant_values = 0)\n",
    "        \n",
    "    embedding_matrix[i] = np.max(emb_vector, axis = 0)\n",
    "    \n",
    "\n",
    "\n",
    "        \n",
    "print(embedding_matrix.shape)\n",
    "        \n",
    "#print('Null word embeddings: %d' % np.sum(np.sum(embedding_matrix, axis=1) == 0))\n"
   ]
  },
  {
   "cell_type": "code",
   "execution_count": 125,
   "metadata": {},
   "outputs": [
    {
     "name": "stdout",
     "output_type": "stream",
     "text": [
      "[ 0.03776038 -0.05264485 -0.09356659 ...  0.          0.\n",
      "  0.        ]\n"
     ]
    }
   ],
   "source": [
    "print(embedding_matrix[0])"
   ]
  },
  {
   "cell_type": "code",
   "execution_count": 200,
   "metadata": {},
   "outputs": [
    {
     "name": "stdout",
     "output_type": "stream",
     "text": [
      "(1257, 100)\n",
      "(100,)\n"
     ]
    }
   ],
   "source": [
    "test_digit_vector = embedding_matrix[len(embedding_matrix)-1].reshape((embedding_matrix.shape)[1],)\n",
    "\n",
    "merge_digit_vector_1 = embedding_matrix[0:(len(embedding_matrix)-1)]\n",
    "\n",
    "print(merge_digit_vector_1.shape)\n",
    "print(test_digit_vector.shape)\n"
   ]
  },
  {
   "cell_type": "code",
   "execution_count": 201,
   "metadata": {},
   "outputs": [
    {
     "name": "stdout",
     "output_type": "stream",
     "text": [
      "DAMODAR ENTERPRISES\n",
      "Ankit Marketing Pvt. Ltd.\n",
      "M/S. S. K. Enterprise\n",
      "IDEAL RESOURCES PRODUTCS PVT. LTD.\n",
      "A.M Steel Traders\n"
     ]
    },
    {
     "data": {
      "text/html": [
       "<div>\n",
       "<style scoped>\n",
       "    .dataframe tbody tr th:only-of-type {\n",
       "        vertical-align: middle;\n",
       "    }\n",
       "\n",
       "    .dataframe tbody tr th {\n",
       "        vertical-align: top;\n",
       "    }\n",
       "\n",
       "    .dataframe thead th {\n",
       "        text-align: right;\n",
       "    }\n",
       "</style>\n",
       "<table border=\"1\" class=\"dataframe\">\n",
       "  <thead>\n",
       "    <tr style=\"text-align: right;\">\n",
       "      <th></th>\n",
       "      <th>c_index</th>\n",
       "      <th>feature</th>\n",
       "      <th>supplier</th>\n",
       "    </tr>\n",
       "  </thead>\n",
       "  <tbody>\n",
       "    <tr>\n",
       "      <th>0</th>\n",
       "      <td>1.000</td>\n",
       "      <td>solder iron 35w soldering bit</td>\n",
       "      <td>DAMODAR ENTERPRISES</td>\n",
       "    </tr>\n",
       "    <tr>\n",
       "      <th>1</th>\n",
       "      <td>1.000</td>\n",
       "      <td>solder iron 35w</td>\n",
       "      <td>Ankit Marketing Pvt. Ltd.</td>\n",
       "    </tr>\n",
       "    <tr>\n",
       "      <th>2</th>\n",
       "      <td>0.999</td>\n",
       "      <td>bottom insulator gv3</td>\n",
       "      <td>M/S. S. K. Enterprise</td>\n",
       "    </tr>\n",
       "    <tr>\n",
       "      <th>3</th>\n",
       "      <td>0.999</td>\n",
       "      <td>meanwell 24v smps rs2524</td>\n",
       "      <td>IDEAL RESOURCES PRODUTCS PVT. LTD.</td>\n",
       "    </tr>\n",
       "    <tr>\n",
       "      <th>4</th>\n",
       "      <td>0.999</td>\n",
       "      <td>chk coil 3uh 5a</td>\n",
       "      <td>A.M Steel Traders</td>\n",
       "    </tr>\n",
       "    <tr>\n",
       "      <th>5</th>\n",
       "      <td>0.999</td>\n",
       "      <td>resistor 100k</td>\n",
       "      <td>CESARE BONETTI INDIA PVT. LTD.</td>\n",
       "    </tr>\n",
       "    <tr>\n",
       "      <th>6</th>\n",
       "      <td>0.999</td>\n",
       "      <td>pin plug top 5a anchor</td>\n",
       "      <td>NEHA ENTERPRISES</td>\n",
       "    </tr>\n",
       "    <tr>\n",
       "      <th>7</th>\n",
       "      <td>0.999</td>\n",
       "      <td>speed regulator</td>\n",
       "      <td>PANTH ENTERPRISES</td>\n",
       "    </tr>\n",
       "    <tr>\n",
       "      <th>8</th>\n",
       "      <td>0.999</td>\n",
       "      <td>stator gv3</td>\n",
       "      <td>WAAREE INDUSTRIES PVT. LTD.</td>\n",
       "    </tr>\n",
       "    <tr>\n",
       "      <th>9</th>\n",
       "      <td>0.999</td>\n",
       "      <td>contactor 3tf31</td>\n",
       "      <td>Nemi Electricals</td>\n",
       "    </tr>\n",
       "  </tbody>\n",
       "</table>\n",
       "</div>"
      ],
      "text/plain": [
       "   c_index                        feature                            supplier\n",
       "0    1.000  solder iron 35w soldering bit                 DAMODAR ENTERPRISES\n",
       "1    1.000                solder iron 35w           Ankit Marketing Pvt. Ltd.\n",
       "2    0.999           bottom insulator gv3               M/S. S. K. Enterprise\n",
       "3    0.999       meanwell 24v smps rs2524  IDEAL RESOURCES PRODUTCS PVT. LTD.\n",
       "4    0.999                chk coil 3uh 5a                   A.M Steel Traders\n",
       "5    0.999                  resistor 100k      CESARE BONETTI INDIA PVT. LTD.\n",
       "6    0.999         pin plug top 5a anchor                    NEHA ENTERPRISES\n",
       "7    0.999                speed regulator                   PANTH ENTERPRISES\n",
       "8    0.999                     stator gv3         WAAREE INDUSTRIES PVT. LTD.\n",
       "9    0.999                contactor 3tf31                    Nemi Electricals"
      ]
     },
     "execution_count": 201,
     "metadata": {},
     "output_type": "execute_result"
    }
   ],
   "source": [
    "c_d = []\n",
    "\n",
    "c_d = np.round((1 - cos_cdist(merge_digit_vector_1, test_digit_vector)), 3)\n",
    "\n",
    "max_c_s_index = []\n",
    "max_c_s_index = np.argsort(c_d)[-50:][::-1]\n",
    "\n",
    "result = []\n",
    "result_frame = []\n",
    "max_c_s_index = []\n",
    "max_c_s_index = np.argsort(c_d)[-50:][::-1]\n",
    "\n",
    "for i in max_c_s_index:\n",
    "    \n",
    "    result.append(np.array([c_d[i], tranzact_data_search['feature'][i], tranzact_data_search['supplier'][i]]))\n",
    "\n",
    "result_frame = pd.DataFrame(result, columns=['c_index', 'feature', 'supplier'])\n",
    "\n",
    "result_frame.c_index = result_frame.c_index.astype('float64')\n",
    "\n",
    "result_frame.drop_duplicates(subset='supplier', keep = 'first', inplace = True)\n",
    "result_frame = result_frame.reset_index(drop=True)\n",
    "\n",
    "kount = 0\n",
    "\n",
    "for i in range(len(result_frame['supplier'])):\n",
    "    if result_frame['c_index'][i] >= 0.10:\n",
    "        print(result_frame['supplier'][i])\n",
    "        kount = kount+1\n",
    "        if kount == 5 :\n",
    "            break\n",
    "result_frame.head(10)"
   ]
  },
  {
   "cell_type": "code",
   "execution_count": null,
   "metadata": {},
   "outputs": [],
   "source": []
  }
 ],
 "metadata": {
  "kernelspec": {
   "display_name": "Python 3",
   "language": "python",
   "name": "python3"
  },
  "language_info": {
   "codemirror_mode": {
    "name": "ipython",
    "version": 3
   },
   "file_extension": ".py",
   "mimetype": "text/x-python",
   "name": "python",
   "nbconvert_exporter": "python",
   "pygments_lexer": "ipython3",
   "version": "3.5.2+"
  }
 },
 "nbformat": 4,
 "nbformat_minor": 2
}
