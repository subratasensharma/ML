{
 "cells": [
  {
   "cell_type": "code",
   "execution_count": null,
   "id": "cf210027",
   "metadata": {},
   "outputs": [],
   "source": [
    "# pgeocode"
   ]
  },
  {
   "cell_type": "code",
   "execution_count": 1,
   "id": "d827a59c",
   "metadata": {},
   "outputs": [],
   "source": [
    "import pandas as pd\n",
    "import numpy as np\n",
    "import re\n",
    "import pgeocode\n",
    "\n",
    "from fuzzywuzzy import process\n",
    "from fuzzywuzzy import fuzz\n"
   ]
  },
  {
   "cell_type": "code",
   "execution_count": 2,
   "id": "2ebec5e8",
   "metadata": {},
   "outputs": [],
   "source": [
    "master_co_data = pd.read_excel('master_co_data.xlsx', header=0)\n",
    "\n",
    "working_master = master_co_data.copy()"
   ]
  },
  {
   "cell_type": "code",
   "execution_count": 3,
   "id": "7cec54fb",
   "metadata": {},
   "outputs": [
    {
     "name": "stdout",
     "output_type": "stream",
     "text": [
      "686829\n",
      "464219\n",
      "222610\n"
     ]
    }
   ],
   "source": [
    "# Processing to create valid 'pin' file and no 'pin' file\n",
    "\n",
    "yes_pin_master = working_master[working_master['PIN'].notna()].reset_index(drop=True) # master with some value in PIN\n",
    "nan_pin_master = working_master[working_master['PIN'].isna()].reset_index(drop=True)  # master with NaN value in PIN\n",
    "\n",
    "yes_pin_master['PIN'] = yes_pin_master['PIN'].astype(str)                      # converting pin to string\n",
    "\n",
    "yes_pin_master['PIN'] = yes_pin_master['PIN'].apply(lambda x: re.sub('[^0-9]', '', x))  # 'pins' with only digits\n",
    "yes_pin_6ch = yes_pin_master.loc[yes_pin_master['PIN'].str.len() == 6]         # pin should be of 6 digits\n",
    "yes_pin_not_6ch = yes_pin_master.loc[yes_pin_master['PIN'].str.len() != 6]\n",
    "\n",
    "invalid_pin = yes_pin_6ch[yes_pin_6ch['PIN'].str.startswith(('0'))]            # pins cannot start with '0'\n",
    "valid_pin = yes_pin_6ch[yes_pin_6ch['PIN'].str.startswith(('1', '2', '3', '4', '5', '6', '7', '8', '9'))]\n",
    "\n",
    "frames_1 = [invalid_pin, yes_pin_not_6ch]                                      # merging invalid_pin dataframes\n",
    "merged_invalid_pin = pd.concat(frames_1).reset_index(drop=True)\n",
    "merged_invalid_pin['PIN'] = ''                                                 # convering 'pin' column to blank and then to NaN\n",
    "merged_invalid_pin['PIN'] = merged_invalid_pin['PIN'].replace('', np.nan, regex=True)\n",
    "\n",
    "frames_2 = [nan_pin_master, merged_invalid_pin]                      # merging invalid_pin having pin = Nan with earlier nan_pin\n",
    "merged_nan_pin = pd.concat(frames_2).reset_index(drop=True)\n",
    "\n",
    "print(len(working_master))\n",
    "print(len(valid_pin))\n",
    "print(len(merged_nan_pin))"
   ]
  },
  {
   "cell_type": "code",
   "execution_count": 4,
   "id": "5a71e817",
   "metadata": {},
   "outputs": [
    {
     "name": "stdout",
     "output_type": "stream",
     "text": [
      "686829\n",
      "626554\n",
      "60275\n"
     ]
    }
   ],
   "source": [
    "merged_nan_pin['ADD'] = merged_nan_pin['ADD'].astype(str).str.lower()       # making all in lower case\n",
    "merged_nan_pin['PIN'] = merged_nan_pin['PIN'].astype(str)           # making type of column 'PIN' from 'float' to 'str'\n",
    "\n",
    "merged_nan_pin['PIN'] = merged_nan_pin['ADD'].str.extract(r\"\\b([1-9]{1}[0-9]{2}\\s{0,1}[0-9]{3})\\b\")  # take out pincode from\n",
    "                                                      # the address. Here blank pins automatically gets converted to Nan(float)\n",
    "merged_nan_pin['PIN'] = merged_nan_pin['PIN'].str.replace(' ', '')         # removing gap between digits of pincode\n",
    "                                                                           # i.e. from 396 191 to 396191\n",
    "\n",
    "next_nan_pin = merged_nan_pin[merged_nan_pin['PIN'].isna()].reset_index(drop=True)\n",
    "next_yes_pin = merged_nan_pin[~merged_nan_pin['PIN'].isna()].reset_index(drop=True)\n",
    "\n",
    "# Here checking for 6 digits and checking for starting with '0' not reqyured since above regex takes care of this\n",
    "\n",
    "frames_3 = [valid_pin, next_yes_pin]\n",
    "final_valid_pin = pd.concat(frames_3).reset_index(drop=True)\n",
    "\n",
    "final_invalid_pin = next_nan_pin\n",
    "\n",
    "print(len(working_master))\n",
    "print(len(final_valid_pin))\n",
    "print(len(final_invalid_pin))"
   ]
  },
  {
   "cell_type": "code",
   "execution_count": 140,
   "id": "85ec126f",
   "metadata": {},
   "outputs": [
    {
     "name": "stderr",
     "output_type": "stream",
     "text": [
      "<ipython-input-140-42663edb2f54>:24: SettingWithCopyWarning: \n",
      "A value is trying to be set on a copy of a slice from a DataFrame\n",
      "\n",
      "See the caveats in the documentation: https://pandas.pydata.org/pandas-docs/stable/user_guide/indexing.html#returning-a-view-versus-a-copy\n",
      "  geocode_df['CITY'][i] = city\n",
      "<ipython-input-140-42663edb2f54>:26: SettingWithCopyWarning: \n",
      "A value is trying to be set on a copy of a slice from a DataFrame\n",
      "\n",
      "See the caveats in the documentation: https://pandas.pydata.org/pandas-docs/stable/user_guide/indexing.html#returning-a-view-versus-a-copy\n",
      "  geocode_df['STATE'][i] = state\n"
     ]
    },
    {
     "name": "stdout",
     "output_type": "stream",
     "text": [
      "======================= 0\n",
      "======================= 1\n",
      "======================= 2\n",
      "======================= 3\n",
      "======================= 4\n",
      "4\n"
     ]
    }
   ],
   "source": [
    "# Going for geocode :\n",
    "\n",
    "valid_pin_df = final_valid_pin.copy()\n",
    "valid_pin_df = valid_pin_df.fillna(0)    # filling all NaN with  zero for subsequent 'if' statement\n",
    "\n",
    "valid_pin_with_city_state = valid_pin_df[(valid_pin_df[['CITY','STATE']] != 0).all(axis=1)].reset_index(drop=True)\n",
    "valid_pin_wout_city_state = valid_pin_df[~(valid_pin_df[['CITY','STATE']] != 0).all(axis=1)].reset_index(drop=True)\n",
    "\n",
    "#========================================================================================================================\n",
    "\n",
    "geocode_df = valid_pin_wout_city_state.copy()\n",
    "#geocode_df = zz[3000:3005].reset_index(drop=True)\n",
    "\n",
    "for i in range(len(geocode_df)):\n",
    "\n",
    "    nomi = pgeocode.Nominatim('in')\n",
    "    pin_code = geocode_df['PIN'][i]\n",
    "    output_data = nomi.query_postal_code(pin_code)\n",
    "\n",
    "    output_data.replace(np.nan, 0, inplace=True)\n",
    "    if output_data[1] != 0:\n",
    "#        city = output_data[2] + ',' + output_data[7] + ',' + output_data[5]\n",
    "        city = output_data[5]\n",
    "        state = output_data[3]\n",
    "        if geocode_df['CITY'][i] == 0:\n",
    "            geocode_df['CITY'][i] = city\n",
    "        if geocode_df['STATE'][i] == 0:\n",
    "            geocode_df['STATE'][i] = state\n",
    "    \n",
    "#    print('=======================',i)\n",
    "#==========================================================================================================================\n",
    "\n",
    "# If pin is wrong i.e. does not exist, this will not give any result and hence, 'city' or 'state' will remain '0' as \n",
    "# original. To take care of this, following two lines\n",
    "\n",
    "geocode_with_city_state = geocode_df[(geocode_df[['CITY', 'STATE']] != 0).all(axis=1)]\n",
    "geocode_wout_city_state = nan_pin_with_pin[~(nan_pin_with_pin[['CITY', 'STATE']] != 0).all(axis=1)]\n",
    "\n",
    "geocode_wout_city_state = ''                                              # convering 'pin' column to blank and then to NaN\n",
    "geocode_wout_city_state['PIN'] = geocode_wout_city_state['PIN'].replace('', np.nan, regex=True)\n",
    "\n",
    "\n",
    "frames_4 = [valid_pin_with_city_state, geocode_with_city_state]\n",
    "df_with_city_pin_state = pd.concat(frames_4).reset_index(drop=True)  ## OUTPUT-1 : master file\n",
    "\n",
    "frames_5 = [final_invalid_pin, geocode_wout_city_state]\n",
    "df_with_invalid_pin = pd.concat(frames_5).reset_index(drop=True)     ## OUTPUT-2 : to compare with city_master and edit\n"
   ]
  },
  {
   "cell_type": "code",
   "execution_count": 144,
   "id": "defa2557",
   "metadata": {},
   "outputs": [
    {
     "data": {
      "text/plain": [
       "Int64Index([123718], dtype='int64')"
      ]
     },
     "execution_count": 144,
     "metadata": {},
     "output_type": "execute_result"
    }
   ],
   "source": [
    "#motitalav,near ram madhi, kumbhawada, bhavnagar, bhavnagar - 364006, gujarat, india\n",
    "\n",
    "idd = valid_pin_wout_city_state.index[valid_pin_wout_city_state['ADD'] == 'motitalav,near ram madhi, kumbhawada, bhavnagar, bhavnagar - 364006, gujarat, india']\n",
    "idd"
   ]
  },
  {
   "cell_type": "code",
   "execution_count": 5,
   "id": "c3d7a848",
   "metadata": {},
   "outputs": [
    {
     "name": "stdout",
     "output_type": "stream",
     "text": [
      "60275\n",
      "56197\n",
      "2015\n",
      "2063\n"
     ]
    }
   ],
   "source": [
    "invalid_pin_0 = final_invalid_pin.fillna(0)\n",
    "\n",
    "invalid_pin_with_citystate = invalid_pin_0[(invalid_pin_0[['CITY','STATE']] != 0).all(axis=1)].reset_index(drop=True)\n",
    "invalid_pin_wout_city_state = invalid_pin_0[~(invalid_pin_0[['CITY','STATE']] != 0).all(axis=1)].reset_index(drop=True)\n",
    "\n",
    "invalid_pin_wout_citystate = invalid_pin_wout_city_state[(invalid_pin_wout_city_state[['CITY','STATE']] == 0).all(axis=1)].reset_index(drop=True)\n",
    "invalid_pin_wout_cityORstate = invalid_pin_wout_city_state[~(invalid_pin_wout_city_state[['CITY','STATE']] == 0).all(axis=1)].reset_index(drop=True)\n",
    "\n",
    "invalid_pin_wout_state = invalid_pin_wout_cityORstate[(invalid_pin_wout_cityORstate[['STATE']] == 0).all(axis=1)].reset_index(drop=True)\n",
    "invalid_pin_wout_city = invalid_pin_wout_cityORstate[(invalid_pin_wout_cityORstate[['CITY']] == 0).all(axis=1)].reset_index(drop=True)\n",
    "\n",
    "frames = [invalid_pin_wout_citystate, invalid_pin_wout_city]   # here city is to be found out from address\n",
    "invalid_pin_check_city = pd.concat(frames).reset_index(drop=True)\n",
    "\n",
    "# invalid_pin_with_citystate : nothing needs to be done, invalid_pin_wout_state : state to find from city,\n",
    "# invalid_pin_check_city : city to find from address and state to find from city.\n",
    "\n",
    "#invalid_pin_wout_city_state.tail(3)\n",
    "print(len(invalid_pin_0))\n",
    "print(len(invalid_pin_with_citystate))\n",
    "#print(len(invalid_pin_wout_city_state))\n",
    "#print('==============================')\n",
    "#print(len(invalid_pin_wout_citystate))\n",
    "#print(len(invalid_pin_wout_cityORstate))\n",
    "#print('===============================')\n",
    "#print(len(invalid_pin_wout_city))\n",
    "print(len(invalid_pin_wout_state))\n",
    "print(len(invalid_pin_check_city))"
   ]
  },
  {
   "cell_type": "code",
   "execution_count": 6,
   "id": "f8333c50",
   "metadata": {},
   "outputs": [
    {
     "data": {
      "text/html": [
       "<div>\n",
       "<style scoped>\n",
       "    .dataframe tbody tr th:only-of-type {\n",
       "        vertical-align: middle;\n",
       "    }\n",
       "\n",
       "    .dataframe tbody tr th {\n",
       "        vertical-align: top;\n",
       "    }\n",
       "\n",
       "    .dataframe thead th {\n",
       "        text-align: right;\n",
       "    }\n",
       "</style>\n",
       "<table border=\"1\" class=\"dataframe\">\n",
       "  <thead>\n",
       "    <tr style=\"text-align: right;\">\n",
       "      <th></th>\n",
       "      <th>S.No</th>\n",
       "      <th>COMPANY NAME</th>\n",
       "      <th>ADD</th>\n",
       "      <th>CITY</th>\n",
       "      <th>PIN</th>\n",
       "      <th>STATE</th>\n",
       "      <th>CONTACT NO.</th>\n",
       "      <th>MOBILE No.</th>\n",
       "      <th>EMAIL</th>\n",
       "      <th>WEB</th>\n",
       "      <th>DETAILS</th>\n",
       "    </tr>\n",
       "  </thead>\n",
       "  <tbody>\n",
       "    <tr>\n",
       "      <th>2058</th>\n",
       "      <td>65055</td>\n",
       "      <td>r.k. ganapathi chettiar</td>\n",
       "      <td>no 138, muthur roadkangayam</td>\n",
       "      <td>0</td>\n",
       "      <td>0</td>\n",
       "      <td>Tamil Nadu</td>\n",
       "      <td>91-4257-220492</td>\n",
       "      <td>0</td>\n",
       "      <td>0</td>\n",
       "      <td>www.rkgghee.com</td>\n",
       "      <td>Rkg Is A Leading Mfg Of Ghee And Is Known For ...</td>\n",
       "    </tr>\n",
       "    <tr>\n",
       "      <th>2059</th>\n",
       "      <td>80193</td>\n",
       "      <td>green world</td>\n",
       "      <td>shree ram hospital, first floor, ksihan gate n...</td>\n",
       "      <td>0</td>\n",
       "      <td>0</td>\n",
       "      <td>Gujarat</td>\n",
       "      <td>0</td>\n",
       "      <td>91-9925777077</td>\n",
       "      <td>greenworldpots@gmail.com</td>\n",
       "      <td>www.greenworldpots.com</td>\n",
       "      <td>Manufacturer Of Balcony Railig Pot, Self Water...</td>\n",
       "    </tr>\n",
       "    <tr>\n",
       "      <th>2060</th>\n",
       "      <td>97644</td>\n",
       "      <td>jeeva velu matriculation higher secondary school</td>\n",
       "      <td>mathur tiruvannamalai</td>\n",
       "      <td>0</td>\n",
       "      <td>0</td>\n",
       "      <td>Tamil Nadu</td>\n",
       "      <td>04175-238779 2366119</td>\n",
       "      <td>0</td>\n",
       "      <td>admission@jeevavelu.com</td>\n",
       "      <td>0</td>\n",
       "      <td>School</td>\n",
       "    </tr>\n",
       "    <tr>\n",
       "      <th>2061</th>\n",
       "      <td>531766</td>\n",
       "      <td>kaynes technology india pvt ltd</td>\n",
       "      <td>23/25, belagola food ind. area, metagalli po m...</td>\n",
       "      <td>0</td>\n",
       "      <td>0</td>\n",
       "      <td>Karnatak</td>\n",
       "      <td>0</td>\n",
       "      <td>8214002800</td>\n",
       "      <td>0</td>\n",
       "      <td>www.kaynestechnology.net</td>\n",
       "      <td>Lighting, Led's , Lamp, Accessories, Luminaire...</td>\n",
       "    </tr>\n",
       "    <tr>\n",
       "      <th>2062</th>\n",
       "      <td>533286</td>\n",
       "      <td>sristech metal casting(i) pvt., ltd</td>\n",
       "      <td>village - bhagwanpur, dera bassi, sas nagar</td>\n",
       "      <td>0</td>\n",
       "      <td>0</td>\n",
       "      <td>Punjab</td>\n",
       "      <td>0</td>\n",
       "      <td>91-7527078501</td>\n",
       "      <td>srishtechindia@gmail.com</td>\n",
       "      <td>www.srishtechindia.com</td>\n",
       "      <td>Manufacturer, Suppliers And Exporter of Horizo...</td>\n",
       "    </tr>\n",
       "  </tbody>\n",
       "</table>\n",
       "</div>"
      ],
      "text/plain": [
       "        S.No                                      COMPANY NAME  \\\n",
       "2058   65055                           r.k. ganapathi chettiar   \n",
       "2059   80193                                      green world    \n",
       "2060   97644  jeeva velu matriculation higher secondary school   \n",
       "2061  531766                  kaynes technology india pvt ltd    \n",
       "2062  533286               sristech metal casting(i) pvt., ltd   \n",
       "\n",
       "                                                    ADD CITY  PIN       STATE  \\\n",
       "2058                       no 138, muthur roadkangayam     0    0  Tamil Nadu   \n",
       "2059  shree ram hospital, first floor, ksihan gate n...    0    0     Gujarat   \n",
       "2060                            mathur tiruvannamalai      0    0  Tamil Nadu   \n",
       "2061  23/25, belagola food ind. area, metagalli po m...    0    0    Karnatak   \n",
       "2062       village - bhagwanpur, dera bassi, sas nagar     0    0      Punjab   \n",
       "\n",
       "              CONTACT NO.      MOBILE No.                     EMAIL  \\\n",
       "2058        91-4257-220492              0                         0   \n",
       "2059                     0  91-9925777077  greenworldpots@gmail.com   \n",
       "2060  04175-238779 2366119              0   admission@jeevavelu.com   \n",
       "2061                     0     8214002800                         0   \n",
       "2062                     0  91-7527078501  srishtechindia@gmail.com   \n",
       "\n",
       "                           WEB  \\\n",
       "2058           www.rkgghee.com   \n",
       "2059    www.greenworldpots.com   \n",
       "2060                         0   \n",
       "2061  www.kaynestechnology.net   \n",
       "2062    www.srishtechindia.com   \n",
       "\n",
       "                                                DETAILS  \n",
       "2058  Rkg Is A Leading Mfg Of Ghee And Is Known For ...  \n",
       "2059  Manufacturer Of Balcony Railig Pot, Self Water...  \n",
       "2060                                             School  \n",
       "2061  Lighting, Led's , Lamp, Accessories, Luminaire...  \n",
       "2062  Manufacturer, Suppliers And Exporter of Horizo...  "
      ]
     },
     "execution_count": 6,
     "metadata": {},
     "output_type": "execute_result"
    }
   ],
   "source": [
    "invalid_pin_check_city.tail()"
   ]
  },
  {
   "cell_type": "code",
   "execution_count": 6,
   "id": "24816029",
   "metadata": {},
   "outputs": [
    {
     "name": "stdout",
     "output_type": "stream",
     "text": [
      "665\n",
      "1398\n"
     ]
    }
   ],
   "source": [
    "invalid_pin_check_city['ADD'] = invalid_pin_check_city['ADD'].replace('nan', '', regex=True) \n",
    "invalid_pin_check_city['ADD'] = invalid_pin_check_city['ADD'].replace('nil', '', regex=True) \n",
    "\n",
    "invalid_pin_check_city_with_add = invalid_pin_check_city[invalid_pin_check_city['ADD'].str.strip().astype(bool)].reset_index(drop=True)\n",
    "invalid_pin_check_city_wout_add = invalid_pin_check_city[~invalid_pin_check_city['ADD'].str.strip().astype(bool)].reset_index(drop=True)\n",
    "\n",
    "print(len(invalid_pin_check_city_with_add))  # add exists, no city, state may or maynot exist\n",
    "print(len(invalid_pin_check_city_wout_add))  # no add, no city, state may or maynot exist "
   ]
  },
  {
   "cell_type": "code",
   "execution_count": 7,
   "id": "b26becd2",
   "metadata": {},
   "outputs": [
    {
     "data": {
      "text/html": [
       "<div>\n",
       "<style scoped>\n",
       "    .dataframe tbody tr th:only-of-type {\n",
       "        vertical-align: middle;\n",
       "    }\n",
       "\n",
       "    .dataframe tbody tr th {\n",
       "        vertical-align: top;\n",
       "    }\n",
       "\n",
       "    .dataframe thead th {\n",
       "        text-align: right;\n",
       "    }\n",
       "</style>\n",
       "<table border=\"1\" class=\"dataframe\">\n",
       "  <thead>\n",
       "    <tr style=\"text-align: right;\">\n",
       "      <th></th>\n",
       "      <th>S.No</th>\n",
       "      <th>COMPANY NAME</th>\n",
       "      <th>ADD</th>\n",
       "      <th>CITY</th>\n",
       "      <th>PIN</th>\n",
       "      <th>STATE</th>\n",
       "      <th>CONTACT NO.</th>\n",
       "      <th>MOBILE No.</th>\n",
       "      <th>EMAIL</th>\n",
       "      <th>WEB</th>\n",
       "      <th>DETAILS</th>\n",
       "    </tr>\n",
       "  </thead>\n",
       "  <tbody>\n",
       "    <tr>\n",
       "      <th>300</th>\n",
       "      <td>545800</td>\n",
       "      <td>scientific mes technik pvt ltd.</td>\n",
       "      <td>b 14 pologround industrial estate</td>\n",
       "      <td>0</td>\n",
       "      <td>0</td>\n",
       "      <td>0</td>\n",
       "      <td>91-731-2422330</td>\n",
       "      <td>91-9926666047</td>\n",
       "      <td>info@scientificindia.com</td>\n",
       "      <td>0</td>\n",
       "      <td>Oscilloscope(CRO),Digital Oscilloscope(DSO),Fu...</td>\n",
       "    </tr>\n",
       "    <tr>\n",
       "      <th>301</th>\n",
       "      <td>545807</td>\n",
       "      <td>sicame india connectors private limited</td>\n",
       "      <td>#96, sirukundram village, chengalpet taluk, ka...</td>\n",
       "      <td>0</td>\n",
       "      <td>0</td>\n",
       "      <td>0</td>\n",
       "      <td>91-44-37270300</td>\n",
       "      <td>91-8870930576</td>\n",
       "      <td>rajesh.khanna@sicame.in</td>\n",
       "      <td>0</td>\n",
       "      <td>HTLS accessories, Transmission and Distributio...</td>\n",
       "    </tr>\n",
       "    <tr>\n",
       "      <th>302</th>\n",
       "      <td>545814</td>\n",
       "      <td>soorya electro components.pvt. ltd</td>\n",
       "      <td>7/1b3, muppandal, aralvaimozhi</td>\n",
       "      <td>0</td>\n",
       "      <td>0</td>\n",
       "      <td>0</td>\n",
       "      <td>0</td>\n",
       "      <td>91-9943099124</td>\n",
       "      <td>shaji@sooryaelectrocomponents.com</td>\n",
       "      <td>0</td>\n",
       "      <td>CTPT, INDOOR CT, OUTDOOR CT, LTCT</td>\n",
       "    </tr>\n",
       "    <tr>\n",
       "      <th>303</th>\n",
       "      <td>545820</td>\n",
       "      <td>stucke elektronik india pvt ltd</td>\n",
       "      <td>merkurrung 26, hamburg germany</td>\n",
       "      <td>0</td>\n",
       "      <td>0</td>\n",
       "      <td>0</td>\n",
       "      <td>0</td>\n",
       "      <td>0</td>\n",
       "      <td>warten@stuckegroup.de</td>\n",
       "      <td>0</td>\n",
       "      <td>Generator Protection , Feeder Protection , Mot...</td>\n",
       "    </tr>\n",
       "    <tr>\n",
       "      <th>304</th>\n",
       "      <td>545824</td>\n",
       "      <td>surendra composites pvt ltd</td>\n",
       "      <td>14-15, new industrial area phase-ii, mandideep...</td>\n",
       "      <td>0</td>\n",
       "      <td>0</td>\n",
       "      <td>0</td>\n",
       "      <td>0</td>\n",
       "      <td>91-9755597773</td>\n",
       "      <td>sales@surendra.co.in</td>\n",
       "      <td>0</td>\n",
       "      <td>We  produce : 1) Densified laminated wood boar...</td>\n",
       "    </tr>\n",
       "  </tbody>\n",
       "</table>\n",
       "</div>"
      ],
      "text/plain": [
       "       S.No                             COMPANY NAME  \\\n",
       "300  545800          scientific mes technik pvt ltd.   \n",
       "301  545807  sicame india connectors private limited   \n",
       "302  545814       soorya electro components.pvt. ltd   \n",
       "303  545820          stucke elektronik india pvt ltd   \n",
       "304  545824              surendra composites pvt ltd   \n",
       "\n",
       "                                                   ADD CITY  PIN STATE  \\\n",
       "300                 b 14 pologround industrial estate     0    0     0   \n",
       "301  #96, sirukundram village, chengalpet taluk, ka...    0    0     0   \n",
       "302                    7/1b3, muppandal, aralvaimozhi     0    0     0   \n",
       "303                    merkurrung 26, hamburg germany     0    0     0   \n",
       "304  14-15, new industrial area phase-ii, mandideep...    0    0     0   \n",
       "\n",
       "       CONTACT NO.      MOBILE No.                              EMAIL WEB  \\\n",
       "300  91-731-2422330  91-9926666047           info@scientificindia.com   0   \n",
       "301  91-44-37270300  91-8870930576            rajesh.khanna@sicame.in   0   \n",
       "302               0  91-9943099124  shaji@sooryaelectrocomponents.com   0   \n",
       "303               0              0              warten@stuckegroup.de   0   \n",
       "304               0  91-9755597773               sales@surendra.co.in   0   \n",
       "\n",
       "                                               DETAILS  \n",
       "300  Oscilloscope(CRO),Digital Oscilloscope(DSO),Fu...  \n",
       "301  HTLS accessories, Transmission and Distributio...  \n",
       "302                  CTPT, INDOOR CT, OUTDOOR CT, LTCT  \n",
       "303  Generator Protection , Feeder Protection , Mot...  \n",
       "304  We  produce : 1) Densified laminated wood boar...  "
      ]
     },
     "execution_count": 7,
     "metadata": {},
     "output_type": "execute_result"
    }
   ],
   "source": [
    "dff_1 = invalid_pin_check_city_with_add.copy()\n",
    "dff_2 = invalid_pin_check_city_with_add.copy()\n",
    "invalid_pin_check_city_with_add[300:305]"
   ]
  },
  {
   "cell_type": "code",
   "execution_count": 8,
   "id": "c2a14212",
   "metadata": {},
   "outputs": [
    {
     "name": "stdout",
     "output_type": "stream",
     "text": [
      "14-15, new industrial area phase-ii, mandideep, dist. raisen (m.p.) \n",
      "[' new industrial area phase-ii', ' mandideep', ' dist. raisen (m.p.) ']\n",
      "['new', 'industrial', 'area', 'phase', 'mandideep', 'dist', 'raisen']\n"
     ]
    }
   ],
   "source": [
    "# 24/5\n",
    "idd = 304\n",
    "print(dff_1['ADD'][idd])\n",
    "add = dff_1['ADD'][idd].split(',')\n",
    "add_check = add[-3:]\n",
    "\n",
    "print(add_check)\n",
    "add_check = [re.sub(r\"\\s+nagar\", 'nagar', x) for x in add_check]\n",
    "add_check = [re.sub(r'[^A-Za-z\\s]', ' ', x) for x in add_check]   # remove digits and punctuations\n",
    "add_check = [re.sub(r'\\W*\\b\\w{1,2}\\b', '', x) for x in add_check]  # removes single or double digits sub-strings\n",
    "add_check = [re.sub(r'\\n', '', x) for x in add_check]             # removes '\\n'\n",
    "#add_check = [x.strip() for x in add_check]  # not required\n",
    "add_check = ' '.join(add_check)\n",
    "add_check = add_check.split()\n",
    "\n",
    "print(add_check)\n",
    "\n",
    "\n"
   ]
  },
  {
   "cell_type": "code",
   "execution_count": 58,
   "id": "77ab61ea",
   "metadata": {},
   "outputs": [
    {
     "name": "stdout",
     "output_type": "stream",
     "text": [
      "village - bhagwanpur, dera bassi, sas nagar \n",
      "['village - bhagwanpur', ' dera bassi', ' sas nagar ']\n",
      "['village', 'bhagwanpur', 'dera', 'bassi', 'sasnagar']\n"
     ]
    }
   ],
   "source": [
    "# 24/5\n",
    "idd = 664\n",
    "print(dff_1['ADD'][idd])\n",
    "add = dff_1['ADD'][idd].split(',')\n",
    "add_check = add[-3:]\n",
    "\n",
    "print(add_check)\n",
    "add_check = [re.sub(r\"\\s+nagar\", 'nagar', x) for x in add_check]\n",
    "add_check = [re.sub(r'[^A-Za-z\\s]', ' ', x) for x in add_check]   # remove digits and punctuations\n",
    "add_check = [re.sub(r'\\W*\\b\\w{1,2}\\b', '', x) for x in add_check]  # removes single or double digits sub-strings\n",
    "add_check = [re.sub(r'\\n', '', x) for x in add_check]             # removes '\\n'\n",
    "#add_check = [x.strip() for x in add_check]  # not required\n",
    "add_check = ' '.join(add_check)\n",
    "add_check = add_check.split()\n",
    "\n",
    "print(add_check)\n",
    "#['bhagshala maidan', 'near rationing office dombivali  district thane']\n",
    "\n"
   ]
  },
  {
   "cell_type": "code",
   "execution_count": 149,
   "id": "980d0a98",
   "metadata": {},
   "outputs": [
    {
     "name": "stdout",
     "output_type": "stream",
     "text": [
      "==============================\n",
      "normal =  [[('lucknow', 100), ('lucknow', 100)], [('indi', 89), ('indi', 89)]]\n",
      "====================================\n",
      "partial_ratio =  [[('lucknow', 100), ('lucknow', 100)], [('indi', 100), ('indi', 100)]]\n",
      "====================================\n",
      "token_sort_ratio =  [[('lucknow', 100), ('lucknow', 100)], [('indi', 89), ('indi', 89)]]\n",
      "====================================\n",
      "token_set_ratio =  [[('lucknow', 100), ('lucknow', 100)], [('indi', 89), ('indi', 89)]]\n",
      "====================================\n",
      "partial_token_sort_ratio =  [[('lucknow', 100), ('lucknow', 100)], [('indi', 100), ('indi', 100)]]\n",
      "====================================\n",
      "partial_token_set_ratio =  [[('lucknow', 100), ('lucknow', 100)], [('indi', 100), ('indi', 100)]]\n"
     ]
    }
   ],
   "source": [
    "# new try on 24/5\n",
    "a = []\n",
    "b = []\n",
    "c = []\n",
    "d = []\n",
    "e = []\n",
    "f = []\n",
    "\n",
    "\n",
    "print('==============================')\n",
    "\n",
    "for i in (add_check):\n",
    "    first_letter = i[0:3]\n",
    "    cities = [c for c in city_list if c.startswith(first_letter)]\n",
    "    m_ratio_1 = process.extract(i, cities, limit=2 ) #, scorer = fuzz.partial_ratio)\n",
    "#    m_ratio_1 = process.extractOne(i, cities) #, scorer = fuzz.partial_ratio)\n",
    "    a.append(m_ratio_1)\n",
    "    m_ratio_2 = process.extract(i, cities,limit=2, scorer = fuzz.partial_ratio)\n",
    "#    m_ratio_2 = process.extractOne(i, cities, scorer = fuzz.partial_ratio)\n",
    "    b.append(m_ratio_2)\n",
    "    m_ratio_3 = process.extract(i, cities,limit=2, scorer = fuzz.token_sort_ratio)\n",
    "#    m_ratio_3 = process.extractOne(i, cities, scorer = fuzz.token_sort_ratio)\n",
    "    c.append(m_ratio_3)\n",
    "    m_ratio_4 = process.extract(i, cities,limit=2, scorer = fuzz.token_set_ratio)\n",
    "#    m_ratio_4 = process.extractOne(i, cities, scorer = fuzz.token_set_ratio)\n",
    "    d.append(m_ratio_4)\n",
    "    m_ratio_5 = process.extract(i, cities,limit=2, scorer = fuzz.partial_token_sort_ratio)\n",
    "#    m_ratio_5 = process.extractOne(i, cities, scorer = fuzz.partial_token_sort_ratio)\n",
    "    e.append(m_ratio_5)\n",
    "    m_ratio_6 = process.extract(i, cities,limit=2, scorer = fuzz.partial_token_set_ratio)\n",
    "#    m_ratio_6 = process.extractOne(i, cities, scorer = fuzz.partial_token_set_ratio)\n",
    "    f.append(m_ratio_6)\n",
    "    \n",
    "print('normal = ', a)\n",
    "print('====================================')\n",
    "print('partial_ratio = ', b)\n",
    "print('====================================')\n",
    "print('token_sort_ratio = ', c)\n",
    "print('====================================')\n",
    "print('token_set_ratio = ', d)\n",
    "print('====================================')\n",
    "print('partial_token_sort_ratio = ', e)\n",
    "print('====================================')\n",
    "print('partial_token_set_ratio = ', f)\n",
    "    \n"
   ]
  },
  {
   "cell_type": "code",
   "execution_count": 57,
   "id": "dc53d8fb",
   "metadata": {},
   "outputs": [
    {
     "name": "stdout",
     "output_type": "stream",
     "text": [
      "==============================\n",
      "[('mandideep', 100), ('raisen', 100)]\n",
      "[('newai', 75), ('indri', 67), ('areraj', 80), ('phagi', 60), ('mandideep', 100), None, ('raisen', 100)]\n",
      "=====================\n"
     ]
    }
   ],
   "source": [
    "# new try on 24/5\n",
    "ratio_1_list_city = []\n",
    "ratio_1_list_score = []\n",
    "ratio_2_list = []\n",
    "\n",
    "print('==============================')\n",
    "\n",
    "for i in (add_check):\n",
    "    first_letter = i[0:3]\n",
    "    cities = [c for c in city_list if c.startswith(first_letter)]\n",
    "    m_ratio_1 = process.extractOne(i, cities) #, scorer = fuzz.partial_ratio)\n",
    "    \n",
    "    m_ratio_2 = process.extractOne(i, cities, scorer = fuzz.token_sort_ratio)\n",
    "    if m_ratio_1 != None and m_ratio_1[1] >90:\n",
    "        \n",
    "        ratio_1_list_city.append(m_ratio_1[0])\n",
    "        ratio_1_list_score.append(m_ratio_1[1])\n",
    "    ratio_2_list.append(m_ratio_2)\n",
    "print(ratio_1_list_city)\n",
    "print(ratio_1_list_score)\n",
    "print(ratio_2_list)\n",
    "\n",
    "if len(ratio_1_list_city) == 0 or len(ratio_1_list_city) > 2:\n",
    "    dff_1['CITY'][idd] = 'Not Known'\n",
    "\n",
    "if len(ratio_1_list_city) == 2:\n",
    "    city_master_index_1 = city_master.index[city_master['place'] == ratio_1_list_city[0]]\n",
    "    city_master_index_2 = city_master.index[city_master['place'] == ratio_1_list_city[1]]\n",
    "    city_master_state_list = [city_master['state'][city_master_index_1]]\n",
    "    # first check if file contains state :\n",
    "    if dff_1['STATE'][idd] == 0:\n",
    "        city_master_test_list = \n",
    "    \n",
    "\n",
    "\"\"\"\n",
    "ratio_1_clean = [x for x in ratio_1_list if x != None]\n",
    "\n",
    "city_max = max(ratio_1_clean, key = (lambda val: val[1]), default=-1) # default=-1 is to avoid the raise exception ValueError when argument is empty list\n",
    "city_max_index = [i for i in range(len(ratio_1_clean)) if ratio_1_clean[i][1] == city_max[1]]\n",
    "found_city_list = [ratio_1_clean[x] for x in city_max_index]\n",
    "\n",
    "print(found_city_list)\n",
    "\"\"\"\n",
    "print('=====================')"
   ]
  },
  {
   "cell_type": "code",
   "execution_count": 31,
   "id": "0abc38c8",
   "metadata": {},
   "outputs": [
    {
     "name": "stdout",
     "output_type": "stream",
     "text": [
      "==============================\n",
      "[('mandideep', 100), ('raisen', 100)]\n",
      "[('newai', 75), ('indri', 67), ('areraj', 80), ('phagi', 60), ('mandideep', 100), None, ('raisen', 100)]\n"
     ]
    }
   ],
   "source": [
    "# new try on 24/5\n",
    "ratio_1_list = []\n",
    "ratio_2_list = []\n",
    "\n",
    "print('==============================')\n",
    "\n",
    "for i in (add_check):\n",
    "    first_letter = i[0:3]\n",
    "    cities = [c for c in city_list if c.startswith(first_letter)]\n",
    "    m_ratio_1 = process.extractOne(i, cities) #, scorer = fuzz.partial_ratio)\n",
    "    m_ratio_2 = process.extractOne(i, cities, scorer = fuzz.token_sort_ratio)\n",
    "    if m_ratio_1 != None and m_ratio_1[1] >90:\n",
    "        \n",
    "        ratio_1_list.append(m_ratio_1)\n",
    "    \n",
    "    ratio_2_list.append(m_ratio_2)\n",
    "print(ratio_1_list)\n",
    "print(ratio_2_list)\n",
    "\n"
   ]
  },
  {
   "cell_type": "code",
   "execution_count": 35,
   "id": "a796715b",
   "metadata": {},
   "outputs": [
    {
     "name": "stdout",
     "output_type": "stream",
     "text": [
      "<class 'NoneType'>\n"
     ]
    }
   ],
   "source": [
    "print(type(ratio_1_list[2]))"
   ]
  },
  {
   "cell_type": "code",
   "execution_count": null,
   "id": "737b4204",
   "metadata": {},
   "outputs": [],
   "source": [
    "# 24/5\n",
    "\n",
    "for i in range(len(invalid_pin_check_city_with_add)):\n",
    "    add = dff_1['ADD'][idd].split(',')                       # split address on ','\n",
    "    add_check = add[-2:]                                     # take last 2 splits since city/states are at the end of an address\n",
    "    add_check = [re.sub(r\"\\s+nagar\", 'nagar', x) for x in add_check]  # merge 'nagar' with previus word if in same split\n",
    "    add_check = [re.sub(r'[^A-Za-z\\s]', ' ', x) for x in add_check]   # remove digits and punctuations\n",
    "    add_check = [re.sub(r'\\W*\\b\\w{1,2}\\b', '', x) for x in add_check]  # removes single or double digits sub-strings\n",
    "    add_check = [re.sub(r'\\n', '', x) for x in add_check]             # removes '\\n'\n",
    "    add_check = ' '.join(add_check)                                   # make a single list\n",
    "    add_check = add_check.split()\n",
    "    \n",
    "    for i in (add_check):\n",
    "        first_letter = i[0:3]\n",
    "        cities = [c for c in city_list if c.startswith(first_letter)]\n",
    "        m_ratio_1 = process.extractOne(i, cities) #, scorer = fuzz.partial_ratio)\n",
    "        m_ratio_2 = process.extractOne(i, cities, scorer = fuzz.token_sort_ratio)\n"
   ]
  },
  {
   "cell_type": "code",
   "execution_count": 13,
   "id": "cb350b4f",
   "metadata": {},
   "outputs": [
    {
     "data": {
      "text/html": [
       "<div>\n",
       "<style scoped>\n",
       "    .dataframe tbody tr th:only-of-type {\n",
       "        vertical-align: middle;\n",
       "    }\n",
       "\n",
       "    .dataframe tbody tr th {\n",
       "        vertical-align: top;\n",
       "    }\n",
       "\n",
       "    .dataframe thead th {\n",
       "        text-align: right;\n",
       "    }\n",
       "</style>\n",
       "<table border=\"1\" class=\"dataframe\">\n",
       "  <thead>\n",
       "    <tr style=\"text-align: right;\">\n",
       "      <th></th>\n",
       "      <th>S.No</th>\n",
       "      <th>COMPANY NAME</th>\n",
       "      <th>ADD</th>\n",
       "      <th>CITY</th>\n",
       "      <th>PIN</th>\n",
       "      <th>STATE</th>\n",
       "      <th>CONTACT NO.</th>\n",
       "      <th>MOBILE No.</th>\n",
       "      <th>EMAIL</th>\n",
       "      <th>WEB</th>\n",
       "      <th>DETAILS</th>\n",
       "    </tr>\n",
       "  </thead>\n",
       "  <tbody>\n",
       "    <tr>\n",
       "      <th>660</th>\n",
       "      <td>65055</td>\n",
       "      <td>r.k. ganapathi chettiar</td>\n",
       "      <td>muthur roadkangayam</td>\n",
       "      <td>0</td>\n",
       "      <td>0</td>\n",
       "      <td>Tamil Nadu</td>\n",
       "      <td>91-4257-220492</td>\n",
       "      <td>0</td>\n",
       "      <td>0</td>\n",
       "      <td>www.rkgghee.com</td>\n",
       "      <td>Rkg Is A Leading Mfg Of Ghee And Is Known For ...</td>\n",
       "    </tr>\n",
       "    <tr>\n",
       "      <th>661</th>\n",
       "      <td>80193</td>\n",
       "      <td>green world</td>\n",
       "      <td>shree ram hospital  first floor  ksihan gate  ...</td>\n",
       "      <td>0</td>\n",
       "      <td>0</td>\n",
       "      <td>Gujarat</td>\n",
       "      <td>0</td>\n",
       "      <td>91-9925777077</td>\n",
       "      <td>greenworldpots@gmail.com</td>\n",
       "      <td>www.greenworldpots.com</td>\n",
       "      <td>Manufacturer Of Balcony Railig Pot, Self Water...</td>\n",
       "    </tr>\n",
       "    <tr>\n",
       "      <th>662</th>\n",
       "      <td>97644</td>\n",
       "      <td>jeeva velu matriculation higher secondary school</td>\n",
       "      <td>mathur tiruvannamalai</td>\n",
       "      <td>0</td>\n",
       "      <td>0</td>\n",
       "      <td>Tamil Nadu</td>\n",
       "      <td>04175-238779 2366119</td>\n",
       "      <td>0</td>\n",
       "      <td>admission@jeevavelu.com</td>\n",
       "      <td>0</td>\n",
       "      <td>School</td>\n",
       "    </tr>\n",
       "    <tr>\n",
       "      <th>663</th>\n",
       "      <td>531766</td>\n",
       "      <td>kaynes technology india pvt ltd</td>\n",
       "      <td>belagola food ind  area  metagalli mysouru</td>\n",
       "      <td>0</td>\n",
       "      <td>0</td>\n",
       "      <td>Karnatak</td>\n",
       "      <td>0</td>\n",
       "      <td>8214002800</td>\n",
       "      <td>0</td>\n",
       "      <td>www.kaynestechnology.net</td>\n",
       "      <td>Lighting, Led's , Lamp, Accessories, Luminaire...</td>\n",
       "    </tr>\n",
       "    <tr>\n",
       "      <th>664</th>\n",
       "      <td>533286</td>\n",
       "      <td>sristech metal casting(i) pvt., ltd</td>\n",
       "      <td>village   bhagwanpur  dera bassi  sas nagar</td>\n",
       "      <td>0</td>\n",
       "      <td>0</td>\n",
       "      <td>Punjab</td>\n",
       "      <td>0</td>\n",
       "      <td>91-7527078501</td>\n",
       "      <td>srishtechindia@gmail.com</td>\n",
       "      <td>www.srishtechindia.com</td>\n",
       "      <td>Manufacturer, Suppliers And Exporter of Horizo...</td>\n",
       "    </tr>\n",
       "  </tbody>\n",
       "</table>\n",
       "</div>"
      ],
      "text/plain": [
       "       S.No                                      COMPANY NAME  \\\n",
       "660   65055                           r.k. ganapathi chettiar   \n",
       "661   80193                                      green world    \n",
       "662   97644  jeeva velu matriculation higher secondary school   \n",
       "663  531766                  kaynes technology india pvt ltd    \n",
       "664  533286               sristech metal casting(i) pvt., ltd   \n",
       "\n",
       "                                                   ADD CITY  PIN       STATE  \\\n",
       "660                               muthur roadkangayam     0    0  Tamil Nadu   \n",
       "661  shree ram hospital  first floor  ksihan gate  ...    0    0     Gujarat   \n",
       "662                            mathur tiruvannamalai      0    0  Tamil Nadu   \n",
       "663         belagola food ind  area  metagalli mysouru    0    0    Karnatak   \n",
       "664       village   bhagwanpur  dera bassi  sas nagar     0    0      Punjab   \n",
       "\n",
       "             CONTACT NO.      MOBILE No.                     EMAIL  \\\n",
       "660        91-4257-220492              0                         0   \n",
       "661                     0  91-9925777077  greenworldpots@gmail.com   \n",
       "662  04175-238779 2366119              0   admission@jeevavelu.com   \n",
       "663                     0     8214002800                         0   \n",
       "664                     0  91-7527078501  srishtechindia@gmail.com   \n",
       "\n",
       "                          WEB  \\\n",
       "660           www.rkgghee.com   \n",
       "661    www.greenworldpots.com   \n",
       "662                         0   \n",
       "663  www.kaynestechnology.net   \n",
       "664    www.srishtechindia.com   \n",
       "\n",
       "                                               DETAILS  \n",
       "660  Rkg Is A Leading Mfg Of Ghee And Is Known For ...  \n",
       "661  Manufacturer Of Balcony Railig Pot, Self Water...  \n",
       "662                                             School  \n",
       "663  Lighting, Led's , Lamp, Accessories, Luminaire...  \n",
       "664  Manufacturer, Suppliers And Exporter of Horizo...  "
      ]
     },
     "execution_count": 13,
     "metadata": {},
     "output_type": "execute_result"
    }
   ],
   "source": [
    "\n",
    "\n",
    "# in the regex of 1st line : ^ means except, a-z means only letters without (puntuations and digits), \\s only single space\n",
    "# in the regex of 2nd line : keep only strings having length > 2\n",
    "\n",
    "invalid_pin_check_city_with_add['ADD'] = invalid_pin_check_city_with_add['ADD'].apply(lambda x: re.sub('[^a-z\\s]', ' ', x))\n",
    "\n",
    "invalid_pin_check_city_with_add['ADD'] = invalid_pin_check_city_with_add['ADD'].apply(lambda x: re.sub(r'\\W*\\b\\w{1,2}\\b', '', x))\n",
    "invalid_pin_check_city_with_add['ADD'] = invalid_pin_check_city_with_add['ADD'].replace('\\n','', regex=True)  # remove '\\n'\n",
    "\n",
    "\n",
    "invalid_pin_check_city_with_add.tail()                                                                "
   ]
  },
  {
   "cell_type": "code",
   "execution_count": 10,
   "id": "92725ec7",
   "metadata": {},
   "outputs": [
    {
     "data": {
      "text/html": [
       "<div>\n",
       "<style scoped>\n",
       "    .dataframe tbody tr th:only-of-type {\n",
       "        vertical-align: middle;\n",
       "    }\n",
       "\n",
       "    .dataframe tbody tr th {\n",
       "        vertical-align: top;\n",
       "    }\n",
       "\n",
       "    .dataframe thead th {\n",
       "        text-align: right;\n",
       "    }\n",
       "</style>\n",
       "<table border=\"1\" class=\"dataframe\">\n",
       "  <thead>\n",
       "    <tr style=\"text-align: right;\">\n",
       "      <th></th>\n",
       "      <th>place</th>\n",
       "      <th>district</th>\n",
       "      <th>state</th>\n",
       "      <th>std_code</th>\n",
       "      <th>region</th>\n",
       "    </tr>\n",
       "  </thead>\n",
       "  <tbody>\n",
       "    <tr>\n",
       "      <th>0</th>\n",
       "      <td>a.thirumuruganpoondi</td>\n",
       "      <td>coimbatore</td>\n",
       "      <td>tamil nadu</td>\n",
       "      <td>NaN</td>\n",
       "      <td>NaN</td>\n",
       "    </tr>\n",
       "    <tr>\n",
       "      <th>1</th>\n",
       "      <td>a.vellalapatti</td>\n",
       "      <td>madurai</td>\n",
       "      <td>tamil nadu</td>\n",
       "      <td>NaN</td>\n",
       "      <td>NaN</td>\n",
       "    </tr>\n",
       "    <tr>\n",
       "      <th>2</th>\n",
       "      <td>aadityana</td>\n",
       "      <td>porbandar</td>\n",
       "      <td>gujarat</td>\n",
       "      <td>NaN</td>\n",
       "      <td>NaN</td>\n",
       "    </tr>\n",
       "  </tbody>\n",
       "</table>\n",
       "</div>"
      ],
      "text/plain": [
       "                  place    district       state  std_code region\n",
       "0  a.thirumuruganpoondi  coimbatore  tamil nadu       NaN    NaN\n",
       "1        a.vellalapatti     madurai  tamil nadu       NaN    NaN\n",
       "2             aadityana   porbandar     gujarat       NaN    NaN"
      ]
     },
     "execution_count": 10,
     "metadata": {},
     "output_type": "execute_result"
    }
   ],
   "source": [
    "city_master = pd.read_excel('place_list.xlsx', header=0)\n",
    "city_list = city_master['place'].tolist()\n",
    "city_master.head(3)"
   ]
  },
  {
   "cell_type": "code",
   "execution_count": 19,
   "id": "f382406a",
   "metadata": {},
   "outputs": [
    {
     "name": "stdout",
     "output_type": "stream",
     "text": [
      "address =  village - bhagwanpur, dera bassi, sas nagar \n",
      "['village', 'bhagwanpur', 'dera', 'bassi', 'sas', 'nagar']\n",
      "==============================\n",
      "normal =  [[('villiappally', 64), ('vilangudi', 62)], [('bhagalpur', 84), ('bhawanathpur', 82)], [('dera baba nanak', 90), ('dera bassi', 90)], [('bassi', 100), ('bassi pathana', 90)], [('sasan gir', 90), ('sasaram', 90)], [('nagar', 100), ('nagari', 91)]]\n",
      "====================================\n",
      "partial_ratio =  [[('vilangudi', 71), ('villiappally', 71)], [('bhagalpur', 78), ('bhargain', 75)], [('dera baba nanak', 100), ('dera bassi', 100)], [('bassi', 100), ('bassi pathana', 100)], [('sasan gir', 100), ('sasaram', 100)], [('nagar', 100), ('nagarakata', 100)]]\n",
      "====================================\n",
      "token_sort_ratio =  [[('vilangudi', 62), ('villupuram', 59)], [('bhagalpur', 84), ('bhawanathpur', 82)], [('derapur', 73), ('dergaon', 73)], [('bassi', 100), ('bassein', 83)], [('sasni', 75), ('sasti', 75)], [('nagar', 100), ('nagari', 91)]]\n",
      "====================================\n",
      "token_set_ratio =  [[('vilangudi', 62), ('villupuram', 59)], [('bhagalpur', 84), ('bhawanathpur', 82)], [('dera baba nanak', 100), ('dera bassi', 100)], [('bassi', 100), ('bassi pathana', 100)], [('sasni', 75), ('sasti', 75)], [('nagar', 100), ('nagari', 91)]]\n",
      "====================================\n",
      "partial_token_sort_ratio =  [[('vilangudi', 71), ('villiappally', 71)], [('bhagalpur', 78), ('bhargain', 75)], [('dera baba nanak', 100), ('dera bassi', 100)], [('bassi', 100), ('bassi pathana', 100)], [('sasan gir', 100), ('sasaram', 100)], [('nagar', 100), ('nagarakata', 100)]]\n",
      "====================================\n",
      "partial_token_set_ratio =  [[('vilangudi', 71), ('villiappally', 71)], [('bhagalpur', 78), ('bhargain', 75)], [('dera baba nanak', 100), ('dera bassi', 100)], [('bassi', 100), ('bassi pathana', 100)], [('sasan gir', 100), ('sasaram', 100)], [('nagar', 100), ('nagarakata', 100)]]\n"
     ]
    }
   ],
   "source": [
    "a = []\n",
    "b = []\n",
    "c = []\n",
    "d = []\n",
    "e = []\n",
    "f = []\n",
    "\n",
    "add = invalid_pin_check_city_with_add['ADD'][664]\n",
    "add_list = add.split()\n",
    "print('address = ', dff['ADD'][664])\n",
    "print(add_list)\n",
    "print('==============================')\n",
    "\n",
    "for i in (add_list):\n",
    "    first_letter = i[0:3]\n",
    "    cities = [c for c in city_list if c.startswith(first_letter)]\n",
    "    m_ratio_1 = process.extract(i, cities, limit=2 ) #, scorer = fuzz.partial_ratio)\n",
    "    a.append(m_ratio_1)\n",
    "    m_ratio_2 = process.extract(i, cities,limit=2, scorer = fuzz.partial_ratio)\n",
    "    b.append(m_ratio_2)\n",
    "    m_ratio_3 = process.extract(i, cities,limit=2, scorer = fuzz.token_sort_ratio)\n",
    "    c.append(m_ratio_3)\n",
    "    m_ratio_4 = process.extract(i, cities,limit=2, scorer = fuzz.token_set_ratio)\n",
    "    d.append(m_ratio_4)\n",
    "    m_ratio_5 = process.extract(i, cities,limit=2, scorer = fuzz.partial_token_sort_ratio)\n",
    "    e.append(m_ratio_5)\n",
    "    m_ratio_6 = process.extract(i, cities,limit=2, scorer = fuzz.partial_token_set_ratio)\n",
    "    f.append(m_ratio_6)\n",
    "    \n",
    "print('normal = ', a)\n",
    "print('====================================')\n",
    "print('partial_ratio = ', b)\n",
    "print('====================================')\n",
    "print('token_sort_ratio = ', c)\n",
    "print('====================================')\n",
    "print('token_set_ratio = ', d)\n",
    "print('====================================')\n",
    "print('partial_token_sort_ratio = ', e)\n",
    "print('====================================')\n",
    "print('partial_token_set_ratio = ', f)\n",
    "    "
   ]
  },
  {
   "cell_type": "code",
   "execution_count": 33,
   "id": "b205b753",
   "metadata": {},
   "outputs": [
    {
     "name": "stdout",
     "output_type": "stream",
     "text": [
      "address =  village jagat khanna\n",
      "['village', 'jagat', 'khanna']\n",
      "==============================\n",
      "normal =  [('villiappally', 64), ('jagatballavpur', 90), ('khanna', 100)]\n",
      "====================================\n",
      "partial_ratio =  [('vilangudi', 71), ('jagatballavpur', 100), ('khanna', 100)]\n",
      "====================================\n",
      "token_sort_ratio =  [('vilangudi', 62), ('jagtaj', 73), ('khanna', 100)]\n",
      "====================================\n",
      "token_set_ratio =  [('vilangudi', 62), ('jagtaj', 73), ('khanna', 100)]\n",
      "====================================\n",
      "partial_token_sort_ratio =  [('vilangudi', 71), ('jagatballavpur', 100), ('khanna', 100)]\n",
      "====================================\n",
      "partial_token_set_ratio =  [('vilangudi', 71), ('jagatballavpur', 100), ('khanna', 100)]\n"
     ]
    }
   ],
   "source": [
    "a = []\n",
    "b = []\n",
    "c = []\n",
    "d = []\n",
    "e = []\n",
    "f = []\n",
    "\n",
    "check_index = 657\n",
    "add = invalid_pin_check_city_with_add['ADD'][check_index]\n",
    "add_list = add.split()\n",
    "print('address = ', dff['ADD'][check_index])\n",
    "print(add_list)\n",
    "print('==============================')\n",
    "\n",
    "for i in (add_list):\n",
    "    first_letter = i[0:3]\n",
    "    cities = [c for c in city_list if c.startswith(first_letter)]\n",
    "    m_ratio_1 = process.extractOne(i, cities) #, scorer = fuzz.partial_ratio)\n",
    "    a.append(m_ratio_1)\n",
    "    m_ratio_2 = process.extractOne(i, cities, scorer = fuzz.partial_ratio)\n",
    "    b.append(m_ratio_2)\n",
    "    m_ratio_3 = process.extractOne(i, cities, scorer = fuzz.token_sort_ratio)\n",
    "    c.append(m_ratio_3)\n",
    "    m_ratio_4 = process.extractOne(i, cities, scorer = fuzz.token_set_ratio)\n",
    "    d.append(m_ratio_4)\n",
    "    m_ratio_5 = process.extractOne(i, cities, scorer = fuzz.partial_token_sort_ratio)\n",
    "    e.append(m_ratio_5)\n",
    "    m_ratio_6 = process.extractOne(i, cities, scorer = fuzz.partial_token_set_ratio)\n",
    "    f.append(m_ratio_6)\n",
    "    \n",
    "print('normal = ', a)\n",
    "print('====================================')\n",
    "print('partial_ratio = ', b)\n",
    "print('====================================')\n",
    "print('token_sort_ratio = ', c)\n",
    "print('====================================')\n",
    "print('token_set_ratio = ', d)\n",
    "print('====================================')\n",
    "print('partial_token_sort_ratio = ', e)\n",
    "print('====================================')\n",
    "print('partial_token_set_ratio = ', f)\n",
    "    "
   ]
  },
  {
   "cell_type": "code",
   "execution_count": 34,
   "id": "f4d81aa7",
   "metadata": {},
   "outputs": [
    {
     "data": {
      "text/plain": [
       "Int64Index([5794, 5795], dtype='int64')"
      ]
     },
     "execution_count": 34,
     "metadata": {},
     "output_type": "execute_result"
    }
   ],
   "source": [
    "idd = city_master.index[city_master['place'] == 'raisen']  # 4 spaces\n",
    "idd"
   ]
  },
  {
   "cell_type": "code",
   "execution_count": 33,
   "id": "9ad3035b",
   "metadata": {},
   "outputs": [
    {
     "data": {
      "text/html": [
       "<div>\n",
       "<style scoped>\n",
       "    .dataframe tbody tr th:only-of-type {\n",
       "        vertical-align: middle;\n",
       "    }\n",
       "\n",
       "    .dataframe tbody tr th {\n",
       "        vertical-align: top;\n",
       "    }\n",
       "\n",
       "    .dataframe thead th {\n",
       "        text-align: right;\n",
       "    }\n",
       "</style>\n",
       "<table border=\"1\" class=\"dataframe\">\n",
       "  <thead>\n",
       "    <tr style=\"text-align: right;\">\n",
       "      <th></th>\n",
       "      <th>place</th>\n",
       "      <th>district</th>\n",
       "      <th>state</th>\n",
       "      <th>std_code</th>\n",
       "      <th>region</th>\n",
       "    </tr>\n",
       "  </thead>\n",
       "  <tbody>\n",
       "    <tr>\n",
       "      <th>4188</th>\n",
       "      <td>mandideep</td>\n",
       "      <td>raisen</td>\n",
       "      <td>madhya pradesh</td>\n",
       "      <td>NaN</td>\n",
       "      <td>NaN</td>\n",
       "    </tr>\n",
       "  </tbody>\n",
       "</table>\n",
       "</div>"
      ],
      "text/plain": [
       "          place district           state  std_code region\n",
       "4188  mandideep   raisen  madhya pradesh       NaN    NaN"
      ]
     },
     "execution_count": 33,
     "metadata": {},
     "output_type": "execute_result"
    }
   ],
   "source": [
    "city_master[4188:4189]"
   ]
  },
  {
   "cell_type": "code",
   "execution_count": 35,
   "id": "135850e7",
   "metadata": {},
   "outputs": [
    {
     "data": {
      "text/html": [
       "<div>\n",
       "<style scoped>\n",
       "    .dataframe tbody tr th:only-of-type {\n",
       "        vertical-align: middle;\n",
       "    }\n",
       "\n",
       "    .dataframe tbody tr th {\n",
       "        vertical-align: top;\n",
       "    }\n",
       "\n",
       "    .dataframe thead th {\n",
       "        text-align: right;\n",
       "    }\n",
       "</style>\n",
       "<table border=\"1\" class=\"dataframe\">\n",
       "  <thead>\n",
       "    <tr style=\"text-align: right;\">\n",
       "      <th></th>\n",
       "      <th>place</th>\n",
       "      <th>district</th>\n",
       "      <th>state</th>\n",
       "      <th>std_code</th>\n",
       "      <th>region</th>\n",
       "    </tr>\n",
       "  </thead>\n",
       "  <tbody>\n",
       "    <tr>\n",
       "      <th>5794</th>\n",
       "      <td>raisen</td>\n",
       "      <td>raisen</td>\n",
       "      <td>madhya pradesh</td>\n",
       "      <td>NaN</td>\n",
       "      <td>NaN</td>\n",
       "    </tr>\n",
       "    <tr>\n",
       "      <th>5795</th>\n",
       "      <td>raisen</td>\n",
       "      <td>NaN</td>\n",
       "      <td>madhya pradesh</td>\n",
       "      <td>7482.0</td>\n",
       "      <td>NaN</td>\n",
       "    </tr>\n",
       "  </tbody>\n",
       "</table>\n",
       "</div>"
      ],
      "text/plain": [
       "       place district           state  std_code region\n",
       "5794  raisen   raisen  madhya pradesh       NaN    NaN\n",
       "5795  raisen      NaN  madhya pradesh    7482.0    NaN"
      ]
     },
     "execution_count": 35,
     "metadata": {},
     "output_type": "execute_result"
    }
   ],
   "source": [
    "city_master[5794:5796]"
   ]
  },
  {
   "cell_type": "code",
   "execution_count": 84,
   "id": "3bdee79c",
   "metadata": {},
   "outputs": [
    {
     "name": "stdout",
     "output_type": "stream",
     "text": [
      "4188\n",
      "<class 'tuple'>\n"
     ]
    },
    {
     "data": {
      "text/plain": [
       "'raisen'"
      ]
     },
     "execution_count": 84,
     "metadata": {},
     "output_type": "execute_result"
    }
   ],
   "source": [
    "#df[df['A']==5].index.item()\n",
    "#df.index.get_loc(df.index[df['b'] == 5][0])\n",
    "#np.where(df['c']==6)[0]\n",
    "i1 = city_master[city_master['place'] == 'mandideep'].index.item()\n",
    "print(i1)\n",
    "#i2 = city_master.index[city_master['place'] == 'raisen'].item()\n",
    "#i2 = city_master[city_master['place'] == 'raisen'].index.item()\n",
    "i2 = np.where(city_master['place']=='raisen')\n",
    "#i3 = i1+i2\n",
    "print(type(i2))\n",
    "#print(i3)\n",
    "#c_m_s_list = [city_master['district']i1, city_master['district']i2, city_master['state']i1, city_master['state']i2]\n",
    "#print(c_m_s_list)\n",
    "city_master['district'][i1]\n"
   ]
  },
  {
   "cell_type": "code",
   "execution_count": 36,
   "id": "c92b29c9",
   "metadata": {},
   "outputs": [
    {
     "data": {
      "text/html": [
       "<div>\n",
       "<style scoped>\n",
       "    .dataframe tbody tr th:only-of-type {\n",
       "        vertical-align: middle;\n",
       "    }\n",
       "\n",
       "    .dataframe tbody tr th {\n",
       "        vertical-align: top;\n",
       "    }\n",
       "\n",
       "    .dataframe thead th {\n",
       "        text-align: right;\n",
       "    }\n",
       "</style>\n",
       "<table border=\"1\" class=\"dataframe\">\n",
       "  <thead>\n",
       "    <tr style=\"text-align: right;\">\n",
       "      <th></th>\n",
       "      <th>S.No</th>\n",
       "      <th>COMPANY NAME</th>\n",
       "      <th>ADD</th>\n",
       "      <th>CITY</th>\n",
       "      <th>PIN</th>\n",
       "      <th>STATE</th>\n",
       "      <th>CONTACT NO.</th>\n",
       "      <th>MOBILE No.</th>\n",
       "      <th>EMAIL</th>\n",
       "      <th>WEB</th>\n",
       "      <th>DETAILS</th>\n",
       "    </tr>\n",
       "  </thead>\n",
       "  <tbody>\n",
       "    <tr>\n",
       "      <th>657</th>\n",
       "      <td>81496</td>\n",
       "      <td>vishwakarma industries</td>\n",
       "      <td>village jagat khanna</td>\n",
       "      <td>0</td>\n",
       "      <td>0</td>\n",
       "      <td>Himachal pradesh</td>\n",
       "      <td>91-1795-265318</td>\n",
       "      <td>0</td>\n",
       "      <td>vishwakarna.hp1@gmail.com</td>\n",
       "      <td>www.vishwakarmagroups.com</td>\n",
       "      <td>Mfg Of Clean Room Equipment And Ss Fabricated ...</td>\n",
       "    </tr>\n",
       "  </tbody>\n",
       "</table>\n",
       "</div>"
      ],
      "text/plain": [
       "      S.No            COMPANY NAME                   ADD CITY  PIN  \\\n",
       "657  81496  vishwakarma industries  village jagat khanna    0    0   \n",
       "\n",
       "                STATE    CONTACT NO.  MOBILE No.                      EMAIL  \\\n",
       "657  Himachal pradesh  91-1795-265318          0  vishwakarna.hp1@gmail.com   \n",
       "\n",
       "                           WEB  \\\n",
       "657  www.vishwakarmagroups.com   \n",
       "\n",
       "                                               DETAILS  \n",
       "657  Mfg Of Clean Room Equipment And Ss Fabricated ...  "
      ]
     },
     "execution_count": 36,
     "metadata": {},
     "output_type": "execute_result"
    }
   ],
   "source": [
    "dff[657:658]"
   ]
  },
  {
   "cell_type": "code",
   "execution_count": 29,
   "id": "2c894e00",
   "metadata": {},
   "outputs": [
    {
     "name": "stdout",
     "output_type": "stream",
     "text": [
      "[('dera', 100), ('bassi', 100), ('sas', 31), ('bhagwanpur', 30), ('nagar', 27)]\n"
     ]
    }
   ],
   "source": [
    "ratio = process.extract('dera bassi', add_list, scorer = fuzz.token_set_ratio)\n",
    "print(ratio)"
   ]
  },
  {
   "cell_type": "code",
   "execution_count": 12,
   "id": "06114d02",
   "metadata": {},
   "outputs": [],
   "source": [
    "import difflib"
   ]
  },
  {
   "cell_type": "code",
   "execution_count": 38,
   "id": "d7a67662",
   "metadata": {},
   "outputs": [
    {
     "name": "stdout",
     "output_type": "stream",
     "text": [
      "[('Aljunied Avenue 1', 94), ('Aljunied Avenue 2', 88), ('Aljunied Avenue 3', 88)]\n",
      "[('Aljunid', 93), ('Aljunied', 88), ('Aljuniid', 88)]\n",
      "['Aljunid', 'Aljuniid', 'Aljunied']\n"
     ]
    }
   ],
   "source": [
    "correct_roadnames = [\"Aljunied Avenue 2\", \"Aljunied Avenue 1\", \"Aljunied Avenue 3\" ]\n",
    "correct_r = [\"Aljunied\", \"Aljunid\", \"Aljuniid\" ]\n",
    "print(process.extract(\"Aljuneid Avenue 1\", correct_roadnames))\n",
    "print(process.extract(\"Aljuneid\", correct_r))\n",
    "print(difflib.get_close_matches(\"Aljuneid\", correct_r))"
   ]
  },
  {
   "cell_type": "code",
   "execution_count": 37,
   "id": "2f0cfc12",
   "metadata": {},
   "outputs": [
    {
     "name": "stdout",
     "output_type": "stream",
     "text": [
      "86 86 86 86\n",
      "[('horiana', 86), ('haryana', 86), ('heriana', 86), ('haryanna', 80), ('heryana', 71)]\n",
      "['horiana', 'heriana', 'haryana']\n"
     ]
    }
   ],
   "source": [
    "d = fuzz.ratio('hariana', 'haryana')\n",
    "e = fuzz.partial_ratio('hariana', 'haryana')\n",
    "f = fuzz.token_sort_ratio('hariana', 'haryana')\n",
    "g = fuzz.token_set_ratio('hariana', 'haryana')\n",
    "\n",
    "choices = ['horiana', 'haryana', 'haryanna', 'heryana', 'heriana'] #, 'gas', 'godown', 'bhayandar', 'kashi', 'mira', 'road', 'bhayandar', 'east']\n",
    "h = process.extract('hariana', choices)\n",
    "i = difflib.get_close_matches('hariana', choices, n=3, cutoff = .85)\n",
    "\n",
    "print(d, e, f, g)\n",
    "print(h)\n",
    "print(i)"
   ]
  },
  {
   "cell_type": "code",
   "execution_count": 30,
   "id": "06997e78",
   "metadata": {},
   "outputs": [
    {
     "name": "stdout",
     "output_type": "stream",
     "text": [
      "94 88 94 94\n",
      "[('mira road', 94), ('bhayandar', 35), ('bhayandar', 35)]\n",
      "['mira road']\n"
     ]
    }
   ],
   "source": [
    "d = fuzz.ratio('miraroad', 'mira road')\n",
    "e = fuzz.partial_ratio('miraroad', 'mira road')\n",
    "f = fuzz.token_sort_ratio('miraroad', 'mira road')\n",
    "g = fuzz.token_set_ratio('miraroad', 'mira road')\n",
    "\n",
    "choices = ['dera bassi', 'bassi', 'industrial', 'estate', 'behind', 'gas', 'godown', 'bhayandar', 'kashi', 'mira road', 'bhayandar', 'east']\n",
    "\n",
    "h = process.extract('miraroad', choices, limit=3)\n",
    "i = difflib.get_close_matches('miraroad', choices, cutoff=.9)\n",
    "print(d, e, f, g)\n",
    "print(h)\n",
    "print(i)"
   ]
  },
  {
   "cell_type": "code",
   "execution_count": 10,
   "id": "2ef9bfae",
   "metadata": {},
   "outputs": [
    {
     "name": "stdout",
     "output_type": "stream",
     "text": [
      "Laxmi Nagar (Nagpur), Trimurti Nagar, Ranapratap Nagar, Shradhananpeth\n",
      "Nagpur\n",
      "Nagpur\n"
     ]
    }
   ],
   "source": [
    "nomi = pgeocode.Nominatim('in')\n",
    "oout = nomi.query_postal_code(\"440022\")\n",
    "print(oout[2])\n",
    "print(oout[5])\n",
    "print(oout[7])"
   ]
  },
  {
   "cell_type": "code",
   "execution_count": 12,
   "id": "69e68ece",
   "metadata": {},
   "outputs": [
    {
     "data": {
      "text/html": [
       "<div>\n",
       "<style scoped>\n",
       "    .dataframe tbody tr th:only-of-type {\n",
       "        vertical-align: middle;\n",
       "    }\n",
       "\n",
       "    .dataframe tbody tr th {\n",
       "        vertical-align: top;\n",
       "    }\n",
       "\n",
       "    .dataframe thead th {\n",
       "        text-align: right;\n",
       "    }\n",
       "</style>\n",
       "<table border=\"1\" class=\"dataframe\">\n",
       "  <thead>\n",
       "    <tr style=\"text-align: right;\">\n",
       "      <th></th>\n",
       "      <th>place</th>\n",
       "      <th>district</th>\n",
       "      <th>state</th>\n",
       "      <th>std_code</th>\n",
       "      <th>region</th>\n",
       "    </tr>\n",
       "  </thead>\n",
       "  <tbody>\n",
       "    <tr>\n",
       "      <th>0</th>\n",
       "      <td>a.thirumuruganpoondi</td>\n",
       "      <td>coimbatore</td>\n",
       "      <td>tamil nadu</td>\n",
       "      <td>NaN</td>\n",
       "      <td>NaN</td>\n",
       "    </tr>\n",
       "    <tr>\n",
       "      <th>1</th>\n",
       "      <td>a.vellalapatti</td>\n",
       "      <td>madurai</td>\n",
       "      <td>tamil nadu</td>\n",
       "      <td>NaN</td>\n",
       "      <td>NaN</td>\n",
       "    </tr>\n",
       "    <tr>\n",
       "      <th>2</th>\n",
       "      <td>aadityana</td>\n",
       "      <td>porbandar</td>\n",
       "      <td>gujarat</td>\n",
       "      <td>NaN</td>\n",
       "      <td>NaN</td>\n",
       "    </tr>\n",
       "  </tbody>\n",
       "</table>\n",
       "</div>"
      ],
      "text/plain": [
       "                  place    district       state  std_code region\n",
       "0  a.thirumuruganpoondi  coimbatore  tamil nadu       NaN    NaN\n",
       "1        a.vellalapatti     madurai  tamil nadu       NaN    NaN\n",
       "2             aadityana   porbandar     gujarat       NaN    NaN"
      ]
     },
     "execution_count": 12,
     "metadata": {},
     "output_type": "execute_result"
    }
   ],
   "source": [
    "city_master = pd.read_excel('place_list.xlsx', header=0)\n",
    "city_master.head(3)"
   ]
  },
  {
   "cell_type": "code",
   "execution_count": 291,
   "id": "90ba3c7a",
   "metadata": {},
   "outputs": [
    {
     "name": "stdout",
     "output_type": "stream",
     "text": [
      "4\n",
      "['nariyal', 'bazar', 'meston', 'road']\n"
     ]
    }
   ],
   "source": [
    "add = invalid_pin_wout_city_state['ADD'][112].split()\n",
    "print(len(add))\n",
    "print(add)\n"
   ]
  },
  {
   "cell_type": "code",
   "execution_count": 214,
   "id": "48735e9f",
   "metadata": {},
   "outputs": [
    {
     "name": "stdout",
     "output_type": "stream",
     "text": [
      "('bareilly', 100)\n",
      "None\n",
      "('indergarh', 72)\n",
      "('colvale', 71)\n"
     ]
    }
   ],
   "source": [
    "city_list = city_master['place'].tolist()\n",
    "for i in (add):\n",
    "    first_letter = i[0:2]\n",
    "    cities = [c for c in city_list if c.startswith(first_letter)]\n",
    "    m_ratio = process.extractOne(i, cities) #, scorer = fuzz.partial_ratio)\n",
    "    print(m_ratio)"
   ]
  },
  {
   "cell_type": "code",
   "execution_count": 230,
   "id": "849e9791",
   "metadata": {},
   "outputs": [
    {
     "data": {
      "text/plain": [
       "Int64Index([], dtype='int64')"
      ]
     },
     "execution_count": 230,
     "metadata": {},
     "output_type": "execute_result"
    }
   ],
   "source": [
    "idd = invalid_pin_wout_city_state.index[invalid_pin_wout_city_state['ADD'] == '']  # no space\n",
    "idd "
   ]
  },
  {
   "cell_type": "code",
   "execution_count": 232,
   "id": "def61753",
   "metadata": {},
   "outputs": [
    {
     "data": {
      "text/plain": [
       "Int64Index([   9,   10,   11,  122,  127,  128,  143,  147,  148,  149,\n",
       "            ...\n",
       "            2272, 2273, 2280, 2285, 2311, 2342, 2353, 2354, 2355, 3585],\n",
       "           dtype='int64', length=362)"
      ]
     },
     "execution_count": 232,
     "metadata": {},
     "output_type": "execute_result"
    }
   ],
   "source": [
    "idd = invalid_pin_wout_city_state.index[invalid_pin_wout_city_state['ADD'] == ' ']  # 1 space\n",
    "idd"
   ]
  },
  {
   "cell_type": "code",
   "execution_count": 233,
   "id": "4926ed15",
   "metadata": {},
   "outputs": [
    {
     "data": {
      "text/plain": [
       "Int64Index([3584], dtype='int64')"
      ]
     },
     "execution_count": 233,
     "metadata": {},
     "output_type": "execute_result"
    }
   ],
   "source": [
    "idd = invalid_pin_wout_city_state.index[invalid_pin_wout_city_state['ADD'] == '  ']  # 2 spaces\n",
    "idd"
   ]
  },
  {
   "cell_type": "code",
   "execution_count": 234,
   "id": "095cb901",
   "metadata": {},
   "outputs": [
    {
     "data": {
      "text/plain": [
       "Int64Index([  12,   14, 3163, 3167, 3169, 3171, 3173, 3176, 3181, 3182, 3189,\n",
       "            3197, 3200, 3204, 3206, 3211, 3213, 3303, 3304, 3305, 3306, 3307,\n",
       "            3308, 3309, 3310, 3311, 3312, 3313, 3314, 3315, 3316, 3317, 3318,\n",
       "            3319, 3320, 3321, 3322, 3323, 3324, 3352, 3353, 3354, 3355, 3357,\n",
       "            3358, 3359, 3361, 3362, 3363, 3590],\n",
       "           dtype='int64')"
      ]
     },
     "execution_count": 234,
     "metadata": {},
     "output_type": "execute_result"
    }
   ],
   "source": [
    "idd = invalid_pin_wout_city_state.index[invalid_pin_wout_city_state['ADD'] == '   ']  # 3 spaces\n",
    "idd"
   ]
  },
  {
   "cell_type": "code",
   "execution_count": 236,
   "id": "ac387275",
   "metadata": {},
   "outputs": [
    {
     "data": {
      "text/plain": [
       "Int64Index([3365, 3366, 3367, 3368, 3370, 3372, 3373, 3374, 3375, 3376, 3384], dtype='int64')"
      ]
     },
     "execution_count": 236,
     "metadata": {},
     "output_type": "execute_result"
    }
   ],
   "source": [
    "idd = invalid_pin_wout_city_state.index[invalid_pin_wout_city_state['ADD'] == '    ']  # 4 spaces\n",
    "idd"
   ]
  },
  {
   "cell_type": "code",
   "execution_count": 238,
   "id": "805c444d",
   "metadata": {},
   "outputs": [
    {
     "data": {
      "text/plain": [
       "Int64Index([], dtype='int64')"
      ]
     },
     "execution_count": 238,
     "metadata": {},
     "output_type": "execute_result"
    }
   ],
   "source": [
    "idd = invalid_pin_wout_city_state.index[invalid_pin_wout_city_state['ADD'] == '     ']  # 5 spaces\n",
    "idd"
   ]
  },
  {
   "cell_type": "code",
   "execution_count": 239,
   "id": "8075663e",
   "metadata": {},
   "outputs": [
    {
     "data": {
      "text/plain": [
       "Int64Index([], dtype='int64')"
      ]
     },
     "execution_count": 239,
     "metadata": {},
     "output_type": "execute_result"
    }
   ],
   "source": [
    "idd = invalid_pin_wout_city_state.index[invalid_pin_wout_city_state['ADD'] == '      ']  # 6 spaces\n",
    "idd "
   ]
  },
  {
   "cell_type": "code",
   "execution_count": 349,
   "id": "54d598f8",
   "metadata": {},
   "outputs": [],
   "source": [
    "invalid_pin_wout_city_state['ADD'] = invalid_pin_wout_city_state['ADD'].replace('nan', '', regex=True) \n",
    "invalid_pin_wout_city_state['ADD'] = invalid_pin_wout_city_state['ADD'].replace('nil', '', regex=True) \n",
    "\n",
    "df = invalid_pin_wout_city_state[invalid_pin_wout_city_state['ADD'].str.strip().astype(bool)]\n",
    "df_1 = invalid_pin_wout_city_state[~invalid_pin_wout_city_state['ADD'].str.strip().astype(bool)]"
   ]
  },
  {
   "cell_type": "code",
   "execution_count": 355,
   "id": "c3150606",
   "metadata": {},
   "outputs": [
    {
     "name": "stdout",
     "output_type": "stream",
     "text": [
      "4078\n",
      "2335\n",
      "1743\n"
     ]
    }
   ],
   "source": [
    "print(len(invalid_pin_wout_city_state))\n",
    "print(len(df))\n",
    "print(len(df_1))"
   ]
  },
  {
   "cell_type": "code",
   "execution_count": 353,
   "id": "ae0320fc",
   "metadata": {},
   "outputs": [
    {
     "data": {
      "text/plain": [
       "''"
      ]
     },
     "execution_count": 353,
     "metadata": {},
     "output_type": "execute_result"
    }
   ],
   "source": [
    "df_1['ADD'][4000]"
   ]
  },
  {
   "cell_type": "code",
   "execution_count": 282,
   "id": "afa96413",
   "metadata": {},
   "outputs": [
    {
     "ename": "SyntaxError",
     "evalue": "cannot assign to literal (<ipython-input-282-1e4d1f265ceb>, line 1)",
     "output_type": "error",
     "traceback": [
      "\u001b[1;36m  File \u001b[1;32m\"<ipython-input-282-1e4d1f265ceb>\"\u001b[1;36m, line \u001b[1;32m1\u001b[0m\n\u001b[1;33m    7 = 'nan', 9 = [], 4000 = 'nil',\u001b[0m\n\u001b[1;37m    ^\u001b[0m\n\u001b[1;31mSyntaxError\u001b[0m\u001b[1;31m:\u001b[0m cannot assign to literal\n"
     ]
    }
   ],
   "source": [
    "7 = 'nan', 9 = [], 4000 = 'nil', "
   ]
  },
  {
   "cell_type": "code",
   "execution_count": 297,
   "id": "44fc7369",
   "metadata": {},
   "outputs": [],
   "source": [
    "a = np.nan"
   ]
  },
  {
   "cell_type": "code",
   "execution_count": 329,
   "id": "5b056fb5",
   "metadata": {},
   "outputs": [
    {
     "data": {
      "text/plain": [
       "4078"
      ]
     },
     "execution_count": 329,
     "metadata": {},
     "output_type": "execute_result"
    }
   ],
   "source": [
    "len(invalid_pin_wout_city_state)"
   ]
  },
  {
   "cell_type": "code",
   "execution_count": null,
   "id": "47421b43",
   "metadata": {},
   "outputs": [],
   "source": []
  }
 ],
 "metadata": {
  "kernelspec": {
   "display_name": "Python 3",
   "language": "python",
   "name": "python3"
  },
  "language_info": {
   "codemirror_mode": {
    "name": "ipython",
    "version": 3
   },
   "file_extension": ".py",
   "mimetype": "text/x-python",
   "name": "python",
   "nbconvert_exporter": "python",
   "pygments_lexer": "ipython3",
   "version": "3.9.5"
  }
 },
 "nbformat": 4,
 "nbformat_minor": 5
}
