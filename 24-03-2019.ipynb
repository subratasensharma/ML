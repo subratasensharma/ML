{
 "cells": [
  {
   "cell_type": "code",
   "execution_count": 1,
   "metadata": {},
   "outputs": [
    {
     "name": "stderr",
     "output_type": "stream",
     "text": [
      "Using TensorFlow backend.\n"
     ]
    }
   ],
   "source": [
    "import pandas as pd\n",
    "import numpy as np\n",
    "import matplotlib.pyplot as plt\n",
    "import seaborn as sns\n",
    "from sklearn.model_selection import train_test_split\n",
    "from sklearn.preprocessing import LabelEncoder\n",
    "from keras.models import Model\n",
    "from keras.layers import LSTM, Activation, Dense, Dropout, Input, Embedding, SpatialDropout1D, GRU\n",
    "from keras.optimizers import RMSprop\n",
    "from keras.preprocessing.text import Tokenizer\n",
    "\n",
    "from keras.preprocessing import sequence\n",
    "from keras.preprocessing.sequence import pad_sequences\n",
    "from keras.utils import to_categorical\n",
    "from keras.callbacks import EarlyStopping\n",
    "%matplotlib inline\n"
   ]
  },
  {
   "cell_type": "code",
   "execution_count": 2,
   "metadata": {},
   "outputs": [],
   "source": [
    "import warnings\n",
    "warnings.filterwarnings(\"ignore\")"
   ]
  },
  {
   "cell_type": "code",
   "execution_count": 33,
   "metadata": {},
   "outputs": [
    {
     "data": {
      "text/html": [
       "<div>\n",
       "<style scoped>\n",
       "    .dataframe tbody tr th:only-of-type {\n",
       "        vertical-align: middle;\n",
       "    }\n",
       "\n",
       "    .dataframe tbody tr th {\n",
       "        vertical-align: top;\n",
       "    }\n",
       "\n",
       "    .dataframe thead th {\n",
       "        text-align: right;\n",
       "    }\n",
       "</style>\n",
       "<table border=\"1\" class=\"dataframe\">\n",
       "  <thead>\n",
       "    <tr style=\"text-align: right;\">\n",
       "      <th></th>\n",
       "      <th>supplier_item_id</th>\n",
       "      <th>to_company_name</th>\n",
       "      <th>supplier_item_id.1</th>\n",
       "      <th>supplier_item_id.2</th>\n",
       "      <th>product</th>\n",
       "      <th>supplier</th>\n",
       "      <th>Done</th>\n",
       "      <th>Atul Sugg.</th>\n",
       "      <th>sub_type</th>\n",
       "      <th>material</th>\n",
       "      <th>process</th>\n",
       "      <th>grade</th>\n",
       "      <th>spec</th>\n",
       "      <th>brand</th>\n",
       "    </tr>\n",
       "  </thead>\n",
       "  <tbody>\n",
       "    <tr>\n",
       "      <th>13552</th>\n",
       "      <td>86390</td>\n",
       "      <td>CESARE BONETTI INTERNATIONAL PVT. LTD.</td>\n",
       "      <td>86390</td>\n",
       "      <td>YOKE SLEEVE;8\" # 150;GTV;  B150 C62300</td>\n",
       "      <td>YOKE SLEEVE</td>\n",
       "      <td>CESARE BONETTI INDIA PVT. LTD.</td>\n",
       "      <td>278.0</td>\n",
       "      <td>NaN</td>\n",
       "      <td>NaN</td>\n",
       "      <td>NaN</td>\n",
       "      <td>NaN</td>\n",
       "      <td>C62300</td>\n",
       "      <td>NaN</td>\n",
       "      <td>NaN</td>\n",
       "    </tr>\n",
       "    <tr>\n",
       "      <th>13553</th>\n",
       "      <td>89723</td>\n",
       "      <td>CESARE BONETTI INTERNATIONAL PVT. LTD.</td>\n",
       "      <td>89723</td>\n",
       "      <td>YOKE SLEEVE 1½\" #2700 BLY;B150 C62300</td>\n",
       "      <td>YOKE SLEEVE</td>\n",
       "      <td>CESARE BONETTI INDIA PVT. LTD.</td>\n",
       "      <td>278.0</td>\n",
       "      <td>NaN</td>\n",
       "      <td>NaN</td>\n",
       "      <td>NaN</td>\n",
       "      <td>NaN</td>\n",
       "      <td>C62300</td>\n",
       "      <td>NaN</td>\n",
       "      <td>NaN</td>\n",
       "    </tr>\n",
       "    <tr>\n",
       "      <th>13554</th>\n",
       "      <td>89995</td>\n",
       "      <td>CESARE BONETTI INTERNATIONAL PVT. LTD.</td>\n",
       "      <td>89995</td>\n",
       "      <td>YOKE SLEEVE;4\" #150 GTV; B150 C62300</td>\n",
       "      <td>YOKE SLEEVE</td>\n",
       "      <td>CESARE BONETTI INDIA PVT. LTD.</td>\n",
       "      <td>278.0</td>\n",
       "      <td>NaN</td>\n",
       "      <td>NaN</td>\n",
       "      <td>NaN</td>\n",
       "      <td>NaN</td>\n",
       "      <td>C62300</td>\n",
       "      <td>NaN</td>\n",
       "      <td>NaN</td>\n",
       "    </tr>\n",
       "    <tr>\n",
       "      <th>13555</th>\n",
       "      <td>117819</td>\n",
       "      <td>WAAREE INDUSTRIES PVT. LTD.</td>\n",
       "      <td>117819</td>\n",
       "      <td>YOKE SLEEVE;8\" # 150;GTV;  A439 D2</td>\n",
       "      <td>cicasting</td>\n",
       "      <td>Waaree Industries Pvt.Ltd.</td>\n",
       "      <td>278.0</td>\n",
       "      <td>NaN</td>\n",
       "      <td>NaN</td>\n",
       "      <td>NaN</td>\n",
       "      <td>NaN</td>\n",
       "      <td>NaN</td>\n",
       "      <td>NaN</td>\n",
       "      <td>NaN</td>\n",
       "    </tr>\n",
       "    <tr>\n",
       "      <th>13556</th>\n",
       "      <td>169292</td>\n",
       "      <td>CESARE BONETTI INTERNATIONAL PVT. LTD.</td>\n",
       "      <td>169292</td>\n",
       "      <td>YOKE SLEEVE; 1\";#1500;CBD;A582 T416</td>\n",
       "      <td>YOKE SLEEVE</td>\n",
       "      <td>CESARE BONETTI INDIA PVT. LTD.</td>\n",
       "      <td>278.0</td>\n",
       "      <td>NaN</td>\n",
       "      <td>NaN</td>\n",
       "      <td>NaN</td>\n",
       "      <td>NaN</td>\n",
       "      <td>NaN</td>\n",
       "      <td>NaN</td>\n",
       "      <td>NaN</td>\n",
       "    </tr>\n",
       "  </tbody>\n",
       "</table>\n",
       "</div>"
      ],
      "text/plain": [
       "       supplier_item_id                         to_company_name  \\\n",
       "13552             86390  CESARE BONETTI INTERNATIONAL PVT. LTD.   \n",
       "13553             89723  CESARE BONETTI INTERNATIONAL PVT. LTD.   \n",
       "13554             89995  CESARE BONETTI INTERNATIONAL PVT. LTD.   \n",
       "13555            117819             WAAREE INDUSTRIES PVT. LTD.   \n",
       "13556            169292  CESARE BONETTI INTERNATIONAL PVT. LTD.   \n",
       "\n",
       "       supplier_item_id.1                      supplier_item_id.2  \\\n",
       "13552               86390  YOKE SLEEVE;8\" # 150;GTV;  B150 C62300   \n",
       "13553               89723   YOKE SLEEVE 1½\" #2700 BLY;B150 C62300   \n",
       "13554               89995    YOKE SLEEVE;4\" #150 GTV; B150 C62300   \n",
       "13555              117819      YOKE SLEEVE;8\" # 150;GTV;  A439 D2   \n",
       "13556              169292     YOKE SLEEVE; 1\";#1500;CBD;A582 T416   \n",
       "\n",
       "           product                        supplier   Done Atul Sugg. sub_type  \\\n",
       "13552  YOKE SLEEVE  CESARE BONETTI INDIA PVT. LTD.  278.0        NaN      NaN   \n",
       "13553  YOKE SLEEVE  CESARE BONETTI INDIA PVT. LTD.  278.0        NaN      NaN   \n",
       "13554  YOKE SLEEVE  CESARE BONETTI INDIA PVT. LTD.  278.0        NaN      NaN   \n",
       "13555    cicasting      Waaree Industries Pvt.Ltd.  278.0        NaN      NaN   \n",
       "13556  YOKE SLEEVE  CESARE BONETTI INDIA PVT. LTD.  278.0        NaN      NaN   \n",
       "\n",
       "      material process   grade  spec brand  \n",
       "13552      NaN     NaN  C62300   NaN   NaN  \n",
       "13553      NaN     NaN  C62300   NaN   NaN  \n",
       "13554      NaN     NaN  C62300   NaN   NaN  \n",
       "13555      NaN     NaN     NaN   NaN   NaN  \n",
       "13556      NaN     NaN     NaN   NaN   NaN  "
      ]
     },
     "execution_count": 33,
     "metadata": {},
     "output_type": "execute_result"
    }
   ],
   "source": [
    "## Loading Data - labelled data:\n",
    "\n",
    "data_1 = pd.ExcelFile('RNN_Tranzact_Rohan_1_Regrouped_with_supplier.xlsx')\n",
    "tranzact_data_1 = data_1.parse(0)\n",
    "\n",
    "tranzact_data_1.tail()"
   ]
  },
  {
   "cell_type": "code",
   "execution_count": 34,
   "metadata": {},
   "outputs": [
    {
     "data": {
      "text/html": [
       "<div>\n",
       "<style scoped>\n",
       "    .dataframe tbody tr th:only-of-type {\n",
       "        vertical-align: middle;\n",
       "    }\n",
       "\n",
       "    .dataframe tbody tr th {\n",
       "        vertical-align: top;\n",
       "    }\n",
       "\n",
       "    .dataframe thead th {\n",
       "        text-align: right;\n",
       "    }\n",
       "</style>\n",
       "<table border=\"1\" class=\"dataframe\">\n",
       "  <thead>\n",
       "    <tr style=\"text-align: right;\">\n",
       "      <th></th>\n",
       "      <th>buyer_item_id</th>\n",
       "      <th>buyer_itemid</th>\n",
       "      <th>buyer_item_name</th>\n",
       "      <th>from_company_id</th>\n",
       "      <th>from_company_name</th>\n",
       "      <th>to_company_id</th>\n",
       "      <th>to_company_name</th>\n",
       "    </tr>\n",
       "  </thead>\n",
       "  <tbody>\n",
       "    <tr>\n",
       "      <th>17763</th>\n",
       "      <td>289052</td>\n",
       "      <td>PLYBAG_10X15</td>\n",
       "      <td>POLYBAG_10X15 INCH_PP</td>\n",
       "      <td>13872</td>\n",
       "      <td>R-Tech Products &amp; Packaging Pvt Ltd</td>\n",
       "      <td>16730</td>\n",
       "      <td>GLORY PACK INDUSTRIES</td>\n",
       "    </tr>\n",
       "    <tr>\n",
       "      <th>17764</th>\n",
       "      <td>289639</td>\n",
       "      <td>HANDLENUTM12X5MMXX</td>\n",
       "      <td>HANDLE NUT 1\" #600,HTB,A194 Gr8</td>\n",
       "      <td>842</td>\n",
       "      <td>CESARE BONETTI INDIA PVT. LTD.</td>\n",
       "      <td>7434</td>\n",
       "      <td>Shah Brothers</td>\n",
       "    </tr>\n",
       "    <tr>\n",
       "      <th>17765</th>\n",
       "      <td>48512</td>\n",
       "      <td>RDBR50 (SS431)</td>\n",
       "      <td>ROUND BAR OD50 ASTM A276 TYPE 431</td>\n",
       "      <td>114</td>\n",
       "      <td>Entech Controls</td>\n",
       "      <td>921</td>\n",
       "      <td>ALPESH METALS</td>\n",
       "    </tr>\n",
       "    <tr>\n",
       "      <th>17766</th>\n",
       "      <td>57696</td>\n",
       "      <td>PGX618101601202200</td>\n",
       "      <td>PTV 6\" #300 RF BVE WCB HW IBR</td>\n",
       "      <td>7506</td>\n",
       "      <td>CESARE BONETTI INTERNATIONAL PVT. LTD.</td>\n",
       "      <td>842</td>\n",
       "      <td>CESARE BONETTI INDIA PVT. LTD.</td>\n",
       "    </tr>\n",
       "    <tr>\n",
       "      <th>17767</th>\n",
       "      <td>274954</td>\n",
       "      <td>PPBOX_ST5</td>\n",
       "      <td>PP_MONOBOX_ST5</td>\n",
       "      <td>13872</td>\n",
       "      <td>R-Tech Products &amp; Packaging Pvt Ltd</td>\n",
       "      <td>15527</td>\n",
       "      <td>Shree Arun Packaging Co. Pvt. Ltd.</td>\n",
       "    </tr>\n",
       "  </tbody>\n",
       "</table>\n",
       "</div>"
      ],
      "text/plain": [
       "       buyer_item_id        buyer_itemid                    buyer_item_name  \\\n",
       "17763         289052        PLYBAG_10X15              POLYBAG_10X15 INCH_PP   \n",
       "17764         289639  HANDLENUTM12X5MMXX    HANDLE NUT 1\" #600,HTB,A194 Gr8   \n",
       "17765          48512      RDBR50 (SS431)  ROUND BAR OD50 ASTM A276 TYPE 431   \n",
       "17766          57696  PGX618101601202200      PTV 6\" #300 RF BVE WCB HW IBR   \n",
       "17767         274954           PPBOX_ST5                     PP_MONOBOX_ST5   \n",
       "\n",
       "      from_company_id                       from_company_name to_company_id  \\\n",
       "17763           13872     R-Tech Products & Packaging Pvt Ltd         16730   \n",
       "17764             842          CESARE BONETTI INDIA PVT. LTD.          7434   \n",
       "17765             114                         Entech Controls           921   \n",
       "17766            7506  CESARE BONETTI INTERNATIONAL PVT. LTD.           842   \n",
       "17767           13872     R-Tech Products & Packaging Pvt Ltd         15527   \n",
       "\n",
       "                          to_company_name  \n",
       "17763               GLORY PACK INDUSTRIES  \n",
       "17764                       Shah Brothers  \n",
       "17765                       ALPESH METALS  \n",
       "17766      CESARE BONETTI INDIA PVT. LTD.  \n",
       "17767  Shree Arun Packaging Co. Pvt. Ltd.  "
      ]
     },
     "execution_count": 34,
     "metadata": {},
     "output_type": "execute_result"
    }
   ],
   "source": [
    "## Loading Data - un-labelled data:\n",
    "\n",
    "data_2 = pd.ExcelFile('14Mar_Gorky.xlsx')\n",
    "tranzact_data_new_1 = data_2.parse(0)\n",
    "\n",
    "tranzact_data_new_1.tail()"
   ]
  },
  {
   "cell_type": "code",
   "execution_count": 35,
   "metadata": {},
   "outputs": [
    {
     "name": "stdout",
     "output_type": "stream",
     "text": [
      "1754\n",
      "11803\n"
     ]
    },
    {
     "data": {
      "text/html": [
       "<div>\n",
       "<style scoped>\n",
       "    .dataframe tbody tr th:only-of-type {\n",
       "        vertical-align: middle;\n",
       "    }\n",
       "\n",
       "    .dataframe tbody tr th {\n",
       "        vertical-align: top;\n",
       "    }\n",
       "\n",
       "    .dataframe thead th {\n",
       "        text-align: right;\n",
       "    }\n",
       "</style>\n",
       "<table border=\"1\" class=\"dataframe\">\n",
       "  <thead>\n",
       "    <tr style=\"text-align: right;\">\n",
       "      <th></th>\n",
       "      <th>OEM</th>\n",
       "      <th>item</th>\n",
       "      <th>product</th>\n",
       "      <th>supplier</th>\n",
       "      <th>find_duplicate</th>\n",
       "    </tr>\n",
       "  </thead>\n",
       "  <tbody>\n",
       "    <tr>\n",
       "      <th>11798</th>\n",
       "      <td>CESARE BONETTI INDIA PVT. LTD.</td>\n",
       "      <td>YOKE CASTING 12\" #2500 GTV, SA216 WCC, QAP</td>\n",
       "      <td>CS CASTING</td>\n",
       "      <td>AMI Alloys</td>\n",
       "      <td>YOKE CASTING 12\" #2500 GTV, SA216 WCC, QAPAMI ...</td>\n",
       "    </tr>\n",
       "    <tr>\n",
       "      <th>11799</th>\n",
       "      <td>CESARE BONETTI INDIA PVT. LTD.</td>\n",
       "      <td>YOKE CAST, 3\" #2500 GTV, SA216 WCC, QAP</td>\n",
       "      <td>CS CASTING</td>\n",
       "      <td>Tulip Casting Pvt. Ltd.</td>\n",
       "      <td>YOKE CAST, 3\" #2500 GTV, SA216 WCC, QAPTulip C...</td>\n",
       "    </tr>\n",
       "    <tr>\n",
       "      <th>11800</th>\n",
       "      <td>CESARE BONETTI INDIA PVT. LTD.</td>\n",
       "      <td>YOKE CASTING 12\" #2500 GTV, SA217 C12A, QAP</td>\n",
       "      <td>ALLOY STEEL CASTING</td>\n",
       "      <td>AMI Alloys</td>\n",
       "      <td>YOKE CASTING 12\" #2500 GTV, SA217 C12A, QAPAMI...</td>\n",
       "    </tr>\n",
       "    <tr>\n",
       "      <th>11801</th>\n",
       "      <td>CESARE BONETTI INDIA PVT. LTD.</td>\n",
       "      <td>YOKE CAST 10\" #150 TCV; A217WC6</td>\n",
       "      <td>ALLOY STEEL CASTING</td>\n",
       "      <td>RAJ ENGINEERS</td>\n",
       "      <td>YOKE CAST 10\" #150 TCV; A217WC6RAJ ENGINEERS</td>\n",
       "    </tr>\n",
       "    <tr>\n",
       "      <th>11802</th>\n",
       "      <td>WAAREE INDUSTRIES PVT. LTD.</td>\n",
       "      <td>YOKE SLEEVE;8\" # 150;GTV;  A439 D2</td>\n",
       "      <td>cicasting</td>\n",
       "      <td>Waaree Industries Pvt.Ltd.</td>\n",
       "      <td>YOKE SLEEVE;8\" # 150;GTV;  A439 D2Waaree Indus...</td>\n",
       "    </tr>\n",
       "  </tbody>\n",
       "</table>\n",
       "</div>"
      ],
      "text/plain": [
       "                                  OEM  \\\n",
       "11798  CESARE BONETTI INDIA PVT. LTD.   \n",
       "11799  CESARE BONETTI INDIA PVT. LTD.   \n",
       "11800  CESARE BONETTI INDIA PVT. LTD.   \n",
       "11801  CESARE BONETTI INDIA PVT. LTD.   \n",
       "11802     WAAREE INDUSTRIES PVT. LTD.   \n",
       "\n",
       "                                              item              product  \\\n",
       "11798   YOKE CASTING 12\" #2500 GTV, SA216 WCC, QAP           CS CASTING   \n",
       "11799      YOKE CAST, 3\" #2500 GTV, SA216 WCC, QAP           CS CASTING   \n",
       "11800  YOKE CASTING 12\" #2500 GTV, SA217 C12A, QAP  ALLOY STEEL CASTING   \n",
       "11801              YOKE CAST 10\" #150 TCV; A217WC6  ALLOY STEEL CASTING   \n",
       "11802           YOKE SLEEVE;8\" # 150;GTV;  A439 D2            cicasting   \n",
       "\n",
       "                         supplier  \\\n",
       "11798                  AMI Alloys   \n",
       "11799     Tulip Casting Pvt. Ltd.   \n",
       "11800                  AMI Alloys   \n",
       "11801               RAJ ENGINEERS   \n",
       "11802  Waaree Industries Pvt.Ltd.   \n",
       "\n",
       "                                          find_duplicate  \n",
       "11798  YOKE CASTING 12\" #2500 GTV, SA216 WCC, QAPAMI ...  \n",
       "11799  YOKE CAST, 3\" #2500 GTV, SA216 WCC, QAPTulip C...  \n",
       "11800  YOKE CASTING 12\" #2500 GTV, SA217 C12A, QAPAMI...  \n",
       "11801       YOKE CAST 10\" #150 TCV; A217WC6RAJ ENGINEERS  \n",
       "11802  YOKE SLEEVE;8\" # 150;GTV;  A439 D2Waaree Indus...  "
      ]
     },
     "execution_count": 35,
     "metadata": {},
     "output_type": "execute_result"
    }
   ],
   "source": [
    "## Picking up required info from labelled data:\n",
    "\n",
    "col = ['to_company_name', 'supplier_item_id.2', 'product', 'supplier']\n",
    "tranzact_data_2 = tranzact_data_1[col]\n",
    "tranzact_data_2.columns = ['OEM', 'item', 'product', 'supplier']\n",
    "\n",
    "## Removing duplicate (item + supplier) combinations :\n",
    "\n",
    "tranzact_data_2['find_duplicate'] = tranzact_data_2['item'].map(str)+tranzact_data_2['supplier'].map(str)\n",
    "tranzact_data_2.drop_duplicates(subset='find_duplicate', keep = 'first', inplace = True)\n",
    "tranzact_data_2 = tranzact_data_2.reset_index(drop=True)\n",
    "\n",
    "# Creating separate dataframe for Cesare Bonetti International Pvt. Ltd. since these are unlabelled :\n",
    "\n",
    "tranzact_data_2_cesare_international = tranzact_data_2.loc[tranzact_data_2['OEM'] \\\n",
    "                                                               == 'CESARE BONETTI INTERNATIONAL PVT. LTD.']\n",
    "\n",
    "tranzact_data_labelled = tranzact_data_2.drop(tranzact_data_2_cesare_international.index)\n",
    "\n",
    "tranzact_data_2_cesare_international = tranzact_data_2_cesare_international.reset_index(drop=True)\n",
    "tranzact_data_labelled = tranzact_data_labelled.reset_index(drop=True)\n",
    "\n",
    "print(len(tranzact_data_2_cesare_international))\n",
    "        \n",
    "print(len(tranzact_data_labelled))\n",
    "\n",
    "tranzact_data_labelled.tail()"
   ]
  },
  {
   "cell_type": "code",
   "execution_count": 36,
   "metadata": {},
   "outputs": [
    {
     "name": "stdout",
     "output_type": "stream",
     "text": [
      "17405\n"
     ]
    },
    {
     "data": {
      "text/html": [
       "<div>\n",
       "<style scoped>\n",
       "    .dataframe tbody tr th:only-of-type {\n",
       "        vertical-align: middle;\n",
       "    }\n",
       "\n",
       "    .dataframe tbody tr th {\n",
       "        vertical-align: top;\n",
       "    }\n",
       "\n",
       "    .dataframe thead th {\n",
       "        text-align: right;\n",
       "    }\n",
       "</style>\n",
       "<table border=\"1\" class=\"dataframe\">\n",
       "  <thead>\n",
       "    <tr style=\"text-align: right;\">\n",
       "      <th></th>\n",
       "      <th>OEM</th>\n",
       "      <th>item</th>\n",
       "      <th>supplier</th>\n",
       "      <th>find_duplicate</th>\n",
       "    </tr>\n",
       "  </thead>\n",
       "  <tbody>\n",
       "    <tr>\n",
       "      <th>17400</th>\n",
       "      <td>R-Tech Products &amp; Packaging Pvt Ltd</td>\n",
       "      <td>POLYBAG_10X15 INCH_PP</td>\n",
       "      <td>GLORY PACK INDUSTRIES</td>\n",
       "      <td>POLYBAG_10X15 INCH_PPGLORY PACK INDUSTRIES</td>\n",
       "    </tr>\n",
       "    <tr>\n",
       "      <th>17401</th>\n",
       "      <td>CESARE BONETTI INDIA PVT. LTD.</td>\n",
       "      <td>HANDLE NUT 1\" #600,HTB,A194 Gr8</td>\n",
       "      <td>Shah Brothers</td>\n",
       "      <td>HANDLE NUT 1\" #600,HTB,A194 Gr8Shah Brothers</td>\n",
       "    </tr>\n",
       "    <tr>\n",
       "      <th>17402</th>\n",
       "      <td>Entech Controls</td>\n",
       "      <td>ROUND BAR OD50 ASTM A276 TYPE 431</td>\n",
       "      <td>ALPESH METALS</td>\n",
       "      <td>ROUND BAR OD50 ASTM A276 TYPE 431ALPESH METALS</td>\n",
       "    </tr>\n",
       "    <tr>\n",
       "      <th>17403</th>\n",
       "      <td>CESARE BONETTI INTERNATIONAL PVT. LTD.</td>\n",
       "      <td>PTV 6\" #300 RF BVE WCB HW IBR</td>\n",
       "      <td>CESARE BONETTI INDIA PVT. LTD.</td>\n",
       "      <td>PTV 6\" #300 RF BVE WCB HW IBRCESARE BONETTI IN...</td>\n",
       "    </tr>\n",
       "    <tr>\n",
       "      <th>17404</th>\n",
       "      <td>R-Tech Products &amp; Packaging Pvt Ltd</td>\n",
       "      <td>PP_MONOBOX_ST5</td>\n",
       "      <td>Shree Arun Packaging Co. Pvt. Ltd.</td>\n",
       "      <td>PP_MONOBOX_ST5Shree Arun Packaging Co. Pvt. Ltd.</td>\n",
       "    </tr>\n",
       "  </tbody>\n",
       "</table>\n",
       "</div>"
      ],
      "text/plain": [
       "                                          OEM  \\\n",
       "17400     R-Tech Products & Packaging Pvt Ltd   \n",
       "17401          CESARE BONETTI INDIA PVT. LTD.   \n",
       "17402                         Entech Controls   \n",
       "17403  CESARE BONETTI INTERNATIONAL PVT. LTD.   \n",
       "17404     R-Tech Products & Packaging Pvt Ltd   \n",
       "\n",
       "                                    item                            supplier  \\\n",
       "17400              POLYBAG_10X15 INCH_PP               GLORY PACK INDUSTRIES   \n",
       "17401    HANDLE NUT 1\" #600,HTB,A194 Gr8                       Shah Brothers   \n",
       "17402  ROUND BAR OD50 ASTM A276 TYPE 431                       ALPESH METALS   \n",
       "17403      PTV 6\" #300 RF BVE WCB HW IBR      CESARE BONETTI INDIA PVT. LTD.   \n",
       "17404                     PP_MONOBOX_ST5  Shree Arun Packaging Co. Pvt. Ltd.   \n",
       "\n",
       "                                          find_duplicate  \n",
       "17400         POLYBAG_10X15 INCH_PPGLORY PACK INDUSTRIES  \n",
       "17401       HANDLE NUT 1\" #600,HTB,A194 Gr8Shah Brothers  \n",
       "17402     ROUND BAR OD50 ASTM A276 TYPE 431ALPESH METALS  \n",
       "17403  PTV 6\" #300 RF BVE WCB HW IBRCESARE BONETTI IN...  \n",
       "17404   PP_MONOBOX_ST5Shree Arun Packaging Co. Pvt. Ltd.  "
      ]
     },
     "execution_count": 36,
     "metadata": {},
     "output_type": "execute_result"
    }
   ],
   "source": [
    "## Picking up required info from un-labelled data:\n",
    "\n",
    "col = ['from_company_name', 'buyer_item_name', 'to_company_name']\n",
    "tranzact_data_new_2 = tranzact_data_new_1[col]\n",
    "tranzact_data_new_2.columns = ['OEM', 'item', 'supplier']\n",
    "\n",
    "## Removing duplicate (item + supplier) combinations :\n",
    "\n",
    "tranzact_data_new_2['find_duplicate'] = tranzact_data_new_2['item'].map(str)+tranzact_data_new_2['supplier'].map(str)\n",
    "tranzact_data_new_2.drop_duplicates(subset='find_duplicate', keep = 'first', inplace = True)\n",
    "tranzact_data_un_labelled = tranzact_data_new_2.reset_index(drop=True)\n",
    "\n",
    "print(len(tranzact_data_un_labelled))\n",
    "tranzact_data_un_labelled.tail()"
   ]
  },
  {
   "cell_type": "code",
   "execution_count": 37,
   "metadata": {},
   "outputs": [
    {
     "name": "stdout",
     "output_type": "stream",
     "text": [
      "11803\n",
      "17405\n"
     ]
    }
   ],
   "source": [
    "## make all in lower case :\n",
    "\n",
    "tranzact_data_labelled['OEM'] = tranzact_data_labelled['OEM'].map(lambda x: x if type(x)!=str else x.lower()) \n",
    "tranzact_data_labelled['item'] = tranzact_data_labelled['item'].map(lambda x: x if type(x)!=str else x.lower()) \n",
    "tranzact_data_labelled['product'] = tranzact_data_labelled['product'].map(lambda x: x if type(x)!=str else x.lower())\n",
    "\n",
    "tranzact_data_un_labelled['OEM'] = tranzact_data_un_labelled['OEM'].map(lambda x: x if type(x)!=str else x.lower()) \n",
    "tranzact_data_un_labelled['item'] = tranzact_data_un_labelled['item'].map(lambda x: x if type(x)!=str else x.lower()) \n",
    "\n",
    "## remove rows with any cell value = none\n",
    "\n",
    "tranzact_data_labelled_final = tranzact_data_labelled.dropna()\n",
    "tranzact_data_un_labelled_final = tranzact_data_un_labelled.dropna()\n",
    "\n",
    "tranzact_data_labelled_final = tranzact_data_labelled_final.reset_index(drop=True)\n",
    "tranzact_data_un_labelled_final = tranzact_data_un_labelled_final.reset_index(drop=True)\n",
    "\n",
    "print(len(tranzact_data_labelled_final))\n",
    "print(len(tranzact_data_un_labelled_final))"
   ]
  },
  {
   "cell_type": "code",
   "execution_count": 50,
   "metadata": {},
   "outputs": [
    {
     "name": "stdout",
     "output_type": "stream",
     "text": [
      "11803\n",
      "17405\n"
     ]
    },
    {
     "data": {
      "text/html": [
       "<div>\n",
       "<style scoped>\n",
       "    .dataframe tbody tr th:only-of-type {\n",
       "        vertical-align: middle;\n",
       "    }\n",
       "\n",
       "    .dataframe tbody tr th {\n",
       "        vertical-align: top;\n",
       "    }\n",
       "\n",
       "    .dataframe thead th {\n",
       "        text-align: right;\n",
       "    }\n",
       "</style>\n",
       "<table border=\"1\" class=\"dataframe\">\n",
       "  <thead>\n",
       "    <tr style=\"text-align: right;\">\n",
       "      <th></th>\n",
       "      <th>OEM</th>\n",
       "      <th>item</th>\n",
       "      <th>supplier</th>\n",
       "      <th>find_duplicate</th>\n",
       "    </tr>\n",
       "  </thead>\n",
       "  <tbody>\n",
       "    <tr>\n",
       "      <th>17400</th>\n",
       "      <td>r-tech products &amp; packaging pvt ltd</td>\n",
       "      <td>polybag_10x15 inch_pp</td>\n",
       "      <td>GLORY PACK INDUSTRIES</td>\n",
       "      <td>POLYBAG_10X15 INCH_PPGLORY PACK INDUSTRIES</td>\n",
       "    </tr>\n",
       "    <tr>\n",
       "      <th>17401</th>\n",
       "      <td>cesare bonetti india pvt. ltd.</td>\n",
       "      <td>handle nut 1 600 htb a194 gr8</td>\n",
       "      <td>Shah Brothers</td>\n",
       "      <td>HANDLE NUT 1\" #600,HTB,A194 Gr8Shah Brothers</td>\n",
       "    </tr>\n",
       "    <tr>\n",
       "      <th>17402</th>\n",
       "      <td>entech controls</td>\n",
       "      <td>round bar od50 astm a276 type 431</td>\n",
       "      <td>ALPESH METALS</td>\n",
       "      <td>ROUND BAR OD50 ASTM A276 TYPE 431ALPESH METALS</td>\n",
       "    </tr>\n",
       "    <tr>\n",
       "      <th>17403</th>\n",
       "      <td>cesare bonetti international pvt. ltd.</td>\n",
       "      <td>ptv 6 300 rf bve wcb hw ibr</td>\n",
       "      <td>CESARE BONETTI INDIA PVT. LTD.</td>\n",
       "      <td>PTV 6\" #300 RF BVE WCB HW IBRCESARE BONETTI IN...</td>\n",
       "    </tr>\n",
       "    <tr>\n",
       "      <th>17404</th>\n",
       "      <td>r-tech products &amp; packaging pvt ltd</td>\n",
       "      <td>pp_monobox_st5</td>\n",
       "      <td>Shree Arun Packaging Co. Pvt. Ltd.</td>\n",
       "      <td>PP_MONOBOX_ST5Shree Arun Packaging Co. Pvt. Ltd.</td>\n",
       "    </tr>\n",
       "  </tbody>\n",
       "</table>\n",
       "</div>"
      ],
      "text/plain": [
       "                                          OEM  \\\n",
       "17400     r-tech products & packaging pvt ltd   \n",
       "17401          cesare bonetti india pvt. ltd.   \n",
       "17402                         entech controls   \n",
       "17403  cesare bonetti international pvt. ltd.   \n",
       "17404     r-tech products & packaging pvt ltd   \n",
       "\n",
       "                                    item                            supplier  \\\n",
       "17400              polybag_10x15 inch_pp               GLORY PACK INDUSTRIES   \n",
       "17401      handle nut 1 600 htb a194 gr8                       Shah Brothers   \n",
       "17402  round bar od50 astm a276 type 431                       ALPESH METALS   \n",
       "17403        ptv 6 300 rf bve wcb hw ibr      CESARE BONETTI INDIA PVT. LTD.   \n",
       "17404                     pp_monobox_st5  Shree Arun Packaging Co. Pvt. Ltd.   \n",
       "\n",
       "                                          find_duplicate  \n",
       "17400         POLYBAG_10X15 INCH_PPGLORY PACK INDUSTRIES  \n",
       "17401       HANDLE NUT 1\" #600,HTB,A194 Gr8Shah Brothers  \n",
       "17402     ROUND BAR OD50 ASTM A276 TYPE 431ALPESH METALS  \n",
       "17403  PTV 6\" #300 RF BVE WCB HW IBRCESARE BONETTI IN...  \n",
       "17404   PP_MONOBOX_ST5Shree Arun Packaging Co. Pvt. Ltd.  "
      ]
     },
     "execution_count": 50,
     "metadata": {},
     "output_type": "execute_result"
    }
   ],
   "source": [
    "## digitising 'product' and creating a dictionary for labelled data :\n",
    "\n",
    "tranzact_data_labelled_final['product_id'] = tranzact_data_labelled_final['product'].factorize()[0]\n",
    "\n",
    "product_id_df = tranzact_data_labelled_final[['product', 'product_id']].drop_duplicates().sort_values('product_id')\n",
    "product_to_id = dict(product_id_df.values)\n",
    "id_to_product = dict(product_id_df[['product_id', 'product']].values)\n",
    "\n",
    "## removing puncuations from items of both labelled and un-labelled data :\n",
    "\n",
    "pd.options.mode.chained_assignment = None\n",
    "\n",
    "tranzact_data_labelled_final['item'] = tranzact_data_labelled_final['item'].str.replace(r'\\W',' ')\n",
    "tranzact_data_un_labelled_final['item'] = tranzact_data_un_labelled_final['item'].str.replace(r'\\W',' ')\n",
    "\n",
    "## remove gaps between words to single gap\n",
    "\n",
    "tranzact_data_labelled_final['item'] = tranzact_data_labelled_final['item'].str.replace(r'\\s+',' ')\n",
    "tranzact_data_un_labelled_final['item'] = tranzact_data_un_labelled_final['item'].str.replace(r'\\s+',' ')\n",
    "\n",
    "print(len(tranzact_data_labelled_final))\n",
    "print(len(tranzact_data_un_labelled_final))\n",
    "tranzact_data_un_labelled_final.tail()"
   ]
  },
  {
   "cell_type": "code",
   "execution_count": 51,
   "metadata": {},
   "outputs": [
    {
     "data": {
      "text/plain": [
       "0                                 new cylinder 404 gas\n",
       "1    accumulator model a as 5126 3 4 connection eme...\n",
       "2              accumulator flokool 3 4 400 psi fksa596\n",
       "3                         accumulator 1 5 8 connection\n",
       "4                                     accumulator 7 8 \n",
       "Name: item, dtype: object"
      ]
     },
     "execution_count": 51,
     "metadata": {},
     "output_type": "execute_result"
    }
   ],
   "source": [
    "total_item_labelled_unlabelled = pd.concat([tranzact_data_labelled_final['item'], \\\n",
    "                                            tranzact_data_un_labelled_final['item']])\n",
    "total_item_labelled_unlabelled.head()"
   ]
  },
  {
   "cell_type": "code",
   "execution_count": 52,
   "metadata": {},
   "outputs": [
    {
     "name": "stdout",
     "output_type": "stream",
     "text": [
      "29208\n"
     ]
    },
    {
     "data": {
      "text/plain": [
       "17400                polybag_10x15 inch_pp\n",
       "17401        handle nut 1 600 htb a194 gr8\n",
       "17402    round bar od50 astm a276 type 431\n",
       "17403          ptv 6 300 rf bve wcb hw ibr\n",
       "17404                       pp_monobox_st5\n",
       "Name: item, dtype: object"
      ]
     },
     "execution_count": 52,
     "metadata": {},
     "output_type": "execute_result"
    }
   ],
   "source": [
    "print(len(total_item_labelled_unlabelled))\n",
    "total_item_labelled_unlabelled.tail()"
   ]
  },
  {
   "cell_type": "code",
   "execution_count": 53,
   "metadata": {},
   "outputs": [
    {
     "data": {
      "text/plain": [
       "29203                polybag_10x15 inch_pp\n",
       "29204        handle nut 1 600 htb a194 gr8\n",
       "29205    round bar od50 astm a276 type 431\n",
       "29206          ptv 6 300 rf bve wcb hw ibr\n",
       "29207                       pp_monobox_st5\n",
       "Name: item, dtype: object"
      ]
     },
     "execution_count": 53,
     "metadata": {},
     "output_type": "execute_result"
    }
   ],
   "source": [
    "total_item_labelled_unlabelled = total_item_labelled_unlabelled.reset_index(drop=True)\n",
    "total_item_labelled_unlabelled.tail()"
   ]
  },
  {
   "cell_type": "code",
   "execution_count": 11,
   "metadata": {},
   "outputs": [],
   "source": [
    "from gensim.models import Word2Vec\n",
    "from nltk import word_tokenize"
   ]
  },
  {
   "cell_type": "code",
   "execution_count": 12,
   "metadata": {},
   "outputs": [
    {
     "name": "stderr",
     "output_type": "stream",
     "text": [
      "[nltk_data] Downloading package punkt to /home/scar3crow/nltk_data...\n",
      "[nltk_data]   Package punkt is already up-to-date!\n"
     ]
    },
    {
     "data": {
      "text/plain": [
       "True"
      ]
     },
     "execution_count": 12,
     "metadata": {},
     "output_type": "execute_result"
    }
   ],
   "source": [
    "import nltk\n",
    "nltk.download('punkt')"
   ]
  },
  {
   "cell_type": "code",
   "execution_count": 134,
   "metadata": {},
   "outputs": [
    {
     "name": "stdout",
     "output_type": "stream",
     "text": [
      "<class 'list'>\n",
      "1\n",
      "[['new'], ['cylinder'], ['404'], ['gas']]\n",
      "['new cylinder 404 gas']\n",
      "<class 'pandas.core.series.Series'>\n",
      "<class 'str'>\n",
      "<class 'list'>\n",
      "<class 'list'>\n"
     ]
    }
   ],
   "source": [
    "#tilu_list = total_item_labelled_unlabelled.tolist()\n",
    "tilu_list = [word_tokenize(s) for s in total_item_labelled_unlabelled[0].split()]\n",
    "\n",
    "print(type(tilu_list))\n",
    "print(len(tilu_list[0]))\n",
    "print(tilu_list)\n",
    "print([total_item_labelled_unlabelled[0]])\n",
    "print(type(total_item_labelled_unlabelled))\n",
    "print(type(total_item_labelled_unlabelled[0]))\n",
    "print(type([total_item_labelled_unlabelled]))\n",
    "print(type([total_item_labelled_unlabelled[0]]))"
   ]
  },
  {
   "cell_type": "code",
   "execution_count": 89,
   "metadata": {},
   "outputs": [],
   "source": [
    "emb_dim = 150\n",
    "\n",
    "model = Word2Vec([total_item_labelled_unlabelled[0:]], size = emb_dim, window=10, \\\n",
    "               min_count=0, negative = 15, iter = 10, workers = 10, sg=1)"
   ]
  },
  {
   "cell_type": "code",
   "execution_count": 90,
   "metadata": {},
   "outputs": [
    {
     "name": "stdout",
     "output_type": "stream",
     "text": [
      "<class 'gensim.models.keyedvectors.Word2VecKeyedVectors'>\n",
      "<class 'gensim.models.word2vec.Word2Vec'>\n",
      "Word2Vec(vocab=15, size=150, alpha=0.025)\n"
     ]
    }
   ],
   "source": [
    "word_vectors = model.wv\n",
    "print(type(word_vectors))\n",
    "print(type(model))\n",
    "print(model)"
   ]
  },
  {
   "cell_type": "code",
   "execution_count": 46,
   "metadata": {},
   "outputs": [
    {
     "name": "stdout",
     "output_type": "stream",
     "text": [
      "<gensim.models.keyedvectors.Word2VecKeyedVectors object at 0x7f5e22162ba8>\n"
     ]
    }
   ],
   "source": [
    "print(word_vectors)"
   ]
  },
  {
   "cell_type": "code",
   "execution_count": 54,
   "metadata": {},
   "outputs": [
    {
     "name": "stderr",
     "output_type": "stream",
     "text": [
      "Exception ignored in: <bound method BaseSession._Callable.__del__ of <tensorflow.python.client.session.BaseSession._Callable object at 0x7fb6331ba1d0>>\n",
      "Traceback (most recent call last):\n",
      "  File \"/home/scar3crow/Dropbox/WorkStation-Subrata/python/venv1/lib/python3.5/site-packages/tensorflow/python/client/session.py\", line 1398, in __del__\n",
      "    self._session._session, self._handle, status)\n",
      "  File \"/home/scar3crow/Dropbox/WorkStation-Subrata/python/venv1/lib/python3.5/site-packages/tensorflow/python/framework/errors_impl.py\", line 519, in __exit__\n",
      "    c_api.TF_GetCode(self.status.status))\n",
      "tensorflow.python.framework.errors_impl.InvalidArgumentError: No such callable handle: 93892200179424\n"
     ]
    }
   ],
   "source": [
    "tokenizer_obj = Tokenizer()\n",
    "tokenizer_obj_1 = Tokenizer()\n",
    "\n",
    "tokenizer_obj.fit_on_texts(total_item_labelled_unlabelled)\n",
    "tokenizer_obj_1.fit_on_texts(tranzact_data_labelled_final['item'])\n",
    "\n",
    "## pad sequences :\n",
    "\n",
    "max_length = max([len(s.split()) for s in total_item_labelled_unlabelled])\n",
    "min_length = min([len(s.split()) for s in total_item_labelled_unlabelled])\n",
    "\n",
    "## define vocabulary size :\n",
    "\n",
    "vocab_size = len(tokenizer_obj.word_index) + 1\n",
    "vocab_size_1 = len(tokenizer_obj_1.word_index) + 1\n",
    "\n",
    "total_item_tokens = tokenizer_obj.texts_to_sequences(total_item_labelled_unlabelled)\n",
    "total_item_tokens_1 = tokenizer_obj_1.texts_to_sequences(tranzact_data_labelled_final['item'])\n",
    "\n",
    "total_item_pad = pad_sequences(total_item_tokens, maxlen = max_length, padding = 'post')\n",
    "total_item_pad_1 = pad_sequences(total_item_tokens_1, maxlen = max_length, padding = 'post')"
   ]
  },
  {
   "cell_type": "code",
   "execution_count": 58,
   "metadata": {},
   "outputs": [
    {
     "name": "stdout",
     "output_type": "stream",
     "text": [
      "(29208, 121)\n",
      "(11803, 121)\n",
      "29208\n",
      "121\n",
      "1\n",
      "14707\n",
      "7949\n"
     ]
    }
   ],
   "source": [
    "print(total_item_pad.shape)\n",
    "print(total_item_pad_1.shape)\n",
    "\n",
    "print(len(total_item_tokens))\n",
    "\n",
    "print(max_length)\n",
    "print(min_length)\n",
    "\n",
    "print(vocab_size)\n",
    "print(vocab_size_1)"
   ]
  },
  {
   "cell_type": "code",
   "execution_count": 67,
   "metadata": {},
   "outputs": [
    {
     "name": "stdout",
     "output_type": "stream",
     "text": [
      "[ 1102  3545 14706     0     0     0     0     0     0     0     0     0\n",
      "     0     0     0     0     0     0     0     0     0     0     0     0\n",
      "     0     0     0     0     0     0     0     0     0     0     0     0\n",
      "     0     0     0     0     0     0     0     0     0     0     0     0\n",
      "     0     0     0     0     0     0     0     0     0     0     0     0\n",
      "     0     0     0     0     0     0     0     0     0     0     0     0\n",
      "     0     0     0     0     0     0     0     0     0     0     0     0\n",
      "     0     0     0     0     0     0     0     0     0     0     0     0\n",
      "     0     0     0     0     0     0     0     0     0     0     0     0\n",
      "     0     0     0     0     0     0     0     0     0     0     0     0\n",
      "     0]\n"
     ]
    }
   ],
   "source": [
    "print(total_item_pad[29207])"
   ]
  },
  {
   "cell_type": "code",
   "execution_count": 59,
   "metadata": {},
   "outputs": [
    {
     "name": "stdout",
     "output_type": "stream",
     "text": [
      "_________________________________________________________________\n",
      "Layer (type)                 Output Shape              Param #   \n",
      "=================================================================\n",
      "embedding_8 (Embedding)      (None, 121, 150)          2206050   \n",
      "=================================================================\n",
      "Total params: 2,206,050\n",
      "Trainable params: 2,206,050\n",
      "Non-trainable params: 0\n",
      "_________________________________________________________________\n"
     ]
    }
   ],
   "source": [
    "from keras.models import Sequential\n",
    "\n",
    "Embedding_Dim = 150\n",
    "\n",
    "## build model :\n",
    "\n",
    "model = Sequential()\n",
    "model.add(Embedding(vocab_size, Embedding_Dim, input_length=max_length))\n",
    "\n",
    "model.compile(optimizer='adam', loss='categorical_crossentropy')\n",
    "\n",
    "model.summary()"
   ]
  },
  {
   "cell_type": "code",
   "execution_count": 57,
   "metadata": {},
   "outputs": [
    {
     "ename": "IndexError",
     "evalue": "list index out of range",
     "output_type": "error",
     "traceback": [
      "\u001b[0;31m---------------------------------------------------------------------------\u001b[0m",
      "\u001b[0;31mIndexError\u001b[0m                                Traceback (most recent call last)",
      "\u001b[0;32m<ipython-input-57-5a50c03ac95f>\u001b[0m in \u001b[0;36m<module>\u001b[0;34m()\u001b[0m\n\u001b[0;32m----> 1\u001b[0;31m \u001b[0mmodel\u001b[0m\u001b[0;34m.\u001b[0m\u001b[0mfit\u001b[0m\u001b[0;34m(\u001b[0m\u001b[0mtotal_item_pad\u001b[0m\u001b[0;34m)\u001b[0m\u001b[0;34m\u001b[0m\u001b[0m\n\u001b[0m\u001b[1;32m      2\u001b[0m \u001b[0;34m\u001b[0m\u001b[0m\n",
      "\u001b[0;32m~/Dropbox/WorkStation-Subrata/python/venv1/lib/python3.5/site-packages/keras/engine/training.py\u001b[0m in \u001b[0;36mfit\u001b[0;34m(self, x, y, batch_size, epochs, verbose, callbacks, validation_split, validation_data, shuffle, class_weight, sample_weight, initial_epoch, steps_per_epoch, validation_steps, **kwargs)\u001b[0m\n\u001b[1;32m   1035\u001b[0m                                         \u001b[0minitial_epoch\u001b[0m\u001b[0;34m=\u001b[0m\u001b[0minitial_epoch\u001b[0m\u001b[0;34m,\u001b[0m\u001b[0;34m\u001b[0m\u001b[0m\n\u001b[1;32m   1036\u001b[0m                                         \u001b[0msteps_per_epoch\u001b[0m\u001b[0;34m=\u001b[0m\u001b[0msteps_per_epoch\u001b[0m\u001b[0;34m,\u001b[0m\u001b[0;34m\u001b[0m\u001b[0m\n\u001b[0;32m-> 1037\u001b[0;31m                                         validation_steps=validation_steps)\n\u001b[0m\u001b[1;32m   1038\u001b[0m \u001b[0;34m\u001b[0m\u001b[0m\n\u001b[1;32m   1039\u001b[0m     def evaluate(self, x=None, y=None,\n",
      "\u001b[0;32m~/Dropbox/WorkStation-Subrata/python/venv1/lib/python3.5/site-packages/keras/engine/training_arrays.py\u001b[0m in \u001b[0;36mfit_loop\u001b[0;34m(model, f, ins, out_labels, batch_size, epochs, verbose, callbacks, val_f, val_ins, shuffle, callback_metrics, initial_epoch, steps_per_epoch, validation_steps)\u001b[0m\n\u001b[1;32m    137\u001b[0m     \u001b[0mindices_for_conversion_to_dense\u001b[0m \u001b[0;34m=\u001b[0m \u001b[0;34m[\u001b[0m\u001b[0;34m]\u001b[0m\u001b[0;34m\u001b[0m\u001b[0m\n\u001b[1;32m    138\u001b[0m     \u001b[0;32mfor\u001b[0m \u001b[0mi\u001b[0m \u001b[0;32min\u001b[0m \u001b[0mrange\u001b[0m\u001b[0;34m(\u001b[0m\u001b[0mlen\u001b[0m\u001b[0;34m(\u001b[0m\u001b[0mfeed\u001b[0m\u001b[0;34m)\u001b[0m\u001b[0;34m)\u001b[0m\u001b[0;34m:\u001b[0m\u001b[0;34m\u001b[0m\u001b[0m\n\u001b[0;32m--> 139\u001b[0;31m         \u001b[0;32mif\u001b[0m \u001b[0missparse\u001b[0m\u001b[0;34m(\u001b[0m\u001b[0mins\u001b[0m\u001b[0;34m[\u001b[0m\u001b[0mi\u001b[0m\u001b[0;34m]\u001b[0m\u001b[0;34m)\u001b[0m \u001b[0;32mand\u001b[0m \u001b[0;32mnot\u001b[0m \u001b[0mK\u001b[0m\u001b[0;34m.\u001b[0m\u001b[0mis_sparse\u001b[0m\u001b[0;34m(\u001b[0m\u001b[0mfeed\u001b[0m\u001b[0;34m[\u001b[0m\u001b[0mi\u001b[0m\u001b[0;34m]\u001b[0m\u001b[0;34m)\u001b[0m\u001b[0;34m:\u001b[0m\u001b[0;34m\u001b[0m\u001b[0m\n\u001b[0m\u001b[1;32m    140\u001b[0m             \u001b[0mindices_for_conversion_to_dense\u001b[0m\u001b[0;34m.\u001b[0m\u001b[0mappend\u001b[0m\u001b[0;34m(\u001b[0m\u001b[0mi\u001b[0m\u001b[0;34m)\u001b[0m\u001b[0;34m\u001b[0m\u001b[0m\n\u001b[1;32m    141\u001b[0m \u001b[0;34m\u001b[0m\u001b[0m\n",
      "\u001b[0;31mIndexError\u001b[0m: list index out of range"
     ]
    }
   ],
   "source": [
    "model.fit(total_item_pad)\n",
    "          "
   ]
  },
  {
   "cell_type": "code",
   "execution_count": 44,
   "metadata": {},
   "outputs": [],
   "source": [
    "output_matrix = model.predict(total_item_pad)\n",
    "output_matrix_1 = model.predict(total_item_pad_1)"
   ]
  },
  {
   "cell_type": "code",
   "execution_count": 47,
   "metadata": {},
   "outputs": [
    {
     "name": "stdout",
     "output_type": "stream",
     "text": [
      "29208\n",
      "(29208, 104, 150)\n",
      "(11803, 104, 150)\n",
      "==================\n",
      "[[ 0.03827683 -0.04964966  0.00533981 ... -0.00938513 -0.01848874\n",
      "  -0.02171257]\n",
      " [ 0.01085696 -0.01500381  0.01200251 ...  0.04773391 -0.03894383\n",
      "  -0.04329807]\n",
      " [-0.02027301 -0.03686506  0.00674832 ... -0.02870193  0.04623935\n",
      "   0.00291699]\n",
      " ...\n",
      " [ 0.01659502 -0.00168975 -0.04770852 ...  0.01144811  0.013912\n",
      "   0.00347376]\n",
      " [ 0.01659502 -0.00168975 -0.04770852 ...  0.01144811  0.013912\n",
      "   0.00347376]\n",
      " [ 0.01659502 -0.00168975 -0.04770852 ...  0.01144811  0.013912\n",
      "   0.00347376]]\n",
      "==================\n",
      "[[ 0.0159557   0.01924546 -0.02351296 ... -0.00765111  0.00220709\n",
      "  -0.04442221]\n",
      " [ 0.02946129 -0.03468596 -0.04777217 ...  0.00052925  0.01708217\n",
      "   0.0480486 ]\n",
      " [-0.0243927  -0.0021177   0.04142804 ...  0.03606439 -0.03773411\n",
      "   0.01185968]\n",
      " ...\n",
      " [ 0.01659502 -0.00168975 -0.04770852 ...  0.01144811  0.013912\n",
      "   0.00347376]\n",
      " [ 0.01659502 -0.00168975 -0.04770852 ...  0.01144811  0.013912\n",
      "   0.00347376]\n",
      " [ 0.01659502 -0.00168975 -0.04770852 ...  0.01144811  0.013912\n",
      "   0.00347376]]\n"
     ]
    }
   ],
   "source": [
    "print(len(output_matrix))\n",
    "print(output_matrix.shape)\n",
    "print(output_matrix_1.shape)\n",
    "print('==================')\n",
    "print(output_matrix[0])\n",
    "print('==================')\n",
    "print(output_matrix_1[0])"
   ]
  },
  {
   "cell_type": "code",
   "execution_count": 23,
   "metadata": {},
   "outputs": [
    {
     "name": "stdout",
     "output_type": "stream",
     "text": [
      "(11802, 104, 150)\n"
     ]
    }
   ],
   "source": [
    "aa = output_matrix[0:11802]\n",
    "print(aa.shape)"
   ]
  },
  {
   "cell_type": "code",
   "execution_count": null,
   "metadata": {},
   "outputs": [],
   "source": [
    "## Total no. of unique words = vocab_size = 14707\n",
    "## each word has got 150 parameters as per Embedding Dimension defined.\n",
    "## Hence total Param # = 14707 * 150 = 2206050\n"
   ]
  },
  {
   "cell_type": "code",
   "execution_count": 30,
   "metadata": {},
   "outputs": [
    {
     "ename": "ValueError",
     "evalue": "Layer weight shape (14904, 150) not compatible with provided weight shape (29208, 104, 150)",
     "output_type": "error",
     "traceback": [
      "\u001b[0;31m---------------------------------------------------------------------------\u001b[0m",
      "\u001b[0;31mValueError\u001b[0m                                Traceback (most recent call last)",
      "\u001b[0;32m<ipython-input-30-f0594cb87384>\u001b[0m in \u001b[0;36m<module>\u001b[0;34m()\u001b[0m\n\u001b[1;32m      1\u001b[0m \u001b[0mmodel\u001b[0m \u001b[0;34m=\u001b[0m \u001b[0mSequential\u001b[0m\u001b[0;34m(\u001b[0m\u001b[0;34m)\u001b[0m\u001b[0;34m\u001b[0m\u001b[0m\n\u001b[0;32m----> 2\u001b[0;31m \u001b[0mmodel\u001b[0m\u001b[0;34m.\u001b[0m\u001b[0madd\u001b[0m\u001b[0;34m(\u001b[0m\u001b[0mEmbedding\u001b[0m\u001b[0;34m(\u001b[0m\u001b[0mvocab_size\u001b[0m\u001b[0;34m,\u001b[0m \u001b[0mEmbedding_Dim\u001b[0m\u001b[0;34m,\u001b[0m \u001b[0mweights\u001b[0m\u001b[0;34m=\u001b[0m\u001b[0;34m[\u001b[0m\u001b[0moutput_matrix\u001b[0m\u001b[0;34m]\u001b[0m\u001b[0;34m,\u001b[0m                    \u001b[0minput_length\u001b[0m\u001b[0;34m=\u001b[0m\u001b[0mmax_length\u001b[0m\u001b[0;34m,\u001b[0m \u001b[0mtrainable\u001b[0m\u001b[0;34m=\u001b[0m\u001b[0;32mFalse\u001b[0m\u001b[0;34m)\u001b[0m\u001b[0;34m)\u001b[0m\u001b[0;34m\u001b[0m\u001b[0m\n\u001b[0m\u001b[1;32m      3\u001b[0m \u001b[0mmodel\u001b[0m\u001b[0;34m.\u001b[0m\u001b[0madd\u001b[0m\u001b[0;34m(\u001b[0m\u001b[0mSpatialDropout1D\u001b[0m\u001b[0;34m(\u001b[0m\u001b[0;36m0.2\u001b[0m\u001b[0;34m)\u001b[0m\u001b[0;34m)\u001b[0m\u001b[0;34m\u001b[0m\u001b[0m\n\u001b[1;32m      4\u001b[0m \u001b[0;31m#model.add(LSTM(32, dropout=0.2, recurrent_dropout=0.2))\u001b[0m\u001b[0;34m\u001b[0m\u001b[0;34m\u001b[0m\u001b[0m\n\u001b[1;32m      5\u001b[0m \u001b[0mmodel\u001b[0m\u001b[0;34m.\u001b[0m\u001b[0madd\u001b[0m\u001b[0;34m(\u001b[0m\u001b[0mGRU\u001b[0m\u001b[0;34m(\u001b[0m\u001b[0munits\u001b[0m\u001b[0;34m=\u001b[0m\u001b[0;36m32\u001b[0m\u001b[0;34m,\u001b[0m \u001b[0mdropout\u001b[0m\u001b[0;34m=\u001b[0m\u001b[0;36m0.2\u001b[0m\u001b[0;34m,\u001b[0m \u001b[0mrecurrent_dropout\u001b[0m\u001b[0;34m=\u001b[0m\u001b[0;36m0.2\u001b[0m\u001b[0;34m)\u001b[0m\u001b[0;34m)\u001b[0m\u001b[0;34m\u001b[0m\u001b[0m\n",
      "\u001b[0;32m~/Dropbox/WorkStation-Subrata/python/venv1/lib/python3.5/site-packages/keras/engine/sequential.py\u001b[0m in \u001b[0;36madd\u001b[0;34m(self, layer)\u001b[0m\n\u001b[1;32m    162\u001b[0m                     \u001b[0;31m# and create the node connecting the current layer\u001b[0m\u001b[0;34m\u001b[0m\u001b[0;34m\u001b[0m\u001b[0m\n\u001b[1;32m    163\u001b[0m                     \u001b[0;31m# to the input layer we just created.\u001b[0m\u001b[0;34m\u001b[0m\u001b[0;34m\u001b[0m\u001b[0m\n\u001b[0;32m--> 164\u001b[0;31m                     \u001b[0mlayer\u001b[0m\u001b[0;34m(\u001b[0m\u001b[0mx\u001b[0m\u001b[0;34m)\u001b[0m\u001b[0;34m\u001b[0m\u001b[0m\n\u001b[0m\u001b[1;32m    165\u001b[0m                     \u001b[0mset_inputs\u001b[0m \u001b[0;34m=\u001b[0m \u001b[0;32mTrue\u001b[0m\u001b[0;34m\u001b[0m\u001b[0m\n\u001b[1;32m    166\u001b[0m                 \u001b[0;32melse\u001b[0m\u001b[0;34m:\u001b[0m\u001b[0;34m\u001b[0m\u001b[0m\n",
      "\u001b[0;32m~/Dropbox/WorkStation-Subrata/python/venv1/lib/python3.5/site-packages/keras/engine/base_layer.py\u001b[0m in \u001b[0;36m__call__\u001b[0;34m(self, inputs, **kwargs)\u001b[0m\n\u001b[1;32m    434\u001b[0m                 \u001b[0;31m# Load weights that were specified at layer instantiation.\u001b[0m\u001b[0;34m\u001b[0m\u001b[0;34m\u001b[0m\u001b[0m\n\u001b[1;32m    435\u001b[0m                 \u001b[0;32mif\u001b[0m \u001b[0mself\u001b[0m\u001b[0;34m.\u001b[0m\u001b[0m_initial_weights\u001b[0m \u001b[0;32mis\u001b[0m \u001b[0;32mnot\u001b[0m \u001b[0;32mNone\u001b[0m\u001b[0;34m:\u001b[0m\u001b[0;34m\u001b[0m\u001b[0m\n\u001b[0;32m--> 436\u001b[0;31m                     \u001b[0mself\u001b[0m\u001b[0;34m.\u001b[0m\u001b[0mset_weights\u001b[0m\u001b[0;34m(\u001b[0m\u001b[0mself\u001b[0m\u001b[0;34m.\u001b[0m\u001b[0m_initial_weights\u001b[0m\u001b[0;34m)\u001b[0m\u001b[0;34m\u001b[0m\u001b[0m\n\u001b[0m\u001b[1;32m    437\u001b[0m \u001b[0;34m\u001b[0m\u001b[0m\n\u001b[1;32m    438\u001b[0m             \u001b[0;31m# Raise exceptions in case the input is not compatible\u001b[0m\u001b[0;34m\u001b[0m\u001b[0;34m\u001b[0m\u001b[0m\n",
      "\u001b[0;32m~/Dropbox/WorkStation-Subrata/python/venv1/lib/python3.5/site-packages/keras/engine/base_layer.py\u001b[0m in \u001b[0;36mset_weights\u001b[0;34m(self, weights)\u001b[0m\n\u001b[1;32m   1055\u001b[0m                                  \u001b[0mstr\u001b[0m\u001b[0;34m(\u001b[0m\u001b[0mpv\u001b[0m\u001b[0;34m.\u001b[0m\u001b[0mshape\u001b[0m\u001b[0;34m)\u001b[0m \u001b[0;34m+\u001b[0m\u001b[0;34m\u001b[0m\u001b[0m\n\u001b[1;32m   1056\u001b[0m                                  \u001b[0;34m' not compatible with '\u001b[0m\u001b[0;34m\u001b[0m\u001b[0m\n\u001b[0;32m-> 1057\u001b[0;31m                                  'provided weight shape ' + str(w.shape))\n\u001b[0m\u001b[1;32m   1058\u001b[0m             \u001b[0mweight_value_tuples\u001b[0m\u001b[0;34m.\u001b[0m\u001b[0mappend\u001b[0m\u001b[0;34m(\u001b[0m\u001b[0;34m(\u001b[0m\u001b[0mp\u001b[0m\u001b[0;34m,\u001b[0m \u001b[0mw\u001b[0m\u001b[0;34m)\u001b[0m\u001b[0;34m)\u001b[0m\u001b[0;34m\u001b[0m\u001b[0m\n\u001b[1;32m   1059\u001b[0m         \u001b[0mK\u001b[0m\u001b[0;34m.\u001b[0m\u001b[0mbatch_set_value\u001b[0m\u001b[0;34m(\u001b[0m\u001b[0mweight_value_tuples\u001b[0m\u001b[0;34m)\u001b[0m\u001b[0;34m\u001b[0m\u001b[0m\n",
      "\u001b[0;31mValueError\u001b[0m: Layer weight shape (14904, 150) not compatible with provided weight shape (29208, 104, 150)"
     ]
    }
   ],
   "source": [
    "model = Sequential()\n",
    "model.add(Embedding(vocab_size, Embedding_Dim, weights=[output_matrix],\\\n",
    "                    input_length=max_length, trainable=False))\n",
    "model.add(SpatialDropout1D(0.2))\n",
    "#model.add(LSTM(32, dropout=0.2, recurrent_dropout=0.2))\n",
    "model.add(GRU(units=32, dropout=0.2, recurrent_dropout=0.2))\n",
    "model.add(Dense(256, activation='relu'))\n",
    "model.add(Dense(71, activation='softmax'))\n",
    "model.compile(optimizer='adam', loss='categorical_crossentropy', metrics=['acc'])\n",
    "\n",
    "model.summary()\n"
   ]
  },
  {
   "cell_type": "code",
   "execution_count": 77,
   "metadata": {},
   "outputs": [],
   "source": [
    "sentences = [['this', 'is', 'the', 'first', 'sentence', 'for', 'word2vec'],\n",
    "             ['this', 'is', 'the', 'second', 'sentence'],\n",
    "             ['yet', 'another', 'sentence'],\n",
    "             ['one', 'more', 'sentence'],\n",
    "             ['and', 'the', 'final', 'sentence']]\n"
   ]
  },
  {
   "cell_type": "code",
   "execution_count": 78,
   "metadata": {},
   "outputs": [
    {
     "name": "stdout",
     "output_type": "stream",
     "text": [
      "<class 'list'>\n"
     ]
    }
   ],
   "source": [
    "print(type(sentences))"
   ]
  },
  {
   "cell_type": "code",
   "execution_count": 82,
   "metadata": {},
   "outputs": [
    {
     "name": "stdout",
     "output_type": "stream",
     "text": [
      "5\n"
     ]
    }
   ],
   "source": [
    "print(len(sentences))"
   ]
  },
  {
   "cell_type": "code",
   "execution_count": 87,
   "metadata": {},
   "outputs": [
    {
     "name": "stdout",
     "output_type": "stream",
     "text": [
      "<class 'str'>\n",
      "<class 'list'>\n"
     ]
    }
   ],
   "source": [
    "print(type(total_item_labelled_unlabelled[0]))\n",
    "print(type([total_item_labelled_unlabelled[0]]))"
   ]
  },
  {
   "cell_type": "code",
   "execution_count": null,
   "metadata": {},
   "outputs": [],
   "source": []
  }
 ],
 "metadata": {
  "kernelspec": {
   "display_name": "Python 3",
   "language": "python",
   "name": "python3"
  },
  "language_info": {
   "codemirror_mode": {
    "name": "ipython",
    "version": 3
   },
   "file_extension": ".py",
   "mimetype": "text/x-python",
   "name": "python",
   "nbconvert_exporter": "python",
   "pygments_lexer": "ipython3",
   "version": "3.5.2+"
  }
 },
 "nbformat": 4,
 "nbformat_minor": 2
}
