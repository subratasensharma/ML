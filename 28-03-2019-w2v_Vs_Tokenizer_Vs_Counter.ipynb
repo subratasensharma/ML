{
 "cells": [
  {
   "cell_type": "code",
   "execution_count": 1,
   "metadata": {},
   "outputs": [
    {
     "name": "stderr",
     "output_type": "stream",
     "text": [
      "Using TensorFlow backend.\n"
     ]
    }
   ],
   "source": [
    "import pandas as pd\n",
    "import numpy as np\n",
    "import re\n",
    "import matplotlib.pyplot as plt\n",
    "import seaborn as sns\n",
    "from sklearn.model_selection import train_test_split\n",
    "from sklearn.preprocessing import LabelEncoder\n",
    "from keras.models import Model\n",
    "from keras.layers import LSTM, Activation, Dense, Dropout, Input, Embedding, SpatialDropout1D, GRU\n",
    "from keras.optimizers import RMSprop\n",
    "from keras.preprocessing.text import Tokenizer\n",
    "\n",
    "from keras.preprocessing import sequence\n",
    "from keras.preprocessing.sequence import pad_sequences\n",
    "from keras.utils import to_categorical\n",
    "from keras.callbacks import EarlyStopping\n",
    "%matplotlib inline\n"
   ]
  },
  {
   "cell_type": "code",
   "execution_count": 2,
   "metadata": {},
   "outputs": [],
   "source": [
    "import warnings\n",
    "warnings.filterwarnings(\"ignore\")"
   ]
  },
  {
   "cell_type": "code",
   "execution_count": 3,
   "metadata": {},
   "outputs": [
    {
     "data": {
      "text/html": [
       "<div>\n",
       "<style scoped>\n",
       "    .dataframe tbody tr th:only-of-type {\n",
       "        vertical-align: middle;\n",
       "    }\n",
       "\n",
       "    .dataframe tbody tr th {\n",
       "        vertical-align: top;\n",
       "    }\n",
       "\n",
       "    .dataframe thead th {\n",
       "        text-align: right;\n",
       "    }\n",
       "</style>\n",
       "<table border=\"1\" class=\"dataframe\">\n",
       "  <thead>\n",
       "    <tr style=\"text-align: right;\">\n",
       "      <th></th>\n",
       "      <th>supplier_item_id</th>\n",
       "      <th>to_company_name</th>\n",
       "      <th>supplier_item_id.1</th>\n",
       "      <th>supplier_item_id.2</th>\n",
       "      <th>product</th>\n",
       "      <th>supplier</th>\n",
       "      <th>Done</th>\n",
       "      <th>Atul Sugg.</th>\n",
       "      <th>sub_type</th>\n",
       "      <th>material</th>\n",
       "      <th>process</th>\n",
       "      <th>grade</th>\n",
       "      <th>spec</th>\n",
       "      <th>brand</th>\n",
       "    </tr>\n",
       "  </thead>\n",
       "  <tbody>\n",
       "    <tr>\n",
       "      <th>13552</th>\n",
       "      <td>86390</td>\n",
       "      <td>CESARE BONETTI INTERNATIONAL PVT. LTD.</td>\n",
       "      <td>86390</td>\n",
       "      <td>YOKE SLEEVE;8\" # 150;GTV;  B150 C62300</td>\n",
       "      <td>YOKE SLEEVE</td>\n",
       "      <td>CESARE BONETTI INDIA PVT. LTD.</td>\n",
       "      <td>278.0</td>\n",
       "      <td>NaN</td>\n",
       "      <td>NaN</td>\n",
       "      <td>NaN</td>\n",
       "      <td>NaN</td>\n",
       "      <td>C62300</td>\n",
       "      <td>NaN</td>\n",
       "      <td>NaN</td>\n",
       "    </tr>\n",
       "    <tr>\n",
       "      <th>13553</th>\n",
       "      <td>89723</td>\n",
       "      <td>CESARE BONETTI INTERNATIONAL PVT. LTD.</td>\n",
       "      <td>89723</td>\n",
       "      <td>YOKE SLEEVE 1½\" #2700 BLY;B150 C62300</td>\n",
       "      <td>YOKE SLEEVE</td>\n",
       "      <td>CESARE BONETTI INDIA PVT. LTD.</td>\n",
       "      <td>278.0</td>\n",
       "      <td>NaN</td>\n",
       "      <td>NaN</td>\n",
       "      <td>NaN</td>\n",
       "      <td>NaN</td>\n",
       "      <td>C62300</td>\n",
       "      <td>NaN</td>\n",
       "      <td>NaN</td>\n",
       "    </tr>\n",
       "    <tr>\n",
       "      <th>13554</th>\n",
       "      <td>89995</td>\n",
       "      <td>CESARE BONETTI INTERNATIONAL PVT. LTD.</td>\n",
       "      <td>89995</td>\n",
       "      <td>YOKE SLEEVE;4\" #150 GTV; B150 C62300</td>\n",
       "      <td>YOKE SLEEVE</td>\n",
       "      <td>CESARE BONETTI INDIA PVT. LTD.</td>\n",
       "      <td>278.0</td>\n",
       "      <td>NaN</td>\n",
       "      <td>NaN</td>\n",
       "      <td>NaN</td>\n",
       "      <td>NaN</td>\n",
       "      <td>C62300</td>\n",
       "      <td>NaN</td>\n",
       "      <td>NaN</td>\n",
       "    </tr>\n",
       "    <tr>\n",
       "      <th>13555</th>\n",
       "      <td>117819</td>\n",
       "      <td>WAAREE INDUSTRIES PVT. LTD.</td>\n",
       "      <td>117819</td>\n",
       "      <td>YOKE SLEEVE;8\" # 150;GTV;  A439 D2</td>\n",
       "      <td>cicasting</td>\n",
       "      <td>Waaree Industries Pvt.Ltd.</td>\n",
       "      <td>278.0</td>\n",
       "      <td>NaN</td>\n",
       "      <td>NaN</td>\n",
       "      <td>NaN</td>\n",
       "      <td>NaN</td>\n",
       "      <td>NaN</td>\n",
       "      <td>NaN</td>\n",
       "      <td>NaN</td>\n",
       "    </tr>\n",
       "    <tr>\n",
       "      <th>13556</th>\n",
       "      <td>169292</td>\n",
       "      <td>CESARE BONETTI INTERNATIONAL PVT. LTD.</td>\n",
       "      <td>169292</td>\n",
       "      <td>YOKE SLEEVE; 1\";#1500;CBD;A582 T416</td>\n",
       "      <td>YOKE SLEEVE</td>\n",
       "      <td>CESARE BONETTI INDIA PVT. LTD.</td>\n",
       "      <td>278.0</td>\n",
       "      <td>NaN</td>\n",
       "      <td>NaN</td>\n",
       "      <td>NaN</td>\n",
       "      <td>NaN</td>\n",
       "      <td>NaN</td>\n",
       "      <td>NaN</td>\n",
       "      <td>NaN</td>\n",
       "    </tr>\n",
       "  </tbody>\n",
       "</table>\n",
       "</div>"
      ],
      "text/plain": [
       "       supplier_item_id                         to_company_name  \\\n",
       "13552             86390  CESARE BONETTI INTERNATIONAL PVT. LTD.   \n",
       "13553             89723  CESARE BONETTI INTERNATIONAL PVT. LTD.   \n",
       "13554             89995  CESARE BONETTI INTERNATIONAL PVT. LTD.   \n",
       "13555            117819             WAAREE INDUSTRIES PVT. LTD.   \n",
       "13556            169292  CESARE BONETTI INTERNATIONAL PVT. LTD.   \n",
       "\n",
       "       supplier_item_id.1                      supplier_item_id.2  \\\n",
       "13552               86390  YOKE SLEEVE;8\" # 150;GTV;  B150 C62300   \n",
       "13553               89723   YOKE SLEEVE 1½\" #2700 BLY;B150 C62300   \n",
       "13554               89995    YOKE SLEEVE;4\" #150 GTV; B150 C62300   \n",
       "13555              117819      YOKE SLEEVE;8\" # 150;GTV;  A439 D2   \n",
       "13556              169292     YOKE SLEEVE; 1\";#1500;CBD;A582 T416   \n",
       "\n",
       "           product                        supplier   Done Atul Sugg. sub_type  \\\n",
       "13552  YOKE SLEEVE  CESARE BONETTI INDIA PVT. LTD.  278.0        NaN      NaN   \n",
       "13553  YOKE SLEEVE  CESARE BONETTI INDIA PVT. LTD.  278.0        NaN      NaN   \n",
       "13554  YOKE SLEEVE  CESARE BONETTI INDIA PVT. LTD.  278.0        NaN      NaN   \n",
       "13555    cicasting      Waaree Industries Pvt.Ltd.  278.0        NaN      NaN   \n",
       "13556  YOKE SLEEVE  CESARE BONETTI INDIA PVT. LTD.  278.0        NaN      NaN   \n",
       "\n",
       "      material process   grade  spec brand  \n",
       "13552      NaN     NaN  C62300   NaN   NaN  \n",
       "13553      NaN     NaN  C62300   NaN   NaN  \n",
       "13554      NaN     NaN  C62300   NaN   NaN  \n",
       "13555      NaN     NaN     NaN   NaN   NaN  \n",
       "13556      NaN     NaN     NaN   NaN   NaN  "
      ]
     },
     "execution_count": 3,
     "metadata": {},
     "output_type": "execute_result"
    }
   ],
   "source": [
    "## Loading Data - labelled data:\n",
    "\n",
    "data_1 = pd.ExcelFile('RNN_Tranzact_Rohan_1_Regrouped_with_supplier.xlsx')\n",
    "tranzact_data_1 = data_1.parse(0)\n",
    "\n",
    "tranzact_data_1.tail()"
   ]
  },
  {
   "cell_type": "code",
   "execution_count": 4,
   "metadata": {},
   "outputs": [
    {
     "data": {
      "text/html": [
       "<div>\n",
       "<style scoped>\n",
       "    .dataframe tbody tr th:only-of-type {\n",
       "        vertical-align: middle;\n",
       "    }\n",
       "\n",
       "    .dataframe tbody tr th {\n",
       "        vertical-align: top;\n",
       "    }\n",
       "\n",
       "    .dataframe thead th {\n",
       "        text-align: right;\n",
       "    }\n",
       "</style>\n",
       "<table border=\"1\" class=\"dataframe\">\n",
       "  <thead>\n",
       "    <tr style=\"text-align: right;\">\n",
       "      <th></th>\n",
       "      <th>item</th>\n",
       "      <th>product</th>\n",
       "    </tr>\n",
       "  </thead>\n",
       "  <tbody>\n",
       "    <tr>\n",
       "      <th>0</th>\n",
       "      <td>NEW CYLINDER 404 GAS</td>\n",
       "      <td>GAS</td>\n",
       "    </tr>\n",
       "    <tr>\n",
       "      <th>1</th>\n",
       "      <td>ACCUMULATOR - MODEL A-AS 5126, (3/4\" CONNECTIO...</td>\n",
       "      <td>COOLING</td>\n",
       "    </tr>\n",
       "    <tr>\n",
       "      <th>2</th>\n",
       "      <td>ACCUMULATOR; FLOKOOL; 3/4\"; 400 PSI, FKSA596</td>\n",
       "      <td>COOLING</td>\n",
       "    </tr>\n",
       "    <tr>\n",
       "      <th>3</th>\n",
       "      <td>ACCUMULATOR 1.5/8 CONNECTION</td>\n",
       "      <td>COOLING</td>\n",
       "    </tr>\n",
       "    <tr>\n",
       "      <th>4</th>\n",
       "      <td>ACCUMULATOR  7/8‘’</td>\n",
       "      <td>COOLING</td>\n",
       "    </tr>\n",
       "  </tbody>\n",
       "</table>\n",
       "</div>"
      ],
      "text/plain": [
       "                                                item  product\n",
       "0                               NEW CYLINDER 404 GAS      GAS\n",
       "1  ACCUMULATOR - MODEL A-AS 5126, (3/4\" CONNECTIO...  COOLING\n",
       "2       ACCUMULATOR; FLOKOOL; 3/4\"; 400 PSI, FKSA596  COOLING\n",
       "3                       ACCUMULATOR 1.5/8 CONNECTION  COOLING\n",
       "4                                 ACCUMULATOR  7/8‘’  COOLING"
      ]
     },
     "execution_count": 4,
     "metadata": {},
     "output_type": "execute_result"
    }
   ],
   "source": [
    "## Picking up required info from labelled data:\n",
    "\n",
    "col = ['supplier_item_id.2', 'product']\n",
    "tranzact_data_2 = tranzact_data_1[col]\n",
    "tranzact_data_2.columns = ['item', 'product']\n",
    "\n",
    "test_data = pd.DataFrame()\n",
    "\n",
    "test_data = tranzact_data_2[0:5]\n",
    "\n",
    "test_data.head()"
   ]
  },
  {
   "cell_type": "code",
   "execution_count": 27,
   "metadata": {},
   "outputs": [
    {
     "name": "stdout",
     "output_type": "stream",
     "text": [
      "5\n"
     ]
    },
    {
     "data": {
      "text/html": [
       "<div>\n",
       "<style scoped>\n",
       "    .dataframe tbody tr th:only-of-type {\n",
       "        vertical-align: middle;\n",
       "    }\n",
       "\n",
       "    .dataframe tbody tr th {\n",
       "        vertical-align: top;\n",
       "    }\n",
       "\n",
       "    .dataframe thead th {\n",
       "        text-align: right;\n",
       "    }\n",
       "</style>\n",
       "<table border=\"1\" class=\"dataframe\">\n",
       "  <thead>\n",
       "    <tr style=\"text-align: right;\">\n",
       "      <th></th>\n",
       "      <th>item</th>\n",
       "      <th>product</th>\n",
       "    </tr>\n",
       "  </thead>\n",
       "  <tbody>\n",
       "    <tr>\n",
       "      <th>0</th>\n",
       "      <td>new cylinder 404 gas</td>\n",
       "      <td>gas</td>\n",
       "    </tr>\n",
       "    <tr>\n",
       "      <th>1</th>\n",
       "      <td>accumulator - model a-as 5126 3/4\" connection ...</td>\n",
       "      <td>cooling</td>\n",
       "    </tr>\n",
       "    <tr>\n",
       "      <th>2</th>\n",
       "      <td>accumulator flokool 3/4\" 400 psi fksa596</td>\n",
       "      <td>cooling</td>\n",
       "    </tr>\n",
       "    <tr>\n",
       "      <th>3</th>\n",
       "      <td>accumulator 1 5/8 connection</td>\n",
       "      <td>cooling</td>\n",
       "    </tr>\n",
       "    <tr>\n",
       "      <th>4</th>\n",
       "      <td>accumulator 7/8‘’</td>\n",
       "      <td>cooling</td>\n",
       "    </tr>\n",
       "  </tbody>\n",
       "</table>\n",
       "</div>"
      ],
      "text/plain": [
       "                                                item  product\n",
       "0                               new cylinder 404 gas      gas\n",
       "1  accumulator - model a-as 5126 3/4\" connection ...  cooling\n",
       "2           accumulator flokool 3/4\" 400 psi fksa596  cooling\n",
       "3                       accumulator 1 5/8 connection  cooling\n",
       "4                                  accumulator 7/8‘’  cooling"
      ]
     },
     "execution_count": 27,
     "metadata": {},
     "output_type": "execute_result"
    }
   ],
   "source": [
    "## make all in lower case\n",
    "\n",
    "test_data['item'] = test_data['item'].map(lambda x: x if type(x)!=str else x.lower()) \n",
    "test_data['product'] = test_data['product'].map(lambda x: x if type(x)!=str else x.lower())\n",
    "\n",
    "## Removing some punctuations:\n",
    "\n",
    "punctuation = ['!', '$', '%', '&', '(', ')', '*', '+', ',', '.', ':', ';', '<', '=', '>', '?', '@', \\\n",
    "               '[', '\\\\', ']', '^', '_', '`', '{', '|', '}', '~', '\\t', '\\n'] \n",
    "\n",
    "for i in punctuation:\n",
    "    \n",
    "    test_data['item']= test_data['item'].str.replace(i,\" \")\n",
    "    \n",
    "test_data['item'] = test_data['item'].str.replace(r'\\s+',' ')\n",
    "\n",
    "print(len(test_data))\n",
    "test_data.tail()"
   ]
  },
  {
   "cell_type": "code",
   "execution_count": 21,
   "metadata": {},
   "outputs": [
    {
     "name": "stderr",
     "output_type": "stream",
     "text": [
      "100%|██████████| 5/5 [00:00<00:00, 10496.26it/s]\n"
     ]
    }
   ],
   "source": [
    "from gensim.models import Word2Vec\n",
    "\n",
    "from tqdm import tqdm\n",
    "\n",
    "temp_corpus = test_data['item'].map(lambda x: x.split('.'))\n",
    "\n",
    "corpus = []\n",
    "for i in tqdm(range(len(temp_corpus))):\n",
    "    for line in temp_corpus[i]:\n",
    "        words = [x for x in line.split()]\n",
    "        corpus.append(words)"
   ]
  },
  {
   "cell_type": "code",
   "execution_count": 23,
   "metadata": {},
   "outputs": [
    {
     "name": "stdout",
     "output_type": "stream",
     "text": [
      "<class 'list'>\n",
      "[['new', 'cylinder', '404', 'gas'], ['accumulator', '-', 'model', 'a-as', '5126', '3/4\"', 'connection', '-', 'emerson', 'make'], ['accumulator', 'flokool', '3/4\"', '400', 'psi', 'fksa596'], ['accumulator', '1', '5/8', 'connection'], ['accumulator', '7/8‘’']]\n"
     ]
    }
   ],
   "source": [
    "print(type(corpus))\n",
    "print(corpus)"
   ]
  },
  {
   "cell_type": "code",
   "execution_count": 24,
   "metadata": {},
   "outputs": [
    {
     "name": "stdout",
     "output_type": "stream",
     "text": [
      "Num of sentences - 5\n",
      "Num of words - 26\n",
      "Max no. of words in a sentence - 10\n"
     ]
    }
   ],
   "source": [
    "num_of_items = len(corpus)\n",
    "\n",
    "num_of_words = 0\n",
    "for line in corpus:\n",
    "    num_of_words += len(line)\n",
    "    \n",
    "max_length = 0\n",
    "for i in range(len(corpus)):\n",
    "    max_length  = max(max_length, len(corpus[i]), len(corpus[i+1]))\n",
    "    if i == len(corpus)-2:\n",
    "        break\n",
    "        \n",
    "print('Num of sentences - %s'%(num_of_items))\n",
    "print('Num of words - %s'%(num_of_words))\n",
    "print('Max no. of words in a sentence - %s'%(max_length))"
   ]
  },
  {
   "cell_type": "code",
   "execution_count": 25,
   "metadata": {},
   "outputs": [
    {
     "name": "stdout",
     "output_type": "stream",
     "text": [
      "Word2Vec(vocab=20, size=10, alpha=0.025)\n"
     ]
    }
   ],
   "source": [
    "## items to word2vec :\n",
    "\n",
    "emb_dim = 10\n",
    "\n",
    "model_1 = Word2Vec(corpus, size = emb_dim, window=3, \\\n",
    "               min_count=1, negative = 15, iter = 10, workers = 10, sg=1)\n",
    "\n",
    "print(model_1)"
   ]
  },
  {
   "cell_type": "code",
   "execution_count": 31,
   "metadata": {},
   "outputs": [
    {
     "name": "stdout",
     "output_type": "stream",
     "text": [
      "10\n",
      "==============\n",
      "20\n",
      "==============\n",
      "{'3/4\"': 3, 'accumulator': 1, 'a-as': 10, 'connection': 4, 'fksa596': 17, '5126': 11, '5/8': 19, '-': 2, 'make': 13, 'flokool': 14, 'cylinder': 6, 'new': 5, '1': 18, '7/8‘’': 20, '404': 7, '400': 15, 'gas': 8, 'model': 9, 'emerson': 12, 'psi': 16}\n",
      "==============\n",
      "[[5, 6, 7, 8], [1, 2, 9, 10, 11, 3, 4, 2, 12, 13], [1, 14, 3, 15, 16, 17], [1, 18, 19, 4], [1, 20]]\n",
      "===============\n",
      "[[ 5  6  7  8  0  0  0  0  0  0]\n",
      " [ 1  2  9 10 11  3  4  2 12 13]\n",
      " [ 1 14  3 15 16 17  0  0  0  0]\n",
      " [ 1 18 19  4  0  0  0  0  0  0]\n",
      " [ 1 20  0  0  0  0  0  0  0  0]]\n"
     ]
    }
   ],
   "source": [
    "## keras.preprocessing.text.Tokenizer(num_words=None, filters='!\"#$%&()*+,-./:;<=>?@[\\\\]^_`{|}~\\t\\n', \\\n",
    "##                                   lower=True, split=' ', char_level=False, oov_token=None, document_count=0)\n",
    "\n",
    "\n",
    "tokenizer_obj_test = Tokenizer(filters='!$%&()*+,.:;<=>?@[\\\\]^_`{|}~\\t\\n', split=' ' )\n",
    "tokenizer_obj_test.fit_on_texts(test_data['item'])\n",
    "\n",
    "## pad sequences :\n",
    "\n",
    "max_length_test = max([len(s.split()) for s in test_data['item']])\n",
    "\n",
    "## define vocabulary size :\n",
    "\n",
    "wd_index = tokenizer_obj_test.word_index\n",
    "\n",
    "vocab_size_test = len(wd_index)\n",
    "\n",
    "test_item_tokens = tokenizer_obj_test.texts_to_sequences(test_data['item'])\n",
    "\n",
    "test_item_pad = pad_sequences(test_item_tokens, maxlen = max_length_test, padding = 'post')\n",
    "\n",
    "\n",
    "print(max_length_test)\n",
    "print('==============')\n",
    "print(vocab_size_test)\n",
    "print('==============')\n",
    "print(wd_index)\n",
    "print('==============')\n",
    "print(test_item_tokens)\n",
    "print('===============')\n",
    "print(test_item_pad)\n"
   ]
  },
  {
   "cell_type": "code",
   "execution_count": 18,
   "metadata": {},
   "outputs": [
    {
     "data": {
      "text/plain": [
       "{'-': <gensim.models.keyedvectors.Vocab at 0x7fef18ad6748>,\n",
       " '1': <gensim.models.keyedvectors.Vocab at 0x7fef18ad6860>,\n",
       " '3/4\"': <gensim.models.keyedvectors.Vocab at 0x7fef18ad65c0>,\n",
       " '400': <gensim.models.keyedvectors.Vocab at 0x7fef18ad6908>,\n",
       " '404': <gensim.models.keyedvectors.Vocab at 0x7fef18ad6668>,\n",
       " '5/8': <gensim.models.keyedvectors.Vocab at 0x7fef18ad6710>,\n",
       " '5126': <gensim.models.keyedvectors.Vocab at 0x7fef18ad66d8>,\n",
       " '7/8‘’': <gensim.models.keyedvectors.Vocab at 0x7fef18ad6898>,\n",
       " 'a-as': <gensim.models.keyedvectors.Vocab at 0x7fef18ad6630>,\n",
       " 'accumulator': <gensim.models.keyedvectors.Vocab at 0x7fef18ad65f8>,\n",
       " 'connection': <gensim.models.keyedvectors.Vocab at 0x7fef18ad68d0>,\n",
       " 'cylinder': <gensim.models.keyedvectors.Vocab at 0x7fef18ad67f0>,\n",
       " 'emerson': <gensim.models.keyedvectors.Vocab at 0x7fef18ad69b0>,\n",
       " 'fksa596': <gensim.models.keyedvectors.Vocab at 0x7fef18ad66a0>,\n",
       " 'flokool': <gensim.models.keyedvectors.Vocab at 0x7fef18ad67b8>,\n",
       " 'gas': <gensim.models.keyedvectors.Vocab at 0x7fef18ad6940>,\n",
       " 'make': <gensim.models.keyedvectors.Vocab at 0x7fef18ad6780>,\n",
       " 'model': <gensim.models.keyedvectors.Vocab at 0x7fef18ad6978>,\n",
       " 'new': <gensim.models.keyedvectors.Vocab at 0x7fef18ad6828>,\n",
       " 'psi': <gensim.models.keyedvectors.Vocab at 0x7fef18ad69e8>}"
      ]
     },
     "execution_count": 18,
     "metadata": {},
     "output_type": "execute_result"
    }
   ],
   "source": [
    "model_1.wv.vocab"
   ]
  },
  {
   "cell_type": "code",
   "execution_count": 32,
   "metadata": {},
   "outputs": [
    {
     "data": {
      "text/html": [
       "<div>\n",
       "<style scoped>\n",
       "    .dataframe tbody tr th:only-of-type {\n",
       "        vertical-align: middle;\n",
       "    }\n",
       "\n",
       "    .dataframe tbody tr th {\n",
       "        vertical-align: top;\n",
       "    }\n",
       "\n",
       "    .dataframe thead th {\n",
       "        text-align: right;\n",
       "    }\n",
       "</style>\n",
       "<table border=\"1\" class=\"dataframe\">\n",
       "  <thead>\n",
       "    <tr style=\"text-align: right;\">\n",
       "      <th></th>\n",
       "      <th>item</th>\n",
       "      <th>product</th>\n",
       "    </tr>\n",
       "  </thead>\n",
       "  <tbody>\n",
       "    <tr>\n",
       "      <th>2</th>\n",
       "      <td>accumulator flokool 3/4\" 400 psi fksa596</td>\n",
       "      <td>cooling</td>\n",
       "    </tr>\n",
       "    <tr>\n",
       "      <th>3</th>\n",
       "      <td>accumulator 1 5/8 connection</td>\n",
       "      <td>cooling</td>\n",
       "    </tr>\n",
       "    <tr>\n",
       "      <th>4</th>\n",
       "      <td>accumulator 7/8‘’</td>\n",
       "      <td>cooling</td>\n",
       "    </tr>\n",
       "  </tbody>\n",
       "</table>\n",
       "</div>"
      ],
      "text/plain": [
       "                                       item  product\n",
       "2  accumulator flokool 3/4\" 400 psi fksa596  cooling\n",
       "3              accumulator 1 5/8 connection  cooling\n",
       "4                         accumulator 7/8‘’  cooling"
      ]
     },
     "execution_count": 32,
     "metadata": {},
     "output_type": "execute_result"
    }
   ],
   "source": [
    "test_matrix_data = test_data[2:5]\n",
    "test_matrix_data.head()"
   ]
  },
  {
   "cell_type": "code",
   "execution_count": 33,
   "metadata": {},
   "outputs": [
    {
     "name": "stdout",
     "output_type": "stream",
     "text": [
      "6\n",
      "==============\n",
      "10\n",
      "==============\n",
      "{'3/4\"': 3, 'accumulator': 1, '1': 7, 'flokool': 2, '7/8‘’': 10, 'connection': 9, '400': 4, 'fksa596': 6, '5/8': 8, 'psi': 5}\n",
      "==============\n",
      "[[1, 2, 3, 4, 5, 6], [1, 7, 8, 9], [1, 10]]\n",
      "===============\n",
      "[[ 1  2  3  4  5  6]\n",
      " [ 1  7  8  9  0  0]\n",
      " [ 1 10  0  0  0  0]]\n"
     ]
    }
   ],
   "source": [
    "## Tikenize test_matrix_data :\n",
    "\n",
    "tokenizer_obj_matrix = Tokenizer(filters='!$%&()*+,.:;<=>?@[\\\\]^_`{|}~\\t\\n', split=' ' )\n",
    "tokenizer_obj_matrix.fit_on_texts(test_matrix_data['item'])\n",
    "\n",
    "## pad sequences :\n",
    "\n",
    "max_length_matrix = max([len(s.split()) for s in test_matrix_data['item']])\n",
    "\n",
    "## define vocabulary size :\n",
    "\n",
    "wd_index_matrix = tokenizer_obj_matrix.word_index\n",
    "\n",
    "vocab_size_test_matrix = len(wd_index_matrix)\n",
    "\n",
    "test_matrix_tokens = tokenizer_obj_matrix.texts_to_sequences(test_matrix_data['item'])\n",
    "\n",
    "test_matrix_pad = pad_sequences(test_matrix_tokens, maxlen = max_length_matrix, padding = 'post')\n",
    "\n",
    "print(max_length_matrix)\n",
    "print('==============')\n",
    "print(vocab_size_test_matrix)\n",
    "print('==============')\n",
    "print(wd_index_matrix)\n",
    "print('==============')\n",
    "print(test_matrix_tokens)\n",
    "print('===============')\n",
    "print(test_matrix_pad)\n",
    "\n"
   ]
  },
  {
   "cell_type": "code",
   "execution_count": 40,
   "metadata": {},
   "outputs": [
    {
     "name": "stdout",
     "output_type": "stream",
     "text": [
      "Null word embeddings: 1\n"
     ]
    }
   ],
   "source": [
    "## prepare embeddings\n",
    "\n",
    "## Preparing embedding matrix\n",
    "\n",
    "emb_dim = 10\n",
    "\n",
    "embedding_matrix = np.zeros((vocab_size_test_matrix+1, emb_dim))\n",
    "\n",
    "    \n",
    "for word, i in wd_index_matrix.items():\n",
    "    \n",
    "    \n",
    "    emb_vector = model_1.wv.word_vec(word)\n",
    "    \n",
    "    if emb_vector is not None:\n",
    "        embedding_matrix[i] = emb_vector\n",
    "        \n",
    "print('Null word embeddings: %d' % np.sum(np.sum(embedding_matrix, axis=1) == 0))\n"
   ]
  },
  {
   "cell_type": "code",
   "execution_count": 41,
   "metadata": {},
   "outputs": [
    {
     "name": "stdout",
     "output_type": "stream",
     "text": [
      "[[ 0.00000000e+00  0.00000000e+00  0.00000000e+00  0.00000000e+00\n",
      "   0.00000000e+00  0.00000000e+00  0.00000000e+00  0.00000000e+00\n",
      "   0.00000000e+00  0.00000000e+00]\n",
      " [-1.07272435e-02 -1.24397278e-02 -3.13976780e-02 -2.76597347e-02\n",
      "  -9.97568597e-04  3.80993411e-02  1.42966863e-02 -2.89153308e-03\n",
      "  -3.89787480e-02 -9.11578070e-03]\n",
      " [-4.84701768e-02 -3.10889184e-02  4.57988568e-02  1.83870029e-02\n",
      "   8.12934339e-03 -8.56283959e-03 -2.91244537e-02  4.36556377e-02\n",
      "   3.17112729e-02 -4.00307029e-02]\n",
      " [ 2.07959265e-02  4.85222340e-02  1.73733681e-02  1.10867564e-02\n",
      "   3.90771292e-02  2.54254118e-02 -2.08431352e-02  2.61874031e-02\n",
      "   2.41404437e-02 -4.22534011e-02]\n",
      " [ 3.00608128e-02 -4.88103405e-02 -1.38026839e-02 -4.41556908e-02\n",
      "  -2.77705565e-02 -7.23003689e-03 -2.00753361e-02 -2.15586051e-02\n",
      "   1.09302634e-02 -3.47028184e-03]\n",
      " [ 4.54635173e-02  5.92378573e-03  3.82669382e-02  7.37847295e-05\n",
      "   2.32619494e-02 -4.12590802e-02  5.54583268e-03  3.87741462e-03\n",
      "  -1.53143452e-02  6.80060266e-03]\n",
      " [ 6.58707926e-03  2.89024506e-02 -1.87961943e-02 -1.52854500e-02\n",
      "  -4.57058698e-02 -3.05655822e-02 -3.67277302e-02  1.39933582e-02\n",
      "   4.68024388e-02  2.31802352e-02]\n",
      " [-4.73709367e-02  1.08788786e-02  1.28998999e-02 -4.54176739e-02\n",
      "   3.31940763e-02 -3.61282676e-02 -1.59250908e-02 -2.81248856e-02\n",
      "   9.34622996e-03 -4.29897048e-02]\n",
      " [ 3.61172333e-02 -3.29483002e-02 -1.35477809e-02  2.94898860e-02\n",
      "   4.59451079e-02  1.86534896e-02 -2.95521840e-02  3.83106060e-02\n",
      "   2.03411430e-02 -4.39564092e-03]\n",
      " [ 2.93570701e-02  1.26252035e-02 -4.02886420e-02 -1.84589792e-02\n",
      "   3.97199914e-02  7.95466453e-03  4.36834581e-02 -3.75733129e-03\n",
      "   2.25991546e-03  2.18696855e-02]\n",
      " [ 1.41359959e-02  9.80533753e-03  1.07330121e-02 -1.25907427e-02\n",
      "  -1.46943722e-02 -4.70490381e-02  6.71071606e-03 -1.49355046e-02\n",
      "   2.45718490e-02 -3.69837545e-02]]\n"
     ]
    }
   ],
   "source": [
    "print(embedding_matrix)"
   ]
  },
  {
   "cell_type": "code",
   "execution_count": 78,
   "metadata": {},
   "outputs": [
    {
     "name": "stdout",
     "output_type": "stream",
     "text": [
      "23\n",
      "{'as': 11, 'new': 5, '3': 2, '5126': 12, 'connection': 4, 'cylinder': 6, 'fksa596': 18, 'gas': 8, '8‘’': 23, 'a': 10, 'accumulator': 1, '4': 3, 'make': 14, '5': 20, '400': 16, '7': 22, 'psi': 17, '8': 21, 'model': 9, '404': 7, 'flokool': 15, 'emerson': 13, '1': 19}\n"
     ]
    }
   ],
   "source": [
    "wd_index = tokenizer_obj_test.word_index\n",
    "print(len(wd_index))\n",
    "print(wd_index)\n"
   ]
  },
  {
   "cell_type": "code",
   "execution_count": 103,
   "metadata": {},
   "outputs": [
    {
     "name": "stdout",
     "output_type": "stream",
     "text": [
      "23\n",
      "{'as': 3, 'new': 4, 'model': 5, '5126': 7, 'connection': 12, 'cylinder': 13, 'fksa596': 14, 'gas': 16, '8‘’': 10, 'a': 2, 'accumulator': 19, '4': 18, 'make': 22, '5': 20, '400': 1, '7': 9, 'psi': 6, '8': 21, '3': 17, '404': 11, 'flokool': 15, 'emerson': 8, '1': 23}\n",
      "============================\n",
      "[[4, 13, 11, 16], [19, 5, 2, 3, 7, 17, 18, 12, 8, 22], [19, 15, 17, 18, 1, 6, 14], [19, 23, 20, 21, 12], [19, 9, 10]]\n"
     ]
    }
   ],
   "source": [
    "wd_index_1 = tokenizer_obj_aa.word_index\n",
    "print(len(wd_index_1))\n",
    "print(wd_index_1)\n",
    "aa_item_tokens = tokenizer_obj_aa.texts_to_sequences(test_data['item'])\n",
    "print('============================')\n",
    "print(aa_item_tokens)"
   ]
  },
  {
   "cell_type": "code",
   "execution_count": 30,
   "metadata": {},
   "outputs": [
    {
     "name": "stdout",
     "output_type": "stream",
     "text": [
      "Found 23 unique tokens\n"
     ]
    }
   ],
   "source": [
    "word_index = tokenizer_obj_test.word_index\n",
    "print('Found %s unique tokens' % len(word_index))"
   ]
  },
  {
   "cell_type": "code",
   "execution_count": 67,
   "metadata": {},
   "outputs": [
    {
     "name": "stdout",
     "output_type": "stream",
     "text": [
      "{'prmium': 5548, 'l310': 7300, '7090': 6245, 'a00000274': 3034, '2co': 3123, 'final': 2506, 'uric': 3879, '15k': 2637, '870': 5404, 'corrugated': 648, 'cesare': 7407, '3x1': 1766, '6': 17, 'horizontal': 1143, 'lead': 2041, 'apkt': 5903, 'gtq': 5708, 'allen': 319, 'oen': 7342, 'fevicol': 3934, 'wz': 6256, 'm42': 948, 'loggers': 7621, 'carb': 1670, '44mm': 5538, '3102r': 2982, '2z': 2845, 'microsystems': 3377, 'od80': 3992, 'rwh': 4923, 'is210': 183, 'stth212s': 3054, '3a': 895, '40x100x40mm': 4487, 'red': 229, 'processors': 5749, 'gland': 98, 'ele': 7439, 'mppt': 2234, '207': 6523, 'cr22': 2972, '1094': 5562, 'l25': 1177, 's': 19, 'pfte': 5556, 'p08f1803v': 6892, 'x750': 1609, '2330': 6502, 'compo': 886, 'polycarbonate': 2570, 'milk': 6759, '30deg': 4868, 'm3x6': 2022, 'iot': 6426, 'register': 5791, 'machines': 3098, 'cylindrical': 2840, '106mm': 5525, 'proyl': 3869, 'antistatic': 3693, '400mm': 2396, 'well': 1912, '60x30': 5259, '450x150x40': 3579, '18x11x60': 5974, 'donit': 2476, 'a240': 5469, 'le15l14hcm': 6379, 'a10': 7533, 'addison': 3092, 'wcs1700': 7010, 'le18k6fled': 6411, '105c': 1361, '9tpi': 3165, 'a00004386': 5679, '6t': 3589, 'alluminium': 427, '41314699': 6606, 'xlp': 3406, 'long': 137, 'professional': 7060, 'blu': 3188, '16unc': 2408, 'cl2': 550, 'od17': 2209, '3052': 1466, '875': 2285, 'pvt': 2395, '08333': 3543, 'pb': 2851, 'modular': 7353, '470e': 6797, 'd42': 1335, '3148': 2197, 'sketch': 4689, '1408': 6666, '150x100xt32': 6081, 'je': 2369, 'm24x3': 728, 'vltg': 5827, 'sway': 2591, 'lre14': 4926, 'film': 1363, '55': 421, 'package': 85, 'pump': 182, 'wd22': 1844, 'mt5': 6066, '1x2': 7607, 'hmp': 5915, 'stopper': 3040, 'ds1308u': 2523, '347': 1651, 'polar': 7493, 'sae4140': 2814, '750': 741, '100uf': 1360, 'a00000377': 5200, 'm20x2': 439, '360': 1584, '0022uf': 4416, 'control': 564, '249': 6221, 'blades': 6038, 'upgrade': 7061, 'meanwell': 1444, 'id84': 7131, '10tx1250wx5000l': 4197, 'conductive': 2005, 'axk6085': 4112, 'bran': 3877, '174cm²': 3027, 'a00004985': 5999, 'h32': 3461, 'bolt': 32, '061f7526': 7354, 'd2': 1221, 'wrap': 6440, 'mcb': 440, 'f22': 345, 'id150': 3264, 'separatorm': 5412, '47mm': 6621, '40mm': 510, 'sample': 1129, 'evolution': 4780, 'lincmos': 5828, 'flp': 694, 'equipment': 2445, 'general': 3514, 'ph': 745, 'ss304': 67, 'tweezer': 7611, 'zxnv': 5417, 'bsw': 354, 'pn72056': 6156, 'a00005282': 5171, '140x100x10t': 6093, '72w': 4904, '15ab': 7032, 'm6x25': 5057, 'j': 2436, 'a00003685': 5667, 'fl40': 3084, '70x30': 3475, 'ii': 2611, 'hard': 196, 'ge': 1488, 'fl50': 4834, 'sealing': 215, 'x10g': 2288, '401': 3930, '1250x2500x1': 6101, '8enf8662v': 6806, 'entry': 1866, '2525': 1857, 'd85': 818, 'jal': 6116, 'ggs': 5585, '885012207080': 4367, 'm14x2': 845, '84': 2455, 'tmov25sp320m': 6330, 'a420': 4019, 'cover': 194, 'feviquick': 3926, '45l': 909, 'bit': 262, 'dn25': 2889, '11t308': 5914, 'monitoring': 3121, 'extention': 4066, 'fuse': 1092, 'nake': 7700, 'elasto': 4864, '190x170x30': 6638, 'od56': 2205, '135': 986, 'header': 2000, 'link': 903, 'l125': 4562, 'x5r': 2925, 'finish': 566, 'od330': 5390, 'danfoss': 588, 'electricals': 6048, '11tpi': 2403, '3216': 2919, 'cc1206mkx5r6bb226': 4411, 'nema': 7404, 'res': 428, 'mcp6004': 5781, 'm6x18': 3218, 'shielded': 790, 'pg7': 5554, '8x40mm': 5061, 'removal': 6253, 'fl525': 2157, 'aov': 479, 'wc6': 233, '54sicr6': 3854, '01': 537, 'le18b22rd': 6359, '69': 2116, 'hexagonal': 2012, '2440': 2560, 'electronik': 2542, 'dn30': 2890, 's20r': 4212, '2018': 3665, '4pin': 2976, '1220x1500x5': 6102, 'm24': 766, 'f304': 296, '415v': 1539, 'hs1m': 3056, 'logic': 6141, 'bellow': 3811, '434': 5528, 'cobra': 5316, 'water': 773, '808053083': 5586, '70mm': 923, 'uc18h7tft': 6387, 'pipe': 24, 'ssr': 1389, '300mw': 4748, 'a00000440': 6180, 'throughbeam': 7023, '6206zz': 4156, 'd220': 1895, '24148': 6551, '1840': 5399, 'stell': 7821, '90dg': 1264, 'bwø294xø240': 3821, 'channel': 519, 'siliciumcarbid': 6299, 'mmsz5231bt1g': 4701, '36mm': 3426, '168': 1984, 'allenkey': 1750, 'wd11': 7100, 'buffer': 7194, '2e': 3146, '97': 2117, 'xm19': 985, 'od14': 1890, 'ot': 1949, '1490': 7881, '0710rl': 6839, 'a00004987': 6001, 'd55': 1048, 'x13unc': 1021, '744': 5248, 't80': 1421, '18g16sk': 6373, 'sip': 3386, 'bare': 1305, '20kg': 6979, 'spin': 2466, 'rc0805fr': 1312, 'sinks': 5062, 'gasket': 71, '1200x1200': 6123, '680x110x30': 6089, 'liner': 999, 'hollow': 6458, 'wc1': 2176, '1907': 6011, '210l': 7286, 'miscellaneous': 365, 'crimper': 7409, 'pf': 2278, '6tx1250wx6000l': 4196, 'm16x75': 3176, 'mmsz4684t1g': 4702, '513': 2199, 'superlube': 3730, '66mm': 7458, 'fksa596': 2715, 'amp': 425, 'm16x90': 5098, '700mm': 2079, '5x5': 705, '25uh': 5852, 'uln2003aipwr': 5776, 'sa217': 675, '50x50x14': 5630, 'twisted': 4965, '18du16': 4271, 'motawane': 6027, 'a193gr': 1545, '5kva': 7574, 'combination': 1832, 'jacketed': 5521, 'devices': 2136, '6tx1250wx5000l': 2856, 'k150f10a': 4309, 'x141': 6572, '498tl': 7928, '114xid': 6555, 'ic907': 3420, '270v': 4908, 'stabilizer': 7356, 'relay': 331, '250ml': 5570, '367': 6232, 'od89': 3711, 'mcp1825s': 5823, 'tpg': 6669, '1155': 7874, '608zz': 2838, 'locking': 1791, 'b27a': 4303, 'a312': 1337, 'er308l': 3248, '3way': 2255, 'cord': 785, '830me': 4344, 'pcb': 139, 'gm': 1873, 'alco': 3075, '2t': 6681, 'gpm': 3729, 'operational': 2531, '23789a': 7104, 'f22cl3': 1779, 't304l': 635, 'heating': 7549, '2x8t': 3699, 'dc12v': 4941, '180x160x35t': 6112, '42v': 5770, 'od46': 3993, '500mm': 2081, '374mh': 4979, 'm6x1p': 1084, 'hc': 3985, '15nb': 1417, '58': 1229, 'a216gr': 2175, 'ba': 2478, 'od65': 1891, '400vac': 7070, 'thermo': 7437, '25mm1250mm': 6070, '9225': 3142, '1800w': 3960, '27k': 2631, 'ten': 7741, 'tl431bto': 7577, '36': 219, '3100': 2734, 'pumpset': 1835, '0722rl': 6846, '3232': 7535, 'f11': 285, '220uf': 2267, 'dspic33fj16gs502': 5751, '330uf': 1678, 'wby': 305, '7s': 3865, '280x180xt50': 6086, 'asme': 1570, 'ac6040m': 5947, 'visual': 7397, '191l': 5682, '100l': 1172, '2500ggc': 2177, 'clips001': 3966, 'isolated': 2491, 'a536': 619, '2v': 4766, 'o': 104, '319': 6491, 'usop': 3382, '1950': 7903, 'thk2': 6215, 'lever': 521, 'cdsot23': 4747, 'new': 1451, '2931': 7738, 'jotun': 7504, 't4511': 5840, 'breaker': 1101, '170x140x25': 2561, 'top': 201, 'rr': 698, '303': 840, 'x7r': 645, 'three': 1511, '5mtr': 2052, 'paste': 5624, 'quarter': 1426, 'od164': 7178, 'brake': 751, 'prime': 3597, 'meter': 921, 'perforated': 315, '70x850': 7827, '193': 1726, 'spg': 256, '7x9': 1610, 'pl': 4838, 'tantalum': 2271, '075k1l': 3638, 'outdoor': 6126, 'tinned': 5197, '16490': 6702, '8pole': 4918, '33uf': 2264, 'swan': 7552, '1kg': 3941, 'brass': 335, 'capillary': 1682, 'flash': 1803, 'florex': 4883, '216wcb': 7824, 'nandan': 6164, 'aramide': 2487, '1sqmm': 1986, '18w': 5946, 'qh3': 7687, 'ina': 4150, 'm39': 2039, 'clamp': 783, '14v': 7045, 'm22': 1558, 'inside': 2309, 'x30': 3539, 'a00003730': 7937, '2810': 7661, 'class1': 2656, '440c': 4071, 'tg': 6992, 'x130': 6518, 'lg': 1274, 'op': 5831, 'materials': 4476, '22x42x10mm': 6995, '317': 1916, '16x14x30': 7265, 'neu2178gk': 4549, '132kl': 6880, 'hd': 2031, 'barc': 2694, '6uf': 4446, 'disch': 7693, 'density': 723, '14kw': 4555, 'a194gr': 1408, 'cdil': 7582, 'acs712': 2084, 'fl155': 4823, 'uns': 1649, 'ws': 3017, 'support': 535, 'l30': 1079, '34': 483, 'st': 43, '75l': 1020, 'unc3': 1405, 'pclnr': 7539, '17x19mm': 7090, 'd15': 1900, '3sqmm': 4835, '12mm': 311, 'endless': 3850, 'korloy': 1433, '1nf': 2272, 't30': 6939, 'km55dr60': 7118, 'mmsz5231bs': 4773, 'foam': 2949, 'sponge': 3261, '630volts': 4417, 'taie': 4591, '2rs': 4113, '1k5': 6875, 'x4': 1683, '100x100': 1896, '213': 2204, 'ar26': 5012, '2741102310': 6592, 'monomer': 4676, '100ah': 2820, 'tlv6004ipwr': 5817, '51212': 4151, '140mm': 6949, '28unf': 5207, '2m': 2469, '56k': 3626, 'reader': 7613, 'grwcb': 3010, '8c': 3058, '289': 6533, '202': 1145, 'composite': 3307, 'a00000030': 5558, '2x1000mm': 3246, 'a34917': 3826, 'straight': 497, 'as568a': 6237, 'x65': 2124, 'fl320': 7190, '28mm': 6181, 't321': 2793, 'abb': 1836, 'sub': 4589, 'tc11': 7108, 'global': 7261, '431': 622, 'de': 1843, 'rt20': 7161, 'ink': 800, 'jacket': 3749, 'spectrum': 6244, '123x65xt28': 6078, '8': 6, 'uwt1h100mcl1gb': 4441, 'cool': 4606, 'broadcom': 5758, 'unc5': 2019, 'stand': 1002, 'crane': 2322, '255': 2222, 'omaf': 4176, 'roof': 6043, 'id65': 2236, '1500tcv': 1858, 'jk': 3093, '8b': 6741, 'hempel': 3594, 'submersible': 431, 'dn': 1128, 'sclcr': 4213, 'airset': 3957, 'hex': 50, 'monel': 1648, 'ds': 1804, '41mm': 4005, '660mw': 6896, '3128': 6548, '04': 1399, 'phocos': 2233, 'ee2005': 7571, '156': 6292, 'cui': 2402, '4150': 4436, 'ac0603fr': 2138, '543': 5510, '8xid12': 3696, 'sot223': 3366, 'tif2': 3645, 'a00004757': 7940, 'busbar': 411, 'production': 6974, 'od95': 2813, 'pipette': 2071, 'pengaurd': 6700, 'cc0603drnpo9bn8r0': 4402, 'lm358dt': 5739, '1250': 367, '55dg': 4872, 'wd18': 3685, 'x3mm': 6115, '3209': 4123, 'ea': 3940, 'rack': 3144, 'fl365': 7126, 'd145xa12xs24xd2': 5611, 'uc22exv18h1c': 6390, '40sch': 1725, 'd60': 775, 'amps': 704, 'a00004380': 7129, 'thermocouple': 2167, '18mm': 1495, 'x10': 843, 'id120': 1568, '19w': 5877, 'regulator': 624, 'pic32mx775f256h': 6138, 'jigsaw': 2326, '14awg': 5853, 'gel': 2230, 'id110': 2841, 'tubing': 438, 'bmi': 7046, 'rectangular': 1483, 'toggle': 1586, 'm16x50': 5095, 'n32': 5709, '0y': 4525, 't303': 3527, 'od270': 3266, '51110': 2835, 'lock': 126, 'pale': 5577, 'ccmt09': 4208, 'adapter': 975, 'bvd': 1557, '9at': 4699, '250': 353, 'w40': 2906, 's12m': 4204, '4x4': 3183, 'lvm12ftr050e': 3622, 'sprg': 2129, '0mm': 3090, 'alloy': 881, '01d': 2942, 'd22': 1480, 'assembely': 5642, 'ahu': 2997, '885012005009': 4433, 'fab': 3446, '151l': 7942, 'fl550': 7195, '5x9mm': 7567, 'sbds': 1233, 'fine': 5595, 'lub': 2465, '110x110x150mm': 4622, 'sch40': 575, '05': 472, '9': 94, 'm30x3': 617, 'eye': 281, 'elbow': 208, '10pin': 7565, '6061': 6585, '2120': 2497, '75x3': 4884, '32dia': 6946, 'rods': 4069, 'mic5225': 5789, 'a182f11': 3835, 'travel': 601, 'assm': 3534, '5x16': 2038, 'casing': 1380, 'hours': 4192, 'wiremesh': 1862, 'cum': 1963, 'chuck': 2238, 'embraco': 1691, '25v': 585, 'hnd25c': 4795, 'l65': 907, 'dead': 6004, 'model': 211, 'x15': 3556, 'mmsz5222bt1g': 3042, 'm³': 2623, 'fl428': 7173, 'mmbt2n3906sot': 7579, 'q': 2563, 'm6x75': 5078, 'guage': 3464, 'bonfiglioli': 1297, 'l2cgnmb': 7373, 'id82': 7114, '160': 399, 'od435': 3276, 'multimeter': 6025, 'p1212': 3663, '75mm': 1486, 'x16tpi': 1611, '65mh': 7564, '30uh': 5839, 'suppression': 3060, 'gauge': 358, 'od87': 2472, 'dh': 4463, 'tc6': 1315, 'nylock': 570, '3136': 2196, 'termination': 2900, '07332kl': 6841, '208': 4523, 'a00004052': 6198, 'schneider': 1391, 'recognition': 4097, 'main': 1658, 'typ2': 7258, 'od24': 2774, '19swg': 2127, 'od110': 3272, '60x25': 3474, 't2': 1412, '07t205': 4845, 'rj': 4565, 'o60': 3700, 'sv': 6037, '022uf': 4413, 'based': 2973, 'p6ke24ca': 4731, 'tfe': 2882, 'x226': 6542, 'irfp2907zpbf': 3468, '20uh': 2536, 'llz': 4533, '39x28xt0': 5465, '1eha1t': 7304, '200': 422, '304': 26, 'techniva': 4858, 'zcmt080304': 4848, 'enamal': 6265, 'daubert': 3972, '43mh': 4982, 'a24231': 4672, 'pb6060070050': 4168, 'printex': 4457, 'm24x90': 5109, 'univerasal': 7511, '5p': 304, '33r': 6836, '6215': 4157, '100v': 2253, 'carol': 3364, 'cheese': 652, 'tssop14': 5829, '10r': 6838, 'g41': 1499, 'b7': 83, '6x18': 5290, 'polyamide': 3500, 'id102': 7133, '440v': 4447, 'mod7': 1821, 'charge': 2999, 'kgs': 3599, '125': 360, 'samwha': 1502, '157': 6562, 'build': 6293, 'ttl': 7625, 'zp': 5065, 'spot': 7858, 'd25x50': 6430, '3144': 6524, '601s': 7849, '460vac': 7573, '305': 2352, 'fg': 115, 'x123': 6517, '20mm': 357, '120g': 6314, 'r1240n001b': 5742, '4x4inch': 6328, 'l275': 7297, '2400mm': 3258, 'l72': 7288, '3gm': 3933, 'od72': 5370, '500k': 6818, 'matte': 1528, 'd2c': 2804, 'z1l0x': 3374, 'id122': 3678, 'spc': 2242, '141610': 4255, 'rpa150': 5674, 'cad': 4308, '832': 6002, '318mm': 4324, '42x97x1': 5436, 'prefabricated': 3598, 'vfd015e21a': 7840, 'v1p': 2002, '30a': 2430, '3v': 987, 'cheesehead': 2420, '40a': 1729, '179': 5502, '1700mm': 5656, 'gr12': 2030, '68k': 6804, 'od18': 1893, 'od10': 1639, '17mm': 1965, 'slip': 5330, '3172': 2583, 'smd1225': 5838, 'rpa100sr': 1623, 'le18g16dg2m': 6370, '4700nf': 2915, 'gvl': 7666, '10a': 1168, 'ecozen': 737, 'handwheel': 599, 'compact': 6996, '30289920': 7716, 'manual1': 6583, '20tx2000wx12000l': 6635, '510k': 6796, 'silver': 1351, 'schottky': 1715, 'fl580': 3688, 'm4x10': 5194, '95l': 1404, 'od13': 7191, 'm5x15': 3171, '300std': 3299, 'l35': 842, 'm20x75': 5101, 'dia8': 4649, '10x10': 4438, '3276': 6545, 'rounding': 4639, '16mm': 819, '25ml': 3323, '135x75xt20': 6096, 'fpc': 4567, 'aluminium': 165, 'f14': 1869, 'feroze': 6266, '¾': 662, 'k3g310az8802': 5026, 'a00000467': 6183, 'prep': 712, 'filter': 275, 'cc1206zky5v7bb226': 4394, 'break': 1696, '560': 2441, 'big': 1086, 'ebm': 2006, 'sq425xthk50': 7224, '1010': 7872, 'ic': 178, 'packaging': 1069, 'walls': 2624, 'ycqc03l04': 4051, 'superaec': 4961, 'ucc21520dwr': 5755, 'rxze2m114m': 4948, '6w': 3129, 'cd': 5805, 'atmega1284p': 5713, 'od61': 7257, '283260': 4294, '653': 7873, '85': 605, 'v7': 6378, '7568p': 4597, 'spade': 7077, 'm6x10': 2400, '414': 3929, '124d': 4922, '250x200x28': 6945, 'theft': 5132, 'm1': 4464, '1964x986x40mm': 7067, '3090': 3605, 'x12': 1146, 'chassis': 5060, 'jungle': 1238, 'rptfe': 1090, '16unf': 5127, 'cm2': 802, '110vdc': 863, 'o51': 3697, 'sb': 4771, 'a00000342': 4683, '35um': 6364, 'coffeebrown': 5871, '20x20': 1510, 'customised': 6161, '75k': 3618, 'bb': 897, 'fd12': 7058, 'intertherm': 6712, 'tank': 865, '280long': 4295, 'guard': 2394, 'nylok': 5157, '33e': 3629, 'gtv': 47, 'ketonic': 6773, 'a00000121': 7931, '20hp': 6158, 'nos': 750, 'awg': 7463, 'steel': 11, 'diodes': 651, 'tegh': 6775, 'avx': 1932, '371': 6223, 'r960': 7936, 'wd1': 3488, 'mangalam': 7861, 'temporary': 7412, '1kl': 7420, '525': 7896, 'ver1': 6401, '04b': 6907, 'sew': 3315, 'id116': 7107, '7a': 2650, 'eif': 6905, 'gc60': 5597, 'cast36': 7761, '6005zz': 4153, 'bandssaw': 2494, 'lamp': 4304, 'od53': 1908, 'grafoil': 1294, 'e5': 6019, '190mm': 1338, 'photograph': 4603, 'le17m14ddb': 6362, 'class': 279, 'a313': 862, 'soic8': 1797, 'gipp': 1292, 'pedestal': 6163, 'hcpl': 5756, 'uc18j9hum': 6404, '113': 1416, 'operating': 3812, 'ld05yc475kab2a': 4434, '0iso': 2546, 'mmm': 5599, '68': 1033, 'wolfarm': 7863, '149': 6452, 'tapes': 7487, 'd450': 5612, '235lt': 4859, 'pol': 6041, '51113': 4137, 'c870': 5728, 'dai': 5302, 'lre10': 4925, '50x4': 4898, 'l23': 5074, 'wd6': 7149, 'l160': 7301, 'moulded': 473, 'x415': 4617, 'cctv': 5022, '8j24': 6410, 'first': 6715, '2062': 350, 'enterprises': 2432, 't8': 618, '07187kl': 6829, 'mini': 4301, 'dog': 2946, 'faz': 5547, '4x1': 3073, 'swg': 82, 'm10': 368, 'silicate': 6701, '1180x2500x100mm': 3660, 'export': 4238, 'lw': 6169, '1000uf': 1501, 'block': 423, 'blade': 269, 'che': 1144, 'transprnt': 3788, 'stm32f429vet6': 5798, '50x50x1': 4316, 'access': 7673, 'optoisolator': 5811, 'com': 5710, 'thinner': 429, 'rnd': 6374, '20ft': 3969, 'tlv6004': 5816, '1180mm': 6727, '12unf': 1575, '29': 2037, 'preset': 6686, '26mm': 2548, 'er': 1019, '070rl': 6831, 'semiconductor': 1015, 'reggiana': 5544, 'x245': 6441, 'nylon': 641, 'eval': 6397, '1se0090': 6149, '10sq': 1524, 'stapler': 6448, 'din6798a': 5273, 'x39': 6478, '025': 6909, 'rolls': 3484, '020': 5939, 'pressure': 321, 'un': 524, 'mlcc': 457, 'koel': 2467, 'counterweight': 1374, '18k': 3631, 'uc12g03exv': 6356, 'm16x40mm': 5217, 'f317': 2808, 'groove': 1661, '144': 1520, '264pn': 5808, 'ront': 7008, '224l': 4931, 'ee92252s1': 5016, 'x340': 3565, 'conduit': 1577, '2p': 689, '50v': 308, 'brown': 539, 'is1363p4': 5116, 'u': 471, 'leather': 6964, 'caster': 4471, '8x19': 5298, '10x8x50': 5982, 'sl': 1387, 'flush': 2698, 'd270': 2213, 'connectwell': 759, 'aeroseal': 3935, 'armaflex': 3928, 'puf': 761, '85x70mm': 6155, 'bittu': 7443, '12605c': 7804, '61': 1522, '164': 2351, 'm12': 341, 'micrologix': 6674, '10uh': 3412, 'a563': 5125, 'fr1h101': 4374, 'l175': 7281, 'notched': 3187, 'shell': 1251, '560mm': 4323, 'e': 493, 'marking': 1193, '1100': 3019, '15v': 3048, 'a80': 6219, 'se': 2824, 'electropolish': 3860, 'stainles': 5264, 'l26': 3164, 'go': 1833, 'b16': 225, '273': 3107, 'ti': 2085, 'clips': 4956, 'door': 760, 'c16': 4712, 'm6x20': 2011, '1kv': 1362, '6x6': 1415, 'rj45': 2979, 'cross': 7652, 'sqcm': 6694, '152': 2499, '4er4': 5894, 'capping': 6323, 'ø170xø90': 2173, 'button': 1040, 'manufactured': 3752, 'm75': 5166, 'ec': 4505, 'l95': 1753, 'toluene': 7531, 'sukha': 6296, 'm7ka': 3944, 'od86xid61xthk': 5283, 'r00324': 6776, '100ma': 5419, '3801': 5037, '3132': 6565, 'rotork': 972, '210': 264, 'pipes': 768, 'od348': 6124, 'coating': 2413, 'wd19xid116xtc11': 7144, 'modified': 7457, 'ac0805fr': 6876, '70mtr': 6742, '901': 2429, 'od114': 6467, 'wd36': 2662, 'stud': 54, 'dn10': 3478, 'philip': 2024, 'ins': 2262, 'prototype': 6327, 'last': 5699, 'pno': 7348, 'm3x6mm': 5245, '3ph': 2365, 'solar': 307, '7552': 4594, 'tdr933': 5589, 'o3': 7649, 'dwg001169': 3914, 'polite': 7514, 'fl96': 7163, 'hinge': 394, 'jainson': 6021, 'x92': 3555, 'paints': 544, 'gr4': 3197, 'front': 604, 'ferulle': 3185, 'mod': 695, '120408': 5907, 'n4u': 7469, '1200mm': 2008, 'uln2003ain': 5722, 'compressed': 2482, 'pssnr': 3778, '328': 2766, '110w': 5029, 'd36': 777, 'powder': 1668, '10000': 7888, 'bloomwash': 7851, 'intelligent': 3591, 'dwg004026': 3907, '1300': 1905, '3130': 6561, '5108': 6901, '17': 151, 'antirust': 3978, '2r2y': 5862, 'unison': 4912, 'zcmt12t304sp': 4850, 'uncx60l': 7283, 'afr': 433, '0024': 4634, 'a00003482': 6915, 'pitch': 230, 'kit': 681, 'pjez': 5230, 'end': 188, '89x86x17': 5658, 'cv1500': 1443, 'm4x35': 3208, '1mm': 813, '35gsm': 2581, 'fast': 4724, 'le14h4fp': 6400, '275vac': 2909, 'royal': 6003, '3020': 6733, 'grade': 93, 'leg': 5397, 'clear': 1095, 'abs': 6644, 'relief': 1450, '2nos': 2594, 'rod40p431130mm': 6602, 'dia4mm': 4807, 'dotted': 6967, 'interface': 2088, 'ø54': 2107, 'si': 4175, '105l': 7278, 'a00003567': 7121, '480x370x320': 4613, '2684': 7044, '005000': 6899, 'x272': 3569, 'br': 1961, 'sai': 3815, 'gl': 1306, 'anupam': 7386, '4166': 3547, '2ton': 4171, 'p24': 6650, '221': 6230, '2312': 6482, 'hydrol': 5704, 'f316': 158, 'typ3': 7241, 'od120': 1474, '1175': 7879, 'pluggable': 502, '110308': 5931, '22038': 5034, 'borosilicate': 1602, 'thermal': 1591, 'sqm': 6719, 'a00000938': 4678, 'w40thk1': 2904, 'adhesive': 623, 'id47': 6243, 'us': 2894, 'ped': 206, '6k': 3616, '800glv': 2566, 'acq80': 7834, 'snmx': 5241, 'pmeg4005ct': 4740, 'ref': 7460, 'zua': 4909, 'spica': 1318, 'non': 278, '62k': 6888, 'mo': 2744, 'cups': 4669, '250r': 6855, '86': 1788, '6amp4pole': 6042, 'readout': 7619, '40x': 6997, 'schrader': 3810, 'coller': 628, 'polythyelene': 2112, 'f6': 4042, 'sse': 2695, 'dia7mm': 4830, 'polymer': 1940, 'latch': 5986, 'spiral': 332, 'dia400': 5621, 'h51205': 4111, 'rt8': 7183, '500ml': 5567, 'free': 3399, 'vkg': 5578, 'id175': 6131, 'drawers': 4468, '5µa': 5772, 'a194g': 5152, 'cl': 685, 'sn74hc164n': 5813, 'od178': 7179, 'circlips': 6902, '180mm': 2790, '14162217': 4256, 'wd8': 3675, 'same': 3363, 'unbrako': 1747, 'leaded': 754, 'smh': 3986, 'frls': 1164, '3k': 1603, 'extrusion': 6931, 'smc': 4726, 'c10': 1438, '47': 1132, 'exv': 3524, '061f9243': 7337, '1040': 4321, 'pcd': 1744, 'm20x50': 5100, '102': 1461, 'm20x1': 6763, 'pa250dou': 5337, '128mm': 1816, 'position': 509, '22nf': 4347, 'outer': 603, '101210': 4250, '07': 1071, 'od230': 5354, 'tool': 453, 'input': 1343, '30thick': 2893, 'afs': 4608, '121': 6211, '900v': 7558, 't24': 4165, '25fbf52': 2139, '800vdc': 1913, 'x310': 3004, 'x208': 6538, 'murgi': 3442, '174': 7921, '32vdc': 1990, 'wd30x': 7198, '93': 1424, 'drum': 1008, 'x04': 4494, 'd100': 683, 'tt9030': 5929, 'stain': 4456, 'bo': 1043, '044': 7187, '1002': 7319, '332k': 6840, 'c3': 632, 'mbw': 7653, '4140': 3856, '900scv': 7751, 'od48': 3994, 'd44': 4021, 'txmr': 7556, 'shavison': 7047, 'od108': 3274, '3mm': 212, '16x16x110': 2819, 'reguler': 3351, 'le18e16dg2kv1': 6371, 'asco': 486, 'hdpe': 1207, 'dia10': 4813, '25ltr': 7416, '692xid': 5494, 'm22x50': 5111, '508': 2988, '7mm': 808, 'trap': 2106, 'fl156': 7170, 'l230': 3280, 'fire': 2729, 'yuden': 2274, '4g': 4532, 'cnlinko': 2986, 'liquid': 1827, 'cage': 2941, '1620': 7056, 'atn9': 4134, 'emuge': 1613, 'uls': 6423, 'cup': 1260, '4040': 5002, '558xid526xthk': 5459, 'cleared': 4721, '50x50x6mm': 3967, '860160672009': 4380, 'l190': 2160, 'converter': 3112, 'clip': 722, '24x26mm': 7095, 'fr': 1165, 'lr': 3344, 'bitu': 7447, 'ultrasonic': 5629, 'controller': 302, '60hz': 7054, 'a00000325': 5201, '5t3': 5279, '47uf': 1677, 'ns': 7787, '22mh': 4498, 'nef': 2193, 'jumbo': 2281, '538': 2769, '032f1204': 7709, 'd18x20': 6432, '125x125xt30': 3455, 'novus': 6756, 'en8': 410, '2716020': 4574, 'phs': 3359, 'ratio': 3314, 'small': 828, 'paper': 355, '9mtr': 7436, 'serrated': 5286, 'walsin': 4345, 'painting': 2867, '2x12': 7236, 'od165': 6940, '175': 4504, 'ambulift': 3657, 'maxi': 5415, 'fl515': 7160, '960l': 7414, 'id80': 2451, 'bluetooth': 3984, 'd105': 1479, 'coat': 7496, 'od78': 3295, '255mm': 6598, 'millboard': 1425, 'a00001657': 7930, '837': 1763, '7926': 6016, 'fittings': 190, 'x46': 6476, 'volumetric': 3326, 'conberg': 4186, '2k': 803, 'quick': 1447, 'd860': 4040, 'signal': 5748, '129': 4992, 'themr': 3807, 'instruction': 6172, 'integrated': 3381, 'ni': 7009, '330r': 2630, 'phe': 1571, 'components': 626, 'c24q5b1551': 5593, 'feed': 1254, 'bwø960xø850': 7762, 'hs15': 3341, 'bakers': 5043, 'lcb': 1110, 'k3edta': 7601, '10tx1500wx6000l': 6630, 'folk': 6022, 'ø49': 4999, '5thk': 5449, 'micron': 602, 'by128': 5989, '5ltf': 3885, 'neltron': 4889, 'en': 606, 'm10x40': 5055, '115': 1642, '1089057470': 7028, '2150': 6619, '650x260x650mm': 4610, '68mm': 6339, '4xt3': 5263, 'a00000662': 3922, 'ad': 3350, 'kcj513hag': 4550, 'type431': 4034, 'd520': 6647, 'a479': 66, 'tex': 3339, 'tl111': 4822, '5s': 2447, '18g': 1250, 'm20x100': 5103, '20': 46, 'microchip': 1301, '75x15l': 5975, '6203': 2834, '58mm': 2501, 'tc5': 3683, 'oxford': 6277, 'recovery': 4725, '250x180x160': 6036, 'af': 2480, '199': 6571, '150nb': 1775, 'assembly': 928, '450vdc': 4451, 'nta1828': 4106, 'lubricating': 1660, '1di': 5232, '6311': 4160, 'wound': 346, 'eleact': 2186, 'pg13': 2898, 'e3': 2343, '282mm': 5512, '188mm': 6204, '9unc': 3724, 'x110': 2513, '107t': 6683, '937': 5190, '9cm': 5854, 'od240': 3265, 'le18h16dg2k': 6402, 'gsm': 874, 'jk6036': 5237, 'x3': 1693, 'corrogated': 6110, 'chamdril': 7757, 'teeth': 1705, 'gylcerin': 5601, '50dia': 6948, 'lm39302r': 5777, 'planetary': 2496, '0733rl': 6837, 'inch': 145, 'es': 1654, 'moldedgr': 7232, 'mat': 1687, '3400mm': 5655, 'resin': 872, 'ss304l': 1027, 'an': 4902, 'txv': 2692, 'm30x1': 3193, 'flø127': 7790, '0ym5': 5790, '3411': 7494, 'ps': 542, '610x530x230mm': 4222, 'qev': 477, 'c20': 247, 'insulation': 770, 'buthyl': 3866, 'uncx40l': 7263, '16xthk': 5464, 'rk73h2atte1502f': 6816, '46mm': 6414, '32': 191, 'id143': 3532, 'seator': 4099, 'keltron': 1930, 'a182': 45, 'charger': 1341, 'm4': 522, '03e': 2652, 'a182f316l': 4044, 'stiffner': 2647, '9m': 1853, '30x30x1': 3790, 'freemans': 6053, 'sch': 263, 'rh': 688, 'pure': 6280, 'm12x35': 5090, 'modulating': 2182, 'e4': 6017, 'xssr': 4938, '25px60l': 5208, 'anchor': 1989, 'is1367gr8': 2404, 'kor': 4846, 'vf': 3052, 'polished': 1592, '0e': 2636, 'cr30k6m': 2964, 'housing': 496, 'china': 2945, '63x35mm': 6744, '7mhz': 3411, 'dc': 207, '65': 284, 'curve': 2556, '200e': 3634, '160408': 5927, '3thk': 6656, 'maintenance': 3232, 'e10751': 6029, 'connecter': 5212, 'light': 1012, 'diesel': 2463, 'nace': 203, 'fl25tl70': 4650, 'pleated': 5323, 'ups': 2232, '108': 5483, '16fm120': 3044, 'prob': 7254, 'thk85': 6122, '95x20': 7411, 'feedback': 2359, 'googles': 6972, 'l185': 7308, '90id': 4509, 'l280': 7302, '1': 3, '100x2': 4311, 'flap': 1182, 'ir100': 7073, 'cus': 576, 's6': 7350, 'ct': 1946, 'rotolock': 2691, 'htssop24': 5736, '350x700x25mm': 3946, 'lm324': 5726, 'wht': 3725, 'beads': 5308, '11mm': 1352, 'dprh06': 7655, '1140': 3284, 'a00004337': 5608, '305x265xt75': 6087, 'dia12': 3088, 'a564': 450, '30x48': 6178, 'nonmag': 6468, 'l10': 1550, 'nexperia': 4751, 'segment': 3067, '2a': 832, '810mm': 7477, 'fl147': 4818, '3pin': 2307, 'eapansion': 7702, 'd47': 4046, 'kalrez': 967, 'sd': 742, 'nature': 1001, 'b8ma': 2021, 'km10': 5161, '2500mm': 6726, 'lightblue': 5867, 'ac': 300, 'tectile': 7375, 'component': 2460, 'sj': 4789, 'km40dr60': 7113, 'fevikwik': 3932, 'a00003968': 6197, 'mic': 4698, '12264b': 3024, 'volt': 4762, 'elect': 3886, 'flyback': 6354, 'spares': 1704, '35': 243, '26x48': 6176, '81mm': 7474, 'mtr': 169, 'zip': 3979, '10mm': 268, 'tc13': 3691, 'vehicle': 4100, 'nom': 2880, '2344': 6525, 'lp': 2468, 'x28': 4223, 'dsg': 1192, 'tc7': 805, 'rpa125': 2511, '26xid21xthk': 5463, 'volts': 2279, 'od140': 4062, 'id130x': 7204, 'm12x150': 5092, 'c0g': 1503, 'soic': 707, 'p120': 6302, 'consumbales': 3231, '150tcv': 1253, 'l36': 6438, '92mm': 3140, '1000lt': 5963, '60cell': 3666, 'dclb21630409b13lgb': 7323, 't5': 2065, 'tl120': 4831, 'd70': 815, '1way': 2254, 'test': 2684, 'chequered': 1943, 'stnd': 3939, 'od320': 3267, 'm5x12l': 5206, '5x33': 2257, 'normal': 7334, 'mcr20': 7614, 't120': 6938, 'jht': 4569, 'vision': 5571, '100x50': 4315, '5d': 7633, 'cap': 114, 'tti': 932, '528': 1215, 'wd': 966, 'seat': 543, 'id360': 3269, 'm35x45x0': 5275, '42mm': 4072, 'thk55': 6648, 'havy': 5077, 'wsm30': 5912, 'ht625': 825, 'f316l': 563, '75x25x20': 6098, '79': 6515, 'sorf': 376, '194': 2017, 'joint': 665, 'synthetic': 2191, 'id495': 5364, '680r': 6872, 'sleev': 4958, 'b32682a6473j': 4409, 'w33': 7002, '125v': 3738, 'centrifuge': 7603, 'fl425': 7119, 'a479t316': 4018, '400mmx200mmx100mm': 4619, 'funnel': 5568, 'bottle': 5566, 'towing': 3529, '130x130x35t': 3459, '3070': 6735, '30344226': 2877, '33': 587, 'id195': 5353, 'a335': 1596, 'commercial': 4759, 'tester': 5185, 'sofn': 316, 'pn40': 610, '1600009': 7378, 'thk17': 7251, '5055': 6287, 'scroll': 1689, 'ft': 58, '8t': 6678, 'id320': 5388, 'hw': 528, '1500glv': 964, '5pitch': 5167, 'kamaya': 6813, 'led12watt': 4243, 'irm3638': 4717, 'a276': 251, '4500': 957, '522': 1883, '1650': 3358, 'flbv': 3317, 'pah': 3438, '60i': 7847, 'ningbo': 2980, 'conductors': 2379, 'wd5': 7162, 'miniature': 1099, 'hydraulic': 62, '58l': 2676, 'o11': 2434, 'rev': 916, 'lw20': 7731, 'rpa200sr': 1867, 'cc0603krx5r6bb475': 4387, 'flokool': 2180, '770': 4327, 'bench': 5600, 'dinatale': 5700, 'chrg': 6368, 'fuchin': 4455, 'erje3': 7739, '67': 2338, 'ecentric': 6764, 'pug': 4658, '2x3': 5481, 'y1': 2911, 'silicone': 5435, 'zerocrossover5mmal': 6654, '80cm': 1852, 'k30f10a': 3905, 'd28': 925, 'd190': 1894, 'x135': 2602, '20mhz': 5783, '1ohm': 6787, '3x5': 4440, '24dia': 5183, 'dn50': 4282, '7nf': 4381, 'stop': 7339, '92': 2146, 'id119': 2156, '25x12': 5253, 'angle': 288, '23ce': 7809, 'm24x130': 5082, 'wp': 1300, 'arrangement': 3892, '600tcv': 2142, 'upvc': 1262, 'chainlink': 7886, '30thk1': 4322, 'development': 7014, '62r': 6857, 'copeland': 1953, 'itv3050': 3953, '2050lg': 7034, '8inch': 1533, 'ceilng': 6724, 'simple': 7867, '858': 6708, 'passage': 5484, 'hi': 1988, 'cl10b104kb8nnnc': 4444, 'u513': 7615, 'rt0603brd1310kl': 6825, 'flashing': 4486, '415': 1371, '1206': 413, '29mm': 3347, 'x30sch': 6575, '071k8l': 6889, '11255': 5634, 'id380': 5366, '3034': 1888, 'd83': 2789, 'weave': 867, 'on': 386, '608': 2843, '38in': 7734, '3p': 2422, '1s': 7754, 'hrc': 1910, 'ercocr': 3247, 'g12': 7788, 'tracer': 1855, '2500gtv': 1573, 'loe': 1635, 'a00005305': 7523, 'sugar': 4942, 'gtb10': 7340, 'hqqv': 6753, 'va': 942, 't2512': 5842, 'd3': 1289, 'tray': 1136, 'sa516gr': 996, 'primer': 771, 'apc0805b250rn': 6856, '890': 5573, '180dg': 4865, 'a126': 2082, '050': 2938, 'check': 673, 'castor': 2943, 'tolune': 6282, 'thru': 4814, 'l300': 3007, '100x50x12': 6099, '3el14stacme': 5878, '30309': 7729, 'rm1': 7783, 'tap': 217, 'hydrauli': 6739, 'a453': 4029, 'f6a': 511, 'tcv': 160, '450v': 1244, '2326': 6500, 'regofix': 2655, 'sm': 2293, '00950d070100090': 1830, 'washers': 2044, '611': 7444, 'subzero': 1373, 'm10x14': 5242, 'rpa80sr': 2726, 'inbuilt': 7841, 'umk212b7224kg': 4365, '234': 1265, 'blaack': 3990, '308mm': 6600, 'ee65': 7562, 'km14': 5163, 'syncropak': 3895, '2050': 3452, 'stainer': 3610, '0126': 7038, '90â': 2991, 'hardner': 3503, 'bwø840x737': 7777, 'a00004947': 5617, 'packge': 4351, '70x16': 3476, 'od130': 1783, '4er5acme': 5895, 'chroming': 5692, 'sa217wc6': 3833, '12x88': 7155, '1350mm': 6988, 'km55': 1918, 'l150': 2675, 'id550': 3271, '72yd': 7446, 'fasteners': 5228, '137ds': 7742, 'id186': 3677, '900class': 7802, 'tebl216': 4644, 'siemens': 569, 'fevitite': 3937, 'hm': 2111, 'glands': 2187, 'strainer': 1850, 'is20f40': 4131, 'sir': 2688, '7': 89, 'transducer': 2805, '130uh': 6031, '380x160x285': 7630, 'papst': 3148, 'hinges': 1576, 'two': 1070, 'xy129': 4568, 'internal': 2069, 'm5x35': 5108, 'qty': 2248, 'flux': 7075, 'co': 1148, '400v': 2913, 'industrial': 720, 'spdt': 2372, '50': 70, 'y5v': 2910, '7035': 2036, 'd200': 4006, 'avg': 6710, 'bitzer': 2970, '2000pf': 4423, '4204': 4133, '260mm': 4330, 'le15j28fcbc': 6361, 'cc0805kkx5r8bb106': 4392, 'double': 577, '565': 2802, 'rivetting': 4194, 'ips': 7336, 'pcknl2525m12': 7545, '16': 52, '2309': 6479, 'giga': 7327, 'od423xid395xthk': 5456, 'm6x1': 1281, '2742103340': 5534, '190': 961, 'sae': 2154, 'hpcl': 2998, 'starsea': 4720, 'uni1707': 1076, 'dia16': 4640, 'discharge': 2007, 'id49': 6207, 'suitable': 2968, 'usa': 6171, 'pcn1': 5752, '2m2': 3642, 'triveni': 6173, 'a00004227': 4685, 'x154': 6550, '508x18': 4570, '14mm': 1964, 'bobbin': 7563, 'hu2w471mcas6wpec': 4452, 'drilling': 5229, 'cpf0603f75kc1': 6886, 'm50x1': 5144, 'bulb': 1133, 'shall': 2727, 'm20x': 7295, 'hasl': 6345, '305x65x12': 6088, '253': 2357, '885012207086': 4366, 'illuminator': 4974, 'stock': 6620, 'vzs101m1etr': 4449, 'd4': 5307, 'od670': 7810, 'a00004299': 6913, '182': 5382, 'lt': 3510, 'peak': 7560, 'stripping': 6324, '4ltr': 7644, 'm20xl80': 7270, '23': 232, 'goodsky': 4932, '024': 7680, '33083pa': 7933, 'elcab': 1985, 'dia15mm': 4820, 'square': 277, '2b': 2223, 'chromium': 28, '16pin': 5712, '5sl3p': 6051, '460mm': 5646, '1a': 898, 'a00003438': 5675, 'g': 561, 'kma31084': 5663, 'fuses': 3289, '578x': 5495, 'uc18j01exv': 6403, 'namur': 4231, '1220': 2618, 'v2p': 3479, '1z': 7696, 'tcmt090208': 5924, '12tx1250wx5000l': 2858, '261': 4792, 'mic5020ym': 5835, '55a': 3203, 'hot': 1119, '4000': 708, 'sim': 2280, 'a1h33': 7317, '5e': 4497, 'temperature': 1252, 'c02': 7553, 'medium': 3047, '63amp': 6049, 'l120': 1566, '2x': 5651, 'from': 1773, '1000mm': 558, 'mio': 3501, 'od28': 1638, 'retainer': 1841, '50x50': 4074, 'semiconductors': 4764, 'self': 579, 'pnuematic': 5995, 'it': 4840, 'wd20': 2147, 'aoh': 2609, 'ig': 2705, '04l': 5934, '105rlocal': 6663, '4941': 7442, 'm18x2': 1173, 'drz175525': 4802, 'x280': 3003, '5inch': 6911, 'ccmt06': 2246, 'elector': 3955, 'wnrf': 1774, 'v5': 3522, 'af1321': 5496, 'compressor': 436, 'fastner': 4184, 'would': 5501, 's4e300': 5011, 'comparators': 5826, '3106f': 2303, 'screen': 257, 'at': 3137, 'unprinted': 6160, 'pdpc5330': 4842, 'display': 697, 'clamping': 1757, 'rpo': 3976, 'murphy': 4239, 'cupper': 6023, '16ma': 2366, 'id36': 1569, 'ral5010': 6285, '160mm': 1643, '751csa': 6713, 'washington': 7691, 'uncx33l': 1849, 'containing': 2589, 'apron': 6290, '3er10w': 5880, 'stde': 6722, 't15': 1058, 'smd': 130, '743kg': 3898, 'countrwt': 4625, 'flanged': 1551, 'id': 31, '1000x1000x16': 5407, 'stage': 731, 'f25': 3257, 'id100': 2053, '16s': 7344, 'x320': 6553, '018f6857': 2957, 'primary': 5411, '008': 6976, 'flange': 75, '51r': 6808, 'htc': 3838, 'le15h01clhf': 6377, '412x324x59': 6927, 'compartment': 7532, '1440': 1589, '1370x395x378': 5013, '46deg': 4869, '1884': 6009, 'er90s': 2046, 'smaz20': 3046, 'm22x1': 1556, '1½': 655, '3000mm': 5652, 'od105': 2776, 'should': 3362, 'clevis': 1579, 'solatron': 4075, '5el': 7543, 'fg260': 2507, 'thermostatic': 1619, '113x62xt24': 3454, '90thk': 6657, 'transient': 3059, '127mm': 6682, 'handle': 1126, 'fl80': 4825, 'bc327': 7581, 'unf': 653, '99616': 4638, 'a00005379': 5174, 'th': 299, '12968': 3031, 'thk3': 3495, '2340': 7891, 'od160': 2799, 'microns': 2131, 'fkos': 6261, '209': 2575, '72': 1236, '330e': 3624, 'fcc': 2410, 'stifner': 3793, '470mm': 2295, 'star': 593, 'noble': 3499, '12r': 6842, 'ohmite': 3621, 'gi': 121, '390': 6191, '120x120': 4009, 'motorized': 5579, 'gipi': 5941, '6kwp': 7831, 'asbestos': 505, 'lite': 6312, 'w30thk1': 4328, '0299040': 5416, 'mt3': 6065, 'mandrel': 5155, '3120': 6738, 'minda': 7388, 'united': 4419, 'fdc2214': 7015, 'mb': 931, 'holding': 5281, 'sch5s': 6461, 'gilard': 7361, 'ra125': 2083, '70s': 2045, 'id232t32': 6128, '202340': 4292, 'smt': 1004, 'squre': 2757, '5007': 5694, '337': 5479, 'spmt': 1531, 'aisi316': 2225, '133': 7515, 'rows': 693, '56': 1720, 'f51': 1904, 'm10x20': 5089, '288': 6627, 'dial': 735, 'technova': 4857, '24rpm': 2737, 'er309l': 3250, 'prestige': 2990, 'maxim': 3380, '185x38x23mm': 4615, 'gn': 4571, '28v': 7561, 'belevile': 3220, 'fully': 799, 'il1987385a': 7506, 'a4': 3081, 'h1150': 982, '2545': 7671, 'p6ke200a': 4733, '975x135x35': 6091, 'crca': 1588, 'id158': 7141, 'pc8110': 5909, 'epr': 1103, 'id286t32': 6125, 'x59': 6485, 'resister': 3627, 'm8p': 736, 'split': 489, 'cc1210kkx7rdbb102': 4395, '4pole': 2558, '885012007054': 4364, 'testing': 5606, 'crimping': 3013, 'psi': 403, 'aims': 6350, '1030': 530, '2ees': 4539, '100ml': 3327, 'id230': 5357, 'mche': 5040, '214aa': 2346, '11': 270, '370': 3441, '1n4148': 4708, 'mikky': 3259, 'hydropneumatic': 2849, 'm48x5': 5070, '0751rl': 6809, 'ss316l': 239, '985': 6730, '70x70': 4011, 'shorea80': 6225, 'x122': 6569, '001': 1151, '2400': 5649, '120mm': 3158, 'm36x4': 2406, '22': 152, 'x52': 6507, 'cyl': 583, 'be': 1626, '6enf3741v': 6822, 'bw40': 7692, 'x50': 3541, 'od44id28t8': 7240, 'in4744a': 3041, '900': 274, 'group': 7471, 'a00003728': 7935, 'x12tpi': 3167, 'tl150': 4826, '35vdc': 4750, '54x32x16': 4220, 'poll': 7007, '6797': 1411, 'sr': 280, '479': 1225, 'railing': 6580, 't420': 984, 'body': 33, '75sqmm': 4891, 'dmc': 5959, '30gsm': 6307, '8xt3': 7229, '240': 1414, '4v': 4855, 'oh': 6546, '33333': 2597, 'lubi': 3607, '98': 2390, 'shaft': 1116, 'x360': 3567, 'polish': 1437, 'hindustancomposites': 3287, 'osc': 3471, 'lavas': 4661, 'ss210': 4769, 'golden': 1530, 'a00000647': 3911, '500v': 2932, 'a00000350': 5126, 'm8x1': 460, 'znpl': 5267, '1400mm': 2905, 'l16': 1553, 'sploenoid': 7641, 'dia250': 5618, 'station': 691, 'x35': 3540, '9001': 5008, 'er70s': 3249, 'woer': 2376, '140x140xt40': 6080, 'bushing': 2881, 'balajinagar': 7084, 'rohs': 2920, 'harison': 4901, '2475': 7670, 'moc': 918, '1172': 7915, '55824': 6257, '010': 3291, 'mountable': 2981, 'adc4': 4063, 'state': 3122, 'x24': 6520, 'a35157': 7817, 'a00004292': 3916, 'energy': 435, 'gp11': 1134, 'csts': 7468, 'baker': 1600, '485': 1267, 'width': 443, '74hc595pw': 5793, '515': 1882, 'a00003915': 6199, '1160a': 7389, '27mm': 2791, '610mm': 6989, 'od68': 2811, 'x9unc': 3723, 'uln2003ains': 5723, 'fyl': 5660, '89xfl439mm': 7145, '76dg': 4874, 'acting': 1045, 'a00000379': 6186, 'm12x65': 5091, 'vips80p': 6691, 'l105': 3216, '250nb': 5334, '35a': 4907, '4er6tr': 5897, 'pad': 835, 's1400': 2336, 'kx1800': 3961, '40kg': 1834, 'bwxxs': 7660, 'male': 175, '536': 2753, 'x190': 6531, 'mfs201': 7022, '20v': 3045, '8no': 6986, 'uc15g29exv': 6355, 'bg': 5339, 'd6': 1898, 'teknic': 1837, 'wet': 7005, '90mm': 882, 'wave': 5291, 'digital': 1508, 'od42': 2224, 'm66': 6425, 'tsa121': 7331, 'mouse': 3797, 'electrolytic': 644, 'electrical': 140, '500kg': 4475, 'ptv': 7807, '20x12x80': 5981, 'ipak': 7576, 'tl91': 4829, 'id127': 7166, 'roatry': 7006, 'made': 2063, 'thickness': 161, 'fusion': 2571, 'od73': 6934, '2mmx1000mm': 5321, 'structure': 3219, 'dish': 7212, '500w': 7049, 'mod5': 3613, 'ice': 4798, 'mm3z5v1st1g': 3063, 'a00000403': 6182, 'c': 22, 'udk': 3076, 'wd3': 2572, 'pnp': 7335, 'electro': 4442, 'by': 640, 'rdbr28': 3999, 'le18h25fp': 6392, 'ptfe': 176, '2556': 6072, '061f9053': 7358, 'a00000285': 5671, 'patti': 915, 'proximity': 2723, 'a193b8': 3161, '130mm': 3655, '030': 2677, 'ty': 1339, 'rlg': 2473, 'tata': 1308, 'glu': 5575, 'burner': 7550, '2159': 7894, 'including': 5023, '745x105x30': 6090, 'pc5300': 1388, 'logo': 2706, '600amps': 7856, '16pins': 6866, 'f': 171, 'wood': 1130, 'meters': 3111, 'od19': 2439, 'plates': 6961, 'rolled': 105, 't85': 3283, 'existing': 4692, 'grander': 5604, 'differential': 3392, 'section': 5563, '177': 6568, 'retaining': 3643, 'sn': 349, 'hb3611asr': 4784, '235': 2576, 'sand': 6289, '2032': 4481, 'fl195': 7215, 'thck': 6427, 'phenolic': 1838, '150g': 6304, '318': 3545, 'nfet8327b102': 7765, 'e8018': 4971, 'role': 7247, 'output': 1166, '3184': 6321, 'sth4dt': 7470, '2s': 2306, '885012207084': 4368, 'bronze': 976, 'full': 144, '05h': 3095, '30v': 4743, 'copper': 129, 'od55': 3991, '2576': 5717, 'wd24': 3673, 'zz': 990, '6mm': 181, 'consumables': 508, '12k': 6849, 'hdp1206': 4299, '8700m': 7509, '12v': 454, 'csk': 459, 'fsb05': 5318, 'fl540': 3686, '2washer': 3172, 'id185': 2454, 'mpp': 4360, 'ricoh': 5744, 'grab': 2782, 'step': 1756, 'm12p': 596, 't431': 4022, 'g510': 4031, 'nvr': 7538, '2500': 109, '4a': 2375, 'annealed': 51, 'a193': 37, 'halves': 6588, 'vertical': 1120, 'vacuum': 3798, 'multilayer': 1245, 'rex': 7631, '40p36': 2614, '80i': 6139, '300nb': 5335, 'keypad': 6643, '50a': 2537, 'pfr108': 6771, '20unf': 2806, 'aluminiu': 6168, 'provided': 3893, '350mm': 2397, 'equal': 2683, 'inching': 2184, 'corner': 1014, 'l15': 2028, 'd175': 2212, 'x11tpi': 1078, 'kirloskar': 3451, 'moc3063': 3409, 'safety': 402, 'c45': 6617, 'x10unc': 1549, 'hrcs': 1710, 'r25ei14npttmvtx': 5944, 'x16unc': 703, 'actuator': 255, 'resetable': 5418, 'picture': 4148, 'cx20': 4098, 'stanley': 7093, '2hp': 2135, 'id83': 3695, 'manifold': 266, 's15': 3384, 'rust': 1463, 'ear': 4861, '4fes3y': 4536, 'od260': 5355, 'pkt': 4636, 'drawer': 5181, '713': 7362, 'acs355': 2144, 'sobit': 4794, '75pitch': 5131, 'synchronous': 5771, 'wd23': 7140, 'gr70': 3581, 'rb': 7801, 'sinda': 3440, '250w': 7064, 'cj160v': 4648, 'stem': 495, '14s': 1513, 'b3': 2444, 'manganese': 86, 'od93xid77xt3': 5460, '640': 5508, 'id20': 2035, 'extruded': 4068, '150x38x23mm': 4616, 's1': 2181, '3er14': 5883, '3eha4bisgt': 2854, 'a00000001': 3828, 'current': 963, 'starting': 4435, 'parallel': 2091, 'a582': 880, 'bourns': 3414, 'ss431': 2208, 'd50': 484, '25lg': 3204, '48v': 7727, 'mw': 4703, 'divider': 7451, 'nak': 3964, 'idp': 1807, 'motor': 310, 'nozzle': 1036, '20tpi': 3200, '607014145': 4458, 'sdcb1602': 5988, '780e': 6660, 'can': 6271, 'id10': 3226, 'pe': 6069, 'a00005280': 5170, '5x2': 2992, '30305': 4143, 'amplifiers': 3397, 'tons': 2297, 'yello': 5009, 'd180': 2787, 'od52': 2780, '120vac': 7368, '223': 2533, '720mm': 2712, 'tessol': 1147, 'termical': 7472, 'tat': 2670, '172': 6684, 'close': 739, 'series': 1702, 'white': 157, 'od74xid62xthk': 5478, 'fr4': 2122, 'speer': 1840, '25a': 2374, 'hl': 5038, '1190': 6952, '07100rl': 6830, '916': 7884, 'needle': 719, 'b2b': 6306, 'piece': 727, '25dia': 6947, 'short': 2401, 'iq': 1321, 'axial': 904, 'dsc': 2584, 'tc7x': 7205, 'a00001112': 7770, 'astm': 81, '85l': 2674, '63': 546, 'a00000380': 6188, '3x2': 5280, '74439370150': 5844, 'ø170xø70': 7796, 'secondary': 3288, 'fl296': 3680, 'cr2032': 4079, '80v': 4758, '5x9': 5303, '06mm': 2043, 'hybrid': 6758, 'duct': 2328, '1p': 6039, 'm45': 3195, '076k8l': 6847, 'diene': 4675, 'stb': 4466, 'kp': 2163, 't38': 5385, 'km': 696, 'mild': 325, 'analyzer': 7051, 'usb2': 2984, '40x80x40': 4235, 'impact': 2143, 'chekered': 4490, '112': 3316, '0e1': 6881, 'br12': 2707, 'strapping': 3718, '27x385': 7159, '13re': 3096, '200nb': 1419, 'sporlan': 1202, '6mmx50mm': 7433, '64': 900, 'diaph': 6609, 'carbol': 4454, 'id37': 7171, 'a00000227': 4258, 'tech': 3069, 'varister': 6789, '3ur52': 4951, 'fl393': 2665, 'nmrv63': 5542, 'stth60w02cw': 4700, 'l66': 2405, 'limited': 5759, '354': 3493, 'super': 4660, 'multistage': 3066, 'warm': 5530, '1812': 2928, 'accessary': 7390, 'hq': 3424, '25mm': 227, 'poe': 3587, 'a34905': 7769, '202310': 4277, 'tr': 1799, '3ua50': 4929, 'drz1854': 4804, '90degree': 3103, '4x4x12': 5967, 'with1': 7677, '9v': 5052, '2700mm': 5657, 'aesthetic': 3646, '1210': 2276, '160p': 6033, 'x111': 6564, 'armature': 5603, '202315': 4265, 'l140': 1081, 'mv': 7343, 'gsr': 4853, 'hp': 252, 'spring': 12, 'od190': 2452, '1400x1840': 5400, 'snl': 1217, '3044': 1917, 'chain': 611, 'kmax': 609, 'uc18m01hum': 6419, 'd31': 5265, 'm16': 382, 'm10x150': 4837, 'w2e': 3150, 'sup12b': 7898, 'brench': 5584, '470dia': 5485, 'tf': 3755, 'ecofrost': 3443, '10b5': 3903, 'composit': 2962, '540': 3980, 'km85dr60': 7106, '5206': 4116, 't18': 1780, '4x2': 3221, 'x11bsw': 5120, 'x5mm': 7596, 'k300f14a': 2736, 'etc': 3145, 'm16x80': 5081, '27': 361, 'm10x3': 7423, 'acetylene': 1864, 'egypt': 5317, 'abt': 2169, 'jaw': 4502, 'panels': 1035, 'virgin': 1772, 'typ1': 7238, 'upto': 3116, '8072': 4598, 'le18e15jogsw': 6386, 'rice': 3876, 'out': 1432, 'max3485esa': 5720, 'le16l21exv': 6367, '3056': 6532, 'solutions': 3608, 'ground': 4512, 'l7m': 3169, 'm5': 955, 'carboline': 2620, 'lf2': 1124, '1500': 146, '28t': 6679, 'zn': 412, '07100kl': 6835, 'scale': 888, 'id30': 1770, 'canopy': 582, 'v183': 5598, 'pxcn': 5427, 'rimp': 4630, '8k2': 3617, '1800': 1794, 'a00000176': 5247, '4core4sqmm': 5341, 'cp60': 7740, '8vdc': 3887, '37': 730, 'cnmg120408': 5951, 'neu2155gk': 4548, 'id230x': 5448, 'fl238': 7185, 'id88': 3679, 'ew': 4102, 'alfa': 6058, 'm16x2mm': 7429, '1kw': 6151, 'a00000407': 5669, '620xid601xthk': 5498, 'bearings': 4163, 'fsnl': 2756, 'ductile': 2509, 'man': 6170, 'push': 896, 'm36x4p': 3190, 'sae100e180f35': 4129, '10e': 2995, 'stright': 3131, '08du12': 4261, '12a5': 7832, '4x3': 5996, '1390': 3360, 'l170': 2459, 'od103': 5443, '112d': 3118, 'cotton': 2113, '8x8t': 7245, 'adjustable': 1108, 'm16x2': 910, 'n68': 5707, 'lm1117s': 7846, '8mhz': 5846, '200kohm': 6868, 'resitor': 6793, 'isa': 811, 'arrester': 2717, '220vdc': 3740, '5zz': 4155, 'm4x10mm': 5199, 'remi': 1515, 'rt30': 7167, 'od35': 1220, 'scrap': 4654, 'fristam': 3428, '560k': 6786, '75': 136, 'ok76': 4970, '120p4s': 7752, 'mounted': 333, 'phase': 437, 'id17': 2437, '053': 4801, 'carel': 3001, 'pedal': 7369, '25mmx3mm': 5434, 'wd28': 2158, '5x12': 5213, 'ahx': 6547, '30215': 4159, 'id27': 6250, 'casting6': 3824, 'd1075': 6613, 'pan': 2023, '4kva': 7554, 'od': 34, 'rexnord': 2391, '105x80xt28': 6076, 'circlip': 3583, 'baumer': 7668, '300a': 4516, 'lighter': 5430, 'boards': 2590, '4093': 5806, 'guide': 400, '33x40x5': 6914, 'rt13': 2657, 'x9tpi': 3191, 'id470': 5384, 'aw': 6259, 'x186': 6526, 'fl193': 7115, 'id41': 5371, '482': 5477, 'a00005131': 3908, 'type': 55, 'bag': 1879, '265': 2953, 'foundation': 3156, '2lhlr': 3611, 'id450': 6614, 'rsfr': 4954, 'm4x8': 3211, 'dfcsbrv2': 6347, 'tol': 536, 'l80': 1178, 'id235': 3278, 'quote': 7737, 'cc0805zky5v9bb105': 4428, '100mtr': 6743, 'm10x140': 5058, 'enhancement': 6142, 'id28': 4104, '80ipt': 6136, '22mm': 1222, 'sim800c': 3371, 'l28': 7299, '187k': 6828, 'butterfly': 3820, 'dia6': 4827, '1219': 3462, '312mm': 6193, 'l21': 2664, 'reversible': 4852, 'forge': 1053, 'sq410xthk50': 7225, 'photo': 3662, '2500ggv': 3836, '6129': 7878, '292': 6536, 'd330': 4047, '86mm': 5526, 'trapezoidal': 1806, '3er': 3782, '125nb': 5524, 'x7': 5140, '1xi38': 3713, 'tes2': 7645, 'machning': 6453, 'yuken': 2171, '445': 2310, '090202': 5933, 'berge': 4185, 'lqfp32': 5797, 'x161': 3553, '110': 467, '1250mm': 6134, 'diameter': 4955, 'pclnl3232m19': 7546, 'mmx': 3243, '30ltr': 7421, 'l540': 4626, 'see': 1995, '800v': 6329, 'm10x1': 375, '02mm': 3311, 'b4': 3901, '73': 2133, 'graphited': 2070, 'ss30': 2907, '3050': 2179, 'zb38kqe': 4542, 'cube': 4943, '10u77a3': 7395, '4w': 970, 'connectors': 692, 'm3x10': 5184, '138': 3548, '19mm': 919, '200l': 7277, 'rdbr30': 4000, 'open': 385, 'p6ke6': 4729, 'spst': 3731, 'allied': 2305, 'reduce': 6912, '8x4': 5129, '26me': 4343, '990': 1492, '073kl': 3641, 'her107': 4696, '5000ea': 4665, 'neck': 2680, 'rt9': 7123, 'bwø690xø570': 7780, '25volts': 4350, 'transformer': 1191, 'er630': 5322, 'connector': 134, 'shore': 3490, 'pearl': 1385, '218': 1213, 'apcr': 6341, '935uh': 4988, 'rt0603brd0722kl': 6833, '5070': 4108, '9002': 7500, 'stoarge': 6340, '13mm': 1377, '2700': 1298, '110304l': 5935, 'ip67': 3664, 'rc0805jr': 3636, 'leaf': 4483, 'lubecut': 4664, 'nose': 3584, 'pfr107h': 6770, '484': 3845, 'calibrated': 830, '150lpm': 6910, 'philips': 3214, 'tip': 7857, 'foot': 2103, 'm33x3': 3189, 'du': 2240, 'wtl': 1232, 'cz100a05': 7364, 'boxes': 2289, '8a': 1342, '5126': 3863, '3500': 2853, '05b': 6906, 'sim800': 3368, '34uh': 7570, 'peek': 2817, 'care': 5552, 'sense': 6792, 'mfm383a': 6689, 'suraksha': 7425, 'dum': 5133, '860x1218mm': 6612, 'fdsicr': 1950, '500c': 4260, 'ai343': 7349, 'a6': 4810, 'riduttori': 5545, '2500glv': 1792, 'measure': 1813, 'taiyo': 2273, '8x35': 5226, 'nf3pan520n00000': 7721, '936a': 7078, '6000': 1307, 'a5': 4808, 'x40': 2598, '21mm': 2936, '4acme': 3423, 'km55dr20': 7154, 'sb07': 3943, 'x8': 541, 'humitherm': 6348, 'pa150': 1871, 't115': 5379, '18du10ggb': 4273, 'wh': 1755, '4na70': 6150, 'ssnh': 3981, '6h001': 7684, 'pss35mc1ft': 6693, 'puff': 2132, 'aenw62': 5294, '3026': 2763, 'acrylic': 3482, 'cf8': 314, 'dir': 4693, '20x10': 3235, '45w': 3761, '75x75x100': 7483, 'a00000028': 6919, 'fabricated': 1923, 'hydrualic': 2320, 'tantulum': 4370, '680e': 3630, '1hs': 4657, '5a': 833, 'welded': 679, 'zr': 3596, 'gold': 1634, 'turning': 1228, 'shim': 1768, 'entries': 3743, '900gtv': 1031, 'd155': 2801, 'b7m': 671, 'airgun': 3962, '032': 2354, 't25': 2847, 'l2': 7287, 'vhb': 3756, '842': 5186, 'row': 2239, '244': 6231, 'if': 3051, '45': 238, 'ra100': 2510, '600rf': 2048, 'style': 3322, 'g11': 2701, 'littelfuse': 5425, 'bspt': 7669, 'thick': 392, 'certified': 7399, '7510p': 3002, 'unalloyed': 228, '996': 7528, 'cmigt18028rec6bah385': 4132, '161810': 2875, '14': 127, 'wd36x': 7206, '6g': 1276, '470k': 1758, 'die': 520, 'grb8': 7310, '2310': 3542, 'id16': 1769, 'rate': 7103, 'lm25': 1847, '1144': 4847, 'wooden': 534, 'od110xid87xthk': 5282, 'pri': 3947, '99': 758, 'x240': 3561, 's19': 7384, 'pnumetics': 3956, '300ml': 4478, 'd12x': 6431, '101215': 4252, 'std': 636, 'ha': 2967, 'kb': 4096, 'hindustan': 887, 'spare': 1320, '230v': 883, 'lelon': 4448, 'almn': 4489, 'thik': 2748, '2210': 3321, 'prefab': 6717, 'polypropylene': 2449, '100rod': 5687, 'cell': 2760, 'm10x35': 5239, '5ply': 1958, 'dn32': 3132, 'classic': 3842, '100x2400mm': 6954, 'fc6': 6422, 'fl398': 7177, '1367gr8': 3159, 'band': 1796, 'yy': 1956, 'graphic': 4783, 'af154': 1295, 'fl400': 7174, 'dm': 7043, 'm40x50x0': 5276, 'wd10': 7150, '600mm': 5648, 'clutch': 2955, 'ufi': 7314, 'torx': 5220, '3124': 6559, '3302e': 5824, 'od445': 3281, '933': 5192, 'el817': 5825, '6k8': 6895, 'tlp2745': 5809, 'slive': 4964, 'od34': 2775, '320': 778, 'x07cr18ni9': 4521, 'm24l27': 5075, 'bosny': 2120, '06823411': 7725, 'sealant': 4479, 'seamles': 6459, 'viton': 418, 'semi': 1952, 'za5': 4473, 'totem': 866, 'sheet': 77, '134': 3770, 'sz': 1152, 'sensory': 7910, '2mm': 387, 'mnp': 5332, 'r404a': 2300, '145l': 7292, 'ss302': 318, 'superheat': 7021, 'marker10': 4635, 'trae': 7728, 'auto': 823, 'butt': 1354, 'rec': 3141, '40l': 1401, 'x152': 6534, 'a34921': 3827, '287': 3302, 'leak': 7812, 'fl230': 7180, 'e8': 3445, 'ss420': 1909, '9166': 2600, 'running': 2933, 'wd7': 3681, 'kma24632': 5662, '50mm': 379, 'od185': 1782, 'device': 1039, 'pjezc1e0g0': 4593, '220ab': 4757, 'l62': 6470, 'tapper': 3091, 'ebay': 7634, 'r12': 7377, 'p3': 5191, '57a': 2339, 'od522xid492xthk': 5458, 'mcc': 4760, '1n5408': 4697, 'cavity': 5957, 'drier': 947, '3208': 4122, 'ø75': 2567, 'manufacturer': 260, 'act': 974, 'sup050': 5702, 'controllers': 5750, '33101': 7717, 'po': 6278, '3x4': 6335, 'genuine': 5553, 'multigrip': 5182, 'x17': 3196, '6000mm': 3349, 'scotch': 6310, 'code': 584, 'real': 3125, 'wp8320a186mo': 4233, 'wasm': 1785, '130l': 2672, 'mod8': 2569, 'vxo7803': 5802, '90x86x17': 5659, 'complete': 1814, 'pv': 5555, '3tf33': 2311, 'vfd': 856, 'mig': 2380, '0606': 4450, 'pr': 2471, '320mm': 2903, 'id75': 2456, '31310c': 6587, 'axk2542': 2830, '6mmx': 5114, 'stoving': 7492, 'threading': 801, 'ppgi': 1506, '068z3400': 7708, 'trays': 4467, 'kbl': 3603, 'intersil': 2525, '600': 88, '950uh': 7555, 'bel': 960, 't14': 3716, 'rk73h2attdd1001f': 6783, '170l': 3166, '8x8': 1180, 'cable': 102, 'stainless': 184, '139xid123xthk': 3298, '075': 2363, 'pid': 4592, '3r': 3620, '9544': 7688, 'hss': 197, 'hyd': 1760, 'mkp': 4356, 'details': 713, 'pack': 556, 'diagram': 2731, '103': 2424, '95sqmm': 5340, '150rfglv': 7766, 'm10x30': 5243, 'fanhar': 2371, 'cusqap': 2785, '480': 1730, 'aisi420': 512, '50x25x2': 7608, '0010': 5564, '60long': 2896, 'reference': 5766, '120x120x38': 5050, '831': 3206, '232': 1534, 'mfr': 59, '518l': 5616, 'spmg': 1565, 'b20l': 4300, '3760': 1889, '24a': 1968, 'ip20': 4937, 'er316l': 5320, '4700pf': 4348, 'eeprom': 5784, 'driver': 501, 'nrsc': 3517, 'a00004348': 5672, '189': 6233, 'ne': 676, 'globe': 2235, '35u': 6352, '180g': 6305, 'version': 2249, '508b': 5431, 'shoe': 1842, '7569': 3000, 'od45': 1472, 'l': 79, 'wc9': 649, 'ec500h': 4863, '50t': 2068, 'turbo': 3958, 'mouth': 4860, 'damping': 6662, '3030': 2764, 'a00004742': 7938, '3x12': 2956, 'tainer': 5962, 'ø4': 2358, 'gh130': 5940, 'preventive': 1877, 'instruments': 1801, 'x': 1, 'axk7095': 4117, 'r8': 4166, '39x16x50mm': 4225, 'r6': 3741, 'gear': 384, 'flexi': 7438, '320x150x10t': 6094, 'cog': 4372, 'od525': 5373, 'posina': 5965, 'windscreen': 7864, 'modem': 2518, '315': 1632, 'o64': 3702, 'piston': 337, 'f347h': 1485, '2303hxd': 4839, 'ptb35': 7467, 's4': 3737, 'rf': 470, 'wgt': 6725, '1079': 2332, 'm10x75': 5056, '23136': 2765, 'dia5mm': 4809, 'mette': 5196, 'c0805c222k5ractu': 4369, 'metric': 4190, '1342': 6010, 's550': 4257, 'am': 2462, 'euro': 4573, '250watt': 4897, 'ic908': 3425, '16tx1250wx5000l': 4199, '20amp': 1694, '290': 1808, 'essl': 4188, '10ml': 3325, 'ø22': 4998, 'shade': 3504, 'shivane': 5837, 'd360': 2788, 'controllable': 4094, '13un': 7431, '0000': 5017, 'dpcv': 3803, '247': 5956, 'efd20': 4989, '4x1000mm': 2442, 'c12a': 1319, '6150h': 1445, 'countersunk': 3178, 'm20x70': 5104, 'slit': 6935, 'socket': 283, 'thermaline4700': 7502, 'x78': 6509, 'a00003951': 5668, 'he': 4561, 'cloth': 406, 'm45x1': 5145, 'cp100': 7690, '0287040': 5426, 'et': 7491, '3': 5, 'heat': 614, 'rk73b2attdd221j': 6812, '74hc245n': 5804, 'a99': 5018, '5mc001s': 4881, '2pole': 6040, '4sq': 1810, 'fl460': 2151, 'jones': 2671, 'aid': 7507, 'grooved': 1561, '178': 5493, '260448': 7256, 'lm2576s': 2519, '1304': 4211, 'a515': 2616, 'hb5511asr': 4785, '6xi25': 3652, '75t': 5257, 'sic': 2550, '19uh': 5836, '570': 3439, 'sdgs': 2617, 'fixed': 893, '6958': 7711, 'atos': 2699, '321': 767, 'more': 7296, 'uncx60': 7264, 'a00004596': 5670, 'rt': 326, 'compl': 2826, '80dg': 4875, 'terminal': 391, 'allenky': 5076, 'kennmatel': 5932, 'mean': 2823, 'wariable': 5569, 'pr1125': 3430, '1260': 6114, '07390rl': 6862, 'od550': 5363, 'platform': 1440, 'eco': 2315, 'ie2': 3470, 'id400t40': 6106, 'a193b7m': 5073, 'rfkh': 3813, '9bsw': 5068, 'dresser': 4645, 'en31': 6611, 'fgj': 6752, 'rustop': 3974, 'rectifier': 2342, 'le18b28pid': 6353, '3176': 3513, 'id50': 1776, '91': 1184, 'cardboard': 4462, 'kpt': 3099, 'soldo': 7393, 'plate': 40, 'old': 5531, 'cramping': 3480, 'cssg': 5462, 'a00004634': 6960, 'x11': 1023, '2200pf': 4332, 'sapcv': 4684, 'm16x103l': 7268, 'dia300': 5619, 'whirlpool': 2178, 'a00005277': 5297, 'amplifier': 3394, 'uhs1900': 630, 'm6': 309, '272': 6530, 'bzv55': 4752, 'we': 4704, 'wago': 4564, '9t': 5255, '139': 2481, 'ball': 192, '33xid': 6556, 'frb': 574, 'radius': 2096, '526': 1211, 'wide': 2846, '167': 6566, 'evaluation': 7018, '4': 9, 'dimension': 3518, 'berg': 2243, 'o83': 3707, 'tfm': 2298, 'uc22exv18h1m': 6389, '332': 6235, 'mcp601t': 5745, 'samsung': 2916, 'mod6': 7589, 'sov': 444, '365x65x20': 3456, '504': 5476, 'metalwork': 478, '77': 2574, 'taiwan': 4728, '17840': 4778, 'therm': 4599, 'ctsep1': 4899, 'international': 1304, 'le16m14uv16': 6357, 'a00000053': 5559, '11x20x3mm': 5289, 'syj10': 7039, 'epacoat': 6291, 'cermet': 5218, 'm34': 7089, 'od430': 2458, '4ir4': 5898, 'le18k22wh': 6415, '344': 6596, 'other': 7455, 'sil': 3780, '3350': 2772, 'lo': 2535, 'tmh': 2059, '2522z': 4545, '94': 2118, 'x121': 6501, 'od1': 3997, 'mmsize': 5053, 'bent': 6665, 'nyloc': 1278, 'oberoi': 6275, 'lm4120aim5': 5767, '365': 3277, 'antirotating': 3528, 'smh500': 3340, '100x85': 4049, '0718k2l': 6827, '072m2l': 6879, 'korl': 4843, '1core': 4962, 'm4x0': 3212, '060204': 3215, '101': 1117, '582': 6239, 'ck': 7001, '22r': 2634, 'greay': 4035, '59': 2092, '440x350': 3303, 'xi': 2435, 'mtrs': 3757, 'emerson': 807, 'id5': 6958, 'ip65': 1456, 'f32': 3995, '4deg': 3138, '3350x34x1': 3988, 'm30x2p': 5138, 'plywood': 1494, '10x65': 5079, 'hz': 1954, 'regular': 6664, 'mfd': 1937, 'cone': 2296, 'ts': 1121, 'x120': 3557, 'inox': 2470, 'changes': 3389, 'x145': 3562, 'nxp': 4713, 'orange': 1998, 'x105': 6513, 'id12': 2440, 'opal': 5044, 'angled': 670, '100e': 3623, '6k2': 3632, 'kaichi': 6325, 'r1': 6626, 'f18': 3996, 'uc28': 6372, 'gal': 5270, 'att': 7828, 'cc0603krx5r7bb225': 4389, '100uh': 2538, 'x29': 2974, 'braidedgraphite': 7228, 'bm32': 5014, '003': 2883, '545': 5486, 'ininsulated': 4297, '0762rl': 6858, '214ac': 3057, '7v': 4298, 'magic': 3841, 'n1': 7723, '66': 5299, 'a479t304': 1899, 'wd25': 3690, 'id97': 5444, 'cr1206': 6800, 'armoured': 6767, '46': 1336, 'fenolex': 5537, '060202': 5873, '130mmx1': 6944, '2inch': 1160, 'rs207': 5741, 'wd12': 2661, 'down': 1398, 'blotter': 6317, 'conveyor': 1659, 'bc1': 1535, 'miscellanous': 3512, '120r': 3635, 'galvn': 5271, '1200': 724, 'evd': 4779, '114': 1983, 'yg': 3083, '078k2l': 6890, 'a00000218': 4681, '38od': 3574, 'kcm': 4530, 'shape': 1509, '270': 2553, '609': 5590, '75x2': 4885, 'glv': 120, 'a182f304': 7826, 'ca15': 971, '090': 3734, 'axk2035': 4114, 'aa5052': 3460, 'odfx': 7636, 'od90xid71xthk': 5295, 'pair': 1727, '6004zz': 4146, 'l40': 591, 'lqfp176': 5820, '25t': 3222, 'accumulator': 1111, 'cnc': 1135, 'or': 774, 'kemet': 1247, '120ohms': 5309, 'softflex': 6301, 'tnmg': 5926, 'd48': 4032, 'surfacer': 6698, '18ft': 4038, 'x70': 3544, 'rod': 44, 'mechanical': 1815, '5x6': 5215, 'n827': 2653, 'way': 351, 'nilkamal': 1740, 'axk4060': 2833, 'f07': 1922, 'apw': 5252, '6x5': 3241, 'reel': 7464, 's9': 7351, '500': 578, 'ap': 7329, 'gp': 2961, 'b34846': 4274, '435': 6120, '51400': 7726, 'bnd': 2201, 'lens': 5428, 'ceramic': 568, 'tfsl': 7756, 'guel': 5409, 'trim': 616, 'clad': 7057, '52x40x16': 4221, 'f30': 5541, 'x85': 2599, '12x40': 5084, '0833': 6563, '161820': 4289, '70': 202, '6204zzfor': 4144, 'chevron': 7260, 'x23': 4558, 'aria': 7086, '4sqmm': 2361, 'nb': 1820, 'smb403a': 4719, '49mm': 4833, 'are': 3390, 'diamound': 4484, 'bajaj': 5398, '75x370': 6446, 'a35158': 7818, 'cc0603jrnpo9bn100': 4404, 'ht1600': 7860, 'stel': 3236, 'm200': 4081, 'bought': 2172, 'emi': 2383, '3hp': 1060, '10688': 3373, 'des': 3880, 'kma33888': 7117, 'od36': 4058, '75x19x1': 3648, '2120x1600x150mm': 6978, 'jointings': 3753, 'pull': 2318, 'rear': 559, 'mss': 6455, 'a00001120': 7590, 'isl32432eibz': 6137, 'rubber': 348, '369': 6228, 'fb': 555, 'rk73h2attdd1000f': 6860, 'rotex': 1044, 'd38': 1897, '70x10': 6166, 'graphit': 5278, '416': 2221, 'sq433xthk52mm': 7220, '17890': 7586, 'fdc2214evm': 7019, 'lockout': 7665, 'sections': 4668, 'tow': 6269, '1083': 5169, 'a489': 1082, '2': 4, 'uni': 1268, '860': 3207, 'grub': 654, 'id178': 3533, 'id26': 6214, 'e6': 6018, 'hsg': 1327, 'ms3102r': 4566, 'dia350': 5620, '80sch': 763, 'braided': 491, 'ct100': 4637, '8tpi': 3037, 'bvn': 3477, 'hs008': 5632, 'normally': 7347, '20tx2500wx12000l': 6636, 'mitsubishi': 2587, '096v': 5731, 'od635': 5378, '120x90x15t': 6092, 'iw3': 3902, '45dg': 3105, '8pf': 4401, 'shottky': 4735, '585x400': 5489, 'radial': 1059, 'h1150m': 4027, '47k': 2635, 'a105': 103, 'dadar': 6319, 'kalra': 3750, 'contactor': 1068, 'a217': 216, '950x2000mm': 3485, 'dklac': 7512, 'degree': 1455, 'od44': 4105, '16amp': 2559, '182020': 4290, 'od126xid107xt3': 5470, 'sight': 1607, 'half': 646, 'rivit': 3233, '680mm': 7904, 'acme': 7428, 'aeroflex': 7610, 'x3mtrs': 5637, 'ø160x1400mm': 5325, '8thk': 3612, 'rodhac': 6605, 'cmos': 3410, 'bjt': 5775, '335': 2115, 'ultra': 7852, 'tc8': 1197, 'db': 2534, 'quaker': 4605, 'vanadium': 108, '8x12': 2426, 'mesh': 18, 'cartridge': 5420, 'corit': 3971, 'a00003463': 5128, '36t': 6677, 'd24': 1870, 'mt2': 6064, 'ma': 2807, '5xt5': 7516, 'gage': 3571, 'a510': 5222, 'rpa250sr': 2721, 'd20': 747, '104': 2490, 'vac': 2367, 'luggs': 6020, 'forded': 3530, 'shaped': 3789, 'fans': 3149, 'bvp': 7781, 'htssop': 5795, 'vdc': 1243, 'topworks': 3744, 'k60f10a': 2189, '1v': 3049, '012': 4920, '7kg': 6263, '701': 7600, 'aosong': 7012, 'smaw': 4969, 'bcw': 7877, '061f9058': 7338, '0730r9l': 6864, '25p': 592, '1510': 6104, 'od296': 6127, 'x101': 6512, '4h': 3071, 'width11mm': 4655, 'brand': 608, '150gtv': 1429, 'ler': 3982, 'cb': 7925, '1000x1000x3': 5408, 'a00000326': 5124, '5sqmm': 664, 'thk5': 1823, 'mill': 1155, 'rk73b2attdd222j': 6817, 'h': 72, '800mm': 5647, '45x25': 4318, '3160': 6537, 'phoenix': 4575, '1500gtv': 1574, '53': 769, '0025': 2498, '100x475mm': 6955, 'm24x150': 7271, 'gr8': 1748, 'panel': 292, '574': 4585, 'ø114xø40': 7750, 'x1300': 5653, '9031': 5193, 'window': 4997, 'operation': 1868, 'dcmt': 5913, 'length160mm': 7312, '552x400': 7795, 'kvrms': 5529, '1of': 6589, '5x10': 2419, 'm18x2p5': 5136, '072ml': 6851, 'scisser': 3792, '910': 3654, 'english': 4781, 'adopter': 7059, 'forging': 525, 'crimps': 1674, '162t': 7527, '16swg': 4317, 'ltd': 690, 'v9': 6380, '60l': 1176, 'ohm': 1309, '338': 7111, 'magnetic': 1208, 'd12': 1125, 'lenth': 2852, 'littlefuse': 2918, 'x33': 6999, 'zb48kqe': 2969, 'touch': 7013, 'te': 6883, 'dip': 373, 'nichicon': 2937, '1inch': 2503, 'v4': 1089, 'fatty': 2720, 'isl83485ibz': 5834, 'tk': 5952, '50mtr': 2134, 'blm21ag121sh1d': 5312, '47cm': 6067, 'safe': 2733, '123': 1383, '3cx': 4895, 'unshielded': 4887, 'exim': 5032, 'ø': 2033, '3er2': 3421, '260w': 7065, 'parker': 1578, 'wd13': 7098, '1755uh': 4977, 'b20': 5063, 'weldox': 6637, 'l32': 5362, 'd20x': 6433, '315ma': 4340, 'htb': 993, 'atom': 3840, '5v': 1072, 'le15k17cl': 6384, 'w30': 2263, '21w': 2871, '255k': 6799, '245mm': 6187, 'sensor': 481, 't110': 6929, 'power': 328, '297': 4524, 'pneumatic': 480, '150rf': 2446, 'mf1115': 3418, 'f44': 1054, 'capacity': 1007, '252825': 4276, 'dou': 6676, 'epcos': 1935, 'en45': 2773, 'mx': 2259, 'sup': 7217, 'tissue': 1825, '271': 5482, 'butter': 6297, '105d': 2370, 'vsr48009': 7830, 'f6acl': 3273, 'material': 336, '6amp': 6447, 'rough': 4604, 'ee': 3787, 'natural': 2228, 'peko': 4959, 'salzer': 7322, '530': 875, 'nogo': 3586, '8a8': 7071, 'actr': 1259, 'blind': 1406, 'hitachi': 4647, 'simcom': 3372, '003750': 4262, 'simplex': 4482, '6303': 4115, '200mm': 1142, 'smb': 2347, 'ser': 5522, '444': 2966, 'od115x12thk': 4511, 'bd': 5003, 'automatic': 1860, 'sh044': 4563, 'being': 2818, '247ac': 6140, 'a351': 170, 'ø10': 2356, '35hrc': 3772, 'd280': 4037, '425mm': 7476, 'pieces': 7091, 'a00000641': 7944, 'plus': 4178, 'sunon': 5015, '10220kl': 6824, 'stator': 1711, 'heatshrink': 2377, 'er410': 3244, 'polyester': 3502, 'xy': 3130, '180x110xt35': 6084, '175kg': 4224, 'systems': 3343, 'mach': 7813, 'inner': 371, '6a': 1016, 'holes': 1029, '506': 6246, '90142': 3012, 'elcom': 7328, 'davidson': 7733, 'rtc': 2759, 'shielding': 4996, '470nf': 4331, 'threded': 7306, 'm27x3p': 5168, 'cuttoff': 3735, 'bottom': 226, 'pcknl2020m12': 7544, 'suction': 571, 'monorail': 4288, 'masking': 3758, 'pd': 1532, '40amp': 2825, 'x13': 1441, 'fl309': 7134, 'min': 3773, 'l70': 1170, '945': 6071, 'bath': 7072, '600btm': 7825, '36vin': 5801, 'hammer': 5153, '57': 1261, 'plastic': 359, '90x40': 4004, '14a': 2543, 'grey': 668, '275': 4508, 'd72': 4008, 'od140xid112xthk': 5284, '170': 890, 'vj1206a102jxacw1bc': 2917, 'm40': 5160, '3nos': 5042, 'colourless': 1736, 'note': 5993, 'ag': 3337, '6mo': 5511, '400volts': 4414, '1ton': 4170, 'snap': 6014, 'km40dr35': 7153, 'hydrodyne': 3804, 'mt4': 2098, 'cm': 6336, 'elctr': 3370, 'line': 1118, 'a182f316': 5377, 'deepgreen': 5866, '630': 682, 'd51039': 4682, 'stroke': 854, '5x': 1767, 'thruster': 2868, '000': 2735, '206': 6608, 'switching': 2086, 'ø12': 2108, 'rv5': 3388, '3er9w': 5888, 'xx': 6460, 'rdbr26': 3998, '0p': 3728, '150ltr': 7418, 'isat': 2540, 'id285': 5359, 'thk6': 2577, '5amp': 6755, '2w': 1526, 'compression': 4310, 'hr': 7069, '301': 5543, '3inch': 7434, '3th3': 4578, 'a00004723': 4232, 'exide': 2231, 'fil': 3951, '450mm': 3348, 'patch': 1875, 'rm2': 7785, '3ua5200': 4916, 'pg': 1975, 'dsa': 6409, '4r': 2388, 'd115': 1647, '22a': 2993, 'a194gr2h': 2411, '130': 1050, 'gs41': 5466, 'rs1m': 4718, 'tt9080': 5906, 'electronics': 607, 'm16x1': 1548, 'nbr': 666, 'steelgr': 5139, '71': 3039, '155l': 7293, '3pc': 1394, '81': 1230, 'hydraulics': 5643, '4x6': 6008, '14x15mm': 7092, 'analyser': 3590, 'attuatore': 2839, '3mtr': 2448, 'mc': 1751, '7r5ml': 5857, 'x18tpi': 1754, '276': 1911, '620': 5509, 'd53': 4016, 'rm': 64, 'part': 65, '325': 3847, 'ekxj501ell100mj30s': 4421, 'pillar': 4691, 'untra': 3400, 'dn80': 1925, 'downrod': 589, 'sram': 5785, 'id142': 7125, 'sensing': 1826, 'standalone': 7062, 'spilt': 3801, 'p': 173, 'nf2pan520n00000': 7720, 'od49xid19xthk': 3717, 'point': 2010, 'five': 6982, 'ep': 5581, '5x3t': 5260, '060404': 5953, '23mm': 3089, '032f1206': 7724, 'pla': 2368, 'cam': 2554, 'n': 680, 'bild': 6326, 'acetate': 1863, '308': 2194, '2x2': 2588, 'tqfp': 3467, 'reverse': 3897, 'slide': 3330, 'wsc': 7901, 'ssnld': 2755, '20tx1500wx6000l': 6634, 'butadiene': 4670, 'turpentine': 6284, '10m': 6754, '3028': 6734, '309': 6477, 'od135': 5368, 'pg40': 3134, '1180x2500x150mm': 6980, 'od99': 3709, '448': 6185, 'nrv': 2693, 'l97': 7267, 'soic14': 3378, 'of': 396, 'bags': 5324, 'lqfp100': 5799, '353920': 4259, '87': 1497, '6x3': 3444, '032f7149': 7706, '6x16': 5292, 'dn100pn40': 3223, 'base': 625, 'vj1206a101kxacw1bc': 4371, '1687z00': 3896, 'gr2h': 2018, '123x75xt28': 6079, 'accessories': 710, 'ip': 2392, 's7': 7381, 'id52': 3684, '60mm': 748, 'lifting': 532, '4ir6tr': 5899, 'glossy': 6272, 'eyebolt': 765, '31': 744, 'coolig': 5033, 'capacitor': 133, 'm16x20l': 5205, 'valve3': 7699, '6304': 4167, '190l': 3357, '300tcv': 1073, '518': 1210, '300rf': 2049, 'tdv': 669, '3pole': 3449, 'freeman': 6056, '6v': 4083, 'r22': 2301, '38t': 2739, 'filler': 324, '590192': 5438, 'c1812c105k5ractm': 4378, 'sc': 899, '75x75x295': 7482, 'efd15': 4903, 'npac': 3868, 'printing': 1590, 'smps': 804, 'set': 174, '100r': 2633, '480vac': 4910, 'rpa150sr': 1865, 'return': 1205, 'esu107m450an9aa': 4377, 'evaporator': 1737, 't0220': 4715, '8x3x25': 3437, 'clock': 3396, 'dowanol': 3332, 'sse4x': 7643, 'alloys': 3668, 'tail': 2514, 'taper': 949, 'x480': 5636, '9007': 6281, 'x1p': 3168, '4ern60vtx': 5917, 'circumference': 7454, 'wire': 10, '10nf': 4390, 'dl': 7551, 'tpw': 352, 'shoes': 677, 'a00000226': 7924, 'm230': 2334, 'thk65': 6616, '650mm': 3859, '3corex2': 5343, 'positioner': 1624, 'slogging': 7088, 'diode': 272, '50nb': 795, '468': 6190, 'l345': 7290, 'corrosive': 6706, 'rt2': 7143, 'ungalvd': 7902, 'ac51': 4913, 'd95': 1051, 'coin': 4480, 'x26': 6521, 'ferralium': 2803, 'od323': 6579, 'ing': 6044, 'od74xid58xthk3': 5474, 'autowire': 1996, '51120': 4120, 'yoke': 189, '180x180xt60': 6085, 'ms6': 5515, '5vt': 5421, 'threads': 4052, 'thrust': 327, 'plot': 7736, 'd26': 2214, '14x9x55': 5971, 'so': 1787, 'od26': 1484, 'iq10f10': 3900, '05r': 6807, 'pgl': 1721, 'grid': 1706, 'ncp1608': 5737, '74435571500': 5849, '3000': 1013, 'purpase': 7248, 'hippo': 7413, 'multi': 700, 'ungrounded': 7488, 'uc18h05': 6393, 'cutting': 937, 'x150': 3559, '1000': 442, 'od600': 5365, 'revised': 5994, '5x70': 3304, 'burrs': 4246, '1uf': 643, 'rating': 2724, 'id86': 6933, '840': 3432, 'nu': 6267, '36amp': 5633, '300fl': 2702, 'unc': 150, 'p19': 7536, 'kf': 5546, '40nb': 912, '54dg': 4873, 'id76': 5473, '7uh': 5858, 'shree': 5048, 'ø19': 5000, 'bulket': 1819, 'acrylcoat': 6332, 'b8m': 401, 'ex': 2547, 'frozen': 2950, 'cmi': 5613, 'boiler': 995, 'carbide': 827, 'qap': 220, 'tandeem': 7927, 'fm1h331l': 4375, 'opening': 78, 'ram': 5049, 'pn16': 2256, 'wing': 1722, '006': 6975, 'ab18': 4280, '4core': 4892, 'generator': 5551, 'hk2018rs': 4149, 'wihtout': 5047, 'easilok': 6054, '220v': 1392, 'shc': 849, 'namaplate': 4236, 'l87': 7266, 'project': 6117, 'shakti': 6732, 'skf': 1914, 's31803': 2218, '390x300': 5488, 'oil': 276, 'handsfree': 6026, 'erba': 3881, 'tdk': 1680, 'iron': 482, 'nopb': 5768, '12x13': 5238, 'f16': 2188, '055': 7597, '122': 4474, 'empty': 6313, 'cnmg': 2094, 'skd': 6007, 'a00000757': 7815, 'bkt': 7595, 'yu': 2983, 'coils': 1686, 'toshiba': 3408, '10unc': 5150, 'a00000071': 6062, 'r550': 7919, '1530y': 6705, '6rnm': 6721, 'muff': 2564, 'metres': 7479, 'v3': 621, '38mm': 2428, '16789': 6349, 'conveter': 7626, 'tin': 2325, 'esr': 2266, '2438': 3463, 'gs': 5928, 'cf8c': 2003, 'stub': 7427, 'uln2003': 5721, 'vent': 1559, 'er80s': 2443, 'system': 1666, 'acros1950': 1203, 'viva': 2963, 'm35': 2414, 'd22xt4': 7518, '24vdc': 927, 'h11': 7040, 'ymw': 7853, 'reciprocating': 1368, 'm30x50': 5122, '4kw0': 7835, 'knife': 7705, 'crimpscrimp': 7462, 'holders': 5422, 'dn40': 1673, 'vtx': 2545, 'smh250': 2767, '12495c': 4775, 'length': 419, 'ltr': 988, 'chilled': 1944, 'x83': 6549, 'sbm': 4119, 'chemi': 4420, 'wrapping': 7246, 'id59': 3498, 'zda': 1992, 'ss303': 5583, 'cc0603zry5v9bb104': 4393, '1500x645x6': 6100, '55l': 1543, '7x12': 1762, 'tensile': 1024, '30x10': 6639, 'neohm': 6885, 'crc': 6118, 'wd2': 1822, 'spmt130410': 5922, 'sgi12s': 7036, '158': 3018, 'chirag': 4797, '137': 3977, '8pin': 5711, 'nf8327b301': 7701, '263': 1582, '1367': 1080, 'sq': 185, 'bonetti': 1521, 'make': 69, 'imi': 7676, 'patton': 3136, '07x': 6212, 'dowel': 791, 'dbi': 3970, '09mm': 6577, '0727kl': 6859, 'mi': 3120, '417': 2578, 'd215': 2809, 'manufacture': 3286, '5ltr': 3936, '25tx1250wx5000l': 2859, 'iv': 4472, 'x160sch': 6574, 'bve': 721, 'm14x1': 5172, 'f35': 7946, 'd76': 1478, 'acs720klatr': 7031, 'tungsten': 1393, '1100mm': 3352, '1008': 6610, '3d': 658, 'tct': 1378, 'rgh': 2713, 'ss316': 99, '3px': 5203, 'outside': 4572, 'inconel': 409, '51x46x16': 4218, 'cc0603krx7r8bb101': 4403, '12x2': 4633, 'd5': 6434, 'fbse': 7658, 'bldc': 6154, '395': 5919, 'tc12': 2658, 'phoshporus': 7868, 'emergency': 3736, '2x9': 3706, '63hzupto50amp': 6652, 'a00002121': 5665, 'toyo': 4653, '23xid': 5480, 'array': 1381, 'ph032206002r': 7406, 'maliec': 6777, '16666': 6471, '2pc': 950, 'c0805c224k5ractu': 4405, 'en24': 2710, '35mm': 1746, 'transperant': 3431, 'nitril': 1829, 'pos': 7259, 'label': 2109, 'astma234wpb': 613, 'cf8m': 245, '10x30': 5086, 'thk': 53, '129201': 4991, 'lm1117qs': 5769, '5w': 1716, 'x8unc': 7284, 'thermacol': 3763, 'irf540n': 7583, 'hollander': 7871, '532': 1214, 'a00005281': 5113, 'd8x25': 6429, '340': 1296, 'pat': 2532, 'pr1225': 1980, 'iq70b4': 4130, '425cd': 6953, '0712rl': 6843, '6sqmm': 1149, 'a00002110': 4679, '395l': 3356, 'battery': 551, 'lucite': 3592, '41314698': 3577, 'gas': 806, '1990': 1467, 'od16': 1640, 'adlift': 4584, 'ck20': 3834, '2020': 2168, 'r550axk': 4109, '1xi44': 3703, '1850mm': 5698, '110mm': 2643, 'norton': 5594, 'blocked': 2170, '2000': 1652, 'thk1': 1137, 'turnmax': 2654, '30mm': 637, '100mmlg': 5105, '300mm': 809, 'armacell': 7435, 'mc4': 1067, 'trun': 1655, '2thk': 2060, 'tc9x': 7197, 'cabin': 6442, 'lashing': 5983, '07499kl': 6819, '1220x600x6': 6103, '78': 997, '100pf': 1933, 'l240': 2610, 'm3x15': 1761, 'config': 342, 'ss316drawing': 7382, 'id33': 3202, 'tc6x': 7203, 'gws': 3334, 'renewable': 462, 'a00003729': 7920, 'chrome': 1032, 'imported': 1487, '52crmov4': 7900, 'x115': 3550, '18amp': 4583, 'amber': 5565, 'd54': 1645, 'a00000023': 3829, 'screw': 36, '4inch': 3104, '1000volts': 4422, 'sot23': 1525, 'cutter': 339, 'zener': 538, 'category': 6970, 'bwø246xø145': 7797, '475': 5380, 'edge': 678, 'od180': 3466, 'arm': 3661, 'sa': 303, '210mm': 6597, 'semtech': 5821, '8l': 2026, 'cf3m': 826, 'cs': 407, '195': 2125, 'a00005362': 6685, 'ch': 5984, '12tx2500wx12000l': 4198, 'l50': 844, '4k7r4k7': 6870, '48rpm': 2183, '100x100x410': 7484, 'hr3': 2333, '660mm': 6316, '083': 2353, 'f339x121048mda2b0': 4376, 'indoor': 1538, 'quad': 1189, 'inmarco': 6942, '100401': 7569, 'cleaning': 2718, 'x20unf': 7279, 'sm712': 2345, 'amc1100dwv': 5778, '3er12w': 5882, '3000nos': 3465, 'a00003867': 5677, 'ø840xø660': 7779, 's20k320': 6788, 'fbve': 3808, '555': 2056, '21': 231, '230': 548, 'types': 6443, 'mm5z8v2st1g': 4768, 'fbvc': 7642, 'stm8s003f3p6tr': 5738, 'wiper': 6998, 'p4': 2416, 'k': 740, '32v': 3290, '52uh': 4905, 'pltd': 2899, '150w': 2869, 'diffusion': 5432, 'm12x40': 3153, '0ap0': 2994, 'msop': 5773, 'x290': 6552, 'ply': 934, 'unloading': 7703, '5100': 4772, 'selector': 1851, 'bore': 1240, 'oal': 1978, 'a315': 7798, 'rtex': 2304, '300': 56, '2x6t': 2669, 'm': 111, 'tools': 1564, 'machined': 338, '0712kl': 6850, '12din': 7854, 'hbzp': 6703, 'rpa330sr': 2722, 'rx': 7632, '002': 7508, '219': 1685, 'd50x25': 5258, 'ss': 13, 'sch80': 3256, '120p': 6035, 'sandvik': 3777, '0kui10stacmevtx': 5901, 'reg': 2745, 'mu': 515, '1515': 3600, '24mm': 3184, 'ee16': 1734, 'r': 301, 't16': 5372, 'gloves': 620, '3164': 2608, 'skin': 902, 'grinding': 506, 'wd38': 7175, 'protobond': 3875, 'tl': 1724, 'fl492': 7109, '1320': 7875, 'suctionhx': 5410, '80vdc': 7396, '8ft': 6716, '220pf': 4445, '30344216': 2879, 'ivory': 789, '377': 6234, 'gull': 5762, '80': 110, '3386': 6687, 'across': 7911, 'l75': 1171, 'od155': 5351, 'x18': 1237, 'fl132': 7172, 'od27xid18xthk2': 5506, 'm36x3': 5069, 'ssb': 7489, 'parm': 4141, 'plant': 6045, 'knitted': 6968, 'linear': 2185, 'ctel': 1617, '6015': 4158, '900tcv': 5148, 'x100mm': 2612, 'superb': 3839, 'wheel': 291, 'd135': 1906, 'iko': 2837, 't630': 926, 'alan': 5106, 'lm2576': 2521, '0402': 2935, 'insulated': 1242, '74k': 6821, '230mm': 5627, 'drivers': 3313, 'axk3047': 4138, 'runner': 7906, 'h1': 5277, 'nitrogen': 3481, 'pa250': 2732, 'pge': 2064, 'distance': 1885, '5m': 1876, '073r3l': 6845, 'mtd': 6152, '520': 434, 'opel': 6276, 'a00000395': 5246, 'oxidized': 3767, 'od38': 4056, 'zb21kqe': 4541, 'uncx55l': 3726, 'fl500': 2152, 'jyoti': 4787, 'caulking': 2944, 'l52': 7298, 'cx': 4091, 'hempadur': 6704, 'file': 3242, 'thk10': 7237, 'o89': 7230, '74474': 3324, 'torch': 1201, 'xomt050204': 5936, 'whit': 5141, '116cm': 6308, 'festo': 7686, 'ø7': 4811, 'sna': 1122, '120412': 3429, '44': 552, '6acme': 7430, '3x150mm': 4973, 'distilled': 2719, 'sensors': 7017, '70id': 4510, 'odf': 1314, 'thf': 6765, 'f½800bvr': 7808, 'asa150': 273, 'local': 7667, 'm22x2': 1280, '3uh': 2951, 'spling': 4287, '903': 5188, '10uf': 784, 'ss34': 1969, '63v': 1139, 'bon': 2641, 'patty': 4513, 'freq': 2541, 'bus': 7838, 'derlin': 7647, 'sintered': 3952, 'nuthx': 5304, '10x8x40': 5969, 'hdg': 5287, 'ae2': 6607, 'id44': 3228, 'jam': 956, 'strip': 1346, 'phosphor': 4296, '18v': 4722, 'fanuc': 4082, '260': 119, 'printed': 1960, '2x0': 5254, '2hm': 1174, '80l': 1087, 'aisi410': 2227, 'float': 1423, '251': 6527, 'zenex': 3387, 'receiver': 1798, '28tx1250wx5000l': 4201, 'scissor': 1241, 'l225': 7282, 'press': 2848, 'a00001113': 7805, '174t': 7622, 'cu': 6013, 'wall': 2393, 'beardsell': 6728, '540l': 7522, 'con': 1936, 'htl': 1491, 'a439': 1475, 'mm': 2, 'toughened': 2074, 'plating': 1462, '45od': 6950, 'earthing': 1981, 'tread': 5945, 'friction': 2057, 'x133': 6519, 'inj': 5958, 'timer': 3774, 'id325': 2798, 'kabel': 726, 's28': 7365, '511': 2762, 'drill': 124, 'rubberwood': 4229, 'lits': 5007, '525mm': 2382, 'pma': 3870, '2742102330': 5536, '1900': 1919, '3ma': 3888, 'le15l21twl': 6381, 'saf': 1212, '3126': 6560, 'l220': 3006, 'a00005400': 7803, '110t': 3923, 't50': 1489, 'rt7': 7181, 'ga': 7027, 'tab': 3747, 'master': 885, '26': 322, 'steeper': 7907, 'sa194gr8m': 5134, 'module': 1216, 'd40': 389, 'x43': 6474, 'avs': 4518, '20nb': 5333, '55t': 7592, 'ussop28': 5803, '023': 3814, '28x14': 3238, '068z3403': 7646, 'squar': 4073, '25w': 839, '404': 2714, 'gv3': 456, 'b13': 7321, '8xid': 2062, '020mm': 5319, 'pin': 60, '721': 6969, 'deg': 1372, 'id210': 2054, '3c': 3800, '2410mm': 6133, '16tx1250wx6000l': 6633, 'id61': 5441, 'nhp': 4089, 'pa': 1527, 'pr616': 6768, '51112': 4136, '300e': 5757, '824013': 3061, 'kss': 4312, '75p': 557, 'ptot': 1620, 'a': 118, 'bsp': 258, 't3': 461, 'chicken': 2709, 'phosphoric': 3873, 'flame': 3742, 'rv6': 5992, 'crcw12064k70jnea': 6820, 'o58': 3712, 'building': 2621, 'technology': 1512, 'di': 1293, '3600': 4491, 'tc': 901, '40': 90, '116': 793, 'id310': 7169, 'x140': 3551, 'sod': 1382, 'od173xid157xthk': 5446, 'blanking': 4195, '21xid': 6557, '30x25x55': 7274, 'x220': 6528, 'lid': 5439, '18l': 3160, '0747kl': 6894, 'mdf': 7682, 'id140': 1345, 'od70': 1892, 'filled': 2381, '620e': 6785, 'cordless': 3097, 'condensing': 4556, '91666': 6489, 'caf': 5517, 'layers': 6344, 'ler316l': 3253, 'msr': 5344, 'indicator': 837, 'core': 193, 'm25': 3192, 'od100': 3263, '8000': 7887, '488mm': 6189, 'a00005283': 5051, 'tapping': 2032, '8xi28': 7244, 'a00004338': 5609, 'bont': 732, '05w': 4978, 'packing': 116, 'smles': 3536, '1250x1250x5': 6113, '445x80x20': 3457, '100x100x100': 7481, 'oven': 2283, 'oring': 3496, '060408': 3417, 'x08': 7285, 'seals': 5684, '3tf3': 4577, 'blood': 4641, 'nominal': 7559, 'cooled': 4553, 'wd24x': 3694, 'm24x100': 5115, '52crv4': 2812, 'np': 5064, 'aar': 5031, '35x': 5054, '3u52': 4944, 'smd1206': 517, 'blockth': 7473, 'ethylene': 4673, 'ek': 3077, '75x260': 6444, 'grip': 1560, 'qs': 1699, 'id135': 7112, 'dia18mm': 4805, 'esv': 7695, '100x100x295': 7480, 'b51': 4180, 's3': 7352, 'p6ke100a': 4732, 'slot': 1065, '80mtr': 5346, '54w': 4981, 'unloader': 6990, 'a00003518': 3919, '115mm': 3576, 'id232x': 7199, 'centering': 5518, 'grit': 914, '19': 199, 'iso': 911, 'monocolor': 6162, '9005': 6286, '12vt': 4087, 'yac': 7410, 'striper': 3861, 'through': 380, 't55': 1777, 'interzinc': 6714, 'wires': 2902, '501': 4643, 'strut': 2308, 'roval': 6985, '3333': 6541, '032s': 4799, '150ma': 3402, 'ams1117': 2517, 'rv2': 1514, 'sleeve': 364, 'sif': 6217, '4575': 3948, '810': 2527, 'mmx4core': 5342, 'od335': 5360, 'tx': 7664, '372': 6229, 'ferrite': 3239, 'pink': 1707, 'x390': 4611, 'ze': 4127, 'cl3000': 3762, 'nerolac': 2580, '454': 6194, 'id34': 6213, 'soldron': 7079, 'transmission': 2319, 'dome': 2016, 'hacksaw': 2076, 'id190': 1778, '220k': 2638, '8x14': 5225, 'oxygen': 1156, 'sa516': 3580, 'm33': 2417, 'fiber': 1967, '10mh': 4496, 'kls362h': 5815, '80mm': 1056, '9mm': 1161, 'hk': 5036, 'protective': 4957, 'epoxy': 554, '100nf': 2908, '5862': 7116, '519': 1881, 'rpa': 3889, '165': 1684, 'hag': 4537, '2100001': 7379, 'cold': 4791, '5gm': 3927, 'circuit': 1100, '32rpm': 5549, 'od205xid185xt3': 5461, 'titanium': 1384, 'a00000177': 6959, 'sch160': 6469, 'tssop': 2530, '3ei14npttm2vtx': 5902, 'x1700': 5654, 'key': 405, 'm16x87': 7269, 'd45': 717, 't10': 1379, '16l': 1285, 'p06f22r0v': 6865, 'ntn': 1490, 'palin': 3229, 'etd': 3413, 'snh': 1209, 'x75': 1745, '103cm': 6309, '343n': 5539, 't32': 2450, 'l100': 1199, 'sf': 3143, 'taegutec': 1667, 'sealer': 7599, 'a216wcbibr': 7806, 'wind': 7020, '568mm': 5696, '2313': 6484, 'dowty': 1105, 'm14x2p': 1277, '202325': 4254, 'custom': 567, '1x40': 4187, 'fastners': 142, 'face': 820, '3158': 2627, '1000pf': 1138, 'gaurds': 2685, 'r14': 7374, 'dn150': 1926, 'acw': 2626, '5k': 3447, '142': 6206, 'pee': 5030, 'bvedn200': 7272, 'sup9': 87, '230vac': 1074, 'fl450': 2150, 'bubble': 6303, '10volts': 2934, '211': 2488, 'case': 1887, 'd34': 1644, 'x200': 2603, 'le18h23ap': 6406, '74': 2337, 'inductor': 657, 'jd': 7242, 'bracket': 398, '183': 2294, 'enameled': 7865, 'wd19': 2659, '212r2': 7913, 'cello': 7441, 'gun': 873, 'zinc': 447, '10tx2000wx6000l': 6631, 'nj2': 2725, 'd32': 776, 'dia8mm': 4202, '14x9x50': 5970, '16uh': 4990, '3vregulator': 3369, '08mm': 701, 'uf': 1929, 'ended': 3670, 'mfg': 240, '10s': 2696, 'id45': 5471, 'cts6u': 943, 'stick': 1460, 'a00000058': 7772, '19ft': 4039, 'efficiency': 6252, 'tungaloy': 1809, 'a9n61519': 6050, '03205': 6346, 'overload': 1390, '4d': 1739, 'omnix': 7568, '3tf31': 2312, 'alu': 716, 'inductors': 2093, '37p30': 6591, 'm8x100': 5117, 'italy': 5701, 'gr8m': 5156, '7xi41': 3701, '20mmw': 7525, '7200dr10': 7101, '6r': 7718, 'bases': 7628, '51crv4': 3989, '824001': 3062, 'valves': 772, 'limit': 1041, 'tesnit': 2477, '15l': 2025, 'head': 84, '267': 6222, 'nt': 1789, '333': 6236, 'violet': 5869, '4c': 7076, '09a8': 7833, 'tubes': 857, '49ma': 4342, 'rder73a103k2k1h03b': 4384, 't1': 572, '46x26x24': 4228, 'green': 446, 'pg19': 4306, 'x9': 1880, 'a00000008': 5557, 'p2as2e': 7360, 'pencil': 4247, '280x185': 5490, '2mtr': 3260, 'ytdi': 7755, 'attachment': 7426, 'ceilings': 2625, 'cr42k6m': 4543, 'ton': 1663, 'winding': 1701, '18kg': 1615, '10ltr': 7415, '12000': 5523, '6008zz': 4161, '32mm': 1422, '10w': 6147, 'spence': 2884, 'aluiminum': 3983, 'crimped': 3848, 'counduit': 7678, '52a': 4339, 'pss25mc1ft': 6692, 'stps20h100cfp': 4714, '74hc595': 3367, '1235': 3453, 'id220': 3689, '3er1': 5884, '220r': 6811, 'all': 1179, '00m': 5644, 'erj': 1604, 'acid': 1113, 'cc1206kkx7r9bb475': 4386, '2ir': 5876, 's16q': 4214, 'batch': 7505, 'vmcu': 5639, 'rishabh': 4514, 'copier': 3507, 'valve1': 7697, 'bcm': 5991, 'stripper': 1962, 'lh': 1653, '323': 3064, 'cut': 1256, 'k600f14a': 3894, '63162540': 7679, 'c30': 249, '30t': 3913, 'grafite': 2438, 'machine': 455, 'f45': 4023, 'continental': 7526, 'one': 941, '159': 3531, 'stm32f429iet6': 5819, 'lathe': 5987, 'd250': 2797, 'holder': 290, '2x1': 1669, 'in': 397, '064inch': 4453, '131': 3177, '65mm': 2013, 'gp12': 2888, 'od113': 2484, 'v': 153, '22e': 3633, 'machining': 612, '1550': 3857, 'ø5': 4832, 'cast12': 7763, '22swg': 6573, 'programming': 7618, 'exhaust': 1448, '700': 834, '806': 1605, '14g': 1817, 'matrix': 3526, '217': 812, '5er': 7542, 'hil': 3884, 'od384xid363xthk': 5507, '1400': 1075, '4x': 7405, '22m': 4410, 'bars': 5641, '415vac': 7837, 'a234wpb': 4871, 'hole': 177, 'l250': 3005, 'board': 977, 'a00004727': 4234, '201': 5592, 'le': 2586, 'warning': 2164, 'le18j27dg2': 3525, '028': 6210, 'triac': 4914, '2nm': 4065, '5900': 4994, '32f4l3': 3954, 'm8x40': 5088, '173': 7593, 'pressed': 3033, '3775020397': 5440, 'm30x3p': 3199, 'dprh10': 7656, 't75': 5393, '355': 6628, 'x14tpi': 3163, 'thk50': 7223, '3er11': 5881, '9r': 6782, '5kl': 7419, 'c4': 2241, '100x100xt20': 6075, 'm5x0': 846, 'spanner': 378, 'e27': 4241, '2950': 2708, 'shelf': 1622, '5t': 794, 'b32620a6222j': 4418, 'a00000276': 6921, 'polyol': 6675, 'ggcv': 2384, 'jt': 4786, 'yageo': 374, 'sae6150': 7897, 't60': 3270, 'intake': 7713, 'a00002119': 5666, 'plier': 969, '1270': 2711, '33k': 6795, '324': 2741, 'dia3mm': 4806, 'blrf': 706, 'k16': 7537, '4mm': 343, 'm6x8': 3209, 'resistance': 6965, '500mw': 787, 'circle': 647, 'bwø196xø110': 2700, 'micropower': 5765, 'tactile': 1316, '32t': 7591, '2nf': 1927, 'a00005413': 5300, 'compresser': 2742, 'vj1206y102jxaac': 4373, 'c34983': 6904, 'a350': 1333, '120ah': 4084, 'optocoupler': 3395, 'rpa250': 5676, '70ma': 4334, '5core': 4890, 'laval': 6059, 'static': 7184, 'x260': 2607, 'x100': 3154, 'separator': 1364, 'wth': 6720, '6inch': 2075, 'avr': 5782, 'seamless': 236, '1set': 7227, 'castng': 6922, 'poiv': 4177, '470r': 6852, '125l': 2015, '596': 7889, '50x15mm': 6175, '3el2': 5879, '4r7m2r0': 5860, '20mtr': 6749, '110x': 4507, 'crompton': 6146, 'nes': 2649, 'proxy': 2863, '20l': 1563, 'dom': 5151, 'nipple': 246, '520n': 2203, 'cc0603krx7r8bb102': 4437, 'win8656t6': 7461, 'metallic': 487, 'canvas': 4181, 'a34901': 7768, 'bending': 2245, '322': 6497, 'f71ih': 6255, '61dg': 4877, '1250x2500x8mm': 6618, 'ideal': 2145, 'bv': 764, 'wi': 7914, 'a229': 3672, '30004pa': 7917, 'flat': 214, '450l': 2687, 'v186': 5596, 'dn125': 1671, 'rpm': 1115, 'c0805c104j5rac': 4362, 'telescopic': 5693, 'ver': 3523, '4rx21x23': 4552, 'inline': 1428, 'partition': 1507, 'd30': 661, 'up': 1234, 'stationary': 6061, '17889': 7585, 'od640': 5367, 'duke': 3602, '20233021': 4267, 'wa8': 998, 'morse': 2097, 'after': 6254, '34x48': 6179, 'flask': 2072, '15kva': 7355, '6l': 1973, '7ah': 4076, 'm6x12': 2423, '573': 6202, 'cfm': 1874, '55889': 6260, 'fcv': 475, 'x55': 2123, 'remain': 7456, 'grb7': 3722, 't4': 1093, 'strand': 3851, '143': 7513, 'lehri': 7672, 'eveready': 4078, 'murata': 1934, '2ntc': 5231, 'ssd': 2758, 'mmsz5250b': 3055, 'solbin': 6774, 'rt1206fre0710kl': 6780, 'm20x90': 5102, 'w15': 4952, 'id13': 6208, '6ktd': 3139, 'bwø552x458': 7791, '1g': 4945, 'blue': 393, 'hall': 2520, 'le17a31stm429': 6417, '41': 1332, 'lift': 994, 'concentric': 2628, '174h': 7623, 'kbp210g': 5740, 'x73': 6508, 'holdar': 5955, 'le15j01hr': 6382, 'd56': 980, '6x4': 3181, 'xylan': 3201, '10l': 1284, '510x510x1': 6428, '6666': 6498, 'kmd49300': 7918, 'composites': 1000, 'sml4749a': 4765, '12ft': 2800, '08': 755, '1018': 5851, '376': 3564, 'od375': 5386, 'id55': 5352, 'cv': 1676, '62mm': 6248, 'dn15': 4281, 'ventilator': 3959, 'carbothane': 3769, '18l29': 6424, 'max20': 3785, '203': 3647, 'v2': 533, '13896': 7099, 'vinyl': 3615, 'trans': 5719, 'automotive': 1786, 'galv': 5147, 'matt': 1529, 'a00005208': 3987, 'emc': 7843, 'drain': 1976, '25x15': 4024, 'pot': 958, '517': 2195, 'hub': 1291, 'bulk': 5961, 'gr': 14, 'drums': 4856, 'c0805c102k5ractu': 4425, '06du06': 4263, '22pf': 1931, '163': 1951, '16x10x45': 5972, 'm385': 2330, '013': 4534, 'working': 5640, 'wiring': 1628, 'upper': 1915, 'fome': 7255, '17884': 4586, '606530': 4269, 'pipit': 6584, 'mess': 7869, 'as': 91, 'field': 5315, 'sheathed': 1357, 'f40': 2792, 'tc10': 2660, 'opa4743ua': 5832, 'pro': 6623, 'km85': 3026, 'counter': 3213, 'umk316bbj106kl': 4363, 'd10': 1646, 'assembled': 1593, '1681': 4652, '13inch': 7932, '319mm': 6195, 'c35570': 6903, 'od508': 6464, 't316l': 562, '436': 5414, 'seal': 235, 'dioxide': 1856, '4feet': 6074, '397': 6543, 'ccmto9t304': 5949, 'fx': 6801, 'a312t316nonmag': 6462, '7101': 4607, 'a03': 7683, '2x34x0': 5274, 'pc814': 5718, 'forg': 265, '250mw': 860, 'od220': 2453, 'l7': 1083, '0bb': 4101, 'vitramon': 4431, 'high': 458, 'b1770lp': 4173, 'atlas': 2282, '25amp': 4911, 'brush': 516, '96': 2061, '490': 5527, 'hplp': 7376, '472': 6238, '6206': 2836, 'bala': 4782, 'stepped': 2895, 'marker': 1042, '5x1': 2479, '130ma': 4338, 'a216': 57, 'tickness': 4519, 'tlv2354ipw': 5830, 'vl': 889, '25x45mm': 7908, '495x80x20': 6097, '15e': 6803, 'aux': 6760, '15uh': 2539, 'connection': 1112, '6202': 4126, 'wedge': 218, '112401': 4980, 'bwø840xø660': 7748, 'wurth': 1006, '185mm': 6599, 'used': 5532, 'tulip': 7848, 'dcbnl': 7534, '926': 7885, 'id290x': 7207, 'deburring': 7605, '150': 29, '8enf2203v': 6810, 'a36': 200, 't6': 6586, 'thk19': 7250, 'round': 97, 'nm': 3819, 'antenna': 1633, 'hanging': 2977, 'bridge': 3053, 'emailed': 4690, 'isi': 5964, '0016': 3781, '220': 627, '161825': 4266, 'stretch': 6439, 'tes': 1188, '13600': 5990, '316': 73, 'drv8811': 5794, 'wg1939130': 5429, 'anatal': 3342, 'roller': 1057, 'f91': 816, 'tsa12110': 7332, 'id64': 6251, 'gv2': 663, 'pc': 3135, '410': 420, 'rotor': 3333, '5999008695': 7211, 'wcb': 25, 'extension': 1282, '435x1000x5': 6109, 'plain': 297, 'c0805c202kdractu': 4424, 'ht': 237, 'pp': 822, '585': 6943, '8x30': 3173, 'insert': 164, 'rish': 4515, 'middle': 3765, 'vardex': 474, 'bft': 6594, 'pneu': 3035, 'mup': 3794, '8un': 7275, 'cc0603krx7r9bb104': 4385, 'hand': 313, '51109': 4135, 'da': 798, 'to': 250, '120l': 1752, 'a194gr2hm': 5158, 'stlseat': 6456, 'id60': 991, 'a106': 294, 'engine': 1537, '3m': 1326, 'a00000241': 5250, 'bosch': 1018, 'x71': 6493, 'fuel': 2464, 'l20': 1273, '5150': 4976, '3hpu3': 6966, '100': 179, 'swivel': 4470, 'food': 2489, 'spur': 2495, '25x25': 1616, '2336': 3552, '2kr': 6871, 'a350lf2': 4012, 'id40': 2457, 'cpc40': 6991, 'rozen': 2409, 'duplex': 1941, 'load': 7189, '65nb': 2050, '2500scv': 7767, 'ip68': 2730, 'stdc24v': 4953, 'element': 810, 'jti': 4788, 'od20': 1331, 'steelgrip': 1854, 'injection': 1743, '119': 6993, 'al5': 6649, '44x42x16': 4219, '90dia': 6454, 'lk': 4656, 'a00001467': 7943, 'ascorbic': 3874, 'bear': 5605, 'is2062': 595, '2c': 1993, '375': 2284, '0710kl': 3640, 'drg': 1038, '1400x1840x1140': 5401, 'rich': 2619, 'beaker': 2073, 'enclosure7': 7403, 'coated': 884, 'astma106gr': 738, 'blank': 323, 'em': 5905, 'controlled': 7080, '150fl': 7774, '813': 3846, '740': 3849, '1085': 5403, 'tightening': 3754, 'od8': 2778, 'adj': 2522, '8x4x18': 6646, 'ø38': 6957, 'tajc107k010tnj': 4397, 'cathode': 4737, 'network': 3732, '269': 6529, 'partitions': 5041, '200k': 3625, 'x113': 6516, '15mtr': 6055, '3smbj5927b': 4754, '20tssop': 5734, 'ie': 855, '11tblno': 5179, '944': 5505, 'axk5070': 4139, 'rail': 945, 'ends': 1536, '300bw': 2703, 'a00000206': 7922, 'le18g07ght': 6366, 'rivet': 415, '31k': 6863, 'm7x1': 3194, 'meera': 6757, 'temper': 1442, 'alen': 5123, 'hydroline': 2162, '347h': 4059, 'x88': 3554, '100k': 1286, 'a105n': 95, '1400x1085x930': 5402, '406': 5591, 'bright': 531, '88': 1665, '136': 6413, 'kyocera': 2551, '318l': 5678, 'harness': 2855, 'trunnion': 7594, 'compliant': 4349, '70v': 4739, 'inc625': 7182, 'id35': 5560, '78x32': 6645, 'rfkh01e': 7685, 'lb714sr': 4045, '450': 821, '3er8stacme': 5887, '560r': 3619, '85mm': 3433, '215': 1717, 'm5256': 6695, 'a276t420ht': 7519, 'od90': 1641, '106': 6495, 'od215': 6130, 'od268': 5513, 'm50': 5162, 'id124': 5472, 's26': 7370, 'thicknes': 5423, 'enclosure': 1452, '60': 148, 'mt': 1154, '33mh': 4984, '32a': 3448, 'bwø380x304': 2174, 'heavy': 1061, '00': 20, 'coil': 74, '½': 366, 'disk': 788, '410l': 7947, '4905': 7445, 'milky': 4666, '180ma': 4336, 'chequred': 936, '63mm': 1938, '73x1': 5492, '1h': 4930, 'heatsink': 1793, 'turn': 1185, 'polycab': 254, '310v': 4357, '20x20x250': 4217, '344mm': 6601, 'dital': 5214, '238mm': 6184, 'm6x120': 5059, 'prox': 7341, 'e250a': 6000, 'pune': 6334, '1150m': 1340, '200mw': 3065, '8x7x25': 5977, '3x10': 6435, 'od42id30t6': 7239, 'od49': 3225, 'displ': 5234, 'tcm06': 7654, 'accessory': 4080, 'siemag': 3799, 'id170': 7209, 'chiller': 4595, '34085b': 4169, '12x50': 5080, 'a30': 5588, '214ab': 2341, 'gta': 3771, 'height': 781, 'carton': 1064, 'jsw': 6388, 'sandwich': 1196, '180': 954, 'rv1': 2348, '2308': 6475, 'the': 7620, 'hermatic': 4535, 'x20': 2427, '3064': 6539, 'grdae': 743, 'tialn': 7432, 's31': 7380, 'thermocol': 1200, 'pdip': 5761, 'cast28': 7747, '805': 1681, 'leanbox': 5406, 'cpp': 6772, 'emersonaw55889': 6258, 's24': 5753, 'sdr0603': 5856, '96mm': 1733, 'dr': 3521, 'dv2': 6342, 'dia6mm': 3082, 'belleville': 3237, 'dia10mm': 2861, 'smd2512': 2137, 'dn20': 2258, '3er10stacme': 5943, '1n4007': 4770, 'o32': 2667, '1621': 6667, 'time': 5780, 'plug¾': 5178, '34a': 5843, 'hilge': 6057, '32m': 5729, '320v': 6790, 'na': 968, 'wpb': 1163, '425': 7893, 'ckt': 7052, 'd267': 6924, 'nl': 7305, '80x60': 4013, 'certification': 7588, '50crv4': 295, '505550': 4283, 'b32620a4223j289': 4415, '1666': 3549, '50x10': 3748, 'c1': 1764, '705': 2562, 's690ql': 6658, 'operated': 1344, 'm24x3p': 1410, 'urea': 1907, 'name': 209, '6004': 4125, 'srr4818a': 5861, 'svjbl': 2431, '470pf': 1679, 'wh00t10': 7604, '5x5x12': 5968, 'bonnet': 92, '25nb': 1028, 'glvz': 2412, 'pulley': 4485, 'fan': 234, 'eps': 2141, 'od63': 4001, 'cheu': 4493, '982': 7529, 'a00000540': 3029, 'div1': 7401, 'int69': 4526, '3ua52': 4950, 'tcvva': 2321, 'dark': 4993, 'pto': 1518, 'x80': 6490, 'attiny85': 5786, '4ph': 1123, 'm16x65': 5097, 'camlock': 3008, '17841': 7612, 'x77': 6499, 'bvr': 1037, 'sgn10s': 7041, '100x50x40x6mm': 3968, 'varitek': 6690, 'plc': 7842, 'bwø246xø190': 3823, 'decker': 2747, 'udrill': 3079, '516': 1465, 'unc7': 3162, 'colour': 829, '22uf': 1359, '146': 2958, '250vdcc': 7372, 'crimp': 1700, '298xid270xthk3': 5450, '01mm': 5997, 'ibm': 6396, '4sp5': 6731, 'tie': 549, '7x3': 6247, 'drive': 959, 'koa': 1839, 'tia': 3110, 'scanlog': 2349, 'thermocoal': 3764, '128x1335': 7829, 't40': 1656, 'uc52': 6375, 'inc': 1481, '4047': 7862, '245': 3102, 'a312s31254': 3537, 'range': 598, 'port': 1313, 'marked': 7391, 'kpa': 4064, '230mmx': 6337, 'd75': 1223, 'slf7045t': 5859, 'mur260': 4774, 'hack': 3338, 'argon': 1878, '329': 6192, '3036': 6624, 'a34909': 3825, 'gbm': 3100, 'd88': 4017, 'inc825nace': 7789, 'spherical': 1795, '1100033': 7366, 'ah725': 5925, '118': 3508, 'freezer': 796, '163s': 4800, 'resistor': 106, '304q': 2099, 'onsemi': 3383, '87xtc9xfl129': 7147, 'aramid': 3312, 'ul': 7398, 'frame': 1427, '20a': 1127, 'polyethylene': 1735, '105': 979, 'o95': 7234, 'b8': 282, '6xi70': 7235, 'ggb': 4272, 'spray': 858, 'solid': 1047, 'sclcl': 1493, 'quiescent': 2529, 't22': 6132, 'fl146': 3671, 'crab': 7732, 'earth': 1723, '1700': 1186, 'id153': 7176, 'id164': 6220, 'insulator': 965, 'switch': 149, 'l180': 1959, 'barrel': 1194, 'm5x12': 5223, 'mt1': 6063, 'ginding': 5587, 'ruttonsha': 3043, '348': 1966, '600gtv': 3832, 'plunger': 7262, '111dm': 2299, 'technymon': 1062, 'sx1f200': 7394, '3138': 6570, 'd140': 2786, 'bc': 2989, '072k7l': 6848, 'glycol': 4695, 'buna': 6200, 'dia12mm': 4205, '275v': 4354, '3040': 6522, 'r350': 7934, 'cc0603jrx7r9bb331': 4398, 'wd32x': 7201, '3072': 3604, '45x22': 5256, '2h': 224, '3180': 2526, 'n10276': 1650, 'drift': 1977, '18': 128, 'sides': 3659, '8v': 4716, 'culus': 7400, 'bar': 8, '40p43': 6604, 'id125': 2663, '15a': 2290, 'ant': 3650, 'iii': 6971, 'od75': 1473, 'grb': 6576, 'x90': 2601, 'a00004395': 6203, 'b32620a6472j': 4382, 'ai': 4600, 'grooving': 2095, '2209': 3252, 'xxs': 2126, 'sa216': 317, 't15x80mm': 5221, '25kg': 7485, 'od74': 2055, 'laptron': 2897, '850': 3511, '24x110': 7870, 'en47': 166, 'data': 3609, '35l': 2027, 's13': 7367, '200ma': 4744, 'wcc': 1097, 'od94': 2159, 'rachet': 3751, '390r': 6861, 'sa479': 4015, '824011': 4705, 'lm': 1636, 'a352': 1109, 'id72': 6218, 'ecotronv3': 1614, 'oxide': 6699, '422': 2087, 'a00005319': 3920, '100nb': 1418, 'grap': 2850, 'capacitive': 7016, '976r': 6814, '07560rl': 6844, 'm8x35': 5107, '114001': 4987, 'b68': 4174, '1va': 2323, '1500uf': 4361, '7k': 1311, '0120': 7466, 'laybrinth': 6936, 'a479t410c2': 6930, '10x4x35': 5978, 'ts601': 7325, 'xy1070grn': 5137, 'regulatorsldo': 5788, 'zb19kqe': 4540, '900mm': 2504, 'timing': 3775, '42': 650, 'm18x60': 5099, '12986': 3022, 'lmit': 527, 'a182f6a': 4020, 'alc3': 6060, '650': 2515, 'f12': 2250, '286': 7102, '1432': 6012, 'transparent': 1630, '50l': 1402, 'reducing': 3450, 'cf3': 1621, '180l': 2161, 'pfr107': 6769, 'x264': 6544, '3er6acme': 5886, 'btm': 951, 'relimate': 1010, 'z': 1350, 'od306xid282xthk': 5451, '6205': 2832, '150r': 3108, 'rotary': 762, 'dell': 3796, '35x35mm': 6174, 'aluminum': 388, 'conins': 6333, '54': 1920, '610': 1580, 'referance': 5732, 'a00001896': 5610, '535': 6121, '18a': 2914, 'tensiel': 7313, 'mono': 3606, '165mm': 3585, 'a276t420': 7517, 'license': 7063, 'kw': 2389, 'x20tpi': 1544, '523': 4767, '28': 198, '5sl62327rc': 6047, 'id350': 5374, 'yukane': 7659, 'd0': 7866, 'thk28': 3649, 'lqh43mn120k03l': 5863, 'a320': 953, 'constr': 4928, 'lightpink': 5864, 'stmicroelectronics': 4723, 'ballcock': 7648, 'a00001224': 3862, '800gtv': 2565, '6pcs': 7226, '4kg': 3871, 'id42': 2573, '107801': 4906, 'x8mm': 6625, '9010': 7503, 'm27': 725, 'kwality': 4663, '7906': 7148, 'v1000': 1523, 'attend': 4461, 'id290': 5361, 'x60': 2398, 'm12x1': 241, 'b32922': 4355, 'od280xid256xthk': 3296, 'meta': 3872, 'x14': 792, 't2n7002ak': 7580, 'wnmg': 2544, '23224': 1886, 'sg': 5614, 'is': 100, 'comet': 2870, '2x7': 7694, '240l': 7291, 'cpvc': 4867, '165r4': 4559, '224': 1218, 'revamped': 4587, 'fitting': 395, 't20': 1657, 'l90': 1169, '44dg': 4878, 'lc': 6318, '10': 30, 'm8x30': 2399, 'd230': 4007, '1700x790x800': 5396, '20g': 7316, 'angeling': 4193, 'yukem': 7675, 'pa400': 2740, 'sleeving': 1732, 'is1367': 952, '350': 1009, 'pnlcr205200': 5405, '16mhz': 5848, '458': 6262, 'latches': 5792, 'fork': 2555, '110l': 2673, '6061t6': 1846, 'od60': 2777, 'converters': 3385, 'sm1401013063': 6450, '7uf': 1505, 'm16x35': 5094, '2nd': 3575, '02': 1255, '205': 2952, 'max232': 5714, 'honeywell': 448, 'per': 780, '2kg': 3255, 'a00003718': 7520, 'm14': 1713, '35v': 1246, '2way': 2873, '330': 1063, 'cat': 3109, 'optocouplers': 5760, 'r7': 2528, 'metal': 465, '38dg': 4866, 'lpg': 5433, 'bs': 2418, 'sr7': 7216, 'r5v6': 3336, 'orifice': 1449, 'a479t410c3': 4026, 'x300': 2592, '02htg': 4734, 'm30': 1085, 's225': 2876, '7520t': 4602, 'bytes': 3398, 'rd': 3038, 'expanded': 1790, 'frc': 1370, 'od6': 2779, 'hardener': 6274, 'conn': 5331, 'sevice': 7698, 'nr': 2749, 'ties': 4313, '20su': 5787, 'welding': 347, '943x860': 3667, 'x16': 540, 'without': 836, '13638': 5110, 'unc1': 1403, 'od535': 5383, 'centring': 4960, '2319': 6492, 'mould': 1540, 'tni': 7048, '175l': 5066, 'isen320': 7066, '80x50x25': 4488, 'beading': 6068, 'btrfly': 7743, 'parabolic': 7823, 'a194gr7': 5143, 'axk3552': 2829, 'bat54gwj': 4745, 'tcmt': 5923, 'ce': 138, '807': 3114, 'fibreglass': 416, '7552p': 4596, 'id15': 6249, '1xi63': 7231, 'guards': 2686, 'r10081a': 5249, '152x91xt30': 6082, '2xi35': 3698, '13918': 7276, 'hb': 3036, 'grundfos': 3601, 'lower': 2237, '55mm': 7004, 'tl80': 3085, 'soldered': 3515, 'm70': 5164, 'tl245': 4819, 'od115': 2781, '4er5stacme': 5896, 'd27': 7784, 'cl3': 362, 'coml': 3487, 'bml': 7681, 'd160': 1049, 'le17h8ap': 6363, 'ffu130hax': 4546, 'weight': 2865, '20w': 2386, 'od40xid20': 5262, 'backlight': 2552, 'nfet8327b112': 7704, 'no': 38, 'lcd': 1587, '1812n': 7087, '3uf': 2923, 't316': 244, 'unirac': 6622, 'hiline': 3345, 'm27x3': 1400, 'od23': 2210, 'le18k1m': 6408, '404a': 3262, 'gaskets': 674, 'rope': 1290, 'sided': 2121, 'f19': 4002, 'wipro': 6745, '5x45': 4520, '132': 1091, 'buzzer': 1003, 'vli': 4854, 'color': 547, 'plug': 162, 'devlon': 1183, 'tc4x': 7208, '7120k': 4249, '82': 6226, '803': 1991, 'alloyed': 1948, 'od25': 1330, 'ø196xø110': 7775, 'inconl': 3653, 'ext': 1303, '150glv': 7816, '243': 6227, 'thread': 306, 'm19x1': 4790, 'soluble': 4659, '1cr20': 4935, 'humidity': 2314, 'left': 935, '60x70x11': 6994, 'breather': 2192, 'waterproof': 3506, '5': 7, '500d': 3890, 'delta': 7839, 'm1800': 3644, 'surface': 1017, '1050': 1396, 'sup11': 7899, '6300': 938, 'od50': 3227, 'ee13': 3128, '718': 2810, '76mm': 3310, 'uc18j19ps': 6405, '58333': 6480, '50hz': 757, 'sumitomo': 5948, '1850': 3354, 'l245': 3282, 'condensor': 1692, 'a24232': 4671, 'phillip': 3210, 'rawl': 6983, '014': 3489, '1600': 2505, '1270x2500x1': 3458, 'od175xid142xthk': 5296, 'pln': 5467, '330pf': 2929, 'with': 96, 'deepblue': 5868, 'tlbl00cpuayf002p0': 4880, '3k3': 6779, 'adpator': 3925, 'powered': 5715, 'ntc': 3628, 'shrink': 1731, '3tx4010': 4580, 'attendance': 4191, '85c': 2912, 'modification': 7453, 'ong': 5177, '3ply': 5348, 'surgical': 6962, '25': 76, 'bw': 210, 'extra': 3151, '880': 3094, 'cc1210kkx5r7bb476': 4396, 'rt6': 7110, '01uf': 4383, 'sun': 4085, '46l': 7303, 'auma': 4128, '16v': 1005, 'a193b7': 1275, 'm8': 340, 'universal': 2130, 'le18l12': 6421, '000012': 6696, 'bone': 6457, '9700': 5650, '1743': 4067, 'spmt11t308': 5921, '21swg': 3572, '4kw': 3837, 'gen': 5310, '932': 5187, 'anti': 1046, '8k06': 6873, '10hp': 2105, '5500': 7895, 'bothe': 7311, 'k12': 3779, '2800': 5475, '20x2': 4631, 'sot': 1159, 'akzonobel': 2119, '30x32': 6177, 'scop': 3906, 'read': 4963, 'communication': 4894, 'atomberg': 6159, 'seperator': 4620, 'for': 68, 'm6x150': 4836, '612': 2771, 'p11': 2596, '2500spl': 1859, 'hindges': 4121, 'id103': 7130, 'spacers': 5293, 'id159x': 7196, '1200w': 4095, '323630': 4279, 'epdm': 1708, 'spd': 1594, 'soic28': 5810, 'tmov25sp175m': 6331, 'id101': 5500, '18b3sk': 6376, 'reducer': 377, '95x24': 2568, 'm27x140': 5121, 'c2': 330, '350ma': 4337, 'hcpl3180': 5716, 'icon': 2651, '127': 2066, 'box': 141, 'valve': 61, 'goggles': 6973, 'side': 286, 'dw': 2751, 'xomt130406': 5937, 'explosion': 7402, 'fl53': 4828, '250v': 1500, 'tp': 1974, 'ip55': 3436, '15': 132, 'conformal': 7497, '3059': 3573, 'airpack': 6642, 'l38': 1765, 'le17l2ap': 6395, 'sla': 1703, '0': 23, 'buck': 1348, 'x16g': 2948, '70ltr': 7417, 'psig': 3293, 'pic32mx795f512h': 6135, 'aed': 2114, '0af0': 4581, 'shake': 7392, '303430': 4284, 'ken210': 4248, '5000mm': 3353, 'm6x15': 3152, '695': 3973, '10v': 2275, '57cm': 5327, 'washer': 63, '310x310x275mm': 4618, 'reinforced': 1157, 'nanowatt': 3405, 'g42': 3319, '00mm': 1712, 'lug': 417, 'rc1206fr': 2640, 'dpdt': 2373, 'ggc': 615, 'midnight': 3072, 'lcc': 2277, 'bss138': 6143, 'protection': 2110, '45mm': 1271, 'a00000127': 6917, 'misc': 1355, 'rg': 2987, '470': 1784, 'pvc': 167, '270mmx170mmx185mm': 4621, 'counting': 4055, 'ldpe': 2940, 'tolerance': 7578, 'a00000133': 3030, 'a1008': 3582, 'multiturn': 5540, 'm16x2p': 383, 'proof': 1114, 'l85': 877, 'organic': 6709, 'd25': 633, '3060': 1828, '8g': 503, 'bwø356x280': 7746, '1ksmb82a': 4742, 'hvd': 4152, '5578': 4107, 'ansi': 2415, 'od465': 6105, 'sm1401013050': 6451, 't410': 259, '630v': 1504, '95mm': 3924, 'sink': 1096, 'dia38mm': 7760, '252820': 4268, 'a00001111': 7799, '680': 2329, '470uf': 2265, 'castrol': 5703, 's20q': 4209, 'trey': 1987, 'run': 2682, '5tx1250wx5000l': 6629, 'fibre': 2483, '2815': 7882, 'ldo': 1802, '1000v': 2340, '615': 2761, '071k5l': 6877, '100nm': 7912, 'chamber': 2226, 'a35155': 7822, 'od415': 3275, 'sr4': 7213, '2ab1p7': 4947, 'exp': 2690, 'pmdd': 3115, 'weld': 1848, 'omited': 3391, 'x4rows': 4557, '100mm': 714, 'amj': 2475, 'hydr': 7318, 'threaded': 594, 'p73': 3535, '3ug4616': 4934, '250l': 7294, '5mt': 7025, 'uim': 3068, 'ppi': 940, 'le18j19ap': 6407, 'rev12': 3025, 'helmet': 3656, 'd90': 631, 'stellite': 1498, 'spl': 1235, '3ir1': 5889, 'v15s05': 7363, 'le17k25euv': 6358, 'd170': 4061, 'tvs': 946, 'a00005393': 5176, 'flashback': 2716, 'nrb': 5503, '081008': 4278, 'carbo': 6707, '185': 1366, 'graph': 2219, '420': 687, 'fkm': 3497, 'mf': 4967, 'isl81487ibz': 5800, 'vj0402a120fxqcw1bc': 4432, '24': 143, 'impeller': 3147, 'w20': 6095, 'speed': 1376, 'lantern': 752, 'l55': 1025, 't65': 5387, 'x63': 6486, 'a00000936': 5130, 'znwh': 1283, '180k': 6891, 'drv10983': 5735, '1993': 123, 'a00001156': 3180, 'ntcc015p00': 7033, '2i1': 5874, 'm15x1': 5149, 'demister': 1257, 'rk73h2attd9760f': 6815, 'selec': 6688, 'neoprene': 2051, 'machenical': 5118, '48': 565, 'lauric': 3882, 'jsav150': 5020, '600bw': 7800, 'int': 5890, '24017a': 7105, 'weldy': 3843, 'taparia': 841, 'dp': 1407, 'atmega': 3379, 'tze': 3759, '072k2l': 6854, 'su': 1824, 'unit': 905, '8u': 6032, '3er3': 5885, '16tpi': 5142, '8xid22': 7252, '250vac': 1928, 'branching': 7606, 'hsl3': 4921, '0w': 4763, '90': 334, '16a': 1167, 'fail': 973, 'x8un': 1175, 'bfly': 1921, 'nitrile': 1258, 'l60': 702, 'geared': 3009, 'tc9': 1198, 'id90': 3674, 'a00000156': 5437, 'sq368': 7222, '8x7': 3240, '078k06l': 6874, '8k': 1583, 'bullnose': 6264, 'vbmt': 5930, 'plated': 1365, 'a106gr': 3538, '196mm': 6338, 'accuracy': 3768, 'shaded': 6157, '20w40': 5005, 'le18h16dg2': 6394, 'ir': 1805, 'only': 4465, 'rets': 3014, 'axk': 2828, 'assly': 2251, '16x90x14': 7158, 'dnlf3a2': 7345, '898': 5235, 'galvanising': 6273, '1500spl': 7814, 'tube': 155, '214': 3486, '007': 2313, 'm7': 3170, 'towable': 6981, 'lubricator': 5580, 'ae0': 3578, 'back': 639, 'id22': 2040, '310': 779, '5hp': 638, 'uwt1h221mnl1gs': 4439, '50volts': 1140, 's960': 3032, 'choke': 4500, 'washing': 1861, 'a00004377': 7124, 'c1206c180j5gactu': 4407, 't416': 983, 'currnent': 3401, 'm20': 223, 's320': 1629, 'tor': 6723, 'bc32': 3483, 'connectivity': 6884, 'l48': 3692, 'npt': 101, 'measuring': 1812, 'mount': 4746, 'polyurethane': 2579, 'zero': 4590, 'thk20': 5369, 'ckv': 597, 'ring': 21, '17x': 3300, 'carbon': 213, 'smtx2': 7617, 'tc5080': 5631, 'x2200': 5689, 'mcp1541': 5730, 'forged': 163, 'sma': 4707, '7443631500': 5847, 'both': 850, 'opg': 7890, 'precision': 5764, 'fl164': 7139, '825nace': 2795, 'disc': 370, 'ethyl': 3867, '62': 851, 'mlc': 2270, '742c163222jp': 6867, 'jl1040': 1353, 'm8x30l': 5204, 'kronos': 7530, '1700568008124': 7050, '150no': 6288, '400gm': 7640, 'sicop': 4915, '7t': 6680, 'od219': 6466, '215x185x125': 7794, 'sony': 4088, 'tubular': 2229, 'x20mm': 5198, 't0': 5747, 'assebled': 3806, 'parts': 870, 'pic18f27k40': 3407, 'mnf': 6673, 'right': 978, '0uf': 4427, 't36': 6129, 'dmg310': 4147, '5uh': 5855, 'a00005206': 3918, 'testo': 3795, 'isl83490ibz': 5754, 'st6': 4050, 'pv2': 6343, 'junction': 3434, 'assy': 6746, '200x20x31': 2500, 'shavo': 432, 'acp': 6073, 't304': 363, 'goggle': 2140, 'single': 298, 'center': 1386, 'a00004561': 7926, '39': 1162, 'milling': 2327, 'texas': 1800, 'layer': 1439, 'fl200': 2153, 'and': 356, '90119': 7465, 's10k': 4203, '65w': 3404, 'cr': 2286, '0250': 6216, 'le15j14wl': 6383, '24v': 514, 'sutiable': 4900, 'lm35': 4975, 'l210': 4624, 'instead': 7459, '170mm': 4014, 'soic16': 7030, 'keys': 2009, 'd351': 6925, 'cc0603jrnpo8bn220': 4400, 'ra250': 3355, 'aa4825': 4939, 'jet': 6671, '1320mm': 4325, 'screwed': 3133, 'od33': 7249, 'frp': 2746, '20tx1250wx6000l': 4200, 'shilded': 4888, '234mm': 5626, 'fl420': 3687, 'ms': 41, '630vdc': 4359, '911': 5504, 'flare': 590, 'sealed': 3305, '0040': 4632, 'ck45': 2645, 'id62': 1781, 'nr4': 5911, '2r': 2632, '121420': 2891, 'fix': 3516, 'd68': 2887, '13unc': 2020, 'fl461': 7137, 's700': 1324, '5sl43327rc': 6052, 'jumper': 1997, '512': 1637, 'bhn280': 2217, 'calble': 7490, '8w': 1302, '1100004': 7371, '683': 5661, '3ton': 4172, 'labyrinth': 1106, 'tar': 4237, 'solder': 441, 'id455': 6465, 'm21c': 6028, 'bbr': 2461, 'vrrm': 3050, 'cfr': 6887, 'ismc': 1942, 'burett': 4244, 'sod123': 1971, 'wheels': 5533, 'grinder': 930, 'd35': 879, 'd110': 924, 'trolley': 4667, '7581': 4601, '6h': 2165, 'dropout': 1581, 'isolation': 3393, 'x57': 5628, 'elektronik': 4706, 'l117': 2407, 'ro': 2291, '12w': 7081, 'tower': 3157, 'ferrule': 2728, 'r507': 7662, '1750': 2960, '510': 1226, 'coupling': 469, 'mechanics': 4443, 'nickel': 7710, '6x4feet': 5349, 'al': 1052, 'hcc': 4968, 'cft': 1567, 'od27': 2206, 'blowdown': 7735, 'platsic': 4460, '1mtr': 1818, 'od265': 5375, 'o38': 3651, 'x9bsw': 5067, 'x18unc': 5154, 'schedule': 545, 'vito': 6242, '20x20x175': 4215, '25l': 1562, 'wd40': 7168, 's2': 1322, 'dia40': 5688, '9x13x425': 7156, 'quality': 205, '073k3l': 3639, '160sch': 3106, '2380': 7892, 'dgs3': 5938, '25inch': 5635, 'nut': 27, 'tubelight': 7068, 'c62300': 686, 'd': 147, '49': 1431, '1805146232': 4517, 'cw': 1195, '120': 485, 'roma': 2378, 'kd': 3786, '2320': 6494, '1001917': 5328, 'fl380': 7151, 't12': 962, '63x31x2': 5261, '2317': 6487, 'f321': 4053, 'a217wc6': 3346, '005': 3658, '1w': 786, 'v8': 6385, 'gnx': 5960, '6x6x40': 5966, '145dg': 4876, 'sbr20a200ct': 4756, 'spike': 5024, 'x40sch': 1597, '730': 5574, 'le17b21voct': 6412, 'lbs': 3817, '616': 2752, '14x14': 5313, 'w04st': 4995, 'out1': 4936, 's31254': 4033, '3w': 1718, 'equ': 7707, '620mm': 7905, 'parting': 1190, 'lm2576wu': 5746, '169': 3519, 'chk': 1945, 'tc14': 7128, '225': 1631, 'led': 513, 'profile': 253, '0603': 261, '36x23x6': 7233, 'felt': 656, 'stationery': 3473, 'd18': 1334, 'l325': 7309, 'w': 172, 'etp': 7475, 'ytdi380': 7758, 'id176': 7165, 'b35560': 4270, 'fsl': 7759, 'arrow3rd': 6590, 'x12bsw': 5071, '004bg': 6697, 'id200x': 7202, '3l': 7663, 'janatics': 3942, 'fixture': 7764, 'sfm': 5027, 'od54': 4003, 'a00005380': 5175, 'le17e23wctft': 6418, 'true': 4503, '3phase': 6145, 'panasonic': 1141, 'premium': 1664, '60x45x1': 7193, 'glass': 320, 'buildings': 6718, 'pilot': 797, '694': 1358, 's25': 3078, 'sattion': 4286, 'commen': 5413, 'resistant': 2058, 'cm²': 3899, 'od152xid132xt3': 5442, 'b220': 4529, '11513': 4588, 'laadi': 6311, 'len': 293, '07120rl': 2639, 'sa194': 3186, 'd275': 4036, 'liters': 7639, 'built': 4092, '43': 1482, 'smart': 2244, '9e19': 6369, 'pa500dou': 5338, 'ell': 7714, 'temp': 1517, 'number': 944, '640mm': 3858, 'id144': 7122, 'manual': 2077, 'flow': 659, 'x82': 6488, '530mm': 5112, 'cylinder': 242, 'parking': 7035, 'm8x12': 3217, 't': 195, 'hexagon': 1759, 'od12': 2220, 'sa193': 5083, '52': 989, 'washr': 5306, 'bt': 1034, 'bellev': 3234, 'blm': 2492, 'evr': 2697, '1660mm': 4329, 'x139': 6503, 'palm': 3883, 'sgn16s': 7042, 'slotted': 5216, 'scv': 159, 'plte': 3028, '236': 3494, 'l130': 3719, '600v': 1994, 'ra150': 2508, 'pole': 499, 'dia3x100flx6shx150': 4824, 'axk5578': 4118, 'shut': 2689, 'with¼': 3963, 'floating': 868, 'doorset': 6005, '1998': 580, 't35': 5389, '600ml': 4477, 'i': 80, 'br1010': 5818, '1728': 7450, 'max': 1248, '10amp': 5841, 'hf33f': 4919, 'ent': 7083, '3el': 7541, 'duro': 6987, 'solcut': 4662, 'resistors': 492, 'pmsm': 6747, '310vac': 4358, 'x98': 6511, 'process': 4924, 'connect': 3113, '03': 424, 'x172': 3560, 'wd30': 1845, 'm4p': 1811, 'm16x60': 5096, 'f10': 1453, 'item': 2644, 'loctite': 2190, '12pf': 2930, 'bearing': 112, 'fs': 733, '16w': 4522, '125mm': 1077, '16g': 1356, 'centre': 2512, '170x100xt30': 6083, 'm3x12': 5211, '1121': 7880, 'le18h30dg2m': 6399, '32006': 4154, '590': 5572, '073': 7333, '103od': 4506, 'compound': 2502, '8ma': 3198, 'norgren': 3950, 'ffu160hax': 4547, 'use': 5311, '570x450x350mm': 4609, 'od252x': 5447, '125vdc': 7385, '3552': 4110, 'molex': 1369, '4co': 3124, 'transistor': 1618, '210lt': 3101, '160p4s': 7753, 'htd': 7524, 'renesas': 5833, 'a312t316l': 6463, 'as51': 5623, 'phiraja': 6295, 'a00003471': 5202, 'pfr306': 6778, '1000vdc': 7320, 'citric': 3878, 'flex': 1728, 'infrared': 4240, '47nf': 4408, 'rtj': 2004, 'dxp': 3745, 'm12x55': 3175, '2½': 7793, 'x108': 6514, '304l': 6449, 'bhn': 4025, '4t': 2738, 'verdex': 5918, 'm6x50': 3155, 'emery': 2582, '3092': 2202, 'lszd0103a121': 6748, 'heatetr': 4527, 'fluron': 5350, '15mm': 529, 'bandsaw': 1219, 'mm74hc164m': 5812, '216': 329, 'mosfet': 2102, 'l37': 7192, '45101': 4245, 'regulators': 2524, 'od372xid348xthk4': 5453, 'a00004991': 7948, '25sq': 4896, 'black': 156, 'le18l12dg2': 6416, 'vp3': 5908, 'spacer': 861, '114201': 4983, '08080': 7495, '011': 3492, '12x12x150': 4216, '250m': 7449, 'd8x32': 6437, '071ml': 6823, 'molded': 4352, 'saw': 853, '430': 3361, 'dry': 1107, 'wt20': 3127, 'shoulder': 5209, 'common': 4736, '06': 560, 'allu': 5180, '140l': 1547, '2500r5': 4560, 'dipx2': 7616, 'boring': 782, 'adjusting': 3016, 'a00004766': 7939, '85r': 3023, 'id248': 5514, '283230': 4293, 'x171': 6540, 'sa216wcc': 3831, '11unc': 1272, '70sq': 6024, 'a00003880': 4251, '1xi57': 3708, '25mtr': 5347, 'o67': 3704, '017': 3015, 'ci': 2816, 'spmt050204': 5920, '2k7': 6781, '4700': 5686, 'm4x20': 3205, 'contact': 1695, 'atof': 5424, 'od235xid219xthk': 5487, 'cp2102': 7627, 'ø28': 5001, 'm14xl90': 5072, '1xi19': 2668, 'l110': 1022, '38': 344, '7415': 7836, 'ancher': 5119, 'ned': 2821, 'analog': 734, 'ghir': 7548, '450nb': 5336, 'soldering': 1608, '8m': 729, '134a': 6761, 'x32': 7598, 'astma105n': 7782, 'at15': 7357, 'a3': 3080, 'wd32': 7135, 'bwø662xø570': 7778, '980mm': 4326, '675': 2485, 'fe': 5743, 'tpi': 1468, 'hsstapershank': 4817, '5l': 2344, 'indication': 2260, '30': 135, 'bbv': 3830, 'setting': 6672, 'shift': 3403, 'o44': 7243, '2y': 2971, 'abro': 2681, 'y': 3818, 'y2': 7923, '1pole': 6046, 'navjot': 6144, 'pw': 6365, '340x140x12': 6107, 'od69': 5288, '48x48': 4305, '22ft': 4041, '5000': 2128, '114101': 4985, 'b5': 7730, '2016': 1413, 'tlv': 287, '1650mm': 5690, '04m0npo': 3904, 'sq412xthk52mm': 7221, '389': 3308, '92x25mm': 5021, 'a0000541': 5301, 'piller': 4688, 'facemill': 3776, '150mm': 1903, 'a00004396': 6205, '102ex': 4777, 'a00000512': 7521, '75x300': 6445, 'r2': 4727, '11bsp': 6670, 'ler308': 3254, 'ernicrmo3': 3251, 'gse': 6165, 'co2': 2292, '07310': 4882, 'rder73a104k5b1h03b': 4379, 'lenght': 5622, '54mm': 749, 'dft': 6711, 'x80sch': 1598, 'starcke': 6298, 'en45a': 3855, 'bwø138xø92': 2704, 'a00000137': 7745, '3068': 6320, 'sn74hc595n': 5725, 'tpgx': 3427, 'atex': 4307, '893': 7499, 'afg': 4627, '8x6': 5314, '120e': 6869, 'rsi': 6015, 'seg': 3020, 'kcj444hag': 4528, 'tension': 1409, 'esab': 3126, 'banded': 4183, 'x160': 6506, 'km55dr35': 7157, '7xt3': 2666, 'ml': 1430, 'instant': 3931, 'remote': 3614, '140': 581, 'ss440': 4070, '40x10': 6640, 'rxm': 4946, 'x2': 1496, 'v6': 1595, 'welten': 6659, 'reflex': 1601, 'pbf': 3292, '6001': 2844, 'desolder': 3021, 'kvn': 2886, 'a234': 5004, '1325': 7003, '05254': 5763, 'hose': 154, 'x68': 3546, 'auxiliary': 4576, 'cream': 2360, '72l': 3727, 'km40dr20': 7152, 'x11unc': 908, '0310100': 5345, '280': 408, 'esd': 2387, 'autogrip': 5683, '83333': 6473, 'd410': 6615, 'mounting': 464, 'uc22exv18h1d': 6391, 'raw': 859, 'gepi': 5916, 'pn320': 3320, 'a00000671': 3910, '160l': 7280, '150l': 2014, '8p': 1026, 'electrode': 1269, 'diethylene': 4694, 'g40': 6750, '26011': 6201, 'mur': 4749, 'detail': 1420, 'changeover': 4933, 'rectangle': 1471, 'rectifiers': 1972, 'propylene': 4674, 'acc': 864, '55d': 7097, 'arrow': 2613, 'a35154': 7820, '5sq': 753, '00e': 5942, 'tk2q60d': 7575, '18mlcc': 4406, '200x170x30': 6641, 'ø13': 4812, 'cooling': 1738, 'capacitors': 586, 'a00003956': 5680, 'uncx110l': 7273, 'd125': 2784, 'c1206c101j5gactu': 4353, '300spl': 7945, 'b150': 718, 'thane': 3505, 'averege': 2622, '3386p': 5219, '8x5': 6762, 'wd6xid42': 7146, '3140': 2770, 'multitec': 4642, 'wearing': 7452, 'ø8': 2355, '56ma': 4335, 'ah': 2822, 'pm': 5576, 'card': 1939, '2uf': 4388, '460': 2047, '1ft': 6951, '18101634': 7719, 'a00000209': 4687, '524': 1464, 'charges': 4492, 'bimetal': 3117, 'xomt': 4844, 'tl100': 3087, 'room': 3070, '70380e': 7094, '05mm': 3309, 'champion': 2166, '380': 1719, '2ml': 3791, '3156': 6535, '652sd': 7850, 'with340x180x160': 6034, '95': 629, 'od460': 5392, '51l': 7307, 'approximate': 2864, 'b9': 3245, '316l': 466, 'batteries': 4077, 'm16x20': 5093, 's11': 7383, 'hx': 2975, 'km40': 1367, '67kg': 7929, 'gr2hm': 5146, '70u': 6351, 'sofns': 1606, 'flexible': 289, 'dwg004102': 3917, '07470rl': 6853, 'x95': 6510, 'mico': 5602, 'air': 267, 'burette': 2872, 'unigy': 3949, 'bowl': 3945, '22x16': 6581, 'dia17': 4803, '5ir': 5900, 'verti': 7566, 'mica': 1585, 'l8': 5227, 'msp430g2303': 5733, 'bas16': 4709, 'gate': 1094, 'bush': 168, 'd52': 2215, 'carbozinc': 7501, '18m1wx': 6420, 'vr25': 7186, 'x195': 3558, 'brazing': 2252, '24x13xt5': 6928, '5216': 3864, 'ral': 1436, 'hidromas': 6736, '4el': 3784, '004': 6977, '155': 2100, 'umk316ab7475ml': 4412, '274': 3975, '0601': 5039, '39218': 7120, 'refrigeration': 1555, '61900': 4162, 'plansee': 4972, 'bfl': 824, 'supply': 1206, 'tottem': 7424, 'termnial': 5195, 'pop': 847, '226': 3179, '383': 6224, '9254': 7218, 'm2': 1279, 'serial': 2090, 'tn60': 5950, 'fl30tl80': 4815, 'a00000174': 4103, '1m': 1011, '33099pa': 6593, 'evaporating': 1395, 'sw': 498, '300gtv': 3318, '202320': 2874, 'dia': 16, 'fl167': 7138, 'nc': 1625, 'schinder': 1697, 'odfxodf': 7037, 'bell': 1662, '3tf35': 4582, 'stunl': 4210, 'mag': 634, '90s': 6153, '239': 6241, '22k': 6832, 'erw': 6554, '202330': 4264, 'xy2500': 2001, '570mm': 5326, '03mm': 1771, 'sve': 7689, '30mmx40mm': 7074, 'od12mm': 2207, 'a194': 113, 'special': 1831, 'ep1': 5582, '19bsp': 6668, '72uf': 4430, 'gearbox': 2593, 'stl': 5269, '18pf': 2931, '3ff': 4940, '107': 1181, '625': 1872, 'a00004320': 3912, 'ee20': 6030, 'd63': 684, '75sq': 4886, '12': 42, 'tig': 504, 'x97': 6496, '2pin': 1955, 'ltrs': 3285, 'bevel': 1287, 'cubic': 4629, '123mm': 6196, 'duty': 1627, '400a': 2954, 'cim': 7650, '10g': 894, 'platinum': 4862, 'gv': 1541, 'x170': 3570, 'tee': 449, 'dinrail': 7584, '51': 1266, 'pn40fl': 7773, 'a00002120': 5664, 'teflon': 494, 'bzx79': 4711, 'val': 5998, 'charging': 3809, 'above': 2516, 'receptable': 838, 'a00005224': 3909, 'm14x4': 7422, 'term': 5233, '2512': 6805, 'od85xid66xthk': 5285, '278x47': 6926, 'casting': 48, 'id315': 3279, '100x100x450': 7486, '40x25': 7478, '1sq': 1675, '2300': 5691, '621': 3760, 'microscope': 3331, '2225': 7876, 'watt': 1310, '314': 2750, '1510x3000x1': 6108, '12200c': 4680, 'od145': 4164, 'carboguard': 7498, 'count': 4623, '4p': 2557, 'temprature': 7026, '7524': 2316, '64dg': 4879, 'drawing': 2317, 'vishay': 933, '006401': 4501, 'a387': 1902, 'pine': 2247, 'acpl': 5727, 'd71': 981, 'fl360': 3676, '12l': 2421, 'od280': 5358, 'tny': 5807, '09': 1329, 'each': 3435, 'sp': 39, 'fibres': 5497, 'y3f': 3119, 'closed': 5695, '440': 3329, '8x7x40': 5980, '0012': 7540, 'm45x4': 7289, '6thk': 2827, '1k': 1088, 'supergen': 5006, '80thk': 6655, 'zcmt10t304sp': 4849, '41x24x4': 4554, 'service': 711, 'd120': 876, 'od410': 3268, 'ss316lnm': 4028, 'x147': 6505, '33pf': 2926, 'od164xid146xthk': 5445, 'od32': 1470, 'dual': 1055, 'pt': 2101, 'incorporated': 1970, 'm3': 553, 'sanhua': 1227, 'gr304': 5266, '125vac': 1446, 'gap': 7572, 'smd1210': 2268, '30206': 4142, 'pre': 2743, '07t208': 4841, 'a24': 3335, 'castiron': 5615, 'spool': 3844, 'v1': 488, 'epx': 3938, '104c': 7330, 'bender': 1599, 'kma31125': 7219, 'm60': 6916, 'grease': 852, 'below': 3766, 'paint': 369, 'hydrolic': 7674, 'inverted': 6900, 'tubings': 3891, 'fr107': 4710, '89x74': 6582, 'm08': 5272, '2332': 6504, '270x38x23mm': 4614, 'dn100': 1672, '300v': 4093, 'm8x20': 5087, 'od40': 1469, 'ctl': 7916, 'vm7': 573, '90l': 1457, '8mm': 187, 'wrench': 1204, '82cc': 6737, '21a': 5845, 'reset': 3739, 'usb': 1150, '10k': 848, 'x45': 6481, 'wt': 1454, '25xid': 7188, 'atomfan4': 7557, 'a35156': 7819, '13': 221, 'id70': 1231, 'x10bsw': 1749, '3212': 4124, '1100051': 3746, 'domestic': 1349, '600vac': 6651, 'size': 35, 'sheets': 756, 'gr1150m': 4057, 'a00004379': 7127, 'cal': 4531, 'pcs': 7712, 'm18': 920, 'd130': 746, 'id112': 3297, '10pf': 2922, 'gray': 3593, 'l115': 1546, '1105': 3852, 'd16': 1224, 'a00000050': 6920, 'chamunda': 2350, '593d105x9025a2te3': 2921, 'expansion': 526, 'd240': 4043, 'ral9003': 4230, 'piezo': 4302, 'tape': 204, 'lightbrown': 5870, 'bend': 1187, 'rocker': 2679, 'hse2nl2': 6595, 'armstrong': 5625, 's08k': 2860, 'partitiation': 4796, '400': 430, 'fl60': 3086, 'hardware': 125, 'muf': 2878, 'nitrate': 6963, '16id': 6209, 'sk88l': 4761, 'brackets': 2287, '4el5tr': 5893, '410x210x15t': 6111, '313': 1884, 'maruti': 4793, '3rd': 2486, '6204': 2831, '9000': 7883, 'sales': 6268, '40840': 5985, 'effect': 7029, 'triangular': 1924, '240vac': 7053, 'x380': 3568, '2000mm': 2080, '071k2l': 3637, 'aisi304': 2474, 'fl275': 7132, '27421034900': 4628, 'lugs': 426, 'id365': 5394, 'coach': 5025, 'x119': 6567, 'pice': 2198, 'id225': 5391, 'cc0603krx7r8bb103': 4391, '30l': 906, 'sae9254': 271, 'hmi': 2078, '088': 6908, 'cured': 6270, '3134': 2200, 'erse': 3816, 'p22': 2595, 'nptf': 871, 'b34845': 4275, 'dn65': 2642, '2743103400': 5535, 'plane': 5251, '100mw': 6893, '3063': 2042, 'nozzel': 7855, '8333': 2605, 'graphite': 117, '2307': 6472, '307': 2433, '650m': 7440, 'magnet': 1434, 'chamdrill': 2549, 'rc0603fr': 463, 'electronic': 2261, '100x': 4314, '5iso': 3422, '10ma': 4333, '162': 5724, 'supporting': 7085, 'f304l': 452, '040': 3491, 'counterwt': 1375, 'helical': 1030, '2uh': 3415, 'tvr20621ksu00y': 6798, 'solenoid': 445, 'wd14': 2148, '2200uf': 2924, '9k': 6784, '145': 1554, 'deepfreezer': 5395, 'ribbon': 4893, 'chq': 2947, 'spcv': 3805, '32mh': 4986, 'purpose': 1131, 'autoseal': 6937, 'roll': 715, 'holesaw': 2324, '513xid477xthk': 5457, 'oc': 2302, 'allison': 5706, '326': 5516, 'e250': 451, 'chemo': 4966, 'female': 312, 'micro': 1325, 'od175': 5381, '8xt2': 7253, 'mst': 507, '071kp': 6826, 'l43': 3721, 'a00000005': 6918, '6212': 2842, 'overhead': 3011, 'hicool': 1742, '534': 2754, 'conical': 3328, 'bio': 4189, '7r': 4870, 'pclnr3232m19': 7547, 'ggv': 248, 'swarajya': 7651, '65l': 1552, '04mm': 3230, 'goodyear': 5638, 'fl150': 3682, 'emet': 6294, '8x': 6119, '270l': 5673, '10sqmm': 1714, '98e': 4499, '1340': 4179, 'od329xid305xthk': 5452, '410c3': 1901, 'floride': 7602, '1pa': 7629, 'a00000412': 5607, '1600w': 7859, 'favelle': 1741, 'connectror': 7909, 'extingusher': 5329, 'x259': 3566, 'deep': 992, 'wd17': 7200, 'a00005455': 7408, 'd150': 1476, 'epo': 3595, 'soft': 1323, '1508': 7214, 'din': 667, 'am10': 5520, 'goods': 4182, 'crn10': 6751, 'stm32f030k6t6': 5796, '48x38': 6578, '185x100': 5491, '8tx1250wx5000l': 2857, 'splince': 6740, '70l': 2425, 'fl56': 4821, '09t308r': 5904, 'ø662xø587': 7776, 'teknik': 7326, 'qulita': 4086, 'condenser': 939, '530x460x330': 4612, '00950d070103820': 2615, 'stearate': 3965, 'diaphragm': 500, '35w': 3669, '295': 5705, 'km15': 5165, 'tag': 1066, 'a00000044': 7771, 'level': 1435, 'x180': 2604, '121410': 2892, 'hardness': 2815, '15hp': 3472, '19t': 3588, 'a00004767': 7941, 'id115': 7164, '102c': 7346, '40x1': 2978, '5x5x16': 5979, 'registers': 5814, 'cts': 2364, 'x62': 6483, 'sed4120f': 4651, '182040': 4291, '3ir2': 5891, '074k7l': 6834, 'b420h': 4551, 'jackly': 5236, 'b': 107, 'allegro': 3376, '12uh': 3416, 'anand': 2034, 'eeu': 2927, 'tempreature': 1516, 'probe': 3301, 'rod940mm40p36': 6603, '0805': 186, 'gptec': 5550, 'xylene': 6283, 'bgo3': 7657, '660': 2794, 'barricading': 7448, 'od387xid357xthk': 5454, 'hsv': 7638, '7447231101': 5850, 'a304': 2155, 'c33': 4753, 'exfoliate': 3306, 'b2': 1999, 'nameplate': 2104, 'raval': 6984, 'dia14': 4816, 'external': 1098, 'product': 3802, 'od9': 2211, '296': 2959, 'shank': 1347, 'finished': 5954, 'a00004590': 5681, 'le17f5wc': 3520, 'collar': 1688, '2401': 3733, 'printer': 6315, 'brg': 1328, 'jss': 5645, 'national': 3375, 'tfd': 1690, 'suraj': 7324, '1st': 2067, 'cly': 7142, 'hn': 7315, 'elettro': 5019, 'fc': 1153, '126sgv': 6941, 'hs': 2493, 'silicon': 222, '6pin': 4459, 'glue': 1459, 'ss410': 922, 'motors': 6148, 'finger': 1239, 'ø138xø60': 7749, 'deepgrey': 5872, 'd8': 2216, 'elitol': 3365, 'heavyduty': 4090, 'od387xid363xthk': 5455, '30279392': 7715, 'sli': 5519, 'volume': 1612, 'voltage': 518, 'a216wcb': 1299, 'p6ke20ca': 4730, 'pahse': 7844, '2553elf': 6802, '5833': 2606, 'sc3': 2678, 'dn200': 2885, '991': 6300, '462': 6240, 'neu6214z': 4538, 'od43': 4054, 'b35561': 4285, 'grill': 1397, 'sealiing': 2768, 'bodies': 4469, '5x5x25': 5976, 'galvosil': 7510, 'wires2': 4319, 'od38xid29xthk': 3294, 'zcmt150406sp': 4851, 'evr6': 7635, 'inches': 490, 'kg': 404, 'putty': 6279, '1e': 6791, '4e': 1270, 'ms116': 7624, '2276mm': 7609, '550': 1709, 'damper': 6661, 'a2': 5035, 'a00003981': 4253, '14644': 4776, '1082': 6729, '64x36x21mm': 4227, 'hydro': 6923, '6x70': 5085, 'belt': 468, '2k2': 2629, 'ecotron': 372, 'jsx': 2985, 'cassing': 6322, 'a00003985': 5305, 's16r': 4206, '6xi48': 3705, 'do': 1158, 'cac51a': 6653, 'simag': 476, '8unc': 5240, 'bitt': 1979, 'c34740': 6898, 'rt0603fre0740k2l': 6882, 'ccmt': 3419, 'rs': 699, 'woven': 929, 't72': 5356, '032l1212': 7637, 'wd16': 2149, 'din6797j': 3224, 'women': 2646, '5k1': 6878, '105mm': 2648, '950': 4320, 'vout': 5822, 'yellow': 381, '20x22mm': 7096, '191': 6558, '180gsm': 1698, '1665': 5685, 'microcontroller': 2089, 's1920': 2335, 'ar': 2331, 'id173': 7136, 'p08j682v': 6897, '1ksmb110a': 4741, 'x1': 891, '110x30x30': 6077, '2kvolts': 4346, '83': 1542, 'cast': 15, '60w': 4242, 'm700': 4677, 'aisi': 390, 'c211': 4646, 'd145': 4030, 'id85': 4140, '100x750mm': 6956, 'feet': 660, '104168': 7055, '4el5acme': 5892, '30x30': 4010, 'od58': 4060, 'l45': 672, '3152': 3563, '2kv': 2269, '17x16x96mm': 4226, 'lightgreen': 5865, '3001': 5561, '12a': 4949, 'torque': 1572, 'louver': 6006, 'm3x0': 5224, '4er': 3783, '68ma': 4341, '5x4mm': 7082, 'dml': 3074, 'cheq': 4495, 'off': 600, 'mech': 7000, 'am2305': 7011, 'standard': 917, 'dia16mm': 4207, 'a00000674': 3921, 'km8': 5159, '12tx1250wx6000l': 6632, '22thk': 5173, 'id260': 7210, 'union': 1982, '351': 7744, 'fcu': 5045, 'ø32': 7786, '20k': 6794, '521l': 3915, 'cc0603jrnpo8bn180': 4429, 't70': 5376, 'electric': 869, '190616': 5910, 'camera': 2362, 'zyp': 3182, '16x10x50': 5973, 'tft': 6360, 'start': 7387, 'cc0603jpnpo9bn330': 4399, '5tr': 5046, 'gt': 1249, 'd80': 878, 'tmbv': 2385, 'transmitter': 1104, 'microsd': 2939, '430xid421xthk4': 5499, 'tlp291': 5779, 'wash': 1288, 'steela36': 2866, 'bly': 523, 'elmeco': 7359, 're': 1947, 'yes': 3822, 'm36': 1263, '8x25': 3174, '912': 5189, 'ibr': 49, '1440rpm': 1102, '600scv': 7792, 'wax': 3509, '80nb': 913, 'ncn4': 7722, 'bm57': 5010, '0hcgnmb': 7587, '30x25': 6167, '3000gtv': 5468, '1117c': 7845, 'o11xi5xt1': 5268, 'low': 892, 'antfrctn': 6932, 'infineon': 3469, '70um': 6398, 'en19': 814, '8x32': 6436, '3rf2': 4927, '250mm': 2901, '196': 2585, 'sqmm': 642, 'gte6': 7024, 'vr': 4738, 'floor': 1317, 'l91': 3720, 'ss416': 4048, 'cc0805krx7rbbb331': 4426, '0isotm2vtx': 5875, 'nab': 3714, 'pusher': 5028, 'od30': 2783, 'pu': 414, 'a00000537': 4686, 'm4x12': 5244, 'kce': 2965, 'a00000416': 5210, '200v': 4755, 'neuro': 2996, 'sa182': 7811, 'd165': 1477, '800': 131, '5mm': 122, 'l12': 2029, 'sh': 831, 'tecumseh': 4544, 'sup7': 3853, 'vasai': 6766, 'slider': 4579, 'lt8608imse': 5774, '707': 3715, 'd65': 817, 'stages': 5697, '825': 2796, 'l200': 2862, 'segmental': 709, 'm8x1p': 5135, 'cushion': 1519, 'fl': 180, '76': 1458, 'coolant': 1957, 'grahite': 3710, '1k8': 4917, 'chip': 4145}\n"
     ]
    }
   ],
   "source": [
    "print(word_index)"
   ]
  },
  {
   "cell_type": "code",
   "execution_count": 61,
   "metadata": {},
   "outputs": [
    {
     "name": "stdout",
     "output_type": "stream",
     "text": [
      "[ 0.24179202  0.06549174 -0.38604274  0.2220079  -0.17099561 -0.00210161\n",
      " -0.19163914  0.02628648  0.1819302  -0.13675494  0.03219317 -0.00996133\n",
      " -0.05369972  0.2527915   0.2741835   0.12086015 -0.04894331 -0.16053675\n",
      " -0.00583438  0.00325824  0.06969016 -0.11515658  0.0805554   0.09401441\n",
      "  0.2272013   0.03878359  0.27700585 -0.00347151  0.03068962  0.12152074\n",
      "  0.20699036  0.09057083  0.06172016  0.08677412  0.16805473  0.0134774\n",
      " -0.09955977 -0.23010123  0.11060134  0.06406747  0.2174236  -0.03278314\n",
      "  0.10400584  0.06704241 -0.21097016 -0.12631032 -0.05094669 -0.09503785\n",
      " -0.10903387 -0.0955196   0.22453734 -0.03931703 -0.17506832 -0.19794413\n",
      "  0.3891973   0.35113436 -0.5200029   0.1512953  -0.04274882 -0.15493187\n",
      "  0.07763566 -0.08534835  0.02209762  0.04802343 -0.04624603  0.12014635\n",
      " -0.162002   -0.21071538 -0.04798426  0.07724632 -0.19445488 -0.2439696\n",
      " -0.23706     0.02334258 -0.12904176 -0.14800826  0.02665363  0.13792053\n",
      "  0.11965785  0.28002065]\n"
     ]
    }
   ],
   "source": [
    "wrd = 'prmium'\n",
    "print(model_1.wv.word_vec(wrd))\n"
   ]
  },
  {
   "cell_type": "code",
   "execution_count": null,
   "metadata": {},
   "outputs": [],
   "source": []
  },
  {
   "cell_type": "code",
   "execution_count": 78,
   "metadata": {},
   "outputs": [],
   "source": [
    "j = 0"
   ]
  },
  {
   "cell_type": "code",
   "execution_count": 79,
   "metadata": {},
   "outputs": [
    {
     "name": "stdout",
     "output_type": "stream",
     "text": [
      "iot\n",
      "le18b22rd\n",
      "uc18h7tft\n",
      "18g16sk\n",
      "ver1\n",
      "txmr\n",
      "1ohm\n",
      "m66\n",
      "935uh\n",
      "le18b28pid\n",
      "1755uh\n",
      "le15k17cl\n",
      "52uh\n",
      "05w\n",
      "54w\n",
      "gaurds\n",
      "le18h23ap\n",
      "16uh\n",
      "le18j27dg2\n",
      "jsw\n",
      "guards\n",
      "le17h8ap\n",
      "le18k1m\n",
      "18b3sk\n",
      "le17l2ap\n",
      "le18j19ap\n",
      "jsav150\n",
      "le18h16dg2\n",
      "le18l12dg2\n",
      "89x74\n",
      "atomfan4\n",
      "48x38\n",
      "le17f5wc\n",
      "elettro\n",
      "tft\n",
      "Null word embeddings: 35\n"
     ]
    }
   ],
   "source": [
    "## prepare embeddings\n",
    "\n",
    "## Preparing embedding matrix\n",
    "\n",
    "nb_words = min(vocab_size, vocab_size_1)-1\n",
    "\n",
    "embedding_matrix = np.zeros((nb_words, emb_dim))\n",
    "\n",
    "    \n",
    "for word, i in word_index.items():\n",
    "        \n",
    "        \n",
    "    if word in model_1.wv.vocab:\n",
    "            \n",
    "        embedding_matrix[j] = model_1.wv.word_vec(word)\n",
    "        j = j+1\n",
    "    \n",
    "    else:\n",
    "                \n",
    "        print(word)\n",
    "        \n",
    "        \n",
    "print('Null word embeddings: %d' % np.sum(np.sum(embedding_matrix, axis=1) == 0))\n"
   ]
  },
  {
   "cell_type": "code",
   "execution_count": 76,
   "metadata": {},
   "outputs": [
    {
     "name": "stdout",
     "output_type": "stream",
     "text": [
      "<class 'numpy.ndarray'>\n",
      "(7948, 80)\n",
      "[ 0.24179202  0.06549174 -0.38604274  0.2220079  -0.17099561 -0.00210161\n",
      " -0.19163914  0.02628648  0.1819302  -0.13675494  0.03219317 -0.00996133\n",
      " -0.05369972  0.25279149  0.27418351  0.12086015 -0.04894331 -0.16053675\n",
      " -0.00583438  0.00325824  0.06969016 -0.11515658  0.0805554   0.09401441\n",
      "  0.2272013   0.03878359  0.27700585 -0.00347151  0.03068962  0.12152074\n",
      "  0.20699036  0.09057083  0.06172016  0.08677412  0.16805473  0.0134774\n",
      " -0.09955977 -0.23010123  0.11060134  0.06406747  0.2174236  -0.03278314\n",
      "  0.10400584  0.06704241 -0.21097016 -0.12631032 -0.05094669 -0.09503785\n",
      " -0.10903387 -0.0955196   0.22453734 -0.03931703 -0.17506832 -0.19794413\n",
      "  0.38919729  0.35113436 -0.5200029   0.1512953  -0.04274882 -0.15493187\n",
      "  0.07763566 -0.08534835  0.02209762  0.04802343 -0.04624603  0.12014635\n",
      " -0.162002   -0.21071538 -0.04798426  0.07724632 -0.19445488 -0.2439696\n",
      " -0.23706     0.02334258 -0.12904176 -0.14800826  0.02665363  0.13792053\n",
      "  0.11965785  0.28002065]\n"
     ]
    }
   ],
   "source": [
    "print(type(embedding_matrix))\n",
    "print(embedding_matrix.shape)\n",
    "print(embedding_matrix[0])"
   ]
  },
  {
   "cell_type": "code",
   "execution_count": null,
   "metadata": {},
   "outputs": [],
   "source": [
    "## Total no. of unique words = vocab_size = 14707\n",
    "## each word has got 150 parameters as per Embedding Dimension defined.\n",
    "## Hence total Param # = 14707 * 150 = 2206050\n"
   ]
  },
  {
   "cell_type": "code",
   "execution_count": 35,
   "metadata": {},
   "outputs": [
    {
     "name": "stdout",
     "output_type": "stream",
     "text": [
      "_________________________________________________________________\n",
      "Layer (type)                 Output Shape              Param #   \n",
      "=================================================================\n",
      "embedding_1 (Embedding)      (None, 121, 100)          794900    \n",
      "_________________________________________________________________\n",
      "spatial_dropout1d_1 (Spatial (None, 121, 100)          0         \n",
      "_________________________________________________________________\n",
      "gru_1 (GRU)                  (None, 32)                12768     \n",
      "_________________________________________________________________\n",
      "dense_1 (Dense)              (None, 256)               8448      \n",
      "_________________________________________________________________\n",
      "dense_2 (Dense)              (None, 71)                18247     \n",
      "=================================================================\n",
      "Total params: 834,363\n",
      "Trainable params: 39,463\n",
      "Non-trainable params: 794,900\n",
      "_________________________________________________________________\n"
     ]
    }
   ],
   "source": [
    "from keras.models import Sequential\n",
    "\n",
    "model_2 = Sequential()\n",
    "model_2.add(Embedding(vocab_size_1, emb_dim, weights=[embedding_matrix],\\\n",
    "                    input_length=max_length, trainable=False))\n",
    "model_2.add(SpatialDropout1D(0.2))\n",
    "#model.add(LSTM(32, dropout=0.2, recurrent_dropout=0.2))\n",
    "model_2.add(GRU(units=32, dropout=0.2, recurrent_dropout=0.2))\n",
    "model_2.add(Dense(256, activation='relu'))\n",
    "model_2.add(Dense(71, activation='softmax'))\n",
    "model_2.compile(optimizer='adam', loss='categorical_crossentropy', metrics=['acc'])\n",
    "\n",
    "model_2.summary()\n"
   ]
  },
  {
   "cell_type": "code",
   "execution_count": 39,
   "metadata": {},
   "outputs": [
    {
     "name": "stdout",
     "output_type": "stream",
     "text": [
      "accumulator model a as 5126 3 4 connection emerson make\n",
      "cooling\n"
     ]
    }
   ],
   "source": [
    "## Creating X and Y variables for training. X = Items or item 'feature'. Y = 'product' or product category\n",
    "\n",
    "X = []\n",
    "for i in range(len(tranzact_data_labelled_final)):\n",
    "    \n",
    "    X.append(tranzact_data_labelled_final.iloc[i]['item'])\n",
    "#Q = np.array(tranzact_data_3[\"product\"])\n",
    "Y = tranzact_data_labelled_final['product']\n",
    "print(X[1])\n",
    "\n",
    "print(Y[1])\n"
   ]
  },
  {
   "cell_type": "code",
   "execution_count": 40,
   "metadata": {},
   "outputs": [],
   "source": [
    "#train test split in 80% / 20% ratio\n",
    "\n",
    "from sklearn.model_selection import train_test_split\n",
    "X_train, X_test, Y_train, Y_test = train_test_split(X, Y, test_size=0.20, random_state = 5)\n"
   ]
  },
  {
   "cell_type": "code",
   "execution_count": 41,
   "metadata": {},
   "outputs": [],
   "source": [
    "## X_train and X_test word embedding :\n",
    "\n",
    "X_train_tokens = tokenizer_obj_1.texts_to_sequences(X_train)\n",
    "X_test_tokens = tokenizer_obj_1.texts_to_sequences(X_test)\n",
    "\n",
    "X_train_pad = pad_sequences(X_train_tokens, maxlen = max_length, padding = 'post')\n",
    "X_test_pad = pad_sequences(X_test_tokens, maxlen = max_length, padding = 'post')"
   ]
  },
  {
   "cell_type": "code",
   "execution_count": 44,
   "metadata": {},
   "outputs": [
    {
     "name": "stdout",
     "output_type": "stream",
     "text": [
      "(9442, 121)\n",
      "(2361, 121)\n",
      "121\n",
      "7949\n"
     ]
    }
   ],
   "source": [
    "print(X_train_pad.shape)\n",
    "print(X_test_pad.shape)\n",
    "print(max_length)\n",
    "print(vocab_size_1)"
   ]
  },
  {
   "cell_type": "code",
   "execution_count": 42,
   "metadata": {},
   "outputs": [
    {
     "name": "stdout",
     "output_type": "stream",
     "text": [
      "(9442, 71)\n",
      "(2361, 69)\n"
     ]
    }
   ],
   "source": [
    "from sklearn.preprocessing import LabelBinarizer\n",
    "\n",
    "encoder = LabelBinarizer()\n",
    "\n",
    "Y_train_coded = encoder.fit_transform(Y_train)\n",
    "Y_test_coded = encoder.fit_transform(Y_test)\n",
    "\n",
    "print(Y_train_coded.shape)\n",
    "print(Y_test_coded.shape)\n"
   ]
  },
  {
   "cell_type": "code",
   "execution_count": 43,
   "metadata": {},
   "outputs": [
    {
     "name": "stdout",
     "output_type": "stream",
     "text": [
      "Train on 7553 samples, validate on 1889 samples\n",
      "Epoch 1/25\n",
      "7553/7553 [==============================] - 8s 1ms/step - loss: 3.8448 - acc: 0.1392 - val_loss: 3.4788 - val_acc: 0.1122\n",
      "Epoch 2/25\n",
      "7553/7553 [==============================] - 8s 1ms/step - loss: 3.4929 - acc: 0.1354 - val_loss: 3.4630 - val_acc: 0.1509\n",
      "Epoch 3/25\n",
      "7553/7553 [==============================] - 7s 923us/step - loss: 3.4860 - acc: 0.1431 - val_loss: 3.4613 - val_acc: 0.1509\n",
      "Epoch 4/25\n",
      "7553/7553 [==============================] - 8s 1ms/step - loss: 3.4865 - acc: 0.1431 - val_loss: 3.4619 - val_acc: 0.1509\n",
      "Epoch 5/25\n",
      "7553/7553 [==============================] - 8s 1ms/step - loss: 3.4848 - acc: 0.1431 - val_loss: 3.4630 - val_acc: 0.1509\n",
      "Epoch 6/25\n",
      "7553/7553 [==============================] - 7s 946us/step - loss: 3.4842 - acc: 0.1431 - val_loss: 3.4652 - val_acc: 0.1509\n",
      "Epoch 7/25\n",
      "7553/7553 [==============================] - 7s 927us/step - loss: 3.4851 - acc: 0.1431 - val_loss: 3.4650 - val_acc: 0.1509\n",
      "Epoch 8/25\n",
      "7553/7553 [==============================] - 8s 1ms/step - loss: 3.4849 - acc: 0.1431 - val_loss: 3.4650 - val_acc: 0.1509\n",
      "Epoch 9/25\n",
      "7553/7553 [==============================] - 7s 975us/step - loss: 3.4843 - acc: 0.1431 - val_loss: 3.4664 - val_acc: 0.1509\n",
      "Epoch 10/25\n",
      "7553/7553 [==============================] - 7s 906us/step - loss: 3.4863 - acc: 0.1431 - val_loss: 3.4620 - val_acc: 0.1509\n",
      "Epoch 11/25\n",
      "7553/7553 [==============================] - 8s 1ms/step - loss: 3.4861 - acc: 0.1431 - val_loss: 3.4612 - val_acc: 0.1509\n",
      "Epoch 12/25\n",
      "7553/7553 [==============================] - 10s 1ms/step - loss: 3.4823 - acc: 0.1431 - val_loss: 3.4593 - val_acc: 0.1509\n",
      "Epoch 13/25\n",
      "7553/7553 [==============================] - 8s 1ms/step - loss: 3.4822 - acc: 0.1431 - val_loss: 3.4579 - val_acc: 0.1509\n",
      "Epoch 14/25\n",
      "7553/7553 [==============================] - 8s 1ms/step - loss: 3.4825 - acc: 0.1431 - val_loss: 3.4625 - val_acc: 0.1509\n",
      "Epoch 15/25\n",
      "7553/7553 [==============================] - 8s 1ms/step - loss: 3.4820 - acc: 0.1431 - val_loss: 3.4623 - val_acc: 0.1509\n",
      "Epoch 16/25\n",
      "7553/7553 [==============================] - 8s 1ms/step - loss: 3.4825 - acc: 0.1354 - val_loss: 3.4579 - val_acc: 0.1509\n",
      "Epoch 17/25\n",
      "7553/7553 [==============================] - 9s 1ms/step - loss: 3.4816 - acc: 0.1431 - val_loss: 3.4603 - val_acc: 0.1509\n",
      "Epoch 18/25\n",
      "7553/7553 [==============================] - 8s 1ms/step - loss: 3.4824 - acc: 0.1431 - val_loss: 3.4593 - val_acc: 0.1509\n",
      "Epoch 19/25\n",
      "7553/7553 [==============================] - 9s 1ms/step - loss: 3.4810 - acc: 0.1431 - val_loss: 3.4581 - val_acc: 0.1509\n",
      "Epoch 20/25\n",
      "7553/7553 [==============================] - 8s 1ms/step - loss: 3.4805 - acc: 0.1431 - val_loss: 3.4578 - val_acc: 0.1509\n",
      "Epoch 21/25\n",
      "7553/7553 [==============================] - 9s 1ms/step - loss: 3.4804 - acc: 0.1431 - val_loss: 3.4588 - val_acc: 0.1509\n",
      "Epoch 22/25\n",
      "7553/7553 [==============================] - 9s 1ms/step - loss: 3.4811 - acc: 0.1431 - val_loss: 3.4588 - val_acc: 0.1509\n",
      "Epoch 23/25\n",
      "7553/7553 [==============================] - 8s 1ms/step - loss: 3.4809 - acc: 0.1431 - val_loss: 3.4614 - val_acc: 0.1509\n",
      "Epoch 24/25\n",
      "7553/7553 [==============================] - 8s 1ms/step - loss: 3.4804 - acc: 0.1431 - val_loss: 3.4589 - val_acc: 0.1509\n",
      "Epoch 25/25\n",
      "7553/7553 [==============================] - 8s 1ms/step - loss: 3.4806 - acc: 0.1431 - val_loss: 3.4587 - val_acc: 0.1509\n"
     ]
    },
    {
     "data": {
      "text/plain": [
       "<keras.callbacks.History at 0x7f1e54ea3f28>"
      ]
     },
     "execution_count": 43,
     "metadata": {},
     "output_type": "execute_result"
    }
   ],
   "source": [
    "model_2.fit(X_train_pad,Y_train_coded,batch_size=128,epochs=25,\n",
    "          validation_split=0.2)"
   ]
  },
  {
   "cell_type": "code",
   "execution_count": null,
   "metadata": {},
   "outputs": [],
   "source": []
  }
 ],
 "metadata": {
  "kernelspec": {
   "display_name": "Python 3",
   "language": "python",
   "name": "python3"
  },
  "language_info": {
   "codemirror_mode": {
    "name": "ipython",
    "version": 3
   },
   "file_extension": ".py",
   "mimetype": "text/x-python",
   "name": "python",
   "nbconvert_exporter": "python",
   "pygments_lexer": "ipython3",
   "version": "3.5.2+"
  }
 },
 "nbformat": 4,
 "nbformat_minor": 2
}
