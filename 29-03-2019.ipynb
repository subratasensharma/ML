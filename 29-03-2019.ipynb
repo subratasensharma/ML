{
 "cells": [
  {
   "cell_type": "code",
   "execution_count": 140,
   "metadata": {},
   "outputs": [],
   "source": [
    "import pandas as pd\n",
    "import numpy as np\n",
    "import re\n",
    "import matplotlib.pyplot as plt\n",
    "import seaborn as sns\n",
    "from sklearn.model_selection import train_test_split\n",
    "from sklearn.preprocessing import LabelEncoder\n",
    "from keras.models import Model\n",
    "from keras.layers import LSTM, Activation, Dense, Dropout, Input, Embedding, SpatialDropout1D, GRU\n",
    "from keras.layers import Conv1D, MaxPooling1D\n",
    "from keras.optimizers import RMSprop\n",
    "from keras.preprocessing.text import Tokenizer\n",
    "from keras.layers import Bidirectional\n",
    "from keras.preprocessing import sequence\n",
    "from keras.preprocessing.sequence import pad_sequences\n",
    "from keras.utils import to_categorical\n",
    "from keras.callbacks import EarlyStopping\n",
    "%matplotlib inline\n"
   ]
  },
  {
   "cell_type": "code",
   "execution_count": 2,
   "metadata": {},
   "outputs": [],
   "source": [
    "import warnings\n",
    "warnings.filterwarnings(\"ignore\")"
   ]
  },
  {
   "cell_type": "code",
   "execution_count": 3,
   "metadata": {},
   "outputs": [
    {
     "data": {
      "text/html": [
       "<div>\n",
       "<style scoped>\n",
       "    .dataframe tbody tr th:only-of-type {\n",
       "        vertical-align: middle;\n",
       "    }\n",
       "\n",
       "    .dataframe tbody tr th {\n",
       "        vertical-align: top;\n",
       "    }\n",
       "\n",
       "    .dataframe thead th {\n",
       "        text-align: right;\n",
       "    }\n",
       "</style>\n",
       "<table border=\"1\" class=\"dataframe\">\n",
       "  <thead>\n",
       "    <tr style=\"text-align: right;\">\n",
       "      <th></th>\n",
       "      <th>supplier_item_id</th>\n",
       "      <th>to_company_name</th>\n",
       "      <th>supplier_item_id.1</th>\n",
       "      <th>supplier_item_id.2</th>\n",
       "      <th>product</th>\n",
       "      <th>supplier</th>\n",
       "      <th>Done</th>\n",
       "      <th>Atul Sugg.</th>\n",
       "      <th>sub_type</th>\n",
       "      <th>material</th>\n",
       "      <th>process</th>\n",
       "      <th>grade</th>\n",
       "      <th>spec</th>\n",
       "      <th>brand</th>\n",
       "    </tr>\n",
       "  </thead>\n",
       "  <tbody>\n",
       "    <tr>\n",
       "      <th>13552</th>\n",
       "      <td>86390</td>\n",
       "      <td>CESARE BONETTI INTERNATIONAL PVT. LTD.</td>\n",
       "      <td>86390</td>\n",
       "      <td>YOKE SLEEVE;8\" # 150;GTV;  B150 C62300</td>\n",
       "      <td>YOKE SLEEVE</td>\n",
       "      <td>CESARE BONETTI INDIA PVT. LTD.</td>\n",
       "      <td>278.0</td>\n",
       "      <td>NaN</td>\n",
       "      <td>NaN</td>\n",
       "      <td>NaN</td>\n",
       "      <td>NaN</td>\n",
       "      <td>C62300</td>\n",
       "      <td>NaN</td>\n",
       "      <td>NaN</td>\n",
       "    </tr>\n",
       "    <tr>\n",
       "      <th>13553</th>\n",
       "      <td>89723</td>\n",
       "      <td>CESARE BONETTI INTERNATIONAL PVT. LTD.</td>\n",
       "      <td>89723</td>\n",
       "      <td>YOKE SLEEVE 1½\" #2700 BLY;B150 C62300</td>\n",
       "      <td>YOKE SLEEVE</td>\n",
       "      <td>CESARE BONETTI INDIA PVT. LTD.</td>\n",
       "      <td>278.0</td>\n",
       "      <td>NaN</td>\n",
       "      <td>NaN</td>\n",
       "      <td>NaN</td>\n",
       "      <td>NaN</td>\n",
       "      <td>C62300</td>\n",
       "      <td>NaN</td>\n",
       "      <td>NaN</td>\n",
       "    </tr>\n",
       "    <tr>\n",
       "      <th>13554</th>\n",
       "      <td>89995</td>\n",
       "      <td>CESARE BONETTI INTERNATIONAL PVT. LTD.</td>\n",
       "      <td>89995</td>\n",
       "      <td>YOKE SLEEVE;4\" #150 GTV; B150 C62300</td>\n",
       "      <td>YOKE SLEEVE</td>\n",
       "      <td>CESARE BONETTI INDIA PVT. LTD.</td>\n",
       "      <td>278.0</td>\n",
       "      <td>NaN</td>\n",
       "      <td>NaN</td>\n",
       "      <td>NaN</td>\n",
       "      <td>NaN</td>\n",
       "      <td>C62300</td>\n",
       "      <td>NaN</td>\n",
       "      <td>NaN</td>\n",
       "    </tr>\n",
       "    <tr>\n",
       "      <th>13555</th>\n",
       "      <td>117819</td>\n",
       "      <td>WAAREE INDUSTRIES PVT. LTD.</td>\n",
       "      <td>117819</td>\n",
       "      <td>YOKE SLEEVE;8\" # 150;GTV;  A439 D2</td>\n",
       "      <td>cicasting</td>\n",
       "      <td>Waaree Industries Pvt.Ltd.</td>\n",
       "      <td>278.0</td>\n",
       "      <td>NaN</td>\n",
       "      <td>NaN</td>\n",
       "      <td>NaN</td>\n",
       "      <td>NaN</td>\n",
       "      <td>NaN</td>\n",
       "      <td>NaN</td>\n",
       "      <td>NaN</td>\n",
       "    </tr>\n",
       "    <tr>\n",
       "      <th>13556</th>\n",
       "      <td>169292</td>\n",
       "      <td>CESARE BONETTI INTERNATIONAL PVT. LTD.</td>\n",
       "      <td>169292</td>\n",
       "      <td>YOKE SLEEVE; 1\";#1500;CBD;A582 T416</td>\n",
       "      <td>YOKE SLEEVE</td>\n",
       "      <td>CESARE BONETTI INDIA PVT. LTD.</td>\n",
       "      <td>278.0</td>\n",
       "      <td>NaN</td>\n",
       "      <td>NaN</td>\n",
       "      <td>NaN</td>\n",
       "      <td>NaN</td>\n",
       "      <td>NaN</td>\n",
       "      <td>NaN</td>\n",
       "      <td>NaN</td>\n",
       "    </tr>\n",
       "  </tbody>\n",
       "</table>\n",
       "</div>"
      ],
      "text/plain": [
       "       supplier_item_id                         to_company_name  \\\n",
       "13552             86390  CESARE BONETTI INTERNATIONAL PVT. LTD.   \n",
       "13553             89723  CESARE BONETTI INTERNATIONAL PVT. LTD.   \n",
       "13554             89995  CESARE BONETTI INTERNATIONAL PVT. LTD.   \n",
       "13555            117819             WAAREE INDUSTRIES PVT. LTD.   \n",
       "13556            169292  CESARE BONETTI INTERNATIONAL PVT. LTD.   \n",
       "\n",
       "       supplier_item_id.1                      supplier_item_id.2  \\\n",
       "13552               86390  YOKE SLEEVE;8\" # 150;GTV;  B150 C62300   \n",
       "13553               89723   YOKE SLEEVE 1½\" #2700 BLY;B150 C62300   \n",
       "13554               89995    YOKE SLEEVE;4\" #150 GTV; B150 C62300   \n",
       "13555              117819      YOKE SLEEVE;8\" # 150;GTV;  A439 D2   \n",
       "13556              169292     YOKE SLEEVE; 1\";#1500;CBD;A582 T416   \n",
       "\n",
       "           product                        supplier   Done Atul Sugg. sub_type  \\\n",
       "13552  YOKE SLEEVE  CESARE BONETTI INDIA PVT. LTD.  278.0        NaN      NaN   \n",
       "13553  YOKE SLEEVE  CESARE BONETTI INDIA PVT. LTD.  278.0        NaN      NaN   \n",
       "13554  YOKE SLEEVE  CESARE BONETTI INDIA PVT. LTD.  278.0        NaN      NaN   \n",
       "13555    cicasting      Waaree Industries Pvt.Ltd.  278.0        NaN      NaN   \n",
       "13556  YOKE SLEEVE  CESARE BONETTI INDIA PVT. LTD.  278.0        NaN      NaN   \n",
       "\n",
       "      material process   grade  spec brand  \n",
       "13552      NaN     NaN  C62300   NaN   NaN  \n",
       "13553      NaN     NaN  C62300   NaN   NaN  \n",
       "13554      NaN     NaN  C62300   NaN   NaN  \n",
       "13555      NaN     NaN     NaN   NaN   NaN  \n",
       "13556      NaN     NaN     NaN   NaN   NaN  "
      ]
     },
     "execution_count": 3,
     "metadata": {},
     "output_type": "execute_result"
    }
   ],
   "source": [
    "## Loading Data - labelled data:\n",
    "\n",
    "data_1 = pd.ExcelFile('R1_RNN_Tranzact_Rohan_1_Regrouped_with_supplier.xlsx')\n",
    "tranzact_data_1 = data_1.parse(0)\n",
    "\n",
    "tranzact_data_1.tail()"
   ]
  },
  {
   "cell_type": "code",
   "execution_count": 4,
   "metadata": {},
   "outputs": [
    {
     "data": {
      "text/html": [
       "<div>\n",
       "<style scoped>\n",
       "    .dataframe tbody tr th:only-of-type {\n",
       "        vertical-align: middle;\n",
       "    }\n",
       "\n",
       "    .dataframe tbody tr th {\n",
       "        vertical-align: top;\n",
       "    }\n",
       "\n",
       "    .dataframe thead th {\n",
       "        text-align: right;\n",
       "    }\n",
       "</style>\n",
       "<table border=\"1\" class=\"dataframe\">\n",
       "  <thead>\n",
       "    <tr style=\"text-align: right;\">\n",
       "      <th></th>\n",
       "      <th>buyer_item_id</th>\n",
       "      <th>buyer_itemid</th>\n",
       "      <th>buyer_item_name</th>\n",
       "      <th>from_company_id</th>\n",
       "      <th>from_company_name</th>\n",
       "      <th>to_company_id</th>\n",
       "      <th>to_company_name</th>\n",
       "    </tr>\n",
       "  </thead>\n",
       "  <tbody>\n",
       "    <tr>\n",
       "      <th>17763</th>\n",
       "      <td>289052</td>\n",
       "      <td>PLYBAG_10X15</td>\n",
       "      <td>POLYBAG_10X15 INCH_PP</td>\n",
       "      <td>13872</td>\n",
       "      <td>R-Tech Products &amp; Packaging Pvt Ltd</td>\n",
       "      <td>16730</td>\n",
       "      <td>GLORY PACK INDUSTRIES</td>\n",
       "    </tr>\n",
       "    <tr>\n",
       "      <th>17764</th>\n",
       "      <td>289639</td>\n",
       "      <td>HANDLENUTM12X5MMXX</td>\n",
       "      <td>HANDLE NUT 1\" #600,HTB,A194 Gr8</td>\n",
       "      <td>842</td>\n",
       "      <td>CESARE BONETTI INDIA PVT. LTD.</td>\n",
       "      <td>7434</td>\n",
       "      <td>Shah Brothers</td>\n",
       "    </tr>\n",
       "    <tr>\n",
       "      <th>17765</th>\n",
       "      <td>48512</td>\n",
       "      <td>RDBR50 (SS431)</td>\n",
       "      <td>ROUND BAR OD50 ASTM A276 TYPE 431</td>\n",
       "      <td>114</td>\n",
       "      <td>Entech Controls</td>\n",
       "      <td>921</td>\n",
       "      <td>ALPESH METALS</td>\n",
       "    </tr>\n",
       "    <tr>\n",
       "      <th>17766</th>\n",
       "      <td>57696</td>\n",
       "      <td>PGX618101601202200</td>\n",
       "      <td>PTV 6\" #300 RF BVE WCB HW IBR</td>\n",
       "      <td>7506</td>\n",
       "      <td>CESARE BONETTI INTERNATIONAL PVT. LTD.</td>\n",
       "      <td>842</td>\n",
       "      <td>CESARE BONETTI INDIA PVT. LTD.</td>\n",
       "    </tr>\n",
       "    <tr>\n",
       "      <th>17767</th>\n",
       "      <td>274954</td>\n",
       "      <td>PPBOX_ST5</td>\n",
       "      <td>PP_MONOBOX_ST5</td>\n",
       "      <td>13872</td>\n",
       "      <td>R-Tech Products &amp; Packaging Pvt Ltd</td>\n",
       "      <td>15527</td>\n",
       "      <td>Shree Arun Packaging Co. Pvt. Ltd.</td>\n",
       "    </tr>\n",
       "  </tbody>\n",
       "</table>\n",
       "</div>"
      ],
      "text/plain": [
       "       buyer_item_id        buyer_itemid                    buyer_item_name  \\\n",
       "17763         289052        PLYBAG_10X15              POLYBAG_10X15 INCH_PP   \n",
       "17764         289639  HANDLENUTM12X5MMXX    HANDLE NUT 1\" #600,HTB,A194 Gr8   \n",
       "17765          48512      RDBR50 (SS431)  ROUND BAR OD50 ASTM A276 TYPE 431   \n",
       "17766          57696  PGX618101601202200      PTV 6\" #300 RF BVE WCB HW IBR   \n",
       "17767         274954           PPBOX_ST5                     PP_MONOBOX_ST5   \n",
       "\n",
       "      from_company_id                       from_company_name to_company_id  \\\n",
       "17763           13872     R-Tech Products & Packaging Pvt Ltd         16730   \n",
       "17764             842          CESARE BONETTI INDIA PVT. LTD.          7434   \n",
       "17765             114                         Entech Controls           921   \n",
       "17766            7506  CESARE BONETTI INTERNATIONAL PVT. LTD.           842   \n",
       "17767           13872     R-Tech Products & Packaging Pvt Ltd         15527   \n",
       "\n",
       "                          to_company_name  \n",
       "17763               GLORY PACK INDUSTRIES  \n",
       "17764                       Shah Brothers  \n",
       "17765                       ALPESH METALS  \n",
       "17766      CESARE BONETTI INDIA PVT. LTD.  \n",
       "17767  Shree Arun Packaging Co. Pvt. Ltd.  "
      ]
     },
     "execution_count": 4,
     "metadata": {},
     "output_type": "execute_result"
    }
   ],
   "source": [
    "## Loading Data - un-labelled data:\n",
    "\n",
    "data_2 = pd.ExcelFile('14Mar_Gorky.xlsx')\n",
    "tranzact_data_new_1 = data_2.parse(0)\n",
    "\n",
    "tranzact_data_new_1.tail()"
   ]
  },
  {
   "cell_type": "code",
   "execution_count": 8,
   "metadata": {},
   "outputs": [
    {
     "name": "stdout",
     "output_type": "stream",
     "text": [
      "29063\n"
     ]
    },
    {
     "data": {
      "text/html": [
       "<div>\n",
       "<style scoped>\n",
       "    .dataframe tbody tr th:only-of-type {\n",
       "        vertical-align: middle;\n",
       "    }\n",
       "\n",
       "    .dataframe tbody tr th {\n",
       "        vertical-align: top;\n",
       "    }\n",
       "\n",
       "    .dataframe thead th {\n",
       "        text-align: right;\n",
       "    }\n",
       "</style>\n",
       "<table border=\"1\" class=\"dataframe\">\n",
       "  <thead>\n",
       "    <tr style=\"text-align: right;\">\n",
       "      <th></th>\n",
       "      <th>OEM</th>\n",
       "      <th>item</th>\n",
       "      <th>product</th>\n",
       "      <th>supplier</th>\n",
       "      <th>find_duplicate</th>\n",
       "    </tr>\n",
       "  </thead>\n",
       "  <tbody>\n",
       "    <tr>\n",
       "      <th>29058</th>\n",
       "      <td>R-Tech Products &amp; Packaging Pvt Ltd</td>\n",
       "      <td>POLYBAG_10X15 INCH_PP</td>\n",
       "      <td>NaN</td>\n",
       "      <td>GLORY PACK INDUSTRIES</td>\n",
       "      <td>POLYBAG_10X15 INCH_PPGLORY PACK INDUSTRIES</td>\n",
       "    </tr>\n",
       "    <tr>\n",
       "      <th>29059</th>\n",
       "      <td>CESARE BONETTI INDIA PVT. LTD.</td>\n",
       "      <td>HANDLE NUT 1\" #600,HTB,A194 Gr8</td>\n",
       "      <td>NaN</td>\n",
       "      <td>Shah Brothers</td>\n",
       "      <td>HANDLE NUT 1\" #600,HTB,A194 Gr8Shah Brothers</td>\n",
       "    </tr>\n",
       "    <tr>\n",
       "      <th>29060</th>\n",
       "      <td>Entech Controls</td>\n",
       "      <td>ROUND BAR OD50 ASTM A276 TYPE 431</td>\n",
       "      <td>NaN</td>\n",
       "      <td>ALPESH METALS</td>\n",
       "      <td>ROUND BAR OD50 ASTM A276 TYPE 431ALPESH METALS</td>\n",
       "    </tr>\n",
       "    <tr>\n",
       "      <th>29061</th>\n",
       "      <td>CESARE BONETTI INTERNATIONAL PVT. LTD.</td>\n",
       "      <td>PTV 6\" #300 RF BVE WCB HW IBR</td>\n",
       "      <td>NaN</td>\n",
       "      <td>CESARE BONETTI INDIA PVT. LTD.</td>\n",
       "      <td>PTV 6\" #300 RF BVE WCB HW IBRCESARE BONETTI IN...</td>\n",
       "    </tr>\n",
       "    <tr>\n",
       "      <th>29062</th>\n",
       "      <td>R-Tech Products &amp; Packaging Pvt Ltd</td>\n",
       "      <td>PP_MONOBOX_ST5</td>\n",
       "      <td>NaN</td>\n",
       "      <td>Shree Arun Packaging Co. Pvt. Ltd.</td>\n",
       "      <td>PP_MONOBOX_ST5Shree Arun Packaging Co. Pvt. Ltd.</td>\n",
       "    </tr>\n",
       "  </tbody>\n",
       "</table>\n",
       "</div>"
      ],
      "text/plain": [
       "                                          OEM  \\\n",
       "29058     R-Tech Products & Packaging Pvt Ltd   \n",
       "29059          CESARE BONETTI INDIA PVT. LTD.   \n",
       "29060                         Entech Controls   \n",
       "29061  CESARE BONETTI INTERNATIONAL PVT. LTD.   \n",
       "29062     R-Tech Products & Packaging Pvt Ltd   \n",
       "\n",
       "                                    item product  \\\n",
       "29058              POLYBAG_10X15 INCH_PP     NaN   \n",
       "29059    HANDLE NUT 1\" #600,HTB,A194 Gr8     NaN   \n",
       "29060  ROUND BAR OD50 ASTM A276 TYPE 431     NaN   \n",
       "29061      PTV 6\" #300 RF BVE WCB HW IBR     NaN   \n",
       "29062                     PP_MONOBOX_ST5     NaN   \n",
       "\n",
       "                                 supplier  \\\n",
       "29058               GLORY PACK INDUSTRIES   \n",
       "29059                       Shah Brothers   \n",
       "29060                       ALPESH METALS   \n",
       "29061      CESARE BONETTI INDIA PVT. LTD.   \n",
       "29062  Shree Arun Packaging Co. Pvt. Ltd.   \n",
       "\n",
       "                                          find_duplicate  \n",
       "29058         POLYBAG_10X15 INCH_PPGLORY PACK INDUSTRIES  \n",
       "29059       HANDLE NUT 1\" #600,HTB,A194 Gr8Shah Brothers  \n",
       "29060     ROUND BAR OD50 ASTM A276 TYPE 431ALPESH METALS  \n",
       "29061  PTV 6\" #300 RF BVE WCB HW IBRCESARE BONETTI IN...  \n",
       "29062   PP_MONOBOX_ST5Shree Arun Packaging Co. Pvt. Ltd.  "
      ]
     },
     "execution_count": 8,
     "metadata": {},
     "output_type": "execute_result"
    }
   ],
   "source": [
    "## Picking up required info from labelled data:\n",
    "\n",
    "col = ['to_company_name', 'supplier_item_id.2', 'product', 'supplier']\n",
    "tranzact_data_2 = tranzact_data_1[col]\n",
    "tranzact_data_2.columns = ['OEM', 'item', 'product', 'supplier']\n",
    "\n",
    "# Creating separate dataframe for Cesare Bonetti International Pvt. Ltd. since these are unlabelled :\n",
    "\n",
    "tranzact_data_cesare_international = tranzact_data_2.loc[tranzact_data_2['OEM'] \\\n",
    "                                                               == 'CESARE BONETTI INTERNATIONAL PVT. LTD.']\n",
    "\n",
    "tranzact_data_2_revised = tranzact_data_2.drop(tranzact_data_cesare_international.index)\n",
    "\n",
    "tranzact_data_cesare_international = tranzact_data_cesare_international.reset_index(drop=True)\n",
    "tranzact_data_2_revised = tranzact_data_2_revised.reset_index(drop=True)\n",
    "\n",
    "## Picking up required info from un-labelled data:\n",
    "\n",
    "col = ['from_company_name', 'buyer_item_name', 'to_company_name']\n",
    "tranzact_data_new_2 = tranzact_data_new_1[col]\n",
    "tranzact_data_new_2.columns = ['OEM', 'item', 'supplier']\n",
    "\n",
    "## Merging two data frames :\n",
    "\n",
    "tranzact_data_combined = pd.concat([tranzact_data_2_revised, tranzact_data_new_2], axis=0, ignore_index=True)\n",
    "\n",
    "\n",
    "\n",
    "## Removing duplicate (item + supplier) combinations :\n",
    "\n",
    "tranzact_data_combined['find_duplicate'] = tranzact_data_combined['item'].map(str) + \\\n",
    "                                            tranzact_data_combined['supplier'].map(str)\n",
    "\n",
    "tranzact_data_combined.drop_duplicates(subset='find_duplicate', keep = 'first', inplace = True)\n",
    "tranzact_data_combined = tranzact_data_combined.reset_index(drop=True)\n",
    "        \n",
    "print(len(tranzact_data_combined))\n",
    "\n",
    "tranzact_data_combined.tail()"
   ]
  },
  {
   "cell_type": "code",
   "execution_count": 9,
   "metadata": {},
   "outputs": [
    {
     "name": "stdout",
     "output_type": "stream",
     "text": [
      "29063\n"
     ]
    },
    {
     "data": {
      "text/html": [
       "<div>\n",
       "<style scoped>\n",
       "    .dataframe tbody tr th:only-of-type {\n",
       "        vertical-align: middle;\n",
       "    }\n",
       "\n",
       "    .dataframe tbody tr th {\n",
       "        vertical-align: top;\n",
       "    }\n",
       "\n",
       "    .dataframe thead th {\n",
       "        text-align: right;\n",
       "    }\n",
       "</style>\n",
       "<table border=\"1\" class=\"dataframe\">\n",
       "  <thead>\n",
       "    <tr style=\"text-align: right;\">\n",
       "      <th></th>\n",
       "      <th>OEM</th>\n",
       "      <th>item</th>\n",
       "      <th>product</th>\n",
       "      <th>supplier</th>\n",
       "      <th>find_duplicate</th>\n",
       "    </tr>\n",
       "  </thead>\n",
       "  <tbody>\n",
       "    <tr>\n",
       "      <th>29058</th>\n",
       "      <td>r-tech products &amp; packaging pvt ltd</td>\n",
       "      <td>polybag 10x15 inch pp</td>\n",
       "      <td>NaN</td>\n",
       "      <td>GLORY PACK INDUSTRIES</td>\n",
       "      <td>POLYBAG_10X15 INCH_PPGLORY PACK INDUSTRIES</td>\n",
       "    </tr>\n",
       "    <tr>\n",
       "      <th>29059</th>\n",
       "      <td>cesare bonetti india pvt. ltd.</td>\n",
       "      <td>handle nut 1\" #600 htb a194 gr8</td>\n",
       "      <td>NaN</td>\n",
       "      <td>Shah Brothers</td>\n",
       "      <td>HANDLE NUT 1\" #600,HTB,A194 Gr8Shah Brothers</td>\n",
       "    </tr>\n",
       "    <tr>\n",
       "      <th>29060</th>\n",
       "      <td>entech controls</td>\n",
       "      <td>round bar od50 astm a276 type 431</td>\n",
       "      <td>NaN</td>\n",
       "      <td>ALPESH METALS</td>\n",
       "      <td>ROUND BAR OD50 ASTM A276 TYPE 431ALPESH METALS</td>\n",
       "    </tr>\n",
       "    <tr>\n",
       "      <th>29061</th>\n",
       "      <td>cesare bonetti international pvt. ltd.</td>\n",
       "      <td>ptv 6\" #300 rf bve wcb hw ibr</td>\n",
       "      <td>NaN</td>\n",
       "      <td>CESARE BONETTI INDIA PVT. LTD.</td>\n",
       "      <td>PTV 6\" #300 RF BVE WCB HW IBRCESARE BONETTI IN...</td>\n",
       "    </tr>\n",
       "    <tr>\n",
       "      <th>29062</th>\n",
       "      <td>r-tech products &amp; packaging pvt ltd</td>\n",
       "      <td>pp monobox st5</td>\n",
       "      <td>NaN</td>\n",
       "      <td>Shree Arun Packaging Co. Pvt. Ltd.</td>\n",
       "      <td>PP_MONOBOX_ST5Shree Arun Packaging Co. Pvt. Ltd.</td>\n",
       "    </tr>\n",
       "  </tbody>\n",
       "</table>\n",
       "</div>"
      ],
      "text/plain": [
       "                                          OEM  \\\n",
       "29058     r-tech products & packaging pvt ltd   \n",
       "29059          cesare bonetti india pvt. ltd.   \n",
       "29060                         entech controls   \n",
       "29061  cesare bonetti international pvt. ltd.   \n",
       "29062     r-tech products & packaging pvt ltd   \n",
       "\n",
       "                                    item product  \\\n",
       "29058              polybag 10x15 inch pp     NaN   \n",
       "29059    handle nut 1\" #600 htb a194 gr8     NaN   \n",
       "29060  round bar od50 astm a276 type 431     NaN   \n",
       "29061      ptv 6\" #300 rf bve wcb hw ibr     NaN   \n",
       "29062                     pp monobox st5     NaN   \n",
       "\n",
       "                                 supplier  \\\n",
       "29058               GLORY PACK INDUSTRIES   \n",
       "29059                       Shah Brothers   \n",
       "29060                       ALPESH METALS   \n",
       "29061      CESARE BONETTI INDIA PVT. LTD.   \n",
       "29062  Shree Arun Packaging Co. Pvt. Ltd.   \n",
       "\n",
       "                                          find_duplicate  \n",
       "29058         POLYBAG_10X15 INCH_PPGLORY PACK INDUSTRIES  \n",
       "29059       HANDLE NUT 1\" #600,HTB,A194 Gr8Shah Brothers  \n",
       "29060     ROUND BAR OD50 ASTM A276 TYPE 431ALPESH METALS  \n",
       "29061  PTV 6\" #300 RF BVE WCB HW IBRCESARE BONETTI IN...  \n",
       "29062   PP_MONOBOX_ST5Shree Arun Packaging Co. Pvt. Ltd.  "
      ]
     },
     "execution_count": 9,
     "metadata": {},
     "output_type": "execute_result"
    }
   ],
   "source": [
    "## make all in lower case :\n",
    "\n",
    "tranzact_data_combined['OEM'] = tranzact_data_combined['OEM'].map(lambda x: x if type(x)!=str else x.lower()) \n",
    "tranzact_data_combined['item'] = tranzact_data_combined['item'].map(lambda x: x if type(x)!=str else x.lower()) \n",
    "tranzact_data_combined['product'] = tranzact_data_combined['product'].map(lambda x: x if type(x)!=str else x.lower())\n",
    "\n",
    "## Removing some punctuations:\n",
    "\n",
    "punctuation = ['!', '$', '%', '&', '(', ')', '*', '+', ',', '.', ':', ';', '<', '=', '>', '?', '@', \\\n",
    "               '[', '\\\\', ']', '^', '_', '`', '{', '|', '}', '~', '\\t', '\\n'] \n",
    " \n",
    "\n",
    "for i in punctuation:\n",
    "    \n",
    "    tranzact_data_combined['item']= tranzact_data_combined['item'].str.replace(i,\" \")\n",
    "    \n",
    "tranzact_data_combined['item'] = tranzact_data_combined['item'].str.replace(r'\\s+',' ')\n",
    "\n",
    "## \n",
    "\n",
    "## remove rows with any cell value = none\n",
    "\n",
    "# tranzact_data_labelled_final = tranzact_data_labelled.dropna()\n",
    "# tranzact_data_un_labelled_final = tranzact_data_un_labelled.dropna()\n",
    "\n",
    "# tranzact_data_labelled_final = tranzact_data_labelled_final.reset_index(drop=True)\n",
    "# tranzact_data_un_labelled_final = tranzact_data_un_labelled_final.reset_index(drop=True)\n",
    "\n",
    "print(len(tranzact_data_combined))\n",
    "tranzact_data_combined.tail()"
   ]
  },
  {
   "cell_type": "code",
   "execution_count": 10,
   "metadata": {},
   "outputs": [
    {
     "name": "stderr",
     "output_type": "stream",
     "text": [
      "100%|██████████| 29063/29063 [00:00<00:00, 42761.23it/s]\n"
     ]
    }
   ],
   "source": [
    "from gensim.models import Word2Vec\n",
    "\n",
    "from tqdm import tqdm\n",
    "\n",
    "temp_corpus = tranzact_data_combined['item'].map(lambda x: x.split('.'))\n",
    "\n",
    "corpus = []\n",
    "for i in tqdm(range(len(temp_corpus))):\n",
    "    for line in temp_corpus[i]:\n",
    "        words = [x for x in line.split()]\n",
    "        corpus.append(words)"
   ]
  },
  {
   "cell_type": "code",
   "execution_count": 11,
   "metadata": {},
   "outputs": [
    {
     "name": "stdout",
     "output_type": "stream",
     "text": [
      "Num of sentences - 29063\n",
      "Num of words - 206797\n",
      "Max no. of words in a sentence - 103\n"
     ]
    }
   ],
   "source": [
    "num_of_items = len(corpus)\n",
    "\n",
    "num_of_words = 0\n",
    "for line in corpus:\n",
    "    num_of_words += len(line)\n",
    "    \n",
    "max_length = 0\n",
    "for i in range(len(corpus)):\n",
    "    max_length  = max(max_length, len(corpus[i]), len(corpus[i+1]))\n",
    "    if i == len(corpus)-2:\n",
    "        break\n",
    "        \n",
    "print('Num of sentences - %s'%(num_of_items))\n",
    "print('Num of words - %s'%(num_of_words))\n",
    "print('Max no. of words in a sentence - %s'%(max_length))"
   ]
  },
  {
   "cell_type": "code",
   "execution_count": 12,
   "metadata": {},
   "outputs": [
    {
     "name": "stdout",
     "output_type": "stream",
     "text": [
      "Word2Vec(vocab=18013, size=80, alpha=0.025)\n"
     ]
    }
   ],
   "source": [
    "## items to word2vec :\n",
    "\n",
    "emb_dim = 80\n",
    "\n",
    "model_1 = Word2Vec(corpus, size = emb_dim, window=5, \\\n",
    "               min_count=1, negative = 15, iter = 10, workers = 10, sg=1)\n",
    "\n",
    "print(model_1)"
   ]
  },
  {
   "cell_type": "code",
   "execution_count": 13,
   "metadata": {},
   "outputs": [
    {
     "name": "stdout",
     "output_type": "stream",
     "text": [
      "11803\n",
      "17260\n"
     ]
    },
    {
     "data": {
      "text/html": [
       "<div>\n",
       "<style scoped>\n",
       "    .dataframe tbody tr th:only-of-type {\n",
       "        vertical-align: middle;\n",
       "    }\n",
       "\n",
       "    .dataframe tbody tr th {\n",
       "        vertical-align: top;\n",
       "    }\n",
       "\n",
       "    .dataframe thead th {\n",
       "        text-align: right;\n",
       "    }\n",
       "</style>\n",
       "<table border=\"1\" class=\"dataframe\">\n",
       "  <thead>\n",
       "    <tr style=\"text-align: right;\">\n",
       "      <th></th>\n",
       "      <th>OEM</th>\n",
       "      <th>item</th>\n",
       "      <th>product</th>\n",
       "      <th>supplier</th>\n",
       "      <th>find_duplicate</th>\n",
       "    </tr>\n",
       "  </thead>\n",
       "  <tbody>\n",
       "    <tr>\n",
       "      <th>17255</th>\n",
       "      <td>r-tech products &amp; packaging pvt ltd</td>\n",
       "      <td>polybag 10x15 inch pp</td>\n",
       "      <td>NaN</td>\n",
       "      <td>GLORY PACK INDUSTRIES</td>\n",
       "      <td>POLYBAG_10X15 INCH_PPGLORY PACK INDUSTRIES</td>\n",
       "    </tr>\n",
       "    <tr>\n",
       "      <th>17256</th>\n",
       "      <td>cesare bonetti india pvt. ltd.</td>\n",
       "      <td>handle nut 1\" #600 htb a194 gr8</td>\n",
       "      <td>NaN</td>\n",
       "      <td>Shah Brothers</td>\n",
       "      <td>HANDLE NUT 1\" #600,HTB,A194 Gr8Shah Brothers</td>\n",
       "    </tr>\n",
       "    <tr>\n",
       "      <th>17257</th>\n",
       "      <td>entech controls</td>\n",
       "      <td>round bar od50 astm a276 type 431</td>\n",
       "      <td>NaN</td>\n",
       "      <td>ALPESH METALS</td>\n",
       "      <td>ROUND BAR OD50 ASTM A276 TYPE 431ALPESH METALS</td>\n",
       "    </tr>\n",
       "    <tr>\n",
       "      <th>17258</th>\n",
       "      <td>cesare bonetti international pvt. ltd.</td>\n",
       "      <td>ptv 6\" #300 rf bve wcb hw ibr</td>\n",
       "      <td>NaN</td>\n",
       "      <td>CESARE BONETTI INDIA PVT. LTD.</td>\n",
       "      <td>PTV 6\" #300 RF BVE WCB HW IBRCESARE BONETTI IN...</td>\n",
       "    </tr>\n",
       "    <tr>\n",
       "      <th>17259</th>\n",
       "      <td>r-tech products &amp; packaging pvt ltd</td>\n",
       "      <td>pp monobox st5</td>\n",
       "      <td>NaN</td>\n",
       "      <td>Shree Arun Packaging Co. Pvt. Ltd.</td>\n",
       "      <td>PP_MONOBOX_ST5Shree Arun Packaging Co. Pvt. Ltd.</td>\n",
       "    </tr>\n",
       "  </tbody>\n",
       "</table>\n",
       "</div>"
      ],
      "text/plain": [
       "                                          OEM  \\\n",
       "17255     r-tech products & packaging pvt ltd   \n",
       "17256          cesare bonetti india pvt. ltd.   \n",
       "17257                         entech controls   \n",
       "17258  cesare bonetti international pvt. ltd.   \n",
       "17259     r-tech products & packaging pvt ltd   \n",
       "\n",
       "                                    item product  \\\n",
       "17255              polybag 10x15 inch pp     NaN   \n",
       "17256    handle nut 1\" #600 htb a194 gr8     NaN   \n",
       "17257  round bar od50 astm a276 type 431     NaN   \n",
       "17258      ptv 6\" #300 rf bve wcb hw ibr     NaN   \n",
       "17259                     pp monobox st5     NaN   \n",
       "\n",
       "                                 supplier  \\\n",
       "17255               GLORY PACK INDUSTRIES   \n",
       "17256                       Shah Brothers   \n",
       "17257                       ALPESH METALS   \n",
       "17258      CESARE BONETTI INDIA PVT. LTD.   \n",
       "17259  Shree Arun Packaging Co. Pvt. Ltd.   \n",
       "\n",
       "                                          find_duplicate  \n",
       "17255         POLYBAG_10X15 INCH_PPGLORY PACK INDUSTRIES  \n",
       "17256       HANDLE NUT 1\" #600,HTB,A194 Gr8Shah Brothers  \n",
       "17257     ROUND BAR OD50 ASTM A276 TYPE 431ALPESH METALS  \n",
       "17258  PTV 6\" #300 RF BVE WCB HW IBRCESARE BONETTI IN...  \n",
       "17259   PP_MONOBOX_ST5Shree Arun Packaging Co. Pvt. Ltd.  "
      ]
     },
     "execution_count": 13,
     "metadata": {},
     "output_type": "execute_result"
    }
   ],
   "source": [
    "## Splitting the combined data into labelled data and unlabelled data :\n",
    "\n",
    "# tranzact_data_unlabelled = tranzact_data_combined.loc[tranzact_data_combined['product'] == Null]\n",
    "\n",
    "tranzact_data_labelled = tranzact_data_combined.loc[pd.notnull(tranzact_data_combined['product'])]\n",
    "\n",
    "tranzact_data_un_labelled = tranzact_data_combined.drop(tranzact_data_labelled.index)\n",
    "\n",
    "tranzact_data_labelled = tranzact_data_labelled.reset_index(drop=True)\n",
    "tranzact_data_un_labelled = tranzact_data_un_labelled.reset_index(drop=True)\n",
    "\n",
    "print(len(tranzact_data_labelled))\n",
    "print(len(tranzact_data_un_labelled))\n",
    "tranzact_data_un_labelled.tail()"
   ]
  },
  {
   "cell_type": "code",
   "execution_count": 14,
   "metadata": {},
   "outputs": [
    {
     "data": {
      "text/plain": [
       "Counter({'acid': 9,\n",
       "         'actuator': 61,\n",
       "         'adhesive': 12,\n",
       "         'alloysteelbar': 63,\n",
       "         'alloysteelcasting': 99,\n",
       "         'alloysteelforging': 62,\n",
       "         'aluminiumcasting': 3,\n",
       "         'bearing': 128,\n",
       "         'belt': 28,\n",
       "         'bushbearing': 93,\n",
       "         'carbonsteelbar': 125,\n",
       "         'cibar': 5,\n",
       "         'cicasting': 179,\n",
       "         'cooling': 130,\n",
       "         'cscasting': 500,\n",
       "         'csforging': 104,\n",
       "         'diaphragm': 28,\n",
       "         'electrical': 1362,\n",
       "         'electronic': 255,\n",
       "         'fasteners': 1737,\n",
       "         'gas': 21,\n",
       "         'gasket': 241,\n",
       "         'gearbox': 30,\n",
       "         'glass': 22,\n",
       "         'ic': 78,\n",
       "         'inductor': 19,\n",
       "         'lab-apparatus': 33,\n",
       "         'machinery': 10,\n",
       "         'manifold': 47,\n",
       "         'measuringinstrumentelectrical': 6,\n",
       "         'measuringinstrumentmechanical': 65,\n",
       "         'mechanicalconnector': 289,\n",
       "         'metalsheet': 358,\n",
       "         'misc': 350,\n",
       "         'motor': 38,\n",
       "         'msbar': 20,\n",
       "         'nameplate': 89,\n",
       "         'nonmetalbar': 18,\n",
       "         'nonmetalsheet': 83,\n",
       "         'nonsteelbar': 26,\n",
       "         'oil&lubricant': 323,\n",
       "         'packaging': 236,\n",
       "         'paint': 123,\n",
       "         'perforatedsheet': 50,\n",
       "         'pipe': 544,\n",
       "         'pneumatic': 30,\n",
       "         'pump': 42,\n",
       "         'resistor': 109,\n",
       "         'safetyappliance': 58,\n",
       "         'sandwichpanel': 26,\n",
       "         'sealing': 274,\n",
       "         'section': 47,\n",
       "         'solar': 60,\n",
       "         'spring': 117,\n",
       "         'spsbar': 423,\n",
       "         'spswire': 72,\n",
       "         'ssbar': 589,\n",
       "         'sscasting': 133,\n",
       "         'ssforging': 63,\n",
       "         'sswire': 73,\n",
       "         'stationery': 30,\n",
       "         'tool': 689,\n",
       "         'tungstenbar': 10,\n",
       "         'valve': 237,\n",
       "         'welding': 85,\n",
       "         'wire': 137,\n",
       "         'wiremesh': 397})"
      ]
     },
     "execution_count": 14,
     "metadata": {},
     "output_type": "execute_result"
    }
   ],
   "source": [
    "from collections import Counter\n",
    "Counter(tranzact_data_labelled[\"product\"])"
   ]
  },
  {
   "cell_type": "code",
   "execution_count": 15,
   "metadata": {},
   "outputs": [
    {
     "name": "stdout",
     "output_type": "stream",
     "text": [
      "11803\n",
      "17260\n"
     ]
    },
    {
     "data": {
      "text/html": [
       "<div>\n",
       "<style scoped>\n",
       "    .dataframe tbody tr th:only-of-type {\n",
       "        vertical-align: middle;\n",
       "    }\n",
       "\n",
       "    .dataframe tbody tr th {\n",
       "        vertical-align: top;\n",
       "    }\n",
       "\n",
       "    .dataframe thead th {\n",
       "        text-align: right;\n",
       "    }\n",
       "</style>\n",
       "<table border=\"1\" class=\"dataframe\">\n",
       "  <thead>\n",
       "    <tr style=\"text-align: right;\">\n",
       "      <th></th>\n",
       "      <th>OEM</th>\n",
       "      <th>item</th>\n",
       "      <th>product</th>\n",
       "      <th>supplier</th>\n",
       "      <th>find_duplicate</th>\n",
       "      <th>product_id</th>\n",
       "    </tr>\n",
       "  </thead>\n",
       "  <tbody>\n",
       "    <tr>\n",
       "      <th>11798</th>\n",
       "      <td>cesare bonetti india pvt. ltd.</td>\n",
       "      <td>yoke casting 12\" #2500 gtv sa216 wcc qap</td>\n",
       "      <td>cscasting</td>\n",
       "      <td>AMI Alloys</td>\n",
       "      <td>YOKE CASTING 12\" #2500 GTV, SA216 WCC, QAPAMI ...</td>\n",
       "      <td>17</td>\n",
       "    </tr>\n",
       "    <tr>\n",
       "      <th>11799</th>\n",
       "      <td>cesare bonetti india pvt. ltd.</td>\n",
       "      <td>yoke cast 3\" #2500 gtv sa216 wcc qap</td>\n",
       "      <td>cscasting</td>\n",
       "      <td>Tulip Casting Pvt. Ltd.</td>\n",
       "      <td>YOKE CAST, 3\" #2500 GTV, SA216 WCC, QAPTulip C...</td>\n",
       "      <td>17</td>\n",
       "    </tr>\n",
       "    <tr>\n",
       "      <th>11800</th>\n",
       "      <td>cesare bonetti india pvt. ltd.</td>\n",
       "      <td>yoke casting 12\" #2500 gtv sa217 c12a qap</td>\n",
       "      <td>alloysteelcasting</td>\n",
       "      <td>AMI Alloys</td>\n",
       "      <td>YOKE CASTING 12\" #2500 GTV, SA217 C12A, QAPAMI...</td>\n",
       "      <td>38</td>\n",
       "    </tr>\n",
       "    <tr>\n",
       "      <th>11801</th>\n",
       "      <td>cesare bonetti india pvt. ltd.</td>\n",
       "      <td>yoke cast 10\" #150 tcv a217wc6</td>\n",
       "      <td>alloysteelcasting</td>\n",
       "      <td>RAJ ENGINEERS</td>\n",
       "      <td>YOKE CAST 10\" #150 TCV; A217WC6RAJ ENGINEERS</td>\n",
       "      <td>38</td>\n",
       "    </tr>\n",
       "    <tr>\n",
       "      <th>11802</th>\n",
       "      <td>waaree industries pvt. ltd.</td>\n",
       "      <td>yoke sleeve 8\" # 150 gtv a439 d2</td>\n",
       "      <td>cicasting</td>\n",
       "      <td>Waaree Industries Pvt.Ltd.</td>\n",
       "      <td>YOKE SLEEVE;8\" # 150;GTV;  A439 D2Waaree Indus...</td>\n",
       "      <td>16</td>\n",
       "    </tr>\n",
       "  </tbody>\n",
       "</table>\n",
       "</div>"
      ],
      "text/plain": [
       "                                  OEM  \\\n",
       "11798  cesare bonetti india pvt. ltd.   \n",
       "11799  cesare bonetti india pvt. ltd.   \n",
       "11800  cesare bonetti india pvt. ltd.   \n",
       "11801  cesare bonetti india pvt. ltd.   \n",
       "11802     waaree industries pvt. ltd.   \n",
       "\n",
       "                                            item            product  \\\n",
       "11798   yoke casting 12\" #2500 gtv sa216 wcc qap          cscasting   \n",
       "11799       yoke cast 3\" #2500 gtv sa216 wcc qap          cscasting   \n",
       "11800  yoke casting 12\" #2500 gtv sa217 c12a qap  alloysteelcasting   \n",
       "11801             yoke cast 10\" #150 tcv a217wc6  alloysteelcasting   \n",
       "11802           yoke sleeve 8\" # 150 gtv a439 d2          cicasting   \n",
       "\n",
       "                         supplier  \\\n",
       "11798                  AMI Alloys   \n",
       "11799     Tulip Casting Pvt. Ltd.   \n",
       "11800                  AMI Alloys   \n",
       "11801               RAJ ENGINEERS   \n",
       "11802  Waaree Industries Pvt.Ltd.   \n",
       "\n",
       "                                          find_duplicate  product_id  \n",
       "11798  YOKE CASTING 12\" #2500 GTV, SA216 WCC, QAPAMI ...          17  \n",
       "11799  YOKE CAST, 3\" #2500 GTV, SA216 WCC, QAPTulip C...          17  \n",
       "11800  YOKE CASTING 12\" #2500 GTV, SA217 C12A, QAPAMI...          38  \n",
       "11801       YOKE CAST 10\" #150 TCV; A217WC6RAJ ENGINEERS          38  \n",
       "11802  YOKE SLEEVE;8\" # 150;GTV;  A439 D2Waaree Indus...          16  "
      ]
     },
     "execution_count": 15,
     "metadata": {},
     "output_type": "execute_result"
    }
   ],
   "source": [
    "## digitising 'product' and creating a dictionary for labelled data :\n",
    "\n",
    "tranzact_data_labelled['product_id'] = tranzact_data_labelled['product'].factorize()[0]\n",
    "\n",
    "product_id_df = tranzact_data_labelled[['product', 'product_id']].drop_duplicates().sort_values('product_id')\n",
    "product_to_id = dict(product_id_df.values)\n",
    "id_to_product = dict(product_id_df[['product_id', 'product']].values)\n",
    "\n",
    "## removing puncuations from items of both labelled and un-labelled data :\n",
    "\n",
    "# pd.options.mode.chained_assignment = None\n",
    "\n",
    "# tranzact_data_labelled_final['item'] = tranzact_data_labelled_final['item'].str.replace(r'\\W',' ')\n",
    "# tranzact_data_un_labelled_final['item'] = tranzact_data_un_labelled_final['item'].str.replace(r'\\W',' ')\n",
    "\n",
    "## remove gaps between words to single gap\n",
    "\n",
    "# tranzact_data_labelled_final['item'] = tranzact_data_labelled_final['item'].str.replace(r'\\s+',' ')\n",
    "# tranzact_data_un_labelled_final['item'] = tranzact_data_un_labelled_final['item'].str.replace(r'\\s+',' ')\n",
    "\n",
    "print(len(tranzact_data_labelled))\n",
    "print(len(tranzact_data_un_labelled))\n",
    "tranzact_data_labelled.tail()"
   ]
  },
  {
   "cell_type": "code",
   "execution_count": 16,
   "metadata": {},
   "outputs": [
    {
     "name": "stdout",
     "output_type": "stream",
     "text": [
      "103\n",
      "39\n",
      "103\n",
      "==============\n",
      "18014\n",
      "9509\n",
      "13067\n"
     ]
    }
   ],
   "source": [
    "tokenizer_obj_comb = Tokenizer(filters='!$%&()*+,.:;<=>?@[\\\\]^_`{|}~\\t\\n', split=' ' )\n",
    "tokenizer_obj_lab = Tokenizer(filters='!$%&()*+,.:;<=>?@[\\\\]^_`{|}~\\t\\n', split=' ' )\n",
    "tokenizer_obj_un_lab = Tokenizer(filters='!$%&()*+,.:;<=>?@[\\\\]^_`{|}~\\t\\n', split=' ' )\n",
    "\n",
    "tokenizer_obj_comb.fit_on_texts(tranzact_data_combined['item'])\n",
    "tokenizer_obj_lab.fit_on_texts(tranzact_data_labelled['item'])\n",
    "tokenizer_obj_un_lab.fit_on_texts(tranzact_data_un_labelled['item'])\n",
    "\n",
    "## pad sequences :\n",
    "\n",
    "max_length_comb = max([len(s.split()) for s in tranzact_data_combined['item']])\n",
    "max_length_lab = max([len(s.split()) for s in tranzact_data_labelled['item']])\n",
    "max_length_un_lab = max([len(s.split()) for s in tranzact_data_un_labelled['item']])\n",
    "\n",
    "# min_length = min([len(s.split()) for s in total_item_labelled_unlabelled['item']])\n",
    "\n",
    "## define vocabulary size :\n",
    "\n",
    "tokenizer_obj_lab_index = tokenizer_obj_lab.word_index\n",
    "\n",
    "vocab_size_comb = len(tokenizer_obj_comb.word_index) + 1\n",
    "vocab_size_lab = len(tokenizer_obj_lab.word_index) + 1\n",
    "vocab_size_un_lab = len(tokenizer_obj_un_lab.word_index) + 1\n",
    "\n",
    "# total_item_tokens = tokenizer_obj.texts_to_sequences(total_item_labelled_unlabelled['item'])\n",
    "# total_item_tokens_1 = tokenizer_obj_1.texts_to_sequences(tranzact_data_labelled_final['item'])\n",
    "\n",
    "# total_item_pad = pad_sequences(total_item_tokens, maxlen = max_length, padding = 'post')\n",
    "# total_item_pad_1 = pad_sequences(total_item_tokens_1, maxlen = max_length, padding = 'post')\n",
    "\n",
    "print(max_length_comb)\n",
    "print(max_length_lab)\n",
    "print(max_length_un_lab)\n",
    "print('==============')\n",
    "print(vocab_size_comb)\n",
    "print(vocab_size_lab)\n",
    "print(vocab_size_un_lab)"
   ]
  },
  {
   "cell_type": "code",
   "execution_count": 17,
   "metadata": {},
   "outputs": [
    {
     "name": "stderr",
     "output_type": "stream",
     "text": [
      "100%|██████████| 11803/11803 [00:00<00:00, 44957.39it/s]\n"
     ]
    }
   ],
   "source": [
    "temp_corpus_labelled = tranzact_data_labelled['item'].map(lambda x: x.split('.'))\n",
    "\n",
    "corpus_labelled = []\n",
    "for i in tqdm(range(len(temp_corpus_labelled))):\n",
    "    for line in temp_corpus_labelled[i]:\n",
    "        words_labelled = [x for x in line.split()]\n",
    "        corpus_labelled.append(words_labelled)"
   ]
  },
  {
   "cell_type": "code",
   "execution_count": 18,
   "metadata": {},
   "outputs": [
    {
     "name": "stderr",
     "output_type": "stream",
     "text": [
      "100%|██████████| 17260/17260 [00:00<00:00, 51719.20it/s]\n"
     ]
    }
   ],
   "source": [
    "temp_corpus_un_labelled = tranzact_data_un_labelled['item'].map(lambda x: x.split('.'))\n",
    "\n",
    "corpus_un_labelled = []\n",
    "for i in tqdm(range(len(temp_corpus_un_labelled))):\n",
    "    for line in temp_corpus_un_labelled[i]:\n",
    "        words_un_labelled = [x for x in line.split()]\n",
    "        corpus_un_labelled.append(words_un_labelled)"
   ]
  },
  {
   "cell_type": "code",
   "execution_count": 19,
   "metadata": {},
   "outputs": [
    {
     "name": "stdout",
     "output_type": "stream",
     "text": [
      "Num of labelled sentences - 11803\n",
      "Num of labelled words - 86127\n",
      "Max no. of labelled words in a sentence - 39\n",
      "Num of un-labelled sentences - 17260\n",
      "Num of un-labelled words - 120670\n",
      "Max no. of un-labelled words in a sentence - 103\n"
     ]
    }
   ],
   "source": [
    "num_of_items_labelled = len(corpus_labelled)\n",
    "\n",
    "num_of_words_labelled = 0\n",
    "for line in corpus_labelled:\n",
    "    num_of_words_labelled += len(line)\n",
    "    \n",
    "max_length_labelled = 0\n",
    "for i in range(len(corpus_labelled)):\n",
    "    max_length_labelled  = max(max_length_labelled, len(corpus_labelled[i]), len(corpus_labelled[i+1]))\n",
    "    if i == len(corpus_labelled)-2:\n",
    "        break\n",
    "        \n",
    "        \n",
    "num_of_items_un_labelled = len(corpus_un_labelled)\n",
    "\n",
    "num_of_words_un_labelled = 0\n",
    "for line in corpus_un_labelled:\n",
    "    num_of_words_un_labelled += len(line)\n",
    "    \n",
    "max_length_un_labelled = 0\n",
    "for i in range(len(corpus_un_labelled)):\n",
    "    max_length_un_labelled  = max(max_length_un_labelled, len(corpus_un_labelled[i]), len(corpus_un_labelled[i+1]))\n",
    "    if i == len(corpus_un_labelled)-2:\n",
    "        break\n",
    "\n",
    "\n",
    "print('Num of labelled sentences - %s'%(num_of_items_labelled))\n",
    "print('Num of labelled words - %s'%(num_of_words_labelled))\n",
    "print('Max no. of labelled words in a sentence - %s'%(max_length_labelled))\n",
    "print('Num of un-labelled sentences - %s'%(num_of_items_un_labelled))\n",
    "print('Num of un-labelled words - %s'%(num_of_words_un_labelled))\n",
    "print('Max no. of un-labelled words in a sentence - %s'%(max_length_un_labelled))"
   ]
  },
  {
   "cell_type": "code",
   "execution_count": 160,
   "metadata": {},
   "outputs": [
    {
     "name": "stdout",
     "output_type": "stream",
     "text": [
      "Null word embeddings: 1\n"
     ]
    }
   ],
   "source": [
    "## prepare embeddings\n",
    "\n",
    "## Preparing embedding matrix\n",
    "\n",
    "## nb_words = min(vocab_size, vocab_size_1)-1\n",
    "\n",
    "embedding_matrix = np.zeros((vocab_size_lab, emb_dim))\n",
    "\n",
    "for word, i in tokenizer_obj_lab_index.items():\n",
    "    \n",
    "    emb_vector = model_1.wv.word_vec(word)\n",
    "    \n",
    "    if emb_vector is not None:\n",
    "        embedding_matrix[i] = emb_vector\n",
    "        \n",
    "print('Null word embeddings: %d' % np.sum(np.sum(embedding_matrix, axis=1) == 0))\n"
   ]
  },
  {
   "cell_type": "code",
   "execution_count": 21,
   "metadata": {},
   "outputs": [
    {
     "name": "stdout",
     "output_type": "stream",
     "text": [
      "<class 'numpy.ndarray'>\n",
      "(9509, 80)\n",
      "[0. 0. 0. 0. 0. 0. 0. 0. 0. 0. 0. 0. 0. 0. 0. 0. 0. 0. 0. 0. 0. 0. 0. 0.\n",
      " 0. 0. 0. 0. 0. 0. 0. 0. 0. 0. 0. 0. 0. 0. 0. 0. 0. 0. 0. 0. 0. 0. 0. 0.\n",
      " 0. 0. 0. 0. 0. 0. 0. 0. 0. 0. 0. 0. 0. 0. 0. 0. 0. 0. 0. 0. 0. 0. 0. 0.\n",
      " 0. 0. 0. 0. 0. 0. 0. 0.]\n"
     ]
    }
   ],
   "source": [
    "print(type(embedding_matrix))\n",
    "print(embedding_matrix.shape)\n",
    "print(embedding_matrix[0])"
   ]
  },
  {
   "cell_type": "code",
   "execution_count": null,
   "metadata": {},
   "outputs": [],
   "source": [
    "## Total no. of unique words = vocab_size = 14707\n",
    "## each word has got 150 parameters as per Embedding Dimension defined.\n",
    "## Hence total Param # = 14707 * 150 = 2206050\n"
   ]
  },
  {
   "cell_type": "code",
   "execution_count": null,
   "metadata": {},
   "outputs": [],
   "source": [
    "adam = adam(lr=0.1)\n",
    "model.compile(loss='binary_crossentropy', optimizer=adam, metrics=['accuracy'])"
   ]
  },
  {
   "cell_type": "code",
   "execution_count": 161,
   "metadata": {},
   "outputs": [
    {
     "name": "stdout",
     "output_type": "stream",
     "text": [
      "_________________________________________________________________\n",
      "Layer (type)                 Output Shape              Param #   \n",
      "=================================================================\n",
      "embedding_7 (Embedding)      (None, 39, 80)            760720    \n",
      "_________________________________________________________________\n",
      "spatial_dropout1d_7 (Spatial (None, 39, 80)            0         \n",
      "_________________________________________________________________\n",
      "bidirectional_6 (Bidirection (None, 128)               74240     \n",
      "_________________________________________________________________\n",
      "dense_9 (Dense)              (None, 256)               33024     \n",
      "_________________________________________________________________\n",
      "dense_10 (Dense)             (None, 67)                17219     \n",
      "=================================================================\n",
      "Total params: 885,203\n",
      "Trainable params: 885,203\n",
      "Non-trainable params: 0\n",
      "_________________________________________________________________\n"
     ]
    }
   ],
   "source": [
    "from keras.models import Sequential\n",
    "\n",
    "model_2 = Sequential()\n",
    "model_2.add(Embedding(vocab_size_lab, emb_dim, weights=[embedding_matrix],\\\n",
    "                    input_length=max_length_labelled, trainable=True))\n",
    "model_2.add(SpatialDropout1D(0.2))\n",
    "#model_2.add(Conv1D(filters=32, kernel_size=3, padding='same', activation='tanh'))\n",
    "#model_2.add(MaxPooling1D(pool_size=2))\n",
    "\n",
    "model_2.add(Bidirectional(LSTM(64, dropout=0.2, recurrent_dropout=0.2)))\n",
    "#model_2.add(GRU(units=32, dropout=0.2, recurrent_dropout=0.2))\n",
    "model_2.add(Dense(256, activation='tanh'))\n",
    "model_2.add(Dense(67, activation='softmax'))\n",
    "model_2.compile(optimizer='adam', loss='categorical_crossentropy', metrics=['acc'])\n",
    "\n",
    "model_2.summary()\n"
   ]
  },
  {
   "cell_type": "code",
   "execution_count": 152,
   "metadata": {},
   "outputs": [
    {
     "name": "stdout",
     "output_type": "stream",
     "text": [
      "accumulator - model a-as 5126 3/4\" connection - emerson make\n",
      "cooling\n"
     ]
    }
   ],
   "source": [
    "## Creating X and Y variables for training. X = Items or item 'feature'. Y = 'product' or product category\n",
    "\n",
    "X = []\n",
    "for i in range(len(tranzact_data_labelled)):\n",
    "    \n",
    "    X.append(tranzact_data_labelled.iloc[i]['item'])\n",
    "#Q = np.array(tranzact_data_3[\"product\"])\n",
    "Y = tranzact_data_labelled['product']\n",
    "print(X[1])\n",
    "\n",
    "print(Y[1])\n"
   ]
  },
  {
   "cell_type": "code",
   "execution_count": 153,
   "metadata": {},
   "outputs": [
    {
     "name": "stdout",
     "output_type": "stream",
     "text": [
      "[1454, 237, 2814, 792]\n"
     ]
    }
   ],
   "source": [
    "X_tokens = tokenizer_obj_lab.texts_to_sequences(X)\n",
    "#X_test_tokens = tokenizer_obj_lab.texts_to_sequences(X_test)\n",
    "\n",
    "X_pad = pad_sequences(X_tokens, maxlen = max_length_labelled, padding = 'post')\n",
    "#X_test_pad = pad_sequences(X_test_tokens, maxlen = max_length_labelled, padding = 'post')\n",
    "\n",
    "print(X_tokens[0])"
   ]
  },
  {
   "cell_type": "code",
   "execution_count": 154,
   "metadata": {},
   "outputs": [
    {
     "name": "stdout",
     "output_type": "stream",
     "text": [
      "(11803, 67)\n"
     ]
    }
   ],
   "source": [
    "from sklearn.preprocessing import LabelBinarizer\n",
    "\n",
    "encoder = LabelBinarizer()\n",
    "\n",
    "Y_coded = encoder.fit_transform(Y)\n",
    "\n",
    "print(Y_coded.shape)\n",
    "\n"
   ]
  },
  {
   "cell_type": "code",
   "execution_count": 155,
   "metadata": {},
   "outputs": [],
   "source": [
    "#train test split in 80% / 20% ratio\n",
    "\n",
    "from sklearn.model_selection import train_test_split\n",
    "X_train_pad, X_test_pad, Y_train_coded, Y_test_coded = train_test_split(X_pad, Y_coded, test_size=0.20, random_state = 5)\n"
   ]
  },
  {
   "cell_type": "code",
   "execution_count": null,
   "metadata": {},
   "outputs": [],
   "source": [
    "# total_item_tokens = tokenizer_obj.texts_to_sequences(total_item_labelled_unlabelled['item'])\n",
    "# total_item_tokens_1 = tokenizer_obj_1.texts_to_sequences(tranzact_data_labelled_final['item'])\n",
    "\n",
    "# total_item_pad = pad_sequences(total_item_tokens, maxlen = max_length, padding = 'post')\n",
    "# total_item_pad_1 = pad_sequences(total_item_tokens_1, maxlen = max_length, padding = 'post')\n"
   ]
  },
  {
   "cell_type": "code",
   "execution_count": 48,
   "metadata": {},
   "outputs": [],
   "source": [
    "## X_train and X_test word embedding :\n",
    "\n",
    "#X_train_tokens = tokenizer_obj_lab.texts_to_sequences(X_train)\n",
    "#X_test_tokens = tokenizer_obj_lab.texts_to_sequences(X_test)\n",
    "\n",
    "#X_train_pad = pad_sequences(X_train_tokens, maxlen = max_length_labelled, padding = 'post')\n",
    "#X_test_pad = pad_sequences(X_test_tokens, maxlen = max_length_labelled, padding = 'post')"
   ]
  },
  {
   "cell_type": "code",
   "execution_count": 156,
   "metadata": {},
   "outputs": [
    {
     "name": "stdout",
     "output_type": "stream",
     "text": [
      "(9442, 39)\n",
      "(2361, 39)\n",
      "39\n",
      "9509\n",
      "(9442, 67)\n"
     ]
    }
   ],
   "source": [
    "print(X_train_pad.shape)\n",
    "print(X_test_pad.shape)\n",
    "print(max_length_lab)\n",
    "print(vocab_size_lab)\n",
    "\n",
    "print(Y_train_coded.shape)"
   ]
  },
  {
   "cell_type": "code",
   "execution_count": 157,
   "metadata": {},
   "outputs": [
    {
     "data": {
      "text/plain": [
       "array([6873,  162, 1575, 1428,    0,    0,    0,    0,    0,    0,    0,\n",
       "          0,    0,    0,    0,    0,    0,    0,    0,    0,    0,    0,\n",
       "          0,    0,    0,    0,    0,    0,    0,    0,    0,    0,    0,\n",
       "          0,    0,    0,    0,    0,    0], dtype=int32)"
      ]
     },
     "execution_count": 157,
     "metadata": {},
     "output_type": "execute_result"
    }
   ],
   "source": [
    "X_test_pad[0]"
   ]
  },
  {
   "cell_type": "code",
   "execution_count": 158,
   "metadata": {},
   "outputs": [
    {
     "name": "stdout",
     "output_type": "stream",
     "text": [
      "[0 0 0 0 0 0 0 0 0 0 0 0 0 0 0 0 0 0 0 0 0 0 0 0 0 0 0 0 0 0 0 0 0 0 0 0 0\n",
      " 0 0 0 0 0 0 0 0 0 0 0 0 0 0 0 0 0 0 0 0 0 0 0 0 1 0 0 0 0 0]\n",
      "(67,)\n",
      "(2361, 67)\n",
      "(2361, 67)\n"
     ]
    }
   ],
   "source": [
    "print(Y_test_coded[0])\n",
    "print(Y_test_coded[0].shape)\n",
    "print(Y_test_coded.shape)\n",
    "print(([Y_test_coded][0]).shape)"
   ]
  },
  {
   "cell_type": "code",
   "execution_count": 71,
   "metadata": {},
   "outputs": [
    {
     "data": {
      "text/plain": [
       "array(['tool', 'metalsheet', 'valve', ..., 'spring', 'pipe', 'pipe'],\n",
       "      dtype='<U29')"
      ]
     },
     "execution_count": 71,
     "metadata": {},
     "output_type": "execute_result"
    }
   ],
   "source": [
    "encoder.inverse_transform(Y_test_coded)"
   ]
  },
  {
   "cell_type": "code",
   "execution_count": 88,
   "metadata": {},
   "outputs": [
    {
     "name": "stdout",
     "output_type": "stream",
     "text": [
      "tool\n"
     ]
    }
   ],
   "source": [
    "\n",
    "ppp = [encoder.inverse_transform([Y_test_coded][0])][0][0]\n",
    "print(ppp)"
   ]
  },
  {
   "cell_type": "code",
   "execution_count": 162,
   "metadata": {},
   "outputs": [
    {
     "name": "stdout",
     "output_type": "stream",
     "text": [
      "Train on 7553 samples, validate on 1889 samples\n",
      "Epoch 1/36\n",
      "7553/7553 [==============================] - 15s 2ms/step - loss: 2.4471 - acc: 0.4229 - val_loss: 1.3333 - val_acc: 0.6496\n",
      "Epoch 2/36\n",
      "7553/7553 [==============================] - 14s 2ms/step - loss: 1.3037 - acc: 0.6567 - val_loss: 0.9006 - val_acc: 0.7485\n",
      "Epoch 3/36\n",
      "7553/7553 [==============================] - 14s 2ms/step - loss: 0.9356 - acc: 0.7470 - val_loss: 0.6884 - val_acc: 0.8163\n",
      "Epoch 4/36\n",
      "7553/7553 [==============================] - 13s 2ms/step - loss: 0.7435 - acc: 0.7977 - val_loss: 0.5821 - val_acc: 0.8465\n",
      "Epoch 5/36\n",
      "7553/7553 [==============================] - 13s 2ms/step - loss: 0.5762 - acc: 0.8424 - val_loss: 0.5023 - val_acc: 0.8602\n",
      "Epoch 6/36\n",
      "7553/7553 [==============================] - 13s 2ms/step - loss: 0.4692 - acc: 0.8740 - val_loss: 0.4387 - val_acc: 0.8862\n",
      "Epoch 7/36\n",
      "7553/7553 [==============================] - 14s 2ms/step - loss: 0.3884 - acc: 0.8987 - val_loss: 0.4193 - val_acc: 0.8894\n",
      "Epoch 8/36\n",
      "7553/7553 [==============================] - 13s 2ms/step - loss: 0.3148 - acc: 0.9198 - val_loss: 0.3886 - val_acc: 0.8957\n",
      "Epoch 9/36\n",
      "7553/7553 [==============================] - 13s 2ms/step - loss: 0.2676 - acc: 0.9289 - val_loss: 0.3677 - val_acc: 0.9010\n",
      "Epoch 10/36\n",
      "7553/7553 [==============================] - 14s 2ms/step - loss: 0.2213 - acc: 0.9400 - val_loss: 0.3552 - val_acc: 0.9137\n",
      "Epoch 11/36\n",
      "7553/7553 [==============================] - 13s 2ms/step - loss: 0.2093 - acc: 0.9415 - val_loss: 0.3356 - val_acc: 0.9100\n",
      "Epoch 12/36\n",
      "7553/7553 [==============================] - 13s 2ms/step - loss: 0.1627 - acc: 0.9558 - val_loss: 0.3323 - val_acc: 0.9185\n",
      "Epoch 13/36\n",
      "7553/7553 [==============================] - 14s 2ms/step - loss: 0.1456 - acc: 0.9591 - val_loss: 0.3228 - val_acc: 0.9264\n",
      "Epoch 14/36\n",
      "7553/7553 [==============================] - 13s 2ms/step - loss: 0.1198 - acc: 0.9674 - val_loss: 0.3186 - val_acc: 0.9254\n",
      "Epoch 15/36\n",
      "7553/7553 [==============================] - 14s 2ms/step - loss: 0.1034 - acc: 0.9742 - val_loss: 0.3166 - val_acc: 0.9269\n",
      "Epoch 16/36\n",
      "7553/7553 [==============================] - 14s 2ms/step - loss: 0.0877 - acc: 0.9762 - val_loss: 0.3197 - val_acc: 0.9307\n",
      "Epoch 17/36\n",
      "7553/7553 [==============================] - 17s 2ms/step - loss: 0.0785 - acc: 0.9786 - val_loss: 0.3116 - val_acc: 0.9307\n",
      "Epoch 18/36\n",
      "7553/7553 [==============================] - 14s 2ms/step - loss: 0.0677 - acc: 0.9813 - val_loss: 0.3246 - val_acc: 0.9280\n",
      "Epoch 19/36\n",
      "7553/7553 [==============================] - 14s 2ms/step - loss: 0.0589 - acc: 0.9842 - val_loss: 0.3199 - val_acc: 0.9333\n",
      "Epoch 20/36\n",
      "7553/7553 [==============================] - 14s 2ms/step - loss: 0.0528 - acc: 0.9862 - val_loss: 0.3210 - val_acc: 0.9312\n",
      "Epoch 21/36\n",
      "7553/7553 [==============================] - 14s 2ms/step - loss: 0.0473 - acc: 0.9890 - val_loss: 0.3145 - val_acc: 0.9317\n",
      "Epoch 22/36\n",
      "7553/7553 [==============================] - 15s 2ms/step - loss: 0.0454 - acc: 0.9877 - val_loss: 0.3163 - val_acc: 0.9338\n",
      "Epoch 23/36\n",
      "7553/7553 [==============================] - 14s 2ms/step - loss: 0.0430 - acc: 0.9885 - val_loss: 0.3240 - val_acc: 0.9344\n",
      "Epoch 24/36\n",
      "7553/7553 [==============================] - 14s 2ms/step - loss: 0.0337 - acc: 0.9921 - val_loss: 0.3179 - val_acc: 0.9354\n",
      "Epoch 25/36\n",
      "7553/7553 [==============================] - 14s 2ms/step - loss: 0.0340 - acc: 0.9915 - val_loss: 0.3319 - val_acc: 0.9354\n",
      "Epoch 26/36\n",
      "7553/7553 [==============================] - 14s 2ms/step - loss: 0.0350 - acc: 0.9915 - val_loss: 0.3446 - val_acc: 0.9354\n",
      "Epoch 27/36\n",
      "7553/7553 [==============================] - 14s 2ms/step - loss: 0.0317 - acc: 0.9902 - val_loss: 0.3514 - val_acc: 0.9322\n",
      "Epoch 28/36\n",
      "7553/7553 [==============================] - 16s 2ms/step - loss: 0.0246 - acc: 0.9940 - val_loss: 0.3467 - val_acc: 0.9365\n",
      "Epoch 29/36\n",
      "7553/7553 [==============================] - 14s 2ms/step - loss: 0.0208 - acc: 0.9939 - val_loss: 0.3599 - val_acc: 0.9344\n",
      "Epoch 30/36\n",
      "7553/7553 [==============================] - 14s 2ms/step - loss: 0.0221 - acc: 0.9936 - val_loss: 0.3521 - val_acc: 0.9328\n",
      "Epoch 31/36\n",
      "7553/7553 [==============================] - 14s 2ms/step - loss: 0.0213 - acc: 0.9944 - val_loss: 0.3429 - val_acc: 0.9391\n",
      "Epoch 32/36\n",
      "7553/7553 [==============================] - 14s 2ms/step - loss: 0.0212 - acc: 0.9939 - val_loss: 0.3631 - val_acc: 0.9349\n",
      "Epoch 33/36\n",
      "7553/7553 [==============================] - 14s 2ms/step - loss: 0.0162 - acc: 0.9959 - val_loss: 0.3669 - val_acc: 0.9349\n",
      "Epoch 34/36\n",
      "7553/7553 [==============================] - 14s 2ms/step - loss: 0.0164 - acc: 0.9959 - val_loss: 0.3562 - val_acc: 0.9344\n",
      "Epoch 35/36\n",
      "7553/7553 [==============================] - 17s 2ms/step - loss: 0.0160 - acc: 0.9954 - val_loss: 0.3663 - val_acc: 0.9322\n",
      "Epoch 36/36\n",
      "7553/7553 [==============================] - 13s 2ms/step - loss: 0.0164 - acc: 0.9955 - val_loss: 0.3684 - val_acc: 0.9328\n"
     ]
    },
    {
     "data": {
      "text/plain": [
       "<keras.callbacks.History at 0x7fa2e0730550>"
      ]
     },
     "execution_count": 162,
     "metadata": {},
     "output_type": "execute_result"
    }
   ],
   "source": [
    "model_2.fit(X_train_pad,Y_train_coded,batch_size=64,epochs=36,\n",
    "          validation_split=0.2)"
   ]
  },
  {
   "cell_type": "code",
   "execution_count": 163,
   "metadata": {},
   "outputs": [
    {
     "name": "stdout",
     "output_type": "stream",
     "text": [
      "2361/2361 [==============================] - 1s 473us/step\n",
      "Test set\n",
      "  Loss: 0.363\n",
      "  Accuracy: 0.931\n"
     ]
    }
   ],
   "source": [
    "#test_sequences = tok.texts_to_sequences(X_test)\n",
    "#test_sequences_matrix = sequence.pad_sequences(test_sequences,maxlen=max_len)\n",
    "accr = model_2.evaluate(X_test_pad,Y_test_coded)\n",
    "print('Test set\\n  Loss: {:0.3f}\\n  Accuracy: {:0.3f}'.format(accr[0],accr[1]))"
   ]
  },
  {
   "cell_type": "code",
   "execution_count": 108,
   "metadata": {},
   "outputs": [
    {
     "name": "stdout",
     "output_type": "stream",
     "text": [
      "(39,)\n",
      "(2361, 39)\n",
      "(39, 1)\n"
     ]
    }
   ],
   "source": [
    "#pred_iction = model_2.predict(X_test_pad[0])\n",
    "print(X_test_pad[0].shape)\n",
    "print(X_test_pad.shape)\n",
    "aaa = X_test_pad[0].reshape(39,1)\n",
    "print(aaa.shape)"
   ]
  },
  {
   "cell_type": "code",
   "execution_count": 130,
   "metadata": {},
   "outputs": [
    {
     "name": "stdout",
     "output_type": "stream",
     "text": [
      "[[6873  162 1575 ...    0    0    0]\n",
      " [ 206    5   50 ...    0    0    0]\n",
      " [ 597   46   82 ...    0    0    0]\n",
      " ...\n",
      " [   6   92  159 ...    0    0    0]\n",
      " [  20    9  136 ...    0    0    0]\n",
      " [  68 1409  699 ...    0    0    0]]\n"
     ]
    }
   ],
   "source": [
    "print([X_test_pad][0])"
   ]
  },
  {
   "cell_type": "code",
   "execution_count": 125,
   "metadata": {},
   "outputs": [
    {
     "name": "stdout",
     "output_type": "stream",
     "text": [
      "[ 206    5   50 7746  840    0    0    0    0    0    0    0    0    0\n",
      "    0    0    0    0    0    0    0    0    0    0    0    0    0    0\n",
      "    0    0    0    0    0    0    0    0    0    0    0]\n"
     ]
    }
   ],
   "source": [
    "print(X_test_pad[1])"
   ]
  },
  {
   "cell_type": "code",
   "execution_count": 134,
   "metadata": {},
   "outputs": [
    {
     "name": "stdout",
     "output_type": "stream",
     "text": [
      "[2.43695065e-13 5.37912215e-11 6.06054513e-14 1.58411409e-11\n",
      " 3.62898242e-13 3.07999654e-12 1.80659944e-13 7.98073155e-14\n",
      " 2.48591037e-10 8.95355734e-10 5.61677198e-11 2.49392304e-13\n",
      " 5.67071000e-12 9.73222963e-16 9.79940296e-11 9.85307036e-09\n",
      " 7.43214934e-11 6.00585448e-09 2.84825691e-10 1.18157439e-09\n",
      " 3.32950654e-13 8.60682375e-14 6.53146735e-16 4.27782375e-12\n",
      " 8.61340166e-12 1.55950621e-12 5.95001002e-12 2.48350971e-12\n",
      " 7.43745939e-13 3.18562612e-15 1.34125052e-13 5.68245483e-13\n",
      " 9.99999404e-01 3.40822481e-08 4.58213155e-12 1.57077355e-11\n",
      " 2.80499108e-07 2.46402183e-13 6.62316957e-09 3.17122935e-14\n",
      " 5.72866199e-09 1.58481908e-10 2.00847380e-16 3.10599688e-07\n",
      " 1.40421647e-10 7.88168975e-11 2.69482922e-14 1.05637173e-10\n",
      " 1.26338556e-14 2.54071585e-13 4.12701096e-13 3.03979135e-08\n",
      " 3.66830812e-17 4.13453669e-16 5.29142456e-15 1.92841840e-10\n",
      " 2.86646087e-13 6.45367426e-16 1.17023458e-09 5.59293237e-11\n",
      " 5.30485248e-12 7.18299443e-13 2.55449429e-11 2.64648465e-14\n",
      " 1.26343805e-11 7.79342004e-14 1.12341438e-11]\n"
     ]
    }
   ],
   "source": [
    "pr = [model_2.predict([X_test_pad][0])][0][0]\n",
    "aaa = [model_2.predict([X_test_pad][0])][0][1]\n",
    "print(aaa)"
   ]
  },
  {
   "cell_type": "code",
   "execution_count": 91,
   "metadata": {},
   "outputs": [
    {
     "name": "stdout",
     "output_type": "stream",
     "text": [
      "<class 'numpy.ndarray'>\n",
      "<class 'numpy.ndarray'>\n",
      "=====================\n",
      "(39,)\n",
      "(2361, 39)\n"
     ]
    }
   ],
   "source": [
    "print(type(X_test_pad[0]))\n",
    "print(type([X_test_pad][0]))\n",
    "print('=====================')\n",
    "print((X_test_pad[0]).shape)\n",
    "print(([X_test_pad][0]).shape)"
   ]
  },
  {
   "cell_type": "code",
   "execution_count": 135,
   "metadata": {},
   "outputs": [
    {
     "name": "stdout",
     "output_type": "stream",
     "text": [
      "(67,)\n",
      "[6.4785499e-06 6.2430248e-11 5.0905498e-08 1.4635412e-12 2.6252878e-12\n",
      " 1.0080431e-11 5.6519306e-10 1.4289529e-06 6.9042760e-10 1.7831733e-10\n",
      " 2.1181404e-10 1.2298527e-14 1.6803699e-12 1.5196718e-09 9.9246371e-09\n",
      " 5.9822971e-12 8.0213539e-08 4.2344413e-06 7.4888703e-08 2.1124679e-06\n",
      " 1.0061122e-12 2.1798749e-09 1.2109756e-13 5.4485174e-14 1.6755372e-12\n",
      " 1.8148221e-11 7.0184125e-09 4.6026533e-10 6.5030742e-10 2.3398725e-10\n",
      " 1.1460697e-09 3.3852853e-12 4.0140020e-09 1.0219968e-05 3.0548208e-06\n",
      " 1.3218934e-13 4.5816320e-10 5.3340515e-10 5.3676023e-16 5.6870773e-13\n",
      " 8.1808907e-11 5.9328343e-08 1.4899115e-06 5.6519839e-14 5.8173253e-09\n",
      " 3.7106645e-07 4.4050662e-12 8.2427898e-11 8.2608983e-07 2.7882590e-11\n",
      " 1.1674641e-09 2.3090813e-14 1.1537603e-11 1.0172010e-09 1.7543336e-13\n",
      " 3.6769111e-14 3.6106526e-10 6.2531993e-12 5.3707188e-11 7.2918711e-13\n",
      " 3.3740302e-12 9.9996948e-01 2.1328434e-11 5.9378920e-09 7.5311508e-09\n",
      " 1.7534629e-14 8.5223384e-11]\n"
     ]
    }
   ],
   "source": [
    "print(pr.shape)\n",
    "print(pr)\n",
    "ppr = pr.reshape(1,67)\n",
    "paaa = aaa.reshape(1,67)"
   ]
  },
  {
   "cell_type": "code",
   "execution_count": 136,
   "metadata": {},
   "outputs": [],
   "source": [
    "#ppp = [encoder.inverse_transform([Y_test_coded][0])][0][0]\n",
    "\n",
    "ppp = encoder.inverse_transform([ppr][0])[0]\n",
    "aaap = encoder.inverse_transform([paaa][0])[0]"
   ]
  },
  {
   "cell_type": "code",
   "execution_count": 137,
   "metadata": {},
   "outputs": [
    {
     "name": "stdout",
     "output_type": "stream",
     "text": [
      "tool\n",
      "metalsheet\n"
     ]
    }
   ],
   "source": [
    "print(ppp)\n",
    "print(aaap)"
   ]
  },
  {
   "cell_type": "code",
   "execution_count": null,
   "metadata": {},
   "outputs": [],
   "source": [
    "model = Sequential()\n",
    "model.add(Embedding(top_words, embedding_vecor_length, input_length=max_review_length))\n",
    "model.add(Conv1D(filters=32, kernel_size=3, padding='same', activation='relu'))\n",
    "model.add(MaxPooling1D(pool_size=2))\n",
    "model.add(LSTM(100))\n",
    "model.add(Dense(1, activation='sigmoid'))\n"
   ]
  },
  {
   "cell_type": "code",
   "execution_count": 225,
   "metadata": {},
   "outputs": [],
   "source": [
    "text = ['solenoid coil']"
   ]
  },
  {
   "cell_type": "code",
   "execution_count": 226,
   "metadata": {},
   "outputs": [],
   "source": [
    "text_tokens = tokenizer_obj_lab.texts_to_sequences(text)\n",
    "#X_test_tokens = tokenizer_obj_lab.texts_to_sequences(X_test)\n",
    "\n",
    "text_pad = pad_sequences(text_tokens, maxlen = max_length_labelled, padding = 'post')\n",
    "#X_test_pad = pad_sequences(X_test_tokens, maxlen = max_length_labelled, padding = 'post')\n"
   ]
  },
  {
   "cell_type": "code",
   "execution_count": 227,
   "metadata": {},
   "outputs": [],
   "source": [
    "b = [model_2.predict([text_pad][0])][0][0]"
   ]
  },
  {
   "cell_type": "code",
   "execution_count": 228,
   "metadata": {},
   "outputs": [],
   "source": [
    "bb = b.reshape(1,67)"
   ]
  },
  {
   "cell_type": "code",
   "execution_count": 229,
   "metadata": {},
   "outputs": [],
   "source": [
    "pred = encoder.inverse_transform([bb][0])[0]"
   ]
  },
  {
   "cell_type": "code",
   "execution_count": 230,
   "metadata": {},
   "outputs": [
    {
     "name": "stdout",
     "output_type": "stream",
     "text": [
      "cooling\n"
     ]
    }
   ],
   "source": [
    "print(pred)"
   ]
  },
  {
   "cell_type": "code",
   "execution_count": null,
   "metadata": {},
   "outputs": [],
   "source": []
  }
 ],
 "metadata": {
  "kernelspec": {
   "display_name": "Python 3",
   "language": "python",
   "name": "python3"
  },
  "language_info": {
   "codemirror_mode": {
    "name": "ipython",
    "version": 3
   },
   "file_extension": ".py",
   "mimetype": "text/x-python",
   "name": "python",
   "nbconvert_exporter": "python",
   "pygments_lexer": "ipython3",
   "version": "3.5.2+"
  }
 },
 "nbformat": 4,
 "nbformat_minor": 2
}
