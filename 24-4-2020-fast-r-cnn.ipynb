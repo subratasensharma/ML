{
 "cells": [
  {
   "cell_type": "code",
   "execution_count": null,
   "metadata": {},
   "outputs": [],
   "source": [
    "# https://www.analyticsvidhya.com/blog/2018/11/implementation-faster-r-cnn-python-object-detection/"
   ]
  },
  {
   "cell_type": "code",
   "execution_count": 1,
   "metadata": {},
   "outputs": [],
   "source": [
    "import os, sys, random\n",
    "import xml.etree.ElementTree as ET\n",
    "from glob import glob\n",
    "import pandas as pd\n",
    "from shutil import copyfile\n"
   ]
  },
  {
   "cell_type": "code",
   "execution_count": 2,
   "metadata": {},
   "outputs": [
    {
     "data": {
      "text/plain": [
       "'/home/scar3crow/Dropbox/WorkStation-Subrata/python'"
      ]
     },
     "execution_count": 2,
     "metadata": {},
     "output_type": "execute_result"
    }
   ],
   "source": [
    "pwd"
   ]
  },
  {
   "cell_type": "code",
   "execution_count": 12,
   "metadata": {},
   "outputs": [
    {
     "name": "stdout",
     "output_type": "stream",
     "text": [
      "Populating the interactive namespace from numpy and matplotlib\n"
     ]
    },
    {
     "name": "stderr",
     "output_type": "stream",
     "text": [
      "/home/scar3crow/Dropbox/WorkStation-Subrata/python/venv1/lib/python3.5/site-packages/IPython/core/magics/pylab.py:160: UserWarning: pylab import has clobbered these variables: ['random']\n",
      "`%matplotlib` prevents importing * from pylab and numpy\n",
      "  \"\\n`%matplotlib` prevents importing * from pylab and numpy\"\n"
     ]
    }
   ],
   "source": [
    "%pylab inline\n",
    "\n",
    "import os, sys, random\n",
    "import xml.etree.ElementTree as ET\n",
    "from glob import glob\n",
    "import pandas as pd\n",
    "from shutil import copyfile\n",
    "\n",
    "annotations = glob('/home/scar3crow/Downloads/BCCD_Dataset-master/BCCD/Annotations/*.xml')\n",
    "\n",
    "df = []\n",
    "cnt = 0\n",
    "for file in annotations:\n",
    "    prev_filename = file.split('/')[-1].split('.')[0] + '.jpg'\n",
    "    filename = str(cnt) + '.jpg'\n",
    "    row = []\n",
    "    parsedXML = ET.parse(file)\n",
    "    for node in parsedXML.getroot().iter('object'):\n",
    "        blood_cells = node.find('name').text\n",
    "        xmin = int(node.find('bndbox/xmin').text)\n",
    "        xmax = int(node.find('bndbox/xmax').text)\n",
    "        ymin = int(node.find('bndbox/ymin').text)\n",
    "        ymax = int(node.find('bndbox/ymax').text)\n",
    "\n",
    "        row = [prev_filename, filename, blood_cells, xmin, xmax,\n",
    "        ymin, ymax]\n",
    "    df.append(row)\n",
    "    cnt += 1\n",
    "\n",
    "data = pd.DataFrame(df, columns=['prev_filename', 'filename', 'cell_type',\n",
    "'xmin', 'xmax', 'ymin', 'ymax'])\n",
    "\n",
    "data[['filename', 'cell_type', 'xmin', 'xmax', 'ymin', 'ymax']].to_csv('blood_cell_detection.csv', index=False)\n",
    "\n",
    "\n"
   ]
  },
  {
   "cell_type": "code",
   "execution_count": null,
   "metadata": {},
   "outputs": [],
   "source": []
  },
  {
   "cell_type": "code",
   "execution_count": 41,
   "metadata": {},
   "outputs": [
    {
     "data": {
      "text/html": [
       "<div>\n",
       "<style scoped>\n",
       "    .dataframe tbody tr th:only-of-type {\n",
       "        vertical-align: middle;\n",
       "    }\n",
       "\n",
       "    .dataframe tbody tr th {\n",
       "        vertical-align: top;\n",
       "    }\n",
       "\n",
       "    .dataframe thead th {\n",
       "        text-align: right;\n",
       "    }\n",
       "</style>\n",
       "<table border=\"1\" class=\"dataframe\">\n",
       "  <thead>\n",
       "    <tr style=\"text-align: right;\">\n",
       "      <th></th>\n",
       "      <th>prev_filename</th>\n",
       "      <th>filename</th>\n",
       "      <th>cell_type</th>\n",
       "      <th>xmin</th>\n",
       "      <th>xmax</th>\n",
       "      <th>ymin</th>\n",
       "      <th>ymax</th>\n",
       "    </tr>\n",
       "  </thead>\n",
       "  <tbody>\n",
       "    <tr>\n",
       "      <th>0</th>\n",
       "      <td>BloodImage_00111.jpg</td>\n",
       "      <td>0.jpg</td>\n",
       "      <td>Platelets</td>\n",
       "      <td>360</td>\n",
       "      <td>395</td>\n",
       "      <td>85</td>\n",
       "      <td>115</td>\n",
       "    </tr>\n",
       "    <tr>\n",
       "      <th>1</th>\n",
       "      <td>BloodImage_00057.jpg</td>\n",
       "      <td>1.jpg</td>\n",
       "      <td>RBC</td>\n",
       "      <td>410</td>\n",
       "      <td>503</td>\n",
       "      <td>290</td>\n",
       "      <td>390</td>\n",
       "    </tr>\n",
       "    <tr>\n",
       "      <th>2</th>\n",
       "      <td>BloodImage_00371.jpg</td>\n",
       "      <td>2.jpg</td>\n",
       "      <td>WBC</td>\n",
       "      <td>175</td>\n",
       "      <td>389</td>\n",
       "      <td>87</td>\n",
       "      <td>298</td>\n",
       "    </tr>\n",
       "    <tr>\n",
       "      <th>3</th>\n",
       "      <td>BloodImage_00020.jpg</td>\n",
       "      <td>3.jpg</td>\n",
       "      <td>Platelets</td>\n",
       "      <td>80</td>\n",
       "      <td>115</td>\n",
       "      <td>128</td>\n",
       "      <td>161</td>\n",
       "    </tr>\n",
       "    <tr>\n",
       "      <th>4</th>\n",
       "      <td>BloodImage_00178.jpg</td>\n",
       "      <td>4.jpg</td>\n",
       "      <td>RBC</td>\n",
       "      <td>122</td>\n",
       "      <td>237</td>\n",
       "      <td>319</td>\n",
       "      <td>413</td>\n",
       "    </tr>\n",
       "  </tbody>\n",
       "</table>\n",
       "</div>"
      ],
      "text/plain": [
       "          prev_filename filename  cell_type  xmin  xmax  ymin  ymax\n",
       "0  BloodImage_00111.jpg    0.jpg  Platelets   360   395    85   115\n",
       "1  BloodImage_00057.jpg    1.jpg        RBC   410   503   290   390\n",
       "2  BloodImage_00371.jpg    2.jpg        WBC   175   389    87   298\n",
       "3  BloodImage_00020.jpg    3.jpg  Platelets    80   115   128   161\n",
       "4  BloodImage_00178.jpg    4.jpg        RBC   122   237   319   413"
      ]
     },
     "execution_count": 41,
     "metadata": {},
     "output_type": "execute_result"
    }
   ],
   "source": [
    "data.head()"
   ]
  },
  {
   "cell_type": "code",
   "execution_count": 42,
   "metadata": {},
   "outputs": [
    {
     "data": {
      "text/plain": [
       "364"
      ]
     },
     "execution_count": 42,
     "metadata": {},
     "output_type": "execute_result"
    }
   ],
   "source": [
    "len(data)"
   ]
  },
  {
   "cell_type": "code",
   "execution_count": 43,
   "metadata": {},
   "outputs": [
    {
     "ename": "FileNotFoundError",
     "evalue": "File b'test.csv' does not exist",
     "output_type": "error",
     "traceback": [
      "\u001b[0;31m---------------------------------------------------------------------------\u001b[0m",
      "\u001b[0;31mFileNotFoundError\u001b[0m                         Traceback (most recent call last)",
      "\u001b[0;32m<ipython-input-43-1e3b0c17529f>\u001b[0m in \u001b[0;36m<module>\u001b[0;34m()\u001b[0m\n\u001b[0;32m----> 1\u001b[0;31m \u001b[0mall_data_blood\u001b[0m \u001b[0;34m=\u001b[0m \u001b[0mpd\u001b[0m\u001b[0;34m.\u001b[0m\u001b[0mread_csv\u001b[0m\u001b[0;34m(\u001b[0m\u001b[0;34m'test.csv'\u001b[0m\u001b[0;34m)\u001b[0m\u001b[0;34m\u001b[0m\u001b[0m\n\u001b[0m\u001b[1;32m      2\u001b[0m \u001b[0mprint\u001b[0m\u001b[0;34m(\u001b[0m\u001b[0;34m'Total no. of images = '\u001b[0m\u001b[0;34m,\u001b[0m \u001b[0mall_data_blood\u001b[0m\u001b[0;34m[\u001b[0m\u001b[0;34m'filename'\u001b[0m\u001b[0;34m]\u001b[0m\u001b[0;34m.\u001b[0m\u001b[0mnunique\u001b[0m\u001b[0;34m(\u001b[0m\u001b[0;34m)\u001b[0m\u001b[0;34m)\u001b[0m\u001b[0;34m\u001b[0m\u001b[0m\n\u001b[1;32m      3\u001b[0m \u001b[0mprint\u001b[0m\u001b[0;34m(\u001b[0m\u001b[0;34m'Total no. of data = '\u001b[0m\u001b[0;34m,\u001b[0m \u001b[0mlen\u001b[0m\u001b[0;34m(\u001b[0m\u001b[0mall_data_blood\u001b[0m\u001b[0;34m)\u001b[0m\u001b[0;34m)\u001b[0m\u001b[0;34m\u001b[0m\u001b[0m\n",
      "\u001b[0;32m~/Dropbox/WorkStation-Subrata/python/venv1/lib/python3.5/site-packages/pandas/io/parsers.py\u001b[0m in \u001b[0;36mparser_f\u001b[0;34m(filepath_or_buffer, sep, delimiter, header, names, index_col, usecols, squeeze, prefix, mangle_dupe_cols, dtype, engine, converters, true_values, false_values, skipinitialspace, skiprows, nrows, na_values, keep_default_na, na_filter, verbose, skip_blank_lines, parse_dates, infer_datetime_format, keep_date_col, date_parser, dayfirst, iterator, chunksize, compression, thousands, decimal, lineterminator, quotechar, quoting, escapechar, comment, encoding, dialect, tupleize_cols, error_bad_lines, warn_bad_lines, skipfooter, doublequote, delim_whitespace, low_memory, memory_map, float_precision)\u001b[0m\n\u001b[1;32m    676\u001b[0m                     skip_blank_lines=skip_blank_lines)\n\u001b[1;32m    677\u001b[0m \u001b[0;34m\u001b[0m\u001b[0m\n\u001b[0;32m--> 678\u001b[0;31m         \u001b[0;32mreturn\u001b[0m \u001b[0m_read\u001b[0m\u001b[0;34m(\u001b[0m\u001b[0mfilepath_or_buffer\u001b[0m\u001b[0;34m,\u001b[0m \u001b[0mkwds\u001b[0m\u001b[0;34m)\u001b[0m\u001b[0;34m\u001b[0m\u001b[0m\n\u001b[0m\u001b[1;32m    679\u001b[0m \u001b[0;34m\u001b[0m\u001b[0m\n\u001b[1;32m    680\u001b[0m     \u001b[0mparser_f\u001b[0m\u001b[0;34m.\u001b[0m\u001b[0m__name__\u001b[0m \u001b[0;34m=\u001b[0m \u001b[0mname\u001b[0m\u001b[0;34m\u001b[0m\u001b[0m\n",
      "\u001b[0;32m~/Dropbox/WorkStation-Subrata/python/venv1/lib/python3.5/site-packages/pandas/io/parsers.py\u001b[0m in \u001b[0;36m_read\u001b[0;34m(filepath_or_buffer, kwds)\u001b[0m\n\u001b[1;32m    438\u001b[0m \u001b[0;34m\u001b[0m\u001b[0m\n\u001b[1;32m    439\u001b[0m     \u001b[0;31m# Create the parser.\u001b[0m\u001b[0;34m\u001b[0m\u001b[0;34m\u001b[0m\u001b[0m\n\u001b[0;32m--> 440\u001b[0;31m     \u001b[0mparser\u001b[0m \u001b[0;34m=\u001b[0m \u001b[0mTextFileReader\u001b[0m\u001b[0;34m(\u001b[0m\u001b[0mfilepath_or_buffer\u001b[0m\u001b[0;34m,\u001b[0m \u001b[0;34m**\u001b[0m\u001b[0mkwds\u001b[0m\u001b[0;34m)\u001b[0m\u001b[0;34m\u001b[0m\u001b[0m\n\u001b[0m\u001b[1;32m    441\u001b[0m \u001b[0;34m\u001b[0m\u001b[0m\n\u001b[1;32m    442\u001b[0m     \u001b[0;32mif\u001b[0m \u001b[0mchunksize\u001b[0m \u001b[0;32mor\u001b[0m \u001b[0miterator\u001b[0m\u001b[0;34m:\u001b[0m\u001b[0;34m\u001b[0m\u001b[0m\n",
      "\u001b[0;32m~/Dropbox/WorkStation-Subrata/python/venv1/lib/python3.5/site-packages/pandas/io/parsers.py\u001b[0m in \u001b[0;36m__init__\u001b[0;34m(self, f, engine, **kwds)\u001b[0m\n\u001b[1;32m    785\u001b[0m             \u001b[0mself\u001b[0m\u001b[0;34m.\u001b[0m\u001b[0moptions\u001b[0m\u001b[0;34m[\u001b[0m\u001b[0;34m'has_index_names'\u001b[0m\u001b[0;34m]\u001b[0m \u001b[0;34m=\u001b[0m \u001b[0mkwds\u001b[0m\u001b[0;34m[\u001b[0m\u001b[0;34m'has_index_names'\u001b[0m\u001b[0;34m]\u001b[0m\u001b[0;34m\u001b[0m\u001b[0m\n\u001b[1;32m    786\u001b[0m \u001b[0;34m\u001b[0m\u001b[0m\n\u001b[0;32m--> 787\u001b[0;31m         \u001b[0mself\u001b[0m\u001b[0;34m.\u001b[0m\u001b[0m_make_engine\u001b[0m\u001b[0;34m(\u001b[0m\u001b[0mself\u001b[0m\u001b[0;34m.\u001b[0m\u001b[0mengine\u001b[0m\u001b[0;34m)\u001b[0m\u001b[0;34m\u001b[0m\u001b[0m\n\u001b[0m\u001b[1;32m    788\u001b[0m \u001b[0;34m\u001b[0m\u001b[0m\n\u001b[1;32m    789\u001b[0m     \u001b[0;32mdef\u001b[0m \u001b[0mclose\u001b[0m\u001b[0;34m(\u001b[0m\u001b[0mself\u001b[0m\u001b[0;34m)\u001b[0m\u001b[0;34m:\u001b[0m\u001b[0;34m\u001b[0m\u001b[0m\n",
      "\u001b[0;32m~/Dropbox/WorkStation-Subrata/python/venv1/lib/python3.5/site-packages/pandas/io/parsers.py\u001b[0m in \u001b[0;36m_make_engine\u001b[0;34m(self, engine)\u001b[0m\n\u001b[1;32m   1012\u001b[0m     \u001b[0;32mdef\u001b[0m \u001b[0m_make_engine\u001b[0m\u001b[0;34m(\u001b[0m\u001b[0mself\u001b[0m\u001b[0;34m,\u001b[0m \u001b[0mengine\u001b[0m\u001b[0;34m=\u001b[0m\u001b[0;34m'c'\u001b[0m\u001b[0;34m)\u001b[0m\u001b[0;34m:\u001b[0m\u001b[0;34m\u001b[0m\u001b[0m\n\u001b[1;32m   1013\u001b[0m         \u001b[0;32mif\u001b[0m \u001b[0mengine\u001b[0m \u001b[0;34m==\u001b[0m \u001b[0;34m'c'\u001b[0m\u001b[0;34m:\u001b[0m\u001b[0;34m\u001b[0m\u001b[0m\n\u001b[0;32m-> 1014\u001b[0;31m             \u001b[0mself\u001b[0m\u001b[0;34m.\u001b[0m\u001b[0m_engine\u001b[0m \u001b[0;34m=\u001b[0m \u001b[0mCParserWrapper\u001b[0m\u001b[0;34m(\u001b[0m\u001b[0mself\u001b[0m\u001b[0;34m.\u001b[0m\u001b[0mf\u001b[0m\u001b[0;34m,\u001b[0m \u001b[0;34m**\u001b[0m\u001b[0mself\u001b[0m\u001b[0;34m.\u001b[0m\u001b[0moptions\u001b[0m\u001b[0;34m)\u001b[0m\u001b[0;34m\u001b[0m\u001b[0m\n\u001b[0m\u001b[1;32m   1015\u001b[0m         \u001b[0;32melse\u001b[0m\u001b[0;34m:\u001b[0m\u001b[0;34m\u001b[0m\u001b[0m\n\u001b[1;32m   1016\u001b[0m             \u001b[0;32mif\u001b[0m \u001b[0mengine\u001b[0m \u001b[0;34m==\u001b[0m \u001b[0;34m'python'\u001b[0m\u001b[0;34m:\u001b[0m\u001b[0;34m\u001b[0m\u001b[0m\n",
      "\u001b[0;32m~/Dropbox/WorkStation-Subrata/python/venv1/lib/python3.5/site-packages/pandas/io/parsers.py\u001b[0m in \u001b[0;36m__init__\u001b[0;34m(self, src, **kwds)\u001b[0m\n\u001b[1;32m   1706\u001b[0m         \u001b[0mkwds\u001b[0m\u001b[0;34m[\u001b[0m\u001b[0;34m'usecols'\u001b[0m\u001b[0;34m]\u001b[0m \u001b[0;34m=\u001b[0m \u001b[0mself\u001b[0m\u001b[0;34m.\u001b[0m\u001b[0musecols\u001b[0m\u001b[0;34m\u001b[0m\u001b[0m\n\u001b[1;32m   1707\u001b[0m \u001b[0;34m\u001b[0m\u001b[0m\n\u001b[0;32m-> 1708\u001b[0;31m         \u001b[0mself\u001b[0m\u001b[0;34m.\u001b[0m\u001b[0m_reader\u001b[0m \u001b[0;34m=\u001b[0m \u001b[0mparsers\u001b[0m\u001b[0;34m.\u001b[0m\u001b[0mTextReader\u001b[0m\u001b[0;34m(\u001b[0m\u001b[0msrc\u001b[0m\u001b[0;34m,\u001b[0m \u001b[0;34m**\u001b[0m\u001b[0mkwds\u001b[0m\u001b[0;34m)\u001b[0m\u001b[0;34m\u001b[0m\u001b[0m\n\u001b[0m\u001b[1;32m   1709\u001b[0m \u001b[0;34m\u001b[0m\u001b[0m\n\u001b[1;32m   1710\u001b[0m         \u001b[0mpassed_names\u001b[0m \u001b[0;34m=\u001b[0m \u001b[0mself\u001b[0m\u001b[0;34m.\u001b[0m\u001b[0mnames\u001b[0m \u001b[0;32mis\u001b[0m \u001b[0;32mNone\u001b[0m\u001b[0;34m\u001b[0m\u001b[0m\n",
      "\u001b[0;32mpandas/_libs/parsers.pyx\u001b[0m in \u001b[0;36mpandas._libs.parsers.TextReader.__cinit__\u001b[0;34m()\u001b[0m\n",
      "\u001b[0;32mpandas/_libs/parsers.pyx\u001b[0m in \u001b[0;36mpandas._libs.parsers.TextReader._setup_parser_source\u001b[0;34m()\u001b[0m\n",
      "\u001b[0;31mFileNotFoundError\u001b[0m: File b'test.csv' does not exist"
     ]
    }
   ],
   "source": [
    "all_data_blood = pd.read_csv('test.csv')\n",
    "print('Total no. of images = ', all_data_blood['filename'].nunique())\n",
    "print('Total no. of data = ', len(all_data_blood))\n"
   ]
  },
  {
   "cell_type": "code",
   "execution_count": 7,
   "metadata": {},
   "outputs": [
    {
     "data": {
      "text/html": [
       "<div>\n",
       "<style scoped>\n",
       "    .dataframe tbody tr th:only-of-type {\n",
       "        vertical-align: middle;\n",
       "    }\n",
       "\n",
       "    .dataframe tbody tr th {\n",
       "        vertical-align: top;\n",
       "    }\n",
       "\n",
       "    .dataframe thead th {\n",
       "        text-align: right;\n",
       "    }\n",
       "</style>\n",
       "<table border=\"1\" class=\"dataframe\">\n",
       "  <thead>\n",
       "    <tr style=\"text-align: right;\">\n",
       "      <th></th>\n",
       "      <th>filename</th>\n",
       "      <th>cell_type</th>\n",
       "      <th>xmin</th>\n",
       "      <th>xmax</th>\n",
       "      <th>ymin</th>\n",
       "      <th>ymax</th>\n",
       "    </tr>\n",
       "  </thead>\n",
       "  <tbody>\n",
       "    <tr>\n",
       "      <th>0</th>\n",
       "      <td>BloodImage_00000.jpg</td>\n",
       "      <td>WBC</td>\n",
       "      <td>260</td>\n",
       "      <td>491</td>\n",
       "      <td>177</td>\n",
       "      <td>376</td>\n",
       "    </tr>\n",
       "    <tr>\n",
       "      <th>1</th>\n",
       "      <td>BloodImage_00000.jpg</td>\n",
       "      <td>RBC</td>\n",
       "      <td>78</td>\n",
       "      <td>184</td>\n",
       "      <td>336</td>\n",
       "      <td>435</td>\n",
       "    </tr>\n",
       "    <tr>\n",
       "      <th>2</th>\n",
       "      <td>BloodImage_00000.jpg</td>\n",
       "      <td>RBC</td>\n",
       "      <td>63</td>\n",
       "      <td>169</td>\n",
       "      <td>237</td>\n",
       "      <td>336</td>\n",
       "    </tr>\n",
       "  </tbody>\n",
       "</table>\n",
       "</div>"
      ],
      "text/plain": [
       "               filename cell_type  xmin  xmax  ymin  ymax\n",
       "0  BloodImage_00000.jpg       WBC   260   491   177   376\n",
       "1  BloodImage_00000.jpg       RBC    78   184   336   435\n",
       "2  BloodImage_00000.jpg       RBC    63   169   237   336"
      ]
     },
     "execution_count": 7,
     "metadata": {},
     "output_type": "execute_result"
    }
   ],
   "source": [
    "all_data_blood.head(3)"
   ]
  },
  {
   "cell_type": "code",
   "execution_count": 8,
   "metadata": {},
   "outputs": [
    {
     "data": {
      "text/html": [
       "<div>\n",
       "<style scoped>\n",
       "    .dataframe tbody tr th:only-of-type {\n",
       "        vertical-align: middle;\n",
       "    }\n",
       "\n",
       "    .dataframe tbody tr th {\n",
       "        vertical-align: top;\n",
       "    }\n",
       "\n",
       "    .dataframe thead th {\n",
       "        text-align: right;\n",
       "    }\n",
       "</style>\n",
       "<table border=\"1\" class=\"dataframe\">\n",
       "  <thead>\n",
       "    <tr style=\"text-align: right;\">\n",
       "      <th></th>\n",
       "      <th>previous</th>\n",
       "      <th>cell_type</th>\n",
       "      <th>xmin</th>\n",
       "      <th>xmax</th>\n",
       "      <th>ymin</th>\n",
       "      <th>ymax</th>\n",
       "    </tr>\n",
       "  </thead>\n",
       "  <tbody>\n",
       "    <tr>\n",
       "      <th>0</th>\n",
       "      <td>BloodImage_00000.jpg</td>\n",
       "      <td>WBC</td>\n",
       "      <td>260</td>\n",
       "      <td>491</td>\n",
       "      <td>177</td>\n",
       "      <td>376</td>\n",
       "    </tr>\n",
       "    <tr>\n",
       "      <th>1</th>\n",
       "      <td>BloodImage_00000.jpg</td>\n",
       "      <td>RBC</td>\n",
       "      <td>78</td>\n",
       "      <td>184</td>\n",
       "      <td>336</td>\n",
       "      <td>435</td>\n",
       "    </tr>\n",
       "    <tr>\n",
       "      <th>2</th>\n",
       "      <td>BloodImage_00000.jpg</td>\n",
       "      <td>RBC</td>\n",
       "      <td>63</td>\n",
       "      <td>169</td>\n",
       "      <td>237</td>\n",
       "      <td>336</td>\n",
       "    </tr>\n",
       "  </tbody>\n",
       "</table>\n",
       "</div>"
      ],
      "text/plain": [
       "               previous cell_type  xmin  xmax  ymin  ymax\n",
       "0  BloodImage_00000.jpg       WBC   260   491   177   376\n",
       "1  BloodImage_00000.jpg       RBC    78   184   336   435\n",
       "2  BloodImage_00000.jpg       RBC    63   169   237   336"
      ]
     },
     "execution_count": 8,
     "metadata": {},
     "output_type": "execute_result"
    }
   ],
   "source": [
    "all_data_blood.columns = ['previous', 'cell_type', 'xmin', 'xmax', 'ymin', 'ymax']\n",
    "all_data_blood.head(3)"
   ]
  },
  {
   "cell_type": "code",
   "execution_count": 9,
   "metadata": {},
   "outputs": [],
   "source": [
    "col_list = ['0']*len(all_data_blood)"
   ]
  },
  {
   "cell_type": "code",
   "execution_count": 10,
   "metadata": {},
   "outputs": [],
   "source": [
    "for j in range(len(data)):\n",
    "    \n",
    "    for i in range(len(all_data_blood)):\n",
    "    \n",
    "        if all_data_blood['previous'][i] == data['prev_filename'][j]:\n",
    "            col_list[i] = data['filename'][j]\n"
   ]
  },
  {
   "cell_type": "code",
   "execution_count": 11,
   "metadata": {},
   "outputs": [],
   "source": [
    "all_data_blood.insert(1, \"image_names\", col_list, True)"
   ]
  },
  {
   "cell_type": "code",
   "execution_count": 12,
   "metadata": {},
   "outputs": [
    {
     "data": {
      "text/html": [
       "<div>\n",
       "<style scoped>\n",
       "    .dataframe tbody tr th:only-of-type {\n",
       "        vertical-align: middle;\n",
       "    }\n",
       "\n",
       "    .dataframe tbody tr th {\n",
       "        vertical-align: top;\n",
       "    }\n",
       "\n",
       "    .dataframe thead th {\n",
       "        text-align: right;\n",
       "    }\n",
       "</style>\n",
       "<table border=\"1\" class=\"dataframe\">\n",
       "  <thead>\n",
       "    <tr style=\"text-align: right;\">\n",
       "      <th></th>\n",
       "      <th>previous</th>\n",
       "      <th>image_names</th>\n",
       "      <th>cell_type</th>\n",
       "      <th>xmin</th>\n",
       "      <th>xmax</th>\n",
       "      <th>ymin</th>\n",
       "      <th>ymax</th>\n",
       "    </tr>\n",
       "  </thead>\n",
       "  <tbody>\n",
       "    <tr>\n",
       "      <th>0</th>\n",
       "      <td>BloodImage_00000.jpg</td>\n",
       "      <td>272.jpg</td>\n",
       "      <td>WBC</td>\n",
       "      <td>260</td>\n",
       "      <td>491</td>\n",
       "      <td>177</td>\n",
       "      <td>376</td>\n",
       "    </tr>\n",
       "    <tr>\n",
       "      <th>1</th>\n",
       "      <td>BloodImage_00000.jpg</td>\n",
       "      <td>272.jpg</td>\n",
       "      <td>RBC</td>\n",
       "      <td>78</td>\n",
       "      <td>184</td>\n",
       "      <td>336</td>\n",
       "      <td>435</td>\n",
       "    </tr>\n",
       "    <tr>\n",
       "      <th>2</th>\n",
       "      <td>BloodImage_00000.jpg</td>\n",
       "      <td>272.jpg</td>\n",
       "      <td>RBC</td>\n",
       "      <td>63</td>\n",
       "      <td>169</td>\n",
       "      <td>237</td>\n",
       "      <td>336</td>\n",
       "    </tr>\n",
       "  </tbody>\n",
       "</table>\n",
       "</div>"
      ],
      "text/plain": [
       "               previous image_names cell_type  xmin  xmax  ymin  ymax\n",
       "0  BloodImage_00000.jpg     272.jpg       WBC   260   491   177   376\n",
       "1  BloodImage_00000.jpg     272.jpg       RBC    78   184   336   435\n",
       "2  BloodImage_00000.jpg     272.jpg       RBC    63   169   237   336"
      ]
     },
     "execution_count": 12,
     "metadata": {},
     "output_type": "execute_result"
    }
   ],
   "source": [
    "all_data_blood.head(3)"
   ]
  },
  {
   "cell_type": "code",
   "execution_count": 13,
   "metadata": {},
   "outputs": [
    {
     "name": "stdout",
     "output_type": "stream",
     "text": [
      "Total no. of images =  364\n",
      "Total no. of data =  4888\n"
     ]
    }
   ],
   "source": [
    "print('Total no. of images = ', all_data_blood['image_names'].nunique())\n",
    "print('Total no. of data = ', len(all_data_blood))"
   ]
  },
  {
   "cell_type": "code",
   "execution_count": 14,
   "metadata": {},
   "outputs": [
    {
     "name": "stdout",
     "output_type": "stream",
     "text": [
      "Total no. of train images =  254\n",
      "Total no. of test images =  110\n"
     ]
    }
   ],
   "source": [
    "train = all_data_blood[0:3406].reset_index()\n",
    "test = all_data_blood[3407:].reset_index()\n",
    "print('Total no. of train images = ', train['image_names'].nunique())\n",
    "print('Total no. of test images = ', test['image_names'].nunique())"
   ]
  },
  {
   "cell_type": "code",
   "execution_count": 15,
   "metadata": {},
   "outputs": [
    {
     "data": {
      "text/plain": [
       "3406"
      ]
     },
     "execution_count": 15,
     "metadata": {},
     "output_type": "execute_result"
    }
   ],
   "source": [
    "len(train)"
   ]
  },
  {
   "cell_type": "code",
   "execution_count": 16,
   "metadata": {},
   "outputs": [
    {
     "data": {
      "text/html": [
       "<div>\n",
       "<style scoped>\n",
       "    .dataframe tbody tr th:only-of-type {\n",
       "        vertical-align: middle;\n",
       "    }\n",
       "\n",
       "    .dataframe tbody tr th {\n",
       "        vertical-align: top;\n",
       "    }\n",
       "\n",
       "    .dataframe thead th {\n",
       "        text-align: right;\n",
       "    }\n",
       "</style>\n",
       "<table border=\"1\" class=\"dataframe\">\n",
       "  <thead>\n",
       "    <tr style=\"text-align: right;\">\n",
       "      <th></th>\n",
       "      <th>index</th>\n",
       "      <th>previous</th>\n",
       "      <th>image_names</th>\n",
       "      <th>cell_type</th>\n",
       "      <th>xmin</th>\n",
       "      <th>xmax</th>\n",
       "      <th>ymin</th>\n",
       "      <th>ymax</th>\n",
       "    </tr>\n",
       "  </thead>\n",
       "  <tbody>\n",
       "    <tr>\n",
       "      <th>0</th>\n",
       "      <td>3407</td>\n",
       "      <td>BloodImage_00288.jpg</td>\n",
       "      <td>170.jpg</td>\n",
       "      <td>RBC</td>\n",
       "      <td>67</td>\n",
       "      <td>163</td>\n",
       "      <td>359</td>\n",
       "      <td>452</td>\n",
       "    </tr>\n",
       "    <tr>\n",
       "      <th>1</th>\n",
       "      <td>3408</td>\n",
       "      <td>BloodImage_00288.jpg</td>\n",
       "      <td>170.jpg</td>\n",
       "      <td>RBC</td>\n",
       "      <td>339</td>\n",
       "      <td>435</td>\n",
       "      <td>387</td>\n",
       "      <td>480</td>\n",
       "    </tr>\n",
       "    <tr>\n",
       "      <th>2</th>\n",
       "      <td>3409</td>\n",
       "      <td>BloodImage_00288.jpg</td>\n",
       "      <td>170.jpg</td>\n",
       "      <td>RBC</td>\n",
       "      <td>407</td>\n",
       "      <td>520</td>\n",
       "      <td>328</td>\n",
       "      <td>422</td>\n",
       "    </tr>\n",
       "    <tr>\n",
       "      <th>3</th>\n",
       "      <td>3410</td>\n",
       "      <td>BloodImage_00288.jpg</td>\n",
       "      <td>170.jpg</td>\n",
       "      <td>RBC</td>\n",
       "      <td>444</td>\n",
       "      <td>544</td>\n",
       "      <td>229</td>\n",
       "      <td>321</td>\n",
       "    </tr>\n",
       "    <tr>\n",
       "      <th>4</th>\n",
       "      <td>3411</td>\n",
       "      <td>BloodImage_00288.jpg</td>\n",
       "      <td>170.jpg</td>\n",
       "      <td>RBC</td>\n",
       "      <td>420</td>\n",
       "      <td>522</td>\n",
       "      <td>126</td>\n",
       "      <td>223</td>\n",
       "    </tr>\n",
       "  </tbody>\n",
       "</table>\n",
       "</div>"
      ],
      "text/plain": [
       "   index              previous image_names cell_type  xmin  xmax  ymin  ymax\n",
       "0   3407  BloodImage_00288.jpg     170.jpg       RBC    67   163   359   452\n",
       "1   3408  BloodImage_00288.jpg     170.jpg       RBC   339   435   387   480\n",
       "2   3409  BloodImage_00288.jpg     170.jpg       RBC   407   520   328   422\n",
       "3   3410  BloodImage_00288.jpg     170.jpg       RBC   444   544   229   321\n",
       "4   3411  BloodImage_00288.jpg     170.jpg       RBC   420   522   126   223"
      ]
     },
     "execution_count": 16,
     "metadata": {},
     "output_type": "execute_result"
    }
   ],
   "source": [
    "test.head()"
   ]
  },
  {
   "cell_type": "code",
   "execution_count": 17,
   "metadata": {},
   "outputs": [],
   "source": [
    "train[['image_names', 'cell_type', 'xmin', 'xmax', 'ymin', 'ymax']].to_csv('train_blood.csv', index = False)"
   ]
  },
  {
   "cell_type": "code",
   "execution_count": 18,
   "metadata": {},
   "outputs": [],
   "source": [
    "import pandas as pd"
   ]
  },
  {
   "cell_type": "code",
   "execution_count": 19,
   "metadata": {},
   "outputs": [
    {
     "data": {
      "text/plain": [
       "(3406, 1)"
      ]
     },
     "execution_count": 19,
     "metadata": {},
     "output_type": "execute_result"
    }
   ],
   "source": [
    "exp_data = pd.DataFrame()\n",
    "exp_data['format'] = train['image_names']\n",
    "exp_data.shape"
   ]
  },
  {
   "cell_type": "code",
   "execution_count": 20,
   "metadata": {},
   "outputs": [
    {
     "data": {
      "text/plain": [
       "'272.jpg'"
      ]
     },
     "execution_count": 20,
     "metadata": {},
     "output_type": "execute_result"
    }
   ],
   "source": [
    "exp_data['format'][0]"
   ]
  },
  {
   "cell_type": "code",
   "execution_count": 21,
   "metadata": {},
   "outputs": [],
   "source": [
    "exp_data['format'][0] = 'train_images/' + exp_data['format'][0]"
   ]
  },
  {
   "cell_type": "code",
   "execution_count": 22,
   "metadata": {},
   "outputs": [
    {
     "data": {
      "text/plain": [
       "'272.jpg'"
      ]
     },
     "execution_count": 22,
     "metadata": {},
     "output_type": "execute_result"
    }
   ],
   "source": [
    "exp_data['format'][9]"
   ]
  },
  {
   "cell_type": "code",
   "execution_count": null,
   "metadata": {},
   "outputs": [],
   "source": []
  },
  {
   "cell_type": "code",
   "execution_count": 23,
   "metadata": {},
   "outputs": [],
   "source": [
    "exp_data = pd.DataFrame()\n",
    "exp_data['format'] = train['image_names']\n",
    "\n",
    "# as the images are in train_images folder, add train_images before the image name\n",
    "for i in range(exp_data.shape[0]):\n",
    "    exp_data['format'][i] = 'train_images/' + exp_data['format'][i]\n",
    "\n",
    "# add xmin, ymin, xmax, ymax and class as per the format required\n",
    "for i in range(exp_data.shape[0]):\n",
    "    exp_data['format'][i] = exp_data['format'][i] + ',' + str(train['xmin'][i]) + ',' + str(train['ymin'][i]) + ',' + str(train['xmax'][i]) + ',' + str(train['ymax'][i]) + ',' + train['cell_type'][i]\n",
    "\n",
    "exp_data.to_csv('train.txt', header=None, index=None, sep=' ')"
   ]
  },
  {
   "cell_type": "code",
   "execution_count": 24,
   "metadata": {},
   "outputs": [
    {
     "data": {
      "text/html": [
       "<div>\n",
       "<style scoped>\n",
       "    .dataframe tbody tr th:only-of-type {\n",
       "        vertical-align: middle;\n",
       "    }\n",
       "\n",
       "    .dataframe tbody tr th {\n",
       "        vertical-align: top;\n",
       "    }\n",
       "\n",
       "    .dataframe thead th {\n",
       "        text-align: right;\n",
       "    }\n",
       "</style>\n",
       "<table border=\"1\" class=\"dataframe\">\n",
       "  <thead>\n",
       "    <tr style=\"text-align: right;\">\n",
       "      <th></th>\n",
       "      <th>format</th>\n",
       "    </tr>\n",
       "  </thead>\n",
       "  <tbody>\n",
       "    <tr>\n",
       "      <th>0</th>\n",
       "      <td>train_images/272.jpg,260,177,491,376,WBC</td>\n",
       "    </tr>\n",
       "    <tr>\n",
       "      <th>1</th>\n",
       "      <td>train_images/272.jpg,78,336,184,435,RBC</td>\n",
       "    </tr>\n",
       "    <tr>\n",
       "      <th>2</th>\n",
       "      <td>train_images/272.jpg,63,237,169,336,RBC</td>\n",
       "    </tr>\n",
       "    <tr>\n",
       "      <th>3</th>\n",
       "      <td>train_images/272.jpg,214,362,320,461,RBC</td>\n",
       "    </tr>\n",
       "    <tr>\n",
       "      <th>4</th>\n",
       "      <td>train_images/272.jpg,414,352,506,445,RBC</td>\n",
       "    </tr>\n",
       "    <tr>\n",
       "      <th>5</th>\n",
       "      <td>train_images/272.jpg,555,356,640,455,RBC</td>\n",
       "    </tr>\n",
       "    <tr>\n",
       "      <th>6</th>\n",
       "      <td>train_images/272.jpg,469,412,567,480,RBC</td>\n",
       "    </tr>\n",
       "    <tr>\n",
       "      <th>7</th>\n",
       "      <td>train_images/272.jpg,1,333,87,437,RBC</td>\n",
       "    </tr>\n",
       "    <tr>\n",
       "      <th>8</th>\n",
       "      <td>train_images/272.jpg,4,406,95,480,RBC</td>\n",
       "    </tr>\n",
       "    <tr>\n",
       "      <th>9</th>\n",
       "      <td>train_images/272.jpg,155,74,247,174,RBC</td>\n",
       "    </tr>\n",
       "    <tr>\n",
       "      <th>10</th>\n",
       "      <td>train_images/272.jpg,11,84,104,162,RBC</td>\n",
       "    </tr>\n",
       "    <tr>\n",
       "      <th>11</th>\n",
       "      <td>train_images/272.jpg,534,39,639,139,RBC</td>\n",
       "    </tr>\n",
       "    <tr>\n",
       "      <th>12</th>\n",
       "      <td>train_images/272.jpg,547,195,640,295,RBC</td>\n",
       "    </tr>\n",
       "    <tr>\n",
       "      <th>13</th>\n",
       "      <td>train_images/272.jpg,388,11,481,111,RBC</td>\n",
       "    </tr>\n",
       "    <tr>\n",
       "      <th>14</th>\n",
       "      <td>train_images/272.jpg,171,175,264,275,RBC</td>\n",
       "    </tr>\n",
       "    <tr>\n",
       "      <th>15</th>\n",
       "      <td>train_images/272.jpg,260,1,374,83,RBC</td>\n",
       "    </tr>\n",
       "    <tr>\n",
       "      <th>16</th>\n",
       "      <td>train_images/272.jpg,229,91,343,174,RBC</td>\n",
       "    </tr>\n",
       "    <tr>\n",
       "      <th>17</th>\n",
       "      <td>train_images/272.jpg,69,144,184,235,RBC</td>\n",
       "    </tr>\n",
       "    <tr>\n",
       "      <th>18</th>\n",
       "      <td>train_images/272.jpg,482,131,594,230,RBC</td>\n",
       "    </tr>\n",
       "    <tr>\n",
       "      <th>19</th>\n",
       "      <td>train_images/272.jpg,368,89,464,176,RBC</td>\n",
       "    </tr>\n",
       "    <tr>\n",
       "      <th>20</th>\n",
       "      <td>train_images/115.jpg,68,315,286,480,WBC</td>\n",
       "    </tr>\n",
       "    <tr>\n",
       "      <th>21</th>\n",
       "      <td>train_images/115.jpg,346,361,446,454,RBC</td>\n",
       "    </tr>\n",
       "    <tr>\n",
       "      <th>22</th>\n",
       "      <td>train_images/115.jpg,53,179,146,299,RBC</td>\n",
       "    </tr>\n",
       "    <tr>\n",
       "      <th>23</th>\n",
       "      <td>train_images/115.jpg,449,400,536,480,RBC</td>\n",
       "    </tr>\n",
       "    <tr>\n",
       "      <th>24</th>\n",
       "      <td>train_images/115.jpg,461,132,548,212,RBC</td>\n",
       "    </tr>\n",
       "    <tr>\n",
       "      <th>25</th>\n",
       "      <td>train_images/115.jpg,454,295,541,375,RBC</td>\n",
       "    </tr>\n",
       "    <tr>\n",
       "      <th>26</th>\n",
       "      <td>train_images/115.jpg,417,283,508,383,RBC</td>\n",
       "    </tr>\n",
       "    <tr>\n",
       "      <th>27</th>\n",
       "      <td>train_images/115.jpg,278,342,369,451,RBC</td>\n",
       "    </tr>\n",
       "    <tr>\n",
       "      <th>28</th>\n",
       "      <td>train_images/115.jpg,545,62,636,159,RBC</td>\n",
       "    </tr>\n",
       "    <tr>\n",
       "      <th>29</th>\n",
       "      <td>train_images/115.jpg,485,91,576,188,RBC</td>\n",
       "    </tr>\n",
       "    <tr>\n",
       "      <th>...</th>\n",
       "      <td>...</td>\n",
       "    </tr>\n",
       "    <tr>\n",
       "      <th>3376</th>\n",
       "      <td>train_images/206.jpg,1,250,94,371,RBC</td>\n",
       "    </tr>\n",
       "    <tr>\n",
       "      <th>3377</th>\n",
       "      <td>train_images/206.jpg,216,209,517,480,WBC</td>\n",
       "    </tr>\n",
       "    <tr>\n",
       "      <th>3378</th>\n",
       "      <td>train_images/139.jpg,16,152,107,252,RBC</td>\n",
       "    </tr>\n",
       "    <tr>\n",
       "      <th>3379</th>\n",
       "      <td>train_images/139.jpg,18,261,119,363,RBC</td>\n",
       "    </tr>\n",
       "    <tr>\n",
       "      <th>3380</th>\n",
       "      <td>train_images/139.jpg,40,369,137,479,RBC</td>\n",
       "    </tr>\n",
       "    <tr>\n",
       "      <th>3381</th>\n",
       "      <td>train_images/139.jpg,203,70,324,171,RBC</td>\n",
       "    </tr>\n",
       "    <tr>\n",
       "      <th>3382</th>\n",
       "      <td>train_images/139.jpg,87,113,208,214,RBC</td>\n",
       "    </tr>\n",
       "    <tr>\n",
       "      <th>3383</th>\n",
       "      <td>train_images/139.jpg,112,1,233,101,RBC</td>\n",
       "    </tr>\n",
       "    <tr>\n",
       "      <th>3384</th>\n",
       "      <td>train_images/139.jpg,340,50,461,151,RBC</td>\n",
       "    </tr>\n",
       "    <tr>\n",
       "      <th>3385</th>\n",
       "      <td>train_images/139.jpg,427,214,548,316,RBC</td>\n",
       "    </tr>\n",
       "    <tr>\n",
       "      <th>3386</th>\n",
       "      <td>train_images/139.jpg,424,314,545,416,RBC</td>\n",
       "    </tr>\n",
       "    <tr>\n",
       "      <th>3387</th>\n",
       "      <td>train_images/139.jpg,530,381,640,480,RBC</td>\n",
       "    </tr>\n",
       "    <tr>\n",
       "      <th>3388</th>\n",
       "      <td>train_images/139.jpg,455,101,583,225,RBC</td>\n",
       "    </tr>\n",
       "    <tr>\n",
       "      <th>3389</th>\n",
       "      <td>train_images/139.jpg,115,245,154,279,Platelets</td>\n",
       "    </tr>\n",
       "    <tr>\n",
       "      <th>3390</th>\n",
       "      <td>train_images/139.jpg,181,254,400,468,WBC</td>\n",
       "    </tr>\n",
       "    <tr>\n",
       "      <th>3391</th>\n",
       "      <td>train_images/190.jpg,185,297,321,404,RBC</td>\n",
       "    </tr>\n",
       "    <tr>\n",
       "      <th>3392</th>\n",
       "      <td>train_images/190.jpg,305,370,396,472,RBC</td>\n",
       "    </tr>\n",
       "    <tr>\n",
       "      <th>3393</th>\n",
       "      <td>train_images/190.jpg,477,354,582,459,RBC</td>\n",
       "    </tr>\n",
       "    <tr>\n",
       "      <th>3394</th>\n",
       "      <td>train_images/190.jpg,376,307,481,412,RBC</td>\n",
       "    </tr>\n",
       "    <tr>\n",
       "      <th>3395</th>\n",
       "      <td>train_images/190.jpg,392,208,497,313,RBC</td>\n",
       "    </tr>\n",
       "    <tr>\n",
       "      <th>3396</th>\n",
       "      <td>train_images/190.jpg,302,44,420,151,RBC</td>\n",
       "    </tr>\n",
       "    <tr>\n",
       "      <th>3397</th>\n",
       "      <td>train_images/190.jpg,185,108,303,231,RBC</td>\n",
       "    </tr>\n",
       "    <tr>\n",
       "      <th>3398</th>\n",
       "      <td>train_images/190.jpg,373,133,487,243,RBC</td>\n",
       "    </tr>\n",
       "    <tr>\n",
       "      <th>3399</th>\n",
       "      <td>train_images/190.jpg,177,1,298,109,RBC</td>\n",
       "    </tr>\n",
       "    <tr>\n",
       "      <th>3400</th>\n",
       "      <td>train_images/190.jpg,52,22,184,88,RBC</td>\n",
       "    </tr>\n",
       "    <tr>\n",
       "      <th>3401</th>\n",
       "      <td>train_images/190.jpg,530,65,640,147,RBC</td>\n",
       "    </tr>\n",
       "    <tr>\n",
       "      <th>3402</th>\n",
       "      <td>train_images/190.jpg,543,116,640,214,RBC</td>\n",
       "    </tr>\n",
       "    <tr>\n",
       "      <th>3403</th>\n",
       "      <td>train_images/190.jpg,501,1,596,67,RBC</td>\n",
       "    </tr>\n",
       "    <tr>\n",
       "      <th>3404</th>\n",
       "      <td>train_images/190.jpg,374,1,469,67,RBC</td>\n",
       "    </tr>\n",
       "    <tr>\n",
       "      <th>3405</th>\n",
       "      <td>train_images/190.jpg,1,163,192,366,WBC</td>\n",
       "    </tr>\n",
       "  </tbody>\n",
       "</table>\n",
       "<p>3406 rows × 1 columns</p>\n",
       "</div>"
      ],
      "text/plain": [
       "                                              format\n",
       "0           train_images/272.jpg,260,177,491,376,WBC\n",
       "1            train_images/272.jpg,78,336,184,435,RBC\n",
       "2            train_images/272.jpg,63,237,169,336,RBC\n",
       "3           train_images/272.jpg,214,362,320,461,RBC\n",
       "4           train_images/272.jpg,414,352,506,445,RBC\n",
       "5           train_images/272.jpg,555,356,640,455,RBC\n",
       "6           train_images/272.jpg,469,412,567,480,RBC\n",
       "7              train_images/272.jpg,1,333,87,437,RBC\n",
       "8              train_images/272.jpg,4,406,95,480,RBC\n",
       "9            train_images/272.jpg,155,74,247,174,RBC\n",
       "10            train_images/272.jpg,11,84,104,162,RBC\n",
       "11           train_images/272.jpg,534,39,639,139,RBC\n",
       "12          train_images/272.jpg,547,195,640,295,RBC\n",
       "13           train_images/272.jpg,388,11,481,111,RBC\n",
       "14          train_images/272.jpg,171,175,264,275,RBC\n",
       "15             train_images/272.jpg,260,1,374,83,RBC\n",
       "16           train_images/272.jpg,229,91,343,174,RBC\n",
       "17           train_images/272.jpg,69,144,184,235,RBC\n",
       "18          train_images/272.jpg,482,131,594,230,RBC\n",
       "19           train_images/272.jpg,368,89,464,176,RBC\n",
       "20           train_images/115.jpg,68,315,286,480,WBC\n",
       "21          train_images/115.jpg,346,361,446,454,RBC\n",
       "22           train_images/115.jpg,53,179,146,299,RBC\n",
       "23          train_images/115.jpg,449,400,536,480,RBC\n",
       "24          train_images/115.jpg,461,132,548,212,RBC\n",
       "25          train_images/115.jpg,454,295,541,375,RBC\n",
       "26          train_images/115.jpg,417,283,508,383,RBC\n",
       "27          train_images/115.jpg,278,342,369,451,RBC\n",
       "28           train_images/115.jpg,545,62,636,159,RBC\n",
       "29           train_images/115.jpg,485,91,576,188,RBC\n",
       "...                                              ...\n",
       "3376           train_images/206.jpg,1,250,94,371,RBC\n",
       "3377        train_images/206.jpg,216,209,517,480,WBC\n",
       "3378         train_images/139.jpg,16,152,107,252,RBC\n",
       "3379         train_images/139.jpg,18,261,119,363,RBC\n",
       "3380         train_images/139.jpg,40,369,137,479,RBC\n",
       "3381         train_images/139.jpg,203,70,324,171,RBC\n",
       "3382         train_images/139.jpg,87,113,208,214,RBC\n",
       "3383          train_images/139.jpg,112,1,233,101,RBC\n",
       "3384         train_images/139.jpg,340,50,461,151,RBC\n",
       "3385        train_images/139.jpg,427,214,548,316,RBC\n",
       "3386        train_images/139.jpg,424,314,545,416,RBC\n",
       "3387        train_images/139.jpg,530,381,640,480,RBC\n",
       "3388        train_images/139.jpg,455,101,583,225,RBC\n",
       "3389  train_images/139.jpg,115,245,154,279,Platelets\n",
       "3390        train_images/139.jpg,181,254,400,468,WBC\n",
       "3391        train_images/190.jpg,185,297,321,404,RBC\n",
       "3392        train_images/190.jpg,305,370,396,472,RBC\n",
       "3393        train_images/190.jpg,477,354,582,459,RBC\n",
       "3394        train_images/190.jpg,376,307,481,412,RBC\n",
       "3395        train_images/190.jpg,392,208,497,313,RBC\n",
       "3396         train_images/190.jpg,302,44,420,151,RBC\n",
       "3397        train_images/190.jpg,185,108,303,231,RBC\n",
       "3398        train_images/190.jpg,373,133,487,243,RBC\n",
       "3399          train_images/190.jpg,177,1,298,109,RBC\n",
       "3400           train_images/190.jpg,52,22,184,88,RBC\n",
       "3401         train_images/190.jpg,530,65,640,147,RBC\n",
       "3402        train_images/190.jpg,543,116,640,214,RBC\n",
       "3403           train_images/190.jpg,501,1,596,67,RBC\n",
       "3404           train_images/190.jpg,374,1,469,67,RBC\n",
       "3405          train_images/190.jpg,1,163,192,366,WBC\n",
       "\n",
       "[3406 rows x 1 columns]"
      ]
     },
     "execution_count": 24,
     "metadata": {},
     "output_type": "execute_result"
    }
   ],
   "source": [
    "exp_data"
   ]
  },
  {
   "cell_type": "code",
   "execution_count": 25,
   "metadata": {},
   "outputs": [
    {
     "name": "stdout",
     "output_type": "stream",
     "text": [
      "/home/scar3crow/Dropbox/WorkStation-Subrata/python/keras-frcnn\n"
     ]
    }
   ],
   "source": [
    "cd keras-frcnn"
   ]
  },
  {
   "cell_type": "code",
   "execution_count": 27,
   "metadata": {},
   "outputs": [
    {
     "ename": "SyntaxError",
     "evalue": "invalid syntax (<ipython-input-27-8b374bb75208>, line 1)",
     "output_type": "error",
     "traceback": [
      "\u001b[0;36m  File \u001b[0;32m\"<ipython-input-27-8b374bb75208>\"\u001b[0;36m, line \u001b[0;32m1\u001b[0m\n\u001b[0;31m    train_frcnn.py -o simple -p train.txt\u001b[0m\n\u001b[0m                           ^\u001b[0m\n\u001b[0;31mSyntaxError\u001b[0m\u001b[0;31m:\u001b[0m invalid syntax\n"
     ]
    }
   ],
   "source": [
    "train_frcnn.py -o simple -p train.txt"
   ]
  },
  {
   "cell_type": "code",
   "execution_count": 28,
   "metadata": {},
   "outputs": [
    {
     "name": "stdout",
     "output_type": "stream",
     "text": [
      "\u001b[0m\u001b[01;31mBCCD_Dataset-master.zip\u001b[0m  measure_map.py    test.csv        Untitled1.ipynb\r\n",
      "\u001b[01;34mkeras_frcnn\u001b[0m/             README.md         test_frcnn.py   Untitled.ipynb\r\n",
      "LICENSE                  requirements.txt  train_frcnn.py\r\n"
     ]
    }
   ],
   "source": [
    "ls"
   ]
  },
  {
   "cell_type": "code",
   "execution_count": 29,
   "metadata": {},
   "outputs": [
    {
     "name": "stdout",
     "output_type": "stream",
     "text": [
      "[Errno 2] No such file or directory: 'rcnn'\n",
      "/home/scar3crow/Dropbox/WorkStation-Subrata/python/keras-frcnn\n"
     ]
    }
   ],
   "source": [
    "cd rcnn"
   ]
  },
  {
   "cell_type": "code",
   "execution_count": 30,
   "metadata": {},
   "outputs": [
    {
     "name": "stdout",
     "output_type": "stream",
     "text": [
      "/home/scar3crow/Dropbox/WorkStation-Subrata/python\n"
     ]
    }
   ],
   "source": [
    "cd /home/scar3crow/Dropbox/WorkStation-Subrata/python"
   ]
  },
  {
   "cell_type": "code",
   "execution_count": 35,
   "metadata": {},
   "outputs": [
    {
     "name": "stdout",
     "output_type": "stream",
     "text": [
      "/home/scar3crow/Dropbox/WorkStation-Subrata/python/rcnn\n"
     ]
    }
   ],
   "source": [
    "cd rcnn"
   ]
  },
  {
   "cell_type": "code",
   "execution_count": 36,
   "metadata": {},
   "outputs": [
    {
     "name": "stdout",
     "output_type": "stream",
     "text": [
      "convertor.py  \u001b[0m\u001b[01;34mkeras-frcnn\u001b[0m/  \u001b[01;34mtest_images\u001b[0m/  train_blood.csv  \u001b[01;34mtrain_images\u001b[0m/\r\n"
     ]
    }
   ],
   "source": [
    "ls\n"
   ]
  },
  {
   "cell_type": "code",
   "execution_count": 37,
   "metadata": {},
   "outputs": [
    {
     "ename": "SyntaxError",
     "evalue": "invalid syntax (<ipython-input-37-8b374bb75208>, line 1)",
     "output_type": "error",
     "traceback": [
      "\u001b[0;36m  File \u001b[0;32m\"<ipython-input-37-8b374bb75208>\"\u001b[0;36m, line \u001b[0;32m1\u001b[0m\n\u001b[0;31m    train_frcnn.py -o simple -p train.txt\u001b[0m\n\u001b[0m                           ^\u001b[0m\n\u001b[0;31mSyntaxError\u001b[0m\u001b[0;31m:\u001b[0m invalid syntax\n"
     ]
    }
   ],
   "source": [
    "train_frcnn.py -o simple -p train.txt"
   ]
  },
  {
   "cell_type": "code",
   "execution_count": null,
   "metadata": {},
   "outputs": [],
   "source": []
  }
 ],
 "metadata": {
  "kernelspec": {
   "display_name": "Python 3",
   "language": "python",
   "name": "python3"
  },
  "language_info": {
   "codemirror_mode": {
    "name": "ipython",
    "version": 3
   },
   "file_extension": ".py",
   "mimetype": "text/x-python",
   "name": "python",
   "nbconvert_exporter": "python",
   "pygments_lexer": "ipython3",
   "version": "3.5.2+"
  }
 },
 "nbformat": 4,
 "nbformat_minor": 2
}
