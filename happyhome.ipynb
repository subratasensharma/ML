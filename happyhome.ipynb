{
 "cells": [
  {
   "cell_type": "code",
   "execution_count": 1,
   "metadata": {},
   "outputs": [
    {
     "name": "stderr",
     "output_type": "stream",
     "text": [
      "Using TensorFlow backend.\n"
     ]
    }
   ],
   "source": [
    "import numpy as np\n",
    "import tensorflow as tf\n",
    "from keras import layers\n",
    "from keras.layers import Input, Dense, Activation, ZeroPadding2D, BatchNormalization, Flatten, Conv2D\n",
    "from keras.layers import AveragePooling2D, MaxPooling2D, Dropout, GlobalMaxPooling2D, GlobalAveragePooling2D\n",
    "from keras.models import Model\n",
    "from keras.preprocessing import image\n",
    "from keras.utils import layer_utils\n",
    "from keras.utils.data_utils import get_file\n",
    "from keras.applications.imagenet_utils import preprocess_input\n",
    "import pydot\n",
    "from IPython.display import SVG\n",
    "from keras.utils.vis_utils import model_to_dot\n",
    "from keras.utils import plot_model\n",
    "#from kt_utils import *\n",
    "\n",
    "import keras.backend as K\n",
    "K.set_image_data_format('channels_last')\n",
    "import matplotlib.pyplot as plt\n",
    "from matplotlib.pyplot import imshow\n",
    "\n",
    "%matplotlib inline\n"
   ]
  },
  {
   "cell_type": "code",
   "execution_count": 2,
   "metadata": {},
   "outputs": [],
   "source": [
    "import keras.backend as K\n",
    "import math\n",
    "import numpy as np\n",
    "import h5py\n",
    "import matplotlib.pyplot as plt\n",
    "\n",
    "\n",
    "def mean_pred(y_true, y_pred):\n",
    "    return K.mean(y_pred)\n",
    "\n",
    "def load_dataset():\n",
    "    train_dataset = h5py.File('train_happy.h5', \"r\")\n",
    "    train_set_x_orig = np.array(train_dataset[\"train_set_x\"][:]) # your train set features\n",
    "    train_set_y_orig = np.array(train_dataset[\"train_set_y\"][:]) # your train set labels\n",
    "\n",
    "    test_dataset = h5py.File('test_happy.h5', \"r\")\n",
    "    test_set_x_orig = np.array(test_dataset[\"test_set_x\"][:]) # your test set features\n",
    "    test_set_y_orig = np.array(test_dataset[\"test_set_y\"][:]) # your test set labels\n",
    "\n",
    "    classes = np.array(test_dataset[\"list_classes\"][:]) # the list of classes\n",
    "    \n",
    "    train_set_y_orig = train_set_y_orig.reshape((1, train_set_y_orig.shape[0]))\n",
    "    test_set_y_orig = test_set_y_orig.reshape((1, test_set_y_orig.shape[0]))\n",
    "    \n",
    "    return train_set_x_orig, train_set_y_orig, test_set_x_orig, test_set_y_orig, classes\n"
   ]
  },
  {
   "cell_type": "code",
   "execution_count": 3,
   "metadata": {},
   "outputs": [
    {
     "name": "stdout",
     "output_type": "stream",
     "text": [
      "[0 1]\n",
      "255\n",
      "600\n",
      "(600, 64, 64, 3)\n",
      "(1, 600)\n",
      "Y_data =  [1]\n"
     ]
    },
    {
     "data": {
      "image/png": "[encoded data removed]",
      "text/plain": [
       "<Figure size 432x288 with 1 Axes>"
      ]
     },
     "metadata": {},
     "output_type": "display_data"
    }
   ],
   "source": [
    "X_train_orig, Y_train_orig, X_test_orig, Y_test_orig, classes = load_dataset()\n",
    "\n",
    "index = 5\n",
    "plt.imshow(X_train_orig[index])\n",
    "\n",
    "print(classes)\n",
    "print(np.amax(X_train_orig[0]))\n",
    "print(len(X_train_orig))\n",
    "print(np.shape(X_train_orig))\n",
    "print(np.shape(Y_train_orig))\n",
    "print(\"Y_data = \", Y_train_orig[:, index])"
   ]
  },
  {
   "cell_type": "code",
   "execution_count": 4,
   "metadata": {},
   "outputs": [
    {
     "name": "stdout",
     "output_type": "stream",
     "text": [
      "number of training examples = 600\n",
      "number of test examples = 150\n",
      "X_train shape: (600, 64, 64, 3)\n",
      "Y_train shape: (600, 1)\n",
      "X_test shape: (150, 64, 64, 3)\n",
      "Y_test shape: (150, 1)\n",
      "===========================================================================\n",
      "(600, 64, 64, 3)\n",
      "(64, 64, 3)\n",
      "(600, 64, 64, 3)\n",
      "(64, 64, 3)\n",
      "64\n"
     ]
    }
   ],
   "source": [
    "X_train_orig, Y_train_orig, X_test_orig, Y_test_orig, classes = load_dataset()\n",
    "\n",
    "# Normalize image vectors\n",
    "X_train = X_train_orig/255.\n",
    "X_test = X_test_orig/255.\n",
    "\n",
    "# Reshape\n",
    "Y_train = Y_train_orig.T\n",
    "Y_test = Y_test_orig.T\n",
    "\n",
    "print (\"number of training examples = \" + str(X_train.shape[0]))\n",
    "print (\"number of test examples = \" + str(X_test.shape[0]))\n",
    "print (\"X_train shape: \" + str(X_train.shape))\n",
    "print (\"Y_train shape: \" + str(Y_train.shape))\n",
    "print (\"X_test shape: \" + str(X_test.shape))\n",
    "print (\"Y_test shape: \" + str(Y_test.shape))\n",
    "\n",
    "print(\"===========================================================================\")\n",
    "\n",
    "print(X_train.shape)\n",
    "print(X_train[0].shape)\n",
    "print(X_train.shape[0:])\n",
    "print(X_train.shape[1:])\n",
    "print(X_train.shape[1])\n"
   ]
  },
  {
   "cell_type": "code",
   "execution_count": 15,
   "metadata": {},
   "outputs": [],
   "source": [
    "def Happy_Model(input_shape):\n",
    "    \n",
    "    # Define the input placeholder as a tensor with shape input_shape. Think of this as your input image!\n",
    "    \n",
    "    X_input = Input(input_shape)\n",
    "\n",
    "    # Zero-Padding: pads the border of X_input with zeroes\n",
    "#    X = ZeroPadding2D((3, 3))(X_input)\n",
    "    X = X_input\n",
    "\n",
    "    # CONV -> BN -> RELU Block applied to X\n",
    "#    X = Conv2D(32, (7, 7), strides = (1, 1), name = 'conv0')(X)\n",
    "    X = Conv2D(32, (7, 7), strides = (1, 1), padding='same', name = 'conv0')(X)\n",
    "    X = BatchNormalization(axis = 3, name = 'bn0')(X)\n",
    "    X = Activation('relu')(X)\n",
    "\n",
    "    # MAXPOOL\n",
    "    X = MaxPooling2D((2, 2), name='max_pool')(X)\n",
    "\n",
    "    # FLATTEN X (means convert it to a vector) + FULLYCONNECTED\n",
    "    X = Flatten()(X)\n",
    "    X = Dense(1, activation='sigmoid', name='fc')(X)\n",
    "\n",
    "    # Create model. This creates your Keras model instance, you'll use this instance to train/test the model.\n",
    "    model = Model(inputs = X_input, outputs = X, name='Happy_Model')\n",
    "\n",
    "    return model\n"
   ]
  },
  {
   "cell_type": "code",
   "execution_count": 16,
   "metadata": {},
   "outputs": [],
   "source": [
    "# Create the model by calling the function above\n",
    "\n",
    "happymodel = Happy_Model(X_train.shape[1:])"
   ]
  },
  {
   "cell_type": "code",
   "execution_count": 17,
   "metadata": {},
   "outputs": [],
   "source": [
    "# Compile the model by calling model.compile(optimizer = \"...\", loss = \"...\", metrics = [\"accuracy\"])\n",
    "\n",
    "happymodel.compile('adam', 'binary_crossentropy', metrics=['accuracy'])"
   ]
  },
  {
   "cell_type": "code",
   "execution_count": 18,
   "metadata": {},
   "outputs": [
    {
     "name": "stdout",
     "output_type": "stream",
     "text": [
      "Epoch 1/40\n",
      "600/600 [==============================] - 7s 12ms/step - loss: 2.9528 - acc: 0.5500\n",
      "Epoch 2/40\n",
      "600/600 [==============================] - 7s 12ms/step - loss: 0.6006 - acc: 0.7400\n",
      "Epoch 3/40\n",
      "600/600 [==============================] - 7s 12ms/step - loss: 0.2433 - acc: 0.9033\n",
      "Epoch 4/40\n",
      "600/600 [==============================] - 7s 12ms/step - loss: 0.1494 - acc: 0.9483\n",
      "Epoch 5/40\n",
      "600/600 [==============================] - 7s 12ms/step - loss: 0.1349 - acc: 0.9600\n",
      "Epoch 6/40\n",
      "600/600 [==============================] - 7s 12ms/step - loss: 0.1272 - acc: 0.9600\n",
      "Epoch 7/40\n",
      "600/600 [==============================] - 7s 12ms/step - loss: 0.1144 - acc: 0.9533\n",
      "Epoch 8/40\n",
      "600/600 [==============================] - 7s 12ms/step - loss: 0.1034 - acc: 0.9717\n",
      "Epoch 9/40\n",
      "600/600 [==============================] - 7s 12ms/step - loss: 0.0835 - acc: 0.9700\n",
      "Epoch 10/40\n",
      "600/600 [==============================] - 7s 12ms/step - loss: 0.0770 - acc: 0.9800\n",
      "Epoch 11/40\n",
      "600/600 [==============================] - 7s 12ms/step - loss: 0.0723 - acc: 0.9767\n",
      "Epoch 12/40\n",
      "600/600 [==============================] - 7s 12ms/step - loss: 0.0557 - acc: 0.9833\n",
      "Epoch 13/40\n",
      "600/600 [==============================] - 7s 12ms/step - loss: 0.0655 - acc: 0.9817\n",
      "Epoch 14/40\n",
      "600/600 [==============================] - 7s 12ms/step - loss: 0.0731 - acc: 0.9750\n",
      "Epoch 15/40\n",
      "600/600 [==============================] - 8s 13ms/step - loss: 0.0592 - acc: 0.9850\n",
      "Epoch 16/40\n",
      "600/600 [==============================] - 8s 13ms/step - loss: 0.0567 - acc: 0.9883\n",
      "Epoch 17/40\n",
      "600/600 [==============================] - 8s 13ms/step - loss: 0.0458 - acc: 0.9883\n",
      "Epoch 18/40\n",
      "600/600 [==============================] - 7s 12ms/step - loss: 0.0578 - acc: 0.9833\n",
      "Epoch 19/40\n",
      "600/600 [==============================] - 7s 12ms/step - loss: 0.0420 - acc: 0.9883\n",
      "Epoch 20/40\n",
      "600/600 [==============================] - 7s 12ms/step - loss: 0.0363 - acc: 0.9900\n",
      "Epoch 21/40\n",
      "600/600 [==============================] - 7s 12ms/step - loss: 0.0339 - acc: 0.9917\n",
      "Epoch 22/40\n",
      "600/600 [==============================] - 7s 12ms/step - loss: 0.0332 - acc: 0.9900\n",
      "Epoch 23/40\n",
      "600/600 [==============================] - 7s 12ms/step - loss: 0.0432 - acc: 0.9900\n",
      "Epoch 24/40\n",
      "600/600 [==============================] - 7s 12ms/step - loss: 0.0260 - acc: 0.9950\n",
      "Epoch 25/40\n",
      "600/600 [==============================] - 7s 12ms/step - loss: 0.0259 - acc: 0.9950\n",
      "Epoch 26/40\n",
      "600/600 [==============================] - 7s 12ms/step - loss: 0.0256 - acc: 0.9933\n",
      "Epoch 27/40\n",
      "600/600 [==============================] - 7s 12ms/step - loss: 0.0340 - acc: 0.9917\n",
      "Epoch 28/40\n",
      "600/600 [==============================] - 7s 12ms/step - loss: 0.0406 - acc: 0.9917\n",
      "Epoch 29/40\n",
      "600/600 [==============================] - 7s 12ms/step - loss: 0.0238 - acc: 0.9900\n",
      "Epoch 30/40\n",
      "600/600 [==============================] - 7s 12ms/step - loss: 0.0194 - acc: 0.9950\n",
      "Epoch 31/40\n",
      "600/600 [==============================] - 8s 13ms/step - loss: 0.0185 - acc: 0.9967\n",
      "Epoch 32/40\n",
      "600/600 [==============================] - 8s 13ms/step - loss: 0.0180 - acc: 0.9950\n",
      "Epoch 33/40\n",
      "600/600 [==============================] - 9s 15ms/step - loss: 0.0151 - acc: 0.9950\n",
      "Epoch 34/40\n",
      "600/600 [==============================] - 8s 13ms/step - loss: 0.0126 - acc: 0.9967\n",
      "Epoch 35/40\n",
      "600/600 [==============================] - 8s 13ms/step - loss: 0.0158 - acc: 0.9983\n",
      "Epoch 36/40\n",
      "600/600 [==============================] - 7s 12ms/step - loss: 0.0135 - acc: 0.9967\n",
      "Epoch 37/40\n",
      "600/600 [==============================] - 7s 12ms/step - loss: 0.0132 - acc: 0.9967\n",
      "Epoch 38/40\n",
      "600/600 [==============================] - 7s 12ms/step - loss: 0.0192 - acc: 0.9950\n",
      "Epoch 39/40\n",
      "600/600 [==============================] - 7s 12ms/step - loss: 0.0203 - acc: 0.9933\n",
      "Epoch 40/40\n",
      "600/600 [==============================] - 7s 12ms/step - loss: 0.0219 - acc: 0.9967\n"
     ]
    },
    {
     "data": {
      "text/plain": [
       "<keras.callbacks.History at 0x7f176809bc18>"
      ]
     },
     "execution_count": 18,
     "metadata": {},
     "output_type": "execute_result"
    }
   ],
   "source": [
    "# Train the model on train data by calling model.fit(x = ..., y = ..., epochs = ..., batch_size = ...)\n",
    "\n",
    "happymodel.fit(X_train, Y_train, epochs=40, batch_size=50)"
   ]
  },
  {
   "cell_type": "code",
   "execution_count": 19,
   "metadata": {},
   "outputs": [
    {
     "name": "stdout",
     "output_type": "stream",
     "text": [
      "150/150 [==============================] - 1s 8ms/step\n",
      "\n",
      "Loss = 0.06631737520297368\n",
      "Test Accuracy = 0.9733333373069764\n"
     ]
    }
   ],
   "source": [
    "# testing\n",
    "\n",
    "preds = happymodel.evaluate(X_test, Y_test, batch_size=32, verbose=1, sample_weight=None)\n",
    "\n",
    "print()\n",
    "print (\"Loss = \" + str(preds[0]))\n",
    "print (\"Test Accuracy = \" + str(preds[1]))"
   ]
  },
  {
   "cell_type": "code",
   "execution_count": 20,
   "metadata": {},
   "outputs": [
    {
     "name": "stdout",
     "output_type": "stream",
     "text": [
      "_________________________________________________________________\n",
      "Layer (type)                 Output Shape              Param #   \n",
      "=================================================================\n",
      "input_3 (InputLayer)         (None, 64, 64, 3)         0         \n",
      "_________________________________________________________________\n",
      "conv0 (Conv2D)               (None, 64, 64, 32)        4736      \n",
      "_________________________________________________________________\n",
      "bn0 (BatchNormalization)     (None, 64, 64, 32)        128       \n",
      "_________________________________________________________________\n",
      "activation_2 (Activation)    (None, 64, 64, 32)        0         \n",
      "_________________________________________________________________\n",
      "max_pool (MaxPooling2D)      (None, 32, 32, 32)        0         \n",
      "_________________________________________________________________\n",
      "flatten_2 (Flatten)          (None, 32768)             0         \n",
      "_________________________________________________________________\n",
      "fc (Dense)                   (None, 1)                 32769     \n",
      "=================================================================\n",
      "Total params: 37,633\n",
      "Trainable params: 37,569\n",
      "Non-trainable params: 64\n",
      "_________________________________________________________________\n"
     ]
    }
   ],
   "source": [
    "happymodel.summary()"
   ]
  }
 ],
 "metadata": {
  "kernelspec": {
   "display_name": "Python 3",
   "language": "python",
   "name": "python3"
  },
  "language_info": {
   "codemirror_mode": {
    "name": "ipython",
    "version": 3
   },
   "file_extension": ".py",
   "mimetype": "text/x-python",
   "name": "python",
   "nbconvert_exporter": "python",
   "pygments_lexer": "ipython3",
   "version": "3.5.2+"
  }
 },
 "nbformat": 4,
 "nbformat_minor": 2
}
