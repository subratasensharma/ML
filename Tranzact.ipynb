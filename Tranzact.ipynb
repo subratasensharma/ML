{
 "cells": [
  {
   "cell_type": "code",
   "execution_count": 1,
   "metadata": {},
   "outputs": [],
   "source": [
    "import pandas as pd\n",
    "import numpy as np\n",
    "from nltk.corpus import stopwords\n",
    "import re\n",
    "import os"
   ]
  },
  {
   "cell_type": "code",
   "execution_count": 2,
   "metadata": {},
   "outputs": [
    {
     "name": "stdout",
     "output_type": "stream",
     "text": [
      "/home/scar3crow/Dropbox/WorkStation-Subrata/python\n"
     ]
    }
   ],
   "source": [
    "print(os.getcwd())"
   ]
  },
  {
   "cell_type": "code",
   "execution_count": 138,
   "metadata": {},
   "outputs": [],
   "source": [
    "data1 = pd.ExcelFile('Tranzact2.xlsx')"
   ]
  },
  {
   "cell_type": "code",
   "execution_count": 139,
   "metadata": {},
   "outputs": [
    {
     "name": "stdout",
     "output_type": "stream",
     "text": [
      "28922\n"
     ]
    }
   ],
   "source": [
    "tranzact_data1 = data1.parse(0)\n",
    "lamba = len(tranzact_data1)\n",
    "print(lamba)"
   ]
  },
  {
   "cell_type": "code",
   "execution_count": 140,
   "metadata": {},
   "outputs": [
    {
     "data": {
      "text/plain": [
       "Index(['Company', 'Supplier', 'Item', 'Category', 'UOM', 'Unnamed: 5',\n",
       "       'Unnamed: 6', 'Unnamed: 7', 'Unnamed: 8', 'Unnamed: 9', 'Unnamed: 10',\n",
       "       'Unnamed: 11', 'Unnamed: 12', 'Unnamed: 13', 'Unnamed: 14',\n",
       "       'Unnamed: 15', 'Unnamed: 16'],\n",
       "      dtype='object')"
      ]
     },
     "execution_count": 140,
     "metadata": {},
     "output_type": "execute_result"
    }
   ],
   "source": [
    "tranzact_data1.columns"
   ]
  },
  {
   "cell_type": "code",
   "execution_count": 141,
   "metadata": {},
   "outputs": [
    {
     "data": {
      "text/html": [
       "<div>\n",
       "<style scoped>\n",
       "    .dataframe tbody tr th:only-of-type {\n",
       "        vertical-align: middle;\n",
       "    }\n",
       "\n",
       "    .dataframe tbody tr th {\n",
       "        vertical-align: top;\n",
       "    }\n",
       "\n",
       "    .dataframe thead th {\n",
       "        text-align: right;\n",
       "    }\n",
       "</style>\n",
       "<table border=\"1\" class=\"dataframe\">\n",
       "  <thead>\n",
       "    <tr style=\"text-align: right;\">\n",
       "      <th></th>\n",
       "      <th>Company</th>\n",
       "      <th>Supplier</th>\n",
       "      <th>Item</th>\n",
       "      <th>Category</th>\n",
       "      <th>UOM</th>\n",
       "      <th>Unnamed: 5</th>\n",
       "      <th>Unnamed: 6</th>\n",
       "      <th>Unnamed: 7</th>\n",
       "      <th>Unnamed: 8</th>\n",
       "      <th>Unnamed: 9</th>\n",
       "      <th>Unnamed: 10</th>\n",
       "      <th>Unnamed: 11</th>\n",
       "      <th>Unnamed: 12</th>\n",
       "      <th>Unnamed: 13</th>\n",
       "      <th>Unnamed: 14</th>\n",
       "      <th>Unnamed: 15</th>\n",
       "      <th>Unnamed: 16</th>\n",
       "    </tr>\n",
       "  </thead>\n",
       "  <tbody>\n",
       "    <tr>\n",
       "      <th>0</th>\n",
       "      <td>M/S Plastech</td>\n",
       "      <td>Pukhraj Additives LLP</td>\n",
       "      <td>ZINCOPLAST ZINC</td>\n",
       "      <td>Raw Material (RM)</td>\n",
       "      <td>KGS</td>\n",
       "      <td>NaN</td>\n",
       "      <td>NaN</td>\n",
       "      <td>NaN</td>\n",
       "      <td>NaN</td>\n",
       "      <td>NaN</td>\n",
       "      <td>NaN</td>\n",
       "      <td>NaN</td>\n",
       "      <td>NaN</td>\n",
       "      <td>NaN</td>\n",
       "      <td>NaN</td>\n",
       "      <td>NaN</td>\n",
       "      <td>NaN</td>\n",
       "    </tr>\n",
       "    <tr>\n",
       "      <th>1</th>\n",
       "      <td>M/S Plastech</td>\n",
       "      <td>Pukhraj Additives LLP</td>\n",
       "      <td>ZINCOPLAST PYN</td>\n",
       "      <td>Raw Material (RM)</td>\n",
       "      <td>KGS</td>\n",
       "      <td>NaN</td>\n",
       "      <td>NaN</td>\n",
       "      <td>NaN</td>\n",
       "      <td>NaN</td>\n",
       "      <td>NaN</td>\n",
       "      <td>NaN</td>\n",
       "      <td>NaN</td>\n",
       "      <td>NaN</td>\n",
       "      <td>NaN</td>\n",
       "      <td>NaN</td>\n",
       "      <td>NaN</td>\n",
       "      <td>NaN</td>\n",
       "    </tr>\n",
       "    <tr>\n",
       "      <th>2</th>\n",
       "      <td>Modern Engineering &amp; Spring Company</td>\n",
       "      <td>Bijal Steels</td>\n",
       "      <td>Chromium Manganese Spring Steel As Rolled, SUP...</td>\n",
       "      <td>Raw Materials (RM)</td>\n",
       "      <td>KGS</td>\n",
       "      <td>NaN</td>\n",
       "      <td>NaN</td>\n",
       "      <td>NaN</td>\n",
       "      <td>NaN</td>\n",
       "      <td>NaN</td>\n",
       "      <td>NaN</td>\n",
       "      <td>NaN</td>\n",
       "      <td>NaN</td>\n",
       "      <td>NaN</td>\n",
       "      <td>NaN</td>\n",
       "      <td>NaN</td>\n",
       "      <td>NaN</td>\n",
       "    </tr>\n",
       "    <tr>\n",
       "      <th>3</th>\n",
       "      <td>Modern Engineering &amp; Spring Company</td>\n",
       "      <td>Bijal Steels</td>\n",
       "      <td>Chromium Manganese Spring Steel As Rolled, SUP...</td>\n",
       "      <td>Raw Materials (RM)</td>\n",
       "      <td>KGS</td>\n",
       "      <td>NaN</td>\n",
       "      <td>NaN</td>\n",
       "      <td>NaN</td>\n",
       "      <td>NaN</td>\n",
       "      <td>NaN</td>\n",
       "      <td>NaN</td>\n",
       "      <td>NaN</td>\n",
       "      <td>NaN</td>\n",
       "      <td>NaN</td>\n",
       "      <td>NaN</td>\n",
       "      <td>NaN</td>\n",
       "      <td>NaN</td>\n",
       "    </tr>\n",
       "    <tr>\n",
       "      <th>4</th>\n",
       "      <td>Modern Engineering &amp; Spring Company</td>\n",
       "      <td>Bijal Steels</td>\n",
       "      <td>Chromium Manganese Spring Steel As Rolled, SUP...</td>\n",
       "      <td>Raw Materials (RM)</td>\n",
       "      <td>KGS</td>\n",
       "      <td>NaN</td>\n",
       "      <td>NaN</td>\n",
       "      <td>NaN</td>\n",
       "      <td>NaN</td>\n",
       "      <td>NaN</td>\n",
       "      <td>NaN</td>\n",
       "      <td>NaN</td>\n",
       "      <td>NaN</td>\n",
       "      <td>NaN</td>\n",
       "      <td>NaN</td>\n",
       "      <td>NaN</td>\n",
       "      <td>NaN</td>\n",
       "    </tr>\n",
       "  </tbody>\n",
       "</table>\n",
       "</div>"
      ],
      "text/plain": [
       "                               Company               Supplier  \\\n",
       "0                         M/S Plastech  Pukhraj Additives LLP   \n",
       "1                         M/S Plastech  Pukhraj Additives LLP   \n",
       "2  Modern Engineering & Spring Company           Bijal Steels   \n",
       "3  Modern Engineering & Spring Company           Bijal Steels   \n",
       "4  Modern Engineering & Spring Company           Bijal Steels   \n",
       "\n",
       "                                                Item            Category  UOM  \\\n",
       "0                                    ZINCOPLAST ZINC   Raw Material (RM)  KGS   \n",
       "1                                     ZINCOPLAST PYN   Raw Material (RM)  KGS   \n",
       "2  Chromium Manganese Spring Steel As Rolled, SUP...  Raw Materials (RM)  KGS   \n",
       "3  Chromium Manganese Spring Steel As Rolled, SUP...  Raw Materials (RM)  KGS   \n",
       "4  Chromium Manganese Spring Steel As Rolled, SUP...  Raw Materials (RM)  KGS   \n",
       "\n",
       "  Unnamed: 5 Unnamed: 6 Unnamed: 7 Unnamed: 8 Unnamed: 9 Unnamed: 10  \\\n",
       "0        NaN        NaN        NaN        NaN        NaN         NaN   \n",
       "1        NaN        NaN        NaN        NaN        NaN         NaN   \n",
       "2        NaN        NaN        NaN        NaN        NaN         NaN   \n",
       "3        NaN        NaN        NaN        NaN        NaN         NaN   \n",
       "4        NaN        NaN        NaN        NaN        NaN         NaN   \n",
       "\n",
       "  Unnamed: 11 Unnamed: 12 Unnamed: 13 Unnamed: 14 Unnamed: 15  Unnamed: 16  \n",
       "0         NaN         NaN         NaN         NaN         NaN          NaN  \n",
       "1         NaN         NaN         NaN         NaN         NaN          NaN  \n",
       "2         NaN         NaN         NaN         NaN         NaN          NaN  \n",
       "3         NaN         NaN         NaN         NaN         NaN          NaN  \n",
       "4         NaN         NaN         NaN         NaN         NaN          NaN  "
      ]
     },
     "execution_count": 141,
     "metadata": {},
     "output_type": "execute_result"
    }
   ],
   "source": [
    "tranzact_data1.head()"
   ]
  },
  {
   "cell_type": "code",
   "execution_count": 152,
   "metadata": {},
   "outputs": [
    {
     "name": "stdout",
     "output_type": "stream",
     "text": [
      "<class 'pandas.core.frame.DataFrame'>\n",
      "Int64Index: 28921 entries, 0 to 28921\n",
      "Data columns (total 3 columns):\n",
      "Company     28921 non-null object\n",
      "Supplier    28921 non-null object\n",
      "Item        28921 non-null object\n",
      "dtypes: object(3)\n",
      "memory usage: 903.8+ KB\n"
     ]
    }
   ],
   "source": [
    "#tranzact_data_col_reduce = tranzact_data1.drop(tranzact_data1.columns[[3,4,5,6,7,8,9,10,11,12,13,14,15,16]], axis=1)\n",
    "tranzact_data2 = tranzact_data1.iloc[0:lamba, 0:3]\n",
    "\n",
    "\n",
    "tranzact_data = tranzact_data2.dropna()\n",
    "tranzact_data.info()"
   ]
  },
  {
   "cell_type": "code",
   "execution_count": 153,
   "metadata": {},
   "outputs": [
    {
     "data": {
      "text/html": [
       "<div>\n",
       "<style scoped>\n",
       "    .dataframe tbody tr th:only-of-type {\n",
       "        vertical-align: middle;\n",
       "    }\n",
       "\n",
       "    .dataframe tbody tr th {\n",
       "        vertical-align: top;\n",
       "    }\n",
       "\n",
       "    .dataframe thead th {\n",
       "        text-align: right;\n",
       "    }\n",
       "</style>\n",
       "<table border=\"1\" class=\"dataframe\">\n",
       "  <thead>\n",
       "    <tr style=\"text-align: right;\">\n",
       "      <th></th>\n",
       "      <th>Company</th>\n",
       "      <th>Supplier</th>\n",
       "      <th>Item</th>\n",
       "    </tr>\n",
       "  </thead>\n",
       "  <tbody>\n",
       "    <tr>\n",
       "      <th>0</th>\n",
       "      <td>M/S Plastech</td>\n",
       "      <td>Pukhraj Additives LLP</td>\n",
       "      <td>ZINCOPLAST ZINC</td>\n",
       "    </tr>\n",
       "    <tr>\n",
       "      <th>1</th>\n",
       "      <td>M/S Plastech</td>\n",
       "      <td>Pukhraj Additives LLP</td>\n",
       "      <td>ZINCOPLAST PYN</td>\n",
       "    </tr>\n",
       "    <tr>\n",
       "      <th>2</th>\n",
       "      <td>Modern Engineering &amp; Spring Company</td>\n",
       "      <td>Bijal Steels</td>\n",
       "      <td>Chromium Manganese Spring Steel As Rolled, SUP...</td>\n",
       "    </tr>\n",
       "    <tr>\n",
       "      <th>3</th>\n",
       "      <td>Modern Engineering &amp; Spring Company</td>\n",
       "      <td>Bijal Steels</td>\n",
       "      <td>Chromium Manganese Spring Steel As Rolled, SUP...</td>\n",
       "    </tr>\n",
       "    <tr>\n",
       "      <th>4</th>\n",
       "      <td>Modern Engineering &amp; Spring Company</td>\n",
       "      <td>Bijal Steels</td>\n",
       "      <td>Chromium Manganese Spring Steel As Rolled, SUP...</td>\n",
       "    </tr>\n",
       "  </tbody>\n",
       "</table>\n",
       "</div>"
      ],
      "text/plain": [
       "                               Company               Supplier  \\\n",
       "0                         M/S Plastech  Pukhraj Additives LLP   \n",
       "1                         M/S Plastech  Pukhraj Additives LLP   \n",
       "2  Modern Engineering & Spring Company           Bijal Steels   \n",
       "3  Modern Engineering & Spring Company           Bijal Steels   \n",
       "4  Modern Engineering & Spring Company           Bijal Steels   \n",
       "\n",
       "                                                Item  \n",
       "0                                    ZINCOPLAST ZINC  \n",
       "1                                     ZINCOPLAST PYN  \n",
       "2  Chromium Manganese Spring Steel As Rolled, SUP...  \n",
       "3  Chromium Manganese Spring Steel As Rolled, SUP...  \n",
       "4  Chromium Manganese Spring Steel As Rolled, SUP...  "
      ]
     },
     "execution_count": 153,
     "metadata": {},
     "output_type": "execute_result"
    }
   ],
   "source": [
    "tranzact_data.head()"
   ]
  },
  {
   "cell_type": "code",
   "execution_count": 156,
   "metadata": {},
   "outputs": [
    {
     "name": "stdout",
     "output_type": "stream",
     "text": [
      "MS Sheet  ft x  ft x . mm -  NOS\n",
      "MS Sheet  ft x  ft x   mm    NOS\n",
      "MS Sheet  ft   ft    mm    NOS\n",
      "MS Sheet ft ft mm NOS\n",
      "<class 'pandas.core.series.Series'>\n",
      "<class 'str'>\n",
      "ms sheet\n"
     ]
    },
    {
     "data": {
      "text/plain": [
       "0                                          zincoplast zinc\n",
       "1                                           zincoplast pyn\n",
       "2        chromium manganese spring steel as rolled sup9...\n",
       "3        chromium manganese spring steel as rolled sup9...\n",
       "4        chromium manganese spring steel as rolled sup9...\n",
       "5                                                 ms sheet\n",
       "6                                                 ms sheet\n",
       "7                               ms plate holes drg rev ae0\n",
       "8                               ms plate holes drg rev ae2\n",
       "9                   ms plate holes drg 00950d070103820 rev\n",
       "10                  ms plate holes drg 00950d070103820 rev\n",
       "11                  ms plate holes drg 00950d070103820 rev\n",
       "12       chromium silicon spring steel as rolled grade ...\n",
       "13       chromium silicon spring steel as rolled grade ...\n",
       "14                    spring steel unalloyed grade sm coil\n",
       "15                  spring steel unalloyed grade size coil\n",
       "16                  spring steel unalloyed grade size coil\n",
       "17                  spring steel unalloyed grade size coil\n",
       "18                  spring steel unalloyed grade size coil\n",
       "19                  spring steel unalloyed grade size coil\n",
       "20                  spring steel unalloyed grade size coil\n",
       "21                  spring steel unalloyed grade size coil\n",
       "22                  spring steel unalloyed grade size coil\n",
       "23                  spring steel unalloyed grade size coil\n",
       "24                  spring steel unalloyed grade size coil\n",
       "25                  spring steel unalloyed grade size coil\n",
       "26                  spring steel unalloyed grade size coil\n",
       "27                  spring steel unalloyed grade size coil\n",
       "28                  spring steel unalloyed grade size coil\n",
       "29                  spring steel unalloyed grade size coil\n",
       "                               ...                        \n",
       "28892                                          imercarb 1t\n",
       "28893          machined components bush machining material\n",
       "28894               machined components shaft en machining\n",
       "28895                                      copper wire dia\n",
       "28896    rm hm profile cut finish id x320 od x36 thk ra...\n",
       "28897    ss perforated sheet thickness mm hole dia mm p...\n",
       "28898    spiral wound gasket with inner ring sealing fi...\n",
       "28899            coating etfe micron antistatic 2m dia anf\n",
       "28900                                                yt ii\n",
       "28901                                                   yt\n",
       "28902     daily clean buy get inner_445x250x135_3ply120all\n",
       "28903    daily clean buy get shipper_530x455x560_7plyto...\n",
       "28904             scv 300rf bb a351 cf3m b8m trcf3m st6 bo\n",
       "28905                                       pvc gland pg11\n",
       "28906                                       pvc gland pg13\n",
       "28907                                      pvc gland m25x1\n",
       "28908                       wire sleeve plastic id 4mm red\n",
       "28909                                    ferrul number 1mm\n",
       "28910                                    ferrul number 1mm\n",
       "28911                                    ferrul number 1mm\n",
       "28912                                    ferrul number 1mm\n",
       "28913                                    ferrul number 1mm\n",
       "28914                                    ferrul number 1mm\n",
       "28915                                    ferrul number 1mm\n",
       "28916                                    ferrul number 1mm\n",
       "28917                                    ferrul number 4mm\n",
       "28918                                    ferrul number 4mm\n",
       "28919                                    ferrul number 4mm\n",
       "28920                                    ferrul number 4mm\n",
       "28921                          hard copper pipe gauge long\n",
       "Name: clean, Length: 28921, dtype: object"
      ]
     },
     "execution_count": 156,
     "metadata": {},
     "output_type": "execute_result"
    }
   ],
   "source": [
    "## Cleaning the Item Description\n",
    "pd.options.mode.chained_assignment = None\n",
    "\n",
    "tranzact_data['clean'] = tranzact_data['Item'].str.replace(r'\\b\\d+\\b','')  ## remove integers\n",
    "print(tranzact_data['clean'][5])\n",
    "\n",
    "tranzact_data['clean'] = tranzact_data['clean'].str.replace(r'\\W',' ')   ## remove puntuations\n",
    "print(tranzact_data['clean'][5])\n",
    "\n",
    "tranzact_data['clean'] = tranzact_data['clean'].str.replace(r'\\b\\w\\b','') ## remove stand alone single letters\n",
    "print(tranzact_data['clean'][5])\n",
    "\n",
    "tranzact_data['clean'] = tranzact_data['clean'].str.replace(r'\\s+',' ') ## remove gaps between words to singe gap\n",
    "print(tranzact_data['clean'][5])\n",
    "\n",
    "print(type(tranzact_data['clean']))\n",
    "print(type(tranzact_data['clean'][5][1]))\n",
    "\n",
    "## Removing unneccessary words like measurment units etc.\n",
    "                                                                        \n",
    "words = stopwords.words(\"english\")\n",
    "\n",
    "#newstopwords = ['mm', 'ft', 'as']\n",
    "#words.append(newstopwords)\n",
    "\n",
    "words.append('mm')\n",
    "words.append('ft')\n",
    "words.append('as')\n",
    "words.append('to')\n",
    "words.append('NOS')\n",
    "\n",
    "tranzact_data['clean']= tranzact_data['clean'].apply(lambda x:' '.join([i for i in x.split()\n",
    "                                                                                if i not in words]).lower())\n",
    "print(tranzact_data['clean'][5])\n",
    "tranzact_data['clean']"
   ]
  },
  {
   "cell_type": "code",
   "execution_count": 147,
   "metadata": {},
   "outputs": [
    {
     "data": {
      "text/plain": [
       "Index(['Company', 'Supplier', 'Item', 'clean'], dtype='object')"
      ]
     },
     "execution_count": 147,
     "metadata": {},
     "output_type": "execute_result"
    }
   ],
   "source": [
    "tranzact_data.columns"
   ]
  },
  {
   "cell_type": "code",
   "execution_count": 148,
   "metadata": {},
   "outputs": [
    {
     "data": {
      "text/html": [
       "<div>\n",
       "<style scoped>\n",
       "    .dataframe tbody tr th:only-of-type {\n",
       "        vertical-align: middle;\n",
       "    }\n",
       "\n",
       "    .dataframe tbody tr th {\n",
       "        vertical-align: top;\n",
       "    }\n",
       "\n",
       "    .dataframe thead th {\n",
       "        text-align: right;\n",
       "    }\n",
       "</style>\n",
       "<table border=\"1\" class=\"dataframe\">\n",
       "  <thead>\n",
       "    <tr style=\"text-align: right;\">\n",
       "      <th></th>\n",
       "      <th>Company</th>\n",
       "      <th>Supplier</th>\n",
       "      <th>Item</th>\n",
       "      <th>clean</th>\n",
       "    </tr>\n",
       "  </thead>\n",
       "  <tbody>\n",
       "    <tr>\n",
       "      <th>0</th>\n",
       "      <td>M/S Plastech</td>\n",
       "      <td>Pukhraj Additives LLP</td>\n",
       "      <td>ZINCOPLAST ZINC</td>\n",
       "      <td>zincoplast zinc</td>\n",
       "    </tr>\n",
       "    <tr>\n",
       "      <th>1</th>\n",
       "      <td>M/S Plastech</td>\n",
       "      <td>Pukhraj Additives LLP</td>\n",
       "      <td>ZINCOPLAST PYN</td>\n",
       "      <td>zincoplast pyn</td>\n",
       "    </tr>\n",
       "    <tr>\n",
       "      <th>2</th>\n",
       "      <td>Modern Engineering &amp; Spring Company</td>\n",
       "      <td>Bijal Steels</td>\n",
       "      <td>Chromium Manganese Spring Steel As Rolled, SUP...</td>\n",
       "      <td>chromium manganese spring steel as rolled sup9...</td>\n",
       "    </tr>\n",
       "    <tr>\n",
       "      <th>3</th>\n",
       "      <td>Modern Engineering &amp; Spring Company</td>\n",
       "      <td>Bijal Steels</td>\n",
       "      <td>Chromium Manganese Spring Steel As Rolled, SUP...</td>\n",
       "      <td>chromium manganese spring steel as rolled sup9...</td>\n",
       "    </tr>\n",
       "    <tr>\n",
       "      <th>4</th>\n",
       "      <td>Modern Engineering &amp; Spring Company</td>\n",
       "      <td>Bijal Steels</td>\n",
       "      <td>Chromium Manganese Spring Steel As Rolled, SUP...</td>\n",
       "      <td>chromium manganese spring steel as rolled sup9...</td>\n",
       "    </tr>\n",
       "  </tbody>\n",
       "</table>\n",
       "</div>"
      ],
      "text/plain": [
       "                               Company               Supplier  \\\n",
       "0                         M/S Plastech  Pukhraj Additives LLP   \n",
       "1                         M/S Plastech  Pukhraj Additives LLP   \n",
       "2  Modern Engineering & Spring Company           Bijal Steels   \n",
       "3  Modern Engineering & Spring Company           Bijal Steels   \n",
       "4  Modern Engineering & Spring Company           Bijal Steels   \n",
       "\n",
       "                                                Item  \\\n",
       "0                                    ZINCOPLAST ZINC   \n",
       "1                                     ZINCOPLAST PYN   \n",
       "2  Chromium Manganese Spring Steel As Rolled, SUP...   \n",
       "3  Chromium Manganese Spring Steel As Rolled, SUP...   \n",
       "4  Chromium Manganese Spring Steel As Rolled, SUP...   \n",
       "\n",
       "                                               clean  \n",
       "0                                    zincoplast zinc  \n",
       "1                                     zincoplast pyn  \n",
       "2  chromium manganese spring steel as rolled sup9...  \n",
       "3  chromium manganese spring steel as rolled sup9...  \n",
       "4  chromium manganese spring steel as rolled sup9...  "
      ]
     },
     "execution_count": 148,
     "metadata": {},
     "output_type": "execute_result"
    }
   ],
   "source": [
    "tranzact_data.head()"
   ]
  },
  {
   "cell_type": "code",
   "execution_count": null,
   "metadata": {},
   "outputs": [],
   "source": [
    "material1 = re.findall(r'\\d*[A-Z]*\\d{1,5}', MESCO_data['Clean'][657])\n",
    "#  material1 = re.findall(r'\\d*[A-Z]*\\d+', MESCO_data['Clean'][657]) ## this also gives same result\n",
    "print(material1)"
   ]
  },
  {
   "cell_type": "code",
   "execution_count": 43,
   "metadata": {},
   "outputs": [
    {
     "name": "stdout",
     "output_type": "stream",
     "text": [
      "['30', '00', '22']\n"
     ]
    }
   ],
   "source": [
    "material1a = re.findall(r'\\b\\d+\\b', MESCO_data['Clean'][657])\n",
    "print(material1a)"
   ]
  },
  {
   "cell_type": "code",
   "execution_count": 35,
   "metadata": {},
   "outputs": [
    {
     "name": "stdout",
     "output_type": "stream",
     "text": [
      "<class 'str'>\n",
      "CHROMIUM VANADIUM SPRING STEEL ANNEALED  50CRV4 30 00 MM ST BAR 22 FT\n"
     ]
    }
   ],
   "source": [
    "print(type(MESCO_data['Clean'][657]))\n",
    "print(MESCO_data['Clean'][657])"
   ]
  },
  {
   "cell_type": "code",
   "execution_count": 14,
   "metadata": {},
   "outputs": [
    {
     "data": {
      "text/plain": [
       "list"
      ]
     },
     "execution_count": 14,
     "metadata": {},
     "output_type": "execute_result"
    }
   ],
   "source": [
    "type(material1)"
   ]
  },
  {
   "cell_type": "code",
   "execution_count": 30,
   "metadata": {},
   "outputs": [
    {
     "name": "stdout",
     "output_type": "stream",
     "text": [
      "Max is 27 years old and his next birthday is on 03.12.2018.; <map object at 0x7fdabee87320>\n"
     ]
    }
   ],
   "source": [
    "string1=\"Max is 27 years old and his next birthday is on 03.12.2018.\"\n",
    "arr=map(int, re.findall(r'\\d+', string1))\n",
    "print(string1+\"; \"+str(arr))"
   ]
  },
  {
   "cell_type": "code",
   "execution_count": 36,
   "metadata": {},
   "outputs": [
    {
     "name": "stdout",
     "output_type": "stream",
     "text": [
      "<map object at 0x7fdabed5bef0>\n"
     ]
    },
    {
     "data": {
      "text/plain": [
       "<map at 0x7fdabed5bef0>"
      ]
     },
     "execution_count": 36,
     "metadata": {},
     "output_type": "execute_result"
    }
   ],
   "source": [
    "material1_digits = map(int, re.findall(r'\\d+', MESCO_data['Clean'][657]))\n",
    "print(str(material1_digits))\n",
    "material1_digits"
   ]
  },
  {
   "cell_type": "code",
   "execution_count": 16,
   "metadata": {},
   "outputs": [
    {
     "name": "stdout",
     "output_type": "stream",
     "text": [
      "<class 'str'>\n",
      "<class 'str'>\n"
     ]
    }
   ],
   "source": [
    "print(type(material1[0]))\n",
    "print(type(material1[1]))"
   ]
  },
  {
   "cell_type": "code",
   "execution_count": 38,
   "metadata": {},
   "outputs": [
    {
     "name": "stdout",
     "output_type": "stream",
     "text": [
      "['ACROS1950', '14', '30']\n"
     ]
    }
   ],
   "source": [
    "material2 = re.findall(r'\\d*[A-Z]*\\d+', MESCO_data['Clean'][660])\n",
    "print(material2)"
   ]
  },
  {
   "cell_type": "code",
   "execution_count": 42,
   "metadata": {},
   "outputs": [
    {
     "ename": "TypeError",
     "evalue": "expected string or bytes-like object",
     "output_type": "error",
     "traceback": [
      "\u001b[0;31m---------------------------------------------------------------------------\u001b[0m",
      "\u001b[0;31mTypeError\u001b[0m                                 Traceback (most recent call last)",
      "\u001b[0;32m<ipython-input-42-a42c9bc40928>\u001b[0m in \u001b[0;36m<module>\u001b[0;34m()\u001b[0m\n\u001b[1;32m      1\u001b[0m \u001b[0;31m#MESCO_data['Clean'] = MESCO_data['product_name'].str.replace(r'\\W',' ')\u001b[0m\u001b[0;34m\u001b[0m\u001b[0;34m\u001b[0m\u001b[0m\n\u001b[0;32m----> 2\u001b[0;31m \u001b[0mMESCO\u001b[0m \u001b[0;34m=\u001b[0m \u001b[0mmap\u001b[0m\u001b[0;34m(\u001b[0m\u001b[0mint\u001b[0m\u001b[0;34m,\u001b[0m \u001b[0mre\u001b[0m\u001b[0;34m.\u001b[0m\u001b[0mfindall\u001b[0m\u001b[0;34m(\u001b[0m\u001b[0;34mr'\\d+'\u001b[0m\u001b[0;34m,\u001b[0m \u001b[0mMESCO_data\u001b[0m\u001b[0;34m[\u001b[0m\u001b[0;34m'Clean'\u001b[0m\u001b[0;34m]\u001b[0m\u001b[0;34m)\u001b[0m\u001b[0;34m)\u001b[0m\u001b[0;34m\u001b[0m\u001b[0m\n\u001b[0m",
      "\u001b[0;32m~/Dropbox/WorkStation-Subrata/python/venv1/lib/python3.5/re.py\u001b[0m in \u001b[0;36mfindall\u001b[0;34m(pattern, string, flags)\u001b[0m\n\u001b[1;32m    211\u001b[0m \u001b[0;34m\u001b[0m\u001b[0m\n\u001b[1;32m    212\u001b[0m     Empty matches are included in the result.\"\"\"\n\u001b[0;32m--> 213\u001b[0;31m     \u001b[0;32mreturn\u001b[0m \u001b[0m_compile\u001b[0m\u001b[0;34m(\u001b[0m\u001b[0mpattern\u001b[0m\u001b[0;34m,\u001b[0m \u001b[0mflags\u001b[0m\u001b[0;34m)\u001b[0m\u001b[0;34m.\u001b[0m\u001b[0mfindall\u001b[0m\u001b[0;34m(\u001b[0m\u001b[0mstring\u001b[0m\u001b[0;34m)\u001b[0m\u001b[0;34m\u001b[0m\u001b[0m\n\u001b[0m\u001b[1;32m    214\u001b[0m \u001b[0;34m\u001b[0m\u001b[0m\n\u001b[1;32m    215\u001b[0m \u001b[0;32mdef\u001b[0m \u001b[0mfinditer\u001b[0m\u001b[0;34m(\u001b[0m\u001b[0mpattern\u001b[0m\u001b[0;34m,\u001b[0m \u001b[0mstring\u001b[0m\u001b[0;34m,\u001b[0m \u001b[0mflags\u001b[0m\u001b[0;34m=\u001b[0m\u001b[0;36m0\u001b[0m\u001b[0;34m)\u001b[0m\u001b[0;34m:\u001b[0m\u001b[0;34m\u001b[0m\u001b[0m\n",
      "\u001b[0;31mTypeError\u001b[0m: expected string or bytes-like object"
     ]
    }
   ],
   "source": [
    "#MESCO_data['Clean'] = MESCO_data['product_name'].str.replace(r'\\W',' ')\n",
    "MESCO = map(int, re.findall(r'\\d+', MESCO_data['Clean']))"
   ]
  },
  {
   "cell_type": "code",
   "execution_count": 15,
   "metadata": {},
   "outputs": [
    {
     "data": {
      "text/plain": [
       "'CHROMIUM VANADIUM SPRING STEEL ANNEALED  50CRV4 30 00 MM ST BAR 22 FT'"
      ]
     },
     "execution_count": 15,
     "metadata": {},
     "output_type": "execute_result"
    }
   ],
   "source": [
    "MESCO_data['Clean'][657]"
   ]
  },
  {
   "cell_type": "code",
   "execution_count": 40,
   "metadata": {},
   "outputs": [
    {
     "name": "stdout",
     "output_type": "stream",
     "text": [
      "<class 'pandas.core.frame.DataFrame'>\n",
      "RangeIndex: 661 entries, 0 to 660\n",
      "Data columns (total 12 columns):\n",
      "supplier_item_id      661 non-null int64\n",
      "to_company_name       661 non-null object\n",
      "supplier_item_id.1    661 non-null int64\n",
      "product_name          661 non-null object\n",
      "product               661 non-null object\n",
      "sub_type              24 non-null object\n",
      "material              591 non-null object\n",
      "process               492 non-null object\n",
      "grade                 567 non-null object\n",
      "spec                  0 non-null float64\n",
      "brand                 0 non-null float64\n",
      "Clean                 661 non-null object\n",
      "dtypes: float64(2), int64(2), object(8)\n",
      "memory usage: 62.0+ KB\n"
     ]
    }
   ],
   "source": [
    "MESCO_data.info()"
   ]
  },
  {
   "cell_type": "code",
   "execution_count": 51,
   "metadata": {},
   "outputs": [
    {
     "data": {
      "text/plain": [
       "list"
      ]
     },
     "execution_count": 51,
     "metadata": {},
     "output_type": "execute_result"
    }
   ],
   "source": [
    "type(material1)"
   ]
  },
  {
   "cell_type": "code",
   "execution_count": 47,
   "metadata": {},
   "outputs": [
    {
     "data": {
      "text/plain": [
       "str"
      ]
     },
     "execution_count": 47,
     "metadata": {},
     "output_type": "execute_result"
    }
   ],
   "source": [
    "type(MESCO_data['Clean'][660])"
   ]
  },
  {
   "cell_type": "code",
   "execution_count": 16,
   "metadata": {},
   "outputs": [],
   "source": [
    "import sklearn"
   ]
  },
  {
   "cell_type": "code",
   "execution_count": 19,
   "metadata": {},
   "outputs": [],
   "source": [
    "from sklearn.feature_extraction.text import CountVectorizer\n"
   ]
  },
  {
   "cell_type": "code",
   "execution_count": 22,
   "metadata": {},
   "outputs": [],
   "source": [
    "cv1 = CountVectorizer()"
   ]
  },
  {
   "cell_type": "code",
   "execution_count": 23,
   "metadata": {},
   "outputs": [],
   "source": [
    "x_tranzact = IWI_MESCO_data['product_name']"
   ]
  },
  {
   "cell_type": "code",
   "execution_count": 24,
   "metadata": {},
   "outputs": [],
   "source": [
    "x_tranzact_cv = cv1.fit_transform(x_tranzact)"
   ]
  },
  {
   "cell_type": "code",
   "execution_count": 25,
   "metadata": {},
   "outputs": [
    {
     "data": {
      "text/plain": [
       "array([[0, 0, 0, ..., 0, 0, 0],\n",
       "       [0, 0, 0, ..., 0, 0, 0],\n",
       "       [0, 0, 0, ..., 0, 0, 0],\n",
       "       ...,\n",
       "       [1, 0, 0, ..., 0, 0, 0],\n",
       "       [1, 0, 0, ..., 0, 0, 0],\n",
       "       [0, 0, 0, ..., 0, 0, 0]], dtype=int64)"
      ]
     },
     "execution_count": 25,
     "metadata": {},
     "output_type": "execute_result"
    }
   ],
   "source": [
    "x_tranzact_cv.toarray()"
   ]
  },
  {
   "cell_type": "code",
   "execution_count": 26,
   "metadata": {},
   "outputs": [
    {
     "data": {
      "text/plain": [
       "['00',\n",
       " '00950d070100090',\n",
       " '00950d070103820',\n",
       " '03',\n",
       " '05',\n",
       " '07',\n",
       " '09',\n",
       " '10',\n",
       " '100',\n",
       " '1000',\n",
       " '101',\n",
       " '1010',\n",
       " '102',\n",
       " '1050',\n",
       " '11',\n",
       " '110',\n",
       " '1105',\n",
       " '1121',\n",
       " '1155',\n",
       " '1175',\n",
       " '12',\n",
       " '120',\n",
       " '1200',\n",
       " '1220',\n",
       " '1250',\n",
       " '127',\n",
       " '12ft',\n",
       " '12mm',\n",
       " '13',\n",
       " '1320',\n",
       " '1390',\n",
       " '14',\n",
       " '145',\n",
       " '1490',\n",
       " '15',\n",
       " '150',\n",
       " '1500',\n",
       " '152',\n",
       " '16',\n",
       " '160',\n",
       " '1650',\n",
       " '17',\n",
       " '170',\n",
       " '1750',\n",
       " '18',\n",
       " '180',\n",
       " '1800',\n",
       " '1850',\n",
       " '18ft',\n",
       " '19',\n",
       " '1950',\n",
       " '19ft',\n",
       " '20',\n",
       " '200',\n",
       " '201',\n",
       " '205',\n",
       " '2050',\n",
       " '206',\n",
       " '20mm',\n",
       " '21',\n",
       " '2159',\n",
       " '22',\n",
       " '220',\n",
       " '2225',\n",
       " '22ft',\n",
       " '23',\n",
       " '230',\n",
       " '2340',\n",
       " '2380',\n",
       " '24',\n",
       " '2440',\n",
       " '24x110',\n",
       " '25',\n",
       " '250',\n",
       " '2500',\n",
       " '26',\n",
       " '265',\n",
       " '27',\n",
       " '28',\n",
       " '287',\n",
       " '2950',\n",
       " '2m',\n",
       " '30',\n",
       " '300',\n",
       " '3000',\n",
       " '304',\n",
       " '304q',\n",
       " '3050',\n",
       " '31',\n",
       " '310',\n",
       " '315',\n",
       " '316',\n",
       " '317',\n",
       " '32',\n",
       " '321',\n",
       " '325',\n",
       " '33',\n",
       " '330',\n",
       " '34',\n",
       " '340',\n",
       " '347',\n",
       " '35',\n",
       " '350',\n",
       " '36',\n",
       " '37',\n",
       " '38',\n",
       " '39',\n",
       " '3mm',\n",
       " '40',\n",
       " '400',\n",
       " '406',\n",
       " '41314698',\n",
       " '41314699',\n",
       " '4140',\n",
       " '415',\n",
       " '42',\n",
       " '425',\n",
       " '43',\n",
       " '44',\n",
       " '445',\n",
       " '45',\n",
       " '450',\n",
       " '48',\n",
       " '484',\n",
       " '50',\n",
       " '500',\n",
       " '50crv4',\n",
       " '51crv4',\n",
       " '525',\n",
       " '52crmov4',\n",
       " '52crv4',\n",
       " '54sicr6',\n",
       " '55',\n",
       " '550',\n",
       " '5500',\n",
       " '57',\n",
       " '58',\n",
       " '596',\n",
       " '60',\n",
       " '600',\n",
       " '609',\n",
       " '621',\n",
       " '63',\n",
       " '65',\n",
       " '653',\n",
       " '660',\n",
       " '675',\n",
       " '68',\n",
       " '70',\n",
       " '700',\n",
       " '718',\n",
       " '72',\n",
       " '740',\n",
       " '75',\n",
       " '750',\n",
       " '78',\n",
       " '80',\n",
       " '813',\n",
       " '831',\n",
       " '837',\n",
       " '840',\n",
       " '85',\n",
       " '850',\n",
       " '860',\n",
       " '88',\n",
       " '90',\n",
       " '90â',\n",
       " '910',\n",
       " '916',\n",
       " '92',\n",
       " '926',\n",
       " '945',\n",
       " '95',\n",
       " '99',\n",
       " 'a24',\n",
       " 'a3',\n",
       " 'a30',\n",
       " 'a4',\n",
       " 'acros1950',\n",
       " 'ae0',\n",
       " 'ae2',\n",
       " 'air',\n",
       " 'alloyed',\n",
       " 'angle',\n",
       " 'annealed',\n",
       " 'as',\n",
       " 'b2b',\n",
       " 'bar',\n",
       " 'base',\n",
       " 'bcw',\n",
       " 'belt',\n",
       " 'big',\n",
       " 'blaack',\n",
       " 'blade',\n",
       " 'bolt',\n",
       " 'brass',\n",
       " 'brench',\n",
       " 'bronze',\n",
       " 'c24q5b1551',\n",
       " 'canvas',\n",
       " 'castrol',\n",
       " 'chain',\n",
       " 'chainlink',\n",
       " 'chicken',\n",
       " 'chromium',\n",
       " 'cl',\n",
       " 'coil',\n",
       " 'compressor',\n",
       " 'connector',\n",
       " 'conveyor',\n",
       " 'copper',\n",
       " 'cutter',\n",
       " 'cutting',\n",
       " 'demister',\n",
       " 'dia',\n",
       " 'die',\n",
       " 'disc',\n",
       " 'dotted',\n",
       " 'dresser',\n",
       " 'drg',\n",
       " 'eco',\n",
       " 'edge',\n",
       " 'empty',\n",
       " 'en',\n",
       " 'en19',\n",
       " 'en24',\n",
       " 'en45',\n",
       " 'en45a',\n",
       " 'en47',\n",
       " 'enamal',\n",
       " 'epoxy',\n",
       " 'expanded',\n",
       " 'face',\n",
       " 'fdsicr',\n",
       " 'feet',\n",
       " 'flat',\n",
       " 'for',\n",
       " 'frp',\n",
       " 'ft',\n",
       " 'full',\n",
       " 'gi',\n",
       " 'gloves',\n",
       " 'grade',\n",
       " 'grey',\n",
       " 'grinder',\n",
       " 'grinding',\n",
       " 'hand',\n",
       " 'hard',\n",
       " 'hole',\n",
       " 'holes',\n",
       " 'hollander',\n",
       " 'hp',\n",
       " 'hydraulic',\n",
       " 'id',\n",
       " 'inconel',\n",
       " 'inside',\n",
       " 'kwality',\n",
       " 'lavas',\n",
       " 'led',\n",
       " 'length',\n",
       " 'link',\n",
       " 'lite',\n",
       " 'lock',\n",
       " 'long',\n",
       " 'machine',\n",
       " 'magnetic',\n",
       " 'manganese',\n",
       " 'marking',\n",
       " 'measuring',\n",
       " 'mesh',\n",
       " 'micron',\n",
       " 'mild',\n",
       " 'mm',\n",
       " 'monel',\n",
       " 'ms',\n",
       " 'mtr',\n",
       " 'na',\n",
       " 'no',\n",
       " 'nos',\n",
       " 'nut',\n",
       " 'od',\n",
       " 'of',\n",
       " 'oil',\n",
       " 'opening',\n",
       " 'ot',\n",
       " 'outside',\n",
       " 'pad',\n",
       " 'paint',\n",
       " 'paper',\n",
       " 'perforated',\n",
       " 'phoshporus',\n",
       " 'pipe',\n",
       " 'pitch',\n",
       " 'plain',\n",
       " 'plate',\n",
       " 'pp',\n",
       " 'prep',\n",
       " 'prestige',\n",
       " 'printing',\n",
       " 'quality',\n",
       " 'r5v6',\n",
       " 'red',\n",
       " 'rev',\n",
       " 'rod',\n",
       " 'roll',\n",
       " 'rolled',\n",
       " 'rope',\n",
       " 'round',\n",
       " 'sae4140',\n",
       " 'sae6150',\n",
       " 'sae9254',\n",
       " 'screen',\n",
       " 'set',\n",
       " 'sheet',\n",
       " 'silicon',\n",
       " 'size',\n",
       " 'sm',\n",
       " 'small',\n",
       " 'solcut',\n",
       " 'sp',\n",
       " 'spare',\n",
       " 'spring',\n",
       " 'spst',\n",
       " 'ss',\n",
       " 'ss302',\n",
       " 'ss304',\n",
       " 'ss316',\n",
       " 'st',\n",
       " 'stainless',\n",
       " 'std',\n",
       " 'steel',\n",
       " 'stick',\n",
       " 'straight',\n",
       " 'strut',\n",
       " 'sukha',\n",
       " 'sup11',\n",
       " 'sup12b',\n",
       " 'sup7',\n",
       " 'sup9',\n",
       " 'sv',\n",
       " 'swg',\n",
       " 'tape',\n",
       " 'tdr933',\n",
       " 'thck',\n",
       " 'thick',\n",
       " 'thickness',\n",
       " 'thik',\n",
       " 'thk',\n",
       " 'to',\n",
       " 'triangular',\n",
       " 'turbo',\n",
       " 'type',\n",
       " 'uhs1900',\n",
       " 'unalloyed',\n",
       " 'ungalvd',\n",
       " 'vanadium',\n",
       " 'ventilator',\n",
       " 'weave',\n",
       " 'welded',\n",
       " 'wheel',\n",
       " 'white',\n",
       " 'wire',\n",
       " 'wiremesh',\n",
       " 'with',\n",
       " 'wsc',\n",
       " 'x07cr18ni9',\n",
       " 'x17',\n",
       " 'x75']"
      ]
     },
     "execution_count": 26,
     "metadata": {},
     "output_type": "execute_result"
    }
   ],
   "source": [
    "cv1.get_feature_names()"
   ]
  },
  {
   "cell_type": "code",
   "execution_count": null,
   "metadata": {},
   "outputs": [],
   "source": []
  }
 ],
 "metadata": {
  "kernelspec": {
   "display_name": "Python 3",
   "language": "python",
   "name": "python3"
  },
  "language_info": {
   "codemirror_mode": {
    "name": "ipython",
    "version": 3
   },
   "file_extension": ".py",
   "mimetype": "text/x-python",
   "name": "python",
   "nbconvert_exporter": "python",
   "pygments_lexer": "ipython3",
   "version": "3.5.2+"
  }
 },
 "nbformat": 4,
 "nbformat_minor": 2
}
