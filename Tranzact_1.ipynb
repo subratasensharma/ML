{
 "cells": [
  {
   "cell_type": "code",
   "execution_count": 1,
   "metadata": {},
   "outputs": [],
   "source": [
    "import pandas as pd\n",
    "import numpy as np\n",
    "from nltk.corpus import stopwords\n",
    "import re\n",
    "import os"
   ]
  },
  {
   "cell_type": "code",
   "execution_count": 2,
   "metadata": {},
   "outputs": [
    {
     "data": {
      "text/plain": [
       "Index(['Company', 'Supplier', 'Item', 'Category', 'UOM', 'Unnamed: 5',\n",
       "       'Unnamed: 6', 'Unnamed: 7', 'Unnamed: 8', 'Unnamed: 9', 'Unnamed: 10',\n",
       "       'Unnamed: 11', 'Unnamed: 12', 'Unnamed: 13', 'Unnamed: 14',\n",
       "       'Unnamed: 15', 'Unnamed: 16'],\n",
       "      dtype='object')"
      ]
     },
     "execution_count": 2,
     "metadata": {},
     "output_type": "execute_result"
    }
   ],
   "source": [
    "## Loading data - an excell file :\n",
    "\n",
    "data1 = pd.ExcelFile('Tranzact2.xlsx')\n",
    "tranzact_data1 = data1.parse(0)\n",
    "\n",
    "lamba = len(tranzact_data1)\n",
    "tranzact_data1.columns"
   ]
  },
  {
   "cell_type": "code",
   "execution_count": 3,
   "metadata": {},
   "outputs": [
    {
     "name": "stdout",
     "output_type": "stream",
     "text": [
      "<class 'pandas.core.frame.DataFrame'>\n",
      "Int64Index: 28921 entries, 0 to 28921\n",
      "Data columns (total 3 columns):\n",
      "Company     28921 non-null object\n",
      "Supplier    28921 non-null object\n",
      "Item        28921 non-null object\n",
      "dtypes: object(3)\n",
      "memory usage: 903.8+ KB\n"
     ]
    }
   ],
   "source": [
    "tranzact_data2 = tranzact_data1.iloc[0:lamba, 0:3]    ## Remove unnecessary columns\n",
    "tranzact_data2['Item'] = tranzact_data2['Item'].map(lambda x: x if type(x)!=str else x.lower()) ## make Items in lower case\n",
    "tranzact_data = tranzact_data2.dropna()              ## remove rows with cell value none\n",
    "tranzact_data.info()"
   ]
  },
  {
   "cell_type": "code",
   "execution_count": 4,
   "metadata": {},
   "outputs": [
    {
     "data": {
      "text/html": [
       "<div>\n",
       "<style scoped>\n",
       "    .dataframe tbody tr th:only-of-type {\n",
       "        vertical-align: middle;\n",
       "    }\n",
       "\n",
       "    .dataframe tbody tr th {\n",
       "        vertical-align: top;\n",
       "    }\n",
       "\n",
       "    .dataframe thead th {\n",
       "        text-align: right;\n",
       "    }\n",
       "</style>\n",
       "<table border=\"1\" class=\"dataframe\">\n",
       "  <thead>\n",
       "    <tr style=\"text-align: right;\">\n",
       "      <th></th>\n",
       "      <th>Company</th>\n",
       "      <th>Supplier</th>\n",
       "      <th>Item</th>\n",
       "    </tr>\n",
       "  </thead>\n",
       "  <tbody>\n",
       "    <tr>\n",
       "      <th>0</th>\n",
       "      <td>M/S Plastech</td>\n",
       "      <td>Pukhraj Additives LLP</td>\n",
       "      <td>zincoplast zinc</td>\n",
       "    </tr>\n",
       "    <tr>\n",
       "      <th>1</th>\n",
       "      <td>M/S Plastech</td>\n",
       "      <td>Pukhraj Additives LLP</td>\n",
       "      <td>zincoplast pyn</td>\n",
       "    </tr>\n",
       "    <tr>\n",
       "      <th>2</th>\n",
       "      <td>Modern Engineering &amp; Spring Company</td>\n",
       "      <td>Bijal Steels</td>\n",
       "      <td>chromium manganese spring steel as rolled, sup...</td>\n",
       "    </tr>\n",
       "    <tr>\n",
       "      <th>3</th>\n",
       "      <td>Modern Engineering &amp; Spring Company</td>\n",
       "      <td>Bijal Steels</td>\n",
       "      <td>chromium manganese spring steel as rolled, sup...</td>\n",
       "    </tr>\n",
       "    <tr>\n",
       "      <th>4</th>\n",
       "      <td>Modern Engineering &amp; Spring Company</td>\n",
       "      <td>Bijal Steels</td>\n",
       "      <td>chromium manganese spring steel as rolled, sup...</td>\n",
       "    </tr>\n",
       "  </tbody>\n",
       "</table>\n",
       "</div>"
      ],
      "text/plain": [
       "                               Company               Supplier  \\\n",
       "0                         M/S Plastech  Pukhraj Additives LLP   \n",
       "1                         M/S Plastech  Pukhraj Additives LLP   \n",
       "2  Modern Engineering & Spring Company           Bijal Steels   \n",
       "3  Modern Engineering & Spring Company           Bijal Steels   \n",
       "4  Modern Engineering & Spring Company           Bijal Steels   \n",
       "\n",
       "                                                Item  \n",
       "0                                    zincoplast zinc  \n",
       "1                                     zincoplast pyn  \n",
       "2  chromium manganese spring steel as rolled, sup...  \n",
       "3  chromium manganese spring steel as rolled, sup...  \n",
       "4  chromium manganese spring steel as rolled, sup...  "
      ]
     },
     "execution_count": 4,
     "metadata": {},
     "output_type": "execute_result"
    }
   ],
   "source": [
    "tranzact_data.head()"
   ]
  },
  {
   "cell_type": "code",
   "execution_count": 5,
   "metadata": {},
   "outputs": [
    {
     "name": "stdout",
     "output_type": "stream",
     "text": [
      "ms sheet  ft x  ft x . mm -  nos\n",
      "ms sheet  ft x  ft x   mm    nos\n",
      "ms sheet  ft x  ft x   mm    nos\n",
      "ms sheet  ft   ft    mm    nos\n",
      "ms sheet ft ft mm nos\n",
      "ms sheet\n"
     ]
    }
   ],
   "source": [
    "## Cleaning the Item Description to create a feature matrix :\n",
    "\n",
    "pd.options.mode.chained_assignment = None\n",
    "\n",
    "tranzact_data['features'] = tranzact_data['Item'].str.replace(r'\\b\\d+\\b','')  ## remove integers\n",
    "print(tranzact_data['features'][5])\n",
    "\n",
    "tranzact_data['features'] = tranzact_data['features'].str.replace(r'\\W',' ')   ## remove puntuations\n",
    "print(tranzact_data['features'][5])\n",
    "\n",
    "tranzact_data['features'] = tranzact_data['features'].str.replace(r'\\b\\d+\\mm\\b',' ')   ## remove all 'mm' dimensions only\n",
    "print(tranzact_data['features'][5])\n",
    "\n",
    "tranzact_data['features'] = tranzact_data['features'].str.replace(r'\\b\\w\\b','') ## remove stand alone single letters\n",
    "print(tranzact_data['features'][5])\n",
    "\n",
    "tranzact_data['features'] = tranzact_data['features'].str.replace(r'\\s+',' ') ## remove gaps between words to singe gap\n",
    "print(tranzact_data['features'][5])\n",
    "\n",
    "\n",
    "## Removing unneccessary words like measurment units etc.\n",
    "                                                                        \n",
    "words = stopwords.words(\"english\")\n",
    "\n",
    "words.append('mm')\n",
    "words.append('ft')\n",
    "words.append('as')\n",
    "words.append('to')\n",
    "words.append('nos')\n",
    "\n",
    "tranzact_data['features']= tranzact_data['features'].apply(lambda x:' '.join([i for i in x.split()\n",
    "                                                                                if i not in words]).lower())\n",
    "print(tranzact_data['features'][5])"
   ]
  },
  {
   "cell_type": "code",
   "execution_count": 6,
   "metadata": {},
   "outputs": [],
   "source": [
    "## Taking out the new file:\n",
    "\n",
    "writer = pd.ExcelWriter('Tranzact2_features.xlsx', engine='xlsxwriter')\n",
    "\n",
    "tranzact_data.to_excel(writer, sheet_name='Sheet1')\n",
    "\n",
    "writer.save()"
   ]
  },
  {
   "cell_type": "code",
   "execution_count": null,
   "metadata": {},
   "outputs": [],
   "source": []
  }
 ],
 "metadata": {
  "kernelspec": {
   "display_name": "Python 3",
   "language": "python",
   "name": "python3"
  },
  "language_info": {
   "codemirror_mode": {
    "name": "ipython",
    "version": 3
   },
   "file_extension": ".py",
   "mimetype": "text/x-python",
   "name": "python",
   "nbconvert_exporter": "python",
   "pygments_lexer": "ipython3",
   "version": "3.5.2+"
  }
 },
 "nbformat": 4,
 "nbformat_minor": 2
}
