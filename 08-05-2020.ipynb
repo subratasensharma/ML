{
 "cells": [
  {
   "cell_type": "code",
   "execution_count": null,
   "metadata": {},
   "outputs": [],
   "source": []
  },
  {
   "cell_type": "code",
   "execution_count": 1,
   "metadata": {},
   "outputs": [],
   "source": [
    "import os\n",
    "from os import listdir\n",
    "import xml.etree.ElementTree as ET\n",
    "import pandas as pd\n",
    "import glob"
   ]
  },
  {
   "cell_type": "code",
   "execution_count": 3,
   "metadata": {},
   "outputs": [],
   "source": [
    "# function to extract bounding boxes from an annotation file\n",
    "\n",
    "def extract_boxes(filename):\n",
    "    \n",
    "    blood_frame = pd.DataFrame()\n",
    "    \n",
    "    # load and parse the file\n",
    "    tree = ET.parse(filename)\n",
    "    \n",
    "    # get the root of the document\n",
    "    root = tree.getroot()\n",
    "    \n",
    "    # extract each bounding box\n",
    "    boxes = list()\n",
    "    i_name = root[1].text    # since image name is in position [1] of .xml file - see .xml file\n",
    "    width = int(root.find('.//size/width').text)\n",
    "    height = int(root.find('.//size/height').text)\n",
    "    \n",
    "    \n",
    "    for box in root.findall('.//object'):\n",
    "        \n",
    "        c_name = box.find('name').text\n",
    "        \n",
    "        xmin = int(box.find('.//bndbox/xmin').text)\n",
    "        ymin = int(box.find('.//bndbox/ymin').text)\n",
    "        xmax = int(box.find('.//bndbox/xmax').text)\n",
    "        ymax = int(box.find('.//bndbox/ymax').text)\n",
    "        coors = [i_name, c_name, xmin, xmax, ymin, ymax, width, height]\n",
    "        boxes.append(coors)\n",
    "        \n",
    "    blood_frame = pd.DataFrame(boxes)\n",
    "    \n",
    "    return blood_frame"
   ]
  },
  {
   "cell_type": "code",
   "execution_count": 4,
   "metadata": {},
   "outputs": [],
   "source": [
    "# Extract all info incl. boundary boxes from annotation file and creating a dataframe :\n",
    "\n",
    "files = glob.glob('/home/scar3crow/Downloads/BCCD_Dataset-master/BCCD/Annotations/*.xml')\n",
    "\n",
    "col_names = ['image_names', 'cell_type', 'xmin', 'xmax', 'ymin', 'ymax', 'width', 'height']\n",
    "\n",
    "b_frame = pd.DataFrame()\n",
    "\n",
    "for i in range(len(files)):\n",
    "#    b_frame.append(extract_boxes(files[i]))\n",
    "    b_frame = pd.concat([b_frame, extract_boxes(files[i])])\n",
    "    \n",
    "b_frame.columns = col_names\n",
    "\n",
    "b_frame = b_frame.reset_index(drop = True)"
   ]
  },
  {
   "cell_type": "code",
   "execution_count": 6,
   "metadata": {},
   "outputs": [
    {
     "name": "stdout",
     "output_type": "stream",
     "text": [
      "Number of unique images =  364\n",
      "Number of classes in diff. categories =  RBC          4155\n",
      "WBC           372\n",
      "Platelets     361\n",
      "Name: cell_type, dtype: int64\n"
     ]
    },
    {
     "data": {
      "text/html": [
       "<div>\n",
       "<style scoped>\n",
       "    .dataframe tbody tr th:only-of-type {\n",
       "        vertical-align: middle;\n",
       "    }\n",
       "\n",
       "    .dataframe tbody tr th {\n",
       "        vertical-align: top;\n",
       "    }\n",
       "\n",
       "    .dataframe thead th {\n",
       "        text-align: right;\n",
       "    }\n",
       "</style>\n",
       "<table border=\"1\" class=\"dataframe\">\n",
       "  <thead>\n",
       "    <tr style=\"text-align: right;\">\n",
       "      <th></th>\n",
       "      <th>image_names</th>\n",
       "      <th>cell_type</th>\n",
       "      <th>xmin</th>\n",
       "      <th>xmax</th>\n",
       "      <th>ymin</th>\n",
       "      <th>ymax</th>\n",
       "      <th>width</th>\n",
       "      <th>height</th>\n",
       "    </tr>\n",
       "  </thead>\n",
       "  <tbody>\n",
       "    <tr>\n",
       "      <th>4885</th>\n",
       "      <td>BloodImage_00248.jpg</td>\n",
       "      <td>WBC</td>\n",
       "      <td>149</td>\n",
       "      <td>354</td>\n",
       "      <td>233</td>\n",
       "      <td>423</td>\n",
       "      <td>640</td>\n",
       "      <td>480</td>\n",
       "    </tr>\n",
       "    <tr>\n",
       "      <th>4886</th>\n",
       "      <td>BloodImage_00147.jpg</td>\n",
       "      <td>Platelets</td>\n",
       "      <td>200</td>\n",
       "      <td>238</td>\n",
       "      <td>249</td>\n",
       "      <td>294</td>\n",
       "      <td>640</td>\n",
       "      <td>480</td>\n",
       "    </tr>\n",
       "    <tr>\n",
       "      <th>4887</th>\n",
       "      <td>BloodImage_00147.jpg</td>\n",
       "      <td>WBC</td>\n",
       "      <td>339</td>\n",
       "      <td>514</td>\n",
       "      <td>42</td>\n",
       "      <td>207</td>\n",
       "      <td>640</td>\n",
       "      <td>480</td>\n",
       "    </tr>\n",
       "  </tbody>\n",
       "</table>\n",
       "</div>"
      ],
      "text/plain": [
       "               image_names  cell_type  xmin  xmax  ymin  ymax  width  height\n",
       "4885  BloodImage_00248.jpg        WBC   149   354   233   423    640     480\n",
       "4886  BloodImage_00147.jpg  Platelets   200   238   249   294    640     480\n",
       "4887  BloodImage_00147.jpg        WBC   339   514    42   207    640     480"
      ]
     },
     "execution_count": 6,
     "metadata": {},
     "output_type": "execute_result"
    }
   ],
   "source": [
    "print('Number of unique images = ', b_frame['image_names'].nunique())  # print total no, of unique images\n",
    "\n",
    "print('Number of classes in diff. categories = ', b_frame['cell_type'].value_counts()) \n",
    "\n",
    "b_frame.tail(3)"
   ]
  },
  {
   "cell_type": "code",
   "execution_count": 34,
   "metadata": {},
   "outputs": [],
   "source": [
    "# making train_dataframe for images in train_images\n",
    "\n",
    "train_df = pd.DataFrame()\n",
    "\n",
    "train_image_list = list()\n",
    "train_image_list = listdir('/home/scar3crow/Dropbox/WorkStation-Subrata/python/keras-frcnn/train_images')\n",
    "\n",
    "train_df = b_frame.loc[b_frame['image_names'].isin(train_image_list)]\n",
    "\n",
    "train_df = train_df.reset_index(drop=True)"
   ]
  },
  {
   "cell_type": "code",
   "execution_count": 35,
   "metadata": {},
   "outputs": [
    {
     "data": {
      "text/html": [
       "<div>\n",
       "<style scoped>\n",
       "    .dataframe tbody tr th:only-of-type {\n",
       "        vertical-align: middle;\n",
       "    }\n",
       "\n",
       "    .dataframe tbody tr th {\n",
       "        vertical-align: top;\n",
       "    }\n",
       "\n",
       "    .dataframe thead th {\n",
       "        text-align: right;\n",
       "    }\n",
       "</style>\n",
       "<table border=\"1\" class=\"dataframe\">\n",
       "  <thead>\n",
       "    <tr style=\"text-align: right;\">\n",
       "      <th></th>\n",
       "      <th>image_names</th>\n",
       "      <th>cell_type</th>\n",
       "      <th>xmin</th>\n",
       "      <th>xmax</th>\n",
       "      <th>ymin</th>\n",
       "      <th>ymax</th>\n",
       "      <th>width</th>\n",
       "      <th>height</th>\n",
       "    </tr>\n",
       "  </thead>\n",
       "  <tbody>\n",
       "    <tr>\n",
       "      <th>3404</th>\n",
       "      <td>BloodImage_00248.jpg</td>\n",
       "      <td>WBC</td>\n",
       "      <td>149</td>\n",
       "      <td>354</td>\n",
       "      <td>233</td>\n",
       "      <td>423</td>\n",
       "      <td>640</td>\n",
       "      <td>480</td>\n",
       "    </tr>\n",
       "    <tr>\n",
       "      <th>3405</th>\n",
       "      <td>BloodImage_00147.jpg</td>\n",
       "      <td>Platelets</td>\n",
       "      <td>200</td>\n",
       "      <td>238</td>\n",
       "      <td>249</td>\n",
       "      <td>294</td>\n",
       "      <td>640</td>\n",
       "      <td>480</td>\n",
       "    </tr>\n",
       "    <tr>\n",
       "      <th>3406</th>\n",
       "      <td>BloodImage_00147.jpg</td>\n",
       "      <td>WBC</td>\n",
       "      <td>339</td>\n",
       "      <td>514</td>\n",
       "      <td>42</td>\n",
       "      <td>207</td>\n",
       "      <td>640</td>\n",
       "      <td>480</td>\n",
       "    </tr>\n",
       "  </tbody>\n",
       "</table>\n",
       "</div>"
      ],
      "text/plain": [
       "               image_names  cell_type  xmin  xmax  ymin  ymax  width  height\n",
       "3404  BloodImage_00248.jpg        WBC   149   354   233   423    640     480\n",
       "3405  BloodImage_00147.jpg  Platelets   200   238   249   294    640     480\n",
       "3406  BloodImage_00147.jpg        WBC   339   514    42   207    640     480"
      ]
     },
     "execution_count": 35,
     "metadata": {},
     "output_type": "execute_result"
    }
   ],
   "source": [
    "train_df.tail(3)"
   ]
  },
  {
   "cell_type": "code",
   "execution_count": 36,
   "metadata": {},
   "outputs": [
    {
     "name": "stdout",
     "output_type": "stream",
     "text": [
      "Number of images in train_images file =  254\n",
      "Number of unique images in train dataframe =  254\n"
     ]
    }
   ],
   "source": [
    "print('Number of images in train_images file = ', len(train_image_list))\n",
    "print('Number of unique images in train dataframe = ', train_df['image_names'].nunique())"
   ]
  },
  {
   "cell_type": "code",
   "execution_count": 37,
   "metadata": {},
   "outputs": [
    {
     "data": {
      "text/html": [
       "<div>\n",
       "<style scoped>\n",
       "    .dataframe tbody tr th:only-of-type {\n",
       "        vertical-align: middle;\n",
       "    }\n",
       "\n",
       "    .dataframe tbody tr th {\n",
       "        vertical-align: top;\n",
       "    }\n",
       "\n",
       "    .dataframe thead th {\n",
       "        text-align: right;\n",
       "    }\n",
       "</style>\n",
       "<table border=\"1\" class=\"dataframe\">\n",
       "  <thead>\n",
       "    <tr style=\"text-align: right;\">\n",
       "      <th></th>\n",
       "      <th>format</th>\n",
       "    </tr>\n",
       "  </thead>\n",
       "  <tbody>\n",
       "    <tr>\n",
       "      <th>3404</th>\n",
       "      <td>BloodImage_00248.jpg</td>\n",
       "    </tr>\n",
       "    <tr>\n",
       "      <th>3405</th>\n",
       "      <td>BloodImage_00147.jpg</td>\n",
       "    </tr>\n",
       "    <tr>\n",
       "      <th>3406</th>\n",
       "      <td>BloodImage_00147.jpg</td>\n",
       "    </tr>\n",
       "  </tbody>\n",
       "</table>\n",
       "</div>"
      ],
      "text/plain": [
       "                    format\n",
       "3404  BloodImage_00248.jpg\n",
       "3405  BloodImage_00147.jpg\n",
       "3406  BloodImage_00147.jpg"
      ]
     },
     "execution_count": 37,
     "metadata": {},
     "output_type": "execute_result"
    }
   ],
   "source": [
    "data = pd.DataFrame()\n",
    "\n",
    "data['format'] = train_df['image_names']\n",
    "\n",
    "data.tail(3)"
   ]
  },
  {
   "cell_type": "code",
   "execution_count": 19,
   "metadata": {},
   "outputs": [
    {
     "name": "stdout",
     "output_type": "stream",
     "text": [
      "/home/scar3crow/Dropbox/WorkStation-Subrata/python/keras-frcnn\n"
     ]
    }
   ],
   "source": [
    "cd keras-frcnn"
   ]
  },
  {
   "cell_type": "code",
   "execution_count": 39,
   "metadata": {},
   "outputs": [],
   "source": [
    "# as the images are in train_images folder, add train_images before the image name\n",
    "\n",
    "for i in range(data.shape[0]):\n",
    "    data['format'][i] = '/home/scar3crow/Dropbox/WorkStation-Subrata/python/keras-frcnn/train_images/' + data['format'][i]\n",
    "    \n",
    "    \n",
    "# add xmin, ymin, xmax, ymax and class as per the format required\n",
    "for i in range(data.shape[0]):\n",
    "    data['format'][i] = data['format'][i] + ',' + str(train_df['xmin'][i]) + ',' + str(train_df['ymin'][i]) + ',' + str(train_df['xmax'][i]) + ',' + str(train_df['ymax'][i]) + ',' + train_df['cell_type'][i]\n",
    "\n",
    "data.to_csv('annotate_new.txt', header=None, index=None, sep=' ')\n"
   ]
  },
  {
   "cell_type": "code",
   "execution_count": null,
   "metadata": {},
   "outputs": [
    {
     "name": "stdout",
     "output_type": "stream",
     "text": [
      "Using TensorFlow backend.\n",
      "/home/scar3crow/Dropbox/WorkStation-Subrata/python/venv1/lib/python3.5/site-packages/tensorflow/python/framework/dtypes.py:523: FutureWarning: Passing (type, 1) or '1type' as a synonym of type is deprecated; in a future version of numpy, it will be understood as (type, (1,)) / '(1,)type'.\n",
      "  _np_qint8 = np.dtype([(\"qint8\", np.int8, 1)])\n",
      "/home/scar3crow/Dropbox/WorkStation-Subrata/python/venv1/lib/python3.5/site-packages/tensorflow/python/framework/dtypes.py:524: FutureWarning: Passing (type, 1) or '1type' as a synonym of type is deprecated; in a future version of numpy, it will be understood as (type, (1,)) / '(1,)type'.\n",
      "  _np_quint8 = np.dtype([(\"quint8\", np.uint8, 1)])\n",
      "/home/scar3crow/Dropbox/WorkStation-Subrata/python/venv1/lib/python3.5/site-packages/tensorflow/python/framework/dtypes.py:525: FutureWarning: Passing (type, 1) or '1type' as a synonym of type is deprecated; in a future version of numpy, it will be understood as (type, (1,)) / '(1,)type'.\n",
      "  _np_qint16 = np.dtype([(\"qint16\", np.int16, 1)])\n",
      "/home/scar3crow/Dropbox/WorkStation-Subrata/python/venv1/lib/python3.5/site-packages/tensorflow/python/framework/dtypes.py:526: FutureWarning: Passing (type, 1) or '1type' as a synonym of type is deprecated; in a future version of numpy, it will be understood as (type, (1,)) / '(1,)type'.\n",
      "  _np_quint16 = np.dtype([(\"quint16\", np.uint16, 1)])\n",
      "/home/scar3crow/Dropbox/WorkStation-Subrata/python/venv1/lib/python3.5/site-packages/tensorflow/python/framework/dtypes.py:527: FutureWarning: Passing (type, 1) or '1type' as a synonym of type is deprecated; in a future version of numpy, it will be understood as (type, (1,)) / '(1,)type'.\n",
      "  _np_qint32 = np.dtype([(\"qint32\", np.int32, 1)])\n",
      "/home/scar3crow/Dropbox/WorkStation-Subrata/python/venv1/lib/python3.5/site-packages/tensorflow/python/framework/dtypes.py:532: FutureWarning: Passing (type, 1) or '1type' as a synonym of type is deprecated; in a future version of numpy, it will be understood as (type, (1,)) / '(1,)type'.\n",
      "  np_resource = np.dtype([(\"resource\", np.ubyte, 1)])\n",
      "Parsing annotation files\n",
      "Training images per class:\n",
      "{'Platelets': 264, 'RBC': 2882, 'WBC': 261, 'bg': 0}\n",
      "Num classes (including bg) = 4\n",
      "Config has been written to config.pickle, and can be loaded when testing to ensure correct results\n",
      "Num train samples 208\n",
      "Num val samples 46\n",
      "loading weights from resnet50_weights_tf_dim_ordering_tf_kernels.h5\n",
      "Could not load pretrained model weights. Weights can be found in the keras application folder \t\thttps://github.com/fchollet/keras/tree/master/keras/applications\n",
      "Starting training\n",
      "Epoch 1/2000\n",
      "2020-05-08 20:52:40.097940: I tensorflow/core/platform/cpu_feature_guard.cc:141] Your CPU supports instructions that this TensorFlow binary was not compiled to use: AVX2 FMA\n",
      "2020-05-08 20:52:41.955875: W tensorflow/core/framework/allocator.cc:108] Allocation of 18874368 exceeds 10% of system memory.\n",
      "2020-05-08 20:52:41.992706: W tensorflow/core/framework/allocator.cc:108] Allocation of 18874368 exceeds 10% of system memory.\n",
      "2020-05-08 20:52:42.057125: W tensorflow/core/framework/allocator.cc:108] Allocation of 18874368 exceeds 10% of system memory.\n",
      "2020-05-08 20:52:42.074573: W tensorflow/core/framework/allocator.cc:108] Allocation of 18874368 exceeds 10% of system memory.\n",
      "2020-05-08 20:52:42.143492: W tensorflow/core/framework/allocator.cc:108] Allocation of 18874368 exceeds 10% of system memory.\n",
      " 15/100 [===>..........................] - ETA: 38:26 - rpn_cls: 5.4171 - rpn_regr: 0.1241 - detector_cls: 0.7851 - detector_regr: 0.5180"
     ]
    }
   ],
   "source": [
    "!python3 train_frcnn.py -o simple -p annotate_new.txt"
   ]
  },
  {
   "cell_type": "code",
   "execution_count": null,
   "metadata": {},
   "outputs": [],
   "source": []
  }
 ],
 "metadata": {
  "kernelspec": {
   "display_name": "Python 3",
   "language": "python",
   "name": "python3"
  },
  "language_info": {
   "codemirror_mode": {
    "name": "ipython",
    "version": 3
   },
   "file_extension": ".py",
   "mimetype": "text/x-python",
   "name": "python",
   "nbconvert_exporter": "python",
   "pygments_lexer": "ipython3",
   "version": "3.5.2+"
  }
 },
 "nbformat": 4,
 "nbformat_minor": 2
}
