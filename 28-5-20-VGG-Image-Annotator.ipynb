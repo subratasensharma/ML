{
 "cells": [
  {
   "cell_type": "code",
   "execution_count": 32,
   "metadata": {},
   "outputs": [],
   "source": [
    "import json\n",
    "import cv2"
   ]
  },
  {
   "cell_type": "code",
   "execution_count": 2,
   "metadata": {},
   "outputs": [
    {
     "data": {
      "text/plain": [
       "'/home/scar3crow/Dropbox/WorkStation-Subrata/python'"
      ]
     },
     "execution_count": 2,
     "metadata": {},
     "output_type": "execute_result"
    }
   ],
   "source": [
    "pwd\n"
   ]
  },
  {
   "cell_type": "code",
   "execution_count": 16,
   "metadata": {},
   "outputs": [
    {
     "name": "stdout",
     "output_type": "stream",
     "text": [
      "{'30.jpg67870': {'file_attributes': {}, 'regions': [], 'filename': '30.jpg', 'size': 67870}, '31.jpg40723': {'file_attributes': {}, 'regions': [], 'filename': '31.jpg', 'size': 40723}, '34.jpg59090': {'file_attributes': {}, 'regions': [{'shape_attributes': {'width': 75, 'y': 19, 'height': 16, 'x': 251, 'name': 'rect'}, 'region_attributes': {'text': 'invoice'}}, {'shape_attributes': {'width': 55, 'y': 49, 'height': 23, 'x': 320, 'name': 'rect'}, 'region_attributes': {'text': 'invoice'}}, {'shape_attributes': {'width': 78, 'y': 108, 'height': 22, 'x': 321, 'name': 'rect'}, 'region_attributes': {'text': 'po'}}, {'shape_attributes': {'width': 153, 'y': 236, 'height': 77, 'x': 63, 'name': 'rect'}, 'region_attributes': {'text': 'item1'}}, {'shape_attributes': {'width': 44, 'y': 233, 'height': 36, 'x': 223, 'name': 'rect'}, 'region_attributes': {'text': 'hsn1'}}, {'shape_attributes': {'width': 172, 'y': 147, 'height': 15, 'x': 45, 'name': 'rect'}, 'region_attributes': {'text': 'gstinven'}}, {'shape_attributes': {'width': 142, 'y': 77, 'height': 13, 'x': 50, 'name': 'rect'}, 'region_attributes': {'text': 'gstincus'}}], 'filename': '34.jpg', 'size': 59090}, '35.jpg58262': {'file_attributes': {}, 'regions': [], 'filename': '35.jpg', 'size': 58262}, '36.jpg54190': {'file_attributes': {}, 'regions': [{'shape_attributes': {'width': 120, 'y': 21, 'height': 23, 'x': 230, 'name': 'rect'}, 'region_attributes': {'': 'invoice'}}, {'shape_attributes': {'width': 105, 'y': 161, 'height': 16, 'x': 324, 'name': 'rect'}, 'region_attributes': {'': 'invoice'}}, {'shape_attributes': {'width': 143, 'y': 193, 'height': 22, 'x': 322, 'name': 'rect'}, 'region_attributes': {'': 'po'}}, {'shape_attributes': {'width': 190, 'y': 207, 'height': 13, 'x': 85, 'name': 'rect'}, 'region_attributes': {'': 'gstincus'}}, {'shape_attributes': {'width': 78, 'y': 232, 'height': 141, 'x': 184, 'name': 'rect'}, 'region_attributes': {'': 'item1'}}, {'shape_attributes': {'width': 48, 'y': 239, 'height': 132, 'x': 269, 'name': 'rect'}, 'region_attributes': {'': 'hsn1'}}], 'filename': '36.jpg', 'size': 54190}, '33.jpg47939': {'file_attributes': {}, 'regions': [], 'filename': '33.jpg', 'size': 47939}, '32.jpg42550': {'file_attributes': {}, 'regions': [], 'filename': '32.jpg', 'size': 42550}}\n"
     ]
    }
   ],
   "source": [
    "with open('/home/scar3crow/Downloads/via_export_json (1).json') as f:\n",
    "  data = json.load(f)\n",
    "\n",
    "# Output: {'name': 'Bob', 'languages': ['English', 'Fench']}\n",
    "print(data)"
   ]
  },
  {
   "cell_type": "code",
   "execution_count": 17,
   "metadata": {},
   "outputs": [
    {
     "name": "stdout",
     "output_type": "stream",
     "text": [
      "file_attributes\n",
      "regions\n",
      "filename\n",
      "size\n"
     ]
    }
   ],
   "source": [
    "# Opening JSON file \n",
    "f = open('/home/scar3crow/Downloads/via_export_json (1).json',) \n",
    "  \n",
    "# returns JSON object as  \n",
    "# a dictionary \n",
    "data_1 = json.load(f) \n",
    "  \n",
    "# Iterating through the json \n",
    "# list \n",
    "for i in data_1['34.jpg59090']: \n",
    "    print(i) \n",
    "  \n",
    "# Closing file \n",
    "f.close() \n"
   ]
  },
  {
   "cell_type": "code",
   "execution_count": 18,
   "metadata": {},
   "outputs": [
    {
     "data": {
      "text/plain": [
       "{'file_attributes': {},\n",
       " 'filename': '36.jpg',\n",
       " 'regions': [{'region_attributes': {'': 'invoice'},\n",
       "   'shape_attributes': {'height': 23,\n",
       "    'name': 'rect',\n",
       "    'width': 120,\n",
       "    'x': 230,\n",
       "    'y': 21}},\n",
       "  {'region_attributes': {'': 'invoice'},\n",
       "   'shape_attributes': {'height': 16,\n",
       "    'name': 'rect',\n",
       "    'width': 105,\n",
       "    'x': 324,\n",
       "    'y': 161}},\n",
       "  {'region_attributes': {'': 'po'},\n",
       "   'shape_attributes': {'height': 22,\n",
       "    'name': 'rect',\n",
       "    'width': 143,\n",
       "    'x': 322,\n",
       "    'y': 193}},\n",
       "  {'region_attributes': {'': 'gstincus'},\n",
       "   'shape_attributes': {'height': 13,\n",
       "    'name': 'rect',\n",
       "    'width': 190,\n",
       "    'x': 85,\n",
       "    'y': 207}},\n",
       "  {'region_attributes': {'': 'item1'},\n",
       "   'shape_attributes': {'height': 141,\n",
       "    'name': 'rect',\n",
       "    'width': 78,\n",
       "    'x': 184,\n",
       "    'y': 232}},\n",
       "  {'region_attributes': {'': 'hsn1'},\n",
       "   'shape_attributes': {'height': 132,\n",
       "    'name': 'rect',\n",
       "    'width': 48,\n",
       "    'x': 269,\n",
       "    'y': 239}}],\n",
       " 'size': 54190}"
      ]
     },
     "execution_count": 18,
     "metadata": {},
     "output_type": "execute_result"
    }
   ],
   "source": [
    "data_1['36.jpg54190']"
   ]
  },
  {
   "cell_type": "code",
   "execution_count": 24,
   "metadata": {},
   "outputs": [
    {
     "data": {
      "text/plain": [
       "{'': 'invoice'}"
      ]
     },
     "execution_count": 24,
     "metadata": {},
     "output_type": "execute_result"
    }
   ],
   "source": [
    "data_1['36.jpg54190']['regions'][0]['region_attributes']"
   ]
  },
  {
   "cell_type": "code",
   "execution_count": 26,
   "metadata": {},
   "outputs": [
    {
     "data": {
      "text/plain": [
       "23"
      ]
     },
     "execution_count": 26,
     "metadata": {},
     "output_type": "execute_result"
    }
   ],
   "source": [
    "data_1['36.jpg54190']['regions'][0]['shape_attributes']['height']"
   ]
  },
  {
   "cell_type": "code",
   "execution_count": 27,
   "metadata": {},
   "outputs": [
    {
     "data": {
      "text/plain": [
       "'36.jpg'"
      ]
     },
     "execution_count": 27,
     "metadata": {},
     "output_type": "execute_result"
    }
   ],
   "source": [
    "data_1['36.jpg54190']['filename']"
   ]
  },
  {
   "cell_type": "code",
   "execution_count": 28,
   "metadata": {},
   "outputs": [
    {
     "name": "stdout",
     "output_type": "stream",
     "text": [
      "<class 'dict'>\n"
     ]
    }
   ],
   "source": [
    "print(type(data_1['36.jpg54190']))"
   ]
  },
  {
   "cell_type": "code",
   "execution_count": 30,
   "metadata": {},
   "outputs": [
    {
     "data": {
      "text/plain": [
       "{'30.jpg67870': {'file_attributes': {},\n",
       "  'filename': '30.jpg',\n",
       "  'regions': [],\n",
       "  'size': 67870},\n",
       " '31.jpg40723': {'file_attributes': {},\n",
       "  'filename': '31.jpg',\n",
       "  'regions': [],\n",
       "  'size': 40723},\n",
       " '32.jpg42550': {'file_attributes': {},\n",
       "  'filename': '32.jpg',\n",
       "  'regions': [],\n",
       "  'size': 42550},\n",
       " '33.jpg47939': {'file_attributes': {},\n",
       "  'filename': '33.jpg',\n",
       "  'regions': [],\n",
       "  'size': 47939},\n",
       " '34.jpg59090': {'file_attributes': {},\n",
       "  'filename': '34.jpg',\n",
       "  'regions': [{'region_attributes': {'text': 'invoice'},\n",
       "    'shape_attributes': {'height': 16,\n",
       "     'name': 'rect',\n",
       "     'width': 75,\n",
       "     'x': 251,\n",
       "     'y': 19}},\n",
       "   {'region_attributes': {'text': 'invoice'},\n",
       "    'shape_attributes': {'height': 23,\n",
       "     'name': 'rect',\n",
       "     'width': 55,\n",
       "     'x': 320,\n",
       "     'y': 49}},\n",
       "   {'region_attributes': {'text': 'po'},\n",
       "    'shape_attributes': {'height': 22,\n",
       "     'name': 'rect',\n",
       "     'width': 78,\n",
       "     'x': 321,\n",
       "     'y': 108}},\n",
       "   {'region_attributes': {'text': 'item1'},\n",
       "    'shape_attributes': {'height': 77,\n",
       "     'name': 'rect',\n",
       "     'width': 153,\n",
       "     'x': 63,\n",
       "     'y': 236}},\n",
       "   {'region_attributes': {'text': 'hsn1'},\n",
       "    'shape_attributes': {'height': 36,\n",
       "     'name': 'rect',\n",
       "     'width': 44,\n",
       "     'x': 223,\n",
       "     'y': 233}},\n",
       "   {'region_attributes': {'text': 'gstinven'},\n",
       "    'shape_attributes': {'height': 15,\n",
       "     'name': 'rect',\n",
       "     'width': 172,\n",
       "     'x': 45,\n",
       "     'y': 147}},\n",
       "   {'region_attributes': {'text': 'gstincus'},\n",
       "    'shape_attributes': {'height': 13,\n",
       "     'name': 'rect',\n",
       "     'width': 142,\n",
       "     'x': 50,\n",
       "     'y': 77}}],\n",
       "  'size': 59090},\n",
       " '35.jpg58262': {'file_attributes': {},\n",
       "  'filename': '35.jpg',\n",
       "  'regions': [],\n",
       "  'size': 58262},\n",
       " '36.jpg54190': {'file_attributes': {},\n",
       "  'filename': '36.jpg',\n",
       "  'regions': [{'region_attributes': {'': 'invoice'},\n",
       "    'shape_attributes': {'height': 23,\n",
       "     'name': 'rect',\n",
       "     'width': 120,\n",
       "     'x': 230,\n",
       "     'y': 21}},\n",
       "   {'region_attributes': {'': 'invoice'},\n",
       "    'shape_attributes': {'height': 16,\n",
       "     'name': 'rect',\n",
       "     'width': 105,\n",
       "     'x': 324,\n",
       "     'y': 161}},\n",
       "   {'region_attributes': {'': 'po'},\n",
       "    'shape_attributes': {'height': 22,\n",
       "     'name': 'rect',\n",
       "     'width': 143,\n",
       "     'x': 322,\n",
       "     'y': 193}},\n",
       "   {'region_attributes': {'': 'gstincus'},\n",
       "    'shape_attributes': {'height': 13,\n",
       "     'name': 'rect',\n",
       "     'width': 190,\n",
       "     'x': 85,\n",
       "     'y': 207}},\n",
       "   {'region_attributes': {'': 'item1'},\n",
       "    'shape_attributes': {'height': 141,\n",
       "     'name': 'rect',\n",
       "     'width': 78,\n",
       "     'x': 184,\n",
       "     'y': 232}},\n",
       "   {'region_attributes': {'': 'hsn1'},\n",
       "    'shape_attributes': {'height': 132,\n",
       "     'name': 'rect',\n",
       "     'width': 48,\n",
       "     'x': 269,\n",
       "     'y': 239}}],\n",
       "  'size': 54190}}"
      ]
     },
     "execution_count": 30,
     "metadata": {},
     "output_type": "execute_result"
    }
   ],
   "source": [
    "data_1"
   ]
  },
  {
   "cell_type": "code",
   "execution_count": 33,
   "metadata": {},
   "outputs": [
    {
     "name": "stdout",
     "output_type": "stream",
     "text": [
      "768 557 3\n"
     ]
    }
   ],
   "source": [
    "image_1 = cv2.imread(\"/home/scar3crow/Downloads/INVOICES/36.jpg\") ## Loading image directly as black & white.\n",
    "(H, W, C) = image_1.shape # H = no. of rows, W = no. of columns\n",
    "print(H, W, C)"
   ]
  },
  {
   "cell_type": "code",
   "execution_count": 89,
   "metadata": {},
   "outputs": [],
   "source": [
    "import pandas as pd\n",
    "aaa = pd.read_csv('/home/scar3crow/Downloads/exp_csv/via_region_data.csv')"
   ]
  },
  {
   "cell_type": "code",
   "execution_count": 90,
   "metadata": {},
   "outputs": [
    {
     "data": {
      "text/html": [
       "<div>\n",
       "<style scoped>\n",
       "    .dataframe tbody tr th:only-of-type {\n",
       "        vertical-align: middle;\n",
       "    }\n",
       "\n",
       "    .dataframe tbody tr th {\n",
       "        vertical-align: top;\n",
       "    }\n",
       "\n",
       "    .dataframe thead th {\n",
       "        text-align: right;\n",
       "    }\n",
       "</style>\n",
       "<table border=\"1\" class=\"dataframe\">\n",
       "  <thead>\n",
       "    <tr style=\"text-align: right;\">\n",
       "      <th></th>\n",
       "      <th>#filename</th>\n",
       "      <th>file_size</th>\n",
       "      <th>file_attributes</th>\n",
       "      <th>region_count</th>\n",
       "      <th>region_id</th>\n",
       "      <th>region_shape_attributes</th>\n",
       "      <th>region_attributes</th>\n",
       "    </tr>\n",
       "  </thead>\n",
       "  <tbody>\n",
       "    <tr>\n",
       "      <th>0</th>\n",
       "      <td>01.jpg</td>\n",
       "      <td>66859</td>\n",
       "      <td>{}</td>\n",
       "      <td>7</td>\n",
       "      <td>0</td>\n",
       "      <td>{\"name\":\"rect\",\"x\":42,\"y\":33,\"width\":202,\"heig...</td>\n",
       "      <td>{\"text\":\"vendor\"}</td>\n",
       "    </tr>\n",
       "    <tr>\n",
       "      <th>1</th>\n",
       "      <td>01.jpg</td>\n",
       "      <td>66859</td>\n",
       "      <td>{}</td>\n",
       "      <td>7</td>\n",
       "      <td>1</td>\n",
       "      <td>{\"name\":\"rect\",\"x\":41,\"y\":93,\"width\":224,\"heig...</td>\n",
       "      <td>{\"text\":\"consignee\"}</td>\n",
       "    </tr>\n",
       "    <tr>\n",
       "      <th>2</th>\n",
       "      <td>01.jpg</td>\n",
       "      <td>66859</td>\n",
       "      <td>{}</td>\n",
       "      <td>7</td>\n",
       "      <td>2</td>\n",
       "      <td>{\"name\":\"rect\",\"x\":40,\"y\":155,\"width\":224,\"hei...</td>\n",
       "      <td>{\"text\":\"buyer\"}</td>\n",
       "    </tr>\n",
       "    <tr>\n",
       "      <th>3</th>\n",
       "      <td>01.jpg</td>\n",
       "      <td>66859</td>\n",
       "      <td>{}</td>\n",
       "      <td>7</td>\n",
       "      <td>3</td>\n",
       "      <td>{\"name\":\"rect\",\"x\":275,\"y\":35,\"width\":58,\"heig...</td>\n",
       "      <td>{\"text\":\"invoice\"}</td>\n",
       "    </tr>\n",
       "    <tr>\n",
       "      <th>4</th>\n",
       "      <td>01.jpg</td>\n",
       "      <td>66859</td>\n",
       "      <td>{}</td>\n",
       "      <td>7</td>\n",
       "      <td>4</td>\n",
       "      <td>{\"name\":\"rect\",\"x\":274,\"y\":96,\"width\":111,\"hei...</td>\n",
       "      <td>{\"text\":\"po\"}</td>\n",
       "    </tr>\n",
       "    <tr>\n",
       "      <th>5</th>\n",
       "      <td>01.jpg</td>\n",
       "      <td>66859</td>\n",
       "      <td>{}</td>\n",
       "      <td>7</td>\n",
       "      <td>5</td>\n",
       "      <td>{\"name\":\"rect\",\"x\":54,\"y\":255,\"width\":226,\"hei...</td>\n",
       "      <td>{\"text\":\"item\"}</td>\n",
       "    </tr>\n",
       "    <tr>\n",
       "      <th>6</th>\n",
       "      <td>01.jpg</td>\n",
       "      <td>66859</td>\n",
       "      <td>{}</td>\n",
       "      <td>7</td>\n",
       "      <td>6</td>\n",
       "      <td>{\"name\":\"rect\",\"x\":282,\"y\":255,\"width\":41,\"hei...</td>\n",
       "      <td>{\"text\":\"hsn\"}</td>\n",
       "    </tr>\n",
       "    <tr>\n",
       "      <th>7</th>\n",
       "      <td>02.jpg</td>\n",
       "      <td>61227</td>\n",
       "      <td>{}</td>\n",
       "      <td>0</td>\n",
       "      <td>0</td>\n",
       "      <td>{}</td>\n",
       "      <td>{}</td>\n",
       "    </tr>\n",
       "    <tr>\n",
       "      <th>8</th>\n",
       "      <td>03.jpg</td>\n",
       "      <td>53786</td>\n",
       "      <td>{}</td>\n",
       "      <td>0</td>\n",
       "      <td>0</td>\n",
       "      <td>{}</td>\n",
       "      <td>{}</td>\n",
       "    </tr>\n",
       "    <tr>\n",
       "      <th>9</th>\n",
       "      <td>04.jpg</td>\n",
       "      <td>58690</td>\n",
       "      <td>{}</td>\n",
       "      <td>0</td>\n",
       "      <td>0</td>\n",
       "      <td>{}</td>\n",
       "      <td>{}</td>\n",
       "    </tr>\n",
       "    <tr>\n",
       "      <th>10</th>\n",
       "      <td>05.jpg</td>\n",
       "      <td>52761</td>\n",
       "      <td>{}</td>\n",
       "      <td>0</td>\n",
       "      <td>0</td>\n",
       "      <td>{}</td>\n",
       "      <td>{}</td>\n",
       "    </tr>\n",
       "    <tr>\n",
       "      <th>11</th>\n",
       "      <td>06.jpg</td>\n",
       "      <td>46848</td>\n",
       "      <td>{}</td>\n",
       "      <td>0</td>\n",
       "      <td>0</td>\n",
       "      <td>{}</td>\n",
       "      <td>{}</td>\n",
       "    </tr>\n",
       "    <tr>\n",
       "      <th>12</th>\n",
       "      <td>07.jpg</td>\n",
       "      <td>54749</td>\n",
       "      <td>{}</td>\n",
       "      <td>0</td>\n",
       "      <td>0</td>\n",
       "      <td>{}</td>\n",
       "      <td>{}</td>\n",
       "    </tr>\n",
       "    <tr>\n",
       "      <th>13</th>\n",
       "      <td>08.jpg</td>\n",
       "      <td>61275</td>\n",
       "      <td>{}</td>\n",
       "      <td>0</td>\n",
       "      <td>0</td>\n",
       "      <td>{}</td>\n",
       "      <td>{}</td>\n",
       "    </tr>\n",
       "  </tbody>\n",
       "</table>\n",
       "</div>"
      ],
      "text/plain": [
       "   #filename  file_size file_attributes  region_count  region_id  \\\n",
       "0     01.jpg      66859              {}             7          0   \n",
       "1     01.jpg      66859              {}             7          1   \n",
       "2     01.jpg      66859              {}             7          2   \n",
       "3     01.jpg      66859              {}             7          3   \n",
       "4     01.jpg      66859              {}             7          4   \n",
       "5     01.jpg      66859              {}             7          5   \n",
       "6     01.jpg      66859              {}             7          6   \n",
       "7     02.jpg      61227              {}             0          0   \n",
       "8     03.jpg      53786              {}             0          0   \n",
       "9     04.jpg      58690              {}             0          0   \n",
       "10    05.jpg      52761              {}             0          0   \n",
       "11    06.jpg      46848              {}             0          0   \n",
       "12    07.jpg      54749              {}             0          0   \n",
       "13    08.jpg      61275              {}             0          0   \n",
       "\n",
       "                              region_shape_attributes     region_attributes  \n",
       "0   {\"name\":\"rect\",\"x\":42,\"y\":33,\"width\":202,\"heig...     {\"text\":\"vendor\"}  \n",
       "1   {\"name\":\"rect\",\"x\":41,\"y\":93,\"width\":224,\"heig...  {\"text\":\"consignee\"}  \n",
       "2   {\"name\":\"rect\",\"x\":40,\"y\":155,\"width\":224,\"hei...      {\"text\":\"buyer\"}  \n",
       "3   {\"name\":\"rect\",\"x\":275,\"y\":35,\"width\":58,\"heig...    {\"text\":\"invoice\"}  \n",
       "4   {\"name\":\"rect\",\"x\":274,\"y\":96,\"width\":111,\"hei...         {\"text\":\"po\"}  \n",
       "5   {\"name\":\"rect\",\"x\":54,\"y\":255,\"width\":226,\"hei...       {\"text\":\"item\"}  \n",
       "6   {\"name\":\"rect\",\"x\":282,\"y\":255,\"width\":41,\"hei...        {\"text\":\"hsn\"}  \n",
       "7                                                  {}                    {}  \n",
       "8                                                  {}                    {}  \n",
       "9                                                  {}                    {}  \n",
       "10                                                 {}                    {}  \n",
       "11                                                 {}                    {}  \n",
       "12                                                 {}                    {}  \n",
       "13                                                 {}                    {}  "
      ]
     },
     "execution_count": 90,
     "metadata": {},
     "output_type": "execute_result"
    }
   ],
   "source": [
    "aaa"
   ]
  },
  {
   "cell_type": "code",
   "execution_count": 46,
   "metadata": {},
   "outputs": [],
   "source": [
    "#aaa.drop(aaa.columns[[2, 3, 4]], axis=1, inplace=True)\n"
   ]
  },
  {
   "cell_type": "code",
   "execution_count": 91,
   "metadata": {},
   "outputs": [
    {
     "data": {
      "text/plain": [
       "array(['{\"name\":\"rect\",\"x\":42,\"y\":33,\"width\":202,\"height\":58}',\n",
       "       '{\"name\":\"rect\",\"x\":41,\"y\":93,\"width\":224,\"height\":59}',\n",
       "       '{\"name\":\"rect\",\"x\":40,\"y\":155,\"width\":224,\"height\":100}',\n",
       "       '{\"name\":\"rect\",\"x\":275,\"y\":35,\"width\":58,\"height\":22}',\n",
       "       '{\"name\":\"rect\",\"x\":274,\"y\":96,\"width\":111,\"height\":24}',\n",
       "       '{\"name\":\"rect\",\"x\":54,\"y\":255,\"width\":226,\"height\":22}',\n",
       "       '{\"name\":\"rect\",\"x\":282,\"y\":255,\"width\":41,\"height\":20}'],\n",
       "      dtype=object)"
      ]
     },
     "execution_count": 91,
     "metadata": {},
     "output_type": "execute_result"
    }
   ],
   "source": [
    "aaa.drop(aaa.index[[7,8,9,10,11,12,13]], axis=0, inplace=True)\n",
    "aaa.values[:, 5]"
   ]
  },
  {
   "cell_type": "code",
   "execution_count": 92,
   "metadata": {},
   "outputs": [
    {
     "name": "stdout",
     "output_type": "stream",
     "text": [
      "0    {\"name\":\"rect\",\"x\":42,\"y\":33,\"width\":202,\"heig...\n",
      "1    {\"name\":\"rect\",\"x\":41,\"y\":93,\"width\":224,\"heig...\n",
      "2    {\"name\":\"rect\",\"x\":40,\"y\":155,\"width\":224,\"hei...\n",
      "3    {\"name\":\"rect\",\"x\":275,\"y\":35,\"width\":58,\"heig...\n",
      "4    {\"name\":\"rect\",\"x\":274,\"y\":96,\"width\":111,\"hei...\n",
      "5    {\"name\":\"rect\",\"x\":54,\"y\":255,\"width\":226,\"hei...\n",
      "6    {\"name\":\"rect\",\"x\":282,\"y\":255,\"width\":41,\"hei...\n",
      "Name: region_shape_attributes, dtype: object\n"
     ]
    }
   ],
   "source": [
    "print(aaa['region_shape_attributes'])"
   ]
  },
  {
   "cell_type": "code",
   "execution_count": 93,
   "metadata": {},
   "outputs": [
    {
     "name": "stdout",
     "output_type": "stream",
     "text": [
      "                                                        0\n",
      "01.jpg  {\"name\":\"rect\",\"x\":42,\"y\":33,\"width\":202,\"heig...\n",
      "01.jpg  {\"name\":\"rect\",\"x\":41,\"y\":93,\"width\":224,\"heig...\n",
      "01.jpg  {\"name\":\"rect\",\"x\":40,\"y\":155,\"width\":224,\"hei...\n",
      "01.jpg  {\"name\":\"rect\",\"x\":275,\"y\":35,\"width\":58,\"heig...\n",
      "01.jpg  {\"name\":\"rect\",\"x\":274,\"y\":96,\"width\":111,\"hei...\n",
      "01.jpg  {\"name\":\"rect\",\"x\":54,\"y\":255,\"width\":226,\"hei...\n",
      "01.jpg  {\"name\":\"rect\",\"x\":282,\"y\":255,\"width\":41,\"hei...\n",
      "[array(['01.jpg', '01.jpg', '01.jpg', '01.jpg', '01.jpg', '01.jpg',\n",
      "       '01.jpg'], dtype=object)]\n",
      "{\"name\":\"rect\",\"x\":42,\"y\":33,\"width\":202,\"height\":58}\n",
      "======================================\n"
     ]
    },
    {
     "data": {
      "text/plain": [
       "'\"x\":42'"
      ]
     },
     "execution_count": 93,
     "metadata": {},
     "output_type": "execute_result"
    }
   ],
   "source": [
    "aaa_new = pd.DataFrame(aaa.values[:, 5], aaa.values[:, 0])\n",
    "names = [aaa.values[:, 0]]\n",
    "print(aaa_new)\n",
    "print(names)\n",
    "print(aaa_new.values[0, 0])\n",
    "print('======================================')\n",
    "aaa_new.values[0,0].split(\",\")[1]"
   ]
  },
  {
   "cell_type": "code",
   "execution_count": 94,
   "metadata": {},
   "outputs": [
    {
     "data": {
      "text/plain": [
       "[array(['01.jpg', '01.jpg', '01.jpg', '01.jpg', '01.jpg', '01.jpg',\n",
       "        '01.jpg'], dtype=object),\n",
       " '{\"name\":\"rect\"',\n",
       " '{\"name\":\"rect\"',\n",
       " '{\"name\":\"rect\"',\n",
       " '{\"name\":\"rect\"',\n",
       " '{\"name\":\"rect\"',\n",
       " '{\"name\":\"rect\"',\n",
       " '{\"name\":\"rect\"']"
      ]
     },
     "execution_count": 94,
     "metadata": {},
     "output_type": "execute_result"
    }
   ],
   "source": [
    "x = []\n",
    "y = []\n",
    "\n",
    "#making the format readable\n",
    "for row in range(len(aaa_new)):\n",
    "    names.append(aaa_new.values[row,0].split(\",\")[0])\n",
    "#    x.append(aaa_new.values[row,0].split(\"all_points\")[1])\n",
    "#    y.append(data2_new.values[row,0].split(\"all_points\")[2])\n",
    "names"
   ]
  },
  {
   "cell_type": "code",
   "execution_count": 100,
   "metadata": {},
   "outputs": [
    {
     "name": "stdout",
     "output_type": "stream",
     "text": [
      "53\n",
      "\"name\":\"rect\",\"x\":42,\"y\":33,\"width\":202,\"height\":58\n"
     ]
    }
   ],
   "source": [
    "print(len(aaa_new.values[0, 0]))\n",
    "bbb = aaa_new.values[0, 0][1:(len(aaa_new.values[0, 0])-1)]\n",
    "print(bbb)"
   ]
  },
  {
   "cell_type": "code",
   "execution_count": 101,
   "metadata": {},
   "outputs": [
    {
     "name": "stdout",
     "output_type": "stream",
     "text": [
      "['\"name\":\"rect\"', '\"x\":42', '\"y\":33', '\"width\":202', '\"height\":58']\n",
      "5\n"
     ]
    }
   ],
   "source": [
    "print(bbb.split(\",\"))\n",
    "print(len(bbb.split(\",\")))"
   ]
  },
  {
   "cell_type": "code",
   "execution_count": 108,
   "metadata": {},
   "outputs": [
    {
     "name": "stdout",
     "output_type": "stream",
     "text": [
      "<class 'str'>\n",
      "\"x\":42\n",
      "<class 'str'>\n"
     ]
    }
   ],
   "source": [
    "print(type(bbb.split(\",\")[1]))\n",
    "ccc = bbb.split(\",\")[1]\n",
    "print(ccc)\n",
    "print(type(ccc))"
   ]
  },
  {
   "cell_type": "code",
   "execution_count": 109,
   "metadata": {},
   "outputs": [
    {
     "data": {
      "text/plain": [
       "42"
      ]
     },
     "execution_count": 109,
     "metadata": {},
     "output_type": "execute_result"
    }
   ],
   "source": [
    "#int(filter(str.isdigit, ccc))\n",
    "int(\"\".join(filter(str.isdigit, ccc)))"
   ]
  },
  {
   "cell_type": "code",
   "execution_count": 116,
   "metadata": {},
   "outputs": [
    {
     "data": {
      "text/plain": [
       "'vendor'"
      ]
     },
     "execution_count": 116,
     "metadata": {},
     "output_type": "execute_result"
    }
   ],
   "source": [
    "ddd = aaa.values[0, 6][1:(len(aaa.values[0, 6])-1)]\n",
    "eee = ddd.split(':')[1]\n",
    "eee[1:(len(eee)-1)]"
   ]
  },
  {
   "cell_type": "code",
   "execution_count": 112,
   "metadata": {},
   "outputs": [
    {
     "data": {
      "text/plain": [
       "'{\"text\" \"vendor\"}'"
      ]
     },
     "execution_count": 112,
     "metadata": {},
     "output_type": "execute_result"
    }
   ],
   "source": [
    "aaa.values[0, 6].replace(':', ' ')"
   ]
  },
  {
   "cell_type": "code",
   "execution_count": 114,
   "metadata": {},
   "outputs": [
    {
     "data": {
      "text/plain": [
       "'\"vendor\"}'"
      ]
     },
     "execution_count": 114,
     "metadata": {},
     "output_type": "execute_result"
    }
   ],
   "source": [
    "aaa.values[0,6].split(':')[1]"
   ]
  },
  {
   "cell_type": "code",
   "execution_count": 84,
   "metadata": {},
   "outputs": [
    {
     "data": {
      "text/plain": [
       "'{\"name\":\"rect\",\"x\":42,\"y\":33,\"width\":202,\"height\":58}'"
      ]
     },
     "execution_count": 84,
     "metadata": {},
     "output_type": "execute_result"
    }
   ],
   "source": [
    "aaa_new.values[0, 0].replace('_x\"', \"\")"
   ]
  },
  {
   "cell_type": "code",
   "execution_count": null,
   "metadata": {},
   "outputs": [],
   "source": [
    "import pandas as pd\n",
    "import numpy as np\n",
    "from PIL import Image, ImageDraw, ImageChops\n",
    "\n",
    "\n",
    "\n",
    "#print(data)\n",
    "\n",
    "\n",
    "\n",
    "def importCSV(path):\n",
    "\n",
    "#Imports the .csv file extracted from VGG Image Annotator. Works for sure with only one region per frame.\n",
    "#Unfortunately, there are a lots of syntaxes that I could not use without deleting them to make the data usable\n",
    "\n",
    "    data = pd.read_csv(path)\n",
    "    data = data[data.values[:, 5] != \"{}\"]  # Deletes images that are not labelled in the .csv file\n",
    "    data2 = pd.DataFrame(data.values[:, 5], data.values[:, 0])\n",
    "    names=[data.values[:,0]]\n",
    "    x = []\n",
    "    y = []\n",
    "\n",
    "    #making the format readable\n",
    "    for row in range(len(data2)):\n",
    "        names.append(data2.values[row,0].split(\",\")[0])\n",
    "        x.append(data2.values[row,0].split(\"all_points\")[1])\n",
    "        y.append(data2.values[row,0].split(\"all_points\")[2])\n",
    "\n",
    "\n",
    "    xList=[]\n",
    "    yList=[]\n",
    "\n",
    "\n",
    "    ##Making a list of x coordinates for each images\n",
    "    for element in range(len(x)):\n",
    "        x[element]=x[element].replace('_x\":',\"\")\n",
    "        x[element]=x[element].replace(',\"',\"\")\n",
    "        x[element] = x[element].replace('[', \"\")\n",
    "        x[element] = x[element].replace(']', \"\")\n",
    "\n",
    "\n",
    "\n",
    "    ##Splitting them\n",
    "    for element in x:\n",
    "        xList.append(element.split(\",\",))\n",
    "\n",
    "\n",
    "\n",
    "    ##Converting them to integers\n",
    "    for element in xList:\n",
    "        for value in range(len(element)):\n",
    "            element[value]=int(element[value])\n",
    "\n",
    "    ##Same for the y coordinates\n",
    "\n",
    "    for element in range(len(y)):\n",
    "        y[element]=y[element].replace('_y\":',\"\")\n",
    "        y[element]=y[element].replace('}',\"\")\n",
    "        y[element] = y[element].replace('[', \"\")\n",
    "        y[element] = y[element].replace(']', \"\")\n",
    "\n",
    "    for element in y:\n",
    "        yList.append(element.split(\",\",))\n",
    "\n",
    "    for element in yList:\n",
    "        for value in range(len(element)):\n",
    "            element[value]=int(element[value])\n",
    "\n",
    "    return(names, xList, yList)\n",
    "\n",
    "\n",
    "def makePolygon(xList, yList):\n",
    "    #Creates a polygon used by the Image Draw module. Converts the (x1, x2, ...), (y1, y2, ...) input in ((x1,y1),(x2,y2)) format\n",
    "    polygon=[]\n",
    "    for value in range(len(xList)):\n",
    "        tuple=(xList[value], yList[value])\n",
    "        polygon.append(tuple)\n",
    "    return polygon\n",
    "\n",
    "def getMask(images, picture, original):\n",
    "    #Returns the mask of the polygon\n",
    "    polygon = makePolygon(images[1][picture], images[2][picture])\n",
    "    mask = Image.new('RGB', original.size, color=(255,255,255))\n",
    "    mask_draw = ImageDraw.Draw(mask)\n",
    "    mask_draw.polygon(polygon, fill=(0,0,0))\n",
    "    return mask\n",
    "\n",
    "def cropPictures(images, pathOriginal, pathSave):\n",
    "    #Returns the image contained in the region\n",
    "    for picture in range(len(images[1])):\n",
    "        original=Image.open(pathOriginal+\"/\"+images[0][0][picture])\n",
    "        mask=getMask(images, picture, original)\n",
    "        diff = ImageChops.lighter(original, mask)\n",
    "        diff.save(pathSave+\"/\"+images[0][0][picture], \"JPEG\")"
   ]
  }
 ],
 "metadata": {
  "kernelspec": {
   "display_name": "Python 3",
   "language": "python",
   "name": "python3"
  },
  "language_info": {
   "codemirror_mode": {
    "name": "ipython",
    "version": 3
   },
   "file_extension": ".py",
   "mimetype": "text/x-python",
   "name": "python",
   "nbconvert_exporter": "python",
   "pygments_lexer": "ipython3",
   "version": "3.5.2+"
  }
 },
 "nbformat": 4,
 "nbformat_minor": 2
}
