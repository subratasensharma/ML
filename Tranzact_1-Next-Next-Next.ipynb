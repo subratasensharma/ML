{
 "cells": [
  {
   "cell_type": "code",
   "execution_count": 1,
   "metadata": {},
   "outputs": [],
   "source": [
    "import pandas as pd\n",
    "import numpy as np\n",
    "import scipy\n",
    "from nltk.corpus import stopwords\n",
    "import re\n",
    "import os"
   ]
  },
  {
   "cell_type": "code",
   "execution_count": 74,
   "metadata": {},
   "outputs": [
    {
     "name": "stdout",
     "output_type": "stream",
     "text": [
      "28922\n"
     ]
    },
    {
     "data": {
      "text/plain": [
       "Index(['Company', 'Supplier', 'Item', 'Category', 'UOM', 'Unnamed: 5',\n",
       "       'Unnamed: 6', 'Unnamed: 7', 'Unnamed: 8', 'Unnamed: 9', 'Unnamed: 10',\n",
       "       'Unnamed: 11', 'Unnamed: 12', 'Unnamed: 13', 'Unnamed: 14',\n",
       "       'Unnamed: 15', 'Unnamed: 16'],\n",
       "      dtype='object')"
      ]
     },
     "execution_count": 74,
     "metadata": {},
     "output_type": "execute_result"
    }
   ],
   "source": [
    "## Loading data - an excell file :\n",
    "\n",
    "data1 = pd.ExcelFile('Tranzact2.xlsx')\n",
    "tranzact_data1 = data1.parse(0)\n",
    "\n",
    "lamba = len(tranzact_data1)\n",
    "print(lamba)\n",
    "tranzact_data1.columns"
   ]
  },
  {
   "cell_type": "code",
   "execution_count": 92,
   "metadata": {},
   "outputs": [
    {
     "name": "stdout",
     "output_type": "stream",
     "text": [
      "28921\n"
     ]
    }
   ],
   "source": [
    "tranzact_data2 = tranzact_data1.iloc[0:lamba, 0:3] ## Remove unnecessary columns\n",
    "\n",
    "tranzact_data2['Item'] = tranzact_data2['Item'].map(lambda x: x if type(x)!=str else x.lower()) ## make Items in lower case\n",
    "\n",
    "\n",
    "tranzact_data = tranzact_data2.dropna() ## remove rows with cell value none\n",
    "\n",
    "tranzact_data = tranzact_data.reset_index(drop=True)\n",
    "print(len(tranzact_data))"
   ]
  },
  {
   "cell_type": "code",
   "execution_count": 93,
   "metadata": {},
   "outputs": [
    {
     "name": "stdout",
     "output_type": "stream",
     "text": [
      "28921\n",
      "['ferrul', 'number']\n",
      "2\n"
     ]
    },
    {
     "data": {
      "text/html": [
       "<div>\n",
       "<style scoped>\n",
       "    .dataframe tbody tr th:only-of-type {\n",
       "        vertical-align: middle;\n",
       "    }\n",
       "\n",
       "    .dataframe tbody tr th {\n",
       "        vertical-align: top;\n",
       "    }\n",
       "\n",
       "    .dataframe thead th {\n",
       "        text-align: right;\n",
       "    }\n",
       "</style>\n",
       "<table border=\"1\" class=\"dataframe\">\n",
       "  <thead>\n",
       "    <tr style=\"text-align: right;\">\n",
       "      <th></th>\n",
       "      <th>Company</th>\n",
       "      <th>Supplier</th>\n",
       "      <th>Item</th>\n",
       "      <th>features</th>\n",
       "    </tr>\n",
       "  </thead>\n",
       "  <tbody>\n",
       "    <tr>\n",
       "      <th>28916</th>\n",
       "      <td>Polfrost Air Con Pvt Ltd.</td>\n",
       "      <td>M/S. S. K. Enterprise</td>\n",
       "      <td>ferrul number 4mm 'r'</td>\n",
       "      <td>ferrul number</td>\n",
       "    </tr>\n",
       "    <tr>\n",
       "      <th>28917</th>\n",
       "      <td>Polfrost Air Con Pvt Ltd.</td>\n",
       "      <td>M/S. S. K. Enterprise</td>\n",
       "      <td>ferrul number 4mm 'y'</td>\n",
       "      <td>ferrul number</td>\n",
       "    </tr>\n",
       "    <tr>\n",
       "      <th>28918</th>\n",
       "      <td>Polfrost Air Con Pvt Ltd.</td>\n",
       "      <td>M/S. S. K. Enterprise</td>\n",
       "      <td>ferrul number 4mm 'b'</td>\n",
       "      <td>ferrul number</td>\n",
       "    </tr>\n",
       "    <tr>\n",
       "      <th>28919</th>\n",
       "      <td>Polfrost Air Con Pvt Ltd.</td>\n",
       "      <td>M/S. S. K. Enterprise</td>\n",
       "      <td>ferrul number 4mm 'n'</td>\n",
       "      <td>ferrul number</td>\n",
       "    </tr>\n",
       "    <tr>\n",
       "      <th>28920</th>\n",
       "      <td>Airbex System Pvt. Ltd</td>\n",
       "      <td>Anant Traders</td>\n",
       "      <td>7/8\" hard copper pipe 20 gauge 10' long</td>\n",
       "      <td>hard copper pipe gauge long</td>\n",
       "    </tr>\n",
       "  </tbody>\n",
       "</table>\n",
       "</div>"
      ],
      "text/plain": [
       "                         Company               Supplier  \\\n",
       "28916  Polfrost Air Con Pvt Ltd.  M/S. S. K. Enterprise   \n",
       "28917  Polfrost Air Con Pvt Ltd.  M/S. S. K. Enterprise   \n",
       "28918  Polfrost Air Con Pvt Ltd.  M/S. S. K. Enterprise   \n",
       "28919  Polfrost Air Con Pvt Ltd.  M/S. S. K. Enterprise   \n",
       "28920     Airbex System Pvt. Ltd          Anant Traders   \n",
       "\n",
       "                                          Item                     features  \n",
       "28916                    ferrul number 4mm 'r'                ferrul number  \n",
       "28917                    ferrul number 4mm 'y'                ferrul number  \n",
       "28918                    ferrul number 4mm 'b'                ferrul number  \n",
       "28919                    ferrul number 4mm 'n'                ferrul number  \n",
       "28920  7/8\" hard copper pipe 20 gauge 10' long  hard copper pipe gauge long  "
      ]
     },
     "execution_count": 93,
     "metadata": {},
     "output_type": "execute_result"
    }
   ],
   "source": [
    "## Cleaning the Item Description to create a feature matrix :\n",
    "\n",
    "pd.options.mode.chained_assignment = None\n",
    "\n",
    "tranzact_data['features'] = tranzact_data['Item'].str.replace(r'\\b\\d+\\b','')  ## remove integers\n",
    "\n",
    "tranzact_data['features'] = tranzact_data['features'].str.replace(r'\\W',' ')   ## remove puntuations\n",
    "\n",
    "tranzact_data['features'] = tranzact_data['features'].str.replace(r'\\b\\d+\\mm\\b',' ')   ## remove all 'mm' dimensions only\n",
    "\n",
    "tranzact_data['features'] = tranzact_data['features'].str.replace(r'\\b\\w\\b','') ## remove stand alone single letters\n",
    "\n",
    "tranzact_data['features'] = tranzact_data['features'].str.replace(r'\\s+',' ') ## remove gaps between words to singe gap\n",
    "\n",
    "## Removing unneccessary words like measurment units etc.\n",
    "                                                                        \n",
    "words = stopwords.words(\"english\")\n",
    "\n",
    "words.append('mm')\n",
    "words.append('ft')\n",
    "words.append('as')\n",
    "words.append('to')\n",
    "words.append('nos')\n",
    "\n",
    "tranzact_data['features']= tranzact_data['features'].apply(lambda x:' '.join([i for i in x.split()\n",
    "                                                                                if i not in words]).lower())\n",
    "\n",
    "\n",
    "## Removing duplicate words from individual features\n",
    "\n",
    "tranzact_data['features']= tranzact_data['features'].apply(lambda x:' '.join([i for i in (sorted(set(x.split()), \\\n",
    "                                                                                key=x.split().index))]).lower())\n",
    "\n",
    "## Removing only single word features :\n",
    "\n",
    "print(len(tranzact_data))\n",
    "tranzact_data.tail()\n",
    "print(tranzact_data['features'][28919].split())\n",
    "print(len(tranzact_data['features'][28919].split()))\n",
    "tranzact_data.tail()"
   ]
  },
  {
   "cell_type": "code",
   "execution_count": 98,
   "metadata": {},
   "outputs": [
    {
     "data": {
      "text/plain": [
       "Company     28921\n",
       "Supplier    28921\n",
       "Item        28921\n",
       "features    28921\n",
       "dtype: int64"
      ]
     },
     "execution_count": 98,
     "metadata": {},
     "output_type": "execute_result"
    }
   ],
   "source": [
    "tranzact_data.count()"
   ]
  },
  {
   "cell_type": "code",
   "execution_count": 103,
   "metadata": {},
   "outputs": [
    {
     "data": {
      "text/plain": [
       "Company     27044\n",
       "Supplier    27044\n",
       "Item        27044\n",
       "features    27044\n",
       "dtype: int64"
      ]
     },
     "execution_count": 103,
     "metadata": {},
     "output_type": "execute_result"
    }
   ],
   "source": [
    "tranzact_data = tranzact_data[tranzact_data['features'].str.contains(' ')]\n",
    "tranzact_data = tranzact_data.reset_index(drop=True)\n",
    "tranzact_data.count()\n"
   ]
  },
  {
   "cell_type": "code",
   "execution_count": 104,
   "metadata": {},
   "outputs": [
    {
     "data": {
      "text/plain": [
       "'chromium manganese spring steel sp annealed grade sup9 st bar'"
      ]
     },
     "execution_count": 104,
     "metadata": {},
     "output_type": "execute_result"
    }
   ],
   "source": [
    "tranzact_data['features'][359]"
   ]
  },
  {
   "cell_type": "code",
   "execution_count": 105,
   "metadata": {},
   "outputs": [
    {
     "name": "stdout",
     "output_type": "stream",
     "text": [
      "27044\n"
     ]
    }
   ],
   "source": [
    "for i in range(len(tranzact_data)):\n",
    "    if tranzact_data['features'][i] == '':\n",
    "        \n",
    "        tranzact_data['Supplier'][i] = np.nan\n",
    "    \n",
    "        \n",
    "tranzact_data = tranzact_data.dropna()\n",
    "tranzact_data = tranzact_data.reset_index(drop=True)\n",
    "print(len(tranzact_data))"
   ]
  },
  {
   "cell_type": "code",
   "execution_count": 106,
   "metadata": {},
   "outputs": [
    {
     "name": "stdout",
     "output_type": "stream",
     "text": [
      "Supplier =  2257\n",
      "Unique Features =  15941\n",
      "Tranzact_data length =  27044\n"
     ]
    },
    {
     "data": {
      "text/html": [
       "<div>\n",
       "<style scoped>\n",
       "    .dataframe tbody tr th:only-of-type {\n",
       "        vertical-align: middle;\n",
       "    }\n",
       "\n",
       "    .dataframe tbody tr th {\n",
       "        vertical-align: top;\n",
       "    }\n",
       "\n",
       "    .dataframe thead th {\n",
       "        text-align: right;\n",
       "    }\n",
       "</style>\n",
       "<table border=\"1\" class=\"dataframe\">\n",
       "  <thead>\n",
       "    <tr style=\"text-align: right;\">\n",
       "      <th></th>\n",
       "      <th>Company</th>\n",
       "      <th>Supplier</th>\n",
       "      <th>Item</th>\n",
       "      <th>features</th>\n",
       "    </tr>\n",
       "  </thead>\n",
       "  <tbody>\n",
       "    <tr>\n",
       "      <th>27039</th>\n",
       "      <td>Polfrost Air Con Pvt Ltd.</td>\n",
       "      <td>M/S. S. K. Enterprise</td>\n",
       "      <td>ferrul number 4mm 'r'</td>\n",
       "      <td>ferrul number</td>\n",
       "    </tr>\n",
       "    <tr>\n",
       "      <th>27040</th>\n",
       "      <td>Polfrost Air Con Pvt Ltd.</td>\n",
       "      <td>M/S. S. K. Enterprise</td>\n",
       "      <td>ferrul number 4mm 'y'</td>\n",
       "      <td>ferrul number</td>\n",
       "    </tr>\n",
       "    <tr>\n",
       "      <th>27041</th>\n",
       "      <td>Polfrost Air Con Pvt Ltd.</td>\n",
       "      <td>M/S. S. K. Enterprise</td>\n",
       "      <td>ferrul number 4mm 'b'</td>\n",
       "      <td>ferrul number</td>\n",
       "    </tr>\n",
       "    <tr>\n",
       "      <th>27042</th>\n",
       "      <td>Polfrost Air Con Pvt Ltd.</td>\n",
       "      <td>M/S. S. K. Enterprise</td>\n",
       "      <td>ferrul number 4mm 'n'</td>\n",
       "      <td>ferrul number</td>\n",
       "    </tr>\n",
       "    <tr>\n",
       "      <th>27043</th>\n",
       "      <td>Airbex System Pvt. Ltd</td>\n",
       "      <td>Anant Traders</td>\n",
       "      <td>7/8\" hard copper pipe 20 gauge 10' long</td>\n",
       "      <td>hard copper pipe gauge long</td>\n",
       "    </tr>\n",
       "  </tbody>\n",
       "</table>\n",
       "</div>"
      ],
      "text/plain": [
       "                         Company               Supplier  \\\n",
       "27039  Polfrost Air Con Pvt Ltd.  M/S. S. K. Enterprise   \n",
       "27040  Polfrost Air Con Pvt Ltd.  M/S. S. K. Enterprise   \n",
       "27041  Polfrost Air Con Pvt Ltd.  M/S. S. K. Enterprise   \n",
       "27042  Polfrost Air Con Pvt Ltd.  M/S. S. K. Enterprise   \n",
       "27043     Airbex System Pvt. Ltd          Anant Traders   \n",
       "\n",
       "                                          Item                     features  \n",
       "27039                    ferrul number 4mm 'r'                ferrul number  \n",
       "27040                    ferrul number 4mm 'y'                ferrul number  \n",
       "27041                    ferrul number 4mm 'b'                ferrul number  \n",
       "27042                    ferrul number 4mm 'n'                ferrul number  \n",
       "27043  7/8\" hard copper pipe 20 gauge 10' long  hard copper pipe gauge long  "
      ]
     },
     "execution_count": 106,
     "metadata": {},
     "output_type": "execute_result"
    }
   ],
   "source": [
    "## To check no. of Suppliers & no. of unique featuresin the data base :\n",
    "\n",
    "print('Supplier = ', len(tranzact_data.Supplier.value_counts()))\n",
    "print('Unique Features = ', len(tranzact_data.features.value_counts()))\n",
    "print('Tranzact_data length = ', len(tranzact_data))\n",
    "tranzact_data.tail()"
   ]
  },
  {
   "cell_type": "code",
   "execution_count": 7,
   "metadata": {},
   "outputs": [],
   "source": [
    "## Above indicates that there are 2337 suppliers supplying 28921 items(as per no. of rows)\n",
    "## above indicates that there are 16728 unique features out of 28921 items(as per rows)"
   ]
  },
  {
   "cell_type": "code",
   "execution_count": 8,
   "metadata": {},
   "outputs": [],
   "source": [
    "## Let's reduce no. of Suppliers : criterian - apperaing at least 10 times in the data frame\n",
    "\n",
    "# tranzact_data_short = tranzact_data.groupby(\"Supplier\").filter(lambda x: len(x) > 10)\n",
    "\n",
    "# print(len(tranzact_data_short))\n",
    "# print(len(tranzact_data_short.Supplier.value_counts()))"
   ]
  },
  {
   "cell_type": "code",
   "execution_count": 9,
   "metadata": {},
   "outputs": [],
   "source": [
    "## Above indicates that there are now 391 suppliers supplying 23649 items(as per no. of rows)"
   ]
  },
  {
   "cell_type": "code",
   "execution_count": 108,
   "metadata": {},
   "outputs": [
    {
     "data": {
      "text/html": [
       "<div>\n",
       "<style scoped>\n",
       "    .dataframe tbody tr th:only-of-type {\n",
       "        vertical-align: middle;\n",
       "    }\n",
       "\n",
       "    .dataframe tbody tr th {\n",
       "        vertical-align: top;\n",
       "    }\n",
       "\n",
       "    .dataframe thead th {\n",
       "        text-align: right;\n",
       "    }\n",
       "</style>\n",
       "<table border=\"1\" class=\"dataframe\">\n",
       "  <thead>\n",
       "    <tr style=\"text-align: right;\">\n",
       "      <th></th>\n",
       "      <th>Company</th>\n",
       "      <th>Supplier</th>\n",
       "      <th>Item</th>\n",
       "      <th>features</th>\n",
       "    </tr>\n",
       "  </thead>\n",
       "  <tbody>\n",
       "    <tr>\n",
       "      <th>0</th>\n",
       "      <td>M/S Plastech</td>\n",
       "      <td>Pukhraj Additives LLP</td>\n",
       "      <td>zincoplast zinc</td>\n",
       "      <td>zincoplast zinc</td>\n",
       "    </tr>\n",
       "    <tr>\n",
       "      <th>1</th>\n",
       "      <td>M/S Plastech</td>\n",
       "      <td>Pukhraj Additives LLP</td>\n",
       "      <td>zincoplast pyn</td>\n",
       "      <td>zincoplast pyn</td>\n",
       "    </tr>\n",
       "    <tr>\n",
       "      <th>2</th>\n",
       "      <td>Modern Engineering &amp; Spring Company</td>\n",
       "      <td>Bijal Steels</td>\n",
       "      <td>chromium manganese spring steel as rolled, sup...</td>\n",
       "      <td>chromium manganese spring steel rolled sup9 wi...</td>\n",
       "    </tr>\n",
       "    <tr>\n",
       "      <th>3</th>\n",
       "      <td>Modern Engineering &amp; Spring Company</td>\n",
       "      <td>Jay Khodiyar Steel &amp; Metals</td>\n",
       "      <td>ms sheet 8 ft x 4 ft x 1.00 mm - 4 nos</td>\n",
       "      <td>ms sheet</td>\n",
       "    </tr>\n",
       "    <tr>\n",
       "      <th>4</th>\n",
       "      <td>Modern Engineering &amp; Spring Company</td>\n",
       "      <td>Dynachem Engineers</td>\n",
       "      <td>ms plate 160 x 160 x 6 - 4 holes drg. z-413146...</td>\n",
       "      <td>ms plate holes drg rev ae0</td>\n",
       "    </tr>\n",
       "  </tbody>\n",
       "</table>\n",
       "</div>"
      ],
      "text/plain": [
       "                               Company                     Supplier  \\\n",
       "0                         M/S Plastech        Pukhraj Additives LLP   \n",
       "1                         M/S Plastech        Pukhraj Additives LLP   \n",
       "2  Modern Engineering & Spring Company                 Bijal Steels   \n",
       "3  Modern Engineering & Spring Company  Jay Khodiyar Steel & Metals   \n",
       "4  Modern Engineering & Spring Company           Dynachem Engineers   \n",
       "\n",
       "                                                Item  \\\n",
       "0                                    zincoplast zinc   \n",
       "1                                     zincoplast pyn   \n",
       "2  chromium manganese spring steel as rolled, sup...   \n",
       "3             ms sheet 8 ft x 4 ft x 1.00 mm - 4 nos   \n",
       "4  ms plate 160 x 160 x 6 - 4 holes drg. z-413146...   \n",
       "\n",
       "                                            features  \n",
       "0                                    zincoplast zinc  \n",
       "1                                     zincoplast pyn  \n",
       "2  chromium manganese spring steel rolled sup9 wi...  \n",
       "3                                           ms sheet  \n",
       "4                         ms plate holes drg rev ae0  "
      ]
     },
     "execution_count": 108,
     "metadata": {},
     "output_type": "execute_result"
    }
   ],
   "source": [
    "## Removing duplicate features + Supplier combinations :\n",
    "\n",
    "for i in range (len(tranzact_data)):\n",
    "    \n",
    "    idx_feature = []\n",
    "    idx_Supplier = []\n",
    "    idx_common = []\n",
    "\n",
    "    idx_feature = tranzact_data.index[tranzact_data['features'] == tranzact_data['features'][i]].tolist()\n",
    "    idx_Supplier = tranzact_data.index[tranzact_data['Supplier'] == tranzact_data['Supplier'][i]].tolist()\n",
    "    idx_common = list(set(idx_feature).intersection(idx_Supplier))\n",
    "    \n",
    "    if len(idx_common) > 1:\n",
    "        \n",
    "        tranzact_data['Supplier'][idx_common[1:]] = np.nan\n",
    "        \n",
    "tranzact_data_final = tranzact_data.dropna()\n",
    "tranzact_data_final = tranzact_data_final.reset_index(drop=True)\n",
    "tranzact_data_final.head()\n",
    "                           "
   ]
  },
  {
   "cell_type": "code",
   "execution_count": 109,
   "metadata": {},
   "outputs": [
    {
     "data": {
      "text/html": [
       "<div>\n",
       "<style scoped>\n",
       "    .dataframe tbody tr th:only-of-type {\n",
       "        vertical-align: middle;\n",
       "    }\n",
       "\n",
       "    .dataframe tbody tr th {\n",
       "        vertical-align: top;\n",
       "    }\n",
       "\n",
       "    .dataframe thead th {\n",
       "        text-align: right;\n",
       "    }\n",
       "</style>\n",
       "<table border=\"1\" class=\"dataframe\">\n",
       "  <thead>\n",
       "    <tr style=\"text-align: right;\">\n",
       "      <th></th>\n",
       "      <th>Company</th>\n",
       "      <th>Supplier</th>\n",
       "      <th>Item</th>\n",
       "      <th>features</th>\n",
       "    </tr>\n",
       "  </thead>\n",
       "  <tbody>\n",
       "    <tr>\n",
       "      <th>18809</th>\n",
       "      <td>Polfrost Air Con Pvt Ltd.</td>\n",
       "      <td>M/S. S. K. Enterprise</td>\n",
       "      <td>pvc gland pg11</td>\n",
       "      <td>pvc gland pg11</td>\n",
       "    </tr>\n",
       "    <tr>\n",
       "      <th>18810</th>\n",
       "      <td>Polfrost Air Con Pvt Ltd.</td>\n",
       "      <td>M/S. S. K. Enterprise</td>\n",
       "      <td>pvc gland pg13.5</td>\n",
       "      <td>pvc gland pg13</td>\n",
       "    </tr>\n",
       "    <tr>\n",
       "      <th>18811</th>\n",
       "      <td>Polfrost Air Con Pvt Ltd.</td>\n",
       "      <td>M/S. S. K. Enterprise</td>\n",
       "      <td>pvc gland m25x1.5</td>\n",
       "      <td>pvc gland m25x1</td>\n",
       "    </tr>\n",
       "    <tr>\n",
       "      <th>18812</th>\n",
       "      <td>Polfrost Air Con Pvt Ltd.</td>\n",
       "      <td>M/S. S. K. Enterprise</td>\n",
       "      <td>ferrul number 4mm 'y'</td>\n",
       "      <td>ferrul number</td>\n",
       "    </tr>\n",
       "    <tr>\n",
       "      <th>18813</th>\n",
       "      <td>Airbex System Pvt. Ltd</td>\n",
       "      <td>Anant Traders</td>\n",
       "      <td>7/8\" hard copper pipe 20 gauge 10' long</td>\n",
       "      <td>hard copper pipe gauge long</td>\n",
       "    </tr>\n",
       "  </tbody>\n",
       "</table>\n",
       "</div>"
      ],
      "text/plain": [
       "                         Company               Supplier  \\\n",
       "18809  Polfrost Air Con Pvt Ltd.  M/S. S. K. Enterprise   \n",
       "18810  Polfrost Air Con Pvt Ltd.  M/S. S. K. Enterprise   \n",
       "18811  Polfrost Air Con Pvt Ltd.  M/S. S. K. Enterprise   \n",
       "18812  Polfrost Air Con Pvt Ltd.  M/S. S. K. Enterprise   \n",
       "18813     Airbex System Pvt. Ltd          Anant Traders   \n",
       "\n",
       "                                          Item                     features  \n",
       "18809                           pvc gland pg11               pvc gland pg11  \n",
       "18810                         pvc gland pg13.5               pvc gland pg13  \n",
       "18811                        pvc gland m25x1.5              pvc gland m25x1  \n",
       "18812                    ferrul number 4mm 'y'                ferrul number  \n",
       "18813  7/8\" hard copper pipe 20 gauge 10' long  hard copper pipe gauge long  "
      ]
     },
     "execution_count": 109,
     "metadata": {},
     "output_type": "execute_result"
    }
   ],
   "source": [
    "tranzact_data_final.tail()"
   ]
  },
  {
   "cell_type": "code",
   "execution_count": 110,
   "metadata": {},
   "outputs": [
    {
     "name": "stdout",
     "output_type": "stream",
     "text": [
      "Supplier =  2257\n",
      "Unique Features =  15941\n",
      "Total no. of entrys =  18814\n"
     ]
    },
    {
     "data": {
      "text/html": [
       "<div>\n",
       "<style scoped>\n",
       "    .dataframe tbody tr th:only-of-type {\n",
       "        vertical-align: middle;\n",
       "    }\n",
       "\n",
       "    .dataframe tbody tr th {\n",
       "        vertical-align: top;\n",
       "    }\n",
       "\n",
       "    .dataframe thead th {\n",
       "        text-align: right;\n",
       "    }\n",
       "</style>\n",
       "<table border=\"1\" class=\"dataframe\">\n",
       "  <thead>\n",
       "    <tr style=\"text-align: right;\">\n",
       "      <th></th>\n",
       "      <th>Company</th>\n",
       "      <th>Supplier</th>\n",
       "      <th>Item</th>\n",
       "      <th>features</th>\n",
       "    </tr>\n",
       "  </thead>\n",
       "  <tbody>\n",
       "    <tr>\n",
       "      <th>18809</th>\n",
       "      <td>Polfrost Air Con Pvt Ltd.</td>\n",
       "      <td>M/S. S. K. Enterprise</td>\n",
       "      <td>pvc gland pg11</td>\n",
       "      <td>pvc gland pg11</td>\n",
       "    </tr>\n",
       "    <tr>\n",
       "      <th>18810</th>\n",
       "      <td>Polfrost Air Con Pvt Ltd.</td>\n",
       "      <td>M/S. S. K. Enterprise</td>\n",
       "      <td>pvc gland pg13.5</td>\n",
       "      <td>pvc gland pg13</td>\n",
       "    </tr>\n",
       "    <tr>\n",
       "      <th>18811</th>\n",
       "      <td>Polfrost Air Con Pvt Ltd.</td>\n",
       "      <td>M/S. S. K. Enterprise</td>\n",
       "      <td>pvc gland m25x1.5</td>\n",
       "      <td>pvc gland m25x1</td>\n",
       "    </tr>\n",
       "    <tr>\n",
       "      <th>18812</th>\n",
       "      <td>Polfrost Air Con Pvt Ltd.</td>\n",
       "      <td>M/S. S. K. Enterprise</td>\n",
       "      <td>ferrul number 4mm 'y'</td>\n",
       "      <td>ferrul number</td>\n",
       "    </tr>\n",
       "    <tr>\n",
       "      <th>18813</th>\n",
       "      <td>Airbex System Pvt. Ltd</td>\n",
       "      <td>Anant Traders</td>\n",
       "      <td>7/8\" hard copper pipe 20 gauge 10' long</td>\n",
       "      <td>hard copper pipe gauge long</td>\n",
       "    </tr>\n",
       "  </tbody>\n",
       "</table>\n",
       "</div>"
      ],
      "text/plain": [
       "                         Company               Supplier  \\\n",
       "18809  Polfrost Air Con Pvt Ltd.  M/S. S. K. Enterprise   \n",
       "18810  Polfrost Air Con Pvt Ltd.  M/S. S. K. Enterprise   \n",
       "18811  Polfrost Air Con Pvt Ltd.  M/S. S. K. Enterprise   \n",
       "18812  Polfrost Air Con Pvt Ltd.  M/S. S. K. Enterprise   \n",
       "18813     Airbex System Pvt. Ltd          Anant Traders   \n",
       "\n",
       "                                          Item                     features  \n",
       "18809                           pvc gland pg11               pvc gland pg11  \n",
       "18810                         pvc gland pg13.5               pvc gland pg13  \n",
       "18811                        pvc gland m25x1.5              pvc gland m25x1  \n",
       "18812                    ferrul number 4mm 'y'                ferrul number  \n",
       "18813  7/8\" hard copper pipe 20 gauge 10' long  hard copper pipe gauge long  "
      ]
     },
     "execution_count": 110,
     "metadata": {},
     "output_type": "execute_result"
    }
   ],
   "source": [
    "## To cross check no. of Suppliers & no. of unique features in the data base :\n",
    "\n",
    "print('Supplier = ', len(tranzact_data_final.Supplier.value_counts()))\n",
    "print('Unique Features = ', len(tranzact_data_final.features.value_counts()))\n",
    "print('Total no. of entrys = ', len(tranzact_data_final))\n",
    "tranzact_data_final.tail()"
   ]
  },
  {
   "cell_type": "code",
   "execution_count": 111,
   "metadata": {},
   "outputs": [
    {
     "data": {
      "text/html": [
       "<div>\n",
       "<style scoped>\n",
       "    .dataframe tbody tr th:only-of-type {\n",
       "        vertical-align: middle;\n",
       "    }\n",
       "\n",
       "    .dataframe tbody tr th {\n",
       "        vertical-align: top;\n",
       "    }\n",
       "\n",
       "    .dataframe thead th {\n",
       "        text-align: right;\n",
       "    }\n",
       "</style>\n",
       "<table border=\"1\" class=\"dataframe\">\n",
       "  <thead>\n",
       "    <tr style=\"text-align: right;\">\n",
       "      <th></th>\n",
       "      <th>Supplier</th>\n",
       "      <th>features</th>\n",
       "      <th>Supplier_id</th>\n",
       "    </tr>\n",
       "  </thead>\n",
       "  <tbody>\n",
       "    <tr>\n",
       "      <th>18809</th>\n",
       "      <td>M/S. S. K. Enterprise</td>\n",
       "      <td>pvc gland pg11</td>\n",
       "      <td>308</td>\n",
       "    </tr>\n",
       "    <tr>\n",
       "      <th>18810</th>\n",
       "      <td>M/S. S. K. Enterprise</td>\n",
       "      <td>pvc gland pg13</td>\n",
       "      <td>308</td>\n",
       "    </tr>\n",
       "    <tr>\n",
       "      <th>18811</th>\n",
       "      <td>M/S. S. K. Enterprise</td>\n",
       "      <td>pvc gland m25x1</td>\n",
       "      <td>308</td>\n",
       "    </tr>\n",
       "    <tr>\n",
       "      <th>18812</th>\n",
       "      <td>M/S. S. K. Enterprise</td>\n",
       "      <td>ferrul number</td>\n",
       "      <td>308</td>\n",
       "    </tr>\n",
       "    <tr>\n",
       "      <th>18813</th>\n",
       "      <td>Anant Traders</td>\n",
       "      <td>hard copper pipe gauge long</td>\n",
       "      <td>2060</td>\n",
       "    </tr>\n",
       "  </tbody>\n",
       "</table>\n",
       "</div>"
      ],
      "text/plain": [
       "                    Supplier                     features  Supplier_id\n",
       "18809  M/S. S. K. Enterprise               pvc gland pg11          308\n",
       "18810  M/S. S. K. Enterprise               pvc gland pg13          308\n",
       "18811  M/S. S. K. Enterprise              pvc gland m25x1          308\n",
       "18812  M/S. S. K. Enterprise                ferrul number          308\n",
       "18813          Anant Traders  hard copper pipe gauge long         2060"
      ]
     },
     "execution_count": 111,
     "metadata": {},
     "output_type": "execute_result"
    }
   ],
   "source": [
    "# Creating seacrh engine file :\n",
    "\n",
    "col = ['Supplier', 'features']\n",
    "tranzact_data_search = tranzact_data_final[col]\n",
    "\n",
    "\n",
    "tranzact_data_search['Supplier_id'] = tranzact_data_search['Supplier'].factorize()[0]  ## Indexing\n",
    "\n",
    "supplier_id_tranzact_data_search = tranzact_data_search[['Supplier', 'Supplier_id']].drop_duplicates(). \\\n",
    "                                                        sort_values('Supplier_id')\n",
    "\n",
    "## Create two dictionaries :\n",
    "\n",
    "supplier_to_id = dict(supplier_id_tranzact_data_search.values)\n",
    "id_to_supplier = dict(supplier_id_tranzact_data_search[['Supplier_id', 'Supplier']].values)\n",
    "tranzact_data_search.tail()"
   ]
  },
  {
   "cell_type": "code",
   "execution_count": 56,
   "metadata": {},
   "outputs": [
    {
     "name": "stdout",
     "output_type": "stream",
     "text": [
      "['and', 'and this', 'document', 'document is', 'first', 'first document', 'is', 'is the', 'is this', 'one', 'second', 'second document', 'the', 'the first', 'the second', 'the third', 'third', 'third one', 'this', 'this document', 'this is', 'this the']\n",
      "(4, 22)\n",
      "['and', 'document', 'first', 'is', 'one', 'second', 'the', 'third', 'this']\n",
      "(4, 9)\n"
     ]
    }
   ],
   "source": [
    "from sklearn.feature_extraction.text import TfidfVectorizer\n",
    "\n",
    "corpus = ['This is the first document.', \\\n",
    "          'This document is the second document.', \\\n",
    "          'And this is the third one.', \\\n",
    "          'Is this the first document?']\n",
    "\n",
    "vectorizer = TfidfVectorizer(sublinear_tf=True, min_df=1, norm='l2', ngram_range=(1, 2))\n",
    "\n",
    "X = vectorizer.fit_transform(corpus)\n",
    "print(vectorizer.get_feature_names())\n",
    "\n",
    "print(X.shape)\n",
    "\n",
    "vectorizer = TfidfVectorizer()\n",
    "\n",
    "X = vectorizer.fit_transform(corpus)\n",
    "print(vectorizer.get_feature_names())\n",
    "\n",
    "print(X.shape)"
   ]
  },
  {
   "cell_type": "code",
   "execution_count": 112,
   "metadata": {},
   "outputs": [
    {
     "name": "stdout",
     "output_type": "stream",
     "text": [
      "<class 'numpy.ndarray'>\n",
      "(18814, 48453)\n"
     ]
    }
   ],
   "source": [
    "# Digitising Process No. 1\n",
    "\n",
    "from sklearn.feature_extraction.text import TfidfVectorizer\n",
    "\n",
    "# create the transform\n",
    "my_vectorizer = TfidfVectorizer(sublinear_tf=True, min_df=1, norm='l2', ngram_range=(1, 2))\n",
    "\n",
    "# tokenize and build vocab\n",
    "digital_features = my_vectorizer.fit(tranzact_data_search['features'])\n",
    "\n",
    "# encode document\n",
    "my_vector = digital_features.transform(tranzact_data_search['features']).toarray()\n",
    "print(type(my_vector))\n",
    "print(my_vector.shape)"
   ]
  },
  {
   "cell_type": "code",
   "execution_count": 113,
   "metadata": {},
   "outputs": [],
   "source": [
    "## Input Text data :\n",
    "\n",
    "text_data = ['housing casting smh500 s.g. iron a00000285']"
   ]
  },
  {
   "cell_type": "code",
   "execution_count": 114,
   "metadata": {},
   "outputs": [
    {
     "name": "stdout",
     "output_type": "stream",
     "text": [
      "0    housing casting smh500 iron a00000285\n",
      "dtype: object\n",
      "1\n"
     ]
    }
   ],
   "source": [
    "## From Teaxt data to text feature :\n",
    "\n",
    "text_data1 = pd.Series(text_data)\n",
    "\n",
    "pd.options.mode.chained_assignment = None\n",
    "\n",
    "text_data_feature = text_data1.str.replace(r'\\b\\d+\\b','')  ## remove integers\n",
    "\n",
    "text_data_feature = text_data_feature.str.replace(r'\\W',' ')   ## remove puntuations\n",
    "\n",
    "text_data_feature = text_data_feature.str.replace(r'\\b\\d+\\mm\\b',' ')   ## remove all 'mm' dimensions only\n",
    "\n",
    "text_data_feature = text_data_feature.str.replace(r'\\b\\w\\b','') ## remove stand alone single letters\n",
    "\n",
    "text_data_feature = text_data_feature.str.replace(r'\\s+',' ') ## remove gaps between words to singe gap\n",
    "\n",
    "\n",
    "## Removing unneccessary words like measurment units etc.\n",
    "                                                                        \n",
    "words = stopwords.words(\"english\")\n",
    "\n",
    "words.append('mm')\n",
    "words.append('ft')\n",
    "words.append('as')\n",
    "words.append('to')\n",
    "words.append('nos')\n",
    "\n",
    "text_data_feature = text_data_feature.apply(lambda x:' '.join([i for i in x.split()\n",
    "                                                                                if i not in words]).lower())\n",
    "\n",
    "text_data_feature = text_data_feature.apply(lambda x:' '.join([i for i in (sorted(set(x.split()), \\\n",
    "                                                                                key=x.split().index))]).lower())\n",
    "print(text_data_feature)\n",
    "print(len(text_data_feature))"
   ]
  },
  {
   "cell_type": "code",
   "execution_count": 115,
   "metadata": {},
   "outputs": [],
   "source": [
    "def cos_cdist(matrix, vector):\n",
    "    \"\"\"\n",
    "    Compute the cosine distances between each row of matrix and vector.\n",
    "    \"\"\"\n",
    "    v = vector.reshape(1, -1)\n",
    "    return scipy.spatial.distance.cdist(matrix, v, 'cosine').reshape(-1)"
   ]
  },
  {
   "cell_type": "code",
   "execution_count": 116,
   "metadata": {},
   "outputs": [
    {
     "name": "stdout",
     "output_type": "stream",
     "text": [
      "(48453,)\n",
      "[0. 0. 0. ... 0. 0. 0.]\n",
      "(18814,)\n",
      "<class 'numpy.ndarray'>\n",
      "1.0\n"
     ]
    }
   ],
   "source": [
    "## Creating test vector from Text features :\n",
    "\n",
    "merge_text_feature = []\n",
    "merge_text_feature_digit = []\n",
    "merge_digit_vector = []\n",
    "test_digit_vector = []\n",
    "\n",
    "merge_text_feature = tranzact_data_search['features'].append(pd.Series(text_data_feature))\n",
    "\n",
    "merge_text_feature = merge_text_feature.reset_index(drop=True)\n",
    "\n",
    "merge_text_feature_digit = my_vectorizer.fit(merge_text_feature)\n",
    "\n",
    "# encode document\n",
    "merge_digit_vector = merge_text_feature_digit.transform(merge_text_feature).toarray()\n",
    "\n",
    "\n",
    "test_digit_vector = merge_digit_vector[len(merge_digit_vector)-1].reshape((merge_digit_vector.shape)[1],)\n",
    "\n",
    "print(test_digit_vector.shape)\n",
    "\n",
    "## Finding cosine similarity :\n",
    "\n",
    "c_d = []\n",
    "\n",
    "c_d = np.round((1 - cos_cdist(my_vector, test_digit_vector)), 3)\n",
    "\n",
    "print(c_d)\n",
    "print(c_d.shape)\n",
    "print(type(c_d))\n",
    "print(max(c_d))"
   ]
  },
  {
   "cell_type": "code",
   "execution_count": 58,
   "metadata": {},
   "outputs": [
    {
     "name": "stdout",
     "output_type": "stream",
     "text": [
      "copper pipe\n"
     ]
    }
   ],
   "source": [
    "print(tranzact_data_search['features'][85])"
   ]
  },
  {
   "cell_type": "code",
   "execution_count": 117,
   "metadata": {},
   "outputs": [],
   "source": [
    "col = ['Supplier', 'features']\n",
    "text_data_search_result = []\n",
    "\n"
   ]
  },
  {
   "cell_type": "code",
   "execution_count": 118,
   "metadata": {},
   "outputs": [
    {
     "name": "stdout",
     "output_type": "stream",
     "text": [
      "[ 2305  3439  1977  1250  1914  1325  2296 16319  1329  1231]\n",
      "0    housing casting smh500 iron a00000285\n",
      "dtype: object\n",
      "1.0\n",
      "housing casting smh500 iron a00000285\n",
      "Jay Metal Tech\n",
      "0.409\n",
      "worm gear casting smh500 iron astm a536 a00000290\n",
      "Jay Metal Tech\n",
      "0.324\n",
      "housing casting km40\n",
      "Bhagwati Casters Pvt. Ltd.\n",
      "0.29\n",
      "housing casting ra125 iron a00002120\n",
      "Jmt India Inc\n",
      "0.289\n",
      "smh250 housing casting iron a00000407\n",
      "Jay Metal Tech\n",
      "0.287\n",
      "housing casting ra250 iron a00002121\n",
      "Jay Metal Tech\n",
      "0.245\n",
      "housing casting ra100 a00004596 astm a536 iron\n",
      "Jay Metal Tech\n",
      "0.227\n",
      "smh case pipe casting smh500 is2062 e250a a00005207\n",
      "MEGHA PATTERN WORKS\n",
      "0.202\n",
      "housing casting ra150 astm a536 a00002119\n",
      "Jay Metal Tech\n",
      "0.188\n",
      "housing casting km55 is210 gr fg260 cast iron astm a126 class kma24632\n",
      "Bhagwati Casters Pvt. Ltd.\n"
     ]
    }
   ],
   "source": [
    "max_c_s_index = []\n",
    "max_c_s_index = np.argsort(c_d)[-10:][::-1]\n",
    "print(max_c_s_index)\n",
    "print(text_data_feature)\n",
    "\n",
    "for i in max_c_s_index:\n",
    "    print(c_d[i])\n",
    "#    print(tranzact_data_final['Item'][i])\n",
    "    print(tranzact_data_search['features'][i])\n",
    "    print(tranzact_data_search['Supplier'][i])\n"
   ]
  },
  {
   "cell_type": "code",
   "execution_count": 119,
   "metadata": {},
   "outputs": [
    {
     "name": "stdout",
     "output_type": "stream",
     "text": [
      "[ 2305  3439  1977  1250  1914  1325  2296 16319  1329  1231  1979  1326\n",
      "  2139  1343  5682  7818 14555  1585  1150  1154  2260 13240  1299   361\n",
      " 14535 16341   568  8174 12909  2273  7123  1913  5616   525 14536  1393\n",
      "  3434  1692  7410  1233 17330 12851  5424  8779 16792   736   735 16320\n",
      "  1169 10700]\n",
      "0    housing casting smh500 iron a00000285\n",
      "dtype: object\n"
     ]
    }
   ],
   "source": [
    "result = []\n",
    "result_frame = []\n",
    "max_c_s_index = []\n",
    "max_c_s_index = np.argsort(c_d)[-50:][::-1]\n",
    "print(max_c_s_index)\n",
    "print(text_data_feature)\n",
    "\n",
    "for i in max_c_s_index:\n",
    "    \n",
    "#    d = {'c_index':[c_d]}\n",
    "#    df2 = pd.DataFrame(np.array([c_d[i], tranzact_data_search['features'][i], tranzact_data_search['Supplier'][i]]), \\\n",
    "#                      columns=['c_index', 'features', 'Supplier'])\n",
    "    result.append(np.array([c_d[i], tranzact_data_final['Item'][i], tranzact_data_search['Supplier'][i]]))\n",
    "#    text_data_search_result.append(c_d[i])\n",
    "#    print(tranzact_data_final['Item'][i])\n",
    "#    print(tranzact_data_search['features'][i])\n",
    "#    print(tranzact_data_search['Supplier'][i])\n",
    "\n",
    "result_frame = pd.DataFrame(result, columns=['c_index', 'features', 'Supplier'])\n",
    "#print(result_frame)\n"
   ]
  },
  {
   "cell_type": "code",
   "execution_count": 120,
   "metadata": {},
   "outputs": [
    {
     "name": "stdout",
     "output_type": "stream",
     "text": [
      "1.0\n",
      "<class 'pandas.core.frame.DataFrame'>\n",
      "RangeIndex: 50 entries, 0 to 49\n",
      "Data columns (total 3 columns):\n",
      "c_index     50 non-null object\n",
      "features    50 non-null object\n",
      "Supplier    50 non-null object\n",
      "dtypes: object(3)\n",
      "memory usage: 1.2+ KB\n"
     ]
    }
   ],
   "source": [
    "zz = max(result_frame['c_index'])\n",
    "print(zz)\n",
    "result_frame.info()"
   ]
  },
  {
   "cell_type": "code",
   "execution_count": 121,
   "metadata": {},
   "outputs": [
    {
     "name": "stdout",
     "output_type": "stream",
     "text": [
      "<class 'pandas.core.frame.DataFrame'>\n",
      "RangeIndex: 50 entries, 0 to 49\n",
      "Data columns (total 3 columns):\n",
      "c_index     50 non-null float64\n",
      "features    50 non-null object\n",
      "Supplier    50 non-null object\n",
      "dtypes: float64(1), object(2)\n",
      "memory usage: 1.2+ KB\n"
     ]
    }
   ],
   "source": [
    "result_frame.c_index = result_frame.c_index.astype('float64')\n",
    "result_frame.info()"
   ]
  },
  {
   "cell_type": "code",
   "execution_count": 122,
   "metadata": {},
   "outputs": [
    {
     "name": "stdout",
     "output_type": "stream",
     "text": [
      "    c_index                                           features  \\\n",
      "0     1.000        housing casting smh500  s.g iron  a00000285   \n",
      "1     0.324                               housing casting km40   \n",
      "2     0.290         housing casting ra125  s.g iron  a00002120   \n",
      "3     0.227  smh case pipe casting smh500 (is2062 e250a) a0...   \n",
      "4     0.137                            spring housing 10\" #300   \n",
      "5     0.137                            spring housing 10\" #300   \n",
      "6     0.127                                        housing tpw   \n",
      "7     0.106  82mm x 26mm transperent dust cover sticker smh...   \n",
      "8     0.102                                 soldering iron 25w   \n",
      "9     0.102                                 soldering iron 25w   \n",
      "10    0.101                               soldering iron stand   \n",
      "11    0.099                               body casting 8\" #150   \n",
      "12    0.099                              body casting 24\" #900   \n",
      "13    0.098                             soldering iron 25 watt   \n",
      "14    0.095                                 soldering iron 65w   \n",
      "15    0.088  diaphragm disc casting km85 s.g. iron (astm a5...   \n",
      "16    0.088                           fyl wheel housing e -683   \n",
      "17    0.085  smh500 manual handwheel shaft 518l (1.25\"-12un...   \n",
      "18    0.085                       rm ts for 23136 housing pipe   \n",
      "19    0.084                     relimate housing female, 3 pin   \n",
      "20    0.080                             bell housing -15 hp 2p   \n",
      "\n",
      "                                  Supplier  \n",
      "0                           Jay Metal Tech  \n",
      "1               Bhagwati Casters Pvt. Ltd.  \n",
      "2                            Jmt India Inc  \n",
      "3                      MEGHA PATTERN WORKS  \n",
      "4           CESARE BONETTI INDIA PVT. LTD.  \n",
      "5   CESARE BONETTI INTERNATIONAL PVT. LTD.  \n",
      "6                       Ishaan Engineering  \n",
      "7                    Rangvishwa Enteprises  \n",
      "8                        RAJIV ELECTRONICS  \n",
      "9                       Local Market Delhi  \n",
      "10                 SHREE DATTA ENTERPRISES  \n",
      "11                 Tulip Casting Pvt. Ltd.  \n",
      "12                 THE KOLHAPUR STEEL LTD.  \n",
      "13               Ankit Marketing Pvt. Ltd.  \n",
      "14                                   NDC22  \n",
      "15                       Art Pack Pvt.Ltd.  \n",
      "16          VE Commercial Vehicles Limited  \n",
      "17                 R A Solutions Pvt. Ltd.  \n",
      "18                      Farhan Enterprises  \n",
      "19                Spectra Connectronix LLP  \n",
      "20                           R J HYDRAULIK  \n"
     ]
    }
   ],
   "source": [
    "result_frame.drop_duplicates(subset='Supplier', keep = 'first', inplace = True)\n",
    "result_frame = result_frame.reset_index(drop=True)\n",
    "print(result_frame)"
   ]
  },
  {
   "cell_type": "code",
   "execution_count": 123,
   "metadata": {},
   "outputs": [
    {
     "name": "stdout",
     "output_type": "stream",
     "text": [
      "Jay Metal Tech\n",
      "Bhagwati Casters Pvt. Ltd.\n",
      "Jmt India Inc\n",
      "MEGHA PATTERN WORKS\n",
      "CESARE BONETTI INDIA PVT. LTD.\n"
     ]
    }
   ],
   "source": [
    "kount = 0\n",
    "\n",
    "\n",
    "for i in range(len(result_frame['Supplier'])):\n",
    "    if result_frame['c_index'][i] >= 0.10:\n",
    "        print(result_frame['Supplier'][i])\n",
    "        kount = kount+1\n",
    "        if kount == 5 :\n",
    "            break\n",
    "    \n"
   ]
  },
  {
   "cell_type": "code",
   "execution_count": 137,
   "metadata": {},
   "outputs": [
    {
     "name": "stdout",
     "output_type": "stream",
     "text": [
      "[19760 14776 14775   503    85 18364 18358 15370 19711 11585]\n",
      "[2135  108  108   39   39 2135 2135 1781  610  311]\n",
      "[[ 2135 19760]\n",
      " [  108 14776]\n",
      " [  108 14775]\n",
      " [   39   503]\n",
      " [   39    85]\n",
      " [ 2135 18364]\n",
      " [ 2135 18358]\n",
      " [ 1781 15370]\n",
      " [  610 19711]\n",
      " [  311 11585]]\n",
      "[[   39   503]\n",
      " [  108 14776]\n",
      " [  311 11585]\n",
      " [  610 19711]\n",
      " [ 1781 15370]\n",
      " [ 2135 19760]]\n",
      "0.0\n",
      "<class 'numpy.ndarray'>\n",
      "(6, 2)\n",
      "6\n"
     ]
    }
   ],
   "source": [
    "## Preparing Supplier_id + max cosine value matrix for the text vector :\n",
    "\n",
    "max_c_s_index = []\n",
    "max_c_s_index = np.argsort(c_d)[-10:][::-1]\n",
    "print(max_c_s_index)\n",
    "\n",
    "for i in max_c_sindex:\n",
    "    print(c_d[i])\n",
    "\n",
    "search_supplier_id = []\n",
    "search_supplier_id_mod= []\n",
    "cosine_id_matrix = []\n",
    "cosine_id_matrix_mod = []\n",
    "\n",
    "\n",
    "for i in (max_c_s_index):\n",
    "    search_supplier_id.append(tranzact_data_search['Supplier_id'][i])\n",
    "search_supplier_id_mod = np.array(search_supplier_id)\n",
    "print(search_supplier_id_mod)\n",
    "\n",
    "cosine_id_matrix = np.vstack((search_supplier_id_mod, max_c_s_index)).T\n",
    "print(cosine_id_matrix)\n",
    "\n",
    "cosine_id_matrix_mod = cosine_id_matrix[np.unique(cosine_id_matrix[:, 0], return_index=True)[1]]\n",
    "\n",
    "print(cosine_id_matrix_mod)\n",
    "\n",
    "print(min(c_d))\n",
    "print(type(cosine_id_matrix_mod))\n",
    "print(cosine_id_matrix_mod.shape)\n",
    "print(len(cosine_id_matrix_mod[:,0]))\n"
   ]
  },
  {
   "cell_type": "code",
   "execution_count": 133,
   "metadata": {},
   "outputs": [
    {
     "name": "stdout",
     "output_type": "stream",
     "text": [
      "[[   85    39]\n",
      " [14775   108]\n",
      " [11585   311]\n",
      " [19711   610]\n",
      " [15370  1781]\n",
      " [18358  2135]]\n"
     ]
    }
   ],
   "source": [
    "import numpy_indexed as npi\n",
    "\n",
    "column_to_groupby = 1\n",
    "groups, reduced = npi.group_by(cosine_id_matrix[:,column_to_groupby]).min(cosine_id_matrix)\n",
    "print(reduced)"
   ]
  },
  {
   "cell_type": "code",
   "execution_count": 119,
   "metadata": {},
   "outputs": [
    {
     "name": "stdout",
     "output_type": "stream",
     "text": [
      "Shanti Steel Industries\n",
      "chromium manganese spring steel sp annealed sup9 wire rod\n",
      "Mouser Electronics Inc.\n",
      "ic 74hc595 dip\n",
      "Mouser Electronics Inc.\n",
      "zener diodes 5v 500mw make semiconductor manufacturer part mmsz5222bt1g\n",
      "VSN ELECTRO COMPONENTS PVT LTD\n",
      "lcd display yellow_green sdcb1602 01d make sinda\n",
      "Amazon.in\n",
      "plastic electronics screwdriver set make bosch part number\n",
      "There are no suppliers for this itemn\n"
     ]
    }
   ],
   "source": [
    "## Searching :\n",
    "\n",
    "if len(cosine_id_matrix_mod[:,0]) > 0:\n",
    "    kount = 0\n",
    "    for k in (cosine_id_matrix_mod[:, 1]):\n",
    "                   print(tranzact_data_search['Supplier'][k])\n",
    "                   print(tranzact_data_search['features'][k]) \n",
    "                   kount = kount + 1\n",
    "                   if kount == 5:\n",
    "                       break\n",
    "                   \n",
    "print(\"There are no suppliers for this itemn\")\n",
    "    \n",
    "    \n",
    "\n",
    "\n",
    "\n",
    "#max_c_s_index = np.argsort(c_d)[-10:][::-1]\n",
    "\n",
    "#for k in range(len(max_c_s_index)):\n",
    "    \n",
    "#    if tranzact_data_search['Supplier_id'][max_c_s_index[k]] \\\n",
    "#                 == tranzact_data_search['Supplier_id'][max_c_s_index[k+1]]:\n",
    "        \n",
    "#        print(max_c_s_index[k])\n",
    "#        max_c_s_index_1 = np.delete(max_c_s_index, k)\n",
    "#        max_c_s_index = max_c_s_index.reset_index(drop=True)\n",
    " #       print(max_c_s_index)\n",
    "#                \n",
    "#    if k == len(max_c_s_index)-2:\n",
    "        \n",
    "#        break\n",
    "        \n",
    "#for k in range(len(max_c_s_index_1)):\n",
    "    \n",
    "#    kount = 0\n",
    "\n",
    "#    if c_d[max_c_s_index_1[0]] < 0.3:\n",
    "    \n",
    "#        print('There are No suppliers for this item')\n",
    "    \n",
    "#    else:\n",
    "    \n",
    "#        for i in range(len(max_c_s_index_1)):\n",
    "        \n",
    "#            if c_d[max_c_s_index_1[i]] < 0.3:\n",
    "            \n",
    "#                print('There are No more Suppliers')\n",
    "                \n",
    "#                break\n",
    "            \n",
    "#            print(tranzact_data_search['Supplier'][max_c_s_index_1[i]])\n",
    "#            print(tranzact_data_search['Supplier_id'][max_c_s_index_1[i]])\n",
    "#            #print(tranzact_data_final['Item'][max_c_s_index[i]])\n",
    "#            kount = kount+1\n",
    "            \n",
    "#            if kount == 10 :\n",
    "#                break\n",
    "\n"
   ]
  },
  {
   "cell_type": "code",
   "execution_count": null,
   "metadata": {},
   "outputs": [],
   "source": []
  }
 ],
 "metadata": {
  "kernelspec": {
   "display_name": "Python 3",
   "language": "python",
   "name": "python3"
  },
  "language_info": {
   "codemirror_mode": {
    "name": "ipython",
    "version": 3
   },
   "file_extension": ".py",
   "mimetype": "text/x-python",
   "name": "python",
   "nbconvert_exporter": "python",
   "pygments_lexer": "ipython3",
   "version": "3.5.2+"
  }
 },
 "nbformat": 4,
 "nbformat_minor": 2
}
