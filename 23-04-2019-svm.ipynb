{
 "cells": [
  {
   "cell_type": "code",
   "execution_count": 1,
   "metadata": {},
   "outputs": [],
   "source": [
    "## Multi class classification with Linear SVC"
   ]
  },
  {
   "cell_type": "code",
   "execution_count": 1,
   "metadata": {},
   "outputs": [
    {
     "name": "stderr",
     "output_type": "stream",
     "text": [
      "Using TensorFlow backend.\n"
     ]
    }
   ],
   "source": [
    "## (1) Loading requiredmodules :\n",
    "\n",
    "import pandas as pd\n",
    "import numpy as np\n",
    "import scipy\n",
    "import re\n",
    "import os\n",
    "from keras.preprocessing.text import Tokenizer\n",
    "\n",
    "import warnings\n",
    "warnings.filterwarnings(\"ignore\")\n",
    "\n",
    "import matplotlib.pyplot as plt\n",
    "%matplotlib inline"
   ]
  },
  {
   "cell_type": "code",
   "execution_count": 2,
   "metadata": {},
   "outputs": [],
   "source": [
    "## (2) Loading Data - labelled data :\n",
    "\n",
    "data_1 = pd.ExcelFile('R3_RNN_Tranzact_Rohan_1_Regrouped_with_supplier.xlsx')\n",
    "tranzact_data_1 = data_1.parse(0)\n",
    "\n",
    "## Loading Data - un-labelled data:\n",
    "\n",
    "data_2 = pd.ExcelFile('14Mar_Gorky_one_labelled.xlsx')\n",
    "tranzact_data_new_1 = data_2.parse(0)\n",
    "\n",
    "## Picking up required info from labelled data :\n",
    "\n",
    "col = ['to_company_name', 'supplier_item_id.2', 'product', 'supplier']\n",
    "tranzact_data_2 = tranzact_data_1[col]\n",
    "tranzact_data_2.columns = ['OEM', 'item', 'product', 'supplier']\n",
    "\n",
    "## Picking up required info from un-labelled data:\n",
    "\n",
    "col = ['from_company_name', 'buyer_item_name', 'product', 'to_company_name']\n",
    "tranzact_data_new_2 = tranzact_data_new_1[col]\n",
    "tranzact_data_new_2.columns = ['OEM', 'item', 'product', 'supplier']\n",
    "\n",
    "# Creating separate dataframe for Cesare Bonetti International Pvt. Ltd. from labelled Dat:\n",
    "\n",
    "tranzact_data_cesare_international_1 = tranzact_data_2.loc[tranzact_data_2['OEM'] \\\n",
    "                                                               == 'CESARE BONETTI INTERNATIONAL PVT. LTD.']\n",
    "tranzact_data_2_revised = tranzact_data_2.drop(tranzact_data_cesare_international_1.index)\n",
    "tranzact_data_cesare_international_1 = tranzact_data_cesare_international_1.reset_index(drop=True)\n",
    "tranzact_data_2_revised = tranzact_data_2_revised.reset_index(drop=True)\n",
    "\n",
    "# Creating separate dataframe for Cesare Bonetti International Pvt. Ltd. from unlabelled data :\n",
    "\n",
    "tranzact_data_cesare_international_2 = tranzact_data_new_2.loc[tranzact_data_new_2['OEM'] \\\n",
    "                                                               == 'CESARE BONETTI INTERNATIONAL PVT. LTD.']\n",
    "tranzact_data_new_2_revised = tranzact_data_new_2.drop(tranzact_data_cesare_international_2.index)\n",
    "tranzact_data_cesare_international_2 = tranzact_data_cesare_international_2.reset_index(drop=True)\n",
    "tranzact_data_new_2_revised = tranzact_data_new_2_revised.reset_index(drop=True)\n",
    "\n",
    "# Removing all 'Bonetti' & 'Waaree' supplier from both labelled and un-labelled data :\n",
    "\n",
    "## First make Items in lower case and remove rows with any cell value = none :\n",
    "\n",
    "tranzact_data_2_revised['item'] = tranzact_data_2_revised['item'].map(lambda x: x if type(x)!=str else x.lower()) \n",
    "tranzact_data_2_revised['product'] = tranzact_data_2_revised['product'].map(lambda x: x if type(x)!=str else x.lower())\n",
    "tranzact_data_2_revised['supplier'] = tranzact_data_2_revised['supplier'].map(lambda x: x if type(x)!=str else x.lower())\n",
    "#tranzact_data_2_revised = tranzact_data_2_revised.dropna() ## remove rows with cell value none\n",
    "\n",
    "tranzact_data_new_2_revised['item'] = tranzact_data_new_2_revised['item'].map(lambda x: x if type(x)!=str else x.lower())\n",
    "tranzact_data_new_2_revised['product'] = tranzact_data_new_2_revised['product'].map(lambda x: x if type(x)!=str else x.lower())\n",
    "tranzact_data_new_2_revised['supplier'] = tranzact_data_new_2_revised['supplier'].map(lambda x: x if type(x)!=str else x.lower())\n",
    "#tranzact_data_new_2_revised = tranzact_data_new_2_revised.dropna() ## remove rows with cell value none\n",
    "\n",
    "# Removing string 'bonetti' and 'waaree' from supplier :\n",
    "\n",
    "supplier_bonetti_2 = tranzact_data_2_revised[tranzact_data_2_revised['supplier'].str.contains('bonetti')]\n",
    "supplier_waaree_2 = tranzact_data_2_revised[tranzact_data_2_revised['supplier'].str.contains('waaree')]\n",
    "supplier_bonetti_new_2 = tranzact_data_new_2_revised[tranzact_data_new_2_revised['supplier'].str.contains('bonetti')]\n",
    "supplier_waaree_new_2 = tranzact_data_new_2_revised[tranzact_data_new_2_revised['supplier'].str.contains('waaree')]\n",
    "\n",
    "tranzact_data_3 = tranzact_data_2_revised.drop(supplier_bonetti_2.index) # 'bonetti' removed\n",
    "tranzact_data_3 = tranzact_data_3.drop(supplier_waaree_2.index)   # 'waaree' removed\n",
    "tranzact_data_new_3 = tranzact_data_new_2_revised.drop(supplier_bonetti_new_2.index)\n",
    "tranzact_data_new_3 = tranzact_data_new_3.drop(supplier_waaree_new_2.index)\n",
    "\n",
    "tranzact_data_3 = tranzact_data_3.reset_index(drop=True)\n",
    "tranzact_data_new_3 = tranzact_data_new_3.reset_index(drop=True)\n",
    "\n",
    "# Merging two data frames :\n",
    "\n",
    "tranzact_data_combined = pd.concat([tranzact_data_3, tranzact_data_new_3], axis=0, ignore_index=True)\n",
    "\n",
    "# Removing duplicate (item + supplier) combinations :\n",
    "\n",
    "tranzact_data_combined['find_duplicate'] = tranzact_data_combined['item'].map(str) + \\\n",
    "                                            tranzact_data_combined['supplier'].map(str)\n",
    "\n",
    "tranzact_data_combined.drop_duplicates(subset='find_duplicate', keep = 'first', inplace = True)\n",
    "tranzact_data_combined = tranzact_data_combined.reset_index(drop=True)\n"
   ]
  },
  {
   "cell_type": "code",
   "execution_count": 3,
   "metadata": {},
   "outputs": [],
   "source": [
    "## (3) cleaning the data :\n",
    "\n",
    "pd.options.mode.chained_assignment = None\n",
    "\n",
    "## Join all hyphaned words :\n",
    "\n",
    "tranzact_data_combined['item'] = tranzact_data_combined['item'].str.replace(r'([a-z])-([a-z])', r'\\1\\2')\n",
    "tranzact_data_combined['item'] = tranzact_data_combined['item'].str.replace(r'([0-9])-([a-z])', r'\\1\\2')\n",
    "\n",
    "## Removing underscores '_':\n",
    "\n",
    "under_score = ['_']\n",
    "\n",
    "for i in under_score:\n",
    "    \n",
    "    tranzact_data_combined['item']= tranzact_data_combined['item'].str.replace(i,\" \")    ## remove underscores\n",
    "\n",
    "tranzact_data_combined['item'] = tranzact_data_combined['item'].str.replace(r'\\W',' ')   ## remove puntuations\n",
    "\n",
    "## joinning consecutive single letters - SS:\n",
    "\n",
    "s_s_list = pd.DataFrame()\n",
    "s_s_list['item'] = tranzact_data_combined['item'].str.findall(r'(?i)\\b[s]\\s+\\b[s]\\b')    \n",
    "s_s_list_index = tranzact_data_combined[tranzact_data_combined['item'].str.contains(r'(?i)\\b[s]\\s+\\b[s]\\b')].index.values\n",
    "s_s_list = s_s_list[s_s_list.astype(str)['item'] != '[]']\n",
    "s_s_list['joined'] = s_s_list.item.apply(''.join)\n",
    "s_s_list.joined = s_s_list.joined.str.replace(' ', '')\n",
    "\n",
    "## joinning consecutive single letters - MS:\n",
    "\n",
    "ms_list = pd.DataFrame()\n",
    "ms_list['item'] = tranzact_data_combined['item'].str.findall(r'(?i)\\b[m]\\s+\\b[s]\\b')    \n",
    "ms_list_index = tranzact_data_combined[tranzact_data_combined['item'].str.contains(r'(?i)\\b[m]\\s+\\b[s]\\b')].index.values\n",
    "ms_list = ms_list[ms_list.astype(str)['item'] != '[]']\n",
    "ms_list['joined'] = ms_list.item.apply(''.join)\n",
    "ms_list.joined = ms_list.joined.str.replace(' ', '')\n",
    "\n",
    "## joinning consecutive single letters - CI:\n",
    "\n",
    "ci_list = pd.DataFrame()\n",
    "ci_list['item'] = tranzact_data_combined['item'].str.findall(r'(?i)\\b[c]\\s+\\b[i]\\b')    \n",
    "ci_list_index = tranzact_data_combined[tranzact_data_combined['item'].str.contains(r'(?i)\\b[c]\\s+\\b[i]\\b')].index.values\n",
    "ci_list = ci_list[ci_list.astype(str)['item'] != '[]']\n",
    "ci_list['joined'] = ci_list.item.apply(''.join)\n",
    "ci_list.joined = ci_list.joined.str.replace(' ', '')\n",
    "\n",
    "## joinning consecutive single letters - CS:\n",
    "\n",
    "cs_list = pd.DataFrame()\n",
    "cs_list['item'] = tranzact_data_combined['item'].str.findall(r'(?i)\\b[c]\\s+\\b[s]\\b')    \n",
    "cs_list_index = tranzact_data_combined[tranzact_data_combined['item'].str.contains(r'(?i)\\b[c]\\s+\\b[s]\\b')].index.values\n",
    "cs_list = cs_list[cs_list.astype(str)['item'] != '[]']\n",
    "cs_list['joined'] = cs_list.item.apply(''.join)\n",
    "cs_list.joined = cs_list.joined.str.replace(' ', '')\n",
    "\n",
    "## substituting above cell in tranzact_data_combine :\n",
    "\n",
    "for i in s_s_list_index:    \n",
    "    [tranzact_data_combined['item'][i]] = [re.sub(r'(?i)\\b[s]\\s+\\b[s]\\b', s_s_list['joined'][i], a) \\\n",
    "                                           for a in [tranzact_data_combined['item'][i]]]\n",
    "    \n",
    "for i in ms_list_index:    \n",
    "    [tranzact_data_combined['item'][i]] = [re.sub(r'(?i)\\b[m]\\s+\\b[s]\\b', ms_list['joined'][i], a) \\\n",
    "                                           for a in [tranzact_data_combined['item'][i]]]\n",
    "    \n",
    "for i in ci_list_index:    \n",
    "    [tranzact_data_combined['item'][i]] = [re.sub(r'(?i)\\b[c]\\s+\\b[i]\\b', ci_list['joined'][i], a) \\\n",
    "                                           for a in [tranzact_data_combined['item'][i]]]\n",
    "    \n",
    "for i in cs_list_index:    \n",
    "    [tranzact_data_combined['item'][i]] = [re.sub(r'(?i)\\b[c]\\s+\\b[s]\\b', cs_list['joined'][i], a) \\\n",
    "                                           for a in [tranzact_data_combined['item'][i]]]\n",
    "\n"
   ]
  },
  {
   "cell_type": "code",
   "execution_count": 4,
   "metadata": {},
   "outputs": [],
   "source": [
    "## (4) cleaning data(continued):\n",
    "\n",
    "# making list for joinning is with number(indian standards):\n",
    "is_list = pd.DataFrame()\n",
    "is_list['item'] = tranzact_data_combined['item'].str.findall(r'\\b\\is\\s+\\d+\\b')\n",
    "is_list_index = tranzact_data_combined[tranzact_data_combined['item'].str.contains(r'\\b\\is\\s+\\d+\\b')].index.values\n",
    "is_list = is_list[is_list.astype(str)['item'] != '[]']\n",
    "is_list['joined'] = is_list.item.apply(''.join)\n",
    "is_list.joined = is_list.joined.str.replace(' ', '')\n",
    "\n",
    "# making list for joinning en with number(en standards):\n",
    "en_list = pd.DataFrame()\n",
    "en_list['item'] = tranzact_data_combined['item'].str.findall(r'\\b\\en\\s+\\d+\\b')\n",
    "en_list_index = tranzact_data_combined[tranzact_data_combined['item'].str.contains(r'\\b\\en\\s+\\d+\\b')].index.values\n",
    "en_list = en_list[en_list.astype(str)['item'] != '[]']\n",
    "en_list['joined'] = en_list.item.apply(''.join)\n",
    "en_list.joined = en_list.joined.str.replace(' ', '')\n",
    "2,\n",
    "# making list for joinning ss with number(ss standards):\n",
    "ss_list = pd.DataFrame()\n",
    "ss_list['item'] = tranzact_data_combined['item'].str.findall(r'\\bs\\w\\s+\\d{2,3}\\b')\n",
    "ss_list_index = tranzact_data_combined[tranzact_data_combined['item'].str.contains(r'\\bs\\w\\s+\\d{2,3}\\b')].index.values\n",
    "ss_list = ss_list[ss_list.astype(str)['item'] != '[]']\n",
    "ss_list['joined'] = ss_list.item.apply(''.join)\n",
    "ss_list.joined = ss_list.joined.str.replace(' ', '')\n",
    "\n",
    "# making list for joinning fg with number(casting standards):\n",
    "fg_list = pd.DataFrame()\n",
    "fg_list['item'] = tranzact_data_combined['item'].str.findall(r'\\b[f]\\g\\s+\\d+\\b')\n",
    "fg_list_index = tranzact_data_combined[tranzact_data_combined['item'].str.contains(r'\\b[f]\\g\\s+\\d+\\b')].index.values\n",
    "fg_list = fg_list[fg_list.astype(str)['item'] != '[]']\n",
    "fg_list['joined'] = fg_list.item.apply(''.join)\n",
    "fg_list.joined = fg_list.joined.str.replace(' ', '')\n",
    "\n",
    "## substituting above in tranzact_data_combine :\n",
    "\n",
    "for i in is_list_index:    \n",
    "    [tranzact_data_combined['item'][i]] = [re.sub(r'\\b\\is\\s+\\d+\\b', is_list['joined'][i], a) \\\n",
    "                                           for a in [tranzact_data_combined['item'][i]]]\n",
    "    \n",
    "for i in en_list_index:    \n",
    "    [tranzact_data_combined['item'][i]] = [re.sub(r'\\b\\en\\s+\\d+\\b', en_list['joined'][i], a) \\\n",
    "                                           for a in [tranzact_data_combined['item'][i]]]\n",
    "    \n",
    "for i in ss_list_index:    \n",
    "    [tranzact_data_combined['item'][i]] = [re.sub(r'\\bs\\w\\s+\\d{2,3}\\b', ss_list['joined'][i], a) \\\n",
    "                                           for a in [tranzact_data_combined['item'][i]]]\n",
    "    \n",
    "for i in fg_list_index:    \n",
    "    [tranzact_data_combined['item'][i]] = [re.sub(r'\\b[f]\\g\\s+\\d+\\b', fg_list['joined'][i], a) \\\n",
    "                                           for a in [tranzact_data_combined['item'][i]]]\n",
    "\n",
    "## Remove dimensions alongwith units(mm etc) and lastly integers :\n",
    "\n",
    "tranzact_data_combined['item']= tranzact_data_combined['item'].str.replace(r'\\b\\d+x\\d+x\\d+\\w*\\b',' ')\n",
    "tranzact_data_combined['item']= tranzact_data_combined['item'].str.replace(r'\\b\\d+x\\d+\\w*\\b',' ')\n",
    "tranzact_data_combined['item']= tranzact_data_combined['item'].str.replace(r'\\b\\d+\\w*\\b',' ')\n",
    "tranzact_data_combined['item']= tranzact_data_combined['item'].str.replace(r'\\bx\\w+\\b',' ')\n",
    "\n",
    "tranzact_data_combined['item']= tranzact_data_combined['item'].str.replace(r'\\b\\id\\s*\\d+\\b',' ')\n",
    "tranzact_data_combined['item']= tranzact_data_combined['item'].str.replace(r'\\b\\od\\s*\\d+\\b',' ')\n",
    "tranzact_data_combined['item']= tranzact_data_combined['item'].str.replace(r'\\bd\\ia\\s*\\d+\\b',' ')\n",
    "tranzact_data_combined['item']= tranzact_data_combined['item'].str.replace(r'\\bd\\s*\\d+\\b',' ')\n",
    "\n",
    "## Remove m8 etc. :\n",
    "\n",
    "tranzact_data_combined['item'] = tranzact_data_combined['item'].str.replace(r'\\b\\m\\d+\\b',' ')\n",
    "tranzact_data_combined['item']= tranzact_data_combined['item'].str.replace(r'\\b\\m\\d+x\\w+\\b',' ')\n",
    "\n",
    "## Breaking some words like 'perforatedsheet' etc.:\n",
    "\n",
    "tranzact_data_combined['item'] = tranzact_data_combined['item'].str.replace(r'\\b\\perforatedsheet\\b','perforated sheet')\n",
    "\n",
    "\n",
    "## Remove bad words as per list below :\n",
    ", \n",
    "bad_ist = ['mm', 'inch', 'ft', 'feet', 'mtr', 'volt', 'amp', 'micron', 'microns', 'swg', 'cfm', 'kg', \\\n",
    "           'tons', 'mfd', 'ah', 'id', 'od', 'dia', 'to', 'for', 'x']\n",
    "\n",
    "tranzact_data_combined['item']= tranzact_data_combined['item'].apply(lambda x:' '.join([i for i in x.split()\n",
    "                                                                                if i not in bad_ist]).lower())\n",
    "\n",
    "\n",
    "\n",
    "tranzact_data_combined = tranzact_data_combined.reset_index(drop=True)"
   ]
  },
  {
   "cell_type": "code",
   "execution_count": 5,
   "metadata": {},
   "outputs": [
    {
     "data": {
      "image/png": "[encoded data removed]",
      "text/plain": [
       "<Figure size 3600x720 with 1 Axes>"
      ]
     },
     "metadata": {},
     "output_type": "display_data"
    }
   ],
   "source": [
    "# (5) Splitting data into labelled and unlabelled :\n",
    "\n",
    "tranzact_data_labelled = pd.DataFrame()\n",
    "tranzact_data_unlabelled = pd.DataFrame()\n",
    "\n",
    "tranzact_data_labelled = tranzact_data_combined[tranzact_data_combined['product'].notnull()]\n",
    "tranzact_data_labelled = tranzact_data_labelled.dropna() ## remove any other rows with cell value none\n",
    "tranzact_data_unlabelled = tranzact_data_combined.drop(tranzact_data_labelled.index)\n",
    "\n",
    "tranzact_data_labelled.drop_duplicates(subset='item', keep = 'first', inplace = True) # remove duplicate items\n",
    "\n",
    "tranzact_data_labelled = tranzact_data_labelled.reset_index(drop=True)\n",
    "tranzact_data_unlabelled = tranzact_data_unlabelled.reset_index(drop=True)\n",
    "\n",
    "# digitising 'product' and creating a dictionary :\n",
    "\n",
    "tranzact_data_labelled['product_id'] = tranzact_data_labelled['product'].factorize()[0]\n",
    "\n",
    "product_id_df = tranzact_data_labelled[['product', 'product_id']].drop_duplicates().sort_values('product_id')\n",
    "product_to_id = dict(product_id_df.values)\n",
    "id_to_product = dict(product_id_df[['product_id', 'product']].values)\n",
    "\n",
    "## To show distribution of product category\n",
    "\n",
    "fig = plt.figure(figsize=(50,10))\n",
    "# print(max(tranzact_data_labelled.groupby('product').item.count()))\n",
    "tranzact_data_labelled.groupby('product').item.count().plot.bar(ylim=0)\n",
    "plt.show()\n"
   ]
  },
  {
   "cell_type": "code",
   "execution_count": 6,
   "metadata": {},
   "outputs": [
    {
     "data": {
      "text/plain": [
       "Counter({'actuator': 29,\n",
       "         'adhesive': 12,\n",
       "         'alloysteelbar': 31,\n",
       "         'alloysteelforging': 23,\n",
       "         'bearing': 67,\n",
       "         'belt': 21,\n",
       "         'bushbearing': 62,\n",
       "         'carbonsteelbar': 41,\n",
       "         'chemical': 41,\n",
       "         'cibar': 4,\n",
       "         'cicasting': 91,\n",
       "         'cooling': 104,\n",
       "         'cscasting': 17,\n",
       "         'csforging': 37,\n",
       "         'diaphragm': 26,\n",
       "         'electrical': 859,\n",
       "         'electronic': 191,\n",
       "         'fasteners': 872,\n",
       "         'gas': 19,\n",
       "         'gasket': 116,\n",
       "         'gearbox': 24,\n",
       "         'gland packaging': 10,\n",
       "         'glass': 21,\n",
       "         'hydraulic': 328,\n",
       "         'ic': 73,\n",
       "         'inductor': 16,\n",
       "         'lab-apparatus': 28,\n",
       "         'machinery': 9,\n",
       "         'manifold': 6,\n",
       "         'measuringinstrumentelectrical': 6,\n",
       "         'measuringinstrumentmechanical': 40,\n",
       "         'mechanicalconnector': 20,\n",
       "         'metalsheet': 113,\n",
       "         'misc': 236,\n",
       "         'motor': 21,\n",
       "         'msbar': 11,\n",
       "         'nameplate': 82,\n",
       "         'nonmetalbar': 12,\n",
       "         'nonmetalsheet': 27,\n",
       "         'nonsteelbar': 13,\n",
       "         'oil&lubricant': 40,\n",
       "         'packaging': 311,\n",
       "         'paint': 105,\n",
       "         'perforatedsheet': 17,\n",
       "         'pipe': 214,\n",
       "         'polymer': 25,\n",
       "         'resistor': 61,\n",
       "         'safetyappliance': 39,\n",
       "         'sandwichpanel': 16,\n",
       "         'sealing': 165,\n",
       "         'section': 17,\n",
       "         'solar': 41,\n",
       "         'spring': 75,\n",
       "         'spsbar': 41,\n",
       "         'spswire': 3,\n",
       "         'ssbar': 174,\n",
       "         'ssforging': 27,\n",
       "         'sswire': 5,\n",
       "         'stationery': 25,\n",
       "         'tool': 390,\n",
       "         'tungstenbar': 3,\n",
       "         'valve': 537,\n",
       "         'welding': 68,\n",
       "         'wire': 26,\n",
       "         'wiremesh': 75})"
      ]
     },
     "execution_count": 6,
     "metadata": {},
     "output_type": "execute_result"
    }
   ],
   "source": [
    "## (6) Gives the product wise item distribution. Data needs to be judiciously balanced in future.\n",
    "from collections import Counter\n",
    "Counter(tranzact_data_labelled[\"product\"])"
   ]
  },
  {
   "cell_type": "code",
   "execution_count": 7,
   "metadata": {},
   "outputs": [
    {
     "data": {
      "text/plain": [
       "Pipeline(memory=None,\n",
       "     steps=[('vectorizer', CountVectorizer(analyzer='word', binary=False, decode_error='strict',\n",
       "        dtype=<class 'numpy.int64'>, encoding='utf-8', input='content',\n",
       "        lowercase=True, max_df=1.0, max_features=None, min_df=1,\n",
       "        ngram_range=(1, 2), preprocessor=None, stop_words=None,\n",
       "       ...lti_class='ovr', penalty='l2', random_state=None, tol=0.0001,\n",
       "     verbose=0),\n",
       "          n_jobs=1))])"
      ]
     },
     "execution_count": 7,
     "metadata": {},
     "output_type": "execute_result"
    }
   ],
   "source": [
    "## (7) Creating X and y variables for training. X = Items and y = 'product' or product category\n",
    "\n",
    "X = []\n",
    "for i in range(tranzact_data_labelled.shape[0]):\n",
    "    X.append(tranzact_data_labelled.iloc[i][1])\n",
    "y = np.array(tranzact_data_labelled[\"product\"])\n",
    "\n",
    "#train test split in 80% / 20% ratio\n",
    "\n",
    "from sklearn.model_selection import train_test_split\n",
    "X_train, X_test, y_train, y_test = train_test_split(X, y, test_size=0.20, random_state=5)\n",
    "\n",
    "## Creating the pipeline for learning which include vectorizing and training with \n",
    "## Support Vector Classifier with Linear Kernel :\n",
    "\n",
    "from sklearn.pipeline import Pipeline\n",
    "from sklearn.feature_extraction.text import TfidfVectorizer\n",
    "from sklearn.feature_extraction.text import CountVectorizer\n",
    "from sklearn.feature_extraction.text import TfidfTransformer\n",
    "from sklearn.svm import LinearSVC\n",
    "from sklearn.svm import SVC\n",
    "from sklearn.multiclass import OneVsRestClassifier\n",
    "\n",
    "\n",
    "model = Pipeline([('vectorizer', CountVectorizer(ngram_range=(1,2))), \\\n",
    "                  ('tfidf', TfidfTransformer(norm='l2', use_idf=True)), \\\n",
    "                  ('clf', OneVsRestClassifier(LinearSVC(C=1, class_weight = 'balanced')))])\n",
    "\n",
    "#fit model with training data\n",
    "\n",
    "model.fit(X_train, y_train)\n"
   ]
  },
  {
   "cell_type": "code",
   "execution_count": 8,
   "metadata": {},
   "outputs": [
    {
     "name": "stdout",
     "output_type": "stream",
     "text": [
      "\u001b[4mName of suppliers\u001b[0m :\n",
      "advance trading company\n",
      "bansal wire industries ltd.\n",
      "yeshwant wires pvt ltd\n",
      "shield mac industries\n"
     ]
    },
    {
     "data": {
      "text/html": [
       "<div>\n",
       "<style scoped>\n",
       "    .dataframe tbody tr th:only-of-type {\n",
       "        vertical-align: middle;\n",
       "    }\n",
       "\n",
       "    .dataframe tbody tr th {\n",
       "        vertical-align: top;\n",
       "    }\n",
       "\n",
       "    .dataframe thead th {\n",
       "        text-align: right;\n",
       "    }\n",
       "</style>\n",
       "<table border=\"1\" class=\"dataframe\">\n",
       "  <thead>\n",
       "    <tr style=\"text-align: right;\">\n",
       "      <th></th>\n",
       "      <th>similarity_index</th>\n",
       "      <th>item</th>\n",
       "      <th>supplier</th>\n",
       "    </tr>\n",
       "  </thead>\n",
       "  <tbody>\n",
       "    <tr>\n",
       "      <th>0</th>\n",
       "      <td>1.000</td>\n",
       "      <td>hdpe welding rod</td>\n",
       "      <td>advance trading company</td>\n",
       "    </tr>\n",
       "    <tr>\n",
       "      <th>1</th>\n",
       "      <td>0.297</td>\n",
       "      <td>consumables welding rod</td>\n",
       "      <td>bansal wire industries ltd.</td>\n",
       "    </tr>\n",
       "    <tr>\n",
       "      <th>2</th>\n",
       "      <td>0.286</td>\n",
       "      <td>stellite welding rod</td>\n",
       "      <td>yeshwant wires pvt ltd</td>\n",
       "    </tr>\n",
       "    <tr>\n",
       "      <th>3</th>\n",
       "      <td>0.277</td>\n",
       "      <td>welding rod pack</td>\n",
       "      <td>shield mac industries</td>\n",
       "    </tr>\n",
       "    <tr>\n",
       "      <th>4</th>\n",
       "      <td>0.277</td>\n",
       "      <td>aluminium welding rod</td>\n",
       "      <td>vividh wires limited</td>\n",
       "    </tr>\n",
       "    <tr>\n",
       "      <th>5</th>\n",
       "      <td>0.183</td>\n",
       "      <td>ss welding rod wolfarm make</td>\n",
       "      <td>m.v enterprises</td>\n",
       "    </tr>\n",
       "    <tr>\n",
       "      <th>6</th>\n",
       "      <td>0.088</td>\n",
       "      <td>brazing rod</td>\n",
       "      <td>mathure metal works pvt ltd</td>\n",
       "    </tr>\n",
       "    <tr>\n",
       "      <th>7</th>\n",
       "      <td>0.070</td>\n",
       "      <td>welding sleeve</td>\n",
       "      <td>m/s. s. k. enterprise</td>\n",
       "    </tr>\n",
       "    <tr>\n",
       "      <th>8</th>\n",
       "      <td>0.066</td>\n",
       "      <td>er tig filler rod</td>\n",
       "      <td>mesta inc</td>\n",
       "    </tr>\n",
       "    <tr>\n",
       "      <th>9</th>\n",
       "      <td>0.062</td>\n",
       "      <td>er410 tig filler rod</td>\n",
       "      <td>maxell forge industries</td>\n",
       "    </tr>\n",
       "  </tbody>\n",
       "</table>\n",
       "</div>"
      ],
      "text/plain": [
       "   similarity_index                         item                     supplier\n",
       "0             1.000             hdpe welding rod      advance trading company\n",
       "1             0.297      consumables welding rod  bansal wire industries ltd.\n",
       "2             0.286         stellite welding rod       yeshwant wires pvt ltd\n",
       "3             0.277             welding rod pack        shield mac industries\n",
       "4             0.277        aluminium welding rod         vividh wires limited\n",
       "5             0.183  ss welding rod wolfarm make              m.v enterprises\n",
       "6             0.088                  brazing rod  mathure metal works pvt ltd\n",
       "7             0.070               welding sleeve        m/s. s. k. enterprise\n",
       "8             0.066            er tig filler rod                    mesta inc\n",
       "9             0.062         er410 tig filler rod      maxell forge industries"
      ]
     },
     "execution_count": 8,
     "metadata": {},
     "output_type": "execute_result"
    }
   ],
   "source": [
    "## (8) Input Item name here in the syntax given below :\n",
    "\n",
    "Search_Item = 'hdpe welding rod'\n",
    "\n",
    "Input_Item_Name = [Search_Item]\n",
    "\n",
    "## To decide a valid item\n",
    "\n",
    "tokenizer_obj_labelled = Tokenizer()\n",
    "tokenizer_obj_labelled.fit_on_texts(tranzact_data_labelled['item'])\n",
    "Input_tokens = tokenizer_obj_labelled.texts_to_sequences(Input_Item_Name)\n",
    "\n",
    "def cos_cdist(matrix, vector):\n",
    "    v = vector.reshape(1, -1)\n",
    "    return scipy.spatial.distance.cdist(matrix, v, 'cosine').reshape(-1)\n",
    "\n",
    "result_frame = []\n",
    "result_frame = pd.DataFrame()\n",
    "if len(Input_tokens[0]) == 0:\n",
    "    print('There are no such items in our data base')\n",
    "else:\n",
    "    print(\"\\033[4mName of suppliers\\033[0m :\")\n",
    "    Output_Product_Category = model.predict(Input_Item_Name)\n",
    "    output_cat_list = Output_Product_Category.tolist()\n",
    "    \n",
    "    \n",
    "    tranzact_data_search = tranzact_data_labelled.loc[tranzact_data_labelled['product'] == output_cat_list[0]] \n",
    "                                                               \n",
    "    tranzact_data_search = tranzact_data_search.reset_index(drop=True)\n",
    "\n",
    "    my_vectorizer = TfidfVectorizer(sublinear_tf=True, min_df=1, norm='l2', ngram_range=(1, 2), use_idf = True)\n",
    "    \n",
    "    merge_text_feature = []\n",
    "    merge_text_feature_digit = []\n",
    "    merge_digit_vector = []\n",
    "    test_digit_vector = []\n",
    "\n",
    "    merge_text_feature = tranzact_data_search['item'].append(pd.Series(Input_Item_Name))\n",
    "    merge_text_feature = merge_text_feature.reset_index(drop=True)\n",
    "    merge_text_feature_digit = my_vectorizer.fit(merge_text_feature)\n",
    "\n",
    "# encode document\n",
    "    merge_digit_vector = merge_text_feature_digit.transform(merge_text_feature).toarray()\n",
    "    test_digit_vector = merge_digit_vector[len(merge_digit_vector)-1].reshape((merge_digit_vector.shape)[1],)\n",
    "    merge_digit_vector_1 = merge_digit_vector[0:(len(merge_digit_vector)-1)]\n",
    "## Finding cosine similarity & picking 50 top similar lines :\n",
    "\n",
    "    c_d = []\n",
    "    c_d = np.round((1 - cos_cdist(merge_digit_vector_1, test_digit_vector)), 3)\n",
    "    max_c_s_index = []\n",
    "    max_c_s_index = np.argsort(c_d)[-50:][::-1]\n",
    "\n",
    "    result = []\n",
    "    result_frame = []\n",
    "    max_c_s_index = []\n",
    "    max_c_s_index = np.argsort(c_d)[-50:][::-1]\n",
    "\n",
    "    for i in max_c_s_index:\n",
    "    \n",
    "        result.append(np.array([c_d[i], tranzact_data_search['item'][i], tranzact_data_search['supplier'][i]]))\n",
    "\n",
    "    result_frame = pd.DataFrame(result, columns=['similarity_index', 'item', 'supplier'])\n",
    "\n",
    "    result_frame.similarity_index = result_frame.similarity_index.astype('float64')\n",
    "\n",
    "    result_frame.drop_duplicates(subset='supplier', keep = 'first', inplace = True)\n",
    "    result_frame = result_frame.reset_index(drop=True)\n",
    "\n",
    "    kount = 0\n",
    "\n",
    "    for i in range(len(result_frame['supplier'])):\n",
    "        if result_frame['similarity_index'][i] >0:\n",
    "            print(result_frame['supplier'][i])\n",
    "            kount = kount+1\n",
    "            if kount == 4 :\n",
    "                break\n",
    "result_frame.head(10)\n"
   ]
  },
  {
   "cell_type": "code",
   "execution_count": 9,
   "metadata": {},
   "outputs": [
    {
     "data": {
      "text/plain": [
       "6259"
      ]
     },
     "execution_count": 9,
     "metadata": {},
     "output_type": "execute_result"
    }
   ],
   "source": [
    "len(X)"
   ]
  },
  {
   "cell_type": "code",
   "execution_count": 10,
   "metadata": {},
   "outputs": [],
   "source": [
    "X_digit = my_vectorizer.fit(X)\n",
    "\n",
    "X_vector = X_digit.transform(X).toarray()\n"
   ]
  },
  {
   "cell_type": "code",
   "execution_count": 11,
   "metadata": {},
   "outputs": [
    {
     "data": {
      "text/plain": [
       "(6259, 16492)"
      ]
     },
     "execution_count": 11,
     "metadata": {},
     "output_type": "execute_result"
    }
   ],
   "source": [
    "X_vector.shape"
   ]
  },
  {
   "cell_type": "code",
   "execution_count": 12,
   "metadata": {},
   "outputs": [
    {
     "data": {
      "text/plain": [
       "0.47668067979514284"
      ]
     },
     "execution_count": 12,
     "metadata": {},
     "output_type": "execute_result"
    }
   ],
   "source": [
    "max(X_vector[6258])"
   ]
  },
  {
   "cell_type": "code",
   "execution_count": 13,
   "metadata": {},
   "outputs": [
    {
     "data": {
      "text/plain": [
       "0.0"
      ]
     },
     "execution_count": 13,
     "metadata": {},
     "output_type": "execute_result"
    }
   ],
   "source": [
    "min(X_vector[6258])"
   ]
  },
  {
   "cell_type": "code",
   "execution_count": 14,
   "metadata": {},
   "outputs": [],
   "source": [
    "from sklearn.cluster import DBSCAN"
   ]
  },
  {
   "cell_type": "code",
   "execution_count": 15,
   "metadata": {},
   "outputs": [],
   "source": [
    "db = DBSCAN(eps = 1, min_samples = 3)\n",
    "model = db.fit(X_vector)"
   ]
  },
  {
   "cell_type": "code",
   "execution_count": 16,
   "metadata": {},
   "outputs": [],
   "source": [
    "labels = model.labels_"
   ]
  },
  {
   "cell_type": "code",
   "execution_count": 17,
   "metadata": {},
   "outputs": [
    {
     "data": {
      "text/plain": [
       "array([0, 0, 0, ..., 0, 0, 0])"
      ]
     },
     "execution_count": 17,
     "metadata": {},
     "output_type": "execute_result"
    }
   ],
   "source": [
    "labels"
   ]
  },
  {
   "cell_type": "code",
   "execution_count": 18,
   "metadata": {},
   "outputs": [
    {
     "data": {
      "text/plain": [
       "6259"
      ]
     },
     "execution_count": 18,
     "metadata": {},
     "output_type": "execute_result"
    }
   ],
   "source": [
    "len(labels)"
   ]
  },
  {
   "cell_type": "code",
   "execution_count": 19,
   "metadata": {},
   "outputs": [
    {
     "data": {
      "text/plain": [
       "8"
      ]
     },
     "execution_count": 19,
     "metadata": {},
     "output_type": "execute_result"
    }
   ],
   "source": [
    "n_clusters = len(set(labels)) - (1 if -1 in labels else 0)\n",
    "n_clusters"
   ]
  },
  {
   "cell_type": "code",
   "execution_count": 20,
   "metadata": {},
   "outputs": [
    {
     "data": {
      "text/plain": [
       "9"
      ]
     },
     "execution_count": 20,
     "metadata": {},
     "output_type": "execute_result"
    }
   ],
   "source": [
    "n_clusters = len(set(labels))\n",
    "n_clusters"
   ]
  },
  {
   "cell_type": "code",
   "execution_count": 21,
   "metadata": {},
   "outputs": [
    {
     "data": {
      "text/plain": [
       "29"
      ]
     },
     "execution_count": 21,
     "metadata": {},
     "output_type": "execute_result"
    }
   ],
   "source": [
    "db_1 = DBSCAN(eps = .5, min_samples = 3)\n",
    "model_1 = db_1.fit(X_vector)\n",
    "\n",
    "labels_1 = model_1.labels_\n",
    "\n",
    "n_clusters_1 = len(set(labels_1)) - (1 if -1 in labels_1 else 0)\n",
    "n_clusters_1"
   ]
  },
  {
   "cell_type": "code",
   "execution_count": 24,
   "metadata": {},
   "outputs": [
    {
     "name": "stdout",
     "output_type": "stream",
     "text": [
      "Silhouette Coefficient : -0.022\n"
     ]
    }
   ],
   "source": [
    "from sklearn import metrics\n",
    "print('Silhouette Coefficient : %0.3f' % metrics.silhouette_score(X_vector, labels_1))"
   ]
  },
  {
   "cell_type": "code",
   "execution_count": 25,
   "metadata": {},
   "outputs": [
    {
     "name": "stdout",
     "output_type": "stream",
     "text": [
      "Silhouette Coefficient : -0.005\n"
     ]
    }
   ],
   "source": [
    "print('Silhouette Coefficient : %0.3f' % metrics.silhouette_score(X_vector, labels))"
   ]
  },
  {
   "cell_type": "code",
   "execution_count": 27,
   "metadata": {},
   "outputs": [
    {
     "name": "stdout",
     "output_type": "stream",
     "text": [
      "9\n",
      "Silhouette Coefficient : -0.002\n"
     ]
    }
   ],
   "source": [
    "db_2 = DBSCAN(eps = .25, min_samples = 3)\n",
    "model_2 = db_2.fit(X_vector)\n",
    "\n",
    "labels_2 = model_2.labels_\n",
    "\n",
    "n_clusters_2 = len(set(labels_2)) - (1 if -1 in labels_2 else 0)\n",
    "print(n_clusters_2)\n",
    "\n",
    "print('Silhouette Coefficient : %0.3f' % metrics.silhouette_score(X_vector, labels_2))"
   ]
  },
  {
   "cell_type": "code",
   "execution_count": 44,
   "metadata": {},
   "outputs": [
    {
     "name": "stdout",
     "output_type": "stream",
     "text": [
      "9\n",
      "Silhouette Coefficient : -0.002\n"
     ]
    }
   ],
   "source": [
    "db_3 = DBSCAN(eps = 0.35, min_samples = 3)\n",
    "model_3 = db_3.fit(X_vector)\n",
    "\n",
    "labels_3 = model_3.labels_\n",
    "\n",
    "n_clusters_3 = len(set(labels_3)) - (1 if -1 in labels_3 else 0)\n",
    "print(n_clusters_3)\n",
    "\n",
    "print('Silhouette Coefficient : %0.3f' % metrics.silhouette_score(X_vector, labels_3))"
   ]
  },
  {
   "cell_type": "code",
   "execution_count": 96,
   "metadata": {},
   "outputs": [
    {
     "name": "stdout",
     "output_type": "stream",
     "text": [
      "287\n",
      "Silhouette Coefficient : 0.002\n"
     ]
    }
   ],
   "source": [
    "db_4 = DBSCAN(eps = .8, min_samples = 3)\n",
    "model_4 = db_4.fit(X_vector)\n",
    "labels_4 = model_4.labels_\n",
    "\n",
    "n_clusters_4 = len(set(labels_4)) - (1 if -1 in labels_4 else 0)\n",
    "print(n_clusters_4)\n",
    "\n",
    "print('Silhouette Coefficient : %0.3f' % metrics.silhouette_score(X_vector, labels_4))"
   ]
  },
  {
   "cell_type": "code",
   "execution_count": 98,
   "metadata": {},
   "outputs": [
    {
     "name": "stdout",
     "output_type": "stream",
     "text": [
      "279\n",
      "Silhouette Coefficient : -0.001\n"
     ]
    }
   ],
   "source": [
    "db_4 = DBSCAN(eps = .79, min_samples = 3)\n",
    "model_4 = db_4.fit(X_vector)\n",
    "labels_4 = model_4.labels_\n",
    "\n",
    "n_clusters_4 = len(set(labels_4)) - (1 if -1 in labels_4 else 0)\n",
    "print(n_clusters_4)\n",
    "\n",
    "print('Silhouette Coefficient : %0.3f' % metrics.silhouette_score(X_vector, labels_4))"
   ]
  },
  {
   "cell_type": "code",
   "execution_count": 106,
   "metadata": {},
   "outputs": [
    {
     "name": "stdout",
     "output_type": "stream",
     "text": [
      "356\n",
      "Silhouette Coefficient : 0.031\n"
     ]
    }
   ],
   "source": [
    "db_4 = DBSCAN(eps = 0.95, min_samples = 3)\n",
    "model_4 = db_4.fit(X_vector)\n",
    "labels_4 = model_4.labels_\n",
    "\n",
    "n_clusters_4 = len(set(labels_4)) - (1 if -1 in labels_4 else 0)\n",
    "print(n_clusters_4)\n",
    "\n",
    "print('Silhouette Coefficient : %0.3f' % metrics.silhouette_score(X_vector, labels_4))"
   ]
  },
  {
   "cell_type": "code",
   "execution_count": 57,
   "metadata": {},
   "outputs": [
    {
     "name": "stdout",
     "output_type": "stream",
     "text": [
      "{0, 1, 2, 3, 4, 5, 6, 7, 8, -1}\n",
      "6259\n",
      "-1\n",
      "<class 'numpy.ndarray'>\n",
      "(6259,)\n"
     ]
    }
   ],
   "source": [
    "print(set(labels_3))\n",
    "print(len(labels_3))\n",
    "print(labels_3[2])\n",
    "print(type(labels_3))\n",
    "print(labels_3.shape)"
   ]
  },
  {
   "cell_type": "code",
   "execution_count": null,
   "metadata": {},
   "outputs": [],
   "source": [
    "# Silhouette Score: The silhouette score is calculated utilizing the mean intra- cluster distance \n",
    "# between points, AND the mean nearest-cluster distance. For instance, a cluster with a lot of data \n",
    "# points very close to each other (high density) AND is far away from the next nearest cluster \n",
    "# (suggesting the cluster is very unique in comparison to the next closest), will have a strong \n",
    "# silhouette score. A silhouette score ranges from -1 to 1, with -1 being the worst score possible\n",
    "# and 1 being the best score. Silhouette scores of 0 suggest overlapping clusters."
   ]
  },
  {
   "cell_type": "code",
   "execution_count": 94,
   "metadata": {},
   "outputs": [
    {
     "name": "stdout",
     "output_type": "stream",
     "text": [
      "4777\n"
     ]
    }
   ],
   "source": [
    "kounter = 0\n",
    "for i in range(len(labels_4)):\n",
    "    if labels_4[i] == -1:\n",
    "        kounter = kounter + 1\n",
    "print(kounter)"
   ]
  },
  {
   "cell_type": "code",
   "execution_count": null,
   "metadata": {},
   "outputs": [],
   "source": []
  }
 ],
 "metadata": {
  "kernelspec": {
   "display_name": "Python 3",
   "language": "python",
   "name": "python3"
  },
  "language_info": {
   "codemirror_mode": {
    "name": "ipython",
    "version": 3
   },
   "file_extension": ".py",
   "mimetype": "text/x-python",
   "name": "python",
   "nbconvert_exporter": "python",
   "pygments_lexer": "ipython3",
   "version": "3.5.2+"
  }
 },
 "nbformat": 4,
 "nbformat_minor": 2
}
